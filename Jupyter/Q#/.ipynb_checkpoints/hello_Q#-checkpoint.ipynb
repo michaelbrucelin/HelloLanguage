{
 "cells": [
  {
   "cell_type": "code",
   "execution_count": 6,
   "id": "69f87adb-92e7-485f-a354-b91a538e50cb",
   "metadata": {},
   "outputs": [
    {
     "name": "stderr",
     "output_type": "stream",
     "text": [
      "\n",
      "Error QS4004: \n",
      "File: /snippet_.qs \n",
      "Position: [ln 9, cn 1] \n",
      "Statements can only occur within a callable or specialization declaration.\n"
     ]
    }
   ],
   "source": [
    "open Microsoft.Quantum.Canon;\n",
    "open Microsoft.Quantum.Intrinsic;\n",
    "\n",
    "@EntryPoint()\n",
    "operation HelloQ() : Unit {\n",
    "    Message(\"Hello quantum world!\");\n",
    "}"
   ]
  },
  {
   "cell_type": "code",
   "execution_count": 4,
   "id": "827530b9-ac16-4694-92be-cc3a6ca0329e",
   "metadata": {},
   "outputs": [
    {
     "data": {
      "application/x-qsharp-data": "[\"SetQubitState\"]",
      "text/html": [
       "<ul><li>SetQubitState</li></ul>"
      ],
      "text/plain": [
       "SetQubitState"
      ]
     },
     "execution_count": 4,
     "metadata": {},
     "output_type": "execute_result"
    }
   ],
   "source": [
    "open Microsoft.Quantum.Intrinsic;\n",
    "open Microsoft.Quantum.Canon;\n",
    "\n",
    "operation SetQubitState(desired : Result, q1 : Qubit) : Unit {\n",
    "    if desired != M(q1) {\n",
    "        X(q1);\n",
    "    }\n",
    "}"
   ]
  },
  {
   "cell_type": "code",
   "execution_count": null,
   "id": "7871a40a-6da9-4f99-a72d-f109f69a9ed9",
   "metadata": {},
   "outputs": [],
   "source": []
  }
 ],
 "metadata": {
  "kernelspec": {
   "display_name": "Q#",
   "language": "qsharp",
   "name": "iqsharp"
  },
  "language_info": {
   "file_extension": ".qs",
   "mimetype": "text/x-qsharp",
   "name": "qsharp",
   "version": "0.14"
  }
 },
 "nbformat": 4,
 "nbformat_minor": 5
}
