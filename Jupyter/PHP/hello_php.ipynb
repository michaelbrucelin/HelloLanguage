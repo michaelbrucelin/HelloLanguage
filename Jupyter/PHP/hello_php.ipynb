{
 "cells": [
  {
   "cell_type": "code",
   "execution_count": null,
   "id": "58946e47-a887-4aa6-a7d9-6b2021750cdb",
   "metadata": {},
   "outputs": [],
   "source": [
    "echo \"Hello World!\";"
   ]
  },
  {
   "cell_type": "code",
   "execution_count": null,
   "id": "2cef5504-ec6b-40b5-98aa-274f6ff38fb6",
   "metadata": {},
   "outputs": [],
   "source": [
    "echo phpinfo();"
   ]
  },
  {
   "cell_type": "code",
   "execution_count": null,
   "id": "47a38fae-1225-4f60-9f6c-0eadabb67d9e",
   "metadata": {},
   "outputs": [],
   "source": [
    "<!DOCTYPE html>\n",
    "<body>\n",
    "<?php\n",
    "  echo \"Hello World!\";\n",
    "  echo phpinfo();\n",
    "?>\n",
    "</body>\n",
    "</html>"
   ]
  }
 ],
 "metadata": {
  "kernelspec": {
   "display_name": "PHP",
   "language": "php",
   "name": "php"
  },
  "language_info": {
   "name": ""
  }
 },
 "nbformat": 4,
 "nbformat_minor": 5
}
