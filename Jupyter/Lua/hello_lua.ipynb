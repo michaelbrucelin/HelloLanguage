{
 "cells": [
  {
   "cell_type": "code",
   "execution_count": 1,
   "id": "2024551d-44ce-48a8-aa53-848e97d86a16",
   "metadata": {},
   "outputs": [
    {
     "name": "stdout",
     "output_type": "stream",
     "text": [
      "Hello World!\n"
     ]
    }
   ],
   "source": [
    "print(\"Hello World!\")"
   ]
  },
  {
   "cell_type": "code",
   "execution_count": null,
   "id": "a732653c-1ef5-4da0-b679-57be9856d9ee",
   "metadata": {},
   "outputs": [],
   "source": []
  }
 ],
 "metadata": {
  "kernelspec": {
   "display_name": "Lua",
   "language": "lua",
   "name": "lua"
  },
  "language_info": {
   "file_extension": ".lua",
   "mimetype": "text/x-lua",
   "name": "lua",
   "version": "n/a"
  }
 },
 "nbformat": 4,
 "nbformat_minor": 5
}
