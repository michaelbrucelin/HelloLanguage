{
 "cells": [
  {
   "cell_type": "code",
   "execution_count": 2,
   "id": "af1667b9-bb2a-42db-b007-881ed20deced",
   "metadata": {},
   "outputs": [],
   "source": [
    "import numpy as np"
   ]
  },
  {
   "cell_type": "code",
   "execution_count": 39,
   "id": "4b74d2a7-5d06-4a37-b7a4-7c6c3a2eb3e7",
   "metadata": {},
   "outputs": [],
   "source": [
    "# 希尔排序的特定增量序列 L 的实现\n",
    "def shell_sort_customize(arr, L):\n",
    "    for i in range(len(L)):\n",
    "        if(L[0] > len(arr)):\n",
    "            arr.pop(0)\n",
    "        else:\n",
    "            break\n",
    "\n",
    "    for gap in L:\n",
    "        print(gap)\n",
    "        print(list(range(0, min(gap, len(arr)-gap))))\n",
    "        for i in range(0, min(gap, len(arr)-gap)):\n",
    "            print(list(range(i+gap, len(arr), gap)))\n",
    "            for j in range(i+gap, len(arr), gap):\n",
    "                pass"
   ]
  },
  {
   "cell_type": "code",
   "execution_count": 40,
   "id": "176fe726-9aa7-4f74-b6b1-8e540afa9dfa",
   "metadata": {},
   "outputs": [
    {
     "name": "stdout",
     "output_type": "stream",
     "text": [
      "13\n",
      "[0, 1, 2, 3, 4, 5, 6, 7, 8, 9, 10, 11, 12]\n",
      "[13, 26, 39, 52]\n",
      "[14, 27, 40, 53]\n",
      "[15, 28, 41, 54]\n",
      "[16, 29, 42, 55]\n",
      "[17, 30, 43, 56]\n",
      "[18, 31, 44, 57]\n",
      "[19, 32, 45, 58]\n",
      "[20, 33, 46, 59]\n",
      "[21, 34, 47, 60]\n",
      "[22, 35, 48, 61]\n",
      "[23, 36, 49, 62]\n",
      "[24, 37, 50, 63]\n",
      "[25, 38, 51]\n",
      "4\n",
      "[0, 1, 2, 3]\n",
      "[4, 8, 12, 16, 20, 24, 28, 32, 36, 40, 44, 48, 52, 56, 60]\n",
      "[5, 9, 13, 17, 21, 25, 29, 33, 37, 41, 45, 49, 53, 57, 61]\n",
      "[6, 10, 14, 18, 22, 26, 30, 34, 38, 42, 46, 50, 54, 58, 62]\n",
      "[7, 11, 15, 19, 23, 27, 31, 35, 39, 43, 47, 51, 55, 59, 63]\n",
      "1\n",
      "[0]\n",
      "[1, 2, 3, 4, 5, 6, 7, 8, 9, 10, 11, 12, 13, 14, 15, 16, 17, 18, 19, 20, 21, 22, 23, 24, 25, 26, 27, 28, 29, 30, 31, 32, 33, 34, 35, 36, 37, 38, 39, 40, 41, 42, 43, 44, 45, 46, 47, 48, 49, 50, 51, 52, 53, 54, 55, 56, 57, 58, 59, 60, 61, 62, 63]\n",
      "None\n"
     ]
    }
   ],
   "source": [
    "np.random.seed(0)\n",
    "arr = np.random.randint(0, 100, 64)\n",
    "\n",
    "arr = shell_sort_customize(arr, L=[13, 4, 1])  # 使用Knuth序列\n",
    "print(arr)"
   ]
  },
  {
   "cell_type": "code",
   "execution_count": 30,
   "id": "9e90a30d-4372-48e4-8909-98f149c3be9e",
   "metadata": {},
   "outputs": [
    {
     "name": "stdout",
     "output_type": "stream",
     "text": [
      "[12, 25, 38, 51]\n"
     ]
    }
   ],
   "source": [
    "print(list(range(12, 64+2-13, 13)))"
   ]
  },
  {
   "cell_type": "code",
   "execution_count": null,
   "id": "36fae56c-20a8-4fce-883d-e395d4f4d82f",
   "metadata": {},
   "outputs": [],
   "source": []
  }
 ],
 "metadata": {
  "kernelspec": {
   "display_name": "Python 3 (ipykernel)",
   "language": "python",
   "name": "python3"
  },
  "language_info": {
   "codemirror_mode": {
    "name": "ipython",
    "version": 3
   },
   "file_extension": ".py",
   "mimetype": "text/x-python",
   "name": "python",
   "nbconvert_exporter": "python",
   "pygments_lexer": "ipython3",
   "version": "3.7.3"
  }
 },
 "nbformat": 4,
 "nbformat_minor": 5
}
