{
 "cells": [
  {
   "cell_type": "markdown",
   "id": "fa539436-94d0-49c8-b0ed-8514f51526f0",
   "metadata": {},
   "source": [
    "# 排序算法-Python实现"
   ]
  },
  {
   "cell_type": "code",
   "execution_count": 1,
   "id": "8115e655-553a-49d8-a736-1572c7b1c698",
   "metadata": {},
   "outputs": [],
   "source": [
    "import numpy as np"
   ]
  },
  {
   "cell_type": "markdown",
   "id": "f5be4cad-a67c-4b43-8590-2476e63c57a2",
   "metadata": {
    "tags": []
   },
   "source": [
    "## 1. 冒泡排序"
   ]
  },
  {
   "cell_type": "markdown",
   "id": "9ee8db66-ab07-43f1-8468-e101ced1f456",
   "metadata": {},
   "source": [
    "**冒泡排序（Bubble Sort）是一种交换排序，它的基本思想是：两两比较相邻记录的关键字，如果反序则交换，直到没有反序的记录为止。**\n",
    "\n",
    "- 比较相邻的元素。如果第一个比第二个大（小），就交换他们两个；\n",
    "- 对每一对相邻元素作同样的工作，从开始第一对到结尾的最后一对。这步做完后，最后的元素会是最大（小）的数；\n",
    "- 针对所有的元素重复以上的步骤，除了最后一个；\n",
    "- 持续每次对越来越少的元素重复上面的步骤，直到没有任何一对数字需要比较；"
   ]
  },
  {
   "cell_type": "code",
   "execution_count": 2,
   "id": "bf857684-7cd1-45fd-a418-795d0b5486cb",
   "metadata": {},
   "outputs": [],
   "source": [
    "def bubble_sort(arr):\n",
    "    for i in range(len(arr)-1, 0, -1):\n",
    "        for j in range(i):\n",
    "            if(arr[j] > arr[j+1]):\n",
    "                arr[j], arr[j+1] = arr[j+1], arr[j]\n",
    "    return arr"
   ]
  },
  {
   "cell_type": "code",
   "execution_count": 3,
   "id": "262ccf47-55c7-4c4e-b874-4e7ef1c591fa",
   "metadata": {},
   "outputs": [
    {
     "name": "stdout",
     "output_type": "stream",
     "text": [
      "[44 47 64 67 67  9 83 21 36 87 70 88 88 12 58 65 39 87 46 88 81 37 25 77\n",
      " 72  9 20 80 69 79 47 64 82 99 88 49 29 19 19 14 39 32 65  9 57 32 31 74\n",
      " 23 35 75 55 28 34  0  0 36 53  5 38 17 79  4 42]\n",
      "[ 0  0  4  5  9  9  9 12 14 17 19 19 20 21 23 25 28 29 31 32 32 34 35 36\n",
      " 36 37 38 39 39 42 44 46 47 47 49 53 55 57 58 64 64 65 65 67 67 69 70 72\n",
      " 74 75 77 79 79 80 81 82 83 87 87 88 88 88 88 99]\n"
     ]
    }
   ],
   "source": [
    "np.random.seed(0)\n",
    "arr = np.random.randint(0, 100, 64)\n",
    "print(arr)\n",
    "\n",
    "arr = bubble_sort(arr)\n",
    "print(arr)"
   ]
  },
  {
   "cell_type": "markdown",
   "id": "7a71dd8c-d846-4f76-a013-de1933030625",
   "metadata": {},
   "source": [
    "**冒泡排序的优化：**避免不必要的比较。"
   ]
  },
  {
   "cell_type": "code",
   "execution_count": 4,
   "id": "595bca95-74be-446b-8ae2-c58224ba8a84",
   "metadata": {},
   "outputs": [],
   "source": [
    "def bubble_sort2(arr):\n",
    "    flag = True\n",
    "    for i in range(len(arr)-1, 0, -1):\n",
    "        if(flag):\n",
    "            flag = False\n",
    "            for j in range(i):\n",
    "                if(arr[j] > arr[j+1]):\n",
    "                    arr[j], arr[j+1] = arr[j+1], arr[j]\n",
    "                    flag = True\n",
    "    return arr"
   ]
  },
  {
   "cell_type": "code",
   "execution_count": 5,
   "id": "585c117b-5df7-481b-a2aa-cf7a5d4ee904",
   "metadata": {},
   "outputs": [
    {
     "name": "stdout",
     "output_type": "stream",
     "text": [
      "[44 47 64 67 67  9 83 21 36 87 70 88 88 12 58 65 39 87 46 88 81 37 25 77\n",
      " 72  9 20 80 69 79 47 64 82 99 88 49 29 19 19 14 39 32 65  9 57 32 31 74\n",
      " 23 35 75 55 28 34  0  0 36 53  5 38 17 79  4 42]\n",
      "[ 0  0  4  5  9  9  9 12 14 17 19 19 20 21 23 25 28 29 31 32 32 34 35 36\n",
      " 36 37 38 39 39 42 44 46 47 47 49 53 55 57 58 64 64 65 65 67 67 69 70 72\n",
      " 74 75 77 79 79 80 81 82 83 87 87 88 88 88 88 99]\n"
     ]
    }
   ],
   "source": [
    "np.random.seed(0)\n",
    "arr = np.random.randint(0, 100, 64)\n",
    "print(arr)\n",
    "\n",
    "arr = bubble_sort2(arr)\n",
    "print(arr)"
   ]
  },
  {
   "cell_type": "markdown",
   "id": "b4b9048d-eec8-4ad8-84ef-166ab8faae18",
   "metadata": {},
   "source": [
    "## 2. 选择排序"
   ]
  },
  {
   "cell_type": "markdown",
   "id": "9bab30a1-307a-45a4-9587-fd957e10d740",
   "metadata": {},
   "source": [
    "**选择排序又称作简单选择排序（Simple Selection Sort）就是通过 n-i 次关键字之间的比较，从 n-i+1 个记录中选出关键字最小的记录，并和第 i（1⩽i⩽n）个记录交换。**  \n",
    "选择排序的性能要略优于冒泡排序。  \n",
    "\n",
    "- 首先在未排序序列中找到最小（大）元素，存放到排序序列的起始位置；\n",
    "- 再从剩余未排序元素中继续寻找最小（大）元素，然后放到已排序序列的末尾；\n",
    "- 重复第二步，直到所有元素均排序完毕；"
   ]
  },
  {
   "cell_type": "code",
   "execution_count": 6,
   "id": "e56ca6a1-39d8-4f36-bd7b-4ac195c566dd",
   "metadata": {},
   "outputs": [],
   "source": [
    "def selection_sort(arr):\n",
    "    for i in range(len(arr)):\n",
    "        minindex = i\n",
    "        for j in range(i+1, len(arr)):\n",
    "            if(arr[minindex] > arr[j]):\n",
    "                minindex = j\n",
    "        if(minindex != i):\n",
    "            arr[i], arr[minindex] = arr[minindex], arr[i]\n",
    "    return arr"
   ]
  },
  {
   "cell_type": "code",
   "execution_count": 7,
   "id": "b57fa766-2938-4430-b62c-36863d146051",
   "metadata": {},
   "outputs": [
    {
     "name": "stdout",
     "output_type": "stream",
     "text": [
      "[44 47 64 67 67  9 83 21 36 87 70 88 88 12 58 65 39 87 46 88 81 37 25 77\n",
      " 72  9 20 80 69 79 47 64 82 99 88 49 29 19 19 14 39 32 65  9 57 32 31 74\n",
      " 23 35 75 55 28 34  0  0 36 53  5 38 17 79  4 42]\n",
      "[ 0  0  4  5  9  9  9 12 14 17 19 19 20 21 23 25 28 29 31 32 32 34 35 36\n",
      " 36 37 38 39 39 42 44 46 47 47 49 53 55 57 58 64 64 65 65 67 67 69 70 72\n",
      " 74 75 77 79 79 80 81 82 83 87 87 88 88 88 88 99]\n"
     ]
    }
   ],
   "source": [
    "np.random.seed(0)\n",
    "arr = np.random.randint(0, 100, 64)\n",
    "print(arr)\n",
    "\n",
    "arr = selection_sort(arr)\n",
    "print(arr)"
   ]
  },
  {
   "cell_type": "markdown",
   "id": "9b9b80e4-7376-4918-a093-7da7a1339214",
   "metadata": {},
   "source": [
    "## 3. 插入排序"
   ]
  },
  {
   "cell_type": "markdown",
   "id": "9e8629d2-18f5-444c-b76b-2251647637cf",
   "metadata": {},
   "source": [
    "**插入排序又称作直接插入排序（Straight Insertion Sort）的基本操作是将一个记录插入到已排好序的有序列表中，从而得到一个新的、记录数增加1的有序表。**  \n",
    "插入排序的性能要略优于选择排序。\n",
    "\n",
    "- 将待排序序列的第一个元素看做一个有序序列，将第二个元素到最后一个元素当成是未排序序列；\n",
    "- 从头到尾依次扫描未排序序列，将扫描到的每个元素插入有序序列的适当位置；\n",
    "    - 如果待插入的元素与有序序列中的某个元素相等，则将待插入元素插入到相等元素的后面；"
   ]
  },
  {
   "cell_type": "code",
   "execution_count": 8,
   "id": "2b91b65f-f7c3-4952-8989-c7ddeabfa5bb",
   "metadata": {},
   "outputs": [],
   "source": [
    "def insertion_sort(arr):\n",
    "    for i in range(1, len(arr)):\n",
    "        for j in range(i, 0, -1):\n",
    "            if(arr[j] < arr[j-1]):  # 可以使用二分法快速定位，可以减少比较次数，但是对移动的次数没有帮助\n",
    "                arr[j], arr[j-1] = arr[j-1], arr[j]\n",
    "            else:\n",
    "                break\n",
    "    return arr"
   ]
  },
  {
   "cell_type": "code",
   "execution_count": 9,
   "id": "592d5cf4-3eac-4de6-897d-50c2efc0eff2",
   "metadata": {},
   "outputs": [
    {
     "name": "stdout",
     "output_type": "stream",
     "text": [
      "[44 47 64 67 67  9 83 21 36 87 70 88 88 12 58 65 39 87 46 88 81 37 25 77\n",
      " 72  9 20 80 69 79 47 64 82 99 88 49 29 19 19 14 39 32 65  9 57 32 31 74\n",
      " 23 35 75 55 28 34  0  0 36 53  5 38 17 79  4 42]\n",
      "[ 0  0  4  5  9  9  9 12 14 17 19 19 20 21 23 25 28 29 31 32 32 34 35 36\n",
      " 36 37 38 39 39 42 44 46 47 47 49 53 55 57 58 64 64 65 65 67 67 69 70 72\n",
      " 74 75 77 79 79 80 81 82 83 87 87 88 88 88 88 99]\n"
     ]
    }
   ],
   "source": [
    "np.random.seed(0)\n",
    "arr = np.random.randint(0, 100, 64)\n",
    "print(arr)\n",
    "\n",
    "arr = insertion_sort(arr)\n",
    "print(arr)"
   ]
  },
  {
   "cell_type": "markdown",
   "id": "15761ad4-81de-4463-8d1f-794d3d91e23d",
   "metadata": {},
   "source": [
    "## 4. 希尔排序"
   ]
  },
  {
   "cell_type": "markdown",
   "id": "9deffc60-76ae-42ed-ba63-6762ec07674f",
   "metadata": {},
   "source": [
    "**希尔排序(Shell Sort)是插入排序的一种，又称缩小增量排序，它是针对直接插入排序算法的改进。它通过比较相距一定间隔的元素来进行，各趟比较所用的距离随着算法的进行而减小，直到只比较相邻元素的最后一趟排序为止。**  \n",
    "希尔排序是把记录按下标的一定增量分组，对每组使用直接插入排序算法排序；随着增量逐渐减少，每组包含的关键词越来越多，当增量减至 1 时，整个文件恰被分成一组，算法便终止。\n",
    "\n",
    "- 选择一个增量序列 t1，t2，...，tk，其中 ti > tj(j=i+1)，tk = 1；\n",
    "- 按增量序列个数 k，对序列进行 k 趟排序；\n",
    "    - 每趟排序，根据对应的增量 ti，将待排序列分割成若干长度为 m 的子序列，分别对各子表进行直接插入排序；\n",
    "- 仅增量因子为 1 时，整个序列作为一个表来处理，表长度即为整个序列的长度；"
   ]
  },
  {
   "cell_type": "code",
   "execution_count": 10,
   "id": "bee56596-a98a-4b53-a26c-405a9b4b4869",
   "metadata": {},
   "outputs": [],
   "source": [
    "# 希尔排序的特定增量序列 L 的实现\n",
    "def shell_sort_customize(arr, L):\n",
    "    for i in range(len(L)):  # 移除增量大于数组长度的增量值\n",
    "        if(L[0] > len(arr)):\n",
    "            arr.pop(0)\n",
    "        else:\n",
    "            break\n",
    "\n",
    "    for gap in L:            # 每一个增量对应了一组子数组，对每一个子数组都要做插入排序\n",
    "        for start in range(0, min(gap, len(arr)-gap-1)):  # 每一个子数组的第一个元素\n",
    "            for i in range(start+gap, len(arr), gap):     # 每一个子数组都做插入排序\n",
    "                for j in range(i, gap-1, -gap):\n",
    "                    if(arr[j] < arr[j-gap]):\n",
    "                        arr[j], arr[j-gap] = arr[j-gap], arr[j]\n",
    "                    else:\n",
    "                        break\n",
    "    return arr"
   ]
  },
  {
   "cell_type": "code",
   "execution_count": 11,
   "id": "f57e0b45-d73b-4d2e-a13d-06c39010ede8",
   "metadata": {},
   "outputs": [
    {
     "name": "stdout",
     "output_type": "stream",
     "text": [
      "[44 47 64 67 67  9 83 21 36 87 70 88 88 12 58 65 39 87 46 88 81 37 25 77\n",
      " 72  9 20 80 69 79 47 64 82 99 88 49 29 19 19 14 39 32 65  9 57 32 31 74\n",
      " 23 35 75 55 28 34  0  0 36 53  5 38 17 79  4 42]\n",
      "[ 0  0  4  5  9  9  9 12 14 17 19 19 20 21 23 25 28 29 31 32 32 34 35 36\n",
      " 36 37 38 39 39 42 44 46 47 47 49 53 55 57 58 64 64 65 65 67 67 69 70 72\n",
      " 74 75 77 79 79 80 81 82 83 87 87 88 88 88 88 99]\n"
     ]
    }
   ],
   "source": [
    "np.random.seed(0)\n",
    "arr = np.random.randint(0, 100, 64)\n",
    "print(arr)\n",
    "\n",
    "arr = shell_sort_customize(arr, L=[40, 13, 4, 1])  # 使用Knuth序列\n",
    "print(arr)"
   ]
  },
  {
   "cell_type": "code",
   "execution_count": 12,
   "id": "891eb78e-fa4d-4e31-bf28-ffa29c954cc1",
   "metadata": {},
   "outputs": [],
   "source": [
    "# 希尔排序的特定增量序列 L 的实现，减少一层循环\n",
    "def shell_sort_customize2(arr, L):\n",
    "    for i in range(len(L)):  # 移除增量大于数组长度的增量值\n",
    "        if(L[0] > len(arr)):\n",
    "            arr.pop(0)\n",
    "        else:\n",
    "            break\n",
    "\n",
    "    for gap in L:            # 每一个增量对应了一组子数组，这一组子数组由于步长一致，可以一次性统一做插入排序\n",
    "        for i in range(0, len(arr)-gap):\n",
    "            for j in range(i+gap, gap-1, -gap):\n",
    "                if(arr[j] < arr[j-gap]):\n",
    "                    arr[j], arr[j-gap] = arr[j-gap], arr[j]\n",
    "                else:\n",
    "                    break\n",
    "    return arr"
   ]
  },
  {
   "cell_type": "code",
   "execution_count": 13,
   "id": "90c57219-6c18-42c2-8b86-93ee27597f74",
   "metadata": {},
   "outputs": [
    {
     "name": "stdout",
     "output_type": "stream",
     "text": [
      "[44 47 64 67 67  9 83 21 36 87 70 88 88 12 58 65 39 87 46 88 81 37 25 77\n",
      " 72  9 20 80 69 79 47 64 82 99 88 49 29 19 19 14 39 32 65  9 57 32 31 74\n",
      " 23 35 75 55 28 34  0  0 36 53  5 38 17 79  4 42]\n",
      "[ 0  0  4  5  9  9  9 12 14 17 19 19 20 21 23 25 28 29 31 32 32 34 35 36\n",
      " 36 37 38 39 39 42 44 46 47 47 49 53 55 57 58 64 64 65 65 67 67 69 70 72\n",
      " 74 75 77 79 79 80 81 82 83 87 87 88 88 88 88 99]\n"
     ]
    }
   ],
   "source": [
    "np.random.seed(0)\n",
    "arr = np.random.randint(0, 100, 64)\n",
    "print(arr)\n",
    "\n",
    "arr = shell_sort_customize2(arr, L=[40, 13, 4, 1])  # 使用Knuth序列\n",
    "print(arr)"
   ]
  },
  {
   "cell_type": "code",
   "execution_count": 14,
   "id": "efd1a44c-eed2-4c90-8220-11c256e0f368",
   "metadata": {},
   "outputs": [],
   "source": [
    "# 希尔排序使用Knuth序列实现\n",
    "def shell_sort_knuth(arr):\n",
    "    L, n = [], 0\n",
    "    while(3*n+1 <= len(arr)):\n",
    "        L.insert(0, 3*n+1)\n",
    "        n = 3*n+1\n",
    "    return shell_sort_customize2(arr, L)"
   ]
  },
  {
   "cell_type": "code",
   "execution_count": 15,
   "id": "4e7b2bde-06b2-4798-bb25-bfcdc6a57623",
   "metadata": {
    "tags": []
   },
   "outputs": [
    {
     "name": "stdout",
     "output_type": "stream",
     "text": [
      "[44 47 64 67 67  9 83 21 36 87 70 88 88 12 58 65 39 87 46 88 81 37 25 77\n",
      " 72  9 20 80 69 79 47 64 82 99 88 49 29 19 19 14 39 32 65  9 57 32 31 74\n",
      " 23 35 75 55 28 34  0  0 36 53  5 38 17 79  4 42]\n",
      "[ 0  0  4  5  9  9  9 12 14 17 19 19 20 21 23 25 28 29 31 32 32 34 35 36\n",
      " 36 37 38 39 39 42 44 46 47 47 49 53 55 57 58 64 64 65 65 67 67 69 70 72\n",
      " 74 75 77 79 79 80 81 82 83 87 87 88 88 88 88 99]\n"
     ]
    }
   ],
   "source": [
    "np.random.seed(0)\n",
    "arr = np.random.randint(0, 100, 64)\n",
    "print(arr)\n",
    "\n",
    "arr = shell_sort_knuth(arr)\n",
    "print(arr)"
   ]
  },
  {
   "cell_type": "markdown",
   "id": "5c56ab52-4c02-4b7e-96a6-3000e170749f",
   "metadata": {},
   "source": [
    "## 5. 堆排序"
   ]
  },
  {
   "cell_type": "markdown",
   "id": "287e1137-d098-4e7b-b760-3d6d13b60b4e",
   "metadata": {},
   "source": [
    "**堆排序（Heap Sort）**就是利用堆（假设利用小顶堆）进行排序的方法。  \n",
    "堆排序可以理解为是对简单选择排序的优化，即在每次选出最小（大）值的同时，将每次比较的结果记录下来（避免了重复比较）并有效利用，有些类似于DP的思想。  \n",
    "它的基本思想是，将待排序的序列构造成一个小顶堆。此时，整个序列的最小值就是对顶的根结点。将它移走（其实就是将其与堆数组的末尾元素交换，此时末尾元素就是最小值），然后将剩余的 n-1 个序列重新构造成一个堆，这样就会得到 n 个元素中的次小值。如此反复执行，遍能得到一个有序序列了。\n",
    "\n",
    "- 创建一个堆 H[0...n-1]；\n",
    "- 把堆首（最小值）和堆尾互换；\n",
    "- 把堆的尺寸缩小 1，并调用 shift_down(0)，目的是把新的数组顶端数据调整到相应位置；\n",
    "- 重复步骤 2，直到堆的尺寸为 1；"
   ]
  },
  {
   "cell_type": "code",
   "execution_count": null,
   "id": "4e42aeef-38f0-4f75-aed7-699fed96118a",
   "metadata": {},
   "outputs": [],
   "source": []
  },
  {
   "cell_type": "markdown",
   "id": "75ae25f1-2fa3-468c-a63c-a9c70b1ed9cc",
   "metadata": {},
   "source": [
    "## 6. 归并排序"
   ]
  },
  {
   "cell_type": "markdown",
   "id": "ee7506fc-8772-4e80-beb5-4b199e9dabee",
   "metadata": {},
   "source": [
    "**归并排序（Merging Sort）**就是利用归并思想实现的排序方法。  \n",
    "它的原理是假设初始序列有 n 个记录，则可以看成是 n 个有序的子序列，每个子序列的长度为 1，然后两两归并，得到 ⌈n/2⌉（⌈x⌉表示不小于 x 的最小整数）个长度为 2 或 1 的有序子序列；再两两归并，... ...，如此重复，直到得到一个长度为 n 的有序序列为止，这种排序方法称为2路归并排序。  \n",
    "堆排序充分利用了完全二叉树的深度 ⌊log<sub>2</sub><sup>n</sup>⌋+1 的特性，所以效率比较高。不过堆结构的设计本身比较复杂，不容易想，而归并排序就是更直接简单的利用完全二叉树来排序的方法。\n",
    "\n",
    "- 申请空间，使其大小为两个已经排序序列之和，该空间用来存放合并后的序列；\n",
    "- 设定两个指针，最初位置分别为两个已经排序序列的起始位置；\n",
    "- 比较两个指针所指向的元素，选择相对小的元素放入到合并空间，并移动指针到下一位置；\n",
    "- 重复步骤 3 直到某一指针达到序列尾；\n",
    "- 将另一序列剩下的所有元素直接复制到合并序列尾。"
   ]
  },
  {
   "cell_type": "code",
   "execution_count": null,
   "id": "3c828986-1536-44cd-8792-6180455f8192",
   "metadata": {},
   "outputs": [],
   "source": []
  },
  {
   "cell_type": "markdown",
   "id": "b686f4bb-1b24-4737-a1ff-f8865eb86f86",
   "metadata": {},
   "source": [
    "## 7. 快速排序"
   ]
  },
  {
   "cell_type": "markdown",
   "id": "a1d1eeeb-b3a0-4d38-adb3-3a866e03756a",
   "metadata": {
    "tags": []
   },
   "source": [
    "**快速排序（Quick Sort）**的基本思想是：通过一趟排序将待排记录分割成独立的两部分，其中一部分记录的关键字均比另一部分记录的关键字小，则可分别对这两部分记录继续进行排序，以达到整个序列有序的目的。  \n",
    "希尔排序相当于直接插入排序的升级，它们同属于插入排序类；  \n",
    "堆排序相当于简单选择排序的升级，它们同属于选择排序类；  \n",
    "而快速排序是我们认为最慢的冒泡排序的升级，它们都属于交换排序类；  \n",
    "即它也是通过不断比较和移动交换来实现排序的，只不过它的实现，增大了记录的比较和移动的距离，将关键字较大的记录从前面直接移动到后面，关键字较小的记录从后面直接移动到前面，从而减少了总的比较次数和移动交换次数。\n",
    "\n",
    "- 从数列中挑出一个元素，称为 “基准”（pivot）;\n",
    "- 重新排序数列，所有元素比基准值小的摆放在基准前面，所有元素比基准值大的摆在基准的后面（相同的数可以到任一边）。在这个分区退出之后，该基准就处于数列的中间位置。这个称为分区（partition）操作；\n",
    "- 递归地（recursive）把小于基准值元素的子数列和大于基准值元素的子数列排序；"
   ]
  },
  {
   "cell_type": "code",
   "execution_count": null,
   "id": "792c0354-927d-4316-a8f4-a6246b65a176",
   "metadata": {},
   "outputs": [],
   "source": []
  },
  {
   "cell_type": "markdown",
   "id": "c7f8af77-9e3a-4593-8f57-c3ff74d6c31a",
   "metadata": {},
   "source": [
    "## n. 性能比较"
   ]
  },
  {
   "cell_type": "code",
   "execution_count": 16,
   "id": "edaeb4e1-39c9-4aa9-b419-c0a14692c233",
   "metadata": {},
   "outputs": [
    {
     "data": {
      "text/plain": [
       "<matplotlib.legend.Legend at 0x7fe2c8891240>"
      ]
     },
     "execution_count": 16,
     "metadata": {},
     "output_type": "execute_result"
    },
    {
     "data": {
      "image/png": "[encoded data removed]",
      "text/plain": [
       "<Figure size 432x288 with 1 Axes>"
      ]
     },
     "metadata": {
      "needs_background": "light"
     },
     "output_type": "display_data"
    }
   ],
   "source": [
    "%matplotlib inline\n",
    "import matplotlib.pyplot as plt\n",
    "import time\n",
    "\n",
    "l_bubble_sort2, l_selection_sort, l_insertion_sort, l_shell_sort_knuth = [], [], [], []\n",
    "sort_funcs = [bubble_sort2, selection_sort, insertion_sort, shell_sort_knuth]\n",
    "sort_times = [l_bubble_sort2, l_selection_sort, l_insertion_sort, l_shell_sort_knuth]\n",
    "sort_labels = ['bubble', 'selection', 'insertion', 'shell_knuth']\n",
    "\n",
    "for func, l_time in zip(sort_funcs, sort_times):\n",
    "    for i in range(5):\n",
    "        np.random.seed(0)\n",
    "        arr = np.random.randint(0, 10**i, 10**i)\n",
    "        t1 = time.time()\n",
    "        func(arr)\n",
    "        t2 = time.time()\n",
    "        l_time.append(t2-t1)\n",
    "        \n",
    "for l_time, label in zip(sort_times, sort_labels):\n",
    "    plt.plot(l_time, label=label)\n",
    "plt.legend()"
   ]
  },
  {
   "cell_type": "code",
   "execution_count": null,
   "id": "0037f5ec-322a-45aa-a097-101cb296c34f",
   "metadata": {},
   "outputs": [],
   "source": []
  }
 ],
 "metadata": {
  "kernelspec": {
   "display_name": "Python 3 (ipykernel)",
   "language": "python",
   "name": "python3"
  },
  "language_info": {
   "codemirror_mode": {
    "name": "ipython",
    "version": 3
   },
   "file_extension": ".py",
   "mimetype": "text/x-python",
   "name": "python",
   "nbconvert_exporter": "python",
   "pygments_lexer": "ipython3",
   "version": "3.7.3"
  }
 },
 "nbformat": 4,
 "nbformat_minor": 5
}
