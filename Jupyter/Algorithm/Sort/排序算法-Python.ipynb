{
 "cells": [
  {
   "cell_type": "markdown",
   "id": "fa539436-94d0-49c8-b0ed-8514f51526f0",
   "metadata": {},
   "source": [
    "# 排序算法-Python实现"
   ]
  },
  {
   "cell_type": "code",
   "execution_count": 1,
   "id": "8115e655-553a-49d8-a736-1572c7b1c698",
   "metadata": {},
   "outputs": [],
   "source": [
    "import numpy as np"
   ]
  },
  {
   "cell_type": "markdown",
   "id": "f5be4cad-a67c-4b43-8590-2476e63c57a2",
   "metadata": {
    "tags": []
   },
   "source": [
    "## 1. 冒泡排序"
   ]
  },
  {
   "cell_type": "markdown",
   "id": "9ee8db66-ab07-43f1-8468-e101ced1f456",
   "metadata": {},
   "source": [
    "**冒泡排序（Bubble Sort）是一种交换排序，它的基本思想是：两两比较相邻记录的关键字，如果反序则交换，直到没有反序的记录为止。**\n",
    "\n",
    "- 比较相邻的元素。如果第一个比第二个大（小），就交换他们两个；\n",
    "- 对每一对相邻元素作同样的工作，从开始第一对到结尾的最后一对。这步做完后，最后的元素会是最大（小）的数；\n",
    "- 针对所有的元素重复以上的步骤，除了最后一个；\n",
    "- 持续每次对越来越少的元素重复上面的步骤，直到没有任何一对数字需要比较；"
   ]
  },
  {
   "cell_type": "code",
   "execution_count": 2,
   "id": "bf857684-7cd1-45fd-a418-795d0b5486cb",
   "metadata": {},
   "outputs": [],
   "source": [
    "def bubble_sort(arr):\n",
    "    for i in range(len(arr)-1, 0, -1):\n",
    "        for j in range(i):\n",
    "            if(arr[j] > arr[j+1]):\n",
    "                arr[j], arr[j+1] = arr[j+1], arr[j]\n",
    "    return arr"
   ]
  },
  {
   "cell_type": "code",
   "execution_count": 3,
   "id": "262ccf47-55c7-4c4e-b874-4e7ef1c591fa",
   "metadata": {},
   "outputs": [
    {
     "name": "stdout",
     "output_type": "stream",
     "text": [
      "[44 47 64 67 67  9 83 21 36 87 70 88 88 12 58 65 39 87 46 88 81 37 25 77\n",
      " 72  9 20 80 69 79 47 64 82 99 88 49 29 19 19 14 39 32 65  9 57 32 31 74\n",
      " 23 35 75 55 28 34  0  0 36 53  5 38 17 79  4 42]\n",
      "[ 0  0  4  5  9  9  9 12 14 17 19 19 20 21 23 25 28 29 31 32 32 34 35 36\n",
      " 36 37 38 39 39 42 44 46 47 47 49 53 55 57 58 64 64 65 65 67 67 69 70 72\n",
      " 74 75 77 79 79 80 81 82 83 87 87 88 88 88 88 99]\n"
     ]
    }
   ],
   "source": [
    "np.random.seed(0)\n",
    "arr = np.random.randint(0, 100, 64)\n",
    "print(arr)\n",
    "\n",
    "arr = bubble_sort(arr)\n",
    "print(arr)"
   ]
  },
  {
   "cell_type": "markdown",
   "id": "7a71dd8c-d846-4f76-a013-de1933030625",
   "metadata": {},
   "source": [
    "**冒泡排序的优化：**避免不必要的比较。"
   ]
  },
  {
   "cell_type": "code",
   "execution_count": 4,
   "id": "595bca95-74be-446b-8ae2-c58224ba8a84",
   "metadata": {},
   "outputs": [],
   "source": [
    "def bubble_sort2(arr):\n",
    "    flag = True\n",
    "    for i in range(len(arr)-1, 0, -1):\n",
    "        if(flag):\n",
    "            flag = False\n",
    "            for j in range(i):\n",
    "                if(arr[j] > arr[j+1]):\n",
    "                    arr[j], arr[j+1] = arr[j+1], arr[j]\n",
    "                    flag = True\n",
    "    return arr"
   ]
  },
  {
   "cell_type": "code",
   "execution_count": 5,
   "id": "585c117b-5df7-481b-a2aa-cf7a5d4ee904",
   "metadata": {},
   "outputs": [
    {
     "name": "stdout",
     "output_type": "stream",
     "text": [
      "[44 47 64 67 67  9 83 21 36 87 70 88 88 12 58 65 39 87 46 88 81 37 25 77\n",
      " 72  9 20 80 69 79 47 64 82 99 88 49 29 19 19 14 39 32 65  9 57 32 31 74\n",
      " 23 35 75 55 28 34  0  0 36 53  5 38 17 79  4 42]\n",
      "[ 0  0  4  5  9  9  9 12 14 17 19 19 20 21 23 25 28 29 31 32 32 34 35 36\n",
      " 36 37 38 39 39 42 44 46 47 47 49 53 55 57 58 64 64 65 65 67 67 69 70 72\n",
      " 74 75 77 79 79 80 81 82 83 87 87 88 88 88 88 99]\n"
     ]
    }
   ],
   "source": [
    "np.random.seed(0)\n",
    "arr = np.random.randint(0, 100, 64)\n",
    "print(arr)\n",
    "\n",
    "arr = bubble_sort2(arr)\n",
    "print(arr)"
   ]
  },
  {
   "cell_type": "markdown",
   "id": "b4b9048d-eec8-4ad8-84ef-166ab8faae18",
   "metadata": {},
   "source": [
    "## 2. 选择排序"
   ]
  },
  {
   "cell_type": "markdown",
   "id": "9bab30a1-307a-45a4-9587-fd957e10d740",
   "metadata": {},
   "source": [
    "**选择排序又称作简单选择排序（Simple Selection Sort）就是通过 n-i 次关键字之间的比较，从 n-i+1 个记录中选出关键字最小的记录，并和第 i（1⩽i⩽n）个记录交换。**  \n",
    "选择排序的性能要略优于冒泡排序。  \n",
    "\n",
    "- 首先在未排序序列中找到最小（大）元素，存放到排序序列的起始位置；\n",
    "- 再从剩余未排序元素中继续寻找最小（大）元素，然后放到已排序序列的末尾；\n",
    "- 重复第二步，直到所有元素均排序完毕；"
   ]
  },
  {
   "cell_type": "code",
   "execution_count": 6,
   "id": "e56ca6a1-39d8-4f36-bd7b-4ac195c566dd",
   "metadata": {},
   "outputs": [],
   "source": [
    "def selection_sort(arr):\n",
    "    for i in range(len(arr)):\n",
    "        minindex = i\n",
    "        for j in range(i+1, len(arr)):\n",
    "            if(arr[minindex] > arr[j]):\n",
    "                minindex = j\n",
    "        if(minindex != i):\n",
    "            arr[i], arr[minindex] = arr[minindex], arr[i]\n",
    "    return arr"
   ]
  },
  {
   "cell_type": "code",
   "execution_count": 7,
   "id": "b57fa766-2938-4430-b62c-36863d146051",
   "metadata": {},
   "outputs": [
    {
     "name": "stdout",
     "output_type": "stream",
     "text": [
      "[44 47 64 67 67  9 83 21 36 87 70 88 88 12 58 65 39 87 46 88 81 37 25 77\n",
      " 72  9 20 80 69 79 47 64 82 99 88 49 29 19 19 14 39 32 65  9 57 32 31 74\n",
      " 23 35 75 55 28 34  0  0 36 53  5 38 17 79  4 42]\n",
      "[ 0  0  4  5  9  9  9 12 14 17 19 19 20 21 23 25 28 29 31 32 32 34 35 36\n",
      " 36 37 38 39 39 42 44 46 47 47 49 53 55 57 58 64 64 65 65 67 67 69 70 72\n",
      " 74 75 77 79 79 80 81 82 83 87 87 88 88 88 88 99]\n"
     ]
    }
   ],
   "source": [
    "np.random.seed(0)\n",
    "arr = np.random.randint(0, 100, 64)\n",
    "print(arr)\n",
    "\n",
    "arr = selection_sort(arr)\n",
    "print(arr)"
   ]
  },
  {
   "cell_type": "markdown",
   "id": "9b9b80e4-7376-4918-a093-7da7a1339214",
   "metadata": {},
   "source": [
    "## 3. 插入排序"
   ]
  },
  {
   "cell_type": "markdown",
   "id": "9e8629d2-18f5-444c-b76b-2251647637cf",
   "metadata": {},
   "source": [
    "**插入排序又称作直接插入排序（Straight Insertion Sort）的基本操作是将一个记录插入到已排好序的有序列表中，从而得到一个新的、记录数增加1的有序表。**  \n",
    "插入排序的性能要略优于选择排序。\n",
    "\n",
    "- 将待排序序列的第一个元素看做一个有序序列，将第二个元素到最后一个元素当成是未排序序列；\n",
    "- 从头到尾依次扫描未排序序列，将扫描到的每个元素插入有序序列的适当位置；\n",
    "    - 如果待插入的元素与有序序列中的某个元素相等，则将待插入元素插入到相等元素的后面；"
   ]
  },
  {
   "cell_type": "code",
   "execution_count": 8,
   "id": "2b91b65f-f7c3-4952-8989-c7ddeabfa5bb",
   "metadata": {},
   "outputs": [],
   "source": [
    "def insertion_sort(arr):\n",
    "    for i in range(1, len(arr)):\n",
    "        for j in range(i, 0, -1):\n",
    "            if(arr[j] < arr[j-1]):  # 可以使用二分法快速定位，可以减少比较次数，但是对移动的次数没有帮助\n",
    "                arr[j], arr[j-1] = arr[j-1], arr[j]\n",
    "            else:\n",
    "                break\n",
    "    return arr"
   ]
  },
  {
   "cell_type": "code",
   "execution_count": 9,
   "id": "592d5cf4-3eac-4de6-897d-50c2efc0eff2",
   "metadata": {},
   "outputs": [
    {
     "name": "stdout",
     "output_type": "stream",
     "text": [
      "[44 47 64 67 67  9 83 21 36 87 70 88 88 12 58 65 39 87 46 88 81 37 25 77\n",
      " 72  9 20 80 69 79 47 64 82 99 88 49 29 19 19 14 39 32 65  9 57 32 31 74\n",
      " 23 35 75 55 28 34  0  0 36 53  5 38 17 79  4 42]\n",
      "[ 0  0  4  5  9  9  9 12 14 17 19 19 20 21 23 25 28 29 31 32 32 34 35 36\n",
      " 36 37 38 39 39 42 44 46 47 47 49 53 55 57 58 64 64 65 65 67 67 69 70 72\n",
      " 74 75 77 79 79 80 81 82 83 87 87 88 88 88 88 99]\n"
     ]
    }
   ],
   "source": [
    "np.random.seed(0)\n",
    "arr = np.random.randint(0, 100, 64)\n",
    "print(arr)\n",
    "\n",
    "arr = insertion_sort(arr)\n",
    "print(arr)"
   ]
  },
  {
   "cell_type": "markdown",
   "id": "15761ad4-81de-4463-8d1f-794d3d91e23d",
   "metadata": {},
   "source": [
    "## 4. 希尔排序"
   ]
  },
  {
   "cell_type": "markdown",
   "id": "9deffc60-76ae-42ed-ba63-6762ec07674f",
   "metadata": {},
   "source": [
    "**希尔排序(Shell Sort)是插入排序的一种，又称缩小增量排序，它是针对直接插入排序算法的改进。它通过比较相距一定间隔的元素来进行，各趟比较所用的距离随着算法的进行而减小，直到只比较相邻元素的最后一趟排序为止。**  \n",
    "希尔排序是把记录按下标的一定增量分组，对每组使用直接插入排序算法排序；随着增量逐渐减少，每组包含的关键词越来越多，当增量减至 1 时，整个文件恰被分成一组，算法便终止。\n",
    "\n",
    "- 选择一个增量序列 t1，t2，...，tk，其中 ti > tj(j=i+1)，tk = 1；\n",
    "- 按增量序列个数 k，对序列进行 k 趟排序；\n",
    "    - 每趟排序，根据对应的增量 ti，将待排序列分割成若干长度为 m 的子序列，分别对各子表进行直接插入排序；\n",
    "- 仅增量因子为 1 时，整个序列作为一个表来处理，表长度即为整个序列的长度；"
   ]
  },
  {
   "cell_type": "code",
   "execution_count": 66,
   "id": "bee56596-a98a-4b53-a26c-405a9b4b4869",
   "metadata": {},
   "outputs": [],
   "source": [
    "# 希尔排序的特定增量序列 L 的实现\n",
    "def shell_sort_customize(arr, L):\n",
    "    for i in range(len(L)):  # 移除增量大于数组长度的增量值\n",
    "        if(L[0] > len(arr)):\n",
    "            arr.pop(0)\n",
    "        else:\n",
    "            break\n",
    "\n",
    "    for gap in L:            # 每一个增量对应了一组子数组，对每一个子数组都要做插入排序\n",
    "        for start in range(0, min(gap, len(arr)-gap-1)):  # 每一个子数组的第一个元素\n",
    "            for i in range(start+gap, len(arr), gap):     # 每一个子数组都做插入排序\n",
    "                for j in range(i, gap-1, -gap):\n",
    "                    if(arr[j] < arr[j-gap]):\n",
    "                        arr[j], arr[j-gap] = arr[j-gap], arr[j]\n",
    "                    else:\n",
    "                        break\n",
    "    return arr"
   ]
  },
  {
   "cell_type": "code",
   "execution_count": 67,
   "id": "f57e0b45-d73b-4d2e-a13d-06c39010ede8",
   "metadata": {},
   "outputs": [
    {
     "name": "stdout",
     "output_type": "stream",
     "text": [
      "[44 47 64 67 67  9 83 21 36 87 70 88 88 12 58 65 39 87 46 88 81 37 25 77\n",
      " 72  9 20 80 69 79 47 64 82 99 88 49 29 19 19 14 39 32 65  9 57 32 31 74\n",
      " 23 35 75 55 28 34  0  0 36 53  5 38 17 79  4 42]\n",
      "[ 0  0  4  5  9  9  9 12 14 17 19 19 20 21 23 25 28 29 31 32 32 34 35 36\n",
      " 36 37 38 39 39 42 44 46 47 47 49 53 55 57 58 64 64 65 65 67 67 69 70 72\n",
      " 74 75 77 79 79 80 81 82 83 87 87 88 88 88 88 99]\n"
     ]
    }
   ],
   "source": [
    "np.random.seed(0)\n",
    "arr = np.random.randint(0, 100, 64)\n",
    "print(arr)\n",
    "\n",
    "arr = shell_sort_customize(arr, L=[40, 13, 4, 1])  # 使用Knuth序列\n",
    "print(arr)"
   ]
  },
  {
   "cell_type": "code",
   "execution_count": 83,
   "id": "891eb78e-fa4d-4e31-bf28-ffa29c954cc1",
   "metadata": {},
   "outputs": [],
   "source": [
    "# 希尔排序的特定增量序列 L 的实现，减少一层循环\n",
    "def shell_sort_customize2(arr, L):\n",
    "    for i in range(len(L)):  # 移除增量大于数组长度的增量值\n",
    "        if(L[0] > len(arr)):\n",
    "            arr.pop(0)\n",
    "        else:\n",
    "            break\n",
    "\n",
    "    for gap in L:            # 每一个增量对应了一组子数组，这一组子数组由于步长一致，可以一次性统一做插入排序\n",
    "        for i in range(0, len(arr)-gap-1):\n",
    "            for j in range(i+gap, gap-1, -gap):\n",
    "                if(arr[j] < arr[j-gap]):\n",
    "                    arr[j], arr[j-gap] = arr[j-gap], arr[j]\n",
    "                else:\n",
    "                    break\n",
    "    return arr"
   ]
  },
  {
   "cell_type": "code",
   "execution_count": 84,
   "id": "90c57219-6c18-42c2-8b86-93ee27597f74",
   "metadata": {},
   "outputs": [
    {
     "name": "stdout",
     "output_type": "stream",
     "text": [
      "[44 47 64 67 67  9 83 21 36 87 70 88 88 12 58 65 39 87 46 88 81 37 25 77\n",
      " 72  9 20 80 69 79 47 64 82 99 88 49 29 19 19 14 39 32 65  9 57 32 31 74\n",
      " 23 35 75 55 28 34  0  0 36 53  5 38 17 79  4 42]\n",
      "[ 0  0  4  5  9  9  9 12 14 17 19 19 20 21 23 25 28 29 31 32 32 34 35 36\n",
      " 36 37 38 39 39 44 46 47 47 49 53 55 57 58 64 64 65 65 67 67 69 70 72 74\n",
      " 75 77 79 79 80 81 82 83 87 87 88 88 88 88 99 42]\n"
     ]
    }
   ],
   "source": [
    "np.random.seed(0)\n",
    "arr = np.random.randint(0, 100, 64)\n",
    "print(arr)\n",
    "\n",
    "arr = shell_sort_customize2(arr, L=[40, 13, 4, 1])  # 使用Knuth序列\n",
    "print(arr)"
   ]
  },
  {
   "cell_type": "code",
   "execution_count": 76,
   "id": "efd1a44c-eed2-4c90-8220-11c256e0f368",
   "metadata": {},
   "outputs": [],
   "source": [
    "# 希尔排序的特定增量 base 的实现\n",
    "def shell_sort2(arr, base):\n",
    "    L, base0 = [1], base\n",
    "    while(base <= len(arr)):\n",
    "        L.insert(0, base)\n",
    "        base *= base0\n",
    "    return shell_sort(arr, L)"
   ]
  },
  {
   "cell_type": "code",
   "execution_count": 13,
   "id": "4e7b2bde-06b2-4798-bb25-bfcdc6a57623",
   "metadata": {},
   "outputs": [
    {
     "name": "stdout",
     "output_type": "stream",
     "text": [
      "[44 47 64 67 67  9 83 21 36 87 70 88 88 12 58 65 39 87 46 88 81 37 25 77\n",
      " 72  9 20 80 69 79 47 64 82 99 88 49 29 19 19 14 39 32 65  9 57 32 31 74\n",
      " 23 35 75 55 28 34  0  0 36 53  5 38 17 79  4 42]\n",
      "[ 0  0  4  5  9  9  9 12 14 17 19 19 20 21 23 25 28 29 31 32 32 34 35 36\n",
      " 36 37 38 39 39 42 44 46 47 47 49 53 55 57 58 64 64 65 65 67 67 69 70 72\n",
      " 74 75 77 79 79 80 81 82 83 87 87 88 88 88 88 99]\n"
     ]
    }
   ],
   "source": [
    "np.random.seed(0)\n",
    "arr = np.random.randint(0, 100, 64)\n",
    "print(arr)\n",
    "\n",
    "arr = shell_sort2(arr, 3)\n",
    "print(arr)"
   ]
  },
  {
   "cell_type": "code",
   "execution_count": null,
   "id": "4881d6e8-96fd-4d7c-b68e-2ae3f6e4ab46",
   "metadata": {},
   "outputs": [],
   "source": []
  }
 ],
 "metadata": {
  "kernelspec": {
   "display_name": "Python 3 (ipykernel)",
   "language": "python",
   "name": "python3"
  },
  "language_info": {
   "codemirror_mode": {
    "name": "ipython",
    "version": 3
   },
   "file_extension": ".py",
   "mimetype": "text/x-python",
   "name": "python",
   "nbconvert_exporter": "python",
   "pygments_lexer": "ipython3",
   "version": "3.7.3"
  }
 },
 "nbformat": 4,
 "nbformat_minor": 5
}
