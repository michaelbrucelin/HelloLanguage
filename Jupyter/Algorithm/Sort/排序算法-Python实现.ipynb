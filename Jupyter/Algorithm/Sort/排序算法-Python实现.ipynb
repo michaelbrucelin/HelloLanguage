{
 "cells": [
  {
   "cell_type": "markdown",
   "id": "fa539436-94d0-49c8-b0ed-8514f51526f0",
   "metadata": {},
   "source": [
    "# 排序算法-Python实现"
   ]
  },
  {
   "cell_type": "code",
   "execution_count": 1,
   "id": "8115e655-553a-49d8-a736-1572c7b1c698",
   "metadata": {},
   "outputs": [],
   "source": [
    "import numpy as np"
   ]
  },
  {
   "cell_type": "markdown",
   "id": "f5be4cad-a67c-4b43-8590-2476e63c57a2",
   "metadata": {
    "tags": []
   },
   "source": [
    "## 1. 冒泡排序"
   ]
  },
  {
   "cell_type": "markdown",
   "id": "9ee8db66-ab07-43f1-8468-e101ced1f456",
   "metadata": {},
   "source": [
    "- 比较相邻的元素。如果第一个比第二个大，就交换他们两个。\n",
    "- 对每一对相邻元素作同样的工作，从开始第一对到结尾的最后一对。这步做完后，最后的元素会是最大的数。\n",
    "- 针对所有的元素重复以上的步骤，除了最后一个。\n",
    "- 持续每次对越来越少的元素重复上面的步骤，直到没有任何一对数字需要比较。"
   ]
  },
  {
   "cell_type": "code",
   "execution_count": 2,
   "id": "bf857684-7cd1-45fd-a418-795d0b5486cb",
   "metadata": {},
   "outputs": [],
   "source": [
    "def bubble_sort(arr):\n",
    "    for i in range(len(arr)-1, 0, -1):\n",
    "        for j in range(i):\n",
    "            if(arr[j] > arr[j+1]):\n",
    "                arr[j], arr[j+1] = arr[j+1], arr[j]\n",
    "    return arr"
   ]
  },
  {
   "cell_type": "code",
   "execution_count": 3,
   "id": "262ccf47-55c7-4c4e-b874-4e7ef1c591fa",
   "metadata": {},
   "outputs": [
    {
     "name": "stdout",
     "output_type": "stream",
     "text": [
      "[684 559 629 192 835 763 707 359   9 723 277 754 804 599  70 472 600 396\n",
      " 314 705 486 551  87 174 600 849 677 537 845  72 777 916 115 976 755 709\n",
      " 847 431 448 850  99 984 177 755 797 659 147 910 423 288 961 265 697 639\n",
      " 544 543 714 244 151 675 510 459 882 183  28 802 128 128 932  53 901 550\n",
      " 488 756 273 335 388 617  42 442 543 888 257 321 999 937  57 291 870 119\n",
      " 779 430  82  91 896 398 611 565 908 633]\n",
      "[  9  28  42  53  57  70  72  82  87  91  99 115 119 128 128 147 151 174\n",
      " 177 183 192 244 257 265 273 277 288 291 314 321 335 359 388 396 398 423\n",
      " 430 431 442 448 459 472 486 488 510 537 543 543 544 550 551 559 565 599\n",
      " 600 600 611 617 629 633 639 659 675 677 684 697 705 707 709 714 723 754\n",
      " 755 755 756 763 777 779 797 802 804 835 845 847 849 850 870 882 888 896\n",
      " 901 908 910 916 932 937 961 976 984 999]\n"
     ]
    }
   ],
   "source": [
    "np.random.seed(0)\n",
    "arr = np.random.randint(0, 1000, 100)\n",
    "print(arr)\n",
    "\n",
    "arr = bubble_sort(arr)\n",
    "print(arr)"
   ]
  },
  {
   "cell_type": "markdown",
   "id": "b4b9048d-eec8-4ad8-84ef-166ab8faae18",
   "metadata": {},
   "source": [
    "## 2. 选择排序"
   ]
  },
  {
   "cell_type": "markdown",
   "id": "9bab30a1-307a-45a4-9587-fd957e10d740",
   "metadata": {},
   "source": [
    "- 首先在未排序序列中找到最小（大）元素，存放到排序序列的起始位置。\n",
    "- 再从剩余未排序元素中继续寻找最小（大）元素，然后放到已排序序列的末尾。\n",
    "- 重复第二步，直到所有元素均排序完毕。"
   ]
  },
  {
   "cell_type": "code",
   "execution_count": null,
   "id": "e56ca6a1-39d8-4f36-bd7b-4ac195c566dd",
   "metadata": {},
   "outputs": [],
   "source": []
  },
  {
   "cell_type": "markdown",
   "id": "9b9b80e4-7376-4918-a093-7da7a1339214",
   "metadata": {},
   "source": [
    "## 3. 插入排序"
   ]
  },
  {
   "cell_type": "markdown",
   "id": "9e8629d2-18f5-444c-b76b-2251647637cf",
   "metadata": {},
   "source": [
    "- 将第一待排序序列第一个元素看做一个有序序列，把第二个元素到最后一个元素当成是未排序序列。\n",
    "- 从头到尾依次扫描未排序序列，将扫描到的每个元素插入有序序列的适当位置。\n",
    "    - 如果待插入的元素与有序序列中的某个元素相等，则将待插入元素插入到相等元素的后面。"
   ]
  },
  {
   "cell_type": "code",
   "execution_count": null,
   "id": "2b91b65f-f7c3-4952-8989-c7ddeabfa5bb",
   "metadata": {},
   "outputs": [],
   "source": []
  }
 ],
 "metadata": {
  "kernelspec": {
   "display_name": "Python 3 (ipykernel)",
   "language": "python",
   "name": "python3"
  },
  "language_info": {
   "codemirror_mode": {
    "name": "ipython",
    "version": 3
   },
   "file_extension": ".py",
   "mimetype": "text/x-python",
   "name": "python",
   "nbconvert_exporter": "python",
   "pygments_lexer": "ipython3",
   "version": "3.7.3"
  }
 },
 "nbformat": 4,
 "nbformat_minor": 5
}
