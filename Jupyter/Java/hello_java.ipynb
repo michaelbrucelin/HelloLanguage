{
 "cells": [
  {
   "cell_type": "code",
   "execution_count": 1,
   "id": "79e119aa-8648-4b7d-aaa2-a895da4b001f",
   "metadata": {},
   "outputs": [
    {
     "name": "stdout",
     "output_type": "stream",
     "text": [
      "hello java\n"
     ]
    }
   ],
   "source": [
    "System.out.println(\"hello java\")"
   ]
  },
  {
   "cell_type": "code",
   "execution_count": null,
   "id": "218cc182-6de2-4dbe-8230-959a24418135",
   "metadata": {},
   "outputs": [],
   "source": []
  }
 ],
 "metadata": {
  "kernelspec": {
   "display_name": "Java",
   "language": "java",
   "name": "java"
  },
  "language_info": {
   "codemirror_mode": "java",
   "file_extension": ".jshell",
   "mimetype": "text/x-java-source",
   "name": "Java",
   "pygments_lexer": "java",
   "version": "11.0.12+7-post-Debian-2deb10u1"
  }
 },
 "nbformat": 4,
 "nbformat_minor": 5
}
