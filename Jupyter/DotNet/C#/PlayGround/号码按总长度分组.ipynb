{
 "cells": [
  {
   "cell_type": "markdown",
   "id": "96068dc6-fc32-4fde-94d4-93d908540810",
   "metadata": {},
   "source": [
    "# 号码按总长度分组"
   ]
  },
  {
   "cell_type": "markdown",
   "id": "995a4296-1512-4c37-aaa2-974231cd82b8",
   "metadata": {},
   "source": [
    "**目的**：解析sipp群呼文件，提取主叫号码，然后用逗号（,）将号码连接起来，分组放入list中，每一组尽可能长，且长度要<=65535。  \n",
    "**环境**：程序中原始数据为`DataTable`，这里使用`List`来模拟，从csv加载。"
   ]
  },
  {
   "cell_type": "markdown",
   "id": "40e7aa1d-c14b-447a-bfb3-8394b4b81a6d",
   "metadata": {},
   "source": [
    "**准备工作**\n",
    "\n",
    "```bash\n",
    "cd /root/GithubProjects/HelloLanguage/Jupyter/DotNet/C#/PlayGround/\n",
    "bzip2 -d --keep ./data/sipp_callfile.csv.bz2\n",
    "```\n",
    "\n",
    "**扫尾工作**\n",
    "\n",
    "```bash\n",
    "cd /root/GithubProjects/HelloLanguage/Jupyter/DotNet/C#/PlayGround/\n",
    "rm -f ./data/sipp_callfile.csv\n",
    "```\n",
    "\n",
    "**其他**  \n",
    "- .net core 读取不到/tmp目录下的文件，暂时不确认怎样解决，所以就暂时将csv文件解压到data目录下，用完即删。\n",
    "- 写东西太费劲，还是回vs中写C#代码吧。"
   ]
  },
  {
   "cell_type": "code",
   "execution_count": 1,
   "id": "b930f17f-2c40-4d0a-9c64-b4eebfbf90cd",
   "metadata": {},
   "outputs": [
    {
     "data": {
      "text/html": [
       "\r\n",
       "<div>\r\n",
       "    <div id='dotnet-interactive-this-cell-1066.Microsoft.DotNet.Interactive.Http.HttpPort' style='display: none'>\r\n",
       "        The below script needs to be able to find the current output cell; this is an easy method to get it.\r\n",
       "    </div>\r\n",
       "    <script type='text/javascript'>\r\n",
       "async function probeAddresses(probingAddresses) {\r\n",
       "    function timeout(ms, promise) {\r\n",
       "        return new Promise(function (resolve, reject) {\r\n",
       "            setTimeout(function () {\r\n",
       "                reject(new Error('timeout'))\r\n",
       "            }, ms)\r\n",
       "            promise.then(resolve, reject)\r\n",
       "        })\r\n",
       "    }\r\n",
       "\r\n",
       "    if (Array.isArray(probingAddresses)) {\r\n",
       "        for (let i = 0; i < probingAddresses.length; i++) {\r\n",
       "\r\n",
       "            let rootUrl = probingAddresses[i];\r\n",
       "\r\n",
       "            if (!rootUrl.endsWith('/')) {\r\n",
       "                rootUrl = `${rootUrl}/`;\r\n",
       "            }\r\n",
       "\r\n",
       "            try {\r\n",
       "                let response = await timeout(1000, fetch(`${rootUrl}discovery`, {\r\n",
       "                    method: 'POST',\r\n",
       "                    cache: 'no-cache',\r\n",
       "                    mode: 'cors',\r\n",
       "                    timeout: 1000,\r\n",
       "                    headers: {\r\n",
       "                        'Content-Type': 'text/plain'\r\n",
       "                    },\r\n",
       "                    body: probingAddresses[i]\r\n",
       "                }));\r\n",
       "\r\n",
       "                if (response.status == 200) {\r\n",
       "                    return rootUrl;\r\n",
       "                }\r\n",
       "            }\r\n",
       "            catch (e) { }\r\n",
       "        }\r\n",
       "    }\r\n",
       "}\r\n",
       "\r\n",
       "function loadDotnetInteractiveApi() {\r\n",
       "    probeAddresses([\"http://172.17.0.3:1000/\", \"http://127.0.0.1:1000/\"])\r\n",
       "        .then((root) => {\r\n",
       "        // use probing to find host url and api resources\r\n",
       "        // load interactive helpers and language services\r\n",
       "        let dotnetInteractiveRequire = require.config({\r\n",
       "        context: '1066.Microsoft.DotNet.Interactive.Http.HttpPort',\r\n",
       "                paths:\r\n",
       "            {\r\n",
       "                'dotnet-interactive': `${root}resources`\r\n",
       "                }\r\n",
       "        }) || require;\r\n",
       "\r\n",
       "            window.dotnetInteractiveRequire = dotnetInteractiveRequire;\r\n",
       "\r\n",
       "            window.configureRequireFromExtension = function(extensionName, extensionCacheBuster) {\r\n",
       "                let paths = {};\r\n",
       "                paths[extensionName] = `${root}extensions/${extensionName}/resources/`;\r\n",
       "                \r\n",
       "                let internalRequire = require.config({\r\n",
       "                    context: extensionCacheBuster,\r\n",
       "                    paths: paths,\r\n",
       "                    urlArgs: `cacheBuster=${extensionCacheBuster}`\r\n",
       "                    }) || require;\r\n",
       "\r\n",
       "                return internalRequire\r\n",
       "            };\r\n",
       "        \r\n",
       "            dotnetInteractiveRequire([\r\n",
       "                    'dotnet-interactive/dotnet-interactive'\r\n",
       "                ],\r\n",
       "                function (dotnet) {\r\n",
       "                    dotnet.init(window);\r\n",
       "                },\r\n",
       "                function (error) {\r\n",
       "                    console.log(error);\r\n",
       "                }\r\n",
       "            );\r\n",
       "        })\r\n",
       "        .catch(error => {console.log(error);});\r\n",
       "    }\r\n",
       "\r\n",
       "// ensure `require` is available globally\r\n",
       "if ((typeof(require) !==  typeof(Function)) || (typeof(require.config) !== typeof(Function))) {\r\n",
       "    let require_script = document.createElement('script');\r\n",
       "    require_script.setAttribute('src', 'https://cdnjs.cloudflare.com/ajax/libs/require.js/2.3.6/require.min.js');\r\n",
       "    require_script.setAttribute('type', 'text/javascript');\r\n",
       "    \r\n",
       "    \r\n",
       "    require_script.onload = function() {\r\n",
       "        loadDotnetInteractiveApi();\r\n",
       "    };\r\n",
       "\r\n",
       "    document.getElementsByTagName('head')[0].appendChild(require_script);\r\n",
       "}\r\n",
       "else {\r\n",
       "    loadDotnetInteractiveApi();\r\n",
       "}\r\n",
       "\r\n",
       "    </script>\r\n",
       "</div>"
      ]
     },
     "metadata": {},
     "output_type": "display_data"
    }
   ],
   "source": [
    "using System.IO;\n",
    "// using System.Data;"
   ]
  },
  {
   "cell_type": "code",
   "execution_count": 2,
   "id": "75565584-4bda-4e3a-bf6e-6cbdb8356ac0",
   "metadata": {},
   "outputs": [],
   "source": [
    "List<(string caller, string callee, string auth)> calldata = new List<(string caller, string callee, string auth)>();\n",
    "\n",
    "using (StreamReader sr = new StreamReader(\"data/sipp_callfile.csv\"))\n",
    "{\n",
    "    sr.ReadLine();  // 忽略首行，标题行\n",
    "    \n",
    "    int i = 0;\n",
    "    string line;\n",
    "    while ((line = sr.ReadLine()) != null)\n",
    "    {\n",
    "        string[] items = line.Split(';');\n",
    "        // Console.WriteLine($\"{line}\\t{items[0]}\\t{items[1]}\\t{items[2]}\");\n",
    "        calldata.Add((items[0], items[1], items[2]));\n",
    "        if(++i > 10) break;\n",
    "    }\n",
    "}"
   ]
  },
  {
   "cell_type": "code",
   "execution_count": 3,
   "id": "6fc6fc44-ecc3-4f9d-af29-116135674354",
   "metadata": {},
   "outputs": [
    {
     "data": {
      "text/html": [
       "<table><thead><tr><th><i>index</i></th><th>Item1</th><th>Item2</th><th>Item3</th></tr></thead><tbody><tr><td>0</td><td>Test_8995_212264174739</td><td>000-00994244917310912</td><td>[authentication username=1234 password=1234]</td></tr><tr><td>1</td><td>Test_8995_313246646064</td><td>000-0301122366939207</td><td>[authentication username=1234 password=1234]</td></tr><tr><td>2</td><td>Test_8995_448213530174</td><td>000-0157240720885684</td><td>[authentication username=1234 password=1234]</td></tr><tr><td>3</td><td>Test_8995_370599366746</td><td>000-0544197333444392</td><td>[authentication username=1234 password=1234]</td></tr><tr><td>4</td><td>Test_8995_147233217830</td><td>000-0328340745509415</td><td>[authentication username=1234 password=1234]</td></tr><tr><td>5</td><td>Test_8995_361601108331</td><td>000-02552243975400261</td><td>[authentication username=1234 password=1234]</td></tr><tr><td>6</td><td>Test_8995_222398559233</td><td>000-02473213777025423</td><td>[authentication username=1234 password=1234]</td></tr><tr><td>7</td><td>Test_8995_161316013186</td><td>000-0357223593319664</td><td>[authentication username=1234 password=1234]</td></tr><tr><td>8</td><td>Test_8995_686062954777</td><td>000-02043244912717932</td><td>[authentication username=1234 password=1234]</td></tr><tr><td>9</td><td>Test_8995_487693410707</td><td>000-02994218924115643</td><td>[authentication username=1234 password=1234]</td></tr><tr><td>10</td><td>Test_8995_590788259698</td><td>000-01741905535212513</td><td>[authentication username=1234 password=1234]</td></tr></tbody></table>"
      ]
     },
     "metadata": {},
     "output_type": "display_data"
    }
   ],
   "source": [
    "display(calldata);"
   ]
  },
  {
   "cell_type": "markdown",
   "id": "e170023a-54ed-43a8-97e6-4c43263f7190",
   "metadata": {},
   "source": [
    "**扫尾工作**\n",
    "\n",
    "```bash\n",
    "cd /root/GithubProjects/HelloLanguage/Jupyter/DotNet/C#/PlayGround/\n",
    "rm -f ./data/sipp_callfile.csv\n",
    "```"
   ]
  },
  {
   "cell_type": "code",
   "execution_count": null,
   "id": "77175a47-cc30-486e-ac70-ae3c4c07288f",
   "metadata": {},
   "outputs": [],
   "source": []
  }
 ],
 "metadata": {
  "kernelspec": {
   "display_name": ".NET (C#)",
   "language": "C#",
   "name": ".net-csharp"
  },
  "language_info": {
   "file_extension": ".cs",
   "mimetype": "text/x-csharp",
   "name": "C#",
   "pygments_lexer": "csharp",
   "version": "9.0"
  }
 },
 "nbformat": 4,
 "nbformat_minor": 5
}
