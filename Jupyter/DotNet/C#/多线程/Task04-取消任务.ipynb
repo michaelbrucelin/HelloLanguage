{
 "cells": [
  {
   "cell_type": "markdown",
   "id": "27aa9d22-0bea-49e5-a04d-1be2907f5c64",
   "metadata": {},
   "source": [
    "# 4. 取消任务\n",
    "\n",
    "CancellationTokenSource"
   ]
  },
  {
   "cell_type": "code",
   "execution_count": 1,
   "id": "d0f4fe04-12ac-4c26-8a57-7eda4a664216",
   "metadata": {},
   "outputs": [
    {
     "data": {
      "text/html": [
       "\r\n",
       "<div>\r\n",
       "    <div id='dotnet-interactive-this-cell-105084.Microsoft.DotNet.Interactive.Http.HttpPort' style='display: none'>\r\n",
       "        The below script needs to be able to find the current output cell; this is an easy method to get it.\r\n",
       "    </div>\r\n",
       "    <script type='text/javascript'>\r\n",
       "async function probeAddresses(probingAddresses) {\r\n",
       "    function timeout(ms, promise) {\r\n",
       "        return new Promise(function (resolve, reject) {\r\n",
       "            setTimeout(function () {\r\n",
       "                reject(new Error('timeout'))\r\n",
       "            }, ms)\r\n",
       "            promise.then(resolve, reject)\r\n",
       "        })\r\n",
       "    }\r\n",
       "\r\n",
       "    if (Array.isArray(probingAddresses)) {\r\n",
       "        for (let i = 0; i < probingAddresses.length; i++) {\r\n",
       "\r\n",
       "            let rootUrl = probingAddresses[i];\r\n",
       "\r\n",
       "            if (!rootUrl.endsWith('/')) {\r\n",
       "                rootUrl = `${rootUrl}/`;\r\n",
       "            }\r\n",
       "\r\n",
       "            try {\r\n",
       "                let response = await timeout(1000, fetch(`${rootUrl}discovery`, {\r\n",
       "                    method: 'POST',\r\n",
       "                    cache: 'no-cache',\r\n",
       "                    mode: 'cors',\r\n",
       "                    timeout: 1000,\r\n",
       "                    headers: {\r\n",
       "                        'Content-Type': 'text/plain'\r\n",
       "                    },\r\n",
       "                    body: probingAddresses[i]\r\n",
       "                }));\r\n",
       "\r\n",
       "                if (response.status == 200) {\r\n",
       "                    return rootUrl;\r\n",
       "                }\r\n",
       "            }\r\n",
       "            catch (e) { }\r\n",
       "        }\r\n",
       "    }\r\n",
       "}\r\n",
       "\r\n",
       "function loadDotnetInteractiveApi() {\r\n",
       "    probeAddresses([\"http://192.168.91.223:1001/\", \"http://127.0.0.1:1001/\"])\r\n",
       "        .then((root) => {\r\n",
       "        // use probing to find host url and api resources\r\n",
       "        // load interactive helpers and language services\r\n",
       "        let dotnetInteractiveRequire = require.config({\r\n",
       "        context: '105084.Microsoft.DotNet.Interactive.Http.HttpPort',\r\n",
       "                paths:\r\n",
       "            {\r\n",
       "                'dotnet-interactive': `${root}resources`\r\n",
       "                }\r\n",
       "        }) || require;\r\n",
       "\r\n",
       "            window.dotnetInteractiveRequire = dotnetInteractiveRequire;\r\n",
       "\r\n",
       "            window.configureRequireFromExtension = function(extensionName, extensionCacheBuster) {\r\n",
       "                let paths = {};\r\n",
       "                paths[extensionName] = `${root}extensions/${extensionName}/resources/`;\r\n",
       "                \r\n",
       "                let internalRequire = require.config({\r\n",
       "                    context: extensionCacheBuster,\r\n",
       "                    paths: paths,\r\n",
       "                    urlArgs: `cacheBuster=${extensionCacheBuster}`\r\n",
       "                    }) || require;\r\n",
       "\r\n",
       "                return internalRequire\r\n",
       "            };\r\n",
       "        \r\n",
       "            dotnetInteractiveRequire([\r\n",
       "                    'dotnet-interactive/dotnet-interactive'\r\n",
       "                ],\r\n",
       "                function (dotnet) {\r\n",
       "                    dotnet.init(window);\r\n",
       "                },\r\n",
       "                function (error) {\r\n",
       "                    console.log(error);\r\n",
       "                }\r\n",
       "            );\r\n",
       "        })\r\n",
       "        .catch(error => {console.log(error);});\r\n",
       "    }\r\n",
       "\r\n",
       "// ensure `require` is available globally\r\n",
       "if ((typeof(require) !==  typeof(Function)) || (typeof(require.config) !== typeof(Function))) {\r\n",
       "    let require_script = document.createElement('script');\r\n",
       "    require_script.setAttribute('src', 'https://cdnjs.cloudflare.com/ajax/libs/require.js/2.3.6/require.min.js');\r\n",
       "    require_script.setAttribute('type', 'text/javascript');\r\n",
       "    \r\n",
       "    \r\n",
       "    require_script.onload = function() {\r\n",
       "        loadDotnetInteractiveApi();\r\n",
       "    };\r\n",
       "\r\n",
       "    document.getElementsByTagName('head')[0].appendChild(require_script);\r\n",
       "}\r\n",
       "else {\r\n",
       "    loadDotnetInteractiveApi();\r\n",
       "}\r\n",
       "\r\n",
       "    </script>\r\n",
       "</div>"
      ]
     },
     "metadata": {},
     "output_type": "display_data"
    }
   ],
   "source": [
    "using System.Threading;\n",
    "using System.Threading.Tasks;"
   ]
  },
  {
   "cell_type": "code",
   "execution_count": 2,
   "id": "2a6e7311-b116-4aae-9763-f847d5a6d953",
   "metadata": {},
   "outputs": [],
   "source": [
    "public static class TaskClass\n",
    "{\n",
    "        public static int TaskMethod(string taskname, int seconds, CancellationToken token)\n",
    "    {\n",
    "        Console.WriteLine($\"Task {taskname} is running on a thread id {Thread.CurrentThread.ManagedThreadId}. Is thread pool thread: {Thread.CurrentThread.IsThreadPoolThread}\");\n",
    "        for (int i = 0; i < seconds; i++)\n",
    "        {\n",
    "            Thread.Sleep(TimeSpan.FromSeconds(1));\n",
    "            if (token.IsCancellationRequested) return -1;\n",
    "        }\n",
    "\n",
    "        return 42 * seconds;\n",
    "    }\n",
    "}"
   ]
  },
  {
   "cell_type": "code",
   "execution_count": 3,
   "id": "952a8d43-8704-4c92-a8cb-9444917941e9",
   "metadata": {},
   "outputs": [
    {
     "name": "stdout",
     "output_type": "stream",
     "text": [
      "Created\n",
      "Canceled\n",
      "First task has been cancelled before execution\n"
     ]
    }
   ],
   "source": [
    "var cts = new CancellationTokenSource();\n",
    "var longTask = new Task<int>(() => TaskClass.TaskMethod(\"Task 1\", 10, cts.Token), cts.Token);\n",
    "Console.WriteLine(longTask.Status);\n",
    "cts.Cancel();\n",
    "Console.WriteLine(longTask.Status);\n",
    "Console.WriteLine(\"First task has been cancelled before execution\");"
   ]
  },
  {
   "cell_type": "code",
   "execution_count": 4,
   "id": "24434ab3-fed2-49a4-889a-2903b1e51e83",
   "metadata": {},
   "outputs": [
    {
     "name": "stdout",
     "output_type": "stream",
     "text": [
      "Task Task 2 is running on a thread id 20. Is thread pool thread: True\n",
      "Running\n",
      "Running\n",
      "Running\n",
      "Running\n",
      "Running\n",
      "RanToCompletion\n",
      "RanToCompletion\n",
      "RanToCompletion\n",
      "RanToCompletion\n",
      "RanToCompletion\n",
      "A task has been completed with result -1.\n"
     ]
    }
   ],
   "source": [
    "var cts = new CancellationTokenSource();\n",
    "var longTask = new Task<int>(() => TaskClass.TaskMethod(\"Task 2\", 10, cts.Token), cts.Token);\n",
    "longTask.Start();\n",
    "for (int i = 0; i < 5; i++)\n",
    "{\n",
    "    Thread.Sleep(TimeSpan.FromSeconds(0.5));\n",
    "    Console.WriteLine(longTask.Status);\n",
    "}\n",
    "cts.Cancel();\n",
    "for (int i = 0; i < 5; i++)\n",
    "{\n",
    "    Thread.Sleep(TimeSpan.FromSeconds(0.5));\n",
    "    Console.WriteLine(longTask.Status);\n",
    "}\n",
    "Console.WriteLine(\"A task has been completed with result {0}.\", longTask.Result);"
   ]
  },
  {
   "cell_type": "code",
   "execution_count": null,
   "id": "4c56be94-f213-4680-bfdc-cc5e6dda6b8e",
   "metadata": {},
   "outputs": [],
   "source": []
  }
 ],
 "metadata": {
  "kernelspec": {
   "display_name": ".NET (C#)",
   "language": "C#",
   "name": ".net-csharp"
  },
  "language_info": {
   "file_extension": ".cs",
   "mimetype": "text/x-csharp",
   "name": "C#",
   "pygments_lexer": "csharp",
   "version": "9.0"
  }
 },
 "nbformat": 4,
 "nbformat_minor": 5
}
