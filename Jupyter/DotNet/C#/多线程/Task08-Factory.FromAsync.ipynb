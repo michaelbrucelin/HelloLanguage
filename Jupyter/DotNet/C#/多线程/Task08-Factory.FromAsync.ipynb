{
 "cells": [
  {
   "cell_type": "markdown",
   "id": "ee118bd9-bb32-48a4-82b1-9e1249ee5445",
   "metadata": {},
   "source": [
    "# 8. Factory.FromAsync\n",
    "\n",
    "(简APM模式(委托)转换为任务)(BeginXXX和EndXXX)"
   ]
  },
  {
   "cell_type": "code",
   "execution_count": 1,
   "id": "cfdf7df8-ffe5-4405-950b-c95255ae4963",
   "metadata": {
    "tags": []
   },
   "outputs": [
    {
     "data": {
      "text/html": [
       "\r\n",
       "<div>\r\n",
       "    <div id='dotnet-interactive-this-cell-129066.Microsoft.DotNet.Interactive.Http.HttpPort' style='display: none'>\r\n",
       "        The below script needs to be able to find the current output cell; this is an easy method to get it.\r\n",
       "    </div>\r\n",
       "    <script type='text/javascript'>\r\n",
       "async function probeAddresses(probingAddresses) {\r\n",
       "    function timeout(ms, promise) {\r\n",
       "        return new Promise(function (resolve, reject) {\r\n",
       "            setTimeout(function () {\r\n",
       "                reject(new Error('timeout'))\r\n",
       "            }, ms)\r\n",
       "            promise.then(resolve, reject)\r\n",
       "        })\r\n",
       "    }\r\n",
       "\r\n",
       "    if (Array.isArray(probingAddresses)) {\r\n",
       "        for (let i = 0; i < probingAddresses.length; i++) {\r\n",
       "\r\n",
       "            let rootUrl = probingAddresses[i];\r\n",
       "\r\n",
       "            if (!rootUrl.endsWith('/')) {\r\n",
       "                rootUrl = `${rootUrl}/`;\r\n",
       "            }\r\n",
       "\r\n",
       "            try {\r\n",
       "                let response = await timeout(1000, fetch(`${rootUrl}discovery`, {\r\n",
       "                    method: 'POST',\r\n",
       "                    cache: 'no-cache',\r\n",
       "                    mode: 'cors',\r\n",
       "                    timeout: 1000,\r\n",
       "                    headers: {\r\n",
       "                        'Content-Type': 'text/plain'\r\n",
       "                    },\r\n",
       "                    body: probingAddresses[i]\r\n",
       "                }));\r\n",
       "\r\n",
       "                if (response.status == 200) {\r\n",
       "                    return rootUrl;\r\n",
       "                }\r\n",
       "            }\r\n",
       "            catch (e) { }\r\n",
       "        }\r\n",
       "    }\r\n",
       "}\r\n",
       "\r\n",
       "function loadDotnetInteractiveApi() {\r\n",
       "    probeAddresses([\"http://192.168.91.223:1000/\", \"http://127.0.0.1:1000/\"])\r\n",
       "        .then((root) => {\r\n",
       "        // use probing to find host url and api resources\r\n",
       "        // load interactive helpers and language services\r\n",
       "        let dotnetInteractiveRequire = require.config({\r\n",
       "        context: '129066.Microsoft.DotNet.Interactive.Http.HttpPort',\r\n",
       "                paths:\r\n",
       "            {\r\n",
       "                'dotnet-interactive': `${root}resources`\r\n",
       "                }\r\n",
       "        }) || require;\r\n",
       "\r\n",
       "            window.dotnetInteractiveRequire = dotnetInteractiveRequire;\r\n",
       "\r\n",
       "            window.configureRequireFromExtension = function(extensionName, extensionCacheBuster) {\r\n",
       "                let paths = {};\r\n",
       "                paths[extensionName] = `${root}extensions/${extensionName}/resources/`;\r\n",
       "                \r\n",
       "                let internalRequire = require.config({\r\n",
       "                    context: extensionCacheBuster,\r\n",
       "                    paths: paths,\r\n",
       "                    urlArgs: `cacheBuster=${extensionCacheBuster}`\r\n",
       "                    }) || require;\r\n",
       "\r\n",
       "                return internalRequire\r\n",
       "            };\r\n",
       "        \r\n",
       "            dotnetInteractiveRequire([\r\n",
       "                    'dotnet-interactive/dotnet-interactive'\r\n",
       "                ],\r\n",
       "                function (dotnet) {\r\n",
       "                    dotnet.init(window);\r\n",
       "                },\r\n",
       "                function (error) {\r\n",
       "                    console.log(error);\r\n",
       "                }\r\n",
       "            );\r\n",
       "        })\r\n",
       "        .catch(error => {console.log(error);});\r\n",
       "    }\r\n",
       "\r\n",
       "// ensure `require` is available globally\r\n",
       "if ((typeof(require) !==  typeof(Function)) || (typeof(require.config) !== typeof(Function))) {\r\n",
       "    let require_script = document.createElement('script');\r\n",
       "    require_script.setAttribute('src', 'https://cdnjs.cloudflare.com/ajax/libs/require.js/2.3.6/require.min.js');\r\n",
       "    require_script.setAttribute('type', 'text/javascript');\r\n",
       "    \r\n",
       "    \r\n",
       "    require_script.onload = function() {\r\n",
       "        loadDotnetInteractiveApi();\r\n",
       "    };\r\n",
       "\r\n",
       "    document.getElementsByTagName('head')[0].appendChild(require_script);\r\n",
       "}\r\n",
       "else {\r\n",
       "    loadDotnetInteractiveApi();\r\n",
       "}\r\n",
       "\r\n",
       "    </script>\r\n",
       "</div>"
      ]
     },
     "metadata": {},
     "output_type": "display_data"
    }
   ],
   "source": [
    "using System.Threading;\n",
    "using System.Threading.Tasks;"
   ]
  },
  {
   "cell_type": "code",
   "execution_count": 2,
   "id": "0a7dcd6e-82c4-48af-86a6-d39e3fe7b44a",
   "metadata": {},
   "outputs": [],
   "source": [
    "public static class TaskClass\n",
    "{\n",
    "    public delegate string AsynchronousTask(string threadName);\n",
    "\n",
    "    public static string TestMethod(string threadName)\n",
    "    {\n",
    "        Console.WriteLine(\"Starting... ...\");\n",
    "        Console.WriteLine(\"Is thread pool thread: {0}\", Thread.CurrentThread.IsThreadPoolThread);\n",
    "        Thread.Sleep(TimeSpan.FromSeconds(2));\n",
    "        Thread.CurrentThread.Name = threadName;\n",
    "\n",
    "        return string.Format(\"Thread name: {0}\", Thread.CurrentThread.Name);\n",
    "    }\n",
    "\n",
    "    public static void Callback(IAsyncResult ar)\n",
    "    {\n",
    "        Console.WriteLine(\"Starting a callback... ...\");\n",
    "        Console.WriteLine(\"State passed to a callbak: {0}\", ar.AsyncState);\n",
    "        Console.WriteLine(\"Is thread pool thread: {0}\", Thread.CurrentThread.IsThreadPoolThread);\n",
    "        Console.WriteLine(\"Thread pool worker thread id: {0}\", Thread.CurrentThread.ManagedThreadId);\n",
    "    }\n",
    "}"
   ]
  },
  {
   "cell_type": "markdown",
   "id": "2915ff0f-3a03-4a16-86c1-29e686240f07",
   "metadata": {},
   "source": [
    "## 8.1 带回调方式的"
   ]
  },
  {
   "cell_type": "code",
   "execution_count": 3,
   "id": "fe358f2a-ed76-48bf-b58f-d99bd889b8dc",
   "metadata": {},
   "outputs": [
    {
     "name": "stdout",
     "output_type": "stream",
     "text": [
      "Option 1\n"
     ]
    },
    {
     "name": "stderr",
     "output_type": "stream",
     "text": [
      "\n",
      "(5,1): warning CS4014: Because this call is not awaited, execution of the current method continues before the call is completed. Consider applying the 'await' operator to the result of the call.\n",
      "\n"
     ]
    },
    {
     "ename": "Unhandled exception",
     "evalue": "System.PlatformNotSupportedException: Operation is not supported on this platform.\n   at Submission#5.TaskClass.AsynchronousTask.BeginInvoke(String threadName, AsyncCallback callback, Object object)\n   at Submission#6.<<Initialize>>d__0.MoveNext()\n--- End of stack trace from previous location ---\n   at Microsoft.CodeAnalysis.Scripting.ScriptExecutionState.RunSubmissionsAsync[TResult](ImmutableArray`1 precedingExecutors, Func`2 currentExecutor, StrongBox`1 exceptionHolderOpt, Func`2 catchExceptionOpt, CancellationToken cancellationToken)",
     "output_type": "error",
     "traceback": [
      "System.PlatformNotSupportedException: Operation is not supported on this platform.\n   at Submission#5.TaskClass.AsynchronousTask.BeginInvoke(String threadName, AsyncCallback callback, Object object)\n   at Submission#6.<<Initialize>>d__0.MoveNext()\n--- End of stack trace from previous location ---\n   at Microsoft.CodeAnalysis.Scripting.ScriptExecutionState.RunSubmissionsAsync[TResult](ImmutableArray`1 precedingExecutors, Func`2 currentExecutor, StrongBox`1 exceptionHolderOpt, Func`2 catchExceptionOpt, CancellationToken cancellationToken)",
      "   at Submission#5.TaskClass.AsynchronousTask.BeginInvoke(String threadName, AsyncCallback callback, Object object)",
      "   at Submission#6.<<Initialize>>d__0.MoveNext()",
      "--- End of stack trace from previous location ---",
      "   at Microsoft.CodeAnalysis.Scripting.ScriptExecutionState.RunSubmissionsAsync[TResult](ImmutableArray`1 precedingExecutors, Func`2 currentExecutor, StrongBox`1 exceptionHolderOpt, Func`2 catchExceptionOpt, CancellationToken cancellationToken)"
     ]
    }
   ],
   "source": [
    "//执行的流程：Test——>Callback——>task.ContinueWith\n",
    "TaskClass.AsynchronousTask d = TaskClass.TestMethod;\n",
    "Console.WriteLine(\"Option 1\");\n",
    "Task<string> task = Task<string>.Factory.FromAsync(d.BeginInvoke(\"AsyncTaskThread\", TaskClass.Callback, \"a delegate asynchronous call\"), d.EndInvoke);\n",
    "task.ContinueWith(t => Console.WriteLine(\"Callback is finished, now running a continuation! Result: {0}\", t.Result));\n",
    "\n",
    "while (!task.IsCompleted)\n",
    "{\n",
    "    Console.WriteLine(task.Status);\n",
    "    Thread.Sleep(TimeSpan.FromSeconds(0.5));\n",
    "}\n",
    "Console.WriteLine(task.Status);"
   ]
  },
  {
   "cell_type": "markdown",
   "id": "b8f6aaf9-6d86-4e54-94bf-73306ebb7353",
   "metadata": {},
   "source": [
    "## 8.2 不带回调方式的"
   ]
  },
  {
   "cell_type": "code",
   "execution_count": 4,
   "id": "24201875-49a5-4e64-979c-81456833a57a",
   "metadata": {},
   "outputs": [
    {
     "name": "stderr",
     "output_type": "stream",
     "text": [
      "\n",
      "(4,1): warning CS4014: Because this call is not awaited, execution of the current method continues before the call is completed. Consider applying the 'await' operator to the result of the call.\n",
      "\n"
     ]
    },
    {
     "ename": "Unhandled exception",
     "evalue": "System.PlatformNotSupportedException: Operation is not supported on this platform.\n   at Submission#5.TaskClass.AsynchronousTask.BeginInvoke(String threadName, AsyncCallback callback, Object object)\n   at System.Threading.Tasks.TaskFactory`1.FromAsyncImpl[TArg1](Func`4 beginMethod, Func`2 endFunction, Action`1 endAction, TArg1 arg1, Object state, TaskCreationOptions creationOptions)\n   at System.Threading.Tasks.TaskFactory`1.FromAsync[TArg1](Func`4 beginMethod, Func`2 endMethod, TArg1 arg1, Object state)\n   at Submission#7.<<Initialize>>d__0.MoveNext()\n--- End of stack trace from previous location ---\n   at Microsoft.CodeAnalysis.Scripting.ScriptExecutionState.RunSubmissionsAsync[TResult](ImmutableArray`1 precedingExecutors, Func`2 currentExecutor, StrongBox`1 exceptionHolderOpt, Func`2 catchExceptionOpt, CancellationToken cancellationToken)",
     "output_type": "error",
     "traceback": [
      "System.PlatformNotSupportedException: Operation is not supported on this platform.\n   at Submission#5.TaskClass.AsynchronousTask.BeginInvoke(String threadName, AsyncCallback callback, Object object)\n   at System.Threading.Tasks.TaskFactory`1.FromAsyncImpl[TArg1](Func`4 beginMethod, Func`2 endFunction, Action`1 endAction, TArg1 arg1, Object state, TaskCreationOptions creationOptions)\n   at System.Threading.Tasks.TaskFactory`1.FromAsync[TArg1](Func`4 beginMethod, Func`2 endMethod, TArg1 arg1, Object state)\n   at Submission#7.<<Initialize>>d__0.MoveNext()\n--- End of stack trace from previous location ---\n   at Microsoft.CodeAnalysis.Scripting.ScriptExecutionState.RunSubmissionsAsync[TResult](ImmutableArray`1 precedingExecutors, Func`2 currentExecutor, StrongBox`1 exceptionHolderOpt, Func`2 catchExceptionOpt, CancellationToken cancellationToken)",
      "   at Submission#5.TaskClass.AsynchronousTask.BeginInvoke(String threadName, AsyncCallback callback, Object object)",
      "   at System.Threading.Tasks.TaskFactory`1.FromAsyncImpl[TArg1](Func`4 beginMethod, Func`2 endFunction, Action`1 endAction, TArg1 arg1, Object state, TaskCreationOptions creationOptions)",
      "   at System.Threading.Tasks.TaskFactory`1.FromAsync[TArg1](Func`4 beginMethod, Func`2 endMethod, TArg1 arg1, Object state)",
      "   at Submission#7.<<Initialize>>d__0.MoveNext()",
      "--- End of stack trace from previous location ---",
      "   at Microsoft.CodeAnalysis.Scripting.ScriptExecutionState.RunSubmissionsAsync[TResult](ImmutableArray`1 precedingExecutors, Func`2 currentExecutor, StrongBox`1 exceptionHolderOpt, Func`2 catchExceptionOpt, CancellationToken cancellationToken)"
     ]
    }
   ],
   "source": [
    "//执行的流程：Test--->task.ContinueWith\n",
    "TaskClass.AsynchronousTask d = TaskClass.TestMethod;\n",
    "Task<string> task = Task<string>.Factory.FromAsync(d.BeginInvoke, d.EndInvoke, \"AsyncTaskThread\", \"a delegate asynchronous call\");\n",
    "task.ContinueWith(t => Console.WriteLine(\"Task is completed, now running a continuation! Result: {0}\", t.Result));\n",
    "\n",
    "while (!task.IsCompleted)\n",
    "{\n",
    "    Console.WriteLine(task.Status);\n",
    "    Thread.Sleep(TimeSpan.FromSeconds(0.5));\n",
    "}\n",
    "Console.WriteLine(task.Status);"
   ]
  },
  {
   "cell_type": "markdown",
   "id": "eeb20c74-a615-4c5d-96a3-4a204b0b0287",
   "metadata": {},
   "source": [
    "## 8.3 另外几个示例\n",
    "\n",
    "Task启动带参数和返回值的函数任务"
   ]
  },
  {
   "cell_type": "markdown",
   "id": "ed489d89-ae01-4ab5-9cda-8ce7c9f0447e",
   "metadata": {},
   "source": [
    "```C#\n",
    "//Task启动带参数和返回值的函数任务\n",
    "//下面的例子test2 是个带参数和返回值的函数。\n",
    "private int test2(object i)\n",
    "{\n",
    "    this.Invoke(new Action(() =>\n",
    "    {\n",
    "        pictureBox1.Visible = true;\n",
    "    }));\n",
    "    System.Threading.Thread.Sleep(3000);\n",
    "    MessageBox.Show(\"hello:\" + i);\n",
    "    this.Invoke(new Action(() =>\n",
    "    {\n",
    "        pictureBox1.Visible = false;\n",
    "    }));\n",
    "    return 0;\n",
    "}\n",
    "\n",
    "//测试调用\n",
    "private void call()\n",
    "{\n",
    "    //Func<string, string> funcOne = delegate(string s){ return \"fff\"; };\n",
    "    object i = 55;\n",
    "    var t = Task<int>.Factory.StartNew(new Func<object, int>(test2), i);\n",
    "}\n",
    "```"
   ]
  },
  {
   "cell_type": "markdown",
   "id": "7f55751d-ad31-4cf2-8ba8-07cccc67b644",
   "metadata": {},
   "source": [
    "```C#\n",
    "//= 下载网站源文件例子 == == == == == == == == == == == ==\n",
    "//HttpClient 引用System.Net.Http\n",
    "private async Task< int> test2(object i)\n",
    "{\n",
    "    this.Invoke(new Action(() =>\n",
    "    {\n",
    "        pictureBox1.Visible = true;\n",
    "    }));\n",
    "\n",
    "    HttpClient client = new HttpClient();\n",
    "    var a = await client.GetAsync(\"http://www.baidu.com\");\n",
    "    Task<string> s = a.Content.ReadAsStringAsync();\n",
    "    MessageBox.Show (s.Result);\n",
    "\n",
    "    //System.Threading.Thread.Sleep(3000);\n",
    "    //MessageBox.Show(\"hello:\"+ i);\n",
    "    this.Invoke(new Action(() =>\n",
    "    {\n",
    "        pictureBox1.Visible = false;\n",
    "    }));\n",
    "    return 0;\n",
    "}\n",
    "\n",
    "async private void call()\n",
    "{\n",
    "    //Func<string, string> funcOne = delegate(string s){ return \"fff\"; };\n",
    "    object i = 55;\n",
    "    var t = Task<Task<int>>.Factory.StartNew(new Func<object, Task<int>>(test2), i);\n",
    "}\n",
    "```"
   ]
  },
  {
   "cell_type": "markdown",
   "id": "a1d61274-c301-49f9-9cd5-4c2e835737d3",
   "metadata": {},
   "source": [
    "```C#\n",
    "//----------或者----------\n",
    "private async void test2()\n",
    "{\n",
    "    this.Invoke(new Action(() =>\n",
    "    {\n",
    "        pictureBox1.Visible = true;\n",
    "    }));\n",
    "    HttpClient client = new HttpClient();\n",
    "    var a = await client.GetAsync(\"http://www.baidu.com\");\n",
    "    Task<string> s = a.Content.ReadAsStringAsync();\n",
    "    MessageBox.Show (s.Result);\n",
    "    this.Invoke(new Action(() =>\n",
    "    {\n",
    "        pictureBox1.Visible = false;\n",
    "    }));\n",
    "}\n",
    "\n",
    "private void call()\n",
    "{\n",
    "    var t = Task.Run(new Action(test2));\n",
    "    //相当于\n",
    "    //Thread th= new Thread(new ThreadStart(test2));\n",
    "    //th.Start();\n",
    "}\n",
    "```"
   ]
  },
  {
   "cell_type": "code",
   "execution_count": null,
   "id": "81a35ac4-add3-46d4-b8fc-90e78ea5857d",
   "metadata": {},
   "outputs": [],
   "source": []
  }
 ],
 "metadata": {
  "kernelspec": {
   "display_name": ".NET (C#)",
   "language": "C#",
   "name": ".net-csharp"
  },
  "language_info": {
   "file_extension": ".cs",
   "mimetype": "text/x-csharp",
   "name": "C#",
   "pygments_lexer": "csharp",
   "version": "9.0"
  }
 },
 "nbformat": 4,
 "nbformat_minor": 5
}
