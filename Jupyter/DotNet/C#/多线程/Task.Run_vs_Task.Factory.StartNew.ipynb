{
 "cells": [
  {
   "cell_type": "markdown",
   "id": "5f0b6bcb-5a5f-4487-9bcf-49d106ab7a40",
   "metadata": {},
   "source": [
    "# Task.Run VS Task.Factory.StartNew"
   ]
  },
  {
   "cell_type": "code",
   "execution_count": null,
   "id": "468a509a-58fc-435c-a7e4-698fc2d227c5",
   "metadata": {},
   "outputs": [],
   "source": []
  }
 ],
 "metadata": {
  "kernelspec": {
   "display_name": ".NET (C#)",
   "language": "C#",
   "name": ".net-csharp"
  },
  "language_info": {
   "file_extension": ".cs",
   "mimetype": "text/x-csharp",
   "name": "C#",
   "pygments_lexer": "csharp",
   "version": "9.0"
  }
 },
 "nbformat": 4,
 "nbformat_minor": 5
}
