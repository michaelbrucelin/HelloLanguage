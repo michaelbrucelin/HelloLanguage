{
 "cells": [
  {
   "cell_type": "markdown",
   "id": "decb08ac-2c4b-4041-9d21-9a3ab2d96c1f",
   "metadata": {},
   "source": [
    "# 187. 重复的DNA序列\n",
    "所有 DNA 都由一系列缩写为 'A'，'C'，'G' 和 'T' 的核苷酸组成，例如：\"ACGAATTCCG\"。在研究 DNA 时，识别 DNA 中的重复序列有时会对研究非常有帮助。\n",
    "编写一个函数来找出所有目标子串，目标子串的长度为 10，且在 DNA 字符串 s 中出现次数超过一次。\n",
    "\n",
    "## 示例 1：\n",
    "输入：s = \"AAAAACCCCCAAAAACCCCCCAAAAAGGGTTT\"\n",
    "输出：[\"AAAAACCCCC\",\"CCCCCAAAAA\"]\n",
    "\n",
    "## 示例 2：\n",
    "输入：s = \"AAAAAAAAAAAAA\"\n",
    "输出：[\"AAAAAAAAAA\"]\n",
    "\n",
    "## 提示：\n",
    "0 <= s.length <= 105\n",
    "s[i] 为 'A'、'C'、'G' 或 'T'"
   ]
  },
  {
   "cell_type": "code",
   "execution_count": 6,
   "id": "d4492931-15a8-493a-9628-0d72cde3e195",
   "metadata": {},
   "outputs": [
    {
     "name": "stderr",
     "output_type": "stream",
     "text": [
      "\n",
      "(3,33): error CS1026: ) expected\n",
      "\n",
      "(3,43): error CS1002: ; expected\n",
      "\n",
      "(3,43): error CS1513: } expected\n",
      "\n"
     ]
    },
    {
     "ename": "Cell not executed",
     "evalue": "compilation error",
     "output_type": "error",
     "traceback": []
    }
   ],
   "source": [
    "public class Solution {\n",
    "    public IList<string> FindRepeatedDnaSequences(string s) {\n",
    "        return new List<string>(['a', 'b']);\n",
    "    }\n",
    "    \n",
    "    // display(FindRepeatedDnaSequences(''));\n",
    "}"
   ]
  },
  {
   "cell_type": "code",
   "execution_count": 18,
   "id": "8c6db725-fe9f-4d62-9450-68384c273f71",
   "metadata": {},
   "outputs": [
    {
     "data": {
      "text/html": [
       "<table><thead><tr><th><i>index</i></th><th>value</th></tr></thead><tbody><tr><td>0</td><td>a</td></tr><tr><td>1</td><td>b</td></tr></tbody></table>"
      ]
     },
     "metadata": {},
     "output_type": "display_data"
    }
   ],
   "source": [
    "public static class Solution {\n",
    "    public static IList<string> FindRepeatedDnaSequences(string s) {\n",
    "        List<string> result = new List<string>();\n",
    "        result.Add(\"a\");\n",
    "        result.Add(\"b\");\n",
    "        \n",
    "        return result;\n",
    "    }\n",
    "}\n",
    "\n",
    "display(Solution.FindRepeatedDnaSequences(\"\"));"
   ]
  },
  {
   "cell_type": "code",
   "execution_count": null,
   "id": "ae9d759d-037e-4764-879c-caca10259051",
   "metadata": {},
   "outputs": [],
   "source": []
  }
 ],
 "metadata": {
  "kernelspec": {
   "display_name": ".NET (C#)",
   "language": "C#",
   "name": ".net-csharp"
  },
  "language_info": {
   "file_extension": ".cs",
   "mimetype": "text/x-csharp",
   "name": "C#",
   "pygments_lexer": "csharp",
   "version": "9.0"
  }
 },
 "nbformat": 4,
 "nbformat_minor": 5
}
