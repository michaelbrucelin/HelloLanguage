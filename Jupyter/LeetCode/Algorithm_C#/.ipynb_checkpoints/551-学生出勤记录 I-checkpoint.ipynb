{
 "cells": [
  {
   "cell_type": "markdown",
   "id": "d17407e6-e6b3-4741-924a-7efa07aa42fa",
   "metadata": {},
   "source": [
    "# 551. 学生出勤记录 I\n",
    "\n",
    "给你一个字符串`s`表示一个学生的出勤记录，其中的每个字符用来标记当天的出勤情况（缺勤、迟到、到场）。记录中只含下面三种字符：\n",
    "- `'A'`：Absent，缺勤\n",
    "- `'L'`：Late，迟到\n",
    "- `'P'`：Present，到场\n",
    "\n",
    "如果学生能够**同时**满足下面两个条件，则可以获得出勤奖励：\n",
    "- 按**总出勤**计，学生缺勤（`'A'`）**严格**少于两天。\n",
    "- 学生**不会**存在**连续**3天或3天以上的迟到（`'L'`）记录。\n",
    "如果学生可以获得出勤奖励，返回`true`；否则，返回`false`。\n",
    "\n",
    "## 示例 1：\n",
    "> **输入：**s = \"PPALLP\"  \n",
    "> **输出：**true  \n",
    "> **解释：**学生缺勤次数少于 2 次，且不存在 3 天或以上的连续迟到记录。\n",
    "\n",
    "## 示例 2：\n",
    "> **输入：**s = \"PPALLL\"  \n",
    "> **输出：**false  \n",
    "> **解释：**学生最后三天连续迟到，所以不满足出勤奖励的条件。\n",
    "\n",
    "## 提示：\n",
    "- `1 <= s.length <= 1000`\n",
    "- `s[i]`为`'A'`、`'L'`或`'P'`"
   ]
  },
  {
   "cell_type": "code",
   "execution_count": 1,
   "id": "38f0423c-90f0-45c8-9f60-f28ca050aa33",
   "metadata": {},
   "outputs": [
    {
     "data": {
      "text/html": [
       "<div class=\"dni-plaintext\">True</div>"
      ]
     },
     "metadata": {},
     "output_type": "display_data"
    },
    {
     "data": {
      "text/html": [
       "<div class=\"dni-plaintext\">False</div>"
      ]
     },
     "metadata": {},
     "output_type": "display_data"
    }
   ],
   "source": [
    "public class Solution {\n",
    "    public static bool CheckRecord(string s) {\n",
    "        if(s.Length - s.Replace(\"A\", \"\").Length >= 2)\n",
    "            return false;\n",
    "        if(s.Length - s.Replace(\"LLL\", \"\").Length > 0)\n",
    "            return false;\n",
    "        return true;\n",
    "    }\n",
    "}\n",
    "\n",
    "display(Solution.CheckRecord(\"PPALLP\"));\n",
    "display(Solution.CheckRecord(\"PPALLL\"));"
   ]
  },
  {
   "cell_type": "code",
   "execution_count": null,
   "id": "a6a295c5-56ad-409c-bbf5-ff58aa97d5d1",
   "metadata": {},
   "outputs": [],
   "source": []
  }
 ],
 "metadata": {
  "kernelspec": {
   "display_name": ".NET (C#)",
   "language": "C#",
   "name": ".net-csharp"
  },
  "language_info": {
   "file_extension": ".cs",
   "mimetype": "text/x-csharp",
   "name": "C#",
   "pygments_lexer": "csharp",
   "version": "9.0"
  }
 },
 "nbformat": 4,
 "nbformat_minor": 5
}
