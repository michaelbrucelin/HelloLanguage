{
 "cells": [
  {
   "cell_type": "markdown",
   "id": "e31676f2-0ff9-4ebe-884e-c180926b9aaa",
   "metadata": {},
   "source": [
    "# 552. 学生出勤记录 II\n",
    "\n",
    "可以用字符串表示一个学生的出勤记录，其中的每个字符用来标记当天的出勤情况（缺勤、迟到、到场）。记录中只含下面三种字符：\n",
    "- `'A'`：Absent，缺勤\n",
    "- `'L'`：Late，迟到\n",
    "- `'P'`：Present，到场\n",
    "\n",
    "如果学生能够 **同时** 满足下面两个条件，则可以获得出勤奖励：\n",
    "- 按 **总出勤** 计，学生缺勤（`'A'`）**严格** 少于两天。\n",
    "- 学生 **不会** 存在 **连续** 3 天或 **连续** 3 天以上的迟到（`'L'`）记录。\n",
    "\n",
    "给你一个整数 `n` ，表示出勤记录的长度（次数）。请你返回记录长度为 `n` 时，可能获得出勤奖励的记录情况 **数量** 。答案可能很大，所以返回对 `10^9 + 7` **取余** 的结果。\n",
    "\n",
    "## 示例 1：\n",
    "> **输入：**n = 2  \n",
    "> **输出：**8  \n",
    "> **解释：**  \n",
    "有 8 种长度为 2 的记录将被视为可奖励：  \n",
    "\"PP\" , \"AP\", \"PA\", \"LP\", \"PL\", \"AL\", \"LA\", \"LL\"   \n",
    "只有\"AA\"不会被视为可奖励，因为缺勤次数为 2 次（需要少于 2 次）。\n",
    "\n",
    "## 示例 2：\n",
    "> **输入：**n = 1  \n",
    "> **输出：**3\n",
    "\n",
    "## 示例 3：\n",
    "> **输入：**n = 10101  \n",
    "> **输出：**183236316\n",
    "\n",
    "## 提示：\n",
    "- `1 <= n <= 10^5`"
   ]
  },
  {
   "cell_type": "code",
   "execution_count": null,
   "id": "2659ff6f-9e3c-4fa5-966f-40e6bb9e1923",
   "metadata": {},
   "outputs": [],
   "source": [
    "public class Solution {\n",
    "    public static int CheckRecord(int n) {\n",
    "\n",
    "    }\n",
    "}"
   ]
  }
 ],
 "metadata": {
  "kernelspec": {
   "display_name": ".NET (C#)",
   "language": "C#",
   "name": ".net-csharp"
  },
  "language_info": {
   "file_extension": ".cs",
   "mimetype": "text/x-csharp",
   "name": "C#",
   "pygments_lexer": "csharp",
   "version": "9.0"
  }
 },
 "nbformat": 4,
 "nbformat_minor": 5
}
