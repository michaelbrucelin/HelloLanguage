{
 "cells": [
  {
   "cell_type": "code",
   "execution_count": null,
   "id": "b6859128-0f3a-4ebe-b3f2-bc64676af62f",
   "metadata": {},
   "outputs": [],
   "source": [
    "open System\n",
    "\n",
    "[<EntryPoint>]\n",
    "let main argv =\n",
    "    printfn \"Hello World from F#!\"\n",
    "    0  // return an integer exit code"
   ]
  },
  {
   "cell_type": "code",
   "execution_count": null,
   "id": "99afeb4d-79c8-430f-a9a3-21ba1d02dfa2",
   "metadata": {},
   "outputs": [],
   "source": [
    "open System\n",
    "\n",
    "// Define a new function to print a name.\n",
    "// It must be defined before it is called in the main function.\n",
    "let printGreeting name =\n",
    "    printfn \"Hello %s from F#!\" name\n",
    "\n",
    "[<EntryPoint>]\n",
    "let main argv =\n",
    "    // Call your new function!\n",
    "    printGreeting \"Ana\"\n",
    "    0 // return an integer exit code"
   ]
  },
  {
   "cell_type": "code",
   "execution_count": null,
   "id": "f414fe35-9855-47c2-be6d-d567559152b5",
   "metadata": {},
   "outputs": [],
   "source": [
    "open System\n",
    "\n",
    "[<EntryPoint>]\n",
    "let main argv = \n",
    "    printfn \"Hello World\" \n",
    "    Console.ReadLine() |> ignore\n",
    "    0 "
   ]
  },
  {
   "cell_type": "code",
   "execution_count": null,
   "id": "eeef5349-2a2e-445d-989f-b3ca6cc16157",
   "metadata": {},
   "outputs": [],
   "source": []
  }
 ],
 "metadata": {
  "kernelspec": {
   "display_name": ".NET (F#)",
   "language": "F#",
   "name": ".net-fsharp"
  },
  "language_info": {
   "file_extension": ".fs",
   "mimetype": "text/x-fsharp",
   "name": "F#",
   "pygments_lexer": "fsharp",
   "version": "5.0"
  }
 },
 "nbformat": 4,
 "nbformat_minor": 5
}
