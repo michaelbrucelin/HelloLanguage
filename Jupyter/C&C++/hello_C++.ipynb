{
 "cells": [
  {
   "cell_type": "code",
   "execution_count": 1,
   "id": "342c34a3-0152-4ac6-b9bd-65e50b447d1b",
   "metadata": {},
   "outputs": [
    {
     "name": "stderr",
     "output_type": "stream",
     "text": [
      "In file included from input_line_3:2:\n",
      "/usr/include/stdio.h:29:1: error: expected unqualified-id\n",
      "__BEGIN_DECLS\n",
      "^\n",
      "/usr/include/x86_64-linux-gnu/sys/cdefs.h:114:31: note: expanded from macro '__BEGIN_DECLS'\n",
      "# define __BEGIN_DECLS  extern \"C\" {\n",
      "                               ^\n",
      "input_line_3:4:1: error: use of undeclared identifier 'printf'\n",
      "printf(\"Hello World!\\n\")\n",
      "^\n"
     ]
    },
    {
     "ename": "ename",
     "evalue": "evalue",
     "output_type": "error",
     "traceback": []
    }
   ],
   "source": [
    "#include <stdio.h>\n",
    "\n",
    "printf(\"Hello World!\\n\")"
   ]
  },
  {
   "cell_type": "code",
   "execution_count": null,
   "id": "19c8770c-8779-4821-8eb6-2d94a633b357",
   "metadata": {},
   "outputs": [
    {
     "name": "stderr",
     "output_type": "stream",
     "text": [
      "input_line_4:6:1: error: use of undeclared identifier 'cout'\n",
      "cout << \"Hello, World!\";\n",
      "^\n"
     ]
    }
   ],
   "source": [
    "#include <stdio.h>\n",
    "\n",
    "using namespace std;\n",
    "\n",
    "cout << \"Hello, World!\";"
   ]
  },
  {
   "cell_type": "code",
   "execution_count": null,
   "id": "8d19dc56-4d1d-4b10-8cb2-798289698a1b",
   "metadata": {},
   "outputs": [
    {
     "name": "stderr",
     "output_type": "stream",
     "text": [
      "input_line_3:7:1: error: function definition is not allowed here\n",
      "{\n",
      "^\n"
     ]
    }
   ],
   "source": [
    "#include <iostream>\n",
    "\n",
    "using namespace std;\n",
    "\n",
    "int main()\n",
    "{\n",
    "    cout << \"Hello, World!\";\n",
    "    return 0;\n",
    "}"
   ]
  },
  {
   "cell_type": "code",
   "execution_count": null,
   "id": "ffec28e2-9cb7-4b0f-83ac-68bbd7aaf128",
   "metadata": {},
   "outputs": [],
   "source": []
  }
 ],
 "metadata": {
  "kernelspec": {
   "display_name": "C++1z",
   "language": "C++",
   "name": "cling-cpp1z"
  },
  "language_info": {
   "codemirror_mode": "c++",
   "file_extension": ".c++",
   "mimetype": "text/x-c++src",
   "name": "c++"
  }
 },
 "nbformat": 4,
 "nbformat_minor": 5
}
