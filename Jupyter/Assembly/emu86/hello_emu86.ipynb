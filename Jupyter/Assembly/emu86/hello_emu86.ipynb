{
 "cells": [
  {
   "cell_type": "code",
   "execution_count": 1,
   "id": "fe062ef6-84e1-40b4-9652-87c8fb1c880a",
   "metadata": {},
   "outputs": [
    {
     "name": "error_msg",
     "output_type": "stream",
     "text": [
      "Line 2: Invalid argument: :"
     ]
    }
   ],
   "source": [
    "----------------------------------------\n",
    "Program  : Hello World Program \n",
    "FileName : Helloworld.asm\n",
    "I/P \t : Nill\n",
    "O/P \t : Displays Hello World \n",
    "By       : Murugan AD \n",
    "----------------------------------------\n",
    "\n",
    ".model tiny  \t\t  \t\t; com program\n",
    ".code\t\t\t  \t\t; code segment\n",
    "org 100h\t\t  \t\t; code starts at offset 100h\t\n",
    "\n",
    "main proc near\n",
    "  mov ah,09h\t\t   \t\t; function to display a string \t\n",
    "  mov mov dx,offset message \t\t; offset ofMessage string terminating with $\n",
    "  int 21h                  \t\t; dos interrupt\n",
    "  mov ah,4ch               \t\t; function to terminate\n",
    "  mov al,00\n",
    "  int 21h  \t\t   \t\t; Dos Interrupt \n",
    "endp \n",
    "message db \"Hello World $\"\t\t; Message to be displayed terminating with a $\n",
    "end main\n",
    "\n",
    "Generete Executable using Tasm / Tlink \n",
    "tasm helloworld.asm\n",
    "tlink /t helloworld"
   ]
  },
  {
   "cell_type": "code",
   "execution_count": 2,
   "id": "60145e41-123f-4bc8-aeb8-ce71d448a9ff",
   "metadata": {},
   "outputs": [
    {
     "name": "error_msg",
     "output_type": "stream",
     "text": [
      "Line 2: Invalid argument: :"
     ]
    }
   ],
   "source": [
    "----------------------------------------\n",
    "Program  : Write Directly to Video Memory \n",
    "FileName : DisplayText.asm\n",
    "I/P \t : Nill\n",
    "O/P \t : Displays Hello Mem\n",
    "By       : Murugan AD \n",
    "----------------------------------------\n",
    "\n",
    ".model tiny  \t\t  \t\t; com program\n",
    ".code\t\t\t  \t\t; code segment\n",
    "org 100h\t\t  \t\t; code starts at offset 100h\t\n",
    "\n",
    "main proc near\n",
    "  mov ax,b800h\n",
    "  mov es,ax\n",
    "  mov mov ax,offset message \t\t; offset ofMessage string terminating with $\n",
    "  mov si,ax                             ; Make Si point to string address\n",
    "  mov di,0                              ; Make Destination Index point to B800:0000\n",
    "loop1:\n",
    "  mov al,[si]\t\t\t\t; Read First Character\n",
    "  mov es:[di],al                        ; Write to Video\n",
    "  inc si                                ; Point to next character\n",
    "  inc di\n",
    "  inc di                                ; Next Display Area\n",
    "  cmp al,'&'\n",
    "  jne loop1                             ; if not '$' jump to loop1 \t\t\t\t\n",
    " \n",
    "  mov ah,4ch               \t\t; function to terminate\n",
    "  mov al,00\n",
    "  int 21h  \t\t   \t\t; Dos Interrupt \n",
    "endp \n",
    "message db \"Hello World $\"\t\t; Message to be displayed terminating with a $\n",
    "end main\n",
    "\n",
    "Generete Executable using Tasm / Tlink \n",
    "tasm displaytext.asm\n",
    "tlink /t displaytext"
   ]
  },
  {
   "cell_type": "code",
   "execution_count": null,
   "id": "79adaed9-5888-40d6-8768-099f93cbed21",
   "metadata": {},
   "outputs": [],
   "source": []
  }
 ],
 "metadata": {
  "kernelspec": {
   "display_name": "Intel",
   "language": "",
   "name": "intel"
  },
  "language_info": {
   "file_extension": "x86",
   "mimetype": "intel",
   "name": "intel"
  }
 },
 "nbformat": 4,
 "nbformat_minor": 5
}
