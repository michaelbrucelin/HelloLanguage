{
 "cells": [
  {
   "cell_type": "code",
   "execution_count": 1,
   "id": "72206ae6-dea8-44f7-b3ac-6b124b745288",
   "metadata": {},
   "outputs": [
    {
     "name": "stdout",
     "output_type": "stream",
     "text": [
      "hello bash\n"
     ]
    }
   ],
   "source": [
    "echo 'hello bash'"
   ]
  },
  {
   "cell_type": "code",
   "execution_count": null,
   "id": "44edda19-475c-40b4-9cba-62d919a62579",
   "metadata": {},
   "outputs": [],
   "source": []
  }
 ],
 "metadata": {
  "kernelspec": {
   "display_name": "Bash",
   "language": "bash",
   "name": "bash"
  },
  "language_info": {
   "codemirror_mode": "shell",
   "file_extension": ".sh",
   "mimetype": "text/x-sh",
   "name": "bash"
  }
 },
 "nbformat": 4,
 "nbformat_minor": 5
}
