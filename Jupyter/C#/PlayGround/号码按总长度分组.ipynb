{
 "cells": [
  {
   "cell_type": "markdown",
   "id": "96068dc6-fc32-4fde-94d4-93d908540810",
   "metadata": {},
   "source": [
    "# 号码按总长度分组"
   ]
  },
  {
   "cell_type": "markdown",
   "id": "995a4296-1512-4c37-aaa2-974231cd82b8",
   "metadata": {},
   "source": [
    "**目的**：解析sipp群呼文件，提取主叫号码，然后用逗号（,）将号码连接起来，分组放入list中，每一组尽可能长，切长度要<=65535。  \n",
    "**环境**：程序中原始数据为DataTable，这里使用csv加载。"
   ]
  },
  {
   "cell_type": "markdown",
   "id": "40e7aa1d-c14b-447a-bfb3-8394b4b81a6d",
   "metadata": {},
   "source": [
    "**准备工作**\n",
    "\n",
    "```bash\n",
    "cd /root/GithubProjects/HelloLanguage/Jupyter/C#/PlayGround/\n",
    "bzip2 -d --keep ./data/sipp_callfile.csv.bz2\n",
    "```\n",
    "\n",
    "**扫尾工作**\n",
    "\n",
    "```bash\n",
    "cd /root/GithubProjects/HelloLanguage/Jupyter/C#/PlayGround/\n",
    "rm -f ./data/sipp_callfile.csv\n",
    "```"
   ]
  },
  {
   "cell_type": "code",
   "execution_count": 17,
   "id": "75565584-4bda-4e3a-bf6e-6cbdb8356ac0",
   "metadata": {},
   "outputs": [
    {
     "name": "stdout",
     "output_type": "stream",
     "text": [
      "Test_8995_212264174739;000-00994244917310912;[authentication username=1234 password=1234]\n",
      "Test_8995_313246646064;000-0301122366939207;[authentication username=1234 password=1234]\n",
      "Test_8995_448213530174;000-0157240720885684;[authentication username=1234 password=1234]\n",
      "Test_8995_370599366746;000-0544197333444392;[authentication username=1234 password=1234]\n",
      "Test_8995_147233217830;000-0328340745509415;[authentication username=1234 password=1234]\n",
      "Test_8995_361601108331;000-02552243975400261;[authentication username=1234 password=1234]\n",
      "Test_8995_222398559233;000-02473213777025423;[authentication username=1234 password=1234]\n",
      "Test_8995_161316013186;000-0357223593319664;[authentication username=1234 password=1234]\n",
      "Test_8995_686062954777;000-02043244912717932;[authentication username=1234 password=1234]\n",
      "Test_8995_487693410707;000-02994218924115643;[authentication username=1234 password=1234]\n",
      "Test_8995_590788259698;000-01741905535212513;[authentication username=1234 password=1234]\n"
     ]
    }
   ],
   "source": [
    "using System.IO;\n",
    "\n",
    "//DataTable dtCallList = new DataTable();\n",
    "//dtCallList.Columns.Add(\"CallerNum\", typeof(String));\n",
    "//dtCallList.Columns.Add(\"CalleeNum\", typeof(String));\n",
    "//dtCallList.Columns.Add(\"AuthInfo\", typeof(String));\n",
    "\n",
    "using (StreamReader sr = new StreamReader(\"data/sipp_callfile.csv\"))\n",
    "{\n",
    "    sr.ReadLine();  // 忽略首行\n",
    "    \n",
    "    int i = 0;\n",
    "    string line;\n",
    "    while ((line = sr.ReadLine()) != null)\n",
    "    {\n",
    "        Console.WriteLine(line);\n",
    "        if(++i > 10) break;\n",
    "    }\n",
    "}"
   ]
  },
  {
   "cell_type": "code",
   "execution_count": null,
   "id": "d8d55dd5-7517-47e3-b559-9e3e84e111d5",
   "metadata": {},
   "outputs": [],
   "source": []
  },
  {
   "cell_type": "code",
   "execution_count": null,
   "id": "411c508a-760d-4378-993c-eb0a371effa3",
   "metadata": {},
   "outputs": [],
   "source": []
  }
 ],
 "metadata": {
  "kernelspec": {
   "display_name": ".NET (C#)",
   "language": "C#",
   "name": ".net-csharp"
  },
  "language_info": {
   "file_extension": ".cs",
   "mimetype": "text/x-csharp",
   "name": "C#",
   "pygments_lexer": "csharp",
   "version": "9.0"
  }
 },
 "nbformat": 4,
 "nbformat_minor": 5
}
