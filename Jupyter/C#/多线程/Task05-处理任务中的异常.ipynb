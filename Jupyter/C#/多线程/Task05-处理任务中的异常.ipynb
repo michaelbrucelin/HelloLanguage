{
 "cells": [
  {
   "cell_type": "markdown",
   "id": "d39c3e65-fdd1-4a4c-96b5-dd1ee2960cca",
   "metadata": {},
   "source": [
    "# 5. 处理任务中的异常"
   ]
  },
  {
   "cell_type": "code",
   "execution_count": 1,
   "id": "7f9fb55f-7bf2-4ad8-82fb-0f7b519d8129",
   "metadata": {},
   "outputs": [
    {
     "data": {
      "text/html": [
       "\r\n",
       "<div>\r\n",
       "    <div id='dotnet-interactive-this-cell-110180.Microsoft.DotNet.Interactive.Http.HttpPort' style='display: none'>\r\n",
       "        The below script needs to be able to find the current output cell; this is an easy method to get it.\r\n",
       "    </div>\r\n",
       "    <script type='text/javascript'>\r\n",
       "async function probeAddresses(probingAddresses) {\r\n",
       "    function timeout(ms, promise) {\r\n",
       "        return new Promise(function (resolve, reject) {\r\n",
       "            setTimeout(function () {\r\n",
       "                reject(new Error('timeout'))\r\n",
       "            }, ms)\r\n",
       "            promise.then(resolve, reject)\r\n",
       "        })\r\n",
       "    }\r\n",
       "\r\n",
       "    if (Array.isArray(probingAddresses)) {\r\n",
       "        for (let i = 0; i < probingAddresses.length; i++) {\r\n",
       "\r\n",
       "            let rootUrl = probingAddresses[i];\r\n",
       "\r\n",
       "            if (!rootUrl.endsWith('/')) {\r\n",
       "                rootUrl = `${rootUrl}/`;\r\n",
       "            }\r\n",
       "\r\n",
       "            try {\r\n",
       "                let response = await timeout(1000, fetch(`${rootUrl}discovery`, {\r\n",
       "                    method: 'POST',\r\n",
       "                    cache: 'no-cache',\r\n",
       "                    mode: 'cors',\r\n",
       "                    timeout: 1000,\r\n",
       "                    headers: {\r\n",
       "                        'Content-Type': 'text/plain'\r\n",
       "                    },\r\n",
       "                    body: probingAddresses[i]\r\n",
       "                }));\r\n",
       "\r\n",
       "                if (response.status == 200) {\r\n",
       "                    return rootUrl;\r\n",
       "                }\r\n",
       "            }\r\n",
       "            catch (e) { }\r\n",
       "        }\r\n",
       "    }\r\n",
       "}\r\n",
       "\r\n",
       "function loadDotnetInteractiveApi() {\r\n",
       "    probeAddresses([\"http://192.168.91.223:1000/\", \"http://127.0.0.1:1000/\"])\r\n",
       "        .then((root) => {\r\n",
       "        // use probing to find host url and api resources\r\n",
       "        // load interactive helpers and language services\r\n",
       "        let dotnetInteractiveRequire = require.config({\r\n",
       "        context: '110180.Microsoft.DotNet.Interactive.Http.HttpPort',\r\n",
       "                paths:\r\n",
       "            {\r\n",
       "                'dotnet-interactive': `${root}resources`\r\n",
       "                }\r\n",
       "        }) || require;\r\n",
       "\r\n",
       "            window.dotnetInteractiveRequire = dotnetInteractiveRequire;\r\n",
       "\r\n",
       "            window.configureRequireFromExtension = function(extensionName, extensionCacheBuster) {\r\n",
       "                let paths = {};\r\n",
       "                paths[extensionName] = `${root}extensions/${extensionName}/resources/`;\r\n",
       "                \r\n",
       "                let internalRequire = require.config({\r\n",
       "                    context: extensionCacheBuster,\r\n",
       "                    paths: paths,\r\n",
       "                    urlArgs: `cacheBuster=${extensionCacheBuster}`\r\n",
       "                    }) || require;\r\n",
       "\r\n",
       "                return internalRequire\r\n",
       "            };\r\n",
       "        \r\n",
       "            dotnetInteractiveRequire([\r\n",
       "                    'dotnet-interactive/dotnet-interactive'\r\n",
       "                ],\r\n",
       "                function (dotnet) {\r\n",
       "                    dotnet.init(window);\r\n",
       "                },\r\n",
       "                function (error) {\r\n",
       "                    console.log(error);\r\n",
       "                }\r\n",
       "            );\r\n",
       "        })\r\n",
       "        .catch(error => {console.log(error);});\r\n",
       "    }\r\n",
       "\r\n",
       "// ensure `require` is available globally\r\n",
       "if ((typeof(require) !==  typeof(Function)) || (typeof(require.config) !== typeof(Function))) {\r\n",
       "    let require_script = document.createElement('script');\r\n",
       "    require_script.setAttribute('src', 'https://cdnjs.cloudflare.com/ajax/libs/require.js/2.3.6/require.min.js');\r\n",
       "    require_script.setAttribute('type', 'text/javascript');\r\n",
       "    \r\n",
       "    \r\n",
       "    require_script.onload = function() {\r\n",
       "        loadDotnetInteractiveApi();\r\n",
       "    };\r\n",
       "\r\n",
       "    document.getElementsByTagName('head')[0].appendChild(require_script);\r\n",
       "}\r\n",
       "else {\r\n",
       "    loadDotnetInteractiveApi();\r\n",
       "}\r\n",
       "\r\n",
       "    </script>\r\n",
       "</div>"
      ]
     },
     "metadata": {},
     "output_type": "display_data"
    }
   ],
   "source": [
    "using System.Threading;\n",
    "using System.Threading.Tasks;"
   ]
  },
  {
   "cell_type": "code",
   "execution_count": 2,
   "id": "90f63ae8-b53d-45a5-83c4-7bc927d84b69",
   "metadata": {},
   "outputs": [
    {
     "name": "stderr",
     "output_type": "stream",
     "text": [
      "\n",
      "(9,9): warning CS0162: Unreachable code detected\n",
      "\n"
     ]
    }
   ],
   "source": [
    "public static class TaskClass\n",
    "{\n",
    "    public static int TaskMethod(string taskname, int seconds)\n",
    "    {\n",
    "        Console.WriteLine(\"Task {taskname} is running on a thread id {Thread.CurrentThread.ManagedThreadId}. Is thread pool thread: {Thread.CurrentThread.IsThreadPoolThread}\");\n",
    "        Thread.Sleep(TimeSpan.FromSeconds(seconds));\n",
    "        throw new Exception($\"Task {taskname} Boom!\");\n",
    "        \n",
    "        return 42 * seconds;\n",
    "    }    \n",
    "}"
   ]
  },
  {
   "cell_type": "markdown",
   "id": "a8d08c65-3ed5-40b4-b9ec-9f13b12ed135",
   "metadata": {},
   "source": [
    "## 5.1 单个任务"
   ]
  },
  {
   "cell_type": "code",
   "execution_count": 3,
   "id": "17b641c5-0799-4f2e-b457-fd3cfda7224a",
   "metadata": {},
   "outputs": [
    {
     "name": "stdout",
     "output_type": "stream",
     "text": [
      "Task {taskname} is running on a thread id {Thread.CurrentThread.ManagedThreadId}. Is thread pool thread: {Thread.CurrentThread.IsThreadPoolThread}\n",
      "Task 1 Exception caught: Task Task 1 Boom!\n",
      "done\n"
     ]
    }
   ],
   "source": [
    "try\n",
    "{\n",
    "    Task<int> task = Task.Run(() => TaskClass.TaskMethod(\"Task 1\", 2));\n",
    "    int result = task.GetAwaiter().GetResult();\n",
    "    Console.WriteLine(\"Result: {0}\", result);\n",
    "}\n",
    "catch (Exception ex)\n",
    "{\n",
    "    Console.WriteLine(\"Task 1 Exception caught: {0}\", ex.Message);\n",
    "}\n",
    "\n",
    "Console.WriteLine(\"done\");"
   ]
  },
  {
   "cell_type": "markdown",
   "id": "2fd2ebfb-9779-45ae-a5e4-40f4995f6357",
   "metadata": {},
   "source": [
    "## 5.2 多个任务"
   ]
  },
  {
   "cell_type": "code",
   "execution_count": 4,
   "id": "02cb8500-e2fd-4a75-a6a4-4fb5cb3e7176",
   "metadata": {},
   "outputs": [
    {
     "name": "stdout",
     "output_type": "stream",
     "text": [
      "Task {taskname} is running on a thread id {Thread.CurrentThread.ManagedThreadId}. Is thread pool thread: {Thread.CurrentThread.IsThreadPoolThread}\n",
      "Task {taskname} is running on a thread id {Thread.CurrentThread.ManagedThreadId}. Is thread pool thread: {Thread.CurrentThread.IsThreadPoolThread}\n",
      "Task Task 1 Boom!\n",
      "Task Task 2 Boom!\n",
      "done\n"
     ]
    }
   ],
   "source": [
    "try\n",
    "{\n",
    "    var t1 = new Task<int>(() => TaskClass.TaskMethod(\"Task 1\", 3));\n",
    "    var t2 = new Task<int>(() => TaskClass.TaskMethod(\"Task 2\", 2));\n",
    "    var complexTask = Task.WhenAll(t1, t2);  // t1 t2都完成\n",
    "    var exceptionHandler = complexTask.ContinueWith(t =>\n",
    "        Console.WriteLine(\"Result: {0}\", t.Result),\n",
    "        TaskContinuationOptions.OnlyOnFaulted\n",
    "    );\n",
    "    t1.Start();\n",
    "    t2.Start();\n",
    "    Task.WaitAll(t1, t2);\n",
    "}\n",
    "catch (AggregateException ex)\n",
    "{\n",
    "    ex.Handle(exception =>\n",
    "    {\n",
    "        Console.WriteLine(exception.Message);\n",
    "        return true;\n",
    "    });\n",
    "}\n",
    "\n",
    "Console.WriteLine(\"done\");"
   ]
  },
  {
   "cell_type": "markdown",
   "id": "4e5b1096-fdae-4508-b132-362221d8edbd",
   "metadata": {},
   "source": [
    "## 5.3 async/await的方式"
   ]
  },
  {
   "cell_type": "code",
   "execution_count": 5,
   "id": "3ebf478e-ec70-443a-b66d-5eb55db76084",
   "metadata": {},
   "outputs": [
    {
     "name": "stdout",
     "output_type": "stream",
     "text": [
      "i=1\n",
      "主线程继续运行... ...\n",
      "i=2\n",
      "i=3\n",
      "i=4\n",
      "i=5\n",
      "i=6\n",
      "i=7\n",
      "i=8\n",
      "i=9\n",
      "i=10\n",
      "task1 任务报错!\n"
     ]
    },
    {
     "name": "stderr",
     "output_type": "stream",
     "text": [
      "\n",
      "(20,36): warning CS0168: The variable 'ex' is declared but never used\n",
      "\n",
      "(24,38): warning CS0168: The variable 'ex' is declared but never used\n",
      "\n",
      "(28,22): warning CS0168: The variable 'ex' is declared but never used\n",
      "\n",
      "(51,26): warning CS1998: This async method lacks 'await' operators and will run synchronously. Consider using the 'await' operator to await non-blocking API calls, or 'await Task.Run(...)' to do CPU-bound work on a background thread.\n",
      "\n",
      "(56,26): warning CS1998: This async method lacks 'await' operators and will run synchronously. Consider using the 'await' operator to await non-blocking API calls, or 'await Task.Run(...)' to do CPU-bound work on a background thread.\n",
      "\n"
     ]
    }
   ],
   "source": [
    "Task task = ObserveOneExceptionAsync();\n",
    "Console.WriteLine(\"主线程继续运行... ...\");\n",
    "task.Wait();\n",
    "\n",
    "public static async Task ObserveOneExceptionAsync()\n",
    "{\n",
    "    var task1 = ThrowNotImplementedExceptionAsync();\n",
    "    var task2 = ThrowInvalidOperationExceptionAsync();\n",
    "    var task3 = Normal();\n",
    "\n",
    "    try\n",
    "    {\n",
    "        //异步的方式\n",
    "        Task allTasks = Task.WhenAll(task1, task2, task3);\n",
    "        await allTasks;\n",
    "\n",
    "        //同步的方式\n",
    "        //Task.WaitAll(task1, task2, task3);\n",
    "    }\n",
    "    catch (NotImplementedException ex)\n",
    "    {\n",
    "        Console.WriteLine(\"task1 任务报错!\");\n",
    "    }\n",
    "    catch (InvalidOperationException ex)\n",
    "    {\n",
    "        Console.WriteLine(\"task2 任务报错!\");\n",
    "    }\n",
    "    catch (Exception ex)\n",
    "    {\n",
    "        Console.WriteLine(\"任务报错!\");\n",
    "    }\n",
    "}\n",
    "\n",
    "public static Task Fun()\n",
    "{\n",
    "    return Task.Run(() =>\n",
    "    {\n",
    "        for (int i = 1; i <= 10; i++)\n",
    "        {\n",
    "            Console.WriteLine(\"i={0}\", i);\n",
    "            Thread.Sleep(200);\n",
    "        }\n",
    "    });\n",
    "}\n",
    "\n",
    "public static async Task Normal()\n",
    "{\n",
    "    await Fun();\n",
    "}\n",
    "\n",
    "public static async Task ThrowNotImplementedExceptionAsync()\n",
    "{\n",
    "    throw new NotImplementedException();\n",
    "}\n",
    "\n",
    "public static async Task ThrowInvalidOperationExceptionAsync()\n",
    "{\n",
    "    throw new InvalidOperationException();\n",
    "}"
   ]
  },
  {
   "cell_type": "code",
   "execution_count": null,
   "id": "3a36083c-add9-4c69-8438-45bb6b88a019",
   "metadata": {},
   "outputs": [],
   "source": []
  }
 ],
 "metadata": {
  "kernelspec": {
   "display_name": ".NET (C#)",
   "language": "C#",
   "name": ".net-csharp"
  },
  "language_info": {
   "file_extension": ".cs",
   "mimetype": "text/x-csharp",
   "name": "C#",
   "pygments_lexer": "csharp",
   "version": "9.0"
  }
 },
 "nbformat": 4,
 "nbformat_minor": 5
}
