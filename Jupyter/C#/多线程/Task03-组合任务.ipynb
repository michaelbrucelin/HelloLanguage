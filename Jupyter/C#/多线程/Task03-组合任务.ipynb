{
 "cells": [
  {
   "cell_type": "markdown",
   "id": "317f2892-c810-448a-a4aa-639a78b13332",
   "metadata": {
    "tags": []
   },
   "source": [
    "# 3. Task的用法"
   ]
  },
  {
   "cell_type": "code",
   "execution_count": 1,
   "id": "59fd68d0-181c-4b79-b160-83505e0b43c9",
   "metadata": {},
   "outputs": [
    {
     "data": {
      "text/html": [
       "\r\n",
       "<div>\r\n",
       "    <div id='dotnet-interactive-this-cell-93588.Microsoft.DotNet.Interactive.Http.HttpPort' style='display: none'>\r\n",
       "        The below script needs to be able to find the current output cell; this is an easy method to get it.\r\n",
       "    </div>\r\n",
       "    <script type='text/javascript'>\r\n",
       "async function probeAddresses(probingAddresses) {\r\n",
       "    function timeout(ms, promise) {\r\n",
       "        return new Promise(function (resolve, reject) {\r\n",
       "            setTimeout(function () {\r\n",
       "                reject(new Error('timeout'))\r\n",
       "            }, ms)\r\n",
       "            promise.then(resolve, reject)\r\n",
       "        })\r\n",
       "    }\r\n",
       "\r\n",
       "    if (Array.isArray(probingAddresses)) {\r\n",
       "        for (let i = 0; i < probingAddresses.length; i++) {\r\n",
       "\r\n",
       "            let rootUrl = probingAddresses[i];\r\n",
       "\r\n",
       "            if (!rootUrl.endsWith('/')) {\r\n",
       "                rootUrl = `${rootUrl}/`;\r\n",
       "            }\r\n",
       "\r\n",
       "            try {\r\n",
       "                let response = await timeout(1000, fetch(`${rootUrl}discovery`, {\r\n",
       "                    method: 'POST',\r\n",
       "                    cache: 'no-cache',\r\n",
       "                    mode: 'cors',\r\n",
       "                    timeout: 1000,\r\n",
       "                    headers: {\r\n",
       "                        'Content-Type': 'text/plain'\r\n",
       "                    },\r\n",
       "                    body: probingAddresses[i]\r\n",
       "                }));\r\n",
       "\r\n",
       "                if (response.status == 200) {\r\n",
       "                    return rootUrl;\r\n",
       "                }\r\n",
       "            }\r\n",
       "            catch (e) { }\r\n",
       "        }\r\n",
       "    }\r\n",
       "}\r\n",
       "\r\n",
       "function loadDotnetInteractiveApi() {\r\n",
       "    probeAddresses([\"http://192.168.91.223:1003/\", \"http://127.0.0.1:1003/\"])\r\n",
       "        .then((root) => {\r\n",
       "        // use probing to find host url and api resources\r\n",
       "        // load interactive helpers and language services\r\n",
       "        let dotnetInteractiveRequire = require.config({\r\n",
       "        context: '93588.Microsoft.DotNet.Interactive.Http.HttpPort',\r\n",
       "                paths:\r\n",
       "            {\r\n",
       "                'dotnet-interactive': `${root}resources`\r\n",
       "                }\r\n",
       "        }) || require;\r\n",
       "\r\n",
       "            window.dotnetInteractiveRequire = dotnetInteractiveRequire;\r\n",
       "\r\n",
       "            window.configureRequireFromExtension = function(extensionName, extensionCacheBuster) {\r\n",
       "                let paths = {};\r\n",
       "                paths[extensionName] = `${root}extensions/${extensionName}/resources/`;\r\n",
       "                \r\n",
       "                let internalRequire = require.config({\r\n",
       "                    context: extensionCacheBuster,\r\n",
       "                    paths: paths,\r\n",
       "                    urlArgs: `cacheBuster=${extensionCacheBuster}`\r\n",
       "                    }) || require;\r\n",
       "\r\n",
       "                return internalRequire\r\n",
       "            };\r\n",
       "        \r\n",
       "            dotnetInteractiveRequire([\r\n",
       "                    'dotnet-interactive/dotnet-interactive'\r\n",
       "                ],\r\n",
       "                function (dotnet) {\r\n",
       "                    dotnet.init(window);\r\n",
       "                },\r\n",
       "                function (error) {\r\n",
       "                    console.log(error);\r\n",
       "                }\r\n",
       "            );\r\n",
       "        })\r\n",
       "        .catch(error => {console.log(error);});\r\n",
       "    }\r\n",
       "\r\n",
       "// ensure `require` is available globally\r\n",
       "if ((typeof(require) !==  typeof(Function)) || (typeof(require.config) !== typeof(Function))) {\r\n",
       "    let require_script = document.createElement('script');\r\n",
       "    require_script.setAttribute('src', 'https://cdnjs.cloudflare.com/ajax/libs/require.js/2.3.6/require.min.js');\r\n",
       "    require_script.setAttribute('type', 'text/javascript');\r\n",
       "    \r\n",
       "    \r\n",
       "    require_script.onload = function() {\r\n",
       "        loadDotnetInteractiveApi();\r\n",
       "    };\r\n",
       "\r\n",
       "    document.getElementsByTagName('head')[0].appendChild(require_script);\r\n",
       "}\r\n",
       "else {\r\n",
       "    loadDotnetInteractiveApi();\r\n",
       "}\r\n",
       "\r\n",
       "    </script>\r\n",
       "</div>"
      ]
     },
     "metadata": {},
     "output_type": "display_data"
    }
   ],
   "source": [
    "using System.Threading;\n",
    "using System.Threading.Tasks;"
   ]
  },
  {
   "cell_type": "code",
   "execution_count": 2,
   "id": "78ce1c51-7fcd-4ee0-b047-9e7098aec28f",
   "metadata": {},
   "outputs": [],
   "source": [
    "public static class TaskClass\n",
    "{\n",
    "    public static void TaskMethod(string taskname, int duration)\n",
    "    {\n",
    "        Console.WriteLine($\"Task [{taskname}] is start... ...\");\n",
    "        Console.WriteLine($\"Task [{taskname}] is running on a thread id: {Thread.CurrentThread.ManagedThreadId}, is thread pool thread: {Thread.CurrentThread.IsThreadPoolThread}\");\n",
    "        Thread.Sleep(duration);\n",
    "        Console.WriteLine($\"Task [{taskname}] is stop... ...\");\n",
    "    }\n",
    "\n",
    "    public static void TaskReport(Task task)\n",
    "    {\n",
    "        Console.WriteLine($\"任务完成，完成时候的状态为： IsCanceled={task.IsCanceled}  IsCompleted={task.IsCompleted}  IsFaulted={task.IsFaulted}\");\n",
    "    }\n",
    "    \n",
    "    public static int TaskMethodInt(string taskname, int duration)\n",
    "    {\n",
    "        Console.WriteLine($\"Task [{taskname}] is start... ...\");\n",
    "        Console.WriteLine($\"Task [{taskname}] is running on a thread id: {Thread.CurrentThread.ManagedThreadId}, is thread pool thread: {Thread.CurrentThread.IsThreadPoolThread}\");\n",
    "        Thread.Sleep(duration);\n",
    "        Console.WriteLine($\"Task [{taskname}] is stop... ...\");\n",
    "\n",
    "        return 1024;\n",
    "    }\n",
    "}"
   ]
  },
  {
   "cell_type": "markdown",
   "id": "813074f7-47e0-47b8-a3ee-26c4106eafdd",
   "metadata": {},
   "source": [
    "## 2.2 组合任务 ContinueWith"
   ]
  },
  {
   "cell_type": "markdown",
   "id": "3338f49e-52dc-4beb-87dd-39951078dfd5",
   "metadata": {},
   "source": [
    "### 2.2.1 demo"
   ]
  },
  {
   "cell_type": "code",
   "execution_count": 3,
   "id": "e693bab3-ccd2-4ff3-bf0f-c9376fbea17f",
   "metadata": {},
   "outputs": [
    {
     "name": "stdout",
     "output_type": "stream",
     "text": [
      "主线程执行其他处理... ...\n",
      "使用Task执行异步操作.\n",
      "任务完成后的执行结果：4950\n"
     ]
    }
   ],
   "source": [
    "//创建一个任务\n",
    "Task<int> task = new Task<int>(() =>\n",
    "{\n",
    "    int sum = 0;\n",
    "    Console.WriteLine(\"使用Task执行异步操作.\");\n",
    "    for (int i = 0; i < 100; i++)\n",
    "    {\n",
    "        sum += i;\n",
    "    }\n",
    "    return sum;\n",
    "});\n",
    "\n",
    "//启动任务，并安排到当前任务队列线程中执行任务(System.Threading.Tasks.TaskScheduler)\n",
    "task.Start();\n",
    "Console.WriteLine(\"主线程执行其他处理... ...\");\n",
    "\n",
    "//任务完成时执行处理\n",
    "Task cwt = task.ContinueWith(t =>\n",
    "{\n",
    "    Console.WriteLine(\"任务完成后的执行结果：{0}\", t.Result.ToString());\n",
    "});\n",
    "task.Wait();\n",
    "cwt.Wait();"
   ]
  },
  {
   "cell_type": "markdown",
   "id": "4975da0e-5373-495d-ae5d-81c26c209c72",
   "metadata": {},
   "source": [
    "### 2.2.2 任务的串行与并行"
   ]
  },
  {
   "cell_type": "code",
   "execution_count": 4,
   "id": "85253c16-899e-4047-9ef5-6bbaa26c4594",
   "metadata": {},
   "outputs": [
    {
     "name": "stdout",
     "output_type": "stream",
     "text": [
      "Task t3 result=2, Thread id is 30\n",
      "Task t2 result=1, Thread id is 28\n",
      "当前集合元素个数：0, Thread id is 5\n"
     ]
    }
   ],
   "source": [
    "using System.Collections.Concurrent;\n",
    "\n",
    "ConcurrentStack<int> stack = new ConcurrentStack<int>();\n",
    "\n",
    "//t1先串行\n",
    "var t1 = Task.Factory.StartNew(() =>\n",
    "{\n",
    "    stack.Push(1);\n",
    "    stack.Push(2);\n",
    "});\n",
    "\n",
    "//t2,t3并行执行\n",
    "var t2 = t1.ContinueWith(t =>\n",
    "{\n",
    "    int result;\n",
    "    stack.TryPop(out result);\n",
    "    Console.WriteLine(\"Task t2 result={0}, Thread id is {1}\", result, Thread.CurrentThread.ManagedThreadId);\n",
    "});\n",
    "\n",
    "//t2,t3并行执行\n",
    "var t3 = t1.ContinueWith(t =>\n",
    "{\n",
    "    int result;\n",
    "    stack.TryPop(out result);\n",
    "    Console.WriteLine(\"Task t3 result={0}, Thread id is {1}\", result, Thread.CurrentThread.ManagedThreadId);\n",
    "});\n",
    "\n",
    "//等待t2和t3执行完\n",
    "Task.WaitAll(t2, t3);\n",
    "\n",
    "//t4串行执行\n",
    "var t4 = Task.Factory.StartNew(() =>\n",
    "{\n",
    "    Console.WriteLine(\"当前集合元素个数：{0}, Thread id is {1}\", stack.Count, Thread.CurrentThread.ManagedThreadId);\n",
    "});\n",
    "t4.Wait();"
   ]
  },
  {
   "cell_type": "markdown",
   "id": "d895380c-fede-4512-bec4-e83365008e1e",
   "metadata": {},
   "source": [
    "### 2.2.3 子任务"
   ]
  },
  {
   "cell_type": "code",
   "execution_count": 5,
   "id": "e83420fc-8705-4aa2-88da-451ea49cc0e4",
   "metadata": {},
   "outputs": [
    {
     "name": "stdout",
     "output_type": "stream",
     "text": [
      "我是父任务，并在我的处理过程中创建多个子任务，所有子任务完成以后我才会结束执行。\n",
      "我是子任务1。\n",
      "我是子任务2。\n"
     ]
    },
    {
     "name": "stderr",
     "output_type": "stream",
     "text": [
      "\n",
      "(13,1): warning CS4014: Because this call is not awaited, execution of the current method continues before the call is completed. Consider applying the 'await' operator to the result of the call.\n",
      "\n"
     ]
    }
   ],
   "source": [
    "Task<string[]> parent = new Task<string[]>(state =>\n",
    "{\n",
    "    Console.WriteLine(state);\n",
    "    string[] result = new string[2];\n",
    "    //创建并启动子任务\n",
    "    new Task(() => { result[0] = \"我是子任务1。\"; }, TaskCreationOptions.AttachedToParent).Start();\n",
    "    new Task(() => { result[1] = \"我是子任务2。\"; }, TaskCreationOptions.AttachedToParent).Start();\n",
    "    \n",
    "    return result;\n",
    "}, \"我是父任务，并在我的处理过程中创建多个子任务，所有子任务完成以后我才会结束执行。\");\n",
    "\n",
    "//任务处理完成后执行的操作\n",
    "parent.ContinueWith(t =>\n",
    "{\n",
    "    Array.ForEach(t.Result, r => Console.WriteLine(r));\n",
    "});\n",
    "\n",
    "//启动父任务\n",
    "parent.Start();\n",
    "\n",
    "//等待任务结束Wait只能等待父线程结束，没办法等到父线程的ContinueWith结束\n",
    "parent.Wait();"
   ]
  },
  {
   "cell_type": "markdown",
   "id": "289442cf-24c3-44e8-b8c3-36a26d70b3b6",
   "metadata": {},
   "source": [
    "### 2.2.4 动态并行(TaskCreationOptions.AttachedToParent)\n",
    "    \n",
    "父任务等待所有子任务完成后，整个任务才算完成"
   ]
  },
  {
   "cell_type": "code",
   "execution_count": 6,
   "id": "edbcabe9-f1a4-4ab7-91c1-9967d93dcee6",
   "metadata": {},
   "outputs": [
    {
     "name": "stdout",
     "output_type": "stream",
     "text": [
      "当前节点的值为Root; 处理的ThreadId=5\n",
      "当前节点的值为R; 处理的ThreadId=28\n",
      "当前节点的值为L-L; 处理的ThreadId=32\n",
      "当前节点的值为L; 处理的ThreadId=30\n",
      "当前节点的值为R-R; 处理的ThreadId=31\n",
      "当前节点的值为R-L; 处理的ThreadId=4\n",
      "当前节点的值为L-R; 处理的ThreadId=33\n"
     ]
    }
   ],
   "source": [
    "Node root = GetNode();\n",
    "DisplayTree(root);\n",
    "\n",
    "public class Node\n",
    "{\n",
    "    public Node Left { get; set; }\n",
    "    public Node Right { get; set; }\n",
    "    public string Text { get; set; }\n",
    "}\n",
    "\n",
    "public static Node GetNode()\n",
    "{\n",
    "    Node root = new Node\n",
    "    {\n",
    "        Left = new Node {\n",
    "            Left = new Node { Text = \"L-L\" },\n",
    "            Right = new Node { Text = \"L-R\" },\n",
    "            Text = \"L\"\n",
    "        },\n",
    "        Right = new Node {\n",
    "            Left = new Node { Text = \"R-L\" },\n",
    "            Right = new Node { Text = \"R-R\" },\n",
    "            Text = \"R\"\n",
    "        },\n",
    "        Text = \"Root\"\n",
    "    };\n",
    "\n",
    "    return root;\n",
    "}\n",
    "\n",
    "public static void DisplayTree(Node root)\n",
    "{\n",
    "    var task = Task.Factory.StartNew(() => DisplayNode(root), CancellationToken.None, TaskCreationOptions.None, TaskScheduler.Default);\n",
    "    task.Wait();\n",
    "}\n",
    "\n",
    "public static void DisplayNode(Node current)\n",
    "{\n",
    "\n",
    "    if (current.Left != null)\n",
    "        Task.Factory.StartNew(() => DisplayNode(current.Left), CancellationToken.None, TaskCreationOptions.AttachedToParent, TaskScheduler.Default);\n",
    "    if (current.Right != null)\n",
    "        Task.Factory.StartNew(() => DisplayNode(current.Right), CancellationToken.None, TaskCreationOptions.AttachedToParent, TaskScheduler.Default);\n",
    "\n",
    "    Console.WriteLine(\"当前节点的值为{0}; 处理的ThreadId={1}\", current.Text, Thread.CurrentThread.ManagedThreadId);\n",
    "}"
   ]
  },
  {
   "cell_type": "code",
   "execution_count": null,
   "id": "cae71e85-13a7-4ce5-bc21-0ebdfcb0e6c6",
   "metadata": {},
   "outputs": [],
   "source": []
  }
 ],
 "metadata": {
  "kernelspec": {
   "display_name": ".NET (C#)",
   "language": "C#",
   "name": ".net-csharp"
  },
  "language_info": {
   "file_extension": ".cs",
   "mimetype": "text/x-csharp",
   "name": "C#",
   "pygments_lexer": "csharp",
   "version": "9.0"
  }
 },
 "nbformat": 4,
 "nbformat_minor": 5
}
