{
 "cells": [
  {
   "cell_type": "code",
   "execution_count": 6,
   "id": "9dde0c8b-1af1-4c82-9e7e-d59197ebaef1",
   "metadata": {},
   "outputs": [
    {
     "name": "stdout",
     "output_type": "stream",
     "text": [
      "任务开始工作... ...\n"
     ]
    },
    {
     "name": "stderr",
     "output_type": "stream",
     "text": [
      "\n",
      "(13,1): warning CS4014: Because this call is not awaited, execution of the current method continues before the call is completed. Consider applying the 'await' operator to the result of the call.\n",
      "\n"
     ]
    },
    {
     "ename": "Unhandled exception",
     "evalue": "System.InvalidOperationException: Cannot read keys when either application does not have a console or when console input has been redirected. Try Console.Read.\n   at System.ConsolePal.ReadKey(Boolean intercept)\n   at System.Console.ReadKey()\n   at Submission#9.<<Initialize>>d__0.MoveNext()\n--- End of stack trace from previous location ---\n   at Microsoft.CodeAnalysis.Scripting.ScriptExecutionState.RunSubmissionsAsync[TResult](ImmutableArray`1 precedingExecutors, Func`2 currentExecutor, StrongBox`1 exceptionHolderOpt, Func`2 catchExceptionOpt, CancellationToken cancellationToken)",
     "output_type": "error",
     "traceback": [
      "System.InvalidOperationException: Cannot read keys when either application does not have a console or when console input has been redirected. Try Console.Read.\n   at System.ConsolePal.ReadKey(Boolean intercept)\n   at System.Console.ReadKey()\n   at Submission#9.<<Initialize>>d__0.MoveNext()\n--- End of stack trace from previous location ---\n   at Microsoft.CodeAnalysis.Scripting.ScriptExecutionState.RunSubmissionsAsync[TResult](ImmutableArray`1 precedingExecutors, Func`2 currentExecutor, StrongBox`1 exceptionHolderOpt, Func`2 catchExceptionOpt, CancellationToken cancellationToken)",
      "   at System.ConsolePal.ReadKey(Boolean intercept)",
      "   at System.Console.ReadKey()",
      "   at Submission#9.<<Initialize>>d__0.MoveNext()",
      "--- End of stack trace from previous location ---",
      "   at Microsoft.CodeAnalysis.Scripting.ScriptExecutionState.RunSubmissionsAsync[TResult](ImmutableArray`1 precedingExecutors, Func`2 currentExecutor, StrongBox`1 exceptionHolderOpt, Func`2 catchExceptionOpt, CancellationToken cancellationToken)"
     ]
    }
   ],
   "source": [
    "using System;\n",
    "using System.Threading;\n",
    "using System.Threading.Tasks;\n",
    "\n",
    "Task t = new Task(() =>\n",
    "{\n",
    "    Console.WriteLine(\"任务开始工作... ...\");\n",
    "    //模拟工作过程\n",
    "    Thread.Sleep(5000);\n",
    "});\n",
    "\n",
    "t.Start();\n",
    "t.ContinueWith((task) =>\n",
    "{\n",
    "    Console.WriteLine(\"任务完成，完成时候的状态为：\");\n",
    "    Console.WriteLine(\"IsCanceled={0}\\tIsCompleted={1}\\tIsFaulted={2}\", task.IsCanceled, task.IsCompleted, task.IsFaulted);\n",
    "});\n",
    "\n",
    "Console.ReadKey();"
   ]
  },
  {
   "cell_type": "code",
   "execution_count": null,
   "id": "443cc8c7-1238-479b-a18a-c389ff5e59a7",
   "metadata": {},
   "outputs": [],
   "source": []
  }
 ],
 "metadata": {
  "kernelspec": {
   "display_name": ".NET (C#)",
   "language": "C#",
   "name": ".net-csharp"
  },
  "language_info": {
   "file_extension": ".cs",
   "mimetype": "text/x-csharp",
   "name": "C#",
   "pygments_lexer": "csharp",
   "version": "9.0"
  }
 },
 "nbformat": 4,
 "nbformat_minor": 5
}
