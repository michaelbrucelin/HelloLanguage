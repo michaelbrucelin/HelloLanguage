{
 "cells": [
  {
   "cell_type": "markdown",
   "id": "317f2892-c810-448a-a4aa-639a78b13332",
   "metadata": {
    "tags": []
   },
   "source": [
    "# 2. Task的用法"
   ]
  },
  {
   "cell_type": "code",
   "execution_count": 1,
   "id": "59fd68d0-181c-4b79-b160-83505e0b43c9",
   "metadata": {},
   "outputs": [
    {
     "data": {
      "text/html": [
       "\r\n",
       "<div>\r\n",
       "    <div id='dotnet-interactive-this-cell-93550.Microsoft.DotNet.Interactive.Http.HttpPort' style='display: none'>\r\n",
       "        The below script needs to be able to find the current output cell; this is an easy method to get it.\r\n",
       "    </div>\r\n",
       "    <script type='text/javascript'>\r\n",
       "async function probeAddresses(probingAddresses) {\r\n",
       "    function timeout(ms, promise) {\r\n",
       "        return new Promise(function (resolve, reject) {\r\n",
       "            setTimeout(function () {\r\n",
       "                reject(new Error('timeout'))\r\n",
       "            }, ms)\r\n",
       "            promise.then(resolve, reject)\r\n",
       "        })\r\n",
       "    }\r\n",
       "\r\n",
       "    if (Array.isArray(probingAddresses)) {\r\n",
       "        for (let i = 0; i < probingAddresses.length; i++) {\r\n",
       "\r\n",
       "            let rootUrl = probingAddresses[i];\r\n",
       "\r\n",
       "            if (!rootUrl.endsWith('/')) {\r\n",
       "                rootUrl = `${rootUrl}/`;\r\n",
       "            }\r\n",
       "\r\n",
       "            try {\r\n",
       "                let response = await timeout(1000, fetch(`${rootUrl}discovery`, {\r\n",
       "                    method: 'POST',\r\n",
       "                    cache: 'no-cache',\r\n",
       "                    mode: 'cors',\r\n",
       "                    timeout: 1000,\r\n",
       "                    headers: {\r\n",
       "                        'Content-Type': 'text/plain'\r\n",
       "                    },\r\n",
       "                    body: probingAddresses[i]\r\n",
       "                }));\r\n",
       "\r\n",
       "                if (response.status == 200) {\r\n",
       "                    return rootUrl;\r\n",
       "                }\r\n",
       "            }\r\n",
       "            catch (e) { }\r\n",
       "        }\r\n",
       "    }\r\n",
       "}\r\n",
       "\r\n",
       "function loadDotnetInteractiveApi() {\r\n",
       "    probeAddresses([\"http://192.168.91.223:1002/\", \"http://127.0.0.1:1002/\"])\r\n",
       "        .then((root) => {\r\n",
       "        // use probing to find host url and api resources\r\n",
       "        // load interactive helpers and language services\r\n",
       "        let dotnetInteractiveRequire = require.config({\r\n",
       "        context: '93550.Microsoft.DotNet.Interactive.Http.HttpPort',\r\n",
       "                paths:\r\n",
       "            {\r\n",
       "                'dotnet-interactive': `${root}resources`\r\n",
       "                }\r\n",
       "        }) || require;\r\n",
       "\r\n",
       "            window.dotnetInteractiveRequire = dotnetInteractiveRequire;\r\n",
       "\r\n",
       "            window.configureRequireFromExtension = function(extensionName, extensionCacheBuster) {\r\n",
       "                let paths = {};\r\n",
       "                paths[extensionName] = `${root}extensions/${extensionName}/resources/`;\r\n",
       "                \r\n",
       "                let internalRequire = require.config({\r\n",
       "                    context: extensionCacheBuster,\r\n",
       "                    paths: paths,\r\n",
       "                    urlArgs: `cacheBuster=${extensionCacheBuster}`\r\n",
       "                    }) || require;\r\n",
       "\r\n",
       "                return internalRequire\r\n",
       "            };\r\n",
       "        \r\n",
       "            dotnetInteractiveRequire([\r\n",
       "                    'dotnet-interactive/dotnet-interactive'\r\n",
       "                ],\r\n",
       "                function (dotnet) {\r\n",
       "                    dotnet.init(window);\r\n",
       "                },\r\n",
       "                function (error) {\r\n",
       "                    console.log(error);\r\n",
       "                }\r\n",
       "            );\r\n",
       "        })\r\n",
       "        .catch(error => {console.log(error);});\r\n",
       "    }\r\n",
       "\r\n",
       "// ensure `require` is available globally\r\n",
       "if ((typeof(require) !==  typeof(Function)) || (typeof(require.config) !== typeof(Function))) {\r\n",
       "    let require_script = document.createElement('script');\r\n",
       "    require_script.setAttribute('src', 'https://cdnjs.cloudflare.com/ajax/libs/require.js/2.3.6/require.min.js');\r\n",
       "    require_script.setAttribute('type', 'text/javascript');\r\n",
       "    \r\n",
       "    \r\n",
       "    require_script.onload = function() {\r\n",
       "        loadDotnetInteractiveApi();\r\n",
       "    };\r\n",
       "\r\n",
       "    document.getElementsByTagName('head')[0].appendChild(require_script);\r\n",
       "}\r\n",
       "else {\r\n",
       "    loadDotnetInteractiveApi();\r\n",
       "}\r\n",
       "\r\n",
       "    </script>\r\n",
       "</div>"
      ]
     },
     "metadata": {},
     "output_type": "display_data"
    }
   ],
   "source": [
    "using System.Threading;\n",
    "using System.Threading.Tasks;"
   ]
  },
  {
   "cell_type": "code",
   "execution_count": 2,
   "id": "78ce1c51-7fcd-4ee0-b047-9e7098aec28f",
   "metadata": {},
   "outputs": [],
   "source": [
    "public static class TaskClass\n",
    "{\n",
    "    public static void TaskMethod(string taskname, int duration)\n",
    "    {\n",
    "        Console.WriteLine($\"Task [{taskname}] is start... ...\");\n",
    "        Console.WriteLine($\"Task [{taskname}] is running on a thread id: {Thread.CurrentThread.ManagedThreadId}, is thread pool thread: {Thread.CurrentThread.IsThreadPoolThread}\");\n",
    "        Thread.Sleep(duration);\n",
    "        Console.WriteLine($\"Task [{taskname}] is stop... ...\");\n",
    "    }\n",
    "\n",
    "    public static void TaskReport(Task task)\n",
    "    {\n",
    "        Console.WriteLine($\"任务完成，完成时候的状态为： IsCanceled={task.IsCanceled}  IsCompleted={task.IsCompleted}  IsFaulted={task.IsFaulted}\");\n",
    "    }\n",
    "    \n",
    "    public static int TaskMethodInt(string taskname, int duration)\n",
    "    {\n",
    "        Console.WriteLine($\"Task [{taskname}] is start... ...\");\n",
    "        Console.WriteLine($\"Task [{taskname}] is running on a thread id: {Thread.CurrentThread.ManagedThreadId}, is thread pool thread: {Thread.CurrentThread.IsThreadPoolThread}\");\n",
    "        Thread.Sleep(duration);\n",
    "        Console.WriteLine($\"Task [{taskname}] is stop... ...\");\n",
    "\n",
    "        return 1024;\n",
    "    }\n",
    "}"
   ]
  },
  {
   "cell_type": "markdown",
   "id": "7aa2c01b-377e-4097-9956-c1e58decc259",
   "metadata": {},
   "source": [
    "## 2.1. 创建任务"
   ]
  },
  {
   "cell_type": "markdown",
   "id": "f70ea9ed-3c2a-4129-baa8-03d48b6f2705",
   "metadata": {},
   "source": [
    "### 2.1.1 无返回值的方式"
   ]
  },
  {
   "cell_type": "code",
   "execution_count": 3,
   "id": "d5eda4f4-5bb1-4d15-a720-76959a54bf97",
   "metadata": {},
   "outputs": [
    {
     "name": "stdout",
     "output_type": "stream",
     "text": [
      "Task [t1] is start... ...\n",
      "Task [t1] is running on a thread id: 5, is thread pool thread: True\n",
      "Task [t1] is stop... ...\n",
      "t1 is done.\n"
     ]
    }
   ],
   "source": [
    "//方式1，创建一个Task对象\n",
    "Task t1 = new Task(() => TaskClass.TaskMethod(\"t1\", 3000));\n",
    "t1.Start();\n",
    "Task.WaitAll(t1);  //阻塞，等待线程结束才能继续\n",
    "\n",
    "Console.WriteLine(\"t1 is done.\");"
   ]
  },
  {
   "cell_type": "code",
   "execution_count": 4,
   "id": "9068fa55-cbaf-451e-9f51-3dd95619a6fc",
   "metadata": {},
   "outputs": [
    {
     "name": "stdout",
     "output_type": "stream",
     "text": [
      "t2 is done.\n",
      "Task [t2] is start... ...\n",
      "Task [t2] is running on a thread id: 29, is thread pool thread: True\n"
     ]
    },
    {
     "name": "stderr",
     "output_type": "stream",
     "text": [
      "\n",
      "(2,1): warning CS4014: Because this call is not awaited, execution of the current method continues before the call is completed. Consider applying the 'await' operator to the result of the call.\n",
      "\n"
     ]
    }
   ],
   "source": [
    "//方式2，使用Task.Run()静态方法\n",
    "Task.Run(() => TaskClass.TaskMethod(\"t2\", 3000));\n",
    "\n",
    "Console.WriteLine(\"t2 is done.\");  //直接执行，非阻塞"
   ]
  },
  {
   "cell_type": "code",
   "execution_count": 5,
   "id": "9008c264-5f86-46bd-bf34-30d6870bad22",
   "metadata": {},
   "outputs": [
    {
     "name": "stdout",
     "output_type": "stream",
     "text": [
      "Task [t2] is start... ...\n",
      "Task [t2] is running on a thread id: 5, is thread pool thread: True\n",
      "Task [t2] is stop... ...\n",
      "t2 is done.\n"
     ]
    }
   ],
   "source": [
    "Task t2 = Task.Run(() => TaskClass.TaskMethod(\"t2\", 3000));\n",
    "Task.WaitAll(t2);  //阻塞，等待线程结束才能继续\n",
    "\n",
    "Console.WriteLine(\"t2 is done.\");  //直接执行，非阻塞"
   ]
  },
  {
   "cell_type": "code",
   "execution_count": 6,
   "id": "f88717f2-9f97-4d3b-bc60-5e9cbb879208",
   "metadata": {},
   "outputs": [
    {
     "name": "stdout",
     "output_type": "stream",
     "text": [
      "t3 is done.\n",
      "Task [t3] is start... ...\n",
      "Task [t3] is running on a thread id: 29, is thread pool thread: True\n"
     ]
    },
    {
     "name": "stderr",
     "output_type": "stream",
     "text": [
      "\n",
      "(9,1): warning CS4014: Because this call is not awaited, execution of the current method continues before the call is completed. Consider applying the 'await' operator to the result of the call.\n",
      "\n"
     ]
    }
   ],
   "source": [
    "//方式3，使用Task.Factory.StartNew()静态方法\n",
    "//Task.Run()在.NET 4.5中引用，而Task.Factory.StartNew()更早，简单理解就是Task.Factory.StartNew()支持更多的定制化操作，而Task.Run()使用了更少的定制化来更简单的操作。\n",
    "/*下面二者等价\n",
    "Task.Run(someAction);\n",
    "Task.Factory.StartNew(someAction, \n",
    "                      CancellationToken.None, TaskCreationOptions.DenyChildAttach, TaskScheduler.Default);\n",
    "*/\n",
    "\n",
    "Task.Factory.StartNew(() => TaskClass.TaskMethod(\"t3\", 3000));  //直接异步的方法 \n",
    "\n",
    "Console.WriteLine(\"t3 is done.\");  //直接执行，非阻塞"
   ]
  },
  {
   "cell_type": "code",
   "execution_count": 7,
   "id": "c1ccc5b9-cc7b-49c0-839c-d0e1a613340c",
   "metadata": {},
   "outputs": [
    {
     "name": "stdout",
     "output_type": "stream",
     "text": [
      "Task [t3] is start... ...\n",
      "Task [t3] is running on a thread id: 5, is thread pool thread: True\n",
      "Task [t3] is stop... ...\n",
      "t3 is done.\n"
     ]
    }
   ],
   "source": [
    "Task t3 = Task.Factory.StartNew(() => TaskClass.TaskMethod(\"t3\", 3000));\n",
    "Task.WaitAll(t3);  //阻塞，等待线程结束才能继续\n",
    "\n",
    "Console.WriteLine(\"t3 is done.\");"
   ]
  },
  {
   "cell_type": "code",
   "execution_count": 8,
   "id": "bcddd059-1e86-4420-9ef4-02ec2a130c4c",
   "metadata": {},
   "outputs": [
    {
     "name": "stdout",
     "output_type": "stream",
     "text": [
      "Task [t1] is start... ...\n",
      "Task [t2] is start... ...\n",
      "Task [t2] is running on a thread id: 5, is thread pool thread: True\n",
      "Task [t1] is running on a thread id: 7, is thread pool thread: True\n",
      "Task [t2] is stop... ...\n",
      "Task [t1] is stop... ...\n",
      "Task [t4] is start... ...\n",
      "Task [t4] is running on a thread id: 29, is thread pool thread: True\n",
      "Task [t5] is start... ...\n",
      "Task [t5] is running on a thread id: 20, is thread pool thread: False\n",
      "Task [t3] is start... ...\n",
      "Task [t3] is running on a thread id: 7, is thread pool thread: True\n"
     ]
    },
    {
     "name": "stderr",
     "output_type": "stream",
     "text": [
      "\n",
      "(8,1): warning CS4014: Because this call is not awaited, execution of the current method continues before the call is completed. Consider applying the 'await' operator to the result of the call.\n",
      "\n",
      "(9,1): warning CS4014: Because this call is not awaited, execution of the current method continues before the call is completed. Consider applying the 'await' operator to the result of the call.\n",
      "\n",
      "(10,1): warning CS4014: Because this call is not awaited, execution of the current method continues before the call is completed. Consider applying the 'await' operator to the result of the call.\n",
      "\n"
     ]
    }
   ],
   "source": [
    "//综合案例\n",
    "Task t1 = new Task(() => TaskClass.TaskMethod(\"t1\", 3000));\n",
    "Task t2 = new Task(() => TaskClass.TaskMethod(\"t2\", 3000));\n",
    "t2.Start();\n",
    "t1.Start();\n",
    "Task.WaitAll(t1, t2);  //阻塞\n",
    "\n",
    "Task.Run(() => TaskClass.TaskMethod(\"t3\", 3000));\n",
    "Task.Factory.StartNew(() => TaskClass.TaskMethod(\"t4\", 3000));\n",
    "Task.Factory.StartNew(() => TaskClass.TaskMethod(\"t5\", 3000), TaskCreationOptions.LongRunning);  //标记为长时间运行任务，则任务不会使用线程池，而在单独的线程中运行"
   ]
  },
  {
   "cell_type": "code",
   "execution_count": 9,
   "id": "6870ada2-e256-4915-91e2-b47dd56c5e62",
   "metadata": {},
   "outputs": [
    {
     "name": "stdout",
     "output_type": "stream",
     "text": [
      "主线程执行业务处理... ...\n",
      "主线程执行其他处理... ...\n",
      "使用System.Threading.Tasks.Task执行异步操作... ...\n",
      "0\n",
      "1\n",
      "2\n",
      "3\n",
      "4\n",
      "5\n",
      "6\n",
      "7\n",
      "8\n",
      "9\n"
     ]
    }
   ],
   "source": [
    "//常规使用方式\n",
    "Console.WriteLine(\"主线程执行业务处理... ...\");\n",
    "//创建任务\n",
    "Task task = new Task(() =>\n",
    "{\n",
    "    Console.WriteLine(\"使用System.Threading.Tasks.Task执行异步操作... ...\");\n",
    "    for (int i = 0; i < 10; i++)\n",
    "    {\n",
    "        Console.WriteLine(i);\n",
    "    }\n",
    "});\n",
    "//启动任务，并安排到当前任务队列线程中执行任务(System.Threading.Tasks.TaskScheduler)\n",
    "task.Start();\n",
    "Console.WriteLine(\"主线程执行其他处理... ...\");\n",
    "task.Wait();"
   ]
  },
  {
   "cell_type": "code",
   "execution_count": 10,
   "id": "3b3403d4-d7b9-4bea-be5f-ab0fba402ba5",
   "metadata": {},
   "outputs": [
    {
     "name": "stdout",
     "output_type": "stream",
     "text": [
      "主线程执行业务处理... ...\n",
      "主线程执行其他处理... ...\n",
      "Main:i=0\n",
      "Main:i=1\n",
      "Main:i=2\n",
      "Main:i=3\n",
      "Main:i=4\n",
      "Main:i=5\n",
      "Main:i=6\n",
      "Main:i=7\n",
      "Main:i=8\n",
      "Main:i=9\n",
      "使用System.Threading.Tasks.Task执行异步操作... ...\n",
      "AsyncFunction:i=0\n",
      "AsyncFunction:i=1\n",
      "AsyncFunction:i=2\n",
      "AsyncFunction:i=3\n",
      "AsyncFunction:i=4\n",
      "AsyncFunction:i=5\n",
      "AsyncFunction:i=6\n",
      "AsyncFunction:i=7\n",
      "AsyncFunction:i=8\n",
      "AsyncFunction:i=9\n"
     ]
    }
   ],
   "source": [
    "//async/await的实现方式:\n",
    "public async static void AsyncFunction()\n",
    "{\n",
    "    await Task.Delay(1);\n",
    "    Console.WriteLine(\"使用System.Threading.Tasks.Task执行异步操作... ...\");\n",
    "    for (int i = 0; i < 10; i++)\n",
    "    {\n",
    "        Console.WriteLine(string.Format(\"AsyncFunction:i={0}\", i));\n",
    "    }\n",
    "}\n",
    "\n",
    "Console.WriteLine(\"主线程执行业务处理... ...\");\n",
    "AsyncFunction();\n",
    "Console.WriteLine(\"主线程执行其他处理... ...\");\n",
    "for (int i = 0; i < 10; i++)\n",
    "{\n",
    "    Console.WriteLine(string.Format(\"Main:i={0}\", i));\n",
    "}"
   ]
  },
  {
   "cell_type": "markdown",
   "id": "57adcc60-af92-40e6-8b20-ded42586a9e6",
   "metadata": {},
   "source": [
    "### 2.1.2 带返回值的方式"
   ]
  },
  {
   "cell_type": "code",
   "execution_count": 11,
   "id": "0ff74311-9611-4dae-a59b-e7029e9e02d6",
   "metadata": {},
   "outputs": [
    {
     "name": "stdout",
     "output_type": "stream",
     "text": [
      "==== 1.3 ====\n",
      "Task [t1] is start... ...\n",
      "Task [t1] is running on a thread id: 18, is thread pool thread: True\n",
      "==== 1.2 ====\n",
      "==== 1.1 ====\n",
      "Task [t1] is stop... ...\n",
      "task result is: 1024.\n",
      "==== 2.3 ====\n",
      "==== 2.2 ====\n",
      "==== 2.1 ====\n"
     ]
    }
   ],
   "source": [
    "Task<int> task = new Task<int>(() => TaskClass.TaskMethodInt(\"t1\", 2000));\n",
    "task.Start();\n",
    "\n",
    "//模拟另一个任务\n",
    "for (int i = 3; i > 0; i--)\n",
    "{\n",
    "    Console.WriteLine($\"==== 1.{i} ====\");\n",
    "    Thread.Sleep(1000);\n",
    "}\n",
    "\n",
    "int result = task.Result;\n",
    "Console.WriteLine($\"task result is: {result}.\");\n",
    "\n",
    "//模拟另一个任务\n",
    "for (int i = 3; i > 0; i--)\n",
    "{\n",
    "    Console.WriteLine($\"==== 2.{i} ====\");\n",
    "    Thread.Sleep(1000);\n",
    "}"
   ]
  },
  {
   "cell_type": "code",
   "execution_count": 12,
   "id": "3f7f8d65-9ee5-4c98-ae9d-5acb8e7a88d5",
   "metadata": {},
   "outputs": [
    {
     "name": "stdout",
     "output_type": "stream",
     "text": [
      "Task [t2] is start... ...\n",
      "Task [t2] is running on a thread id: 5, is thread pool thread: True\n",
      "Task [t2] is stop... ...\n",
      "==== 1.3 ====\n",
      "==== 1.2 ====\n",
      "==== 1.1 ====\n",
      "task result is: 1024.\n",
      "==== 2.3 ====\n",
      "==== 2.2 ====\n",
      "==== 2.1 ====\n"
     ]
    }
   ],
   "source": [
    "Task<int> task = new Task<int>(() => TaskClass.TaskMethodInt(\"t2\", 2000));\n",
    "task.RunSynchronously();  //运行在主线程中\n",
    "\n",
    "//模拟另一个任务\n",
    "for (int i = 3; i > 0; i--)\n",
    "{\n",
    "    Console.WriteLine($\"==== 1.{i} ====\");\n",
    "    Thread.Sleep(1000);\n",
    "}\n",
    "\n",
    "int result = task.Result;\n",
    "Console.WriteLine($\"task result is: {result}.\");\n",
    "\n",
    "//模拟另一个任务\n",
    "for (int i = 3; i > 0; i--)\n",
    "{\n",
    "    Console.WriteLine($\"==== 2.{i} ====\");\n",
    "    Thread.Sleep(1000);\n",
    "}"
   ]
  },
  {
   "cell_type": "code",
   "execution_count": 13,
   "id": "5de1a76e-ac49-4b20-9e7a-c9aad5a2db77",
   "metadata": {},
   "outputs": [
    {
     "name": "stdout",
     "output_type": "stream",
     "text": [
      "task.Status is: Created\n",
      "task.Status is: WaitingToRun\n",
      "Task [t2] is start... ...\n",
      "Task [t2] is running on a thread id: 19, is thread pool thread: True\n",
      "task.Status is: Running\n",
      "task.Status is: Running\n",
      "task.Status is: Running\n",
      "Task [t2] is stop... ...\n",
      "task.Status is: RanToCompletion\n",
      "task result is: 1024.\n"
     ]
    }
   ],
   "source": [
    "Task<int> task = new Task<int>(() => TaskClass.TaskMethodInt(\"t2\", 2000));\n",
    "Console.WriteLine($\"task.Status is: {task.Status}\");\n",
    "task.Start();\n",
    "\n",
    "while (!task.IsCompleted)\n",
    "{\n",
    "    Console.WriteLine($\"task.Status is: {task.Status}\");\n",
    "    Thread.Sleep(TimeSpan.FromSeconds(0.5));\n",
    "}\n",
    "\n",
    "Console.WriteLine($\"task.Status is: {task.Status}\");\n",
    "result = task.Result;\n",
    "Console.WriteLine($\"task result is: {result}.\");"
   ]
  },
  {
   "cell_type": "code",
   "execution_count": 14,
   "id": "79be8bce-a3da-49de-9d30-92f33ac91b8b",
   "metadata": {},
   "outputs": [
    {
     "name": "stdout",
     "output_type": "stream",
     "text": [
      "主线程执行其他处理... ...\n",
      "使用Task执行异步操作... ...\n",
      "任务执行结果：4950\n"
     ]
    }
   ],
   "source": [
    "//常规使用方式\n",
    "//创建任务\n",
    "Task<int> getSumTask = new Task<int>(() => GetSum());\n",
    "//启动任务，并安排到当前任务队列线程中执行任务(System.Threading.Tasks.TaskScheduler)\n",
    "getSumTask.Start();\n",
    "Console.WriteLine(\"主线程执行其他处理... ...\");\n",
    "//等待任务的完成执行过程。\n",
    "getSumTask.Wait();\n",
    "//获得任务的执行结果\n",
    "Console.WriteLine(\"任务执行结果：{0}\", getSumTask.Result.ToString());\n",
    "\n",
    "public static int GetSum()\n",
    "{\n",
    "    int sum = 0;\n",
    "    Console.WriteLine(\"使用Task执行异步操作... ...\");\n",
    "    for (int i = 0; i < 100; i++)\n",
    "        sum += i;\n",
    "\n",
    "    return sum;\n",
    "}"
   ]
  },
  {
   "cell_type": "code",
   "execution_count": 15,
   "id": "8ff3d7fc-1051-4e71-b7ad-727163f6d53d",
   "metadata": {},
   "outputs": [
    {
     "name": "stdout",
     "output_type": "stream",
     "text": [
      "主线程执行其他处理... ...\n",
      "Call Main()\n",
      "Call Main()\n",
      "Call Main()\n",
      "使用Task执行异步操作.\n",
      "任务执行结果：4950\n"
     ]
    }
   ],
   "source": [
    "//async/await的实现方式:\n",
    "public async static Task<int> AsyncGetSum()\n",
    "{\n",
    "    await Task.Delay(1);\n",
    "    int sum = 0;\n",
    "    Console.WriteLine(\"使用Task执行异步操作.\");\n",
    "    for (int i = 0; i < 100; i++)\n",
    "    {\n",
    "        sum += i;\n",
    "    }\n",
    "    return sum;\n",
    "}\n",
    "\n",
    "var ret = AsyncGetSum();\n",
    "Console.WriteLine(\"主线程执行其他处理... ...\");\n",
    "for (int i = 1; i <= 3; i++)\n",
    "    Console.WriteLine(\"Call Main()\");\n",
    "int result = ret.Result;  //阻塞主线程\n",
    "Console.WriteLine(\"任务执行结果：{0}\", result);"
   ]
  },
  {
   "cell_type": "code",
   "execution_count": null,
   "id": "cae71e85-13a7-4ce5-bc21-0ebdfcb0e6c6",
   "metadata": {},
   "outputs": [],
   "source": []
  }
 ],
 "metadata": {
  "kernelspec": {
   "display_name": ".NET (C#)",
   "language": "C#",
   "name": ".net-csharp"
  },
  "language_info": {
   "file_extension": ".cs",
   "mimetype": "text/x-csharp",
   "name": "C#",
   "pygments_lexer": "csharp",
   "version": "9.0"
  }
 },
 "nbformat": 4,
 "nbformat_minor": 5
}
