{
 "cells": [
  {
   "cell_type": "markdown",
   "id": "31e25c54-d4bf-48f5-977d-5ed7cb488bb1",
   "metadata": {},
   "source": [
    "# 1. Task的优势\n",
    "\n",
    "ThreadPool相比Thread来说具备了很多优势，但是ThreadPool却又存在一些使用上的不方便。比如：\n",
    "- ThreadPool不支持线程的取消、完成、失败通知等交互性操作；\n",
    "- ThreadPool不支持线程执行的先后次序；\n",
    "\n",
    "\n",
    "以往，如果开发者要实现上述功能，需要完成很多额外的工作，现在，FCL中提供了一个功能更强大的概念：Task。Task在线程池的基础上进行了优化，并提供了更多的API。在FCL4.0中，如果我们要编写多线程程序，Task显然已经优于传统的方式。  \n",
    "以下是两个简单的任务示例："
   ]
  },
  {
   "cell_type": "code",
   "execution_count": 1,
   "id": "59fd68d0-181c-4b79-b160-83505e0b43c9",
   "metadata": {},
   "outputs": [
    {
     "data": {
      "text/html": [
       "\r\n",
       "<div>\r\n",
       "    <div id='dotnet-interactive-this-cell-53742.Microsoft.DotNet.Interactive.Http.HttpPort' style='display: none'>\r\n",
       "        The below script needs to be able to find the current output cell; this is an easy method to get it.\r\n",
       "    </div>\r\n",
       "    <script type='text/javascript'>\r\n",
       "async function probeAddresses(probingAddresses) {\r\n",
       "    function timeout(ms, promise) {\r\n",
       "        return new Promise(function (resolve, reject) {\r\n",
       "            setTimeout(function () {\r\n",
       "                reject(new Error('timeout'))\r\n",
       "            }, ms)\r\n",
       "            promise.then(resolve, reject)\r\n",
       "        })\r\n",
       "    }\r\n",
       "\r\n",
       "    if (Array.isArray(probingAddresses)) {\r\n",
       "        for (let i = 0; i < probingAddresses.length; i++) {\r\n",
       "\r\n",
       "            let rootUrl = probingAddresses[i];\r\n",
       "\r\n",
       "            if (!rootUrl.endsWith('/')) {\r\n",
       "                rootUrl = `${rootUrl}/`;\r\n",
       "            }\r\n",
       "\r\n",
       "            try {\r\n",
       "                let response = await timeout(1000, fetch(`${rootUrl}discovery`, {\r\n",
       "                    method: 'POST',\r\n",
       "                    cache: 'no-cache',\r\n",
       "                    mode: 'cors',\r\n",
       "                    timeout: 1000,\r\n",
       "                    headers: {\r\n",
       "                        'Content-Type': 'text/plain'\r\n",
       "                    },\r\n",
       "                    body: probingAddresses[i]\r\n",
       "                }));\r\n",
       "\r\n",
       "                if (response.status == 200) {\r\n",
       "                    return rootUrl;\r\n",
       "                }\r\n",
       "            }\r\n",
       "            catch (e) { }\r\n",
       "        }\r\n",
       "    }\r\n",
       "}\r\n",
       "\r\n",
       "function loadDotnetInteractiveApi() {\r\n",
       "    probeAddresses([\"http://192.168.91.223:1000/\", \"http://127.0.0.1:1000/\"])\r\n",
       "        .then((root) => {\r\n",
       "        // use probing to find host url and api resources\r\n",
       "        // load interactive helpers and language services\r\n",
       "        let dotnetInteractiveRequire = require.config({\r\n",
       "        context: '53742.Microsoft.DotNet.Interactive.Http.HttpPort',\r\n",
       "                paths:\r\n",
       "            {\r\n",
       "                'dotnet-interactive': `${root}resources`\r\n",
       "                }\r\n",
       "        }) || require;\r\n",
       "\r\n",
       "            window.dotnetInteractiveRequire = dotnetInteractiveRequire;\r\n",
       "\r\n",
       "            window.configureRequireFromExtension = function(extensionName, extensionCacheBuster) {\r\n",
       "                let paths = {};\r\n",
       "                paths[extensionName] = `${root}extensions/${extensionName}/resources/`;\r\n",
       "                \r\n",
       "                let internalRequire = require.config({\r\n",
       "                    context: extensionCacheBuster,\r\n",
       "                    paths: paths,\r\n",
       "                    urlArgs: `cacheBuster=${extensionCacheBuster}`\r\n",
       "                    }) || require;\r\n",
       "\r\n",
       "                return internalRequire\r\n",
       "            };\r\n",
       "        \r\n",
       "            dotnetInteractiveRequire([\r\n",
       "                    'dotnet-interactive/dotnet-interactive'\r\n",
       "                ],\r\n",
       "                function (dotnet) {\r\n",
       "                    dotnet.init(window);\r\n",
       "                },\r\n",
       "                function (error) {\r\n",
       "                    console.log(error);\r\n",
       "                }\r\n",
       "            );\r\n",
       "        })\r\n",
       "        .catch(error => {console.log(error);});\r\n",
       "    }\r\n",
       "\r\n",
       "// ensure `require` is available globally\r\n",
       "if ((typeof(require) !==  typeof(Function)) || (typeof(require.config) !== typeof(Function))) {\r\n",
       "    let require_script = document.createElement('script');\r\n",
       "    require_script.setAttribute('src', 'https://cdnjs.cloudflare.com/ajax/libs/require.js/2.3.6/require.min.js');\r\n",
       "    require_script.setAttribute('type', 'text/javascript');\r\n",
       "    \r\n",
       "    \r\n",
       "    require_script.onload = function() {\r\n",
       "        loadDotnetInteractiveApi();\r\n",
       "    };\r\n",
       "\r\n",
       "    document.getElementsByTagName('head')[0].appendChild(require_script);\r\n",
       "}\r\n",
       "else {\r\n",
       "    loadDotnetInteractiveApi();\r\n",
       "}\r\n",
       "\r\n",
       "    </script>\r\n",
       "</div>"
      ]
     },
     "metadata": {},
     "output_type": "display_data"
    }
   ],
   "source": [
    "using System;\n",
    "using System.Threading;\n",
    "using System.Threading.Tasks;"
   ]
  },
  {
   "cell_type": "code",
   "execution_count": 2,
   "id": "9dde0c8b-1af1-4c82-9e7e-d59197ebaef1",
   "metadata": {},
   "outputs": [
    {
     "name": "stdout",
     "output_type": "stream",
     "text": [
      "==== 7 ====\n",
      "任务开始工作... ...\n",
      "==== 6 ====\n",
      "==== 5 ====\n",
      "==== 4 ====\n",
      "==== 3 ====\n",
      "任务完成，完成时候的状态为： IsCanceled=False  IsCompleted=True  IsFaulted=False\n",
      "==== 2 ====\n",
      "==== 1 ====\n"
     ]
    },
    {
     "name": "stderr",
     "output_type": "stream",
     "text": [
      "\n",
      "(8,1): warning CS4014: Because this call is not awaited, execution of the current method continues before the call is completed. Consider applying the 'await' operator to the result of the call.\n",
      "\n"
     ]
    }
   ],
   "source": [
    "Task t = new Task(() =>\n",
    "{\n",
    "    Console.WriteLine(\"任务开始工作... ...\");\n",
    "    //模拟工作过程\n",
    "    Thread.Sleep(5000);\n",
    "});\n",
    "t.Start();\n",
    "t.ContinueWith((task) =>\n",
    "{\n",
    "    Console.WriteLine($\"任务完成，完成时候的状态为： IsCanceled={task.IsCanceled}  IsCompleted={task.IsCompleted}  IsFaulted={task.IsFaulted}\");\n",
    "});\n",
    "\n",
    "//模拟另一个任务\n",
    "for (int i = 7; i > 0; i--)\n",
    "{\n",
    "    Console.WriteLine($\"==== {i} ====\");\n",
    "    Thread.Sleep(1000);\n",
    "}"
   ]
  },
  {
   "cell_type": "code",
   "execution_count": 3,
   "id": "78ce1c51-7fcd-4ee0-b047-9e7098aec28f",
   "metadata": {},
   "outputs": [],
   "source": [
    "public static class TaskClass\n",
    "{\n",
    "    public static void TaskMethod(string s, int i)\n",
    "    {\n",
    "        Console.WriteLine($\"Task [{s}] is start... ...\");\n",
    "        Thread.Sleep(i);\n",
    "        Console.WriteLine($\"Task [{s}] is stop... ...\");\n",
    "    }\n",
    "\n",
    "    public static void TaskReport(Task task)\n",
    "    {\n",
    "        Console.WriteLine($\"任务完成，完成时候的状态为： IsCanceled={task.IsCanceled}  IsCompleted={task.IsCompleted}  IsFaulted={task.IsFaulted}\");\n",
    "    }\n",
    "}"
   ]
  },
  {
   "cell_type": "code",
   "execution_count": 4,
   "id": "eef10166-06d4-4879-b50f-d3c128a65778",
   "metadata": {},
   "outputs": [
    {
     "name": "stdout",
     "output_type": "stream",
     "text": [
      "==== 7 ====\n",
      "Task [TestTask] is start... ...\n",
      "==== 6 ====\n",
      "==== 5 ====\n",
      "==== 4 ====\n",
      "==== 3 ====\n",
      "Task [TestTask] is stop... ...\n",
      "任务完成，完成时候的状态为： IsCanceled=False  IsCompleted=True  IsFaulted=False\n",
      "==== 2 ====\n",
      "==== 1 ====\n"
     ]
    },
    {
     "name": "stderr",
     "output_type": "stream",
     "text": [
      "\n",
      "(3,1): warning CS4014: Because this call is not awaited, execution of the current method continues before the call is completed. Consider applying the 'await' operator to the result of the call.\n",
      "\n"
     ]
    }
   ],
   "source": [
    "Task t = new Task(() => TaskClass.TaskMethod(\"TestTask\", 5000));\n",
    "t.Start();\n",
    "t.ContinueWith((task) => TaskClass.TaskReport(task));\n",
    "\n",
    "//模拟另一个任务\n",
    "for (int i = 7; i > 0; i--)\n",
    "{\n",
    "    Console.WriteLine($\"==== {i} ====\");\n",
    "    Thread.Sleep(1000);\n",
    "}"
   ]
  },
  {
   "cell_type": "markdown",
   "id": "317f2892-c810-448a-a4aa-639a78b13332",
   "metadata": {
    "tags": []
   },
   "source": [
    "# 2. Task的用法"
   ]
  },
  {
   "cell_type": "markdown",
   "id": "7aa2c01b-377e-4097-9956-c1e58decc259",
   "metadata": {},
   "source": [
    "## 2.1. 创建任务"
   ]
  },
  {
   "cell_type": "markdown",
   "id": "f70ea9ed-3c2a-4129-baa8-03d48b6f2705",
   "metadata": {},
   "source": [
    "### 2.1.1 无返回值的方式"
   ]
  },
  {
   "cell_type": "code",
   "execution_count": 6,
   "id": "d5eda4f4-5bb1-4d15-a720-76959a54bf97",
   "metadata": {},
   "outputs": [
    {
     "name": "stderr",
     "output_type": "stream",
     "text": [
      "\n",
      "(2,4): error CS1061: 'Task' does not contain a definition for 'start' and no accessible extension method 'start' accepting a first argument of type 'Task' could be found (are you missing a using directive or an assembly reference?)\n",
      "\n"
     ]
    },
    {
     "ename": "Cell not executed",
     "evalue": "compilation error",
     "output_type": "error",
     "traceback": []
    }
   ],
   "source": [
    "var t1 = new Task(() => TaskClass.TaskMethod(\"Task 1\", 3000));\n",
    "t1.start();\n",
    "Task.WaitAll(t1);"
   ]
  },
  {
   "cell_type": "code",
   "execution_count": null,
   "id": "9068fa55-cbaf-451e-9f51-3dd95619a6fc",
   "metadata": {},
   "outputs": [],
   "source": []
  }
 ],
 "metadata": {
  "kernelspec": {
   "display_name": ".NET (C#)",
   "language": "C#",
   "name": ".net-csharp"
  },
  "language_info": {
   "file_extension": ".cs",
   "mimetype": "text/x-csharp",
   "name": "C#",
   "pygments_lexer": "csharp",
   "version": "9.0"
  }
 },
 "nbformat": 4,
 "nbformat_minor": 5
}
