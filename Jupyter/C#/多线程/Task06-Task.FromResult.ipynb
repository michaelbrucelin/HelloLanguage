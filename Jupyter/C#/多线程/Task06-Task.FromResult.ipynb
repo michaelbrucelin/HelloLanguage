{
 "cells": [
  {
   "cell_type": "markdown",
   "id": "400f77de-4a03-4658-a86e-d473138fdb98",
   "metadata": {},
   "source": [
    "# 6. Task.FromResult"
   ]
  },
  {
   "cell_type": "code",
   "execution_count": 1,
   "id": "f068ab1f-70fc-4313-a82a-2ee2bf28401b",
   "metadata": {},
   "outputs": [
    {
     "data": {
      "text/html": [
       "\r\n",
       "<div>\r\n",
       "    <div id='dotnet-interactive-this-cell-124396.Microsoft.DotNet.Interactive.Http.HttpPort' style='display: none'>\r\n",
       "        The below script needs to be able to find the current output cell; this is an easy method to get it.\r\n",
       "    </div>\r\n",
       "    <script type='text/javascript'>\r\n",
       "async function probeAddresses(probingAddresses) {\r\n",
       "    function timeout(ms, promise) {\r\n",
       "        return new Promise(function (resolve, reject) {\r\n",
       "            setTimeout(function () {\r\n",
       "                reject(new Error('timeout'))\r\n",
       "            }, ms)\r\n",
       "            promise.then(resolve, reject)\r\n",
       "        })\r\n",
       "    }\r\n",
       "\r\n",
       "    if (Array.isArray(probingAddresses)) {\r\n",
       "        for (let i = 0; i < probingAddresses.length; i++) {\r\n",
       "\r\n",
       "            let rootUrl = probingAddresses[i];\r\n",
       "\r\n",
       "            if (!rootUrl.endsWith('/')) {\r\n",
       "                rootUrl = `${rootUrl}/`;\r\n",
       "            }\r\n",
       "\r\n",
       "            try {\r\n",
       "                let response = await timeout(1000, fetch(`${rootUrl}discovery`, {\r\n",
       "                    method: 'POST',\r\n",
       "                    cache: 'no-cache',\r\n",
       "                    mode: 'cors',\r\n",
       "                    timeout: 1000,\r\n",
       "                    headers: {\r\n",
       "                        'Content-Type': 'text/plain'\r\n",
       "                    },\r\n",
       "                    body: probingAddresses[i]\r\n",
       "                }));\r\n",
       "\r\n",
       "                if (response.status == 200) {\r\n",
       "                    return rootUrl;\r\n",
       "                }\r\n",
       "            }\r\n",
       "            catch (e) { }\r\n",
       "        }\r\n",
       "    }\r\n",
       "}\r\n",
       "\r\n",
       "function loadDotnetInteractiveApi() {\r\n",
       "    probeAddresses([\"http://192.168.91.223:1000/\", \"http://127.0.0.1:1000/\"])\r\n",
       "        .then((root) => {\r\n",
       "        // use probing to find host url and api resources\r\n",
       "        // load interactive helpers and language services\r\n",
       "        let dotnetInteractiveRequire = require.config({\r\n",
       "        context: '124396.Microsoft.DotNet.Interactive.Http.HttpPort',\r\n",
       "                paths:\r\n",
       "            {\r\n",
       "                'dotnet-interactive': `${root}resources`\r\n",
       "                }\r\n",
       "        }) || require;\r\n",
       "\r\n",
       "            window.dotnetInteractiveRequire = dotnetInteractiveRequire;\r\n",
       "\r\n",
       "            window.configureRequireFromExtension = function(extensionName, extensionCacheBuster) {\r\n",
       "                let paths = {};\r\n",
       "                paths[extensionName] = `${root}extensions/${extensionName}/resources/`;\r\n",
       "                \r\n",
       "                let internalRequire = require.config({\r\n",
       "                    context: extensionCacheBuster,\r\n",
       "                    paths: paths,\r\n",
       "                    urlArgs: `cacheBuster=${extensionCacheBuster}`\r\n",
       "                    }) || require;\r\n",
       "\r\n",
       "                return internalRequire\r\n",
       "            };\r\n",
       "        \r\n",
       "            dotnetInteractiveRequire([\r\n",
       "                    'dotnet-interactive/dotnet-interactive'\r\n",
       "                ],\r\n",
       "                function (dotnet) {\r\n",
       "                    dotnet.init(window);\r\n",
       "                },\r\n",
       "                function (error) {\r\n",
       "                    console.log(error);\r\n",
       "                }\r\n",
       "            );\r\n",
       "        })\r\n",
       "        .catch(error => {console.log(error);});\r\n",
       "    }\r\n",
       "\r\n",
       "// ensure `require` is available globally\r\n",
       "if ((typeof(require) !==  typeof(Function)) || (typeof(require.config) !== typeof(Function))) {\r\n",
       "    let require_script = document.createElement('script');\r\n",
       "    require_script.setAttribute('src', 'https://cdnjs.cloudflare.com/ajax/libs/require.js/2.3.6/require.min.js');\r\n",
       "    require_script.setAttribute('type', 'text/javascript');\r\n",
       "    \r\n",
       "    \r\n",
       "    require_script.onload = function() {\r\n",
       "        loadDotnetInteractiveApi();\r\n",
       "    };\r\n",
       "\r\n",
       "    document.getElementsByTagName('head')[0].appendChild(require_script);\r\n",
       "}\r\n",
       "else {\r\n",
       "    loadDotnetInteractiveApi();\r\n",
       "}\r\n",
       "\r\n",
       "    </script>\r\n",
       "</div>"
      ]
     },
     "metadata": {},
     "output_type": "display_data"
    }
   ],
   "source": [
    "using System.Threading;\n",
    "using System.Threading.Tasks;"
   ]
  },
  {
   "cell_type": "code",
   "execution_count": 2,
   "id": "419f5254-f378-4355-a950-997311a3b538",
   "metadata": {},
   "outputs": [],
   "source": [
    "public static class TaskClass\n",
    "{\n",
    "    public static IDictionary<string, string> cache = new Dictionary<string, string>()\n",
    "    {\n",
    "        {\"0001\", \"A\"},\n",
    "        {\"0002\", \"B\"},\n",
    "        {\"0003\", \"C\"},\n",
    "        {\"0004\", \"D\"},\n",
    "        {\"0005\", \"E\"},\n",
    "        {\"0006\", \"F\"},\n",
    "    };\n",
    "    \n",
    "    public static Task<string> GetValueFromCache(string key, int duration)\n",
    "    {\n",
    "        Console.WriteLine(\"GetValueFromCache开始执行... ...\");\n",
    "        string result = string.Empty;\n",
    "        //Task.Delay(duration);\n",
    "        Thread.Sleep(duration);\n",
    "        Console.WriteLine(\"GetValueFromCache继续执行... ...\");\n",
    "        if (cache.TryGetValue(key, out result))\n",
    "            return Task.FromResult(result);\n",
    "\n",
    "        return Task.FromResult(\"\");\n",
    "    }\n",
    "}"
   ]
  },
  {
   "cell_type": "code",
   "execution_count": 3,
   "id": "819a7aa0-d569-4247-b69d-bf6306bebcd0",
   "metadata": {},
   "outputs": [
    {
     "name": "stdout",
     "output_type": "stream",
     "text": [
      "GetValueFromCache开始执行... ...\n",
      "GetValueFromCache继续执行... ...\n",
      "主程序继续执行... ...\n",
      "result=F\n"
     ]
    }
   ],
   "source": [
    "Task<string> task = TaskClass.GetValueFromCache(\"0006\", 3000);\n",
    "Console.WriteLine(\"主程序继续执行... ...\");\n",
    "string result = task.Result;\n",
    "Console.WriteLine(\"result={0}\", result);"
   ]
  },
  {
   "cell_type": "code",
   "execution_count": 4,
   "id": "020b7071-658f-41af-8035-d56e93a200c4",
   "metadata": {},
   "outputs": [
    {
     "name": "stdout",
     "output_type": "stream",
     "text": [
      "GetValueFromCache开始执行... ...\n",
      "GetValueFromCache继续执行... ...\n",
      "主程序继续执行... ...\n",
      "result=\n"
     ]
    }
   ],
   "source": [
    "Task<string> task = TaskClass.GetValueFromCache(\"0008\", 3000);\n",
    "Console.WriteLine(\"主程序继续执行... ...\");\n",
    "string result = task.Result;\n",
    "Console.WriteLine(\"result={0}\", result);"
   ]
  },
  {
   "cell_type": "code",
   "execution_count": null,
   "id": "7c28074a-6e19-4a98-890e-c8f030892557",
   "metadata": {},
   "outputs": [],
   "source": []
  }
 ],
 "metadata": {
  "kernelspec": {
   "display_name": ".NET (C#)",
   "language": "C#",
   "name": ".net-csharp"
  },
  "language_info": {
   "file_extension": ".cs",
   "mimetype": "text/x-csharp",
   "name": "C#",
   "pygments_lexer": "csharp",
   "version": "9.0"
  }
 },
 "nbformat": 4,
 "nbformat_minor": 5
}
