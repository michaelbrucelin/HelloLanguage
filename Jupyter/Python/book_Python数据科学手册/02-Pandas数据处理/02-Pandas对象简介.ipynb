{
 "cells": [
  {
   "cell_type": "markdown",
   "id": "f068cbbd-8ba3-4731-989f-61289c3f0707",
   "metadata": {},
   "source": [
    "# Pandas对象简介"
   ]
  },
  {
   "cell_type": "markdown",
   "id": "ac0eb383-55ab-4df0-bd1f-2b103ea86de1",
   "metadata": {},
   "source": [
    "如果从底层视角观察 `Pandas` 对象，可以把它们看成增强版的 `NumPy` 结构化数组，行列都不再只是简单的整数索引，还可以带上标签。  \n",
    "在本章后面的内容中我们将会发现，虽然 `Pandas` 在基本数据结构上实现了许多便利的工具、方法和功能，但是后面将要介绍的每一个工具、方法和功能几乎都需要我们理解基本数据结构的内部细节。  \n",
    "因此，在深入学习 `Pandas` 之前，先来看看 `Pandas` 的三个基本数据结构：`Series`、`DataFrame` 和 `Index`。"
   ]
  },
  {
   "cell_type": "code",
   "execution_count": 1,
   "id": "0d59662d-2cc2-46fc-a65c-9c49ccdf9dee",
   "metadata": {},
   "outputs": [],
   "source": [
    "import numpy as np\n",
    "import pandas as pd"
   ]
  },
  {
   "cell_type": "markdown",
   "id": "d56ac5e4-d660-4dc9-8d69-fbe4c0bac975",
   "metadata": {},
   "source": [
    "## 1. Pandas的Series对象"
   ]
  },
  {
   "cell_type": "markdown",
   "id": "dca2360f-06ff-4ff4-aa14-a61398311fb7",
   "metadata": {},
   "source": [
    "`Pandas` 的 `Series` 对象是一个带索引数据构成的一维数组。\n",
    "`Pandas` 的 `Series` 对象比它模仿的一维 `NumPy` 数组更加通用、灵活。"
   ]
  },
  {
   "cell_type": "code",
   "execution_count": 2,
   "id": "d4f1f2ef-dd0a-481b-81e0-92b45ea0de75",
   "metadata": {},
   "outputs": [
    {
     "data": {
      "text/plain": [
       "0    0.25\n",
       "1    0.50\n",
       "2    0.75\n",
       "3    1.00\n",
       "dtype: float64"
      ]
     },
     "execution_count": 2,
     "metadata": {},
     "output_type": "execute_result"
    }
   ],
   "source": [
    "data = pd.Series([0.25, 0.5, 0.75, 1.0])\n",
    "data\n",
    "# 可以看出 Series 对象将一组数据和一组索引绑定在一起，我们可以通过 values 属性和 index 属性获取数据。"
   ]
  },
  {
   "cell_type": "code",
   "execution_count": 3,
   "id": "e897822c-c444-4e23-bb38-c325c5602416",
   "metadata": {},
   "outputs": [
    {
     "data": {
      "text/plain": [
       "array([0.25, 0.5 , 0.75, 1.  ])"
      ]
     },
     "execution_count": 3,
     "metadata": {},
     "output_type": "execute_result"
    }
   ],
   "source": [
    "data.values"
   ]
  },
  {
   "cell_type": "code",
   "execution_count": 4,
   "id": "9b23f64f-cb21-4aab-b3b2-d58f8d968fba",
   "metadata": {},
   "outputs": [
    {
     "data": {
      "text/plain": [
       "RangeIndex(start=0, stop=4, step=1)"
      ]
     },
     "execution_count": 4,
     "metadata": {},
     "output_type": "execute_result"
    }
   ],
   "source": [
    "data.index"
   ]
  },
  {
   "cell_type": "code",
   "execution_count": 5,
   "id": "b07f9dac-9a4a-41a4-8c9c-c0b4e519ec9f",
   "metadata": {},
   "outputs": [
    {
     "data": {
      "text/plain": [
       "0.5"
      ]
     },
     "execution_count": 5,
     "metadata": {},
     "output_type": "execute_result"
    }
   ],
   "source": [
    "data[1]"
   ]
  },
  {
   "cell_type": "code",
   "execution_count": 6,
   "id": "b606a6f1-4920-49ac-9b0c-ab060944798f",
   "metadata": {},
   "outputs": [
    {
     "data": {
      "text/plain": [
       "1    0.50\n",
       "2    0.75\n",
       "dtype: float64"
      ]
     },
     "execution_count": 6,
     "metadata": {},
     "output_type": "execute_result"
    }
   ],
   "source": [
    "data[1:3]"
   ]
  },
  {
   "cell_type": "markdown",
   "id": "15ca4846-8773-4a9a-bbc3-6a0451cdfb2b",
   "metadata": {},
   "source": [
    "### 1.1. Series是通用的NumPy数组"
   ]
  },
  {
   "cell_type": "code",
   "execution_count": null,
   "id": "76d176f0-ccea-449f-97a5-db4dcb475fb3",
   "metadata": {},
   "outputs": [],
   "source": []
  }
 ],
 "metadata": {
  "kernelspec": {
   "display_name": "Python 3 (ipykernel)",
   "language": "python",
   "name": "python3"
  },
  "language_info": {
   "codemirror_mode": {
    "name": "ipython",
    "version": 3
   },
   "file_extension": ".py",
   "mimetype": "text/x-python",
   "name": "python",
   "nbconvert_exporter": "python",
   "pygments_lexer": "ipython3",
   "version": "3.7.3"
  }
 },
 "nbformat": 4,
 "nbformat_minor": 5
}
