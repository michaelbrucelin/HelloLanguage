{
 "cells": [
  {
   "cell_type": "markdown",
   "id": "f4778356-d9de-4571-a671-7e4b0f1558df",
   "metadata": {},
   "source": [
    "# 安装并使用Pandas"
   ]
  },
  {
   "cell_type": "markdown",
   "id": "2d1aa949-9022-467d-8970-c4fb3a21663c",
   "metadata": {},
   "source": [
    "在上一章中，我们详细介绍了 `NumPy` 和它的 `ndarray` 对象，这个对象为 `Python` 多维数组提供了高效的存储和处理方法。  \n",
    "下面，我们将基于前面的知识，深入学习 `Pandas` 程序库提供的数据结构。  \n",
    "`Pandas` 是在 `NumPy` 基础上建立的新程序库，提供了一种高效的 `DataFrame` 数据结构。  \n",
    "`DataFrame` 本质上是一种带行标签和列标签、支持相同类型数据和缺失值的多维数组。  \n",
    "`Pandas` 不仅为带各种标签的数据提供了便利的存储界面，还实现了许多强大的操作，这些操作对数据库框架和电子表格程序的用户来说非常熟悉。  \n",
    "正如我们之前看到的那样，`NumPy` 的 `ndarray` 数据结构为数值计算任务中常见的干净整齐、组织良好的数据提供了许多不可或缺的功能。  \n",
    "虽然它在这方面做得很好，但是当我们需要处理更灵活的数据任务（如为数据添加标签、处理缺失值等），或者需要做一些不是对每个元素都进行广播映射的计算（如分组、透视表等）时，`NumPy` 的限制就非常明显了，而这些都是分析各种非结构化数据时很重要的一部分。  \n",
    "建立在 `NumPy` 数组结构上的 `Pandas`，尤其是它的 `Series` 和 `DataFrame` 对象，为数据科学家们处理那些消耗大量时间的“数据清理”（`data munging`）任务提供了捷径。  \n",
    "本章将重点介绍 `Series`、`DataFrame` 和其他相关数据结构的高效使用方法。我们会酌情使用真实数据集作为演示示例，但这些示例本身并不是学习重点。"
   ]
  },
  {
   "cell_type": "code",
   "execution_count": 1,
   "id": "77982093-b911-41ce-b40c-f3f16a439c58",
   "metadata": {},
   "outputs": [
    {
     "data": {
      "text/plain": [
       "'1.3.2'"
      ]
     },
     "execution_count": 1,
     "metadata": {},
     "output_type": "execute_result"
    }
   ],
   "source": [
    "import pandas\n",
    "\n",
    "pandas.__version__"
   ]
  },
  {
   "cell_type": "code",
   "execution_count": 2,
   "id": "b2c44d73-bc82-4878-aa7f-e53af09c4466",
   "metadata": {},
   "outputs": [],
   "source": [
    "import pandas as pd"
   ]
  },
  {
   "cell_type": "code",
   "execution_count": 3,
   "id": "59e3dda6-b48c-4cca-bc81-87991f4c1e24",
   "metadata": {},
   "outputs": [
    {
     "data": {
      "text/plain": [
       "\u001b[0;31mType:\u001b[0m        module\n",
       "\u001b[0;31mString form:\u001b[0m <module 'pandas' from '/usr/local/lib/python3.7/dist-packages/pandas/__init__.py'>\n",
       "\u001b[0;31mFile:\u001b[0m        /usr/local/lib/python3.7/dist-packages/pandas/__init__.py\n",
       "\u001b[0;31mDocstring:\u001b[0m  \n",
       "pandas - a powerful data analysis and manipulation library for Python\n",
       "=====================================================================\n",
       "\n",
       "**pandas** is a Python package providing fast, flexible, and expressive data\n",
       "structures designed to make working with \"relational\" or \"labeled\" data both\n",
       "easy and intuitive. It aims to be the fundamental high-level building block for\n",
       "doing practical, **real world** data analysis in Python. Additionally, it has\n",
       "the broader goal of becoming **the most powerful and flexible open source data\n",
       "analysis / manipulation tool available in any language**. It is already well on\n",
       "its way toward this goal.\n",
       "\n",
       "Main Features\n",
       "-------------\n",
       "Here are just a few of the things that pandas does well:\n",
       "\n",
       "  - Easy handling of missing data in floating point as well as non-floating\n",
       "    point data.\n",
       "  - Size mutability: columns can be inserted and deleted from DataFrame and\n",
       "    higher dimensional objects\n",
       "  - Automatic and explicit data alignment: objects can be explicitly aligned\n",
       "    to a set of labels, or the user can simply ignore the labels and let\n",
       "    `Series`, `DataFrame`, etc. automatically align the data for you in\n",
       "    computations.\n",
       "  - Powerful, flexible group by functionality to perform split-apply-combine\n",
       "    operations on data sets, for both aggregating and transforming data.\n",
       "  - Make it easy to convert ragged, differently-indexed data in other Python\n",
       "    and NumPy data structures into DataFrame objects.\n",
       "  - Intelligent label-based slicing, fancy indexing, and subsetting of large\n",
       "    data sets.\n",
       "  - Intuitive merging and joining data sets.\n",
       "  - Flexible reshaping and pivoting of data sets.\n",
       "  - Hierarchical labeling of axes (possible to have multiple labels per tick).\n",
       "  - Robust IO tools for loading data from flat files (CSV and delimited),\n",
       "    Excel files, databases, and saving/loading data from the ultrafast HDF5\n",
       "    format.\n",
       "  - Time series-specific functionality: date range generation and frequency\n",
       "    conversion, moving window statistics, date shifting and lagging.\n"
      ]
     },
     "metadata": {},
     "output_type": "display_data"
    }
   ],
   "source": [
    "pd?"
   ]
  },
  {
   "cell_type": "code",
   "execution_count": null,
   "id": "3ee357dd-1519-4a2a-b653-f8cb3f9c860c",
   "metadata": {},
   "outputs": [],
   "source": []
  }
 ],
 "metadata": {
  "kernelspec": {
   "display_name": "Python 3 (ipykernel)",
   "language": "python",
   "name": "python3"
  },
  "language_info": {
   "codemirror_mode": {
    "name": "ipython",
    "version": 3
   },
   "file_extension": ".py",
   "mimetype": "text/x-python",
   "name": "python",
   "nbconvert_exporter": "python",
   "pygments_lexer": "ipython3",
   "version": "3.7.3"
  }
 },
 "nbformat": 4,
 "nbformat_minor": 5
}
