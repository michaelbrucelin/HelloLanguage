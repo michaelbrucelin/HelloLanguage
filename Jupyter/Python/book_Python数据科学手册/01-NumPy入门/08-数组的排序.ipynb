{
 "cells": [
  {
   "cell_type": "markdown",
   "id": "3261cd22-085d-43df-879f-69bb9a9de497",
   "metadata": {},
   "source": [
    "# 数组的排序"
   ]
  },
  {
   "cell_type": "code",
   "execution_count": 1,
   "id": "374539b2-b242-450c-9c4f-50d2f6484979",
   "metadata": {},
   "outputs": [],
   "source": [
    "import numpy as np"
   ]
  },
  {
   "cell_type": "code",
   "execution_count": 2,
   "id": "c1b5cefa-43e4-45c7-8167-558bf4540729",
   "metadata": {},
   "outputs": [],
   "source": [
    "# 选择排序\n",
    "def selection_sort(x):\n",
    "    for i in range(len(x)):\n",
    "        swap = i + np.argmin(x[i:])\n",
    "        (x[i], x[swap]) = (x[swap], x[i])\n",
    "    return x"
   ]
  },
  {
   "cell_type": "code",
   "execution_count": 3,
   "id": "c2df4625-98b8-4b0d-9f16-95c210f915ce",
   "metadata": {},
   "outputs": [
    {
     "data": {
      "text/plain": [
       "array([1, 2, 3, 4, 5])"
      ]
     },
     "execution_count": 3,
     "metadata": {},
     "output_type": "execute_result"
    }
   ],
   "source": [
    "x = np.array([2, 1, 4, 3, 5])\n",
    "selection_sort(x)"
   ]
  },
  {
   "cell_type": "code",
   "execution_count": 4,
   "id": "8d4e0a03-7e4b-44d4-a10a-848caa6b2121",
   "metadata": {},
   "outputs": [],
   "source": [
    "# bogo-sort\n",
    "def bogo_sort(x):\n",
    "    while np.any(x[:-1] > x[1:]):\n",
    "        np.random.shuffle(x)\n",
    "    return x"
   ]
  },
  {
   "cell_type": "code",
   "execution_count": 5,
   "id": "8ea5ee1d-fe3e-4de6-8ae7-cc01490fd51f",
   "metadata": {},
   "outputs": [
    {
     "data": {
      "text/plain": [
       "array([1, 2, 3, 4, 5])"
      ]
     },
     "execution_count": 5,
     "metadata": {},
     "output_type": "execute_result"
    }
   ],
   "source": [
    "x = np.array([2, 1, 4, 3, 5])\n",
    "bogo_sort(x)"
   ]
  },
  {
   "cell_type": "raw",
   "id": "ad116b44-a706-4c0e-8c36-98684b917b4b",
   "metadata": {},
   "source": [
    "在计算机科学中，Bogo排序（bogo-sort）是个非常低效率的排序算法，通常用在教学或测试。\n",
    "其原理等同将一堆卡片抛起，落在桌上后检查卡片是否已整齐排列好，若非就再抛一次。其名字源自Quantum bogodynamics，又称bozo sort、blort sort或猴子排序（无限猴子定理）。\n",
    "无限猴子定理的表述如下：让一只猴子在打字机上随机地按键，当按键时间达到无穷时，几乎必然能够打出任何给定的文字，比如莎士比亚的全套著作。\n",
    "\n",
    "这个很傻的算法的实现完全是碰运气：它不断对数组元素进行随机重排，直到成为有序数组才停止。这个算法的复杂度为 [N × N !]（N 乘以 N 的阶乘）。\n",
    "很明显，这种方法是永远不会用于任何实际运算场景的。"
   ]
  },
  {
   "cell_type": "markdown",
   "id": "40dcca52-0676-435b-aead-19202ebf5cc0",
   "metadata": {},
   "source": [
    "## 1. NumPy中的快速排序：np.sort和np.argsort"
   ]
  },
  {
   "cell_type": "markdown",
   "id": "f8119c01-e38f-48f5-aa8d-5db6718ad2af",
   "metadata": {},
   "source": [
    "尽管 `Python` 有内置的 `sort` 和 `sorted` 函数可以对列表进行排序，但是这里不会介绍这两个函数，因为 `NumPy` 的 `np.sort` 函数实际上效率更高。  \n",
    "默认情况下，`np.sort` 的排序算法是**快速排序**，其算法复杂度为`O[N log N]`，另外也可以选择**归并排序**和**堆排序**。  \n",
    "对于大多数应用场景，默认的快速排序已经足够高效了。"
   ]
  },
  {
   "cell_type": "code",
   "execution_count": 6,
   "id": "befb76fa-5062-42dc-b94e-93e2f18c170d",
   "metadata": {},
   "outputs": [
    {
     "data": {
      "text/plain": [
       "array([1, 2, 3, 4, 5])"
      ]
     },
     "execution_count": 6,
     "metadata": {},
     "output_type": "execute_result"
    }
   ],
   "source": [
    "x = np.array([2, 1, 4, 3, 5])\n",
    "np.sort(x)  # 如果想在不修改原始输入数组的基础上返回一个排好序的数组，可以使用 np.sort"
   ]
  },
  {
   "cell_type": "code",
   "execution_count": 7,
   "id": "23c432d9-4439-4e82-b86b-76e23883dbe8",
   "metadata": {},
   "outputs": [
    {
     "name": "stdout",
     "output_type": "stream",
     "text": [
      "[1 2 3 4 5]\n"
     ]
    }
   ],
   "source": [
    "x.sort()    # 如果希望用排好序的数组替代原始数组，可以使用数组的 sort 方法\n",
    "print(x)"
   ]
  },
  {
   "cell_type": "code",
   "execution_count": 8,
   "id": "4bd76dcd-7c9a-43b5-9be6-e2af5d774b21",
   "metadata": {},
   "outputs": [
    {
     "name": "stdout",
     "output_type": "stream",
     "text": [
      "[1 0 3 2 4]\n"
     ]
    }
   ],
   "source": [
    "x = np.array([2, 1, 4, 3, 5])\n",
    "i = np.argsort(x)  # argsort函数返回的是原始数组排好序的索引值\n",
    "print(i)"
   ]
  },
  {
   "cell_type": "code",
   "execution_count": 9,
   "id": "ae35f129-8043-4535-bb4a-460dae6efc13",
   "metadata": {},
   "outputs": [
    {
     "data": {
      "text/plain": [
       "array([1, 2, 3, 4, 5])"
      ]
     },
     "execution_count": 9,
     "metadata": {},
     "output_type": "execute_result"
    }
   ],
   "source": [
    "# 上面argsort函数返回的索引值可以被用于（通过花哨的索引）创建有序的数组\n",
    "x[i]"
   ]
  },
  {
   "cell_type": "markdown",
   "id": "839ff473-5420-4445-9355-d9b510d5cd6a",
   "metadata": {},
   "source": [
    "### 1.1. 沿着行或列排序"
   ]
  },
  {
   "cell_type": "markdown",
   "id": "3e138a38-477f-458a-87b0-960d6bbb4e73",
   "metadata": {},
   "source": [
    "需要记住的是，这种处理方式是将行或列当作独立的数组，任何行或列的值之间的关系将会丢失！"
   ]
  },
  {
   "cell_type": "code",
   "execution_count": 10,
   "id": "33fd28f1-b885-427a-9b45-7b18a1a7c2e1",
   "metadata": {},
   "outputs": [
    {
     "name": "stdout",
     "output_type": "stream",
     "text": [
      "[[6 3 7 4 6 9]\n",
      " [2 6 7 4 3 7]\n",
      " [7 2 5 4 1 7]\n",
      " [5 1 4 0 9 5]]\n"
     ]
    }
   ],
   "source": [
    "rand = np.random.RandomState(42)\n",
    "X = rand.randint(0, 10, (4,6))\n",
    "print(X)"
   ]
  },
  {
   "cell_type": "code",
   "execution_count": 11,
   "id": "61fa3906-1a10-4517-81e3-c3195f39fb59",
   "metadata": {},
   "outputs": [
    {
     "data": {
      "text/plain": [
       "array([[2, 1, 4, 0, 1, 5],\n",
       "       [5, 2, 5, 4, 3, 7],\n",
       "       [6, 3, 7, 4, 6, 7],\n",
       "       [7, 6, 7, 4, 9, 9]])"
      ]
     },
     "execution_count": 11,
     "metadata": {},
     "output_type": "execute_result"
    }
   ],
   "source": [
    "np.sort(X, axis=0)  # 对X的每一列排序"
   ]
  },
  {
   "cell_type": "code",
   "execution_count": 12,
   "id": "ec8437b5-310a-4ef7-be79-62b584fc7f79",
   "metadata": {},
   "outputs": [
    {
     "data": {
      "text/plain": [
       "array([[3, 4, 6, 6, 7, 9],\n",
       "       [2, 3, 4, 6, 7, 7],\n",
       "       [1, 2, 4, 5, 7, 7],\n",
       "       [0, 1, 4, 5, 5, 9]])"
      ]
     },
     "execution_count": 12,
     "metadata": {},
     "output_type": "execute_result"
    }
   ],
   "source": [
    "np.sort(X, axis=1)  # 对X的每一行排序"
   ]
  },
  {
   "cell_type": "markdown",
   "id": "ea5ca3e2-127f-4363-8d64-7f873ed9892c",
   "metadata": {},
   "source": [
    "## 2. 部分排序：分隔"
   ]
  },
  {
   "cell_type": "markdown",
   "id": "ed38976a-20d3-48fd-b5f8-0d4154bbbe8c",
   "metadata": {},
   "source": [
    "有时候我们不希望对整个数组进行排序，仅仅希望找到数组中第 K 小的值，`NumPy` 的 `np.partition` 函数提供了该功能。  \n",
    "`np.partition` 函数的输入是数组和数字 K，输出结果是一个新数组，最左边是第 K 小的值，往右是任意顺序的其他值。"
   ]
  },
  {
   "cell_type": "code",
   "execution_count": 13,
   "id": "c9dcb8b4-91b9-4271-9f88-8acde54602ce",
   "metadata": {},
   "outputs": [
    {
     "data": {
      "text/plain": [
       "array([2, 1, 3, 4, 6, 5, 7])"
      ]
     },
     "execution_count": 13,
     "metadata": {},
     "output_type": "execute_result"
    }
   ],
   "source": [
    "x = np.array([7, 2, 3, 1, 6, 5, 4])\n",
    "np.partition(x, 3)\n",
    "\n",
    "# 请注意，结果数组中前三个值是数组中最小的三个值，剩下的位置是原始数组剩下的值。在这两个分隔区间中，元素都是任意排列的。"
   ]
  },
  {
   "cell_type": "code",
   "execution_count": 14,
   "id": "78c52db9-ed58-4430-88c6-ae1fe22aafe8",
   "metadata": {},
   "outputs": [
    {
     "data": {
      "text/plain": [
       "array([[3, 4, 6, 7, 6, 9],\n",
       "       [2, 3, 4, 7, 6, 7],\n",
       "       [1, 2, 4, 5, 7, 7],\n",
       "       [0, 1, 4, 5, 9, 5]])"
      ]
     },
     "execution_count": 14,
     "metadata": {},
     "output_type": "execute_result"
    }
   ],
   "source": [
    "np.partition(X, 2, axis=1)  # 与排序类似，也可以沿着多维数组任意的轴进行分隔\n",
    "\n",
    "# 输出结果是一个数组，该数组每一行的前两个元素是该行最小的两个值，每行的其他值分布在剩下的位置。"
   ]
  },
  {
   "cell_type": "markdown",
   "id": "e0ccdbe9-fdfc-48ba-b34d-19f5cb4c5219",
   "metadata": {},
   "source": [
    "## 3. 示例：K个最近邻"
   ]
  },
  {
   "cell_type": "markdown",
   "id": "166645f3-9a6e-4e72-b1db-84ccfdd71197",
   "metadata": {},
   "source": [
    "以下示例展示的是如何利用 `argsort` 函数沿着多个轴快速找到集合中每个点的最近邻。  \n",
    "首先，在二维平面上创建一个有 10 个随机点的集合。按照惯例，将这些数据点放在一个 `10×2` 的数组中："
   ]
  },
  {
   "cell_type": "code",
   "execution_count": 15,
   "id": "5a490ed8-a17a-40ce-b673-8ef5b9cca1ab",
   "metadata": {},
   "outputs": [],
   "source": [
    "X = rand.rand(10, 2)"
   ]
  },
  {
   "cell_type": "code",
   "execution_count": 16,
   "id": "5e11905e-97d9-4bf7-9300-4f6654f42931",
   "metadata": {},
   "outputs": [
    {
     "data": {
      "text/plain": [
       "<matplotlib.collections.PathCollection at 0x7f9089e1b4e0>"
      ]
     },
     "execution_count": 16,
     "metadata": {},
     "output_type": "execute_result"
    },
    {
     "data": {
      "image/png": "[encoded data removed]",
      "text/plain": [
       "<Figure size 432x288 with 1 Axes>"
      ]
     },
     "metadata": {},
     "output_type": "display_data"
    }
   ],
   "source": [
    "%matplotlib inline\n",
    "import matplotlib.pyplot as plt\n",
    "import seaborn; seaborn.set()\n",
    "\n",
    "plt.scatter(X[:,0], X[:,1], s=100)"
   ]
  },
  {
   "cell_type": "markdown",
   "id": "ccfb49e7-e13c-451d-a8d1-3875824d4614",
   "metadata": {},
   "source": [
    "现在来计算两两数据点对间的距离。利用 `NumPy` 的广播和聚合功能，可以用一行代码计算矩阵的平方距离："
   ]
  },
  {
   "cell_type": "code",
   "execution_count": 17,
   "id": "ab2bfcda-40f9-4daa-922a-75a720f9feca",
   "metadata": {},
   "outputs": [],
   "source": [
    "dist_sq = np.sum((X[:,np.newaxis,:] - X[np.newaxis,:,:]) ** 2, axis=-1)"
   ]
  },
  {
   "cell_type": "markdown",
   "id": "75116f5c-c817-48b0-89d1-ee1c58eee385",
   "metadata": {},
   "source": [
    "分解上面各组件后再分析"
   ]
  },
  {
   "cell_type": "code",
   "execution_count": 18,
   "id": "11ae8fba-9fe9-43b3-8121-9bc455ea9891",
   "metadata": {},
   "outputs": [
    {
     "data": {
      "text/plain": [
       "(10, 10, 2)"
      ]
     },
     "execution_count": 18,
     "metadata": {},
     "output_type": "execute_result"
    }
   ],
   "source": [
    "# 在坐标系中计算每对点的差值\n",
    "differences = X[:, np.newaxis, :] - X[np.newaxis, :, :]\n",
    "differences.shape"
   ]
  },
  {
   "cell_type": "code",
   "execution_count": 19,
   "id": "3d139a38-60fd-4c44-b495-2bbece8a1006",
   "metadata": {},
   "outputs": [
    {
     "data": {
      "text/plain": [
       "(10, 10, 2)"
      ]
     },
     "execution_count": 19,
     "metadata": {},
     "output_type": "execute_result"
    }
   ],
   "source": [
    "# 求出差值的平方\n",
    "sq_differences = differences ** 2\n",
    "sq_differences.shape"
   ]
  },
  {
   "cell_type": "code",
   "execution_count": 20,
   "id": "d69999d6-7510-4fff-9bbd-2859b19196ca",
   "metadata": {},
   "outputs": [
    {
     "data": {
      "text/plain": [
       "(10, 10)"
      ]
     },
     "execution_count": 20,
     "metadata": {},
     "output_type": "execute_result"
    }
   ],
   "source": [
    "# 将差值求和获得平方距离\n",
    "dist_sq = sq_differences.sum(-1)\n",
    "dist_sq.shape"
   ]
  },
  {
   "cell_type": "code",
   "execution_count": 21,
   "id": "a079b557-1502-4880-903e-e4bb939a74f4",
   "metadata": {},
   "outputs": [
    {
     "data": {
      "text/plain": [
       "array([0., 0., 0., 0., 0., 0., 0., 0., 0., 0.])"
      ]
     },
     "execution_count": 21,
     "metadata": {},
     "output_type": "execute_result"
    }
   ],
   "source": [
    "# 请再次确认以上步骤，应该看到该矩阵的对角线（也就是每个点到其自身的距离）的值都是 0\n",
    "dist_sq.diagonal()"
   ]
  },
  {
   "cell_type": "markdown",
   "id": "ead41141-e6d5-477d-a278-816780c7d0ff",
   "metadata": {},
   "source": [
    "当我们有了这样一个转化为两点间的平方距离的矩阵后，就可以使用 `np.argsort` 函数沿着每行进行排序了。最左边的列给出的索引值就是最近邻。  \n",
    "需要注意的是，第一列是按 0~9 从小到大排列的。这是因为每个点的最近邻是其自身，所以结果也正如我们所想。"
   ]
  },
  {
   "cell_type": "code",
   "execution_count": 22,
   "id": "e08d6500-5860-462e-a28d-c7ad50030cab",
   "metadata": {},
   "outputs": [
    {
     "name": "stdout",
     "output_type": "stream",
     "text": [
      "[[0 3 9 7 1 4 2 5 6 8]\n",
      " [1 4 7 9 3 6 8 5 0 2]\n",
      " [2 1 4 6 3 0 8 9 7 5]\n",
      " [3 9 7 0 1 4 5 8 6 2]\n",
      " [4 1 8 5 6 7 9 3 0 2]\n",
      " [5 8 6 4 1 7 9 3 2 0]\n",
      " [6 8 5 4 1 7 9 3 2 0]\n",
      " [7 9 3 1 4 0 5 8 6 2]\n",
      " [8 5 6 4 1 7 9 3 2 0]\n",
      " [9 7 3 0 1 4 5 8 6 2]]\n"
     ]
    }
   ],
   "source": [
    "nearest = np.argsort(dist_sq, axis=1)\n",
    "print(nearest)"
   ]
  },
  {
   "cell_type": "markdown",
   "id": "10e68dd4-5ef7-4b8d-9ba9-8f332c1d62df",
   "metadata": {},
   "source": [
    "如果使用全排序，我们实际上可以实现的比这个例子展示的更多。  \n",
    "如果我们仅仅关心 k 个最近邻，那么唯一需要做的是分隔每一行，这样最小的 k + 1 的平方距离将排在最前面，其他更长的距离占据矩阵该行的其他位置。  \n",
    "可以用 `np.argpartition` 函数实现："
   ]
  },
  {
   "cell_type": "code",
   "execution_count": 23,
   "id": "1d7c1d2a-7e00-4054-8f2f-b3fa86baea05",
   "metadata": {},
   "outputs": [],
   "source": [
    "K = 2\n",
    "nearest_partition = np.argpartition(dist_sq, K + 1, axis=1)"
   ]
  },
  {
   "cell_type": "markdown",
   "id": "353e3fdc-f80f-4330-82f7-3c9965bbcbe1",
   "metadata": {},
   "source": [
    "为了将邻节点网络可视化，我们将每个点和其最近的两个最近邻连接。"
   ]
  },
  {
   "cell_type": "code",
   "execution_count": 25,
   "id": "ccd68a93-a63a-4a89-af63-2aeb94a5c20d",
   "metadata": {},
   "outputs": [
    {
     "data": {
      "image/png": "[encoded data removed]",
      "text/plain": [
       "<Figure size 432x288 with 1 Axes>"
      ]
     },
     "metadata": {},
     "output_type": "display_data"
    }
   ],
   "source": [
    "plt.scatter(X[:,0], X[:,1], s=100)\n",
    "# 将每个点与它两个最近邻连接\n",
    "K = 2\n",
    "for i in range(X.shape[0]):\n",
    "    for j in nearest_partition[i, :K+1]:\n",
    "        # 画一条从X[i]到X[j]的线段\n",
    "        # 用zip方法实现\n",
    "        plt.plot(*zip(X[j], X[i]), color='black')"
   ]
  },
  {
   "cell_type": "code",
   "execution_count": null,
   "id": "588d5a30-1c69-4326-9fab-771daebcbaa4",
   "metadata": {},
   "outputs": [],
   "source": []
  }
 ],
 "metadata": {
  "kernelspec": {
   "display_name": "Python 3 (ipykernel)",
   "language": "python",
   "name": "python3"
  },
  "language_info": {
   "codemirror_mode": {
    "name": "ipython",
    "version": 3
   },
   "file_extension": ".py",
   "mimetype": "text/x-python",
   "name": "python",
   "nbconvert_exporter": "python",
   "pygments_lexer": "ipython3",
   "version": "3.7.3"
  }
 },
 "nbformat": 4,
 "nbformat_minor": 5
}
