{
 "cells": [
  {
   "cell_type": "markdown",
   "id": "595a7944-c3d6-4022-9f6b-950d9904ec63",
   "metadata": {},
   "source": [
    "# NumPy数组基础"
   ]
  },
  {
   "cell_type": "markdown",
   "id": "01f69c0b-1f32-4263-9e2f-25ea2018d5c2",
   "metadata": {},
   "source": [
    "`Python` 中的数据操作几乎等同于 `NumPy` 数组操作，甚至新出现的 `Pandas` 工具也是构建在 NumPy 数组的基础之上的。  \n",
    "本节将展示一些用 `NumPy` 数组操作获取数据或子数组，对数组进行分裂、变形和连接的例子。  \n",
    "\n",
    "我们将介绍以下几类基本的数组操作。\n",
    "- 数组的属性\n",
    "    - 确定数组的大小、形状、存储大小、数据类型。\n",
    "- 数组的索引\n",
    "    - 获取和设置数组各个元素的值。\n",
    "- 数组的切分\n",
    "    - 在大的数组中获取或设置更小的子数组。\n",
    "- 数组的变形\n",
    "    - 改变给定数组的形状。\n",
    "- 数组的拼接和分裂\n",
    "    - 将多个数组合并为一个，以及将一个数组分裂成多个。"
   ]
  },
  {
   "cell_type": "code",
   "execution_count": 1,
   "id": "37a787df-c652-4c1d-bb2e-2902584cfff4",
   "metadata": {},
   "outputs": [],
   "source": [
    "import numpy as np"
   ]
  },
  {
   "cell_type": "code",
   "execution_count": null,
   "id": "5489cb29-f328-4f48-9db0-f93efcc4df91",
   "metadata": {},
   "outputs": [],
   "source": []
  }
 ],
 "metadata": {
  "kernelspec": {
   "display_name": "Python 3 (ipykernel)",
   "language": "python",
   "name": "python3"
  },
  "language_info": {
   "codemirror_mode": {
    "name": "ipython",
    "version": 3
   },
   "file_extension": ".py",
   "mimetype": "text/x-python",
   "name": "python",
   "nbconvert_exporter": "python",
   "pygments_lexer": "ipython3",
   "version": "3.7.3"
  }
 },
 "nbformat": 4,
 "nbformat_minor": 5
}
