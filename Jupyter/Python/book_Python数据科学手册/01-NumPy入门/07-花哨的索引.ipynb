{
 "cells": [
  {
   "cell_type": "markdown",
   "id": "140d3b86-f507-4403-a3a3-c2b7b445f00c",
   "metadata": {},
   "source": [
    "# 花哨的索引"
   ]
  },
  {
   "cell_type": "markdown",
   "id": "9fa3fea2-48a5-44cd-aca5-dc4b373f6539",
   "metadata": {},
   "source": [
    "在前面的小节中，我们看到了如何利用简单的索引值（如 arr[0]）、切片（如 arr[:5]）和布尔掩码（如 arr[arr > 0]）获得并修改部分数组。  \n",
    "在这一节中，我们将介绍另外一种数组索引，也称作**花哨的索引（fancy indexing）**。  \n",
    "花哨的索引和前面那些简单的索引非常类似，但是传递的是索引数组，而不是单个标量。  \n",
    "花哨的索引让我们能够快速获得并修改复杂的数组值的子数据集。"
   ]
  },
  {
   "cell_type": "code",
   "execution_count": 1,
   "id": "c38f1030-1510-405b-b080-b85afce1121b",
   "metadata": {},
   "outputs": [],
   "source": [
    "import numpy as np"
   ]
  },
  {
   "cell_type": "markdown",
   "id": "03d5c6e9-e868-490a-ae27-29c96708f633",
   "metadata": {},
   "source": [
    "## 1. 探索花哨的索引"
   ]
  },
  {
   "cell_type": "markdown",
   "id": "101db67c-c16d-4d92-bcd4-7670a398abbc",
   "metadata": {},
   "source": [
    "花哨的索引在概念上非常简单，它意味着传递一个索引数组来一次性获得多个数组元素。"
   ]
  },
  {
   "cell_type": "code",
   "execution_count": 2,
   "id": "cd7f6de8-9799-4289-90fb-c52c0624b8eb",
   "metadata": {},
   "outputs": [
    {
     "name": "stdout",
     "output_type": "stream",
     "text": [
      "[51 92 14 71 60 20 82 86 74 74]\n"
     ]
    }
   ],
   "source": [
    "rand = np.random.RandomState(42)\n",
    "x = rand.randint(100, size=10)\n",
    "print(x)"
   ]
  },
  {
   "cell_type": "code",
   "execution_count": 3,
   "id": "30006536-c68a-424c-a881-ade2c76a987e",
   "metadata": {},
   "outputs": [
    {
     "data": {
      "text/plain": [
       "[71, 86, 14]"
      ]
     },
     "execution_count": 3,
     "metadata": {},
     "output_type": "execute_result"
    }
   ],
   "source": [
    "[x[3], x[7], x[2]]  # 常规方式获取3个元素"
   ]
  },
  {
   "cell_type": "code",
   "execution_count": 4,
   "id": "a59cda1c-15e3-4dbe-8e1b-4324eeacea75",
   "metadata": {},
   "outputs": [
    {
     "data": {
      "text/plain": [
       "array([71, 86, 60])"
      ]
     },
     "execution_count": 4,
     "metadata": {},
     "output_type": "execute_result"
    }
   ],
   "source": [
    "ind = [3, 7, 4]\n",
    "x[ind]  # 通过传递索引的单个列表或数组来获得同样的结果"
   ]
  },
  {
   "cell_type": "code",
   "execution_count": 5,
   "id": "d72d8524-3329-48f5-9642-bdfc83cdd1fd",
   "metadata": {},
   "outputs": [
    {
     "data": {
      "text/plain": [
       "array([[71, 86],\n",
       "       [60, 20]])"
      ]
     },
     "execution_count": 5,
     "metadata": {},
     "output_type": "execute_result"
    }
   ],
   "source": [
    "ind = np.array([[3, 7],\n",
    "                [4, 5]])\n",
    "x[ind]  # 利用花哨的索引，结果的形状与索引数组的形状一致，而不是与被索引数组的形状一致"
   ]
  },
  {
   "cell_type": "code",
   "execution_count": 6,
   "id": "c7406860-d83a-4bea-80c7-d27733dfa3e6",
   "metadata": {},
   "outputs": [
    {
     "data": {
      "text/plain": [
       "array([[ 0,  1,  2,  3],\n",
       "       [ 4,  5,  6,  7],\n",
       "       [ 8,  9, 10, 11]])"
      ]
     },
     "execution_count": 6,
     "metadata": {},
     "output_type": "execute_result"
    }
   ],
   "source": [
    "X = np.arange(12).reshape((3,4))\n",
    "X"
   ]
  },
  {
   "cell_type": "code",
   "execution_count": 7,
   "id": "c4fdcc76-100c-4a7e-8c41-fdb5cf39dceb",
   "metadata": {},
   "outputs": [
    {
     "data": {
      "text/plain": [
       "array([ 2,  5, 11])"
      ]
     },
     "execution_count": 7,
     "metadata": {},
     "output_type": "execute_result"
    }
   ],
   "source": [
    "row = np.array([0, 1, 2])\n",
    "col = np.array([2, 1, 3])\n",
    "X[row, col]  # 花哨的索引也对多个维度适用，和标准的索引方式一样，第一个索引指的是行，第二个索引指的是列"
   ]
  },
  {
   "cell_type": "code",
   "execution_count": 8,
   "id": "6dce44b9-34c1-4033-aa41-39da50ee2fd7",
   "metadata": {},
   "outputs": [
    {
     "data": {
      "text/plain": [
       "array([[ 2,  1,  3],\n",
       "       [ 6,  5,  7],\n",
       "       [10,  9, 11]])"
      ]
     },
     "execution_count": 8,
     "metadata": {},
     "output_type": "execute_result"
    }
   ],
   "source": [
    "X[row[:, np.newaxis], col]  # 在花哨的索引中，索引值的配对遵循广播规则。因此当我们将一个列向量和一个行向量组合在一个索引中时，会得到一个二维的结果"
   ]
  },
  {
   "cell_type": "code",
   "execution_count": 9,
   "id": "e21ad56f-e426-4dce-81ea-0192e138372c",
   "metadata": {},
   "outputs": [
    {
     "data": {
      "text/plain": [
       "array([[0, 0, 0],\n",
       "       [2, 1, 3],\n",
       "       [4, 2, 6]])"
      ]
     },
     "execution_count": 9,
     "metadata": {},
     "output_type": "execute_result"
    }
   ],
   "source": [
    "row[:, np.newaxis] * col  # 这里特别需要记住的是，花哨的索引返回的值反映的是广播后的索引数组的形状，而不是被索引的数组的形状"
   ]
  },
  {
   "cell_type": "markdown",
   "id": "3387bf3f-2bb9-4f76-8932-a929954c6365",
   "metadata": {},
   "source": [
    "## 2. 组合索引"
   ]
  },
  {
   "cell_type": "code",
   "execution_count": 10,
   "id": "adcfc7aa-4b51-4b84-a984-80ca7b222921",
   "metadata": {},
   "outputs": [
    {
     "name": "stdout",
     "output_type": "stream",
     "text": [
      "[[ 0  1  2  3]\n",
      " [ 4  5  6  7]\n",
      " [ 8  9 10 11]]\n"
     ]
    }
   ],
   "source": [
    "print(X)"
   ]
  },
  {
   "cell_type": "code",
   "execution_count": 11,
   "id": "b0739a5d-6e1a-4e6e-963b-91f2cda0357f",
   "metadata": {},
   "outputs": [
    {
     "data": {
      "text/plain": [
       "array([10,  8,  9])"
      ]
     },
     "execution_count": 11,
     "metadata": {},
     "output_type": "execute_result"
    }
   ],
   "source": [
    "X[2, [2, 0, 1]]   # 将花哨的索引和简单的索引组合使用"
   ]
  },
  {
   "cell_type": "code",
   "execution_count": 12,
   "id": "be549782-5b26-4926-a6da-2b05f27a5f66",
   "metadata": {},
   "outputs": [
    {
     "data": {
      "text/plain": [
       "array([[ 6,  4,  5],\n",
       "       [10,  8,  9]])"
      ]
     },
     "execution_count": 12,
     "metadata": {},
     "output_type": "execute_result"
    }
   ],
   "source": [
    "X[1:, [2, 0, 1]]  # 将花哨的索引和切片组合使用"
   ]
  },
  {
   "cell_type": "code",
   "execution_count": 13,
   "id": "b0acdc9c-3eb6-4673-b3aa-5c79b63befb3",
   "metadata": {},
   "outputs": [
    {
     "data": {
      "text/plain": [
       "array([[ 0,  2],\n",
       "       [ 4,  6],\n",
       "       [ 8, 10]])"
      ]
     },
     "execution_count": 13,
     "metadata": {},
     "output_type": "execute_result"
    }
   ],
   "source": [
    "mask = np.array([1, 0, 1, 0], dtype=bool)\n",
    "X[row[:, np.newaxis], mask]  # 将花哨的索引和掩码组合使用"
   ]
  },
  {
   "cell_type": "markdown",
   "id": "a77c9f3f-7979-435c-8990-06c0fca33908",
   "metadata": {},
   "source": [
    "## 3. 示例：选择随机点"
   ]
  },
  {
   "cell_type": "markdown",
   "id": "8777c9dc-0a08-4721-810e-dbe4cbe9adb0",
   "metadata": {},
   "source": [
    "花哨的索引的一个常见用途是从一个矩阵中选择行的子集。  \n",
    "例如我们有一个 `N×D` 的矩阵，表示在 `D` 个维度的 `N` 个点。以下是一个二维正态分布的点组成的数组："
   ]
  },
  {
   "cell_type": "code",
   "execution_count": 14,
   "id": "6f47c1c0-e4be-447b-ad15-c27f2ca00899",
   "metadata": {},
   "outputs": [
    {
     "data": {
      "text/plain": [
       "(100, 2)"
      ]
     },
     "execution_count": 14,
     "metadata": {},
     "output_type": "execute_result"
    }
   ],
   "source": [
    "mean = [0, 0]\n",
    "cov = [[1, 2],\n",
    "       [2, 5]]\n",
    "X = rand.multivariate_normal(mean, cov, 100)\n",
    "X.shape"
   ]
  },
  {
   "cell_type": "code",
   "execution_count": 15,
   "id": "b0184b22-cd74-4e58-83ac-18f10a5caaac",
   "metadata": {},
   "outputs": [
    {
     "data": {
      "text/plain": [
       "<matplotlib.collections.PathCollection at 0x7fa7ce882ac8>"
      ]
     },
     "execution_count": 15,
     "metadata": {},
     "output_type": "execute_result"
    },
    {
     "data": {
      "image/png": "[encoded data removed]",
      "text/plain": [
       "<Figure size 432x288 with 1 Axes>"
      ]
     },
     "metadata": {},
     "output_type": "display_data"
    }
   ],
   "source": [
    "%matplotlib inline\n",
    "import matplotlib.pyplot as plt\n",
    "import seaborn; seaborn.set()  # 设置绘图风格\n",
    "\n",
    "plt.scatter(X[:,0], X[:,1])"
   ]
  },
  {
   "cell_type": "code",
   "execution_count": 16,
   "id": "ad3ef581-059c-4a9e-81e3-2d45e1a58a21",
   "metadata": {},
   "outputs": [
    {
     "data": {
      "text/plain": [
       "array([13, 28, 62, 21, 24,  8, 80, 58, 72, 74, 44, 79, 69, 33,  5, 97, 23,\n",
       "        1, 15, 42])"
      ]
     },
     "execution_count": 16,
     "metadata": {},
     "output_type": "execute_result"
    }
   ],
   "source": [
    "indices = np.random.choice(X.shape[0], 20, replace=False)  # 我们将利用花哨的索引随机选取 20 个点——选择 20 个随机的、不重复的索引值，并利用这些索引值选取到原始数组对应的值\n",
    "indices"
   ]
  },
  {
   "cell_type": "code",
   "execution_count": 17,
   "id": "0f8d944d-4755-40e9-ab45-1b522aa101f0",
   "metadata": {},
   "outputs": [
    {
     "data": {
      "text/plain": [
       "(20, 2)"
      ]
     },
     "execution_count": 17,
     "metadata": {},
     "output_type": "execute_result"
    }
   ],
   "source": [
    "selection = X[indices]\n",
    "selection.shape"
   ]
  },
  {
   "cell_type": "code",
   "execution_count": 18,
   "id": "5857a36e-892e-4123-9230-927616b1699c",
   "metadata": {},
   "outputs": [
    {
     "data": {
      "text/plain": [
       "<matplotlib.collections.PathCollection at 0x7fa7ce79fac8>"
      ]
     },
     "execution_count": 18,
     "metadata": {},
     "output_type": "execute_result"
    },
    {
     "data": {
      "image/png": "[encoded data removed]",
      "text/plain": [
       "<Figure size 432x288 with 1 Axes>"
      ]
     },
     "metadata": {},
     "output_type": "display_data"
    }
   ],
   "source": [
    "plt.scatter(X[:,0], X[:,1], alpha=0.3)\n",
    "plt.scatter(selection[:,0], selection[:,1], facecolor='none', edgecolor='b', s=200)\n",
    "\n",
    "# 这种方法通常用于快速分割数据，即需要分割训练 / 测试数据集以验证统计模型时，以及在解答统计问题时的抽样方法中使用。"
   ]
  },
  {
   "cell_type": "markdown",
   "id": "242f7904-7252-4125-aa52-a2264b350a9f",
   "metadata": {},
   "source": [
    "## 4. 用花哨的索引修改值"
   ]
  },
  {
   "cell_type": "code",
   "execution_count": 19,
   "id": "2534310c-9f05-4a6c-a58c-9384d1c015f8",
   "metadata": {},
   "outputs": [
    {
     "name": "stdout",
     "output_type": "stream",
     "text": [
      "[ 0 99 99  3 99  5  6  7 99  9]\n",
      "[ 0 89 89  3 89  5  6  7 89  9]\n"
     ]
    }
   ],
   "source": [
    "x = np.arange(10)\n",
    "i = np.array([2, 1, 8, 4])\n",
    "\n",
    "x[i] = 99\n",
    "print(x)\n",
    "\n",
    "x[i] -= 10\n",
    "print(x)"
   ]
  },
  {
   "cell_type": "code",
   "execution_count": 20,
   "id": "6f1e15ae-e8b6-4b14-a808-1e2282465328",
   "metadata": {},
   "outputs": [
    {
     "name": "stdout",
     "output_type": "stream",
     "text": [
      "[6. 0. 0. 0. 0. 0. 0. 0. 0. 0.]\n"
     ]
    }
   ],
   "source": [
    "x = np.zeros(10)\n",
    "x[[0,0]] = [4, 6]  # 操作中重复的索引会导致一些出乎意料的结果产生，这里 x[0] = 4 被 x[0] = 6覆盖\n",
    "print(x)"
   ]
  },
  {
   "cell_type": "code",
   "execution_count": 21,
   "id": "1ccc9c75-61cd-472d-b0d3-3b2a55c3121b",
   "metadata": {},
   "outputs": [
    {
     "data": {
      "text/plain": [
       "array([6., 0., 1., 1., 1., 0., 0., 0., 0., 0.])"
      ]
     },
     "execution_count": 21,
     "metadata": {},
     "output_type": "execute_result"
    }
   ],
   "source": [
    "i = [2, 3, 3, 4, 4, 4]\n",
    "x[i] += 1  # 执行操作可以理解为，并行计算，依次赋值，所以产生的效果是重复的赋值，而不是累加的效果\n",
    "x\n",
    "# 书中的解释：\n",
    "# 你可能期望 x[3] 的值为 2，x[4] 的值为 3，因为这是这些索引值重复的次数。但是为什么结果不同于我们的预想呢？\n",
    "# 从概念的角度理解，这是因为 x[i] += 1 是 x[i] = x[i] + 1 的简写。x[i] + 1 计算后，这个结果被赋值给了 x 相应的索引值。\n",
    "# 记住这个原理后，我们却发现数组并没有发生多次累加，而是发生了赋值，显然这不是我们希望的结果。"
   ]
  },
  {
   "cell_type": "code",
   "execution_count": 22,
   "id": "c879bd56-f296-40a6-bb68-c9804d2e7fc1",
   "metadata": {},
   "outputs": [
    {
     "name": "stdout",
     "output_type": "stream",
     "text": [
      "[0. 0. 1. 2. 3. 0. 0. 0. 0. 0.]\n"
     ]
    }
   ],
   "source": [
    "x = np.zeros(10)\n",
    "np.add.at(x, i, 1)  # 如果想要实现上面的的“伪”累加效果，可以这样实现\n",
    "print(x)\n",
    "\n",
    "# at() 函数在这里对给定的操作、给定的索引（这里是 i）以及给定的值（这里是 1）执行的是就地操作。另一个可以实现该功能的类似方法是通用函数中的 reduceat() 函数。"
   ]
  },
  {
   "cell_type": "markdown",
   "id": "9cceb18f-c13e-47e4-9e83-cb3158026931",
   "metadata": {},
   "source": [
    "## 5. 示例：数据区间划分"
   ]
  },
  {
   "cell_type": "code",
   "execution_count": 23,
   "id": "dfe699fa-cb28-423f-810d-80acc4748981",
   "metadata": {},
   "outputs": [
    {
     "data": {
      "text/plain": [
       "[<matplotlib.lines.Line2D at 0x7fa7ce724ef0>]"
      ]
     },
     "execution_count": 23,
     "metadata": {},
     "output_type": "execute_result"
    },
    {
     "data": {
      "image/png": "[encoded data removed]",
      "text/plain": [
       "<Figure size 432x288 with 1 Axes>"
      ]
     },
     "metadata": {},
     "output_type": "display_data"
    }
   ],
   "source": [
    "# 手动计算并绘制直方图\n",
    "np.random.seed(42)\n",
    "x = np.random.randn(100)\n",
    "\n",
    "# 手动创建直方图\n",
    "bins = np.linspace(-5, 5, 20)\n",
    "counts = np.zeros_like(bins)\n",
    "\n",
    "# 为每个x找到合适的区间\n",
    "i = np.searchsorted(bins, x)\n",
    "\n",
    "# 为每个区间加上1\n",
    "np.add.at(counts, i, 1)\n",
    "\n",
    "# 画图\n",
    "# plt.plot(bins, counts, linestyle='steps')  # linestyle supported values are '-', '--', '-.', ':', 'None', ' ', '', 'solid', 'dashed', 'dashdot', 'dotted'\n",
    "plt.plot(bins, counts, drawstyle='steps')"
   ]
  },
  {
   "cell_type": "code",
   "execution_count": 24,
   "id": "0544e55f-21cd-457d-92a9-f303585d365b",
   "metadata": {},
   "outputs": [
    {
     "data": {
      "text/plain": [
       "(array([ 0.,  0.,  0.,  0.,  1.,  3.,  7.,  9., 23., 22., 17., 10.,  7.,\n",
       "         1.,  0.,  0.,  0.,  0.,  0.]),\n",
       " array([-5.        , -4.47368421, -3.94736842, -3.42105263, -2.89473684,\n",
       "        -2.36842105, -1.84210526, -1.31578947, -0.78947368, -0.26315789,\n",
       "         0.26315789,  0.78947368,  1.31578947,  1.84210526,  2.36842105,\n",
       "         2.89473684,  3.42105263,  3.94736842,  4.47368421,  5.        ]),\n",
       " [<matplotlib.patches.Polygon at 0x7fa7ce690c18>])"
      ]
     },
     "execution_count": 24,
     "metadata": {},
     "output_type": "execute_result"
    },
    {
     "data": {
      "image/png": "[encoded data removed]",
      "text/plain": [
       "<Figure size 432x288 with 1 Axes>"
      ]
     },
     "metadata": {},
     "output_type": "display_data"
    }
   ],
   "source": [
    "# 使用plt.hist()更简单的绘制直方图，无需手动计算\n",
    "plt.hist(x, bins, histtype='step')"
   ]
  },
  {
   "cell_type": "code",
   "execution_count": null,
   "id": "b6282659-25de-4063-b989-6ad76d8c898f",
   "metadata": {},
   "outputs": [],
   "source": []
  }
 ],
 "metadata": {
  "kernelspec": {
   "display_name": "Python 3 (ipykernel)",
   "language": "python",
   "name": "python3"
  },
  "language_info": {
   "codemirror_mode": {
    "name": "ipython",
    "version": 3
   },
   "file_extension": ".py",
   "mimetype": "text/x-python",
   "name": "python",
   "nbconvert_exporter": "python",
   "pygments_lexer": "ipython3",
   "version": "3.7.3"
  }
 },
 "nbformat": 4,
 "nbformat_minor": 5
}
