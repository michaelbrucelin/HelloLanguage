{
 "cells": [
  {
   "cell_type": "markdown",
   "id": "140d3b86-f507-4403-a3a3-c2b7b445f00c",
   "metadata": {},
   "source": [
    "# 花哨的索引"
   ]
  },
  {
   "cell_type": "markdown",
   "id": "9fa3fea2-48a5-44cd-aca5-dc4b373f6539",
   "metadata": {},
   "source": [
    "在前面的小节中，我们看到了如何利用简单的索引值（如 arr[0]）、切片（如 arr[:5]）和布尔掩码（如 arr[arr > 0]）获得并修改部分数组。  \n",
    "在这一节中，我们将介绍另外一种数组索引，也称作**花哨的索引（fancy indexing）**。  \n",
    "花哨的索引和前面那些简单的索引非常类似，但是传递的是索引数组，而不是单个标量。  \n",
    "花哨的索引让我们能够快速获得并修改复杂的数组值的子数据集。"
   ]
  },
  {
   "cell_type": "code",
   "execution_count": 1,
   "id": "c38f1030-1510-405b-b080-b85afce1121b",
   "metadata": {},
   "outputs": [],
   "source": [
    "import numpy as np\n",
    "\n",
    "rand = np.random.RandomState(42)"
   ]
  },
  {
   "cell_type": "markdown",
   "id": "03d5c6e9-e868-490a-ae27-29c96708f633",
   "metadata": {},
   "source": [
    "## 1. 探索花哨的索引"
   ]
  },
  {
   "cell_type": "markdown",
   "id": "101db67c-c16d-4d92-bcd4-7670a398abbc",
   "metadata": {},
   "source": [
    "花哨的索引在概念上非常简单，它意味着传递一个索引数组来一次性获得多个数组元素。"
   ]
  },
  {
   "cell_type": "code",
   "execution_count": 2,
   "id": "cd7f6de8-9799-4289-90fb-c52c0624b8eb",
   "metadata": {},
   "outputs": [
    {
     "name": "stdout",
     "output_type": "stream",
     "text": [
      "[51 92 14 71 60 20 82 86 74 74]\n"
     ]
    }
   ],
   "source": [
    "x = rand.randint(100, size=10)\n",
    "print(x)"
   ]
  },
  {
   "cell_type": "code",
   "execution_count": 3,
   "id": "30006536-c68a-424c-a881-ade2c76a987e",
   "metadata": {},
   "outputs": [
    {
     "data": {
      "text/plain": [
       "[71, 86, 14]"
      ]
     },
     "execution_count": 3,
     "metadata": {},
     "output_type": "execute_result"
    }
   ],
   "source": [
    "[x[3], x[7], x[2]]"
   ]
  },
  {
   "cell_type": "code",
   "execution_count": null,
   "id": "a59cda1c-15e3-4dbe-8e1b-4324eeacea75",
   "metadata": {},
   "outputs": [],
   "source": []
  }
 ],
 "metadata": {
  "kernelspec": {
   "display_name": "Python 3 (ipykernel)",
   "language": "python",
   "name": "python3"
  },
  "language_info": {
   "codemirror_mode": {
    "name": "ipython",
    "version": 3
   },
   "file_extension": ".py",
   "mimetype": "text/x-python",
   "name": "python",
   "nbconvert_exporter": "python",
   "pygments_lexer": "ipython3",
   "version": "3.7.3"
  }
 },
 "nbformat": 4,
 "nbformat_minor": 5
}
