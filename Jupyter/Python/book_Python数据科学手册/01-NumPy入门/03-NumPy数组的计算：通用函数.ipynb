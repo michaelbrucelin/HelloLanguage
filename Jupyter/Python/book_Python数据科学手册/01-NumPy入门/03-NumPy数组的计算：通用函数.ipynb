{
 "cells": [
  {
   "cell_type": "markdown",
   "id": "7cff789e-cdf7-4909-a568-0127637bec19",
   "metadata": {},
   "source": [
    "# NumPy数组的计算：通用函数"
   ]
  },
  {
   "cell_type": "markdown",
   "id": "cfb2badf-e6a8-4edd-baa7-cd69794cbb5c",
   "metadata": {},
   "source": [
    "`NumPy` 在 `Python` 数据科学世界中如此重要的原因明确点说，`NumPy` 提供了一个简单灵活的接口来优化数据数组的计算。  \n",
    "`NumPy` 数组的计算有时非常快，有时也非常慢。使 `NumPy` 变快的关键是利用向量化操作，通常在 `NumPy` 的通用函数（`ufunc`）中实现。  \n",
    "本节将介绍 `NumPy` 通用函数的重要性——它可以提高数组元素的重复计算的效率；然后，将会介绍很多 `NumPy` 包中常用且有用的数学通用函数。"
   ]
  },
  {
   "cell_type": "code",
   "execution_count": 1,
   "id": "c55b5a34-ef8b-42f7-aa5a-20e2fea1fa80",
   "metadata": {},
   "outputs": [],
   "source": [
    "import numpy as np\n",
    "\n",
    "np.random.seed(0)"
   ]
  },
  {
   "cell_type": "code",
   "execution_count": 2,
   "id": "8cf56d80-1e62-46ca-ab7e-0bc8f60a45b4",
   "metadata": {},
   "outputs": [
    {
     "data": {
      "text/html": [
       "<style>\n",
       "  table {margin-left: 0 !important;}\n",
       "</style>\n"
      ],
      "text/plain": [
       "<IPython.core.display.HTML object>"
      ]
     },
     "metadata": {},
     "output_type": "display_data"
    }
   ],
   "source": [
    "%%html\n",
    "<style>\n",
    "  table {margin-left: 0 !important;}\n",
    "</style>"
   ]
  },
  {
   "cell_type": "markdown",
   "id": "3ce728aa-25f1-454e-80ef-e487942990ce",
   "metadata": {},
   "source": [
    "## 1. 缓慢的循环"
   ]
  },
  {
   "cell_type": "markdown",
   "id": "0c67a9d1-74c4-4064-ad1e-333d9c851af5",
   "metadata": {},
   "source": [
    "`Python` 的默认实现（被称作 `CPython`）处理起某些操作时非常慢，一部分原因是该语言的动态性和解释性——数据类型灵活的特性决定了序列操作不能像 `C` 语言和 `Fortran` 语言一样被编译成有效的机器码。  \n",
    "目前，有一些项目试图解决 `Python` 这一弱点，比较知名的包括：\n",
    "- `PyPy` 项目[http://pypy.org/](http://pypy.org/)，一个实时的 `Python` 编译实现；\n",
    "- `Cython` 项目[http://cython.org](http://cython.org)，将 `Python` 代码转换成可编译的 `C` 代码；\n",
    "- `Numba`项目[http://numba.pydata.org/](http://numba.pydata.org/)，将 `Python` 代码的片段转换成快速的 `LLVM` 字节码。\n",
    "\n",
    "以上这些项目都各有其优势和劣势，但是比较保守地说，这些方法中还没有一种能达到或超过标准 `CPython` 引擎的受欢迎程度。"
   ]
  },
  {
   "cell_type": "code",
   "execution_count": 3,
   "id": "5c04d482-e2ce-414c-ad6a-2aff0657c839",
   "metadata": {},
   "outputs": [
    {
     "name": "stdout",
     "output_type": "stream",
     "text": [
      "5.83 s ± 90.7 ms per loop (mean ± std. dev. of 7 runs, 1 loop each)\n"
     ]
    }
   ],
   "source": [
    "# Python 的相对缓慢通常出现在很多小操作需要不断重复的时候，比如对数组的每个元素做循环操作时。\n",
    "# 假设有一个数组，我们想计算每个元素的倒数，一种直接的解决方法如下，但是如果测试一个很大量的输入数据运行上述代码的时间，这一操作将非常耗时，并且是超出意料的慢！\n",
    "def compute_reciprocals(values):\n",
    "    output = np.empty(len(values))\n",
    "    for i in range(len(values)):\n",
    "        output[i] = 1.0 / values[i]\n",
    "    return output\n",
    "\n",
    "big_array = np.random.randint(1, 100, size=1000000)\n",
    "%timeit compute_reciprocals(big_array)\n",
    "# 完成百万次上述操作并存储结果花了几秒钟的时间！在手机都以 Giga-FLOPS（即每秒十亿次浮点运算）为单位计算处理速度时，上面的处理结果所花费的时间确实是不合时宜的慢。\n",
    "# 事实上，这里的处理瓶颈并不是运算本身，而是 CPython 在每次循环时必须做数据类型的检查和函数的调度。每次进行倒数运算时，Python 首先检查对象的类型，并且动态查找可以使用该数据类型的正确函数。\n",
    "# 如果我们在编译代码时进行这样的操作，那么就能在代码执行之前知晓类型的声明，结果的计算也会更加有效率。"
   ]
  },
  {
   "cell_type": "markdown",
   "id": "b3b50a0d-0c32-4793-8621-e5d9de307bc6",
   "metadata": {},
   "source": [
    "## 2. 通用函数介绍"
   ]
  },
  {
   "cell_type": "markdown",
   "id": "a2713c9e-dddb-45bd-9562-5ee23bc24115",
   "metadata": {},
   "source": [
    "`NumPy` 为很多类型的操作提供了非常方便的、静态类型的、可编译程序的接口，也被称作向量操作。  \n",
    "你可以通过简单地对数组执行操作来实现，这里对数组的操作将会被用于数组中的每一个元素。  \n",
    "这种向量方法被用于将循环推送至 `NumPy` 之下的编译层，这样会取得更快的执行效率。\n",
    "\n",
    "`NumPy` 中的向量操作是通过通用函数实现的。通用函数的主要目的是对 `NumPy` 数组中的值执行更快的重复操作。"
   ]
  },
  {
   "cell_type": "code",
   "execution_count": 4,
   "id": "85e34345-43d2-4756-8b44-9649af35750e",
   "metadata": {},
   "outputs": [
    {
     "name": "stdout",
     "output_type": "stream",
     "text": [
      "[0.25       0.16666667 0.14285714 0.33333333 0.16666667]\n",
      "[0.25       0.16666667 0.14285714 0.33333333 0.16666667]\n"
     ]
    }
   ],
   "source": [
    "# 比较下面两个结果\n",
    "values = np.random.randint(1, 10, size=5)\n",
    "print(compute_reciprocals(values))\n",
    "print(1.0/values)"
   ]
  },
  {
   "cell_type": "code",
   "execution_count": 5,
   "id": "3c0eae34-eae2-45a4-b5f6-bf96a3d3c1c0",
   "metadata": {},
   "outputs": [
    {
     "name": "stdout",
     "output_type": "stream",
     "text": [
      "7.35 ms ± 225 µs per loop (mean ± std. dev. of 7 runs, 100 loops each)\n"
     ]
    }
   ],
   "source": [
    "%timeit (1.0/big_array)  # 如果计算一个较大数组的运行时间，可以看到它的完成时间比 Python 循环花费的时间更短"
   ]
  },
  {
   "cell_type": "code",
   "execution_count": 6,
   "id": "0c1832ac-33a8-4915-b46c-b4b6f759da08",
   "metadata": {},
   "outputs": [
    {
     "data": {
      "text/plain": [
       "array([0.        , 0.5       , 0.66666667, 0.75      , 0.8       ])"
      ]
     },
     "execution_count": 6,
     "metadata": {},
     "output_type": "execute_result"
    }
   ],
   "source": [
    "np.arange(5) / np.arange(1, 6)  # 向量操作还可以对两个数组进行计算"
   ]
  },
  {
   "cell_type": "code",
   "execution_count": 7,
   "id": "dbb0ebcd-7693-4ce6-b663-f865d7bcecac",
   "metadata": {},
   "outputs": [
    {
     "data": {
      "text/plain": [
       "array([[  1,   2,   4],\n",
       "       [  8,  16,  32],\n",
       "       [ 64, 128, 256]])"
      ]
     },
     "execution_count": 7,
     "metadata": {},
     "output_type": "execute_result"
    }
   ],
   "source": [
    "x = np.arange(9).reshape((3,3))  # 向量操作还可以对多维数组进行计算\n",
    "2 ** x"
   ]
  },
  {
   "cell_type": "markdown",
   "id": "5fd548bb-3482-4c6f-b748-306bea19efa6",
   "metadata": {},
   "source": [
    "通过通用函数用向量的方式进行计算几乎总比用 `Python` 循环实现的计算更加有效，尤其是当数组很大时。  \n",
    "只要你看到 `Python` 脚本中有这样的循环，就应该考虑能否用向量方式替换这个循环。"
   ]
  },
  {
   "cell_type": "markdown",
   "id": "e20b3117-48da-419a-9bdd-6e5e90a3dbb7",
   "metadata": {},
   "source": [
    "## 3. 探索NumPy的通用函数"
   ]
  },
  {
   "cell_type": "markdown",
   "id": "67e9ec99-4c8b-448d-90af-1ad471518e71",
   "metadata": {},
   "source": [
    "通用函数有两种存在形式：\n",
    "- **一元通用函数**（unary ufunc）对单个输入操作\n",
    "- **二元通用函数**（binary ufunc）对两个输入操作"
   ]
  },
  {
   "cell_type": "markdown",
   "id": "84991ff8-6c3f-4204-b4f5-6b570a9bb07a",
   "metadata": {},
   "source": [
    "### 3.1. 数组的运算"
   ]
  },
  {
   "cell_type": "code",
   "execution_count": 8,
   "id": "b5e27e96-7284-4818-b239-795c40e46d29",
   "metadata": {},
   "outputs": [
    {
     "name": "stdout",
     "output_type": "stream",
     "text": [
      "x     = [0 1 2 3]\n",
      "x + 5 = [5 6 7 8]\n",
      "x - 5 = [-5 -4 -3 -2]\n",
      "x * 2 = [0 2 4 6]\n",
      "x / 2 = [0.  0.5 1.  1.5]\n",
      "x // 2 = [0 0 1 1]\n",
      "-x     =  [ 0 -1 -2 -3]\n",
      "x ** 2 =  [0 1 4 9]\n",
      "x % 2  =  [0 1 0 1]\n"
     ]
    }
   ],
   "source": [
    "# NumPy 通用函数的使用方式非常自然，因为它用到了 Python 原生的算术运算符，标准的加、减、乘、除、逻辑非、** 表示的指数运算符和 % 表示的模运算符都可以使用\n",
    "x = np.arange(4)\n",
    "print(\"x     =\", x)\n",
    "print(\"x + 5 =\", x + 5)\n",
    "print(\"x - 5 =\", x - 5)\n",
    "print(\"x * 2 =\", x * 2)\n",
    "print(\"x / 2 =\", x / 2)\n",
    "print(\"x // 2 =\", x // 2)\n",
    "print(\"-x     = \", -x)\n",
    "print(\"x ** 2 = \", x ** 2)\n",
    "print(\"x % 2  = \", x % 2)"
   ]
  },
  {
   "cell_type": "code",
   "execution_count": 9,
   "id": "bfec8bec-9169-4a48-99da-604e490be59c",
   "metadata": {},
   "outputs": [
    {
     "data": {
      "text/plain": [
       "array([-1.  , -2.25, -4.  , -6.25])"
      ]
     },
     "execution_count": 9,
     "metadata": {},
     "output_type": "execute_result"
    }
   ],
   "source": [
    "-(0.5*x + 1) ** 2"
   ]
  },
  {
   "cell_type": "code",
   "execution_count": 10,
   "id": "3b931475-4884-4fd7-b1f7-d45c7493252c",
   "metadata": {},
   "outputs": [
    {
     "data": {
      "text/plain": [
       "array([2, 3, 4, 5])"
      ]
     },
     "execution_count": 10,
     "metadata": {},
     "output_type": "execute_result"
    }
   ],
   "source": [
    "np.add(x, 2)  # 所有这些算术运算符都是 NumPy 内置函数的简单封装器，例如 + 运算符就是一个 add 函数的封装器"
   ]
  },
  {
   "cell_type": "markdown",
   "id": "2061673f-a576-4c58-b326-4e5638da3192",
   "metadata": {},
   "source": [
    "**`NumPy`实现的算术运算符**\n",
    "\n",
    "| 运算符 | 对应的通用函数 | 描述 |\n",
    "| -- | -- | -- |\n",
    "| + | np.add | 加法运算（即 1 + 1 = 2） |\n",
    "| - | np.subtract | 减法运算（即 3 - 2 = 1） |\n",
    "| - | np.negative | 负数运算（ 即 -2） |\n",
    "| * | np.multiply | 乘法运算（即 2 \\* 3 = 6） |\n",
    "| / | np.divide | 除法运算（即 3 / 2 = 1.5） |\n",
    "| // | np.floor_divide | 地板除法运算（floor division，即 3 // 2 = 1） |\n",
    "| ** | np.power | 指数运算（即 2 ** 3 = 8） |\n",
    "| % | np.mod | 模 / 余数（ 即 9 % 4 = 1） |\n",
    "\n",
    "另外，`NumPy` 中还有布尔 / 位运算符，这些运算符将在 2.6 节中进一步介绍。"
   ]
  },
  {
   "cell_type": "markdown",
   "id": "676d983b-64d6-46a1-9b27-280ebc90308d",
   "metadata": {},
   "source": [
    "### 3.2. 绝对值"
   ]
  },
  {
   "cell_type": "code",
   "execution_count": 11,
   "id": "4f00a2f2-cadc-485c-b8b0-d196936681da",
   "metadata": {},
   "outputs": [
    {
     "data": {
      "text/plain": [
       "array([2, 1, 0, 1, 2])"
      ]
     },
     "execution_count": 11,
     "metadata": {},
     "output_type": "execute_result"
    }
   ],
   "source": [
    "x = np.array([-2, -1, 0, 1, 2])  # 正如 NumPy 能理解 Python 内置的运算操作，NumPy 也可以理解Python 内置的绝对值函数\n",
    "abs(x)"
   ]
  },
  {
   "cell_type": "code",
   "execution_count": 12,
   "id": "9d955955-85eb-4c73-a436-f37a24878205",
   "metadata": {},
   "outputs": [
    {
     "name": "stdout",
     "output_type": "stream",
     "text": [
      "[2 1 0 1 2]\n",
      "[2 1 0 1 2]\n"
     ]
    }
   ],
   "source": [
    "print(np.absolute(x))  # 对应的 NumPy 通用函数是 np.absolute，该函数也可以用别名np.abs 来访问\n",
    "print(np.abs(x))"
   ]
  },
  {
   "cell_type": "code",
   "execution_count": 13,
   "id": "edd897a2-bd46-4460-9d9b-23bbb46c4d91",
   "metadata": {},
   "outputs": [
    {
     "data": {
      "text/plain": [
       "array([5., 5., 2., 1.])"
      ]
     },
     "execution_count": 13,
     "metadata": {},
     "output_type": "execute_result"
    }
   ],
   "source": [
    "x = np.array([3-4j, 4-3j, 2+0j, 0+1j])  # 这个通用函数也可以处理复数。当处理复数时，绝对值返回的是该复数的模（magnitude）\n",
    "np.abs(x)"
   ]
  },
  {
   "cell_type": "markdown",
   "id": "fbcf983a-498b-456d-b9ec-ebc1d01304a8",
   "metadata": {},
   "source": [
    "### 3.3. 三角函数"
   ]
  },
  {
   "cell_type": "code",
   "execution_count": 14,
   "id": "319c0201-d3eb-4149-81fd-a6fb2667a602",
   "metadata": {},
   "outputs": [
    {
     "name": "stdout",
     "output_type": "stream",
     "text": [
      "theta      =  [0.         1.57079633 3.14159265]\n",
      "sin(theta) =  [0.0000000e+00 1.0000000e+00 1.2246468e-16]\n",
      "cos(theta) =  [ 1.000000e+00  6.123234e-17 -1.000000e+00]\n",
      "tan(theta) =  [ 0.00000000e+00  1.63312394e+16 -1.22464680e-16]\n"
     ]
    }
   ],
   "source": [
    "# NumPy 提供了大量好用的通用函数，其中对于数据科学家最有用的就是三角函数。首先定义一个角度数组：\n",
    "theta = np.linspace(0, np.pi, 3)\n",
    "\n",
    "print(\"theta      = \", theta)\n",
    "print(\"sin(theta) = \", np.sin(theta))\n",
    "print(\"cos(theta) = \", np.cos(theta))\n",
    "print(\"tan(theta) = \", np.tan(theta))\n",
    "# 这些值是在机器精度内计算的，所以有些应该是 0 的值并没有精确到0"
   ]
  },
  {
   "cell_type": "code",
   "execution_count": 15,
   "id": "58a28277-5314-4691-bc11-8866951b22f5",
   "metadata": {},
   "outputs": [
    {
     "name": "stdout",
     "output_type": "stream",
     "text": [
      "x         =  [-1, 0, 1]\n",
      "arcsin(x) =  [-1.57079633  0.          1.57079633]\n",
      "arccos(x) =  [3.14159265 1.57079633 0.        ]\n",
      "arctan(x) =  [-0.78539816  0.          0.78539816]\n"
     ]
    }
   ],
   "source": [
    "# 逆三角函数\n",
    "x = [-1, 0, 1]\n",
    "print(\"x         = \", x)\n",
    "print(\"arcsin(x) = \", np.arcsin(x))\n",
    "print(\"arccos(x) = \", np.arccos(x))\n",
    "print(\"arctan(x) = \", np.arctan(x))"
   ]
  },
  {
   "cell_type": "markdown",
   "id": "dcfd652e-deca-451b-ab63-773f865b1926",
   "metadata": {},
   "source": [
    "### 3.4. 指数和对数"
   ]
  },
  {
   "cell_type": "code",
   "execution_count": 16,
   "id": "b5bd2591-2bc5-416b-b1f1-756ca1a84e6a",
   "metadata": {},
   "outputs": [
    {
     "name": "stdout",
     "output_type": "stream",
     "text": [
      "x     = [1, 2, 3]\n",
      "e^x   = [ 2.71828183  7.3890561  20.08553692]\n",
      "2^x   = [2. 4. 8.]\n",
      "3^x   = [ 3  9 27]\n"
     ]
    }
   ],
   "source": [
    "x = [1, 2, 3]\n",
    "print(\"x     =\", x)\n",
    "print(\"e^x   =\", np.exp(x))\n",
    "print(\"2^x   =\", np.exp2(x))\n",
    "print(\"3^x   =\", np.power(3, x))"
   ]
  },
  {
   "cell_type": "code",
   "execution_count": 17,
   "id": "21be5c41-3efc-4986-9243-6911ff604a36",
   "metadata": {},
   "outputs": [
    {
     "name": "stdout",
     "output_type": "stream",
     "text": [
      "x        = [1, 2, 4, 10]\n",
      "ln(x)    = [0.         0.69314718 1.38629436 2.30258509]\n",
      "log2(x)  = [0.         1.         2.         3.32192809]\n",
      "log10(x) = [0.         0.30103    0.60205999 1.        ]\n"
     ]
    }
   ],
   "source": [
    "x = [1, 2, 4, 10]\n",
    "print(\"x        =\", x)\n",
    "print(\"ln(x)    =\", np.log(x))\n",
    "print(\"log2(x)  =\", np.log2(x))\n",
    "print(\"log10(x) =\", np.log10(x))"
   ]
  },
  {
   "cell_type": "code",
   "execution_count": 18,
   "id": "55e19c44-0302-40be-aa5d-9180ad04a851",
   "metadata": {},
   "outputs": [
    {
     "name": "stdout",
     "output_type": "stream",
     "text": [
      "exp(x) - 1 = [0.         0.0010005  0.01005017 0.10517092]\n",
      "log(1 + x) = [0.         0.0009995  0.00995033 0.09531018]\n"
     ]
    }
   ],
   "source": [
    "# 还有一些特殊的版本，对于非常小的输入值可以保持较好的精度：\n",
    "# 当 x 的值很小时，以下函数给出的值比 np.log 和 np.exp 的计算更精确。\n",
    "x = [0, 0.001, 0.01, 0.1]\n",
    "print(\"exp(x) - 1 =\", np.expm1(x))\n",
    "print(\"log(1 + x) =\", np.log1p(x))"
   ]
  },
  {
   "cell_type": "markdown",
   "id": "cc301174-1b39-48dc-8b4a-1134b877def2",
   "metadata": {},
   "source": [
    "### 3.5. 专用的通用函数"
   ]
  },
  {
   "cell_type": "markdown",
   "id": "a0d4964e-5110-43d6-8b48-1ae44cba89e8",
   "metadata": {},
   "source": [
    "除了以上介绍到的，`NumPy` 还提供了很多通用函数，包括双曲三角函数、比特位运算、比较运算符、弧度转化为角度的运算、取整和求余运算，等等。浏览 `NumPy` 的文档将会揭示很多有趣的功能。  \n",
    "还有一个更加专用，也更加晦涩的通用函数优异来源是子模块`scipy.special`。如果你希望对你的数据进行一些更晦涩的数学计算，`scipy.special` 可能包含了你需要的计算函数，这些函数能列一个长长的列表。  \n",
    "下面的代码片段展示了一些可能在统计学中用到的函数："
   ]
  },
  {
   "cell_type": "code",
   "execution_count": 19,
   "id": "1f5f1b58-7825-4227-8173-e691ea617f01",
   "metadata": {},
   "outputs": [],
   "source": [
    "from scipy import special"
   ]
  },
  {
   "cell_type": "code",
   "execution_count": 20,
   "id": "e6293bfd-7720-4d93-a686-68f9b40f8f66",
   "metadata": {},
   "outputs": [
    {
     "name": "stdout",
     "output_type": "stream",
     "text": [
      "gamma(x)     = [1.0000e+00 2.4000e+01 3.6288e+05]\n",
      "ln|gamma(x)| = [ 0.          3.17805383 12.80182748]\n",
      "beta(x, 2)   = [0.5        0.03333333 0.00909091]\n"
     ]
    }
   ],
   "source": [
    "# Gamma函数（广义阶乘，generalized factorials）和相关函数\n",
    "x = [1, 5, 10]\n",
    "print(\"gamma(x)     =\", special.gamma(x))\n",
    "print(\"ln|gamma(x)| =\", special.gammaln(x))\n",
    "print(\"beta(x, 2)   =\", special.beta(x, 2))"
   ]
  },
  {
   "cell_type": "code",
   "execution_count": 21,
   "id": "fc579961-13e5-46c3-ab7c-44b010a3d239",
   "metadata": {},
   "outputs": [
    {
     "name": "stdout",
     "output_type": "stream",
     "text": [
      "erf(x)  = [0.         0.32862676 0.67780119 0.84270079]\n",
      "erfc(x) = [1.         0.67137324 0.32219881 0.15729921]\n",
      "erfinv(x) = [0.         0.27246271 0.73286908        inf]\n"
     ]
    }
   ],
   "source": [
    "# 误差函数（高斯积分）\n",
    "# 它的实现和它的逆实现\n",
    "x = np.array([0, 0.3, 0.7, 1.0])\n",
    "print(\"erf(x)  =\", special.erf(x))\n",
    "print(\"erfc(x) =\", special.erfc(x))\n",
    "print(\"erfinv(x) =\", special.erfinv(x))"
   ]
  },
  {
   "cell_type": "markdown",
   "id": "74e9bb28-8c20-41b4-ac6f-9856d2a534ab",
   "metadata": {},
   "source": [
    "## 4. 高级的通用函数特性"
   ]
  },
  {
   "cell_type": "markdown",
   "id": "463f0aec-2171-4e54-bdf0-d8367b406ef3",
   "metadata": {},
   "source": [
    "### 4.1. 指定输出"
   ]
  },
  {
   "cell_type": "markdown",
   "id": "e4da12fd-dedc-46d9-8b7e-01962c4e256b",
   "metadata": {},
   "source": [
    "在进行大量运算时，有时候指定一个用于存放运算结果的数组是非常有用的。不同于创建临时数组，你可以用这个特性将计算结果直接写入到你期望的存储位置。  \n",
    "所有的通用函数都可以通过 `out` 参数来指定计算结果的存放位置："
   ]
  },
  {
   "cell_type": "code",
   "execution_count": null,
   "id": "26279ca1-3aab-4f4b-a3cf-af77df65ce47",
   "metadata": {},
   "outputs": [],
   "source": []
  }
 ],
 "metadata": {
  "kernelspec": {
   "display_name": "Python 3 (ipykernel)",
   "language": "python",
   "name": "python3"
  },
  "language_info": {
   "codemirror_mode": {
    "name": "ipython",
    "version": 3
   },
   "file_extension": ".py",
   "mimetype": "text/x-python",
   "name": "python",
   "nbconvert_exporter": "python",
   "pygments_lexer": "ipython3",
   "version": "3.7.3"
  }
 },
 "nbformat": 4,
 "nbformat_minor": 5
}
