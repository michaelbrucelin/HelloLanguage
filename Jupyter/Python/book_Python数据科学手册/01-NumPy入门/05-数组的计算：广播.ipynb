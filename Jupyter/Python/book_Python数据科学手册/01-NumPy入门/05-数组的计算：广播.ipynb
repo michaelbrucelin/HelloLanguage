{
 "cells": [
  {
   "cell_type": "markdown",
   "id": "094e4225-74dd-4988-93ca-c85a335f55e4",
   "metadata": {},
   "source": [
    "# 数组的计算：广播"
   ]
  },
  {
   "cell_type": "markdown",
   "id": "215184cc-6286-4652-aa0a-714f4ae93fa8",
   "metadata": {},
   "source": [
    "前面介绍了 `NumPy` 如何通过通用函数的向量化操作来减少缓慢的 `Python` 循环，另外一种向量化操作的方法是利用 `NumPy` 的广播功能。  \n",
    "广播可以简单理解为用于不同大小数组的二进制通用函数（加、减、乘等）的一组规则。"
   ]
  },
  {
   "cell_type": "code",
   "execution_count": 1,
   "id": "05796bf8-1325-4c3f-904c-f1aad7dfa2e3",
   "metadata": {},
   "outputs": [],
   "source": [
    "import numpy as np\n",
    "\n",
    "np.random.seed(0)"
   ]
  },
  {
   "cell_type": "code",
   "execution_count": null,
   "id": "6de1e35f-896f-4d17-8cfa-5e9fc4f93090",
   "metadata": {},
   "outputs": [],
   "source": []
  }
 ],
 "metadata": {
  "kernelspec": {
   "display_name": "Python 3 (ipykernel)",
   "language": "python",
   "name": "python3"
  },
  "language_info": {
   "codemirror_mode": {
    "name": "ipython",
    "version": 3
   },
   "file_extension": ".py",
   "mimetype": "text/x-python",
   "name": "python",
   "nbconvert_exporter": "python",
   "pygments_lexer": "ipython3",
   "version": "3.7.3"
  }
 },
 "nbformat": 4,
 "nbformat_minor": 5
}
