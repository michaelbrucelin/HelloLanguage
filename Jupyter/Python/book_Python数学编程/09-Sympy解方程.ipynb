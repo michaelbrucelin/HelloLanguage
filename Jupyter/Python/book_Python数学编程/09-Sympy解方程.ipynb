{
 "cells": [
  {
   "cell_type": "code",
   "execution_count": 1,
   "id": "f9ec734b",
   "metadata": {},
   "outputs": [],
   "source": [
    "from sympy import Symbol, symbols, factor, expand\n",
    "import sympy\n",
    "\n",
    "# sympy.solve()可以解方程（解出符号的值），它总是假定输入的表达式的值为0"
   ]
  },
  {
   "cell_type": "code",
   "execution_count": 2,
   "id": "53952fe7",
   "metadata": {},
   "outputs": [
    {
     "data": {
      "text/plain": [
       "[12]"
      ]
     },
     "execution_count": 2,
     "metadata": {},
     "output_type": "execute_result"
    }
   ],
   "source": [
    "x = Symbol('x')\n",
    "expr = x - 5 -7\n",
    "sympy.solve(expr)  # 解出x的值为12"
   ]
  },
  {
   "cell_type": "code",
   "execution_count": 3,
   "id": "a158d4c0",
   "metadata": {},
   "outputs": [
    {
     "data": {
      "text/plain": [
       "[{x: -4}, {x: -1}]"
      ]
     },
     "execution_count": 3,
     "metadata": {},
     "output_type": "execute_result"
    }
   ],
   "source": [
    "x = Symbol('x')\n",
    "expr = x**2 + 5*x + 4\n",
    "sympy.solve(expr, dict=True)  # 解二次方程"
   ]
  },
  {
   "cell_type": "code",
   "execution_count": 4,
   "id": "17568bbe",
   "metadata": {},
   "outputs": [
    {
     "data": {
      "text/plain": [
       "[{x: -1/2 - sqrt(3)*I/2}, {x: -1/2 + sqrt(3)*I/2}]"
      ]
     },
     "execution_count": 4,
     "metadata": {},
     "output_type": "execute_result"
    }
   ],
   "source": [
    "x = Symbol('x')\n",
    "expr = x**2 + x + 1\n",
    "sympy.solve(expr, dict=True)  # 解二次方程，解为复数"
   ]
  },
  {
   "cell_type": "code",
   "execution_count": 5,
   "id": "08a9c226",
   "metadata": {},
   "outputs": [
    {
     "data": {
      "text/plain": [
       "[{x: (-b + sqrt(-4*a*c + b**2))/(2*a)}, {x: -(b + sqrt(-4*a*c + b**2))/(2*a)}]"
      ]
     },
     "execution_count": 5,
     "metadata": {},
     "output_type": "execute_result"
    }
   ],
   "source": [
    "x = Symbol('x')\n",
    "a, b, c = symbols('a,b,c')\n",
    "expr = a*x**2 + b*x + c\n",
    "sympy.solve(expr, x, dict=True)  # 解二次方程的通解，第二个参数告知哪个符号是变量"
   ]
  },
  {
   "cell_type": "code",
   "execution_count": 6,
   "id": "73c578d6",
   "metadata": {},
   "outputs": [
    {
     "data": {
      "text/plain": [
       "[{x: -(-3*c/a + b**2/a**2)/(3*(sqrt(-4*(-3*c/a + b**2/a**2)**3 + (27*d/a - 9*b*c/a**2 + 2*b**3/a**3)**2)/2 + 27*d/(2*a) - 9*b*c/(2*a**2) + b**3/a**3)**(1/3)) - (sqrt(-4*(-3*c/a + b**2/a**2)**3 + (27*d/a - 9*b*c/a**2 + 2*b**3/a**3)**2)/2 + 27*d/(2*a) - 9*b*c/(2*a**2) + b**3/a**3)**(1/3)/3 - b/(3*a)},\n",
       " {x: -(-3*c/a + b**2/a**2)/(3*(-1/2 - sqrt(3)*I/2)*(sqrt(-4*(-3*c/a + b**2/a**2)**3 + (27*d/a - 9*b*c/a**2 + 2*b**3/a**3)**2)/2 + 27*d/(2*a) - 9*b*c/(2*a**2) + b**3/a**3)**(1/3)) - (-1/2 - sqrt(3)*I/2)*(sqrt(-4*(-3*c/a + b**2/a**2)**3 + (27*d/a - 9*b*c/a**2 + 2*b**3/a**3)**2)/2 + 27*d/(2*a) - 9*b*c/(2*a**2) + b**3/a**3)**(1/3)/3 - b/(3*a)},\n",
       " {x: -(-3*c/a + b**2/a**2)/(3*(-1/2 + sqrt(3)*I/2)*(sqrt(-4*(-3*c/a + b**2/a**2)**3 + (27*d/a - 9*b*c/a**2 + 2*b**3/a**3)**2)/2 + 27*d/(2*a) - 9*b*c/(2*a**2) + b**3/a**3)**(1/3)) - (-1/2 + sqrt(3)*I/2)*(sqrt(-4*(-3*c/a + b**2/a**2)**3 + (27*d/a - 9*b*c/a**2 + 2*b**3/a**3)**2)/2 + 27*d/(2*a) - 9*b*c/(2*a**2) + b**3/a**3)**(1/3)/3 - b/(3*a)}]"
      ]
     },
     "execution_count": 6,
     "metadata": {},
     "output_type": "execute_result"
    }
   ],
   "source": [
    "x = Symbol('x')\n",
    "a, b, c, d = symbols('a,b,c,d')\n",
    "expr = a*x**3 + b*x**2 + c*x + d\n",
    "sympy.solve(expr, x, dict=True)  # 解三次方程的通解"
   ]
  },
  {
   "cell_type": "code",
   "execution_count": 7,
   "id": "926edaa2",
   "metadata": {},
   "outputs": [
    {
     "name": "stdout",
     "output_type": "stream",
     "text": [
      "⎡⎧                           ______________⎫  ⎧    ⎛                       ___\n",
      "⎢⎪                          ╱            2 ⎪  ⎪    ⎜                      ╱   \n",
      "⎢⎨   -u + 1.4142135623731⋅╲╱  a⋅s + 0.5⋅u  ⎬  ⎨   -⎝u + 1.4142135623731⋅╲╱  a⋅\n",
      "⎢⎪t: ──────────────────────────────────────⎪, ⎪t: ────────────────────────────\n",
      "⎣⎩                     a                   ⎭  ⎩                       a       \n",
      "\n",
      "___________⎞ ⎫⎤\n",
      "         2 ⎟ ⎪⎥\n",
      "s + 0.5⋅u  ⎠ ⎬⎥\n",
      "─────────────⎪⎥\n",
      "             ⎭⎦\n"
     ]
    }
   ],
   "source": [
    "# 解决物理学的一个问题 s = ut + at**2/2\n",
    "s, u, t, a = symbols('s,u,t,a')\n",
    "expr = u*t + (1/2)*a*t*t - s\n",
    "t_expr = sympy.solve(expr, t, dict=True)\n",
    "sympy.pprint(t_expr)"
   ]
  },
  {
   "cell_type": "code",
   "execution_count": 8,
   "id": "fd16294e",
   "metadata": {},
   "outputs": [
    {
     "data": {
      "text/plain": [
       "[{x: 24/5, y: -6/5}]"
      ]
     },
     "execution_count": 8,
     "metadata": {},
     "output_type": "execute_result"
    }
   ],
   "source": [
    "# 解线性方程组\n",
    "x, y = symbols('x, y')\n",
    "expr1 = 2*x + 3*y - 6   # 2x + 3y = 6\n",
    "expr2 = 3*x + 2*y - 12  # 3x + 2y = 12\n",
    "sympy.solve((expr1, expr2), dict=True)"
   ]
  },
  {
   "cell_type": "code",
   "execution_count": 9,
   "id": "452298bf",
   "metadata": {},
   "outputs": [
    {
     "data": {
      "text/latex": [
       "$\\displaystyle 0$"
      ],
      "text/plain": [
       "0"
      ]
     },
     "execution_count": 9,
     "metadata": {},
     "output_type": "execute_result"
    }
   ],
   "source": [
    "# 验证线性方程组的解\n",
    "soln = sympy.solve((expr1, expr2), dict=True)\n",
    "soln = soln[0]\n",
    "expr1.subs({x:soln[x], y:soln[y]})"
   ]
  },
  {
   "cell_type": "code",
   "execution_count": 10,
   "id": "ea7b3364",
   "metadata": {},
   "outputs": [
    {
     "data": {
      "text/latex": [
       "$\\displaystyle 0$"
      ],
      "text/plain": [
       "0"
      ]
     },
     "execution_count": 10,
     "metadata": {},
     "output_type": "execute_result"
    }
   ],
   "source": [
    "expr2.subs({x:soln[x], y:soln[y]})"
   ]
  },
  {
   "cell_type": "code",
   "execution_count": null,
   "id": "648cffd6",
   "metadata": {},
   "outputs": [],
   "source": []
  }
 ],
 "metadata": {
  "kernelspec": {
   "display_name": "Python 3",
   "language": "python",
   "name": "python3"
  },
  "language_info": {
   "codemirror_mode": {
    "name": "ipython",
    "version": 3
   },
   "file_extension": ".py",
   "mimetype": "text/x-python",
   "name": "python",
   "nbconvert_exporter": "python",
   "pygments_lexer": "ipython3",
   "version": "3.7.3"
  }
 },
 "nbformat": 4,
 "nbformat_minor": 5
}
