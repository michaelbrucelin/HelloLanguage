{
 "cells": [
  {
   "cell_type": "code",
   "execution_count": 1,
   "id": "f83729f5",
   "metadata": {},
   "outputs": [],
   "source": [
    "# pip install sympy  sympy库可以解决代数与符号数学问题\n",
    "from sympy import Symbol, symbols  # 创建符号\n",
    "from sympy import factor, expand   # 分解和展开表达式\n",
    "from sympy import pprint           # 更好的打印表达式\n",
    "import sympy"
   ]
  },
  {
   "cell_type": "code",
   "execution_count": 2,
   "id": "a0c09e59",
   "metadata": {},
   "outputs": [
    {
     "data": {
      "text/latex": [
       "$\\displaystyle 2 x + 1$"
      ],
      "text/plain": [
       "2*x + 1"
      ]
     },
     "execution_count": 2,
     "metadata": {},
     "output_type": "execute_result"
    }
   ],
   "source": [
    "x = Symbol('x')\n",
    "x + x + 1  # 创建一个表达式"
   ]
  },
  {
   "cell_type": "code",
   "execution_count": 3,
   "id": "f6966546",
   "metadata": {},
   "outputs": [
    {
     "data": {
      "text/latex": [
       "$\\displaystyle x^{2} + y^{2}$"
      ],
      "text/plain": [
       "x**2 + y**2"
      ]
     },
     "execution_count": 3,
     "metadata": {},
     "output_type": "execute_result"
    }
   ],
   "source": [
    "x, y, z = symbols('x,y,z')\n",
    "s = x*x + y*y\n",
    "s"
   ]
  },
  {
   "cell_type": "code",
   "execution_count": 4,
   "id": "7834299b",
   "metadata": {},
   "outputs": [
    {
     "data": {
      "text/latex": [
       "$\\displaystyle x^{3} + y^{3}$"
      ],
      "text/plain": [
       "x**3 + y**3"
      ]
     },
     "execution_count": 4,
     "metadata": {},
     "output_type": "execute_result"
    }
   ],
   "source": [
    "s = x**3 + y**3\n",
    "s"
   ]
  },
  {
   "cell_type": "code",
   "execution_count": 5,
   "id": "da9afefe",
   "metadata": {},
   "outputs": [
    {
     "data": {
      "text/latex": [
       "$\\displaystyle \\left(x - y + 2\\right) \\left(x + y + 1\\right)$"
      ],
      "text/plain": [
       "(x - y + 2)*(x + y + 1)"
      ]
     },
     "execution_count": 5,
     "metadata": {},
     "output_type": "execute_result"
    }
   ],
   "source": [
    "x = Symbol('x')\n",
    "y = Symbol('y')\n",
    "p = x + y + 1\n",
    "q = x - y + 2\n",
    "p*q# 表达式乘法"
   ]
  },
  {
   "cell_type": "code",
   "execution_count": 6,
   "id": "1336c17b",
   "metadata": {},
   "outputs": [
    {
     "data": {
      "text/latex": [
       "$\\displaystyle \\left(x - y\\right) \\left(x + y\\right)$"
      ],
      "text/plain": [
       "(x - y)*(x + y)"
      ]
     },
     "execution_count": 6,
     "metadata": {},
     "output_type": "execute_result"
    }
   ],
   "source": [
    "x = Symbol('x')\n",
    "y = Symbol('y')\n",
    "expr = x**2 - y**2\n",
    "factor(expr)  # 因式分解"
   ]
  },
  {
   "cell_type": "code",
   "execution_count": 7,
   "id": "eb41edde",
   "metadata": {},
   "outputs": [
    {
     "data": {
      "text/latex": [
       "$\\displaystyle x^{2} - y^{2}$"
      ],
      "text/plain": [
       "x**2 - y**2"
      ]
     },
     "execution_count": 7,
     "metadata": {},
     "output_type": "execute_result"
    }
   ],
   "source": [
    "factors = factor(expr)\n",
    "expand(factors)  # 展开表达式"
   ]
  },
  {
   "cell_type": "code",
   "execution_count": 8,
   "id": "79270afd",
   "metadata": {},
   "outputs": [
    {
     "data": {
      "text/latex": [
       "$\\displaystyle \\left(x + y\\right)^{3}$"
      ],
      "text/plain": [
       "(x + y)**3"
      ]
     },
     "execution_count": 8,
     "metadata": {},
     "output_type": "execute_result"
    }
   ],
   "source": [
    "# 尝试更复杂的表达式的因式分解与展开\n",
    "x = Symbol('x')\n",
    "y = Symbol('y')\n",
    "expr = x**3 + 3*x**2*y + 3*x*y**2 + y**3\n",
    "factors = factor(expr)\n",
    "factors"
   ]
  },
  {
   "cell_type": "code",
   "execution_count": 9,
   "id": "7fab2711",
   "metadata": {},
   "outputs": [
    {
     "data": {
      "text/latex": [
       "$\\displaystyle x^{3} + 3 x^{2} y + 3 x y^{2} + y^{3}$"
      ],
      "text/plain": [
       "x**3 + 3*x**2*y + 3*x*y**2 + y**3"
      ]
     },
     "execution_count": 9,
     "metadata": {},
     "output_type": "execute_result"
    }
   ],
   "source": [
    "expand(factors)"
   ]
  },
  {
   "cell_type": "code",
   "execution_count": 10,
   "id": "efa4a6b4",
   "metadata": {},
   "outputs": [
    {
     "data": {
      "text/latex": [
       "$\\displaystyle x y + x + y$"
      ],
      "text/plain": [
       "x*y + x + y"
      ]
     },
     "execution_count": 10,
     "metadata": {},
     "output_type": "execute_result"
    }
   ],
   "source": [
    "expr = x + y + x*y\n",
    "factor(expr)  # 如果表达式无法因式分解，返回原始表达式"
   ]
  },
  {
   "cell_type": "code",
   "execution_count": 11,
   "id": "3ae91b95",
   "metadata": {},
   "outputs": [
    {
     "name": "stdout",
     "output_type": "stream",
     "text": [
      " 2            2\n",
      "x  + 2⋅x⋅y + y \n"
     ]
    }
   ],
   "source": [
    "x = Symbol('x')\n",
    "y = Symbol('y')\n",
    "expr = x*x + 2*x*y + y*y\n",
    "sympy.pprint(expr)  # 更好的打印表达式，效果并不十分理想"
   ]
  },
  {
   "cell_type": "code",
   "execution_count": 12,
   "id": "f9cae1e8",
   "metadata": {},
   "outputs": [
    {
     "name": "stdout",
     "output_type": "stream",
     "text": [
      "   2          \n",
      "2⋅x  + 2⋅x + 1\n"
     ]
    }
   ],
   "source": [
    "expr = 1 + 2*x + 2*x**2\n",
    "sympy.pprint(expr)"
   ]
  },
  {
   "cell_type": "code",
   "execution_count": 13,
   "id": "4a8ea65e",
   "metadata": {},
   "outputs": [
    {
     "name": "stdout",
     "output_type": "stream",
     "text": [
      "             2\n",
      "1 + 2⋅x + 2⋅x \n"
     ]
    }
   ],
   "source": [
    "expr = 1 + 2*x + 2*x**2\n",
    "sympy.init_printing(order='rev-lex')\n",
    "sympy.pprint(expr)  # 逆序打印表达式"
   ]
  },
  {
   "cell_type": "code",
   "execution_count": null,
   "id": "ccc3449a",
   "metadata": {},
   "outputs": [],
   "source": []
  }
 ],
 "metadata": {
  "kernelspec": {
   "display_name": "Python 3",
   "language": "python",
   "name": "python3"
  },
  "language_info": {
   "codemirror_mode": {
    "name": "ipython",
    "version": 3
   },
   "file_extension": ".py",
   "mimetype": "text/x-python",
   "name": "python",
   "nbconvert_exporter": "python",
   "pygments_lexer": "ipython3",
   "version": "3.7.3"
  }
 },
 "nbformat": 4,
 "nbformat_minor": 5
}
