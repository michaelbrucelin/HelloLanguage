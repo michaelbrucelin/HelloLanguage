{
 "cells": [
  {
   "cell_type": "markdown",
   "id": "6eb5e7f8-0b19-4799-b500-286f0130fae2",
   "metadata": {},
   "source": [
    "# 向量化字符串操作"
   ]
  },
  {
   "cell_type": "markdown",
   "id": "28b5824c-e56b-4d4d-8125-c7e732d0336f",
   "metadata": {},
   "source": [
    "使用 `Python` 的一个优势就是字符串处理起来比较容易。  \n",
    "在此基础上创建的 `Pandas` 同样提供了一系列向量化字符串操作（`vectorized string operation`），它们都是在处理（清洗）现实工作中的数据时不可或缺的功能。"
   ]
  },
  {
   "cell_type": "code",
   "execution_count": 1,
   "id": "924bd702-e418-46e2-812e-4a338fea2e4e",
   "metadata": {},
   "outputs": [],
   "source": [
    "import numpy as np\n",
    "import pandas as pd"
   ]
  },
  {
   "cell_type": "code",
   "execution_count": 2,
   "id": "bc951e7e-b38d-45d0-ba2c-9d44336fbde0",
   "metadata": {},
   "outputs": [
    {
     "data": {
      "text/html": [
       "<style>\n",
       "  table {margin-left: 0 !important;}\n",
       "  img {width:30%; height: 30%;}\n",
       "</style>\n"
      ],
      "text/plain": [
       "<IPython.core.display.HTML object>"
      ]
     },
     "metadata": {},
     "output_type": "display_data"
    }
   ],
   "source": [
    "%%html\n",
    "<style>\n",
    "  table {margin-left: 0 !important;}\n",
    "  img {width:30%; height: 30%;}\n",
    "</style>"
   ]
  },
  {
   "cell_type": "markdown",
   "id": "a0d9d707-1174-43d9-a6aa-dde9c41b66e3",
   "metadata": {},
   "source": [
    "## 1. Pandas字符串操作简介"
   ]
  },
  {
   "cell_type": "code",
   "execution_count": 3,
   "id": "e2e36b83-2630-4b81-ad59-be1a8dc744e5",
   "metadata": {},
   "outputs": [
    {
     "data": {
      "text/plain": [
       "array([ 4,  6, 10, 14, 22, 26])"
      ]
     },
     "execution_count": 3,
     "metadata": {},
     "output_type": "execute_result"
    }
   ],
   "source": [
    "x = np.array([2, 3, 5, 7, 11, 13])\n",
    "x * 2"
   ]
  },
  {
   "cell_type": "code",
   "execution_count": null,
   "id": "65a19006-e3fd-4dfe-b6a1-883decfa6c7f",
   "metadata": {},
   "outputs": [],
   "source": []
  },
  {
   "cell_type": "markdown",
   "id": "f0cc9824-b8c3-4856-bd2c-68fcb647085c",
   "metadata": {},
   "source": [
    "## 2. Pandas字符串方法列表"
   ]
  },
  {
   "cell_type": "code",
   "execution_count": null,
   "id": "2d429b68-d104-4ff2-94ad-e347f07f429f",
   "metadata": {},
   "outputs": [],
   "source": []
  },
  {
   "cell_type": "markdown",
   "id": "d9851324-abda-442e-9c67-d7c2dc56bcce",
   "metadata": {},
   "source": [
    "### 2.1. 与Python字符串方法相似的方法"
   ]
  },
  {
   "cell_type": "code",
   "execution_count": null,
   "id": "57ee53d5-af19-404b-8d43-d6912726a8c6",
   "metadata": {},
   "outputs": [],
   "source": []
  },
  {
   "cell_type": "markdown",
   "id": "e21a7f19-2d28-4c9a-96a3-2c5434a81350",
   "metadata": {},
   "source": [
    "### 2.2. 使用正则表达式的方法"
   ]
  },
  {
   "cell_type": "markdown",
   "id": "913ed229-05fd-4b02-a721-817938a47f4b",
   "metadata": {},
   "source": [
    "**Pandas向量化字符串方法与Python标准库的re模块函数的对应关系**\n",
    "\n",
    "|方法 | 描述 |\n",
    "| -- | -- |\n",
    "|match() | 对每个元素调用 re.match()，返回布尔类型值 |\n",
    "|extract() | 对每个元素调用 re.match()，返回匹配的字符串组（groups） |\n",
    "|findall() | 对每个元素调用 re.findall() |\n",
    "|replace() | 用正则模式替换字符串 |\n",
    "|contains() | 对每个元素调用 re.search()，返回布尔类型值 |\n",
    "|count() | 计算符合正则模式的字符串的数量 |\n",
    "|split() | 等价于 str.split()，支持正则表达式 |\n",
    "|rsplit() | 等价于 str.rsplit()，支持正则表达式 |"
   ]
  },
  {
   "cell_type": "code",
   "execution_count": null,
   "id": "589d1efb-8759-4865-bd24-66b157559c31",
   "metadata": {},
   "outputs": [],
   "source": []
  },
  {
   "cell_type": "markdown",
   "id": "99a4a7d3-6c7b-4ec3-ad52-068f42257954",
   "metadata": {},
   "source": [
    "### 2.3. 其他字符串方法"
   ]
  },
  {
   "cell_type": "markdown",
   "id": "27f53007-e6aa-4e1e-b173-cb16cd1ef3d5",
   "metadata": {},
   "source": [
    "**其他Pandas字符串方法**\n",
    "\n",
    "| 方法 | 描述 |\n",
    "| -- | -- |\n",
    "| get() | 获取元素索引位置上的值，索引从 0 开始 |\n",
    "| slice() | 对元素进行切片取值 |\n",
    "| slice_replace() | 对元素进行切片替换 |\n",
    "| cat() | 连接字符串（此功能比较复杂，建议阅读文档） |\n",
    "| repeat() | 重复元素 |\n",
    "| normalize() | 将字符串转换为 Unicode 规范形式 |\n",
    "| pad() | 在字符串的左边、右边或两边增加空格 |\n",
    "| wrap() | 将字符串按照指定的宽度换行 |\n",
    "| join() | 用分隔符连接 Series 的每个元素 |\n",
    "| get_dummies() | 按照分隔符提取每个元素的 dummy 变量，转换为独热（onehot）编码的 DataFrame |"
   ]
  },
  {
   "cell_type": "code",
   "execution_count": null,
   "id": "1b77e114-e53d-4ecc-838d-84b6921173d2",
   "metadata": {},
   "outputs": [],
   "source": []
  },
  {
   "cell_type": "markdown",
   "id": "e14f79b3-a4dd-4213-8a41-c6c0bd105069",
   "metadata": {},
   "source": [
    "#### 2.3.1. 向量化字符串的取值与切片操作"
   ]
  },
  {
   "cell_type": "code",
   "execution_count": null,
   "id": "bd717a3f-d751-4366-af78-674d3c5c4adb",
   "metadata": {},
   "outputs": [],
   "source": []
  },
  {
   "cell_type": "markdown",
   "id": "828fc601-b776-4589-bc6d-7559def54be4",
   "metadata": {},
   "source": [
    "#### 2.3.2. 指标变量"
   ]
  },
  {
   "cell_type": "code",
   "execution_count": null,
   "id": "c1efbe47-2e50-4237-a1a1-7bdfd2c3ec0e",
   "metadata": {},
   "outputs": [],
   "source": []
  },
  {
   "cell_type": "markdown",
   "id": "7e69b316-1543-4dfe-81d3-b464cd808b7b",
   "metadata": {},
   "source": [
    "## 3. 案例：食谱数据库"
   ]
  },
  {
   "cell_type": "code",
   "execution_count": null,
   "id": "5225a0c2-c0ef-418c-8b39-9596528108b9",
   "metadata": {},
   "outputs": [],
   "source": []
  },
  {
   "cell_type": "markdown",
   "id": "d0634e21-e542-4782-a4a4-bd8e690f13ed",
   "metadata": {},
   "source": [
    "### 3.1. 制作简易的美食推荐系统"
   ]
  },
  {
   "cell_type": "code",
   "execution_count": null,
   "id": "57d83ad9-bdce-4548-8e81-84fdef39b357",
   "metadata": {},
   "outputs": [],
   "source": []
  },
  {
   "cell_type": "markdown",
   "id": "137dc40d-6c80-45ba-aff1-beeabb53b97f",
   "metadata": {},
   "source": [
    "### 3.2. 继续完善美食推荐系统"
   ]
  },
  {
   "cell_type": "code",
   "execution_count": null,
   "id": "f3c6829d-b22b-4810-84b6-a4dafd40a79a",
   "metadata": {},
   "outputs": [],
   "source": []
  }
 ],
 "metadata": {
  "kernelspec": {
   "display_name": "Python 3 (ipykernel)",
   "language": "python",
   "name": "python3"
  },
  "language_info": {
   "codemirror_mode": {
    "name": "ipython",
    "version": 3
   },
   "file_extension": ".py",
   "mimetype": "text/x-python",
   "name": "python",
   "nbconvert_exporter": "python",
   "pygments_lexer": "ipython3",
   "version": "3.7.3"
  }
 },
 "nbformat": 4,
 "nbformat_minor": 5
}
