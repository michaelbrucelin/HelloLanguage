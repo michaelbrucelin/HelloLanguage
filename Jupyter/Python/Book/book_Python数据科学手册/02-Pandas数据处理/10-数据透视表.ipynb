{
 "cells": [
  {
   "cell_type": "markdown",
   "id": "c1bb2470-0178-4bc0-9c40-510bd2da4dd3",
   "metadata": {},
   "source": [
    "# 数据透视表"
   ]
  },
  {
   "cell_type": "markdown",
   "id": "6ee062b5-8250-4f81-aa2c-48554724af7e",
   "metadata": {},
   "source": [
    "我们已经介绍过 `GroupBy` 抽象类是如何探索数据集内部的关联性的了。  \n",
    "数据透视表（`pivot table`）是一种类似的操作方法，常见于 `Excel` 与类似的表格应用中。  \n",
    "数据透视表将每一列数据作为输入，输出将数据不断细分成多个维度累计信息的二维数据表。  \n",
    "人们有时容易弄混数据透视表与 `GroupBy`，但我觉得数据透视表更像是一种多维的 `GroupBy` 累计操作。  \n",
    "也就是说，虽然你也可以分割 - 应用 - 组合，但是分割与组合不是发生在一维索引上，而是在二维网格上（行列同时分组）。"
   ]
  },
  {
   "cell_type": "code",
   "execution_count": 1,
   "id": "f5240fd8-5861-493e-91bc-9e9e27831ee2",
   "metadata": {},
   "outputs": [],
   "source": [
    "import numpy as np\n",
    "import pandas as pd\n",
    "import seaborn as sns"
   ]
  },
  {
   "cell_type": "markdown",
   "id": "327439d7-67b1-426a-adf8-13a976bf79a6",
   "metadata": {},
   "source": [
    "## 1. 演示数据透视表"
   ]
  },
  {
   "cell_type": "code",
   "execution_count": null,
   "id": "66e53614-9ff7-48a8-a193-20db57cdb7df",
   "metadata": {},
   "outputs": [],
   "source": []
  },
  {
   "cell_type": "code",
   "execution_count": null,
   "id": "0d69018b-909a-4962-b616-5e380733c842",
   "metadata": {},
   "outputs": [],
   "source": []
  },
  {
   "cell_type": "markdown",
   "id": "9ea9eb7c-e465-4726-b8cc-764004d57d1f",
   "metadata": {},
   "source": [
    "## 2. 手工制作数据透视表"
   ]
  },
  {
   "cell_type": "code",
   "execution_count": null,
   "id": "52a7b111-0302-481b-89e7-9eab2cc7b2bb",
   "metadata": {},
   "outputs": [],
   "source": []
  },
  {
   "cell_type": "code",
   "execution_count": null,
   "id": "41325a33-e606-4732-b63d-66f4da6e67b4",
   "metadata": {},
   "outputs": [],
   "source": []
  },
  {
   "cell_type": "markdown",
   "id": "49121134-9fb0-4f33-b3ba-3cbc3e16adf0",
   "metadata": {},
   "source": [
    "## 3. 数据透视表语法"
   ]
  },
  {
   "cell_type": "code",
   "execution_count": null,
   "id": "35a998e2-26a7-4fae-9da3-3516063aab8b",
   "metadata": {},
   "outputs": [],
   "source": []
  },
  {
   "cell_type": "code",
   "execution_count": null,
   "id": "a9e64b1f-c3a2-4a80-a9eb-32f938323b33",
   "metadata": {},
   "outputs": [],
   "source": []
  },
  {
   "cell_type": "markdown",
   "id": "74d3e517-1233-4399-aa58-b14a3119d4ba",
   "metadata": {},
   "source": [
    "### 3.1. 多级数据透视表"
   ]
  },
  {
   "cell_type": "code",
   "execution_count": null,
   "id": "7a3348be-6328-46c1-a60a-6b280d1045b8",
   "metadata": {},
   "outputs": [],
   "source": []
  },
  {
   "cell_type": "code",
   "execution_count": null,
   "id": "bf892850-fd35-4acb-8dec-1ac473e0473b",
   "metadata": {},
   "outputs": [],
   "source": []
  },
  {
   "cell_type": "markdown",
   "id": "db2f3447-5f96-4361-86f9-8ed87dffe9d3",
   "metadata": {},
   "source": [
    "### 3.2. 其他数据透视表选项"
   ]
  },
  {
   "cell_type": "code",
   "execution_count": null,
   "id": "cb55c8ad-331d-4628-8655-92e2ce8b446e",
   "metadata": {},
   "outputs": [],
   "source": []
  },
  {
   "cell_type": "code",
   "execution_count": null,
   "id": "6cdc8a5d-4a91-4e55-b36c-754436607f7b",
   "metadata": {},
   "outputs": [],
   "source": []
  },
  {
   "cell_type": "markdown",
   "id": "486d0ae6-426e-4f80-887f-af1bf724cefc",
   "metadata": {},
   "source": [
    "## 4. 案例：美国人的生日"
   ]
  },
  {
   "cell_type": "code",
   "execution_count": null,
   "id": "c6651c3d-58ab-4c26-ba65-e72cd89b53bd",
   "metadata": {},
   "outputs": [],
   "source": []
  },
  {
   "cell_type": "code",
   "execution_count": null,
   "id": "bba6704b-f912-4906-add9-2d217f489af6",
   "metadata": {},
   "outputs": [],
   "source": []
  },
  {
   "cell_type": "code",
   "execution_count": null,
   "id": "3f7760f4-eb4f-44fc-9e64-43bb6f7be8f2",
   "metadata": {},
   "outputs": [],
   "source": []
  }
 ],
 "metadata": {
  "kernelspec": {
   "display_name": "Python 3 (ipykernel)",
   "language": "python",
   "name": "python3"
  },
  "language_info": {
   "codemirror_mode": {
    "name": "ipython",
    "version": 3
   },
   "file_extension": ".py",
   "mimetype": "text/x-python",
   "name": "python",
   "nbconvert_exporter": "python",
   "pygments_lexer": "ipython3",
   "version": "3.7.3"
  }
 },
 "nbformat": 4,
 "nbformat_minor": 5
}
