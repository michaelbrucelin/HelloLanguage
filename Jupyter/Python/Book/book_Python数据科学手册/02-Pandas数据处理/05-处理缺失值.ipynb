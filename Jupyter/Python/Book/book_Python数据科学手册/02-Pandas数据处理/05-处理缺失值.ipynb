{
 "cells": [
  {
   "cell_type": "markdown",
   "id": "c93752b2-9207-4702-abd0-b2ba0417ab16",
   "metadata": {},
   "source": [
    "# 处理缺失值"
   ]
  },
  {
   "cell_type": "markdown",
   "id": "35f2c372-d881-4b0c-b3f3-484644fdbf05",
   "metadata": {},
   "source": [
    "本节介绍一些处理缺失值的通用规则，`Pandas` 对缺失值的表现形式，并演示 `Pandas` 自带的几个处理缺失值的工具的用法。  \n",
    "本节以及全书涉及的缺失值主要有三种形式：`null`、`NaN` 或 `NA`。"
   ]
  },
  {
   "cell_type": "code",
   "execution_count": 1,
   "id": "802d2e63-c747-4f51-9725-f1f0da65e833",
   "metadata": {},
   "outputs": [],
   "source": [
    "import numpy as np\n",
    "import pandas as pd"
   ]
  },
  {
   "cell_type": "code",
   "execution_count": 2,
   "id": "8546bb7d-98b5-4ffb-a133-78ebde025809",
   "metadata": {},
   "outputs": [
    {
     "data": {
      "text/html": [
       "<style>\n",
       "  table {margin-left: 0 !important;}\n",
       "  img:nth-child(1) {width:30%; height: 30%;}\n",
       "</style>\n"
      ],
      "text/plain": [
       "<IPython.core.display.HTML object>"
      ]
     },
     "metadata": {},
     "output_type": "display_data"
    }
   ],
   "source": [
    "%%html\n",
    "<style>\n",
    "  table {margin-left: 0 !important;}\n",
    "  img:nth-child(1) {width:30%; height: 30%;}\n",
    "</style>"
   ]
  },
  {
   "cell_type": "markdown",
   "id": "afd5017c-2e74-4da7-8a96-7dc7135d25a7",
   "metadata": {},
   "source": [
    "## 1. 选择处理缺失值的方法"
   ]
  },
  {
   "cell_type": "markdown",
   "id": "c9523476-b7ad-46b9-9abe-c32fd888f225",
   "metadata": {},
   "source": [
    "在数据表或 `DataFrame` 中有很多识别缺失值的方法。一般情况下可以分为两种：  \n",
    "一种方法是通过一个覆盖全局的掩码表示缺失值，另一种方法是用一个标签值（sentinel value）表示缺失值。  \n",
    "在掩码方法中，掩码可能是一个与原数组维度相同的完整布尔类型数组，也可能是用一个比特（0 或 1）表示有缺失值的局部状态。  \n",
    "在标签方法中，标签值可能是具体的数据（例如用 -9999 表示缺失的整数），也可能是些极少出现的形式。  \n",
    "另外，标签值还可能是更全局的值，比如用 `NaN`（不是一个数）表示缺失的浮点数，它是 `IEEE` 浮点数规范中指定的特殊字符。  \n",
    "使用这两种方法之前都需要先综合考量：  \n",
    "使用单独的掩码数组会额外出现一个布尔类型数组，从而增加存储与计算的负担；  \n",
    "而标签值方法缩小了可以被表示为有效值的范围，可能需要在 `CPU` 或 `GPU` 算术逻辑单元中增加额外的（往往也不是最优的）计算逻辑。  \n",
    "通常使用的 `NaN` 也不能表示所有数据类型。  \n",
    "大多数情况下，都不存在最佳选择，不同的编程语言与系统使用不同的方法。  \n",
    "例如，`R` 语言在每种数据类型中保留一个比特作为缺失数据的标签值，而 `SciDB` 系统会在每个单元后面加一个额外的字节表示 `NA` 状态。"
   ]
  },
  {
   "cell_type": "markdown",
   "id": "925d9c8c-8021-4339-b353-8ec919348401",
   "metadata": {},
   "source": [
    "## 2. Pandas的缺失值"
   ]
  },
  {
   "cell_type": "markdown",
   "id": "f5611666-ff16-4059-82e3-9a44c7f8f41a",
   "metadata": {},
   "source": [
    "`Pandas` 里处理缺失值的方式延续了 `NumPy` 程序包的方式，并没有为浮点数据类型提供内置的 `NA` 作为缺失值。  \n",
    "`Pandas` 原本也可以按照 `R` 语言采用的比特模式为每一种数据类型标注缺失值，但是这种方法非常笨拙。  \n",
    "`R` 语言包含 4 种基本数据类型，而 `NumPy` 支持的类型远超 4 种。例如，`R` 语言只有一种整数类型，而 `NumPy` 支持 14 种基本的整数类型，可以根据精度、符号、编码类型按需选择。  \n",
    "如果要为 `NumPy` 的每种数据类型都设置一个比特标注缺失值，可能需要为不同类型的不同操作耗费大量的时间与精力，其工作量几乎相当于创建一个新的 `NumPy` 程序包。  \n",
    "另外，对于一些较小的数据类型（例如 8 位整型数据），牺牲一个比特作为缺失值标注的掩码还会导致其数据范围缩小。  \n",
    "当然，`NumPy` 也是支持掩码数据的，也就是说可以用一个布尔掩码数组为原数组标注“无缺失值”或“有缺失值”。  \n",
    "`Pandas` 也集成了这个功能，但是在存储、计算和编码维护方面都需要耗费不必要的资源，因此这种方式并不可取。  \n",
    "综合考虑各种方法的优缺点，`Pandas` 最终选择用标签方法表示缺失值，包括两种 `Python` 原有的缺失值：浮点数据类型的 `NaN` 值，以及 `Python` 的 `None` 对象。  \n",
    "后面我们将会发现，虽然这么做也会有一些副作用，但是在实际运用中的效果还是不错的。"
   ]
  },
  {
   "cell_type": "markdown",
   "id": "b530b5b1-dd67-466f-af53-b3e0ea8a93ef",
   "metadata": {},
   "source": [
    "### 2.1. None：Python对象类型的缺失值"
   ]
  },
  {
   "cell_type": "markdown",
   "id": "79fa2094-f35b-45d1-b4ab-59561d1a0a80",
   "metadata": {},
   "source": [
    "`Pandas` 可以使用的第一种缺失值标签是 `None`，它是一个 `Python` 单体对象，经常在代码中表示缺失值。  \n",
    "由于 `None` 是一个 `Python` 对象，所以不能作为任何 `NumPy` \\/ `Pandas` 数组类型的缺失值，只能用于 '`object`' 数组类型（即由 `Python` 对象构成的数组）。"
   ]
  },
  {
   "cell_type": "code",
   "execution_count": null,
   "id": "35f535fd-5fb1-4bcd-888f-c3146f263b39",
   "metadata": {},
   "outputs": [],
   "source": []
  },
  {
   "cell_type": "markdown",
   "id": "5cf9e1d9-dfaa-43bc-a94c-fcf571369baf",
   "metadata": {},
   "source": [
    "### 2.2. NaN：数值类型的缺失值"
   ]
  },
  {
   "cell_type": "markdown",
   "id": "0ae8fe34-1e97-4899-862b-5cf1dffc9138",
   "metadata": {},
   "source": [
    "另一种缺失值的标签是 `NaN`（全称 `Not a Number`，不是一个数字），是一种按照 `IEEE` 浮点数标准设计、在任何系统中都兼容的特殊浮点数。  \n",
    "请注意，`NumPy` 会为这个数组选择一个原生浮点类型，这意味着和之前的 `object` 类型数组不同，这个数组会被编译成 `C` 代码从而实现快速操作。  \n",
    "你可以把 `NaN` 看作是一个数据类病毒——它会将与它接触过的数据同化。无论和 `NaN` 进行何种操作，最终结果都是`NaN`。"
   ]
  },
  {
   "cell_type": "code",
   "execution_count": null,
   "id": "8b56c810-8eb8-4a54-9a04-f36b7f1e6f4f",
   "metadata": {},
   "outputs": [],
   "source": []
  },
  {
   "cell_type": "markdown",
   "id": "312f4998-c8b4-4a69-81c0-4f27ef896b13",
   "metadata": {},
   "source": [
    "### 2.3. Pandas中NaN与None的差异"
   ]
  },
  {
   "cell_type": "markdown",
   "id": "11743e93-e3fe-419c-9e14-d82a649f2dbe",
   "metadata": {},
   "source": [
    "虽然 `NaN` 与 `None` 各有各的用处，但是 `Pandas` 把它们看成是可以等价交换的，在适当的时候会将两者进行替换。  \n",
    "请注意，除了将整型数组的缺失值强制转换为浮点数，`Pandas` 还会自动将 `None` 转换为 `NaN`。"
   ]
  },
  {
   "cell_type": "code",
   "execution_count": null,
   "id": "1f369fd6-18eb-4b5b-bc9f-30d6c7e42697",
   "metadata": {},
   "outputs": [],
   "source": []
  },
  {
   "cell_type": "markdown",
   "id": "f9e234b1-e848-40b0-aee7-95743807b138",
   "metadata": {},
   "source": [
    "**Pandas对不同类型缺失值的转换规则**\n",
    "\n",
    "| 类型 | 缺失值转换规则 | NA标签值 |\n",
    "| -- | -- | -- |\n",
    "| floating 浮点型 | 无变化 | np.nan |\n",
    "| object 对象类型 | 无变化 | None 或 np.nan |\n",
    "| integer 整数类型 | 强制转换为 float64 | np.nan |\n",
    "| boolean 布尔类型 | 强制转换为 object | None 或 np.nan |\n",
    "\n",
    "需要注意的是，`Pandas` 中字符串类型的数据通常是用 `object` 类型存储的。"
   ]
  },
  {
   "cell_type": "markdown",
   "id": "a36393c8-164f-4095-8969-514c4038fab4",
   "metadata": {},
   "source": [
    "## 3. 处理缺失值"
   ]
  },
  {
   "cell_type": "code",
   "execution_count": null,
   "id": "7c612553-5ef0-486a-b24d-8511b1d8ace8",
   "metadata": {},
   "outputs": [],
   "source": []
  },
  {
   "cell_type": "code",
   "execution_count": null,
   "id": "eba26694-4f6f-44b0-b043-114d1d27a311",
   "metadata": {},
   "outputs": [],
   "source": []
  },
  {
   "cell_type": "code",
   "execution_count": null,
   "id": "779d95b6-791c-4609-86f9-b96fde5b5644",
   "metadata": {},
   "outputs": [],
   "source": []
  },
  {
   "cell_type": "code",
   "execution_count": null,
   "id": "a44e5115-0ae4-4a34-9808-12f81cfe37ad",
   "metadata": {},
   "outputs": [],
   "source": []
  },
  {
   "cell_type": "code",
   "execution_count": null,
   "id": "3e216d22-a2b3-43df-9db2-fe6259e658bd",
   "metadata": {},
   "outputs": [],
   "source": []
  },
  {
   "cell_type": "code",
   "execution_count": null,
   "id": "16eab109-d8a3-4e85-832c-da00d85e2a23",
   "metadata": {},
   "outputs": [],
   "source": []
  }
 ],
 "metadata": {
  "kernelspec": {
   "display_name": "Python 3 (ipykernel)",
   "language": "python",
   "name": "python3"
  },
  "language_info": {
   "codemirror_mode": {
    "name": "ipython",
    "version": 3
   },
   "file_extension": ".py",
   "mimetype": "text/x-python",
   "name": "python",
   "nbconvert_exporter": "python",
   "pygments_lexer": "ipython3",
   "version": "3.7.3"
  }
 },
 "nbformat": 4,
 "nbformat_minor": 5
}
