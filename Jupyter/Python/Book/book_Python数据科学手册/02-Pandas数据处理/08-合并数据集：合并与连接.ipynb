{
 "cells": [
  {
   "cell_type": "markdown",
   "id": "f6638d7e-59a1-4f6b-bf93-7f765776ee4b",
   "metadata": {},
   "source": [
    "# 合并数据集：合并与连接"
   ]
  },
  {
   "cell_type": "markdown",
   "id": "3b02c1ec-236a-4091-8cc2-d694c4af3329",
   "metadata": {},
   "source": [
    "`Pandas` 的基本特性之一就是高性能的内存式数据连接（`join`）与合并（`merge`）操作。  \n",
    "如果你有使用数据库的经验，那么对这类操作一定很熟悉。  \n",
    "`Pandas` 的主接口是 `pd.merge` 函数，下面让我们通过一些示例来介绍它的用法。"
   ]
  },
  {
   "cell_type": "code",
   "execution_count": 1,
   "id": "c1280f6a-642f-4201-b35b-7fd7817c5dd8",
   "metadata": {},
   "outputs": [],
   "source": [
    "import numpy as np\n",
    "import pandas as pd"
   ]
  },
  {
   "cell_type": "code",
   "execution_count": 2,
   "id": "9316d545-df79-4d28-b8df-ba1f26bc7baa",
   "metadata": {},
   "outputs": [],
   "source": [
    "class display(object):\n",
    "    \"\"\"Display HTML representation of multiple objects\"\"\"\n",
    "    template = \"\"\"<div style=\"float: left; padding: 10px;\">\n",
    "    <p style='font-family:\"Courier New\", Courier, monospace'>{0}</p>{1}\n",
    "    </div>\"\"\"\n",
    "    def __init__(self, *args):\n",
    "        self.args = args\n",
    "        \n",
    "    def _repr_html_(self):\n",
    "        return '\\n'.join(self.template.format(a, eval(a)._repr_html_())\n",
    "                         for a in self.args)\n",
    "    \n",
    "    def __repr__(self):\n",
    "        return '\\n\\n'.join(a + '\\n' + repr(eval(a))\n",
    "                           for a in self.args)"
   ]
  },
  {
   "cell_type": "markdown",
   "id": "7f7f60f3-8ad4-49a4-8107-3b2dfd81b895",
   "metadata": {},
   "source": [
    "## 1. 关系代数"
   ]
  },
  {
   "cell_type": "markdown",
   "id": "d164fe44-8726-418e-8ade-693110bcd253",
   "metadata": {},
   "source": [
    "`pd.merge()` 实现的功能基于**关系代数**（`relational algebra`）的一部分。  \n",
    "关系代数是处理关系型数据的通用理论，绝大部分数据库的可用操作都以此为理论基础。  \n",
    "关系代数方法论的强大之处在于，它提出的若干简单操作规则经过组合就可以为任意数据集构建十分复杂的操作。  \n",
    "借助在数据库或程序里已经高效实现的基本操作规则，你可以完成许多非常复杂的操作。  \n",
    "`Pandas` 在 `pd.merge()` 函数与 `Series` 和 `DataFrame` 的 `join()` 方法里实现了这些基本操作规则。  \n",
    "下面来看看如何用这些简单的规则连接不同数据源的数据。"
   ]
  },
  {
   "cell_type": "markdown",
   "id": "aa3606a8-33fa-4b98-b1c6-57174dd8f8da",
   "metadata": {},
   "source": [
    "## 2. 数据连接的类型"
   ]
  },
  {
   "cell_type": "markdown",
   "id": "b0d40ca1-77cf-4e99-8d56-b232ed8363ec",
   "metadata": {},
   "source": [
    "`pd.merge()` 函数实现了三种数据连接的类型：**一对一**、**多对一**和**多对多**。  \n",
    "这三种数据连接类型都通过 `pd.merge()` 接口进行调用，根据不同的数据连接需求进行不同的操作。"
   ]
  },
  {
   "cell_type": "markdown",
   "id": "d80d28e7-7dda-4396-93dc-491c5ec76398",
   "metadata": {},
   "source": [
    "### 2.1. 一对一连接"
   ]
  },
  {
   "cell_type": "markdown",
   "id": "1a11aae7-9e0c-4f24-91a3-aad62be7baf1",
   "metadata": {},
   "source": [
    "一对一连接可能是最简单的数据合并类型了。"
   ]
  },
  {
   "cell_type": "code",
   "execution_count": 3,
   "id": "c320abf7-4fa7-4cd2-9dab-9e77ebef18c1",
   "metadata": {},
   "outputs": [
    {
     "data": {
      "text/html": [
       "<div style=\"float: left; padding: 10px;\">\n",
       "    <p style='font-family:\"Courier New\", Courier, monospace'>df1</p><div>\n",
       "<style scoped>\n",
       "    .dataframe tbody tr th:only-of-type {\n",
       "        vertical-align: middle;\n",
       "    }\n",
       "\n",
       "    .dataframe tbody tr th {\n",
       "        vertical-align: top;\n",
       "    }\n",
       "\n",
       "    .dataframe thead th {\n",
       "        text-align: right;\n",
       "    }\n",
       "</style>\n",
       "<table border=\"1\" class=\"dataframe\">\n",
       "  <thead>\n",
       "    <tr style=\"text-align: right;\">\n",
       "      <th></th>\n",
       "      <th>employee</th>\n",
       "      <th>group</th>\n",
       "    </tr>\n",
       "  </thead>\n",
       "  <tbody>\n",
       "    <tr>\n",
       "      <th>0</th>\n",
       "      <td>Bob</td>\n",
       "      <td>Accounting</td>\n",
       "    </tr>\n",
       "    <tr>\n",
       "      <th>1</th>\n",
       "      <td>Jake</td>\n",
       "      <td>Engineering</td>\n",
       "    </tr>\n",
       "    <tr>\n",
       "      <th>2</th>\n",
       "      <td>Lisa</td>\n",
       "      <td>Engineering</td>\n",
       "    </tr>\n",
       "    <tr>\n",
       "      <th>3</th>\n",
       "      <td>Sue</td>\n",
       "      <td>HR</td>\n",
       "    </tr>\n",
       "  </tbody>\n",
       "</table>\n",
       "</div>\n",
       "    </div>\n",
       "<div style=\"float: left; padding: 10px;\">\n",
       "    <p style='font-family:\"Courier New\", Courier, monospace'>df2</p><div>\n",
       "<style scoped>\n",
       "    .dataframe tbody tr th:only-of-type {\n",
       "        vertical-align: middle;\n",
       "    }\n",
       "\n",
       "    .dataframe tbody tr th {\n",
       "        vertical-align: top;\n",
       "    }\n",
       "\n",
       "    .dataframe thead th {\n",
       "        text-align: right;\n",
       "    }\n",
       "</style>\n",
       "<table border=\"1\" class=\"dataframe\">\n",
       "  <thead>\n",
       "    <tr style=\"text-align: right;\">\n",
       "      <th></th>\n",
       "      <th>employee</th>\n",
       "      <th>hire_date</th>\n",
       "    </tr>\n",
       "  </thead>\n",
       "  <tbody>\n",
       "    <tr>\n",
       "      <th>0</th>\n",
       "      <td>Lisa</td>\n",
       "      <td>2004</td>\n",
       "    </tr>\n",
       "    <tr>\n",
       "      <th>1</th>\n",
       "      <td>Bob</td>\n",
       "      <td>2008</td>\n",
       "    </tr>\n",
       "    <tr>\n",
       "      <th>2</th>\n",
       "      <td>Jake</td>\n",
       "      <td>2012</td>\n",
       "    </tr>\n",
       "    <tr>\n",
       "      <th>3</th>\n",
       "      <td>Sue</td>\n",
       "      <td>2014</td>\n",
       "    </tr>\n",
       "  </tbody>\n",
       "</table>\n",
       "</div>\n",
       "    </div>"
      ],
      "text/plain": [
       "df1\n",
       "  employee        group\n",
       "0      Bob   Accounting\n",
       "1     Jake  Engineering\n",
       "2     Lisa  Engineering\n",
       "3      Sue           HR\n",
       "\n",
       "df2\n",
       "  employee  hire_date\n",
       "0     Lisa       2004\n",
       "1      Bob       2008\n",
       "2     Jake       2012\n",
       "3      Sue       2014"
      ]
     },
     "execution_count": 3,
     "metadata": {},
     "output_type": "execute_result"
    }
   ],
   "source": [
    "df1 = pd.DataFrame({'employee': ['Bob', 'Jake', 'Lisa', 'Sue'],\n",
    "                    'group': ['Accounting', 'Engineering', 'Engineering', 'HR']})\n",
    "df2 = pd.DataFrame({'employee': ['Lisa', 'Bob', 'Jake', 'Sue'],\n",
    "                    'hire_date': [2004, 2008, 2012, 2014]})\n",
    "display('df1', 'df2')"
   ]
  },
  {
   "cell_type": "code",
   "execution_count": 4,
   "id": "1f706cff-401d-46da-b6a5-e3730fd9a1d0",
   "metadata": {},
   "outputs": [
    {
     "data": {
      "text/html": [
       "<div>\n",
       "<style scoped>\n",
       "    .dataframe tbody tr th:only-of-type {\n",
       "        vertical-align: middle;\n",
       "    }\n",
       "\n",
       "    .dataframe tbody tr th {\n",
       "        vertical-align: top;\n",
       "    }\n",
       "\n",
       "    .dataframe thead th {\n",
       "        text-align: right;\n",
       "    }\n",
       "</style>\n",
       "<table border=\"1\" class=\"dataframe\">\n",
       "  <thead>\n",
       "    <tr style=\"text-align: right;\">\n",
       "      <th></th>\n",
       "      <th>employee</th>\n",
       "      <th>group</th>\n",
       "      <th>hire_date</th>\n",
       "    </tr>\n",
       "  </thead>\n",
       "  <tbody>\n",
       "    <tr>\n",
       "      <th>0</th>\n",
       "      <td>Bob</td>\n",
       "      <td>Accounting</td>\n",
       "      <td>2008</td>\n",
       "    </tr>\n",
       "    <tr>\n",
       "      <th>1</th>\n",
       "      <td>Jake</td>\n",
       "      <td>Engineering</td>\n",
       "      <td>2012</td>\n",
       "    </tr>\n",
       "    <tr>\n",
       "      <th>2</th>\n",
       "      <td>Lisa</td>\n",
       "      <td>Engineering</td>\n",
       "      <td>2004</td>\n",
       "    </tr>\n",
       "    <tr>\n",
       "      <th>3</th>\n",
       "      <td>Sue</td>\n",
       "      <td>HR</td>\n",
       "      <td>2014</td>\n",
       "    </tr>\n",
       "  </tbody>\n",
       "</table>\n",
       "</div>"
      ],
      "text/plain": [
       "  employee        group  hire_date\n",
       "0      Bob   Accounting       2008\n",
       "1     Jake  Engineering       2012\n",
       "2     Lisa  Engineering       2004\n",
       "3      Sue           HR       2014"
      ]
     },
     "execution_count": 4,
     "metadata": {},
     "output_type": "execute_result"
    }
   ],
   "source": [
    "df3 = pd.merge(df1, df2)  # pd.merge() 方法会发现两个 DataFrame 都有“employee”列，并会自动以这列作为键进行连接。两个输入的合并结果是一个新的 DataFrame。\n",
    "df3"
   ]
  },
  {
   "cell_type": "markdown",
   "id": "2c6ddee9-6f15-48ee-97b8-d3e671c89376",
   "metadata": {},
   "source": [
    "### 2.2. 多对一连接"
   ]
  },
  {
   "cell_type": "markdown",
   "id": "4a5f3880-5bda-4c3e-892e-76d07f4a88fd",
   "metadata": {},
   "source": [
    "多对一连接是指，在需要连接的两个列中，有一列的值有重复。通过多对一连接获得的结果 DataFrame 将会保留重复值。"
   ]
  },
  {
   "cell_type": "code",
   "execution_count": null,
   "id": "55279624-150f-4d4b-8766-850c1f02d76d",
   "metadata": {},
   "outputs": [],
   "source": []
  },
  {
   "cell_type": "markdown",
   "id": "ebb35c61-0f04-4c70-8bf7-6eb7cb7e4ee6",
   "metadata": {},
   "source": [
    "### 2.3. 多对多连接"
   ]
  },
  {
   "cell_type": "markdown",
   "id": "c55c0eef-bc71-4eee-939f-56aecfe1047c",
   "metadata": {},
   "source": [
    "多对多连接是个有点儿复杂的概念，不过也可以理解。如果左右两个输入的共同列都包含重复值，那么合并的结果就是一种多对多连接。"
   ]
  },
  {
   "cell_type": "code",
   "execution_count": null,
   "id": "4b4e210a-87eb-46fd-af22-f2372136c257",
   "metadata": {},
   "outputs": [],
   "source": []
  }
 ],
 "metadata": {
  "kernelspec": {
   "display_name": "Python 3 (ipykernel)",
   "language": "python",
   "name": "python3"
  },
  "language_info": {
   "codemirror_mode": {
    "name": "ipython",
    "version": 3
   },
   "file_extension": ".py",
   "mimetype": "text/x-python",
   "name": "python",
   "nbconvert_exporter": "python",
   "pygments_lexer": "ipython3",
   "version": "3.7.3"
  }
 },
 "nbformat": 4,
 "nbformat_minor": 5
}
