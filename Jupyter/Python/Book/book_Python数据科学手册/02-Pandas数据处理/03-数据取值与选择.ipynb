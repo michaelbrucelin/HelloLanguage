{
 "cells": [
  {
   "cell_type": "markdown",
   "id": "857d1d33-32e0-44f0-a618-2f6d31b6d8dd",
   "metadata": {},
   "source": [
    "# 数据取值与选择"
   ]
  },
  {
   "cell_type": "code",
   "execution_count": 1,
   "id": "ad741c61-b62e-4f52-840f-6e1d62c43ccc",
   "metadata": {},
   "outputs": [],
   "source": [
    "import numpy as np\n",
    "import pandas as pd"
   ]
  },
  {
   "cell_type": "markdown",
   "id": "bc013b9b-7997-43e7-9d7f-2e701d0a39cd",
   "metadata": {},
   "source": [
    "## 1. Series数据选择方法"
   ]
  },
  {
   "cell_type": "markdown",
   "id": "246db492-dfea-4eb5-a58f-8bf62fe3eea3",
   "metadata": {},
   "source": [
    "`Series` 对象与一维 `NumPy` 数组和标准 `Python` 字典在许多方面都一样。  \n",
    "只要牢牢记住这两个类比，就可以帮助我们更好地理解 `Series` 对象的数据索引与选择模式。"
   ]
  },
  {
   "cell_type": "markdown",
   "id": "16882a0c-6e3d-47d1-ad10-ca1c2b0320d1",
   "metadata": {},
   "source": [
    "### 1.1. 将Series看作字典"
   ]
  },
  {
   "cell_type": "code",
   "execution_count": 2,
   "id": "837ff42e-fd1d-4ab8-b216-474acb100840",
   "metadata": {},
   "outputs": [
    {
     "data": {
      "text/plain": [
       "a    0.25\n",
       "b    0.50\n",
       "c    0.75\n",
       "d    1.00\n",
       "dtype: float64"
      ]
     },
     "execution_count": 2,
     "metadata": {},
     "output_type": "execute_result"
    }
   ],
   "source": [
    "data = pd.Series([0.25, 0.5, 0.75, 1.0], index=['a', 'b', 'c', 'd'])\n",
    "data"
   ]
  },
  {
   "cell_type": "code",
   "execution_count": 3,
   "id": "3ba59338-ea9d-498b-9003-e36862e524ee",
   "metadata": {},
   "outputs": [
    {
     "data": {
      "text/plain": [
       "0.5"
      ]
     },
     "execution_count": 3,
     "metadata": {},
     "output_type": "execute_result"
    }
   ],
   "source": [
    "data['b']"
   ]
  },
  {
   "cell_type": "code",
   "execution_count": 4,
   "id": "7a55a92a-992d-4dc0-8dd1-111820e9a059",
   "metadata": {},
   "outputs": [
    {
     "data": {
      "text/plain": [
       "True"
      ]
     },
     "execution_count": 4,
     "metadata": {},
     "output_type": "execute_result"
    }
   ],
   "source": [
    "'a' in data"
   ]
  },
  {
   "cell_type": "code",
   "execution_count": 5,
   "id": "a5c1313a-b80b-437a-ae59-4f7dd4fc8def",
   "metadata": {},
   "outputs": [
    {
     "data": {
      "text/plain": [
       "Index(['a', 'b', 'c', 'd'], dtype='object')"
      ]
     },
     "execution_count": 5,
     "metadata": {},
     "output_type": "execute_result"
    }
   ],
   "source": [
    "data.keys()"
   ]
  },
  {
   "cell_type": "code",
   "execution_count": 6,
   "id": "e831cc0e-38ee-4bff-82a3-b18b42b828a0",
   "metadata": {},
   "outputs": [
    {
     "data": {
      "text/plain": [
       "[('a', 0.25), ('b', 0.5), ('c', 0.75), ('d', 1.0)]"
      ]
     },
     "execution_count": 6,
     "metadata": {},
     "output_type": "execute_result"
    }
   ],
   "source": [
    "list(data.items())"
   ]
  },
  {
   "cell_type": "code",
   "execution_count": 7,
   "id": "286fdd1f-efba-4d30-ac19-782ca4a9f032",
   "metadata": {},
   "outputs": [
    {
     "data": {
      "text/plain": [
       "a    0.25\n",
       "b    0.50\n",
       "c    0.75\n",
       "d    1.00\n",
       "e    1.25\n",
       "dtype: float64"
      ]
     },
     "execution_count": 7,
     "metadata": {},
     "output_type": "execute_result"
    }
   ],
   "source": [
    "data['e'] = 1.25\n",
    "data"
   ]
  },
  {
   "cell_type": "markdown",
   "id": "5837c7f0-3ce8-4130-919d-7db85acc50a3",
   "metadata": {},
   "source": [
    "### 1.2. 将Series看作一维数组"
   ]
  },
  {
   "cell_type": "markdown",
   "id": "2638fd34-86d4-4068-af41-acd88c1f20fd",
   "metadata": {},
   "source": [
    "`Series` 不仅有着和字典一样的接口，而且还具备和 `NumPy` 数组一样的数组数据选择功能，包括索引、掩码、花哨的索引等操作。\n",
    "\n",
    "在下面的示例中，切片是绝大部分混乱之源。需要注意的是，当使用显式索引（即 `data['a':'c']`）作切片时，结果包含最后一个索引；  \n",
    "而当使用隐式索引（即 `data[0:2]`）作切片时，结果不包含最后一个索引。"
   ]
  },
  {
   "cell_type": "code",
   "execution_count": 8,
   "id": "3ca22e1e-0edb-4b84-8d0b-de7ad8272ad7",
   "metadata": {},
   "outputs": [
    {
     "data": {
      "text/plain": [
       "a    0.25\n",
       "b    0.50\n",
       "c    0.75\n",
       "dtype: float64"
      ]
     },
     "execution_count": 8,
     "metadata": {},
     "output_type": "execute_result"
    }
   ],
   "source": [
    "data['a':'c']                  # 将显式索引作为切片"
   ]
  },
  {
   "cell_type": "code",
   "execution_count": 9,
   "id": "16c90bb9-17f3-4d7e-a370-63f57e41b2e9",
   "metadata": {},
   "outputs": [
    {
     "data": {
      "text/plain": [
       "a    0.25\n",
       "b    0.50\n",
       "dtype: float64"
      ]
     },
     "execution_count": 9,
     "metadata": {},
     "output_type": "execute_result"
    }
   ],
   "source": [
    "data[0:2]                      # 将隐式整数索引作为切片"
   ]
  },
  {
   "cell_type": "code",
   "execution_count": 10,
   "id": "4967dcc6-5efa-48ab-a397-63d27b57ec9a",
   "metadata": {},
   "outputs": [
    {
     "data": {
      "text/plain": [
       "b    0.50\n",
       "c    0.75\n",
       "dtype: float64"
      ]
     },
     "execution_count": 10,
     "metadata": {},
     "output_type": "execute_result"
    }
   ],
   "source": [
    "data[(data>0.3) & (data<0.8)]  # 掩码"
   ]
  },
  {
   "cell_type": "code",
   "execution_count": 11,
   "id": "d891f3da-8b19-4304-9454-547b111dfcd7",
   "metadata": {},
   "outputs": [
    {
     "data": {
      "text/plain": [
       "a    0.25\n",
       "e    1.25\n",
       "dtype: float64"
      ]
     },
     "execution_count": 11,
     "metadata": {},
     "output_type": "execute_result"
    }
   ],
   "source": [
    "data[['a', 'e']]               # 花哨的索引"
   ]
  },
  {
   "cell_type": "markdown",
   "id": "bb34ba29-e4cb-4a66-8c07-08cce278b4d4",
   "metadata": {},
   "source": [
    "### 1.3. 索引器：loc、iloc和ix"
   ]
  },
  {
   "cell_type": "code",
   "execution_count": 12,
   "id": "f527b079-e1be-4080-af31-cbe062927dbe",
   "metadata": {},
   "outputs": [
    {
     "data": {
      "text/plain": [
       "1    a\n",
       "3    b\n",
       "5    c\n",
       "dtype: object"
      ]
     },
     "execution_count": 12,
     "metadata": {},
     "output_type": "execute_result"
    }
   ],
   "source": [
    "data = pd.Series(['a', 'b', 'c'], index=[1, 3, 5])\n",
    "data"
   ]
  },
  {
   "cell_type": "code",
   "execution_count": 13,
   "id": "a4a47fe2-d0d3-439b-b830-7c5cbc242d59",
   "metadata": {},
   "outputs": [
    {
     "data": {
      "text/plain": [
       "'a'"
      ]
     },
     "execution_count": 13,
     "metadata": {},
     "output_type": "execute_result"
    }
   ],
   "source": [
    "data[1]    # 取值操作是显式索引"
   ]
  },
  {
   "cell_type": "code",
   "execution_count": 14,
   "id": "de829534-9301-48cd-a83d-1ffe6ec08764",
   "metadata": {},
   "outputs": [
    {
     "data": {
      "text/plain": [
       "3    b\n",
       "5    c\n",
       "dtype: object"
      ]
     },
     "execution_count": 14,
     "metadata": {},
     "output_type": "execute_result"
    }
   ],
   "source": [
    "data[1:3]  # 切片操作是隐式索引"
   ]
  },
  {
   "cell_type": "markdown",
   "id": "bf49728d-b566-4015-8d47-4626f3ef60c5",
   "metadata": {},
   "source": [
    "由于整数索引很容易造成混淆，所以 `Pandas` 提供了一些索引器（indexer）属性来作为取值的方法。  \n",
    "它们不是 `Series` 对象的函数方法，而是暴露切片接口的属性。"
   ]
  },
  {
   "cell_type": "markdown",
   "id": "308a6143-4db4-47e9-a5a3-c4e8382dcd86",
   "metadata": {},
   "source": [
    "#### 第一种索引器是 loc 属性，表示取值和切片都是显式的："
   ]
  },
  {
   "cell_type": "code",
   "execution_count": 15,
   "id": "b42fd556-0b57-4268-b819-aec2af831b54",
   "metadata": {},
   "outputs": [
    {
     "data": {
      "text/plain": [
       "'a'"
      ]
     },
     "execution_count": 15,
     "metadata": {},
     "output_type": "execute_result"
    }
   ],
   "source": [
    "data.loc[1]"
   ]
  },
  {
   "cell_type": "code",
   "execution_count": 16,
   "id": "c7e882da-9870-4fba-8b54-c2691121a61f",
   "metadata": {},
   "outputs": [
    {
     "data": {
      "text/plain": [
       "1    a\n",
       "3    b\n",
       "dtype: object"
      ]
     },
     "execution_count": 16,
     "metadata": {},
     "output_type": "execute_result"
    }
   ],
   "source": [
    "data.loc[1:3]"
   ]
  },
  {
   "cell_type": "markdown",
   "id": "836f2738-fc9b-4941-8313-ad6bb0036955",
   "metadata": {},
   "source": [
    "#### 第二种是 iloc 属性，表示取值和切片都是 Python 形式的隐式索引："
   ]
  },
  {
   "cell_type": "code",
   "execution_count": 17,
   "id": "ad098610-8317-4e11-bda6-0b3e9b8fd08b",
   "metadata": {},
   "outputs": [
    {
     "data": {
      "text/plain": [
       "'b'"
      ]
     },
     "execution_count": 17,
     "metadata": {},
     "output_type": "execute_result"
    }
   ],
   "source": [
    "data.iloc[1]"
   ]
  },
  {
   "cell_type": "code",
   "execution_count": 18,
   "id": "3926db02-a087-4447-b5a4-4e73b24a6311",
   "metadata": {},
   "outputs": [
    {
     "data": {
      "text/plain": [
       "3    b\n",
       "5    c\n",
       "dtype: object"
      ]
     },
     "execution_count": 18,
     "metadata": {},
     "output_type": "execute_result"
    }
   ],
   "source": [
    "data.iloc[1:3]"
   ]
  },
  {
   "cell_type": "markdown",
   "id": "8a16f9f5-8254-48c0-b7e5-7789ceed0f4e",
   "metadata": {},
   "source": [
    "#### 第三种取值属性是 ix，它是前两种索引器的混合形式："
   ]
  },
  {
   "cell_type": "markdown",
   "id": "8d26c9f4-b237-424f-8ecd-68179cc4f035",
   "metadata": {},
   "source": [
    "在 `Series` 对象中 `ix` 等价于标准的 `[]（Python 列表）` 取值方式。  \n",
    "`ix` 索引器主要用于 `DataFrame` 对象，后面将会介绍。"
   ]
  },
  {
   "cell_type": "markdown",
   "id": "0c9b4138-7218-41cf-9daa-17194cfcfeac",
   "metadata": {},
   "source": [
    "`Python` 代码的设计原则之一是“显式优于隐式”。使用 `loc` 和 `iloc` 可以让代码更容易维护，可读性更高。  \n",
    "特别是在处理整数索引的对象时，我强烈推荐使用这两种索引器。它们既可以让代码阅读和理解起来更容易，也能避免因误用索引 \\/ 切片而产生的小 bug。"
   ]
  },
  {
   "cell_type": "markdown",
   "id": "98d36de3-4e39-4cff-8172-eeaeb9f9d64b",
   "metadata": {},
   "source": [
    "## 2. DataFrame数据选择方法"
   ]
  },
  {
   "cell_type": "code",
   "execution_count": null,
   "id": "0b497d14-368a-4bb9-8562-e739c61d61e8",
   "metadata": {},
   "outputs": [],
   "source": []
  }
 ],
 "metadata": {
  "kernelspec": {
   "display_name": "Python 3 (ipykernel)",
   "language": "python",
   "name": "python3"
  },
  "language_info": {
   "codemirror_mode": {
    "name": "ipython",
    "version": 3
   },
   "file_extension": ".py",
   "mimetype": "text/x-python",
   "name": "python",
   "nbconvert_exporter": "python",
   "pygments_lexer": "ipython3",
   "version": "3.7.3"
  }
 },
 "nbformat": 4,
 "nbformat_minor": 5
}
