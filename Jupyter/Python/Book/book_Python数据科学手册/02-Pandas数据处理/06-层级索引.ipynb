{
 "cells": [
  {
   "cell_type": "markdown",
   "id": "ad4ee716-87bc-48f1-93be-072b6349a434",
   "metadata": {},
   "source": [
    "# 层级索引"
   ]
  },
  {
   "cell_type": "markdown",
   "id": "3ad6a5a2-eddf-4042-bd4f-5bdd6dd5001a",
   "metadata": {},
   "source": [
    "当目前为止，我们接触的都是一维数据和二维数据，用 `Pandas` 的 `Series` 和 `DataFrame` 对象就可以存储。  \n",
    "但我们也经常会遇到存储多维数据的需求，数据索引超过一两个键。因此，`Pandas` 提供了 `Panel` 和 `Panel4D` 对象解决三维数据与四维数据。  \n",
    "而在实践中，更直观的形式是通过**层级索引**（`hierarchical indexing`，也被称为**多级索引**，`multi-indexing`）配合多个有不同**等级**（`level`）的一级索引一起使用，  \n",
    "这样就可以将高维数组转换成类似一维 `Series` 和二维 `DataFrame` 对象的形式。  \n",
    "\n",
    "在这一节中，我们将介绍创建 `MultiIndex` 对象的方法，多级索引数据的取值、切片和统计值的计算，以及普通索引与层级索引的转换方法。"
   ]
  },
  {
   "cell_type": "code",
   "execution_count": 1,
   "id": "36c1e7c1-b161-4505-8787-473856ba4a82",
   "metadata": {},
   "outputs": [],
   "source": [
    "import numpy as np\n",
    "import pandas as pd"
   ]
  },
  {
   "cell_type": "markdown",
   "id": "db2d1480-542c-4021-a0cd-e47e80607bf0",
   "metadata": {},
   "source": [
    "## 1. 多级索引Series"
   ]
  },
  {
   "cell_type": "markdown",
   "id": "9c72a3f0-bc9b-4c24-9ebb-82e51f17d589",
   "metadata": {},
   "source": [
    "让我们看看如何用一维的 `Series` 对象表示二维数据——用一系列包含特征与数值的数据点来简单演示。"
   ]
  },
  {
   "cell_type": "markdown",
   "id": "96f26d5a-143d-4278-9068-cc675c9b71c9",
   "metadata": {},
   "source": [
    "### 1.1. 笨方法"
   ]
  },
  {
   "cell_type": "code",
   "execution_count": 2,
   "id": "0b0898e9-73df-4764-ad63-8827bb9b3457",
   "metadata": {},
   "outputs": [
    {
     "data": {
      "text/plain": [
       "(California, 2000)    33871648\n",
       "(California, 2010)    37253956\n",
       "(New York, 2000)      18976457\n",
       "(New York, 2010)      19378102\n",
       "(Texas, 2000)         20851820\n",
       "(Texas, 2010)         25145561\n",
       "dtype: int64"
      ]
     },
     "execution_count": 2,
     "metadata": {},
     "output_type": "execute_result"
    }
   ],
   "source": [
    "index = [('California', 2000), ('California', 2010), ('New York', 2000), ('New York', 2010), ('Texas', 2000), ('Texas', 2010)]\n",
    "populations = [33871648, 37253956, 18976457, 19378102, 20851820, 25145561]\n",
    "pop = pd.Series(populations, index=index)  # 通过元组构成的多级索引\n",
    "pop"
   ]
  },
  {
   "cell_type": "code",
   "execution_count": 3,
   "id": "e35987ca-1e94-4586-9c1b-10ebda0bbf77",
   "metadata": {},
   "outputs": [
    {
     "data": {
      "text/plain": [
       "(California, 2010)    37253956\n",
       "(New York, 2000)      18976457\n",
       "(New York, 2010)      19378102\n",
       "(Texas, 2000)         20851820\n",
       "dtype: int64"
      ]
     },
     "execution_count": 3,
     "metadata": {},
     "output_type": "execute_result"
    }
   ],
   "source": [
    "pop[('California', 2010):('Texas', 2000)]"
   ]
  },
  {
   "cell_type": "code",
   "execution_count": 4,
   "id": "f4ff16f1-ce33-4063-a1d6-c5cb9ef3a4b1",
   "metadata": {},
   "outputs": [
    {
     "data": {
      "text/plain": [
       "(California, 2010)    37253956\n",
       "(New York, 2010)      19378102\n",
       "(Texas, 2010)         25145561\n",
       "dtype: int64"
      ]
     },
     "execution_count": 4,
     "metadata": {},
     "output_type": "execute_result"
    }
   ],
   "source": [
    "pop[[i for i in pop.index if i[1] == 2010]]  # 假如你想要选择所有 2000 年的数据... ..."
   ]
  },
  {
   "cell_type": "markdown",
   "id": "e8d48718-739b-40a4-8faf-ee1f567a0869",
   "metadata": {},
   "source": [
    "### 1.2. 好方法：Pandas多级索引"
   ]
  },
  {
   "cell_type": "markdown",
   "id": "95bf3097-e4e7-4483-9c03-11c45d50bf1f",
   "metadata": {},
   "source": [
    "`Pandas` 提供了更好的解决方案。用元组表示索引其实是多级索引的基础，`Pandas` 的 `MultiIndex` 类型提供了更丰富的操作方法。我们可以用元组创建一个多级索引。"
   ]
  },
  {
   "cell_type": "code",
   "execution_count": 5,
   "id": "6f48a15e-34c9-4753-bd9d-3896385bcf09",
   "metadata": {},
   "outputs": [
    {
     "data": {
      "text/plain": [
       "MultiIndex([('California', 2000),\n",
       "            ('California', 2010),\n",
       "            (  'New York', 2000),\n",
       "            (  'New York', 2010),\n",
       "            (     'Texas', 2000),\n",
       "            (     'Texas', 2010)],\n",
       "           )"
      ]
     },
     "execution_count": 5,
     "metadata": {},
     "output_type": "execute_result"
    }
   ],
   "source": [
    "index = pd.MultiIndex.from_tuples(index)\n",
    "index"
   ]
  },
  {
   "cell_type": "raw",
   "id": "87fb5d0d-008b-4125-98b0-70649439ba16",
   "metadata": {},
   "source": [
    "当前版本的Pandas显示的信息比较简单，下面是完整的输出\n",
    "MultiIndex(levels=[['California', 'New York', 'Texas'], [2000, 2010]],\n",
    "           labels=[[0, 0, 1, 1, 2, 2], [0, 1, 0, 1, 0, 1]])\n",
    "你会发现 MultiIndex 里面有一个 levels 属性表示索引的等级——这样做可以将州名和年份作为每个数据点的不同标签。"
   ]
  },
  {
   "cell_type": "code",
   "execution_count": 6,
   "id": "9d05724d-90a2-42aa-b7e1-27864dd6e650",
   "metadata": {},
   "outputs": [
    {
     "data": {
      "text/plain": [
       "California  2000    33871648\n",
       "            2010    37253956\n",
       "New York    2000    18976457\n",
       "            2010    19378102\n",
       "Texas       2000    20851820\n",
       "            2010    25145561\n",
       "dtype: int64"
      ]
     },
     "execution_count": 6,
     "metadata": {},
     "output_type": "execute_result"
    }
   ],
   "source": [
    "pop = pop.reindex(index)\n",
    "pop"
   ]
  },
  {
   "cell_type": "code",
   "execution_count": 7,
   "id": "0e4eee80-9a56-4cc7-a468-03799655ac4b",
   "metadata": {},
   "outputs": [
    {
     "data": {
      "text/plain": [
       "California    37253956\n",
       "New York      19378102\n",
       "Texas         25145561\n",
       "dtype: int64"
      ]
     },
     "execution_count": 7,
     "metadata": {},
     "output_type": "execute_result"
    }
   ],
   "source": [
    "pop[:, 2010]  # 假如你想要选择所有 2000 年的数据 ^v^"
   ]
  },
  {
   "cell_type": "markdown",
   "id": "6661f4d3-2f4d-480b-a275-44a2ad5ac6bc",
   "metadata": {},
   "source": [
    "### 1.3. 高级数据的多级索引"
   ]
  },
  {
   "cell_type": "markdown",
   "id": "c7f8dc1c-c324-48d3-a8e7-c8284b26a552",
   "metadata": {},
   "source": [
    "你可能已经注意到，我们其实完全可以用一个带行列索引的简单 `DataFrame` 代替前面的多级索引。  \n",
    "其实 `Pandas` 已经实现了类似的功能。`unstack()` 方法可以快速将一个多级索引的 `Series` 转化为普通索引的 `DataFrame`："
   ]
  },
  {
   "cell_type": "code",
   "execution_count": 8,
   "id": "7af80ef7-7fdc-4bc5-8d8d-54e3d0d538aa",
   "metadata": {},
   "outputs": [
    {
     "data": {
      "text/html": [
       "<div>\n",
       "<style scoped>\n",
       "    .dataframe tbody tr th:only-of-type {\n",
       "        vertical-align: middle;\n",
       "    }\n",
       "\n",
       "    .dataframe tbody tr th {\n",
       "        vertical-align: top;\n",
       "    }\n",
       "\n",
       "    .dataframe thead th {\n",
       "        text-align: right;\n",
       "    }\n",
       "</style>\n",
       "<table border=\"1\" class=\"dataframe\">\n",
       "  <thead>\n",
       "    <tr style=\"text-align: right;\">\n",
       "      <th></th>\n",
       "      <th>2000</th>\n",
       "      <th>2010</th>\n",
       "    </tr>\n",
       "  </thead>\n",
       "  <tbody>\n",
       "    <tr>\n",
       "      <th>California</th>\n",
       "      <td>33871648</td>\n",
       "      <td>37253956</td>\n",
       "    </tr>\n",
       "    <tr>\n",
       "      <th>New York</th>\n",
       "      <td>18976457</td>\n",
       "      <td>19378102</td>\n",
       "    </tr>\n",
       "    <tr>\n",
       "      <th>Texas</th>\n",
       "      <td>20851820</td>\n",
       "      <td>25145561</td>\n",
       "    </tr>\n",
       "  </tbody>\n",
       "</table>\n",
       "</div>"
      ],
      "text/plain": [
       "                2000      2010\n",
       "California  33871648  37253956\n",
       "New York    18976457  19378102\n",
       "Texas       20851820  25145561"
      ]
     },
     "execution_count": 8,
     "metadata": {},
     "output_type": "execute_result"
    }
   ],
   "source": [
    "pop_df = pop.unstack()  # unstack() 方法“升维”数据\n",
    "pop_df"
   ]
  },
  {
   "cell_type": "code",
   "execution_count": 9,
   "id": "89a2fdad-c057-4bba-80d2-e2244ed08b13",
   "metadata": {},
   "outputs": [
    {
     "data": {
      "text/plain": [
       "California  2000    33871648\n",
       "            2010    37253956\n",
       "New York    2000    18976457\n",
       "            2010    19378102\n",
       "Texas       2000    20851820\n",
       "            2010    25145561\n",
       "dtype: int64"
      ]
     },
     "execution_count": 9,
     "metadata": {},
     "output_type": "execute_result"
    }
   ],
   "source": [
    "pop_df.stack()          # stack() 方法实现相反的效果，“降维”数据"
   ]
  },
  {
   "cell_type": "markdown",
   "id": "830d5478-26f7-466f-af45-925eb174602b",
   "metadata": {},
   "source": [
    "你可能会纠结于为什么要费时间研究层级索引。其实理由很简单：  \n",
    "如果我们可以用含多级索引的一维 `Series` 数据表示二维数据，那么我们就可以用 `Series` 或 `DataFrame` 表示三维甚至更高维度的数据。  \n",
    "多级索引每增加一级，就表示数据增加一维，利用这一特点就可以轻松表示任意维度的数据了。"
   ]
  },
  {
   "cell_type": "code",
   "execution_count": 10,
   "id": "9d09e58c-52ce-4858-9cdf-c207c0e36615",
   "metadata": {},
   "outputs": [
    {
     "data": {
      "text/html": [
       "<div>\n",
       "<style scoped>\n",
       "    .dataframe tbody tr th:only-of-type {\n",
       "        vertical-align: middle;\n",
       "    }\n",
       "\n",
       "    .dataframe tbody tr th {\n",
       "        vertical-align: top;\n",
       "    }\n",
       "\n",
       "    .dataframe thead th {\n",
       "        text-align: right;\n",
       "    }\n",
       "</style>\n",
       "<table border=\"1\" class=\"dataframe\">\n",
       "  <thead>\n",
       "    <tr style=\"text-align: right;\">\n",
       "      <th></th>\n",
       "      <th></th>\n",
       "      <th>total</th>\n",
       "      <th>under18</th>\n",
       "    </tr>\n",
       "  </thead>\n",
       "  <tbody>\n",
       "    <tr>\n",
       "      <th rowspan=\"2\" valign=\"top\">California</th>\n",
       "      <th>2000</th>\n",
       "      <td>33871648</td>\n",
       "      <td>9267089</td>\n",
       "    </tr>\n",
       "    <tr>\n",
       "      <th>2010</th>\n",
       "      <td>37253956</td>\n",
       "      <td>9284094</td>\n",
       "    </tr>\n",
       "    <tr>\n",
       "      <th rowspan=\"2\" valign=\"top\">New York</th>\n",
       "      <th>2000</th>\n",
       "      <td>18976457</td>\n",
       "      <td>4687374</td>\n",
       "    </tr>\n",
       "    <tr>\n",
       "      <th>2010</th>\n",
       "      <td>19378102</td>\n",
       "      <td>4318033</td>\n",
       "    </tr>\n",
       "    <tr>\n",
       "      <th rowspan=\"2\" valign=\"top\">Texas</th>\n",
       "      <th>2000</th>\n",
       "      <td>20851820</td>\n",
       "      <td>5906301</td>\n",
       "    </tr>\n",
       "    <tr>\n",
       "      <th>2010</th>\n",
       "      <td>25145561</td>\n",
       "      <td>6879014</td>\n",
       "    </tr>\n",
       "  </tbody>\n",
       "</table>\n",
       "</div>"
      ],
      "text/plain": [
       "                    total  under18\n",
       "California 2000  33871648  9267089\n",
       "           2010  37253956  9284094\n",
       "New York   2000  18976457  4687374\n",
       "           2010  19378102  4318033\n",
       "Texas      2000  20851820  5906301\n",
       "           2010  25145561  6879014"
      ]
     },
     "execution_count": 10,
     "metadata": {},
     "output_type": "execute_result"
    }
   ],
   "source": [
    "# 给DataFrame“升维”\n",
    "pop_df = pd.DataFrame({'total': pop,\n",
    "                       'under18': [9267089, 9284094, 4687374, 4318033, 5906301, 6879014]})\n",
    "pop_df"
   ]
  },
  {
   "cell_type": "code",
   "execution_count": 11,
   "id": "e37fd4e7-9265-4a51-b8c0-007104cb5c7c",
   "metadata": {},
   "outputs": [
    {
     "data": {
      "text/plain": [
       "California  2000    0.273594\n",
       "            2010    0.249211\n",
       "New York    2000    0.247010\n",
       "            2010    0.222831\n",
       "Texas       2000    0.283251\n",
       "            2010    0.273568\n",
       "dtype: float64"
      ]
     },
     "execution_count": 11,
     "metadata": {},
     "output_type": "execute_result"
    }
   ],
   "source": [
    "f_u18 = pop_df['under18'] / pop_df['total']  # 前面介绍过的通用函数和其他功能也同样适用于层级索引。\n",
    "f_u18"
   ]
  },
  {
   "cell_type": "code",
   "execution_count": 12,
   "id": "b6629344-2f44-4dd6-8fc8-5b6d7396ad83",
   "metadata": {},
   "outputs": [
    {
     "data": {
      "text/html": [
       "<div>\n",
       "<style scoped>\n",
       "    .dataframe tbody tr th:only-of-type {\n",
       "        vertical-align: middle;\n",
       "    }\n",
       "\n",
       "    .dataframe tbody tr th {\n",
       "        vertical-align: top;\n",
       "    }\n",
       "\n",
       "    .dataframe thead th {\n",
       "        text-align: right;\n",
       "    }\n",
       "</style>\n",
       "<table border=\"1\" class=\"dataframe\">\n",
       "  <thead>\n",
       "    <tr style=\"text-align: right;\">\n",
       "      <th></th>\n",
       "      <th>2000</th>\n",
       "      <th>2010</th>\n",
       "    </tr>\n",
       "  </thead>\n",
       "  <tbody>\n",
       "    <tr>\n",
       "      <th>California</th>\n",
       "      <td>0.273594</td>\n",
       "      <td>0.249211</td>\n",
       "    </tr>\n",
       "    <tr>\n",
       "      <th>New York</th>\n",
       "      <td>0.247010</td>\n",
       "      <td>0.222831</td>\n",
       "    </tr>\n",
       "    <tr>\n",
       "      <th>Texas</th>\n",
       "      <td>0.283251</td>\n",
       "      <td>0.273568</td>\n",
       "    </tr>\n",
       "  </tbody>\n",
       "</table>\n",
       "</div>"
      ],
      "text/plain": [
       "                2000      2010\n",
       "California  0.273594  0.249211\n",
       "New York    0.247010  0.222831\n",
       "Texas       0.283251  0.273568"
      ]
     },
     "execution_count": 12,
     "metadata": {},
     "output_type": "execute_result"
    }
   ],
   "source": [
    "f_u18.unstack()"
   ]
  },
  {
   "cell_type": "code",
   "execution_count": null,
   "id": "8668c8bf-17c4-43d8-9327-3a770e1569a2",
   "metadata": {},
   "outputs": [],
   "source": []
  }
 ],
 "metadata": {
  "kernelspec": {
   "display_name": "Python 3 (ipykernel)",
   "language": "python",
   "name": "python3"
  },
  "language_info": {
   "codemirror_mode": {
    "name": "ipython",
    "version": 3
   },
   "file_extension": ".py",
   "mimetype": "text/x-python",
   "name": "python",
   "nbconvert_exporter": "python",
   "pygments_lexer": "ipython3",
   "version": "3.7.3"
  }
 },
 "nbformat": 4,
 "nbformat_minor": 5
}
