{
 "cells": [
  {
   "cell_type": "markdown",
   "id": "16b6ae22-4abe-4bbb-9c44-324de71b8c1d",
   "metadata": {},
   "source": [
    "# 结构化数据：NumPy的结构化数组"
   ]
  },
  {
   "cell_type": "markdown",
   "id": "d169c220-0fab-4385-adcd-bf0c717f9ada",
   "metadata": {},
   "source": [
    "大多数时候，我们的数据可以通过一个异构类型值组成的数组表示，但有时却并非如此。  \n",
    "本节介绍 `NumPy` 的结构化数组和记录数组，它们为复合的、异构的数据提供了非常有效的存储。  \n",
    "尽管这里列举的模式对于简单的操作非常有用，但是这些场景通常也可以用 `Pandas` 的 `DataFrame` 来实现。"
   ]
  },
  {
   "cell_type": "code",
   "execution_count": 1,
   "id": "6dbac87d-e5e6-4318-9925-c6303683cce1",
   "metadata": {},
   "outputs": [],
   "source": [
    "import numpy as np"
   ]
  },
  {
   "cell_type": "code",
   "execution_count": 2,
   "id": "de70ecc7-ab38-406f-862f-145e77146f49",
   "metadata": {},
   "outputs": [
    {
     "data": {
      "text/html": [
       "<style>\n",
       "  table {margin-left: 0 !important;}\n",
       "  img:nth-child(1) {width:30%; height: 30%;}\n",
       "</style>\n"
      ],
      "text/plain": [
       "<IPython.core.display.HTML object>"
      ]
     },
     "metadata": {},
     "output_type": "display_data"
    }
   ],
   "source": [
    "%%html\n",
    "<style>\n",
    "  table {margin-left: 0 !important;}\n",
    "  img:nth-child(1) {width:30%; height: 30%;}\n",
    "</style>"
   ]
  },
  {
   "cell_type": "code",
   "execution_count": 3,
   "id": "ef7b2271-582b-40d2-adb6-0933b4839c73",
   "metadata": {},
   "outputs": [],
   "source": [
    "name = ['Alice', 'Bob', 'Cathy', 'Doug']\n",
    "age = [25, 45, 37, 19]\n",
    "weight = [55.0, 85.5, 68.0, 61.5]"
   ]
  },
  {
   "cell_type": "markdown",
   "id": "5014f686-5d04-4583-b70e-e838e52893fd",
   "metadata": {},
   "source": [
    "这种方法有点笨，因为并没有任何信息告诉我们这三个数组是相关联的。  \n",
    "如果可以用一种单一结构来存储所有的数据，那么看起来会更自然。  \n",
    "`NumPy` 可以用结构化数组实现这种存储，这些结构化数组是复合数据类型的。"
   ]
  },
  {
   "cell_type": "code",
   "execution_count": 4,
   "id": "30bce6af-39c4-4dd3-a2da-0ee25c8b6278",
   "metadata": {},
   "outputs": [],
   "source": [
    "x = np.zeros(4, dtype=int)  # 生成一个简单的数组"
   ]
  },
  {
   "cell_type": "code",
   "execution_count": 5,
   "id": "6b282531-7058-4bc4-acf5-cbd975986142",
   "metadata": {},
   "outputs": [
    {
     "name": "stdout",
     "output_type": "stream",
     "text": [
      "[('name', '<U10'), ('age', '<i4'), ('weight', '<f8')]\n"
     ]
    }
   ],
   "source": [
    "data = np.zeros(4, dtype={'names':('name', 'age', 'weight'),\n",
    "                          'formats':('U10', 'i4', 'f8')})\n",
    "print(data.dtype)\n",
    "\n",
    "# U10 表示“长度不超过 10 的 Unicode 字符串”，i4 表示“4 字节（即32 比特）整型”，f8 表示“8 字节（即 64 比特）浮点型”"
   ]
  },
  {
   "cell_type": "code",
   "execution_count": 6,
   "id": "7100e405-3a1a-441d-a9c4-a134b4e93575",
   "metadata": {},
   "outputs": [
    {
     "name": "stdout",
     "output_type": "stream",
     "text": [
      "[('Alice', 25, 55. ) ('Bob', 45, 85.5) ('Cathy', 37, 68. )\n",
      " ('Doug', 19, 61.5)]\n"
     ]
    }
   ],
   "source": [
    "data['name'] = name\n",
    "data['age'] = age\n",
    "data['weight'] = weight\n",
    "print(data)"
   ]
  },
  {
   "cell_type": "markdown",
   "id": "108ac366-1ca9-46d2-9586-dd907920c38f",
   "metadata": {},
   "source": [
    "正如我们希望的，所有的数据被安排在一个内存块中。  \n",
    "结构化数组的方便之处在于，你可以通过索引或名称查看相应的值。"
   ]
  },
  {
   "cell_type": "code",
   "execution_count": 7,
   "id": "f7c9dea6-83a2-42c2-abef-60b1af06f70e",
   "metadata": {},
   "outputs": [
    {
     "data": {
      "text/plain": [
       "array(['Alice', 'Bob', 'Cathy', 'Doug'], dtype='<U10')"
      ]
     },
     "execution_count": 7,
     "metadata": {},
     "output_type": "execute_result"
    }
   ],
   "source": [
    "data['name']"
   ]
  },
  {
   "cell_type": "code",
   "execution_count": 8,
   "id": "3adaf6e5-6904-4b27-a6a4-8185d153ee76",
   "metadata": {},
   "outputs": [
    {
     "data": {
      "text/plain": [
       "('Alice', 25, 55.)"
      ]
     },
     "execution_count": 8,
     "metadata": {},
     "output_type": "execute_result"
    }
   ],
   "source": [
    "data[0]"
   ]
  },
  {
   "cell_type": "code",
   "execution_count": 9,
   "id": "a9ca485a-fd60-4593-a185-4fe277c8ce44",
   "metadata": {},
   "outputs": [
    {
     "data": {
      "text/plain": [
       "'Doug'"
      ]
     },
     "execution_count": 9,
     "metadata": {},
     "output_type": "execute_result"
    }
   ],
   "source": [
    "data[-1]['name']"
   ]
  },
  {
   "cell_type": "code",
   "execution_count": 10,
   "id": "052079e4-30d3-4c06-b81e-d599570344c8",
   "metadata": {},
   "outputs": [
    {
     "data": {
      "text/plain": [
       "array(['Alice', 'Doug'], dtype='<U10')"
      ]
     },
     "execution_count": 10,
     "metadata": {},
     "output_type": "execute_result"
    }
   ],
   "source": [
    "data[data['age'] < 30]['name']"
   ]
  },
  {
   "cell_type": "markdown",
   "id": "b13e3cab-d4bb-403c-be7c-00956f51f598",
   "metadata": {},
   "source": [
    "请注意，如果你希望实现比上面更复杂的操作，那么你应该考虑使用 `Pandas` 包，我们将在下一章中详细介绍它。  \n",
    "正如你将会看到的，`Pandas` 提供了一个 `DataFrame` 对象，该结构是构建于 `NumPy` 数组之上的，提供了很多有用的数据操作功能，其中有些与前面介绍的类似，当然也有更多没提过并且非常实用的功能。"
   ]
  },
  {
   "cell_type": "markdown",
   "id": "010a3202-2403-485c-93f0-74ab21454949",
   "metadata": {},
   "source": [
    "## 1. 生成结构化数组"
   ]
  },
  {
   "cell_type": "code",
   "execution_count": 11,
   "id": "e05c0c7d-e3b7-4554-9a91-65188aa7fd46",
   "metadata": {},
   "outputs": [
    {
     "data": {
      "text/plain": [
       "dtype([('name', '<U10'), ('age', '<i4'), ('weight', '<f8')])"
      ]
     },
     "execution_count": 11,
     "metadata": {},
     "output_type": "execute_result"
    }
   ],
   "source": [
    "# 字典法\n",
    "np.dtype({'names':('name', 'age', 'weight'),\n",
    "          'formats':('U10', 'i4', 'f8')})"
   ]
  },
  {
   "cell_type": "code",
   "execution_count": 12,
   "id": "c6a5e074-af08-47c7-a6e5-41e92cdf4fae",
   "metadata": {},
   "outputs": [
    {
     "data": {
      "text/plain": [
       "dtype([('name', '<U10'), ('age', '<i8'), ('weight', '<f4')])"
      ]
     },
     "execution_count": 12,
     "metadata": {},
     "output_type": "execute_result"
    }
   ],
   "source": [
    "np.dtype({'names':('name', 'age', 'weight'),\n",
    "          'formats':((np.str_, 10), int, np.float32)})  # 数值数据类型可以用 Python 类型或 NumPy 的 dtype 类型指定"
   ]
  },
  {
   "cell_type": "code",
   "execution_count": 13,
   "id": "dcaa9075-9cdf-4026-aeee-0c131634611a",
   "metadata": {},
   "outputs": [
    {
     "data": {
      "text/plain": [
       "dtype([('name', 'S10'), ('age', '<i4'), ('weight', '<f8')])"
      ]
     },
     "execution_count": 13,
     "metadata": {},
     "output_type": "execute_result"
    }
   ],
   "source": [
    "# 元祖列表\n",
    "np.dtype([('name', 'S10'), ('age', 'i4'), ('weight', 'f8')])"
   ]
  },
  {
   "cell_type": "code",
   "execution_count": 14,
   "id": "679ed22e-6cac-44c2-98c8-dc8e2675d050",
   "metadata": {},
   "outputs": [
    {
     "data": {
      "text/plain": [
       "dtype([('f0', 'S10'), ('f1', '<i4'), ('f2', '<f8')])"
      ]
     },
     "execution_count": 14,
     "metadata": {},
     "output_type": "execute_result"
    }
   ],
   "source": [
    "# 如果类型的名称对你来说并不重要，那你可以仅仅用一个字符串来指定它。\n",
    "np.dtype('S10,i4,f8')"
   ]
  },
  {
   "cell_type": "markdown",
   "id": "96628c6a-0bc4-4aef-adef-33bf2737972f",
   "metadata": {},
   "source": [
    "**NumPy的数据类型**\n",
    "\n",
    "| NumPy数据类型符号 | 描述 | 示例 |\n",
    "| -- | -- | -- |\n",
    "| 'b' | 字节型 | np.dtype('b') |\n",
    "| 'i' | 有符号整型 | np.dtype('i4') == np.int32 |\n",
    "| 'u' | 无符号整型 | np.dtype('u1') == np.uint8 |\n",
    "| 'f' | 浮点型 | np.dtype('f8') == np.int64 |\n",
    "| 'c' | 复数浮点型 | np.dtype('c16') == np.complex128 |\n",
    "| 'S'、'a' | 字符串 | np.dtype('S5') |\n",
    "| 'U' | Unicode 编码字符串 | np.dtype('U') == np.str_ |\n",
    "| 'V' | 原生数据，raw data(空, void) | np.dtype('V') == np.void |"
   ]
  },
  {
   "cell_type": "markdown",
   "id": "a326ad30-6df0-4430-8f15-2f9ba3342d9c",
   "metadata": {},
   "source": [
    "## 2. 更高级的复合类型"
   ]
  },
  {
   "cell_type": "markdown",
   "id": "40029e31-10e1-45a9-8629-b359780e421c",
   "metadata": {},
   "source": [
    "下例中 `X` 数组的每个元素都包含一个 `id` 和一个 `3×3` 的矩阵。  \n",
    "为什么我们宁愿用这种方法存储数据，也不用简单的多维数组，或者 `Python` 字典呢？  \n",
    "原因是 `NumPy` 的 `dtype` 直接映射到 `C` 结构的定义，因此包含数组内容的缓存可以直接在 `C` 程序中使用。  \n",
    "如果你想写一个 `Python` 接口与一个遗留的 `C` 语言或 `Fortran` 库交互，从而操作结构化数据，你将会发现结构化数组非常有用！"
   ]
  },
  {
   "cell_type": "code",
   "execution_count": 15,
   "id": "57a8b1df-8f4c-41e8-870b-42cf22b95885",
   "metadata": {},
   "outputs": [
    {
     "name": "stdout",
     "output_type": "stream",
     "text": [
      "(0, [[0., 0., 0.], [0., 0., 0.], [0., 0., 0.]])\n",
      "[[0. 0. 0.]\n",
      " [0. 0. 0.]\n",
      " [0. 0. 0.]]\n"
     ]
    }
   ],
   "source": [
    "tp = np.dtype([('id', 'i8'), ('mat', 'f8', (3, 3))])\n",
    "X = np.zeros(1, dtype=tp)\n",
    "print(X[0])\n",
    "print(X['mat'][0])"
   ]
  },
  {
   "cell_type": "markdown",
   "id": "3fbf184f-f30b-4b87-ae18-3ea723b2cd8f",
   "metadata": {},
   "source": [
    "## 3. 记录数组：结构化数组的扭转"
   ]
  },
  {
   "cell_type": "markdown",
   "id": "2520c97e-e1fe-448a-87c6-c874bf243bb1",
   "metadata": {},
   "source": [
    "`NumPy` 还提供了 `np.recarray` 类。它和前面介绍的结构化数组几乎相同，但是它有一个独特的特征：域可以像属性一样获取，而不是像字典的键那样获取。"
   ]
  },
  {
   "cell_type": "code",
   "execution_count": 16,
   "id": "96d18f91-d342-42ce-90ca-f9d32776dbe0",
   "metadata": {},
   "outputs": [
    {
     "data": {
      "text/plain": [
       "array([25, 45, 37, 19], dtype=int32)"
      ]
     },
     "execution_count": 16,
     "metadata": {},
     "output_type": "execute_result"
    }
   ],
   "source": [
    "data['age']"
   ]
  },
  {
   "cell_type": "code",
   "execution_count": 17,
   "id": "049b82d2-ea25-429f-92a3-b1d8b32212c0",
   "metadata": {},
   "outputs": [
    {
     "data": {
      "text/plain": [
       "array([25, 45, 37, 19], dtype=int32)"
      ]
     },
     "execution_count": 17,
     "metadata": {},
     "output_type": "execute_result"
    }
   ],
   "source": [
    "data_rec = data.view(np.recarray)\n",
    "data_rec.age  # 如果将这些数据当作一个记录数组，我们可以用很少的按键来获取这个结果："
   ]
  },
  {
   "cell_type": "code",
   "execution_count": null,
   "id": "13377311-3e60-4540-876b-b8b6f8283bfb",
   "metadata": {},
   "outputs": [],
   "source": [
    "# 记录数组的不好的地方在于，即使使用同样的语法，在获取域时也会有一些额外的开销\n",
    "%timeit data['age']\n",
    "%timeit data_rec['age']\n",
    "%timeit data_rec.age"
   ]
  },
  {
   "cell_type": "markdown",
   "id": "bad9b431-8934-482b-a1c6-6f61e532d003",
   "metadata": {},
   "source": [
    "## 4. 关于Pandas"
   ]
  },
  {
   "cell_type": "markdown",
   "id": "983d9aca-100b-4d7d-afe6-05fb8097a5b8",
   "metadata": {},
   "source": [
    "本章将结构化数组和记录数组放在末尾是有意为之，因为它们能很好地衔接下一章要介绍的包：`Pandas`。  \n",
    "本章介绍的结构化数组在某些场景中很好用，特别是当你用 `C`、`Fortran` 或其他语言将 `NumPy` 数组映射为二进制数据格式时。  \n",
    "但是如果每天都需要使用结构化数据，那么 `Pandas` 包是更好的选择，我们将在接下来的一章详细介绍它。"
   ]
  },
  {
   "cell_type": "code",
   "execution_count": null,
   "id": "951b04e1-8942-4e1c-ac42-eb303bc2d3d1",
   "metadata": {},
   "outputs": [],
   "source": []
  }
 ],
 "metadata": {
  "kernelspec": {
   "display_name": "Python 3 (ipykernel)",
   "language": "python",
   "name": "python3"
  },
  "language_info": {
   "codemirror_mode": {
    "name": "ipython",
    "version": 3
   },
   "file_extension": ".py",
   "mimetype": "text/x-python",
   "name": "python",
   "nbconvert_exporter": "python",
   "pygments_lexer": "ipython3",
   "version": "3.7.3"
  }
 },
 "nbformat": 4,
 "nbformat_minor": 5
}
