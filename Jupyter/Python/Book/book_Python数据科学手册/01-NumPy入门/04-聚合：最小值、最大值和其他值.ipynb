{
 "cells": [
  {
   "cell_type": "markdown",
   "id": "be91cbfa-2fac-4b20-b931-50f2dd51b451",
   "metadata": {},
   "source": [
    "# 聚合：最小值、最大值和其他值"
   ]
  },
  {
   "cell_type": "code",
   "execution_count": 1,
   "id": "fa6fd33d-7840-4cec-a34d-ab031388e327",
   "metadata": {},
   "outputs": [],
   "source": [
    "import numpy as np\n",
    "\n",
    "np.random.seed(0)"
   ]
  },
  {
   "cell_type": "code",
   "execution_count": 2,
   "id": "b72c4495-40e0-48c4-9ecf-9c5fd03d760a",
   "metadata": {},
   "outputs": [
    {
     "data": {
      "text/html": [
       "<style>\n",
       "  table {margin-left: 0 !important;}\n",
       "</style>\n"
      ],
      "text/plain": [
       "<IPython.core.display.HTML object>"
      ]
     },
     "metadata": {},
     "output_type": "display_data"
    }
   ],
   "source": [
    "%%html\n",
    "<style>\n",
    "  table {margin-left: 0 !important;}\n",
    "</style>"
   ]
  },
  {
   "cell_type": "markdown",
   "id": "2e76d1a7-b302-497d-8e47-209d4e2a0b44",
   "metadata": {},
   "source": [
    "## 1. 数组值求和"
   ]
  },
  {
   "cell_type": "code",
   "execution_count": 3,
   "id": "fbecc32e-314b-4a7c-ba5b-e178a263ca45",
   "metadata": {},
   "outputs": [
    {
     "name": "stdout",
     "output_type": "stream",
     "text": [
      "47.27938395125176\n",
      "47.279383951251766\n"
     ]
    }
   ],
   "source": [
    "L = np.random.random(100)\n",
    "print(sum(L))     # Python内建的函数\n",
    "print(np.sum(L))  # NumPy的函数"
   ]
  },
  {
   "cell_type": "code",
   "execution_count": 4,
   "id": "61ded41f-5047-4862-ad9d-7464864b0dbc",
   "metadata": {},
   "outputs": [
    {
     "name": "stdout",
     "output_type": "stream",
     "text": [
      "156 ms ± 2.52 ms per loop (mean ± std. dev. of 7 runs, 10 loops each)\n",
      "965 µs ± 20.1 µs per loop (mean ± std. dev. of 7 runs, 1000 loops each)\n"
     ]
    }
   ],
   "source": [
    "# 由于NumPy 的 sum 函数在编译码中执行操作，所以 NumPy 的操作计算得更快一些\n",
    "big_array = np.random.rand(1000000)\n",
    "%timeit sum(big_array)\n",
    "%timeit np.sum(big_array)"
   ]
  },
  {
   "cell_type": "markdown",
   "id": "c2848570-187a-4d59-8d5f-af2c79fab11f",
   "metadata": {},
   "source": [
    "## 2. 最大值和最小值"
   ]
  },
  {
   "cell_type": "code",
   "execution_count": 5,
   "id": "2fcf49be-9e06-46e8-a783-0ef2a1c5dc16",
   "metadata": {},
   "outputs": [
    {
     "name": "stdout",
     "output_type": "stream",
     "text": [
      "7.071203171893359e-07 0.9999997207656334\n",
      "7.071203171893359e-07 0.9999997207656334\n"
     ]
    }
   ],
   "source": [
    "print(min(big_array), max(big_array))        # Python内建的函数\n",
    "print(np.min(big_array), np.max(big_array))  # NumPy的函数"
   ]
  },
  {
   "cell_type": "code",
   "execution_count": 6,
   "id": "531fb19c-0c52-40cb-b1d4-e3220a9e238a",
   "metadata": {},
   "outputs": [
    {
     "name": "stdout",
     "output_type": "stream",
     "text": [
      "94.1 ms ± 3.07 ms per loop (mean ± std. dev. of 7 runs, 10 loops each)\n",
      "916 µs ± 39.1 µs per loop (mean ± std. dev. of 7 runs, 1000 loops each)\n"
     ]
    }
   ],
   "source": [
    "%timeit min(big_array)\n",
    "%timeit np.min(big_array)"
   ]
  },
  {
   "cell_type": "code",
   "execution_count": 7,
   "id": "fdd261ba-01e9-443f-8f0d-206804977a67",
   "metadata": {},
   "outputs": [
    {
     "name": "stdout",
     "output_type": "stream",
     "text": [
      "7.071203171893359e-07 0.9999997207656334 500385.0874907551\n"
     ]
    }
   ],
   "source": [
    "# 对于 min、max、sum 和其他 NumPy 聚合，一种更简洁的语法形式是数组对象直接调用这些方法：\n",
    "print(big_array.min(), big_array.max(), big_array.sum())"
   ]
  },
  {
   "cell_type": "markdown",
   "id": "ce464947-7203-4abb-b12f-900d4db42714",
   "metadata": {},
   "source": [
    "### 2.1. 多维度聚合"
   ]
  },
  {
   "cell_type": "code",
   "execution_count": 8,
   "id": "187c8c2d-ab61-4ce9-b6af-a7b686b3ef43",
   "metadata": {},
   "outputs": [
    {
     "name": "stdout",
     "output_type": "stream",
     "text": [
      "[[0.65527872 0.53859662 0.1160128  0.88693339]\n",
      " [0.78005386 0.29509276 0.23792159 0.36427966]\n",
      " [0.28696762 0.13911998 0.81564486 0.33446842]]\n"
     ]
    }
   ],
   "source": [
    "M = np.random.random((3,4))\n",
    "print(M)"
   ]
  },
  {
   "cell_type": "code",
   "execution_count": 9,
   "id": "26a2171f-cb1c-4c74-a774-06589ca91be8",
   "metadata": {},
   "outputs": [
    {
     "name": "stdout",
     "output_type": "stream",
     "text": [
      "5.450370274366079\n",
      "[0.28696762 0.13911998 0.1160128  0.33446842]\n",
      "[0.88693339 0.78005386 0.81564486]\n"
     ]
    }
   ],
   "source": [
    "print(M.sum())        # 默认情况下，每一个 NumPy 聚合函数将会返回对整个数组的聚合结果\n",
    "print(M.min(axis=0))  # 聚合函数还有一个参数，用于指定沿着哪个轴的方向进行聚合\n",
    "print(M.max(axis=1))  # axis 关键字指定的是数组将会被折叠的维度，而不是将要返回的维度，因此指定 axis=0 意味着第一个轴将要被折叠"
   ]
  },
  {
   "cell_type": "markdown",
   "id": "154db3a1-7149-4525-84ef-40938617d330",
   "metadata": {},
   "source": [
    "### 2.2. 其他聚合函数"
   ]
  },
  {
   "cell_type": "markdown",
   "id": "427a3c27-d61e-4a4d-9c45-7f13d4c843dd",
   "metadata": {},
   "source": [
    "**NumPy中可用的聚合函数**\n",
    "\n",
    "| 函数名称 | NaN安全版本 | 描述 |\n",
    "| -- | -- | -- |\n",
    "| np.sum | np.nansum | 计算元素的和 |\n",
    "| np.prod | np.nanprod | 计算元素的积 |\n",
    "| np.mean | np.nanmean | 计算元素的平均值 |\n",
    "| np.std | np.nanstd | 计算元素的标准差 |\n",
    "| np.var | np.nanvar | 计算元素的方差 |\n",
    "| np.min | np.nanmin | 找出最小值 |\n",
    "| np.max | np.nanmax | 找出最大值 |\n",
    "| np.argmin | np.nanargmin | 找出最小值的索引 |\n",
    "| np.argmax | np.nanargmax | 找出最大值的索引 |\n",
    "| np.median | np.nanmedian | 计算元素的中位数 |\n",
    "| np.percentile | np.nanpercentile | 计算基于元素排序的统计值 |\n",
    "| np.any | N/A | 验证是否存在元素为真 |\n",
    "| np.all | N/A | 验证所有元素是否为真 |"
   ]
  },
  {
   "cell_type": "markdown",
   "id": "91f2fc2b-e8a4-41e6-a510-ee75bf5d98fb",
   "metadata": {},
   "source": [
    "## 3. 示例：美国总统的身高是多少"
   ]
  },
  {
   "cell_type": "code",
   "execution_count": 10,
   "id": "556f799b-9287-42cc-8a2f-a533c06de8d4",
   "metadata": {},
   "outputs": [
    {
     "name": "stdout",
     "output_type": "stream",
     "text": [
      "order,name,height(cm)\n",
      "1,George Washington,189\n",
      "2,John Adams,170\n",
      "3,Thomas Jefferson,189\n"
     ]
    }
   ],
   "source": [
    "!head -4 ../data/president_heights.csv"
   ]
  },
  {
   "cell_type": "code",
   "execution_count": 11,
   "id": "19feb0c3-4e52-42a2-b437-9e90db874a94",
   "metadata": {},
   "outputs": [
    {
     "name": "stdout",
     "output_type": "stream",
     "text": [
      "[189 170 189 163 183 171 185 168 173 183 173 173 175 178 183 193 178 173\n",
      " 174 183 183 168 170 178 182 180 183 178 182 188 175 179 183 193 182 183\n",
      " 177 185 188 188 182 185]\n"
     ]
    }
   ],
   "source": [
    "import pandas as pd\n",
    "\n",
    "data = pd.read_csv('../data/president_heights.csv')\n",
    "heights = np.array(data['height(cm)'])\n",
    "print(heights)"
   ]
  },
  {
   "cell_type": "code",
   "execution_count": 12,
   "id": "44ac1d61-20b9-4d6b-9cf2-8ad82071c1db",
   "metadata": {},
   "outputs": [
    {
     "name": "stdout",
     "output_type": "stream",
     "text": [
      "Mean height:        179.73809523809524\n",
      "Standard deviation: 6.931843442745892\n",
      "Minimum height:     163\n",
      "Maximum height:     193\n",
      "25th percentile:    174.25\n",
      "Median:             182.0\n",
      "75th percentile:    183.0\n"
     ]
    }
   ],
   "source": [
    "print(\"Mean height:       \", heights.mean())\n",
    "print(\"Standard deviation:\", heights.std())\n",
    "print(\"Minimum height:    \", heights.min())\n",
    "print(\"Maximum height:    \", heights.max())\n",
    "print(\"25th percentile:   \", np.percentile(heights, 25))\n",
    "print(\"Median:            \", np.median(heights))\n",
    "print(\"75th percentile:   \", np.percentile(heights, 75))"
   ]
  },
  {
   "cell_type": "code",
   "execution_count": 13,
   "id": "665b175a-2780-46ae-ad0e-6dfad8ad517c",
   "metadata": {},
   "outputs": [
    {
     "data": {
      "text/plain": [
       "Text(0, 0.5, 'number')"
      ]
     },
     "execution_count": 13,
     "metadata": {},
     "output_type": "execute_result"
    },
    {
     "data": {
      "image/png": "[encoded data removed]",
      "text/plain": [
       "<Figure size 432x288 with 1 Axes>"
      ]
     },
     "metadata": {},
     "output_type": "display_data"
    }
   ],
   "source": [
    "%matplotlib inline\n",
    "import matplotlib.pyplot as plt\n",
    "import seaborn; seaborn.set()  # 设置绘图风格\n",
    "\n",
    "plt.hist(heights)\n",
    "plt.title('Height Distribution of US Presidents')\n",
    "plt.xlabel('height (cm)')\n",
    "plt.ylabel('number')"
   ]
  },
  {
   "cell_type": "code",
   "execution_count": null,
   "id": "18372f61-ad0d-4af3-8385-fe7f693f566a",
   "metadata": {},
   "outputs": [],
   "source": []
  }
 ],
 "metadata": {
  "kernelspec": {
   "display_name": "Python 3 (ipykernel)",
   "language": "python",
   "name": "python3"
  },
  "language_info": {
   "codemirror_mode": {
    "name": "ipython",
    "version": 3
   },
   "file_extension": ".py",
   "mimetype": "text/x-python",
   "name": "python",
   "nbconvert_exporter": "python",
   "pygments_lexer": "ipython3",
   "version": "3.7.3"
  }
 },
 "nbformat": 4,
 "nbformat_minor": 5
}
