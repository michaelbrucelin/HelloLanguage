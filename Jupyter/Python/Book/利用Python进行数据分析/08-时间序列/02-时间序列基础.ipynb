{
 "cells": [
  {
   "cell_type": "code",
   "execution_count": 1,
   "id": "eacf60f6",
   "metadata": {},
   "outputs": [],
   "source": [
    "import numpy as np\n",
    "import pandas as pd\n",
    "import matplotlib.pyplot as plt\n",
    "\n",
    "from datetime import datetime"
   ]
  },
  {
   "cell_type": "code",
   "execution_count": 2,
   "id": "22e7f3c6",
   "metadata": {},
   "outputs": [
    {
     "data": {
      "text/plain": [
       "2011-01-02    1.608209\n",
       "2011-01-05    0.150012\n",
       "2011-01-07   -0.199162\n",
       "2011-01-08   -0.633558\n",
       "2011-01-10    1.031363\n",
       "2011-01-12   -0.108024\n",
       "dtype: float64"
      ]
     },
     "execution_count": 2,
     "metadata": {},
     "output_type": "execute_result"
    }
   ],
   "source": [
    "dates = [datetime(2011, 1, 2), datetime(2011, 1, 5), datetime(2011, 1, 7),\n",
    "         datetime(2011, 1, 8), datetime(2011, 1, 10), datetime(2011, 1, 12)]\n",
    "ts = pd.Series(np.random.randn(6), index=dates)\n",
    "\n",
    "ts  # 时间序列"
   ]
  },
  {
   "cell_type": "code",
   "execution_count": 3,
   "id": "baf59f5f",
   "metadata": {},
   "outputs": [
    {
     "data": {
      "text/plain": [
       "DatetimeIndex(['2011-01-02', '2011-01-05', '2011-01-07', '2011-01-08',\n",
       "               '2011-01-10', '2011-01-12'],\n",
       "              dtype='datetime64[ns]', freq=None)"
      ]
     },
     "execution_count": 3,
     "metadata": {},
     "output_type": "execute_result"
    }
   ],
   "source": [
    "ts.index"
   ]
  },
  {
   "cell_type": "code",
   "execution_count": 4,
   "id": "3c6d4fd1",
   "metadata": {},
   "outputs": [
    {
     "data": {
      "text/plain": [
       "dtype('<M8[ns]')"
      ]
     },
     "execution_count": 4,
     "metadata": {},
     "output_type": "execute_result"
    }
   ],
   "source": [
    "ts.index.dtype  # pandas使用numpy的datetime64数据类型在纳秒级的分辨率下存储时间戳"
   ]
  },
  {
   "cell_type": "code",
   "execution_count": 5,
   "id": "f13c3f3e",
   "metadata": {},
   "outputs": [
    {
     "data": {
      "text/plain": [
       "Timestamp('2011-01-02 00:00:00')"
      ]
     },
     "execution_count": 5,
     "metadata": {},
     "output_type": "execute_result"
    }
   ],
   "source": [
    "stamp = ts.index[0]\n",
    "stamp"
   ]
  },
  {
   "cell_type": "code",
   "execution_count": 6,
   "id": "e2fd37de",
   "metadata": {},
   "outputs": [
    {
     "data": {
      "text/plain": [
       "2011-01-02    3.216417\n",
       "2011-01-05         NaN\n",
       "2011-01-07   -0.398324\n",
       "2011-01-08         NaN\n",
       "2011-01-10    2.062727\n",
       "2011-01-12         NaN\n",
       "dtype: float64"
      ]
     },
     "execution_count": 6,
     "metadata": {},
     "output_type": "execute_result"
    }
   ],
   "source": [
    "ts + ts[::2]  # 时间索引会自动对齐"
   ]
  },
  {
   "cell_type": "markdown",
   "id": "e11ea056",
   "metadata": {},
   "source": [
    "### 索引、选择、子集"
   ]
  },
  {
   "cell_type": "code",
   "execution_count": 7,
   "id": "1a2ed3b9",
   "metadata": {},
   "outputs": [
    {
     "name": "stdout",
     "output_type": "stream",
     "text": [
      "-0.19916212837293487\n",
      "1.0313633374270375\n",
      "1.0313633374270375\n"
     ]
    }
   ],
   "source": [
    "stamp = ts.index[2]\n",
    "print(ts[stamp])\n",
    "\n",
    "print(ts['1/10/2011'])\n",
    "print(ts['20110110'])"
   ]
  },
  {
   "cell_type": "code",
   "execution_count": 8,
   "id": "2de17b3f",
   "metadata": {},
   "outputs": [
    {
     "data": {
      "text/plain": [
       "2000-01-01    1.211994\n",
       "2000-01-02   -1.133383\n",
       "2000-01-03   -1.190788\n",
       "2000-01-04   -1.384380\n",
       "2000-01-05   -1.927081\n",
       "                ...   \n",
       "2002-09-22   -0.425516\n",
       "2002-09-23    0.449275\n",
       "2002-09-24    0.236186\n",
       "2002-09-25    0.579538\n",
       "2002-09-26   -0.381702\n",
       "Freq: D, Length: 1000, dtype: float64"
      ]
     },
     "execution_count": 8,
     "metadata": {},
     "output_type": "execute_result"
    }
   ],
   "source": [
    "longer_ts = pd.Series(np.random.randn(1000), index=pd.date_range('1/1/2000', periods=1000))\n",
    "longer_ts"
   ]
  },
  {
   "cell_type": "code",
   "execution_count": 9,
   "id": "48b307f1",
   "metadata": {},
   "outputs": [
    {
     "data": {
      "text/plain": [
       "2001-01-01    0.910115\n",
       "2001-01-02   -0.217219\n",
       "2001-01-03   -0.276753\n",
       "2001-01-04    0.649023\n",
       "2001-01-05   -1.471531\n",
       "                ...   \n",
       "2001-12-27   -1.145742\n",
       "2001-12-28    1.445529\n",
       "2001-12-29    0.214331\n",
       "2001-12-30    0.364197\n",
       "2001-12-31   -1.492766\n",
       "Freq: D, Length: 365, dtype: float64"
      ]
     },
     "execution_count": 9,
     "metadata": {},
     "output_type": "execute_result"
    }
   ],
   "source": [
    "longer_ts['2001']  # '2001'会被自动解释为年份"
   ]
  },
  {
   "cell_type": "code",
   "execution_count": 10,
   "id": "bc2d774f",
   "metadata": {},
   "outputs": [
    {
     "data": {
      "text/plain": [
       "2001-05-01   -0.006339\n",
       "2001-05-02    1.603279\n",
       "2001-05-03    0.503252\n",
       "2001-05-04   -0.068931\n",
       "2001-05-05    0.075273\n",
       "2001-05-06    0.697045\n",
       "2001-05-07    0.097354\n",
       "2001-05-08   -0.046130\n",
       "2001-05-09   -0.890969\n",
       "2001-05-10    1.239910\n",
       "2001-05-11   -0.013624\n",
       "2001-05-12    0.556206\n",
       "2001-05-13    0.623514\n",
       "2001-05-14    0.355818\n",
       "2001-05-15   -0.871199\n",
       "2001-05-16    1.269865\n",
       "2001-05-17    1.230412\n",
       "2001-05-18   -1.126494\n",
       "2001-05-19   -1.519000\n",
       "2001-05-20    0.665996\n",
       "2001-05-21    0.549444\n",
       "2001-05-22   -0.395556\n",
       "2001-05-23   -1.908281\n",
       "2001-05-24   -0.615338\n",
       "2001-05-25    0.270478\n",
       "2001-05-26   -1.815768\n",
       "2001-05-27   -0.821305\n",
       "2001-05-28   -0.034489\n",
       "2001-05-29   -0.032945\n",
       "2001-05-30   -0.229862\n",
       "2001-05-31   -0.791281\n",
       "Freq: D, dtype: float64"
      ]
     },
     "execution_count": 10,
     "metadata": {},
     "output_type": "execute_result"
    }
   ],
   "source": [
    "longer_ts['2001-05']"
   ]
  },
  {
   "cell_type": "code",
   "execution_count": 11,
   "id": "799e66e8",
   "metadata": {},
   "outputs": [
    {
     "data": {
      "text/plain": [
       "2011-01-07   -0.199162\n",
       "2011-01-08   -0.633558\n",
       "2011-01-10    1.031363\n",
       "2011-01-12   -0.108024\n",
       "dtype: float64"
      ]
     },
     "execution_count": 11,
     "metadata": {},
     "output_type": "execute_result"
    }
   ],
   "source": [
    "ts[datetime(2011, 1, 7):]  # 切片"
   ]
  },
  {
   "cell_type": "code",
   "execution_count": 12,
   "id": "113f0fca",
   "metadata": {},
   "outputs": [
    {
     "data": {
      "text/plain": [
       "2011-01-07   -0.199162\n",
       "2011-01-08   -0.633558\n",
       "2011-01-10    1.031363\n",
       "dtype: float64"
      ]
     },
     "execution_count": 12,
     "metadata": {},
     "output_type": "execute_result"
    }
   ],
   "source": [
    "ts['1/6/2011':'1/11/2011']  # 可以使用不包含在时间序列中的时间戳进行切片"
   ]
  },
  {
   "cell_type": "code",
   "execution_count": 13,
   "id": "88990603",
   "metadata": {},
   "outputs": [
    {
     "data": {
      "text/plain": [
       "2011-01-02    1.608209\n",
       "2011-01-05    0.150012\n",
       "2011-01-07   -0.199162\n",
       "2011-01-08   -0.633558\n",
       "dtype: float64"
      ]
     },
     "execution_count": 13,
     "metadata": {},
     "output_type": "execute_result"
    }
   ],
   "source": [
    "ts.truncate(after='1/9/2011')  # 也可以实例方法truncate()进行切片"
   ]
  },
  {
   "cell_type": "code",
   "execution_count": 14,
   "id": "411d857e",
   "metadata": {},
   "outputs": [
    {
     "data": {
      "text/html": [
       "<div>\n",
       "<style scoped>\n",
       "    .dataframe tbody tr th:only-of-type {\n",
       "        vertical-align: middle;\n",
       "    }\n",
       "\n",
       "    .dataframe tbody tr th {\n",
       "        vertical-align: top;\n",
       "    }\n",
       "\n",
       "    .dataframe thead th {\n",
       "        text-align: right;\n",
       "    }\n",
       "</style>\n",
       "<table border=\"1\" class=\"dataframe\">\n",
       "  <thead>\n",
       "    <tr style=\"text-align: right;\">\n",
       "      <th></th>\n",
       "      <th>Colorado</th>\n",
       "      <th>Texas</th>\n",
       "      <th>New York</th>\n",
       "      <th>Ohio</th>\n",
       "    </tr>\n",
       "  </thead>\n",
       "  <tbody>\n",
       "    <tr>\n",
       "      <th>2001-05-02</th>\n",
       "      <td>0.748980</td>\n",
       "      <td>-0.642998</td>\n",
       "      <td>0.048980</td>\n",
       "      <td>0.918110</td>\n",
       "    </tr>\n",
       "    <tr>\n",
       "      <th>2001-05-09</th>\n",
       "      <td>1.389099</td>\n",
       "      <td>0.260297</td>\n",
       "      <td>-0.292790</td>\n",
       "      <td>-1.419831</td>\n",
       "    </tr>\n",
       "    <tr>\n",
       "      <th>2001-05-16</th>\n",
       "      <td>-0.892697</td>\n",
       "      <td>1.828225</td>\n",
       "      <td>0.811874</td>\n",
       "      <td>1.093462</td>\n",
       "    </tr>\n",
       "    <tr>\n",
       "      <th>2001-05-23</th>\n",
       "      <td>0.707199</td>\n",
       "      <td>0.436346</td>\n",
       "      <td>-0.727763</td>\n",
       "      <td>-1.637269</td>\n",
       "    </tr>\n",
       "    <tr>\n",
       "      <th>2001-05-30</th>\n",
       "      <td>-0.976827</td>\n",
       "      <td>-2.837436</td>\n",
       "      <td>1.054650</td>\n",
       "      <td>-0.291494</td>\n",
       "    </tr>\n",
       "  </tbody>\n",
       "</table>\n",
       "</div>"
      ],
      "text/plain": [
       "            Colorado     Texas  New York      Ohio\n",
       "2001-05-02  0.748980 -0.642998  0.048980  0.918110\n",
       "2001-05-09  1.389099  0.260297 -0.292790 -1.419831\n",
       "2001-05-16 -0.892697  1.828225  0.811874  1.093462\n",
       "2001-05-23  0.707199  0.436346 -0.727763 -1.637269\n",
       "2001-05-30 -0.976827 -2.837436  1.054650 -0.291494"
      ]
     },
     "execution_count": 14,
     "metadata": {},
     "output_type": "execute_result"
    }
   ],
   "source": [
    "# 上面的操作对DataFrame同样适用\n",
    "dates = pd.date_range('1/1/2000', periods=100, freq='W-WED')\n",
    "long_df = pd.DataFrame(np.random.randn(100, 4),\n",
    "                       index=dates,\n",
    "                       columns=['Colorado', 'Texas', 'New York', 'Ohio'])\n",
    "\n",
    "long_df.loc['5-2001']"
   ]
  },
  {
   "cell_type": "markdown",
   "id": "e9336f26",
   "metadata": {},
   "source": [
    "### 含有重复索引的时间序列"
   ]
  },
  {
   "cell_type": "code",
   "execution_count": 15,
   "id": "0bf39d27",
   "metadata": {},
   "outputs": [
    {
     "data": {
      "text/plain": [
       "2000-01-01    0\n",
       "2000-01-02    1\n",
       "2000-01-02    2\n",
       "2000-01-02    3\n",
       "2000-01-03    4\n",
       "dtype: int64"
      ]
     },
     "execution_count": 15,
     "metadata": {},
     "output_type": "execute_result"
    }
   ],
   "source": [
    "dates = pd.DatetimeIndex(['1/1/2000', '1/2/2000', '1/2/2000', '1/2/2000', '1/3/2000'])\n",
    "dup_ts = pd.Series(np.arange(5), index=dates)\n",
    "\n",
    "dup_ts"
   ]
  },
  {
   "cell_type": "code",
   "execution_count": 16,
   "id": "2cb5310a",
   "metadata": {},
   "outputs": [
    {
     "data": {
      "text/plain": [
       "False"
      ]
     },
     "execution_count": 16,
     "metadata": {},
     "output_type": "execute_result"
    }
   ],
   "source": [
    "dup_ts.index.is_unique"
   ]
  },
  {
   "cell_type": "code",
   "execution_count": 17,
   "id": "4029bce0",
   "metadata": {},
   "outputs": [
    {
     "data": {
      "text/plain": [
       "4"
      ]
     },
     "execution_count": 17,
     "metadata": {},
     "output_type": "execute_result"
    }
   ],
   "source": [
    "dup_ts['1/3/2000']  # 不重复"
   ]
  },
  {
   "cell_type": "code",
   "execution_count": 18,
   "id": "edce71f6",
   "metadata": {},
   "outputs": [
    {
     "data": {
      "text/plain": [
       "2000-01-02    1\n",
       "2000-01-02    2\n",
       "2000-01-02    3\n",
       "dtype: int64"
      ]
     },
     "execution_count": 18,
     "metadata": {},
     "output_type": "execute_result"
    }
   ],
   "source": [
    "dup_ts['1/2/2000']  # 重复"
   ]
  },
  {
   "cell_type": "code",
   "execution_count": 19,
   "id": "0cd0092e",
   "metadata": {},
   "outputs": [
    {
     "data": {
      "text/plain": [
       "2000-01-01    0\n",
       "2000-01-02    2\n",
       "2000-01-03    4\n",
       "dtype: int64"
      ]
     },
     "execution_count": 19,
     "metadata": {},
     "output_type": "execute_result"
    }
   ],
   "source": [
    "grouped = dup_ts.groupby(level=0)\n",
    "grouped.mean()"
   ]
  },
  {
   "cell_type": "code",
   "execution_count": 20,
   "id": "c3e50381",
   "metadata": {},
   "outputs": [
    {
     "data": {
      "text/plain": [
       "2000-01-01    1\n",
       "2000-01-02    3\n",
       "2000-01-03    1\n",
       "dtype: int64"
      ]
     },
     "execution_count": 20,
     "metadata": {},
     "output_type": "execute_result"
    }
   ],
   "source": [
    "grouped.count()"
   ]
  },
  {
   "cell_type": "code",
   "execution_count": null,
   "id": "dd1bc870",
   "metadata": {},
   "outputs": [],
   "source": []
  }
 ],
 "metadata": {
  "kernelspec": {
   "display_name": "Python 3",
   "language": "python",
   "name": "python3"
  },
  "language_info": {
   "codemirror_mode": {
    "name": "ipython",
    "version": 3
   },
   "file_extension": ".py",
   "mimetype": "text/x-python",
   "name": "python",
   "nbconvert_exporter": "python",
   "pygments_lexer": "ipython3",
   "version": "3.7.3"
  }
 },
 "nbformat": 4,
 "nbformat_minor": 5
}
