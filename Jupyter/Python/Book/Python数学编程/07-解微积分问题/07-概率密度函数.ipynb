{
 "cells": [
  {
   "cell_type": "markdown",
   "id": "f67c9a11-06c4-41ce-8f9b-eccecaedf212",
   "metadata": {},
   "source": [
    "# 概率密度函数"
   ]
  },
  {
   "cell_type": "markdown",
   "id": "3680b845-75b2-4faa-be0c-50287662de03",
   "metadata": {},
   "source": [
    "概率密度函数P(x)表示一个随机变量的值接近于任意值x的概率，它也可以告诉我们x落在任何一个区间内的概率。  \n",
    "概率密度函数有两个性质：\n",
    "- 任意x对应的函数值总是大于等于0，因为概率不能小于0\n",
    "- 概率密度函数在(-∞, ∞)上的定积分的值等于1"
   ]
  },
  {
   "cell_type": "code",
   "execution_count": 1,
   "id": "557610c8-6944-4937-8094-1ec38a3e53b0",
   "metadata": {},
   "outputs": [],
   "source": [
    "import sympy as sp"
   ]
  },
  {
   "cell_type": "code",
   "execution_count": 2,
   "id": "90fa827a-fa3f-495e-8303-011e8b8e7290",
   "metadata": {},
   "outputs": [
    {
     "data": {
      "text/latex": [
       "$\\displaystyle 0.135905121983278$"
      ],
      "text/plain": [
       "0.135905121983278"
      ]
     },
     "execution_count": 2,
     "metadata": {},
     "output_type": "execute_result"
    }
   ],
   "source": [
    "x = sp.Symbol('x')\n",
    "p = sp.exp(-(x-10)**2/2)/sp.sqrt(2*sp.pi)\n",
    "sp.Integral(p, (x, 11, 12)).doit().evalf()"
   ]
  },
  {
   "cell_type": "code",
   "execution_count": 3,
   "id": "2c6717ee-8722-4dfd-af7f-3d0364bc8cdb",
   "metadata": {},
   "outputs": [
    {
     "data": {
      "text/latex": [
       "$\\displaystyle 1.0$"
      ],
      "text/plain": [
       "1.00000000000000"
      ]
     },
     "execution_count": 3,
     "metadata": {},
     "output_type": "execute_result"
    }
   ],
   "source": [
    "sp.Integral(p, (x, sp.S.NegativeInfinity, sp.S.Infinity)).doit().evalf()"
   ]
  },
  {
   "cell_type": "code",
   "execution_count": null,
   "id": "1cbd9f53-a533-410d-9afe-0d908d05c934",
   "metadata": {},
   "outputs": [],
   "source": []
  }
 ],
 "metadata": {
  "kernelspec": {
   "display_name": "Python 3 (ipykernel)",
   "language": "python",
   "name": "python3"
  },
  "language_info": {
   "codemirror_mode": {
    "name": "ipython",
    "version": 3
   },
   "file_extension": ".py",
   "mimetype": "text/x-python",
   "name": "python",
   "nbconvert_exporter": "python",
   "pygments_lexer": "ipython3",
   "version": "3.7.3"
  }
 },
 "nbformat": 4,
 "nbformat_minor": 5
}
