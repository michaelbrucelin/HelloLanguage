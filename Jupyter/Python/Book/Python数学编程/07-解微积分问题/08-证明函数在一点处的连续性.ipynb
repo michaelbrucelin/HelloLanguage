{
 "cells": [
  {
   "cell_type": "markdown",
   "id": "defbc86e-31db-4848-8604-85fb98587368",
   "metadata": {},
   "source": [
    "# 证明函数在一点处的连续性"
   ]
  },
  {
   "cell_type": "markdown",
   "id": "aa4e285e-7568-438d-acc4-9c9f7475413e",
   "metadata": {},
   "source": [
    "一个函数在某一点的左极限等于右极限，并且左右极限等于这一点的函数值，则函数在这个点连续。"
   ]
  },
  {
   "cell_type": "code",
   "execution_count": 1,
   "id": "64036811-1014-4025-b4d1-159f0c33525a",
   "metadata": {},
   "outputs": [],
   "source": [
    "import sympy as sp"
   ]
  },
  {
   "cell_type": "code",
   "execution_count": 2,
   "id": "a953f394-2ea9-481a-85ba-e7fda15f908f",
   "metadata": {},
   "outputs": [],
   "source": [
    "def check_continuity(f, var, a):\n",
    "    l1 = sp.Limit(f, var, a, dir='+').doit()\n",
    "    l2 = sp.Limit(f, var, a, dir='-').doit()\n",
    "    f_val = f.subs({var:a})\n",
    "\n",
    "    if l1 == l2 and f_val == l1:\n",
    "        print('{0} is continuous at {1}'.format(f, a))\n",
    "    else:\n",
    "        print('{0} is not continuous at {1}'.format(f, a))"
   ]
  },
  {
   "cell_type": "code",
   "execution_count": 3,
   "id": "4f52a8c3-85e7-464b-a9e9-238dccedf15c",
   "metadata": {},
   "outputs": [
    {
     "name": "stdin",
     "output_type": "stream",
     "text": [
      "Enter a function in one variable:  1/x\n",
      "Enter the variable:  x\n",
      "Enter the point to check the continuity at:  1\n"
     ]
    },
    {
     "name": "stdout",
     "output_type": "stream",
     "text": [
      "1/x is continuous at 1.0\n"
     ]
    }
   ],
   "source": [
    "if __name__ == '__main__':\n",
    "    f = input('Enter a function in one variable: ')\n",
    "    var = input('Enter the variable: ')\n",
    "    a = float(input('Enter the point to check the continuity at: '))\n",
    "    try:\n",
    "        f = sp.sympify(f)\n",
    "    except sp.core.sympify.SympifyError:\n",
    "        print('Invalid function entered')\n",
    "    else:\n",
    "        var = sp.Symbol(var)\n",
    "        d = check_continuity(f, var, a)\n",
    "# 1/x    x    1"
   ]
  },
  {
   "cell_type": "code",
   "execution_count": 4,
   "id": "1e51262d-48d0-41b0-a05b-5d63d8bb2a35",
   "metadata": {},
   "outputs": [
    {
     "name": "stdin",
     "output_type": "stream",
     "text": [
      "Enter a function in one variable:  1/x\n",
      "Enter the variable:  x\n",
      "Enter the point to check the continuity at:  0\n"
     ]
    },
    {
     "name": "stdout",
     "output_type": "stream",
     "text": [
      "1/x is not continuous at 0.0\n"
     ]
    }
   ],
   "source": [
    "if __name__ == '__main__':\n",
    "    f = input('Enter a function in one variable: ')\n",
    "    var = input('Enter the variable: ')\n",
    "    a = float(input('Enter the point to check the continuity at: '))\n",
    "    try:\n",
    "        f = sp.sympify(f)\n",
    "    except sp.core.sympify.SympifyError:\n",
    "        print('Invalid function entered')\n",
    "    else:\n",
    "        var = sp.Symbol(var)\n",
    "        d = check_continuity(f, var, a)\n",
    "# 1/x    x    0"
   ]
  },
  {
   "cell_type": "code",
   "execution_count": 5,
   "id": "2b7627ce-8c11-4310-a3ae-39025badf922",
   "metadata": {},
   "outputs": [
    {
     "data": {
      "image/png": "[encoded data removed]",
      "text/plain": [
       "<Figure size 432x288 with 1 Axes>"
      ]
     },
     "metadata": {
      "needs_background": "light"
     },
     "output_type": "display_data"
    },
    {
     "data": {
      "text/plain": [
       "<sympy.plotting.plot.Plot at 0x7f656a365fd0>"
      ]
     },
     "execution_count": 5,
     "metadata": {},
     "output_type": "execute_result"
    }
   ],
   "source": [
    "x = sp.Symbol('x')\n",
    "f = 1/x\n",
    "\n",
    "sp.plotting.plot(f, (x, -10, 10))"
   ]
  },
  {
   "cell_type": "code",
   "execution_count": null,
   "id": "bee13f02-d015-48ac-9bf0-68d35279b16c",
   "metadata": {},
   "outputs": [],
   "source": []
  }
 ],
 "metadata": {
  "kernelspec": {
   "display_name": "Python 3 (ipykernel)",
   "language": "python",
   "name": "python3"
  },
  "language_info": {
   "codemirror_mode": {
    "name": "ipython",
    "version": 3
   },
   "file_extension": ".py",
   "mimetype": "text/x-python",
   "name": "python",
   "nbconvert_exporter": "python",
   "pygments_lexer": "ipython3",
   "version": "3.7.3"
  }
 },
 "nbformat": 4,
 "nbformat_minor": 5
}
