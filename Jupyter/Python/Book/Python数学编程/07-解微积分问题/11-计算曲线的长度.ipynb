{
 "cells": [
  {
   "cell_type": "markdown",
   "id": "1d34e327-34d5-4d70-bfdf-5c6f5bf27427",
   "metadata": {},
   "source": [
    "# 计算曲线的长度"
   ]
  },
  {
   "cell_type": "code",
   "execution_count": 1,
   "id": "0e0a8c87-3a52-4fbb-90f2-625db4a39862",
   "metadata": {},
   "outputs": [],
   "source": [
    "import sympy as sp"
   ]
  },
  {
   "cell_type": "code",
   "execution_count": 2,
   "id": "f99b1731-6d81-4f67-9b09-dbc4ff2e3aba",
   "metadata": {},
   "outputs": [],
   "source": [
    "def find_length(fx, var, a, b):\n",
    "    deriv = sp.Derivative(fx, var).doit()\n",
    "    length = sp.Integral(sp.sqrt(1+deriv**2), (var, a, b)).doit().evalf()\n",
    "    return length"
   ]
  },
  {
   "cell_type": "code",
   "execution_count": 3,
   "id": "a9582864-21d0-47bf-b976-91bdd65cadc1",
   "metadata": {},
   "outputs": [
    {
     "name": "stdin",
     "output_type": "stream",
     "text": [
      "Enter a function in one variable:  2*x**2 + 3*x + 1\n",
      "Enter the variable:  x\n",
      "Enter the lower limit of the variable:  -5\n",
      "Enter the upper limit of the variable:  10\n"
     ]
    },
    {
     "name": "stdout",
     "output_type": "stream",
     "text": [
      "Length of 2*x**2 + 3*x + 1 between -5.0 and 10.0 is: 268.372650946022 \n"
     ]
    }
   ],
   "source": [
    "if __name__ == '__main__':\n",
    "    f = input('Enter a function in one variable: ')\n",
    "    var = input('Enter the variable: ')\n",
    "    l = float(input('Enter the lower limit of the variable: '))\n",
    "    u = float(input('Enter the upper limit of the variable: '))\n",
    "    \n",
    "    try:\n",
    "        f = sp.sympify(f)\n",
    "    except sp.core.sympify.SympifyError:\n",
    "        print('Invalid function entered')\n",
    "    else:\n",
    "        var = sp.Symbol(var)\n",
    "        print('Length of {0} between {1} and {2} is: {3} '.format(f, l, u, find_length(f, var, l, u)))\n",
    "# 2*x**2 + 3*x + 1    x    -5    10"
   ]
  },
  {
   "cell_type": "code",
   "execution_count": 4,
   "id": "150161fc-2aa2-4c6e-a745-a5f8952cf4bc",
   "metadata": {},
   "outputs": [
    {
     "data": {
      "image/png": "[encoded data removed]",
      "text/plain": [
       "<Figure size 432x288 with 1 Axes>"
      ]
     },
     "metadata": {
      "needs_background": "light"
     },
     "output_type": "display_data"
    },
    {
     "data": {
      "text/plain": [
       "<sympy.plotting.plot.Plot at 0x7f25c41647b8>"
      ]
     },
     "execution_count": 4,
     "metadata": {},
     "output_type": "execute_result"
    }
   ],
   "source": [
    "x = sp.Symbol('x')\n",
    "f = 2*x**2 + 3*x + 1\n",
    "\n",
    "sp.plotting.plot(f, (x, -10, 10))"
   ]
  },
  {
   "cell_type": "code",
   "execution_count": null,
   "id": "f71656af-64b8-4e93-aa34-77cce732979a",
   "metadata": {},
   "outputs": [],
   "source": []
  }
 ],
 "metadata": {
  "kernelspec": {
   "display_name": "Python 3 (ipykernel)",
   "language": "python",
   "name": "python3"
  },
  "language_info": {
   "codemirror_mode": {
    "name": "ipython",
    "version": 3
   },
   "file_extension": ".py",
   "mimetype": "text/x-python",
   "name": "python",
   "nbconvert_exporter": "python",
   "pygments_lexer": "ipython3",
   "version": "3.7.3"
  }
 },
 "nbformat": 4,
 "nbformat_minor": 5
}
