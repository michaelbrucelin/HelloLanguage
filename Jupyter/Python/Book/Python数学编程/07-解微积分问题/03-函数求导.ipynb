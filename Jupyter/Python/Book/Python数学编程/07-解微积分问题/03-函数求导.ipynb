{
 "cells": [
  {
   "cell_type": "markdown",
   "id": "fd993452-29db-4295-bb96-9f041ee37c0f",
   "metadata": {},
   "source": [
    "# 函数求导"
   ]
  },
  {
   "cell_type": "markdown",
   "id": "b308a548-aaa2-4b27-bd34-e67bf1ef32b0",
   "metadata": {},
   "source": [
    "函数的导数是因变量关于自变量的变化率。"
   ]
  },
  {
   "cell_type": "code",
   "execution_count": 1,
   "id": "8e48270e-f004-4fd6-86e9-7ad873511b3b",
   "metadata": {},
   "outputs": [],
   "source": [
    "import sympy as sp\n",
    "\n",
    "# sympy的Derivative类可以计算函数的导数"
   ]
  },
  {
   "cell_type": "code",
   "execution_count": 2,
   "id": "267cd497-3b32-4873-82a5-9095b5e9ebe1",
   "metadata": {},
   "outputs": [
    {
     "data": {
      "text/latex": [
       "$\\displaystyle \\frac{d}{d t} \\left(5 t^{2} + 2 t + 8\\right)$"
      ],
      "text/plain": [
       "Derivative(5*t**2 + 2*t + 8, t)"
      ]
     },
     "execution_count": 2,
     "metadata": {},
     "output_type": "execute_result"
    }
   ],
   "source": [
    "t = sp.Symbol('t')\n",
    "St = 5*t**2 + 2*t + 8\n",
    "\n",
    "sp.Derivative(St, t)"
   ]
  },
  {
   "cell_type": "code",
   "execution_count": 3,
   "id": "96b594ad-ea26-47f8-a31b-b656b2985435",
   "metadata": {},
   "outputs": [
    {
     "data": {
      "text/latex": [
       "$\\displaystyle 10 t + 2$"
      ],
      "text/plain": [
       "10*t + 2"
      ]
     },
     "execution_count": 3,
     "metadata": {},
     "output_type": "execute_result"
    }
   ],
   "source": [
    "d = sp.Derivative(St, t)\n",
    "d.doit()"
   ]
  },
  {
   "cell_type": "code",
   "execution_count": 4,
   "id": "5948a5cc-3078-4e59-bd55-d451714a2432",
   "metadata": {},
   "outputs": [
    {
     "data": {
      "text/latex": [
       "$\\displaystyle 10 t_{1} + 2$"
      ],
      "text/plain": [
       "10*t1 + 2"
      ]
     },
     "execution_count": 4,
     "metadata": {},
     "output_type": "execute_result"
    }
   ],
   "source": [
    "t1 = sp.Symbol('t1')\n",
    "d.doit().subs({t: t1})  # 计算t1时刻的导数值"
   ]
  },
  {
   "cell_type": "code",
   "execution_count": 5,
   "id": "3dfd6330-f25e-40d9-9804-b94b7bbaae83",
   "metadata": {},
   "outputs": [
    {
     "data": {
      "text/latex": [
       "$\\displaystyle 12$"
      ],
      "text/plain": [
       "12"
      ]
     },
     "execution_count": 5,
     "metadata": {},
     "output_type": "execute_result"
    }
   ],
   "source": [
    "d.doit().subs({t: 1})   # 计算 1 时刻的导数值"
   ]
  },
  {
   "cell_type": "code",
   "execution_count": 6,
   "id": "68b57b30-7193-4258-be18-af5e65450724",
   "metadata": {},
   "outputs": [
    {
     "data": {
      "text/latex": [
       "$\\displaystyle \\left(2 x + 1\\right) \\left(x^{3} + x^{2} + x\\right) + \\left(x^{2} + x\\right) \\left(3 x^{2} + 2 x + 1\\right)$"
      ],
      "text/plain": [
       "(2*x + 1)*(x**3 + x**2 + x) + (x**2 + x)*(3*x**2 + 2*x + 1)"
      ]
     },
     "execution_count": 6,
     "metadata": {},
     "output_type": "execute_result"
    }
   ],
   "source": [
    "# 计算一个复杂函数的导数\n",
    "x = sp.Symbol('x')\n",
    "f = (x**3 + x**2 + x)*(x**2 + x)\n",
    "sp.Derivative(f, x).doit()"
   ]
  },
  {
   "cell_type": "code",
   "execution_count": 7,
   "id": "0060fc74-8ab6-4ec2-aebd-e3f05a451ff4",
   "metadata": {},
   "outputs": [
    {
     "data": {
      "text/latex": [
       "$\\displaystyle 5 x^{4} + 8 x^{3} + 6 x^{2} + 2 x$"
      ],
      "text/plain": [
       "5*x**4 + 8*x**3 + 6*x**2 + 2*x"
      ]
     },
     "execution_count": 7,
     "metadata": {},
     "output_type": "execute_result"
    }
   ],
   "source": [
    "sp.expand(sp.Derivative(f, x).doit())"
   ]
  },
  {
   "cell_type": "markdown",
   "id": "3f137151-5610-4c96-af94-c3d191c085d8",
   "metadata": {},
   "source": [
    "## 求导计算器"
   ]
  },
  {
   "cell_type": "code",
   "execution_count": 8,
   "id": "78da89e9-e280-4d3e-9764-ed52b9c0a32f",
   "metadata": {},
   "outputs": [],
   "source": [
    "def derivative(f, var):\n",
    "    var = sp.Symbol(var)\n",
    "    d = sp.Derivative(f, var).doit()\n",
    "    print(d)"
   ]
  },
  {
   "cell_type": "code",
   "execution_count": 9,
   "id": "3899de1a-02c3-49bd-9d57-98cd429ce0a1",
   "metadata": {},
   "outputs": [
    {
     "name": "stdin",
     "output_type": "stream",
     "text": [
      "Enter a function:  2*x**2 + 3*x + 1\n",
      "Enter the variable to differentiate with respect to:  x\n"
     ]
    },
    {
     "name": "stdout",
     "output_type": "stream",
     "text": [
      "4*x + 3\n"
     ]
    }
   ],
   "source": [
    "if __name__ == '__main__':\n",
    "    f = input('Enter a function: ')\n",
    "    var = input('Enter the variable to differentiate with respect to: ')\n",
    "    try:\n",
    "        f = sp.sympify(f)\n",
    "    except sp.core.sympify.SympifyError:\n",
    "        print('Invalid input')\n",
    "    else:\n",
    "        derivative(f, var)"
   ]
  },
  {
   "cell_type": "code",
   "execution_count": 10,
   "id": "a16d9f8d-3209-43d3-82c9-89a21cc96bc4",
   "metadata": {},
   "outputs": [
    {
     "name": "stdin",
     "output_type": "stream",
     "text": [
      "Enter a function:  2*x**2 + y**2\n",
      "Enter the variable to differentiate with respect to:  x\n"
     ]
    },
    {
     "name": "stdout",
     "output_type": "stream",
     "text": [
      "4*x\n"
     ]
    }
   ],
   "source": [
    "if __name__ == '__main__':\n",
    "    f = input('Enter a function: ')\n",
    "    var = input('Enter the variable to differentiate with respect to: ')\n",
    "    try:\n",
    "        f = sp.sympify(f)\n",
    "    except sp.core.sympify.SympifyError:\n",
    "        print('Invalid input')\n",
    "    else:\n",
    "        derivative(f, var)"
   ]
  },
  {
   "cell_type": "markdown",
   "id": "335fb34d-88a8-4ccf-8cc7-12a198a8ede9",
   "metadata": {},
   "source": [
    "## 求偏导数"
   ]
  },
  {
   "cell_type": "markdown",
   "id": "a0e1f941-ebcc-401c-8c3d-41ffbf212cbc",
   "metadata": {},
   "source": [
    "对多元函数的其中一个自变量进行求导，即求函数的偏导数。  \n",
    "上面最后一个例子就是求偏导数。"
   ]
  },
  {
   "cell_type": "code",
   "execution_count": null,
   "id": "67ec2ed7-4c80-4041-ae6b-8380b2b8ddc8",
   "metadata": {},
   "outputs": [],
   "source": []
  }
 ],
 "metadata": {
  "kernelspec": {
   "display_name": "Python 3 (ipykernel)",
   "language": "python",
   "name": "python3"
  },
  "language_info": {
   "codemirror_mode": {
    "name": "ipython",
    "version": 3
   },
   "file_extension": ".py",
   "mimetype": "text/x-python",
   "name": "python",
   "nbconvert_exporter": "python",
   "pygments_lexer": "ipython3",
   "version": "3.7.3"
  }
 },
 "nbformat": 4,
 "nbformat_minor": 5
}
