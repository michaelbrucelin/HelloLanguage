{
 "cells": [
  {
   "cell_type": "markdown",
   "id": "d3c60fc2-7311-4719-9903-88e2d1493820",
   "metadata": {},
   "source": [
    "# 用梯度上升法求全局最大值"
   ]
  },
  {
   "cell_type": "markdown",
   "id": "44c2de92-9c91-406c-966f-ddb7ea4f28ec",
   "metadata": {},
   "source": [
    "梯度上升法（gradient ascent method）是一种迭代求全局最大值的方法，由于梯度上升法需要大量的计算，因此它非常适合程序化求解而不是手动求解。"
   ]
  },
  {
   "cell_type": "code",
   "execution_count": null,
   "id": "4c1ba094-bd49-4998-829c-9b58e50191b8",
   "metadata": {},
   "outputs": [],
   "source": []
  }
 ],
 "metadata": {
  "kernelspec": {
   "display_name": "Python 3 (ipykernel)",
   "language": "python",
   "name": "python3"
  },
  "language_info": {
   "codemirror_mode": {
    "name": "ipython",
    "version": 3
   },
   "file_extension": ".py",
   "mimetype": "text/x-python",
   "name": "python",
   "nbconvert_exporter": "python",
   "pygments_lexer": "ipython3",
   "version": "3.7.3"
  }
 },
 "nbformat": 4,
 "nbformat_minor": 5
}
