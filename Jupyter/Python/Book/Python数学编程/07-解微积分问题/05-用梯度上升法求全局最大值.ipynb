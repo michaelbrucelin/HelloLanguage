{
 "cells": [
  {
   "cell_type": "markdown",
   "id": "d3c60fc2-7311-4719-9903-88e2d1493820",
   "metadata": {},
   "source": [
    "# 用梯度上升法求全局最大值"
   ]
  },
  {
   "cell_type": "markdown",
   "id": "44c2de92-9c91-406c-966f-ddb7ea4f28ec",
   "metadata": {},
   "source": [
    "梯度上升法（gradient ascent method）是一种迭代求全局最大值的方法，由于梯度上升法需要大量的计算，因此它非常适合程序化求解而不是手动求解。"
   ]
  },
  {
   "cell_type": "code",
   "execution_count": 1,
   "id": "4c1ba094-bd49-4998-829c-9b58e50191b8",
   "metadata": {},
   "outputs": [],
   "source": [
    "import sympy as sp\n",
    "import math"
   ]
  },
  {
   "cell_type": "markdown",
   "id": "93a9b18e-2195-4ea7-a14e-c3ee58428bf3",
   "metadata": {},
   "source": [
    "这里以找一个合适的角度Θ，使抛出的物体能飞的最远为例。  \n",
    "若抛射速度为u，角度为Θ：  \n",
    "飞行时间：t = 2 * usinθ/g  \n",
    "水平飞行距离：R = ucosθ * t = u<sup>2</sup>sin2θ/g"
   ]
  },
  {
   "cell_type": "markdown",
   "id": "c3cd3e94-84f8-4f20-8ce1-b237d8295b6d",
   "metadata": {},
   "source": [
    "梯度上升法是一种迭代方法：从θ的一个初始值开始，例如0.001或θ<sub>old</sub>=0.001，并逐渐接近对应于最大射程距离的θ值。  \n",
    "逐步接近的方程如下：  \n",
    "θ<sub>new</sub> = θ<sub>old</sub> + λdR/dθ\n",
    "其中，λ表示步长，dR/dθ是R关于θ的导数。设定θ<sub>old</sub>=0.001后，按下述步骤进行：  \n",
    "1. 使用之前的公式计算θ<sub>new</sub>\n",
    "2. 若θ<sub>new</sub> - θ<sub>old</sub>的绝对值大于设定值ε，则定义θ<sub>old</sub> = θ<sub>new</sub>并返回步骤1，否则执行步骤3\n",
    "3. θ<sub>new</sub>是R取最大值时对应的θ的近似值\n",
    "\n",
    "这里的epsilon（ε）值的大小决定算法何时停止迭代，后面会继续讨论ε的设定。"
   ]
  },
  {
   "cell_type": "code",
   "execution_count": 2,
   "id": "e7625e61-ca34-4b15-aa4d-d253a6f6cd99",
   "metadata": {},
   "outputs": [],
   "source": [
    "def grad_ascent(x0, f1x, x):\n",
    "    epsilon = 1e-6\n",
    "    step_size = 1e-4\n",
    "    x_old = x0\n",
    "    x_new = x_old + step_size * f1x.subs({x:x_old}).evalf()\n",
    "    while abs(x_new - x_old) > epsilon:\n",
    "        x_old = x_new\n",
    "        x_new = x_old + step_size * f1x.subs({x:x_old}).evalf()\n",
    "    return x_new"
   ]
  },
  {
   "cell_type": "code",
   "execution_count": 3,
   "id": "c70ace27-42d2-4fe3-b743-2f41cbe7d9bf",
   "metadata": {},
   "outputs": [],
   "source": [
    "def find_max_theta(R, theta):\n",
    "    R1theta = sp.Derivative(R, theta).doit()\n",
    "    theta0 = 1e-3\n",
    "    theta_max = grad_ascent(theta0, R1theta, theta)\n",
    "    return theta_max"
   ]
  },
  {
   "cell_type": "code",
   "execution_count": 4,
   "id": "9a7c4433-f7c6-49c2-bb00-238efc4bee09",
   "metadata": {},
   "outputs": [
    {
     "name": "stdout",
     "output_type": "stream",
     "text": [
      "Theta: 44.997815081691805\n",
      "Maximum Range: 63.7755100185965\n"
     ]
    }
   ],
   "source": [
    "if __name__ == '__main__':\n",
    "    g = 9.8\n",
    "    u = 25\n",
    "    theta = sp.Symbol('theta')\n",
    "    R = u**2*sp.sin(2*theta)/g\n",
    "    theta_max = find_max_theta(R, theta)\n",
    "    print('Theta: {0}'.format(math.degrees(theta_max)))\n",
    "    print('Maximum Range: {0}'.format(R.subs({theta:theta_max})))"
   ]
  },
  {
   "cell_type": "markdown",
   "id": "e90602f5-1fc9-4bf8-b3c5-2b20da59f72f",
   "metadata": {},
   "source": [
    "理论值时45°角抛射，水平距离最远，看到结果还是很接近的。"
   ]
  },
  {
   "cell_type": "markdown",
   "id": "d10fb2cb-83e9-4bc3-952d-ef1c9b15b75f",
   "metadata": {},
   "source": [
    "## 梯度上升法的通用程序"
   ]
  },
  {
   "cell_type": "code",
   "execution_count": 5,
   "id": "e73fc4aa-3261-46a4-bdbd-1a107aa02569",
   "metadata": {},
   "outputs": [],
   "source": [
    "def common_grad_ascent():\n",
    "    f = input('Enter a function in one variable: ')\n",
    "    var = input('Enter the variable to differentiate with respect to: ')\n",
    "    var0 = float(input('Enter the initial value of the variable: '))\n",
    "    try:\n",
    "        f = sp.sympify(f)\n",
    "    except sp.core.sympify.SympifyError:\n",
    "        print('Invalid function entered')\n",
    "    else:\n",
    "        var = sp.Symbol(var)\n",
    "        d = sp.Derivative(f, var).doit()\n",
    "        var_max = grad_ascent(var0, d, var)\n",
    "        print('{0}: {1}'.format(var.name, var_max))\n",
    "        print('Maximum value: {0}'.format(f.subs({var:var_max})))"
   ]
  },
  {
   "cell_type": "code",
   "execution_count": 6,
   "id": "b0199038-b70f-4394-8009-449fdec81ce4",
   "metadata": {},
   "outputs": [
    {
     "name": "stdin",
     "output_type": "stream",
     "text": [
      "Enter a function in one variable:  25*25*sin(2*theta)/9.8\n",
      "Enter the variable to differentiate with respect to:  theta\n",
      "Enter the initial value of the variable:  0.001\n"
     ]
    },
    {
     "name": "stdout",
     "output_type": "stream",
     "text": [
      "theta: 0.785360029379083\n",
      "Maximum value: 63.7755100185965\n"
     ]
    }
   ],
   "source": [
    "if __name__ == '__main__':\n",
    "    common_grad_ascent()\n",
    "    # 25*25*sin(2*theta)/9.8    theta    0.001"
   ]
  },
  {
   "cell_type": "code",
   "execution_count": 7,
   "id": "53e1de5f-1294-4e67-a24e-67ea88ee4769",
   "metadata": {},
   "outputs": [
    {
     "name": "stdin",
     "output_type": "stream",
     "text": [
      "Enter a function in one variable:  cos(y)\n",
      "Enter the variable to differentiate with respect to:  y\n",
      "Enter the initial value of the variable:  0.01\n"
     ]
    },
    {
     "name": "stdout",
     "output_type": "stream",
     "text": [
      "y: 0.00999900001666658\n",
      "Maximum value: 0.999950010415832\n"
     ]
    }
   ],
   "source": [
    "if __name__ == '__main__':\n",
    "    common_grad_ascent()\n",
    "    # cos(y)    y    0.01"
   ]
  },
  {
   "cell_type": "code",
   "execution_count": 8,
   "id": "df7d4627-afec-48d0-ba78-a93f08b8f74f",
   "metadata": {},
   "outputs": [
    {
     "name": "stdin",
     "output_type": "stream",
     "text": [
      "Enter a function in one variable:  cos(y) + k \n",
      "Enter the variable to differentiate with respect to:  y\n",
      "Enter the initial value of the variable:  0.01\n"
     ]
    },
    {
     "name": "stdout",
     "output_type": "stream",
     "text": [
      "y: 0.00999900001666658\n",
      "Maximum value: k + 0.999950010415832\n"
     ]
    }
   ],
   "source": [
    "if __name__ == '__main__':\n",
    "    common_grad_ascent()\n",
    "    # cos(y) + k    y    0.01"
   ]
  },
  {
   "cell_type": "markdown",
   "id": "fcf8de42-73f6-42bf-820d-2cd4f77452fd",
   "metadata": {},
   "source": [
    "## 关于初始值的附加说明"
   ]
  },
  {
   "cell_type": "markdown",
   "id": "54546b61-4f9e-4e41-89cb-7a97d8aaf0cf",
   "metadata": {},
   "source": [
    "开始迭代梯度上升法时的变量初始值在算法中起着非常重要的作用。考虑之前使用过的函数x<sup>5</sup> - 30x<sup>3</sup> + 50x，这里我们使用上面的梯度上升法的通用程序来计算最大值："
   ]
  },
  {
   "cell_type": "code",
   "execution_count": 9,
   "id": "80e86a93-e190-4374-9fb5-6d789f902b9e",
   "metadata": {},
   "outputs": [
    {
     "data": {
      "image/png": "[encoded data removed]",
      "text/plain": [
       "<Figure size 432x288 with 1 Axes>"
      ]
     },
     "metadata": {
      "needs_background": "light"
     },
     "output_type": "display_data"
    },
    {
     "data": {
      "text/plain": [
       "<sympy.plotting.plot.Plot at 0x7f7fe14a1d68>"
      ]
     },
     "execution_count": 9,
     "metadata": {},
     "output_type": "execute_result"
    }
   ],
   "source": [
    "x = sp.Symbol('x')\n",
    "f = x**5 - 30*x**3 + 50*x\n",
    "\n",
    "sp.plotting.plot(f, (x, -5, 5))"
   ]
  },
  {
   "cell_type": "code",
   "execution_count": 10,
   "id": "b4aa98a5-9ea6-4a21-b7ac-d9d8e4c256c7",
   "metadata": {},
   "outputs": [
    {
     "name": "stdin",
     "output_type": "stream",
     "text": [
      "Enter a function in one variable:  x**5 - 30*x**3 + 50*x\n",
      "Enter the variable to differentiate with respect to:  x\n",
      "Enter the initial value of the variable:  -2\n"
     ]
    },
    {
     "name": "stdout",
     "output_type": "stream",
     "text": [
      "x: -4.17445116397103\n",
      "Maximum value: 705.959460322318\n"
     ]
    }
   ],
   "source": [
    "if __name__ == '__main__':\n",
    "    common_grad_ascent()\n",
    "    # x**5 - 30*x**3 + 50*x    x    -2"
   ]
  },
  {
   "cell_type": "markdown",
   "id": "b3be90bb-2d2e-4432-a8e6-d8e65b415d37",
   "metadata": {},
   "source": [
    "当找到最近的峰值时，梯度上升法就停止了，但最近的峰值并不总是全局的最大值。在这里例子中，如果你从初始值-2开始出发，程序停止时所在的峰值恰巧是定义域中的全局最大值。为了进一步验证，我们尝试一个不同的初始值："
   ]
  },
  {
   "cell_type": "code",
   "execution_count": 11,
   "id": "2ec6efa0-99cd-4470-b31e-2ccbcce76b44",
   "metadata": {},
   "outputs": [
    {
     "name": "stdin",
     "output_type": "stream",
     "text": [
      "Enter a function in one variable:  x**5 - 30*x**3 + 50*x\n",
      "Enter the variable to differentiate with respect to:  x\n",
      "Enter the initial value of the variable:  0.5\n"
     ]
    },
    {
     "name": "stdout",
     "output_type": "stream",
     "text": [
      "x: 0.757452532565767\n",
      "Maximum value: 25.0846622605419\n"
     ]
    }
   ],
   "source": [
    "if __name__ == '__main__':\n",
    "    common_grad_ascent()\n",
    "    # x**5 - 30*x**3 + 50*x    x    0.5"
   ]
  },
  {
   "cell_type": "markdown",
   "id": "a73e68d3-fcf2-4b96-87f7-6ece00e4e3b6",
   "metadata": {},
   "source": [
    "因此，我们使用该方法时，必须仔细选择初始值。有些改进的算法也在试着解决这个问题。"
   ]
  },
  {
   "cell_type": "markdown",
   "id": "778c9476-4cc5-416b-9775-e2c8a9f74a79",
   "metadata": {},
   "source": [
    "## 步长和epsilon的角色"
   ]
  },
  {
   "cell_type": "markdown",
   "id": "274f15e6-228f-454f-a157-a16645d628b3",
   "metadata": {},
   "source": [
    "在梯度上升算法中，变量的下一个值的计算公式为θ<sub>new</sub> = θ<sub>old</sub> + λdR/dθ，其中λ表示步长。步长决定了下一步的距离，它应该被设置的很小，以避免越过峰值。换句话说，如果x的当前值接近于函数的最大值点，那么下一步不应该越过这个峰值，否则算法将失效。另外，非常小的步长值将花费更多的计算时间。之前我们使用了固定的步长10<sup>-3</sup>，但是这个值并不适用于所有的函数。  \n",
    "epsilon的值（ε）决定何时停止算法的迭代，它应该是一个足够小的数，小到我们确信x的值不再变化。我们希望一阶导数f<sup>'</sup>(x)在最大值点处为0，并且在理想情况下|θ<sub>new</sub> - θ<sub>old</sub>| = 0（参见梯度上升算法中的第2步）。然而，由于数值计算的不精确性，我们并不能精确的得到差值0，因此应该选取一个接近于0的epsilon值，它从实际的角度告诉我们x的值不再改变。我们在之前所有的函数中将epsilon设定为10<sup>-6</sup>，这个值虽然足够小，也适用于那些f<sup>'</sup>(x) = 0有解的函数，例如sin(x)，但可能并不适用于其他函数。因此，最好在最后验证最大值，以保证其正确性，并在需要时相应地调整epsilon的值。  \n",
    "梯度上升算法中的第2步也意味着，要让算法终止，方程式f<sup>'</sup>(x) = 0必须有一个解，而对于e<sup>x</sup>或log(x)这类函数则不是这样，如果你把这里函数输入到之前的程序中，程序将无法计算出解，程序将持续运行。针对这种情形，我们可以通过检查f<sup>'</sup>(x) = 0是否有解来改进梯度上升算法使其更有效。下面是改进的程序："
   ]
  },
  {
   "cell_type": "code",
   "execution_count": 12,
   "id": "c8776db8-a915-4bb3-a5a9-43fecf64220e",
   "metadata": {},
   "outputs": [],
   "source": [
    "def grad_ascent(x0, f1x, x):\n",
    "    # 检擦f1x=0是否有解\n",
    "    if not sp.solve(f1x):\n",
    "        print('Cannot continue, solution for {0}=0 does not exist'.format(f1x))\n",
    "        return\n",
    "    epsilon = 1e-6\n",
    "    step_size = 1e-4\n",
    "    x_old = x0\n",
    "    x_new = x_old + step_size * f1x.subs({x:x_old}).evalf()\n",
    "    while abs(x_new - x_old) > epsilon:\n",
    "        x_old = x_new\n",
    "        x_new = x_old + step_size * f1x.subs({x:x_old}).evalf()\n",
    "    return x_new"
   ]
  },
  {
   "cell_type": "code",
   "execution_count": 13,
   "id": "9e05b532-77b0-4649-a9b3-cba154ce0969",
   "metadata": {},
   "outputs": [],
   "source": [
    "def common_grad_ascent():\n",
    "    f = input('Enter a function in one variable: ')\n",
    "    var = input('Enter the variable to differentiate with respect to: ')\n",
    "    var0 = float(input('Enter the initial value of the variable: '))\n",
    "    try:\n",
    "        f = sp.sympify(f)\n",
    "    except sp.core.sympify.SympifyError:\n",
    "        print('Invalid function entered')\n",
    "    else:\n",
    "        var = sp.Symbol(var)\n",
    "        d = sp.Derivative(f, var).doit()\n",
    "        var_max = grad_ascent(var0, d, var)\n",
    "        if var_max:\n",
    "            print('{0}: {1}'.format(var.name, var_max))\n",
    "            print('Maximum value: {0}'.format(f.subs({var:var_max})))"
   ]
  },
  {
   "cell_type": "code",
   "execution_count": 14,
   "id": "144bf015-e101-48dd-861d-06b9d11a7272",
   "metadata": {},
   "outputs": [
    {
     "name": "stdin",
     "output_type": "stream",
     "text": [
      "Enter a function in one variable:  log(x)\n",
      "Enter the variable to differentiate with respect to:  x\n",
      "Enter the initial value of the variable:  0.1\n"
     ]
    },
    {
     "name": "stdout",
     "output_type": "stream",
     "text": [
      "Cannot continue, solution for 1/x=0 does not exist\n"
     ]
    }
   ],
   "source": [
    "if __name__ == '__main__':\n",
    "    common_grad_ascent()\n",
    "    # log(x)    x    0.1"
   ]
  },
  {
   "cell_type": "code",
   "execution_count": null,
   "id": "ca358ac5-05af-43f1-921a-fc0b6b58c303",
   "metadata": {},
   "outputs": [],
   "source": []
  }
 ],
 "metadata": {
  "kernelspec": {
   "display_name": "Python 3 (ipykernel)",
   "language": "python",
   "name": "python3"
  },
  "language_info": {
   "codemirror_mode": {
    "name": "ipython",
    "version": 3
   },
   "file_extension": ".py",
   "mimetype": "text/x-python",
   "name": "python",
   "nbconvert_exporter": "python",
   "pygments_lexer": "ipython3",
   "version": "3.7.3"
  }
 },
 "nbformat": 4,
 "nbformat_minor": 5
}
