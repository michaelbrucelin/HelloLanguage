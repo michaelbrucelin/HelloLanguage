{
 "cells": [
  {
   "cell_type": "markdown",
   "id": "637d2540-4fa4-456a-98b4-fbf9fe019a93",
   "metadata": {},
   "source": [
    "# 计算函数的极限"
   ]
  },
  {
   "cell_type": "code",
   "execution_count": 1,
   "id": "059d7db2-1411-4e2b-bb81-eec43ab8c6da",
   "metadata": {},
   "outputs": [],
   "source": [
    "import sympy as sp\n",
    "\n",
    "# sympy包中的 S 对象，包含了正负无穷和一些起他特殊值的定义"
   ]
  },
  {
   "cell_type": "code",
   "execution_count": 2,
   "id": "3c5494e0-b281-46db-9fb7-dff0ed3990c3",
   "metadata": {},
   "outputs": [
    {
     "data": {
      "text/latex": [
       "$\\displaystyle \\lim_{x \\to \\infty} \\frac{1}{x}$"
      ],
      "text/plain": [
       "Limit(1/x, x, oo, dir='-')"
      ]
     },
     "execution_count": 2,
     "metadata": {},
     "output_type": "execute_result"
    }
   ],
   "source": [
    "x = sp.Symbol('x')\n",
    "\n",
    "sp.Limit(1/x, x, sp.S.Infinity)"
   ]
  },
  {
   "cell_type": "code",
   "execution_count": 3,
   "id": "7ebf5cf4-0b1f-468e-9691-64a218fbc155",
   "metadata": {},
   "outputs": [
    {
     "data": {
      "text/latex": [
       "$\\displaystyle 0$"
      ],
      "text/plain": [
       "0"
      ]
     },
     "execution_count": 3,
     "metadata": {},
     "output_type": "execute_result"
    }
   ],
   "source": [
    "l = sp.Limit(1/x, x, sp.S.Infinity)\n",
    "l.doit()  # 计算极限的值"
   ]
  },
  {
   "cell_type": "code",
   "execution_count": 4,
   "id": "33a22b6d-5f61-4602-8112-1c3c27b51722",
   "metadata": {},
   "outputs": [
    {
     "data": {
      "text/latex": [
       "$\\displaystyle -\\infty$"
      ],
      "text/plain": [
       "-oo"
      ]
     },
     "execution_count": 4,
     "metadata": {},
     "output_type": "execute_result"
    }
   ],
   "source": [
    "sp.Limit(1/x, x, 0, dir='-').doit()  # x从负方向趋近于0"
   ]
  },
  {
   "cell_type": "code",
   "execution_count": 5,
   "id": "791e4902-7876-45ae-851f-4b40e627642e",
   "metadata": {},
   "outputs": [
    {
     "data": {
      "text/latex": [
       "$\\displaystyle \\infty$"
      ],
      "text/plain": [
       "oo"
      ]
     },
     "execution_count": 5,
     "metadata": {},
     "output_type": "execute_result"
    }
   ],
   "source": [
    "sp.Limit(1/x, x, 0, dir='+').doit()  # x从正方向趋近于0"
   ]
  },
  {
   "cell_type": "code",
   "execution_count": 6,
   "id": "b6d3ff7b-c2b6-4f1d-b9e3-c6d391eadf7d",
   "metadata": {},
   "outputs": [
    {
     "data": {
      "text/latex": [
       "$\\displaystyle 1$"
      ],
      "text/plain": [
       "1"
      ]
     },
     "execution_count": 6,
     "metadata": {},
     "output_type": "execute_result"
    }
   ],
   "source": [
    "sp.Limit(sp.sin(x)/x, x, 0).doit()   # sympy也可以计算“不确定极限”，也就是使用洛必达法则计算的这一类极限"
   ]
  },
  {
   "cell_type": "markdown",
   "id": "9adcd3ad-00de-4062-8fe6-faf690eae47f",
   "metadata": {},
   "source": [
    "## 连续复利"
   ]
  },
  {
   "cell_type": "markdown",
   "id": "91db0b39-afc8-4c86-a0e9-2e2901d4e5f1",
   "metadata": {},
   "source": [
    "假设本金（单位1）在一年内计算了n次复利，本息总额为(1+1/n)<sup>n</sup>，数学家James Bernoulli发现当n趋近于无穷大，这个值为e。"
   ]
  },
  {
   "cell_type": "code",
   "execution_count": 7,
   "id": "0311cc61-929e-40d5-a5fa-2549c02630af",
   "metadata": {},
   "outputs": [
    {
     "data": {
      "text/latex": [
       "$\\displaystyle e$"
      ],
      "text/plain": [
       "E"
      ]
     },
     "execution_count": 7,
     "metadata": {},
     "output_type": "execute_result"
    }
   ],
   "source": [
    "n = sp.Symbol('n')\n",
    "sp.Limit((1+1/n)**n, n, sp.S.Infinity).doit()"
   ]
  },
  {
   "cell_type": "code",
   "execution_count": 8,
   "id": "610694ca-a495-45d6-8b02-e4d05dcad39a",
   "metadata": {},
   "outputs": [
    {
     "data": {
      "text/latex": [
       "$\\displaystyle p e^{r t}$"
      ],
      "text/plain": [
       "p*exp(r*t)"
      ]
     },
     "execution_count": 8,
     "metadata": {},
     "output_type": "execute_result"
    }
   ],
   "source": [
    "# 假定本金为p，利率为r，年数为t，则复利公式\n",
    "p = sp.Symbol('p', positive=True)\n",
    "r = sp.Symbol('r', positive=True)\n",
    "t = sp.Symbol('t', positive=True)\n",
    "sp.Limit(p*(1+r/n)**(n*t), n, sp.S.Infinity).doit()"
   ]
  },
  {
   "cell_type": "markdown",
   "id": "2580a160-3c78-4a5f-ada3-1b7b3cfd498c",
   "metadata": {},
   "source": [
    "## 瞬时变化率"
   ]
  },
  {
   "cell_type": "code",
   "execution_count": 9,
   "id": "99a5271d-eafa-4b36-be9f-39d1ff10805d",
   "metadata": {},
   "outputs": [
    {
     "data": {
      "text/latex": [
       "$\\displaystyle 10 t_{1} + 2$"
      ],
      "text/plain": [
       "10*t1 + 2"
      ]
     },
     "execution_count": 9,
     "metadata": {},
     "output_type": "execute_result"
    }
   ],
   "source": [
    "t = sp.Symbol('t')\n",
    "St = 5*t**2 + 2*t + 8                 # 距离表达式\n",
    "\n",
    "t1 = sp.Symbol('t1')\n",
    "delta_t = sp.Symbol('delta_t')        # 时间增量，当时间增量趋近于0时，时间增量这段时间的平均速度即为t1的瞬时速度\n",
    "\n",
    "St1 = St.subs({t: t1})                # t1时刻的的距离\n",
    "St1_delta = St.subs({t: t1+delta_t})  # t1+delta_t时刻的的距离\n",
    "\n",
    "sp.Limit((St1_delta-St1)/delta_t, delta_t, 0).doit()  # 结果自然就是函数的导数"
   ]
  },
  {
   "cell_type": "code",
   "execution_count": null,
   "id": "15aeb508-87a2-47d5-818d-8bba72f4ba8d",
   "metadata": {},
   "outputs": [],
   "source": []
  }
 ],
 "metadata": {
  "kernelspec": {
   "display_name": "Python 3 (ipykernel)",
   "language": "python",
   "name": "python3"
  },
  "language_info": {
   "codemirror_mode": {
    "name": "ipython",
    "version": 3
   },
   "file_extension": ".py",
   "mimetype": "text/x-python",
   "name": "python",
   "nbconvert_exporter": "python",
   "pygments_lexer": "ipython3",
   "version": "3.7.3"
  }
 },
 "nbformat": 4,
 "nbformat_minor": 5
}
