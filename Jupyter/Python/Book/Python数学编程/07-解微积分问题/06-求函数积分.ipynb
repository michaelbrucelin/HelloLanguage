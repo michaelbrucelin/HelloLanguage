{
 "cells": [
  {
   "cell_type": "markdown",
   "id": "c4cb3b8f-12b4-4fa6-bc8c-e0ca0e337f38",
   "metadata": {},
   "source": [
    "# 求函数积分"
   ]
  },
  {
   "cell_type": "markdown",
   "id": "03a60814-ed1a-42d6-85f9-25c3551ce345",
   "metadata": {},
   "source": [
    "函数f(x)的不定积分或原函数是另一个函数F(x)，其满足F<sup>'</sup>(x)=f(x)。即一个函数f的积分是另一个函数F，而函数F的导数是函数f。在数学上，记为F(x)=∫f(x)dx。另外，定积分记为我∫<sub>a</sub><sup>b</sup>f(x)dx，它等于F(b)-F(a)，其中F(b)与F(a)分别是原函数f(x)在x=b与x=a处的值。  \n",
    "我们可以通过 `Integral` 对象来创建这两类积分。"
   ]
  },
  {
   "cell_type": "code",
   "execution_count": 1,
   "id": "faa477d2-9e49-4a59-b063-305648b39d78",
   "metadata": {},
   "outputs": [],
   "source": [
    "import sympy as sp"
   ]
  },
  {
   "cell_type": "code",
   "execution_count": 2,
   "id": "673ecc61-f694-46b1-9c9f-4c2d826b85de",
   "metadata": {},
   "outputs": [
    {
     "data": {
      "text/latex": [
       "$\\displaystyle \\int k x\\, dx$"
      ],
      "text/plain": [
       "Integral(k*x, x)"
      ]
     },
     "execution_count": 2,
     "metadata": {},
     "output_type": "execute_result"
    }
   ],
   "source": [
    "x = sp.Symbol('x')\n",
    "k = sp.Symbol('k')\n",
    "sp.Integral(k*x, x)  # 这个是函数f(x)=kx的不定积分，其中k为常数"
   ]
  },
  {
   "cell_type": "code",
   "execution_count": 3,
   "id": "9259168f-ec18-4d4b-8e7e-f0b6e8612382",
   "metadata": {},
   "outputs": [
    {
     "data": {
      "text/latex": [
       "$\\displaystyle \\frac{k x^{2}}{2}$"
      ],
      "text/plain": [
       "k*x**2/2"
      ]
     },
     "execution_count": 3,
     "metadata": {},
     "output_type": "execute_result"
    }
   ],
   "source": [
    "sp.Integral(k*x, x).doit()"
   ]
  },
  {
   "cell_type": "code",
   "execution_count": 4,
   "id": "3a7771b3-553e-4031-a200-ba5d5f488ca1",
   "metadata": {},
   "outputs": [
    {
     "data": {
      "text/latex": [
       "$\\displaystyle 2 k$"
      ],
      "text/plain": [
       "2*k"
      ]
     },
     "execution_count": 4,
     "metadata": {},
     "output_type": "execute_result"
    }
   ],
   "source": [
    "sp.Integral(k*x, (x, 0, 2)).doit()  # 计算定积分，就是在指定自变量的同时，设置自变量的边界"
   ]
  },
  {
   "cell_type": "code",
   "execution_count": null,
   "id": "deabc770-77c9-401b-b493-8e08a5a0c7b7",
   "metadata": {},
   "outputs": [],
   "source": []
  }
 ],
 "metadata": {
  "kernelspec": {
   "display_name": "Python 3 (ipykernel)",
   "language": "python",
   "name": "python3"
  },
  "language_info": {
   "codemirror_mode": {
    "name": "ipython",
    "version": 3
   },
   "file_extension": ".py",
   "mimetype": "text/x-python",
   "name": "python",
   "nbconvert_exporter": "python",
   "pygments_lexer": "ipython3",
   "version": "3.7.3"
  }
 },
 "nbformat": 4,
 "nbformat_minor": 5
}
