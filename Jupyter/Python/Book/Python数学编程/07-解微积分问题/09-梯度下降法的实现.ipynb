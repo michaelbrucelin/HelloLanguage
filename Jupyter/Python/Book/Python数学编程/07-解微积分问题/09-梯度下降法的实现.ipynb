{
 "cells": [
  {
   "cell_type": "markdown",
   "id": "7760d18d-dc99-451a-858d-3f46c26c8893",
   "metadata": {},
   "source": [
    "# 梯度下降法的实现"
   ]
  },
  {
   "cell_type": "code",
   "execution_count": 1,
   "id": "f0d954c6-ee54-45a5-8cab-5ba71cdb4a86",
   "metadata": {},
   "outputs": [],
   "source": [
    "import sympy as sp\n",
    "import matplotlib.pyplot as plt"
   ]
  },
  {
   "cell_type": "code",
   "execution_count": 2,
   "id": "89bd506c-f746-4c78-ac6e-adf8b08a3192",
   "metadata": {},
   "outputs": [],
   "source": [
    "def grad_descent(x0, f1x, x):\n",
    "    # check if f1x=0 has a solution\n",
    "    if not sp.solve(f1x):\n",
    "        print('Cannot continue, solution for {0}=0 does not exist'.format(f1x))\n",
    "        return None\n",
    "    epsilon =  1e-6\n",
    "    step_size = 1e-4\n",
    "    x_old = x0\n",
    "    x_new = x_old - step_size*f1x.subs({x:x_old}).evalf()\n",
    "\n",
    "    # list to store the X values traversed\n",
    "    X_traversed = []\n",
    "    while abs(x_old - x_new) > epsilon:\n",
    "        X_traversed.append(x_new)\n",
    "        x_old = x_new\n",
    "        x_new = x_old-step_size*f1x.subs({x:x_old}).evalf()\n",
    "    return x_new, X_traversed"
   ]
  },
  {
   "cell_type": "code",
   "execution_count": 3,
   "id": "b2b2244e-ff4a-4e72-9b2d-86a78ce2d537",
   "metadata": {},
   "outputs": [],
   "source": [
    "def frange(start, final, interval):\n",
    "    numbers = []\n",
    "    while start < final:\n",
    "        numbers.append(start)\n",
    "        start = start + interval\n",
    "    return numbers\n",
    "\n",
    "def create_plot(X_traversed, f, var):\n",
    "    # First create the graph of the function itself\n",
    "    x_val = frange(-1, 1, 0.01)\n",
    "    f_val = [f.subs({var:x}) for x in x_val]\n",
    "    plt.plot(x_val, f_val, 'bo')\n",
    "    # calculate the function value at each of the intermediate\n",
    "    # points traversed\n",
    "    f_traversed = [f.subs({var:x}) for x in X_traversed]\n",
    "    plt.plot(X_traversed, f_traversed, 'r.')\n",
    "    plt.legend(['Function', 'Intermediate points'], loc='best')\n",
    "    plt.show()"
   ]
  },
  {
   "cell_type": "code",
   "execution_count": 4,
   "id": "1cf81a45-a078-4fa8-a7fc-5f466b864199",
   "metadata": {},
   "outputs": [
    {
     "name": "stdin",
     "output_type": "stream",
     "text": [
      "Enter a function in one variable:  x**2 + 2*x + 1\n",
      "Enter the variable to differentiate with respect to:  x\n",
      "Enter the initial value of the variable:  0.01\n"
     ]
    },
    {
     "name": "stdout",
     "output_type": "stream",
     "text": [
      "x: -0.995001315693779\n",
      "Minimum value: 0.0000249868447932400\n"
     ]
    },
    {
     "data": {
      "image/png": "[encoded data removed]",
      "text/plain": [
       "<Figure size 432x288 with 1 Axes>"
      ]
     },
     "metadata": {
      "needs_background": "light"
     },
     "output_type": "display_data"
    }
   ],
   "source": [
    "if __name__ == '__main__':\n",
    "    f = input('Enter a function in one variable: ')\n",
    "    var = input('Enter the variable to differentiate with respect to: ')\n",
    "    var0 = float(input('Enter the initial value of the variable: '))\n",
    "    try:\n",
    "        f = sp.sympify(f)\n",
    "    except sp.core.sympify.SympifyError:\n",
    "        print('Invalid function entered')\n",
    "    else:\n",
    "        var = sp.Symbol(var)\n",
    "        d = sp.Derivative(f, var).doit()\n",
    "        var_min, X_traversed = grad_descent(var0, d, var)\n",
    "        if var_min:\n",
    "            print('{0}: {1}'.format(var.name, var_min))\n",
    "            print('Minimum value: {0}'.format(f.subs({var:var_min})))\n",
    "            create_plot(X_traversed, f, var)\n",
    "# x**2 + 2*x + 1    x    0.01"
   ]
  },
  {
   "cell_type": "code",
   "execution_count": null,
   "id": "b9d83a03-4fb5-4219-a25c-433766b51c05",
   "metadata": {},
   "outputs": [],
   "source": []
  }
 ],
 "metadata": {
  "kernelspec": {
   "display_name": "Python 3 (ipykernel)",
   "language": "python",
   "name": "python3"
  },
  "language_info": {
   "codemirror_mode": {
    "name": "ipython",
    "version": 3
   },
   "file_extension": ".py",
   "mimetype": "text/x-python",
   "name": "python",
   "nbconvert_exporter": "python",
   "pygments_lexer": "ipython3",
   "version": "3.7.3"
  }
 },
 "nbformat": 4,
 "nbformat_minor": 5
}
