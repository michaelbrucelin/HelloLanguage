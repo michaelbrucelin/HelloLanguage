{
 "cells": [
  {
   "cell_type": "markdown",
   "id": "48d3496f-53f9-4f03-a511-e0a7ded8e822",
   "metadata": {},
   "source": [
    "# 皮尔森相关系数"
   ]
  },
  {
   "cell_type": "markdown",
   "id": "8e2d3582-65fe-49d4-901d-77aac1a28347",
   "metadata": {},
   "source": [
    "皮尔森相关系数（`Pearson correlation coefficient`），它用来测量两组数据之间的线性关系和强度，其值属于[-1, 1]。  \n",
    "0表示两组数据之间没有线性相关，系数越接近1表示两组数据越接近正相关，1为完全正相关，-1则相反。"
   ]
  },
  {
   "cell_type": "code",
   "execution_count": 1,
   "id": "8d59bccf-3f00-4ea5-98e7-5cdb37853911",
   "metadata": {},
   "outputs": [],
   "source": [
    "import matplotlib.pyplot as plt"
   ]
  },
  {
   "cell_type": "code",
   "execution_count": 2,
   "id": "381be6bc-2d5a-40fa-b7a0-6a69ea5a210b",
   "metadata": {},
   "outputs": [],
   "source": [
    "def find_corr_x_y(x, y):\n",
    "    n = len(x)\n",
    "\n",
    "    prod = [xi*yi for xi, yi in zip(x, y)]  \n",
    "    sum_prod_x_y = sum(prod)\n",
    "    sum_x = sum(x)\n",
    "    sum_y = sum(y)\n",
    "    squared_sum_x = sum_x ** 2\n",
    "    squared_sum_y = sum_y ** 2\n",
    "    x_square = [xi**2 for xi in x]\n",
    "    x_square_sum = sum(x_square)\n",
    "    y_square = [yi**2 for yi in y]\n",
    "    y_square_sum = sum(y_square)\n",
    "\n",
    "    numerator = n*sum_prod_x_y - sum_x*sum_y\n",
    "    denominator_term1 = n*x_square_sum - squared_sum_x\n",
    "    denominator_term2 = n*y_square_sum - squared_sum_y\n",
    "    denominator = (denominator_term1*denominator_term2)**0.5\n",
    "    correlation = numerator/denominator\n",
    "    \n",
    "    return correlation"
   ]
  },
  {
   "cell_type": "code",
   "execution_count": 3,
   "id": "c7399400-4285-424e-be14-ee55fba7dcc7",
   "metadata": {},
   "outputs": [
    {
     "data": {
      "text/plain": [
       "1.0"
      ]
     },
     "execution_count": 3,
     "metadata": {},
     "output_type": "execute_result"
    }
   ],
   "source": [
    "x = [1, 2, 3, 4]\n",
    "y = [2, 4, 6, 8]\n",
    "corr = find_corr_x_y(x, y)\n",
    "corr"
   ]
  },
  {
   "cell_type": "code",
   "execution_count": 4,
   "id": "2d0083e4-bd0c-4cbc-bc30-b65b23f06ad4",
   "metadata": {},
   "outputs": [
    {
     "data": {
      "image/png": "[encoded data removed]",
      "text/plain": [
       "<Figure size 432x288 with 1 Axes>"
      ]
     },
     "metadata": {
      "needs_background": "light"
     },
     "output_type": "display_data"
    }
   ],
   "source": [
    "plt.scatter(x, y)\n",
    "plt.show()"
   ]
  },
  {
   "cell_type": "code",
   "execution_count": null,
   "id": "fea53f20-40ee-4fca-bfcd-e83d6faca67a",
   "metadata": {},
   "outputs": [],
   "source": []
  }
 ],
 "metadata": {
  "kernelspec": {
   "display_name": "Python 3 (ipykernel)",
   "language": "python",
   "name": "python3"
  },
  "language_info": {
   "codemirror_mode": {
    "name": "ipython",
    "version": 3
   },
   "file_extension": ".py",
   "mimetype": "text/x-python",
   "name": "python",
   "nbconvert_exporter": "python",
   "pygments_lexer": "ipython3",
   "version": "3.7.3"
  }
 },
 "nbformat": 4,
 "nbformat_minor": 5
}
