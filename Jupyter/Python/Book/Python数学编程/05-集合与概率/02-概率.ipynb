{
 "cells": [
  {
   "cell_type": "markdown",
   "id": "62e615fb-de12-4e1d-b0d8-b52d2ca24d85",
   "metadata": {},
   "source": [
    "# 概率"
   ]
  },
  {
   "cell_type": "code",
   "execution_count": 1,
   "id": "24abab50",
   "metadata": {},
   "outputs": [],
   "source": [
    "import random\n",
    "import numpy as np\n",
    "import pandas as pd"
   ]
  },
  {
   "cell_type": "raw",
   "id": "7cbf4f98",
   "metadata": {},
   "source": [
    "使用概率来计算PI的值\n",
    "模型：\n",
    "假定有一个半径为1圆，以及一个外切圆的正方形，所以正方形的边长为2，随机数个坐标(x, y)，其中-1<=x<=1，-1<=y<=1\n",
    "其中有N个点在圆内，M个点在圆外，那么\n",
    "    N       PI*r*r                4*N\n",
    "  ————— = ——————————  ，即  PI = —————\n",
    "   M+N     (2r)(2r)               M+N\n",
    "(x,y)在圆内，即x*x+y*y<=1"
   ]
  },
  {
   "cell_type": "code",
   "execution_count": 2,
   "id": "15e13fe5-13ec-43ef-a2bb-3f4d6fd78dfe",
   "metadata": {},
   "outputs": [],
   "source": [
    "def get_pi(times):\n",
    "    x = np.random.rand(times) * np.random.choice([-1,1], times)  # 随机的不好，应该是[0, 1]，而rand()随机的是[0, 1)\n",
    "    y = np.random.rand(times) * np.random.choice([-1,1], times)\n",
    "    r = x**2 + y**2\n",
    "    r = np.where(r<=1, True, False)\n",
    "    # pd.value_counts(r)\n",
    "    N = np.where(r, 1, 0).sum()\n",
    "    M = times - N\n",
    "    PI = 4*N/(M+N)\n",
    "    print(f\"{str(times)+':':<12}{PI}\")"
   ]
  },
  {
   "cell_type": "code",
   "execution_count": 3,
   "id": "151d76e5-9ea2-460c-a45c-3053fc3f0608",
   "metadata": {},
   "outputs": [
    {
     "name": "stdout",
     "output_type": "stream",
     "text": [
      "10:         3.2\n",
      "100:        3.32\n",
      "1000:       3.132\n",
      "10000:      3.1432\n",
      "100000:     3.14228\n",
      "1000000:    3.14158\n",
      "10000000:   3.1419688\n",
      "100000000:  3.14167444\n"
     ]
    }
   ],
   "source": [
    "for i in range(1, 9):\n",
    "    get_pi(10**i)"
   ]
  },
  {
   "cell_type": "code",
   "execution_count": null,
   "id": "32922a48-8d97-442f-a6b9-5d234f190cde",
   "metadata": {},
   "outputs": [],
   "source": []
  }
 ],
 "metadata": {
  "kernelspec": {
   "display_name": "Python 3 (ipykernel)",
   "language": "python",
   "name": "python3"
  },
  "language_info": {
   "codemirror_mode": {
    "name": "ipython",
    "version": 3
   },
   "file_extension": ".py",
   "mimetype": "text/x-python",
   "name": "python",
   "nbconvert_exporter": "python",
   "pygments_lexer": "ipython3",
   "version": "3.7.3"
  }
 },
 "nbformat": 4,
 "nbformat_minor": 5
}
