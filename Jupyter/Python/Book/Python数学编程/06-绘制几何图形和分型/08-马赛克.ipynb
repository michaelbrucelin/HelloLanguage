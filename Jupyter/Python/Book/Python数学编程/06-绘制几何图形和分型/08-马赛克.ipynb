{
 "cells": [
  {
   "cell_type": "markdown",
   "id": "d3e49579-2c12-46e3-99dc-94017db7c489",
   "metadata": {},
   "source": [
    "# 马赛克"
   ]
  },
  {
   "cell_type": "code",
   "execution_count": 1,
   "id": "b5f97290-14f6-4c18-a831-6f3675f4113f",
   "metadata": {},
   "outputs": [],
   "source": [
    "import matplotlib.pyplot as plt\n",
    "import matplotlib.cm as cm\n",
    "import random"
   ]
  },
  {
   "cell_type": "code",
   "execution_count": 2,
   "id": "39be31a2-b351-4ba0-86b1-1550061194fa",
   "metadata": {},
   "outputs": [],
   "source": [
    "def initialize_image(x_p, y_p):\n",
    "    \"\"\"创建一个列表的列表，每个元素都初始化为0\"\"\"\n",
    "    image = []\n",
    "    for i in range(y_p):\n",
    "        x_colors = []\n",
    "        for j in range(x_p):\n",
    "            x_colors.append(0)\n",
    "        image.append(x_colors)\n",
    "    return image\n",
    "\n",
    "def color_points(x_p, y_p):\n",
    "    image = initialize_image(x_p, y_p)\n",
    "    for i in range(y_p):\n",
    "        for j in range(x_p):\n",
    "            image[i][j] = random.randint(0, 10)\n",
    "    # origin='lower' 指定image[0][0]的数字对应于点(0,0)的颜色\n",
    "    # cmap=cm.Greys_r 灰度图像\n",
    "    # interpolation='nearest' 我们只设置了36点的颜色，这里设定没有指定颜色的点用与其最近的点上色\n",
    "    plt.imshow(image, origin='lower', extent=(0, 5, 0, 5), cmap=cm.Greys_r, interpolation='nearest')\n",
    "    plt.colorbar()\n",
    "    plt.show()"
   ]
  },
  {
   "cell_type": "code",
   "execution_count": 3,
   "id": "2ad94b89-3862-4fed-9422-6744fa883538",
   "metadata": {},
   "outputs": [
    {
     "data": {
      "image/png": "[encoded data removed]",
      "text/plain": [
       "<Figure size 432x288 with 2 Axes>"
      ]
     },
     "metadata": {
      "needs_background": "light"
     },
     "output_type": "display_data"
    }
   ],
   "source": [
    "if __name__ == '__main__':\n",
    "    color_points(6, 6)"
   ]
  },
  {
   "cell_type": "code",
   "execution_count": 4,
   "id": "8275c80d-8c80-44d7-8a57-f996491807d9",
   "metadata": {},
   "outputs": [
    {
     "data": {
      "image/png": "[encoded data removed]",
      "text/plain": [
       "<Figure size 432x288 with 2 Axes>"
      ]
     },
     "metadata": {
      "needs_background": "light"
     },
     "output_type": "display_data"
    }
   ],
   "source": [
    "if __name__ == '__main__':\n",
    "    color_points(20, 20)"
   ]
  },
  {
   "cell_type": "code",
   "execution_count": null,
   "id": "cba57b4e-8cd1-4157-9c2e-4de3c50cf2d3",
   "metadata": {},
   "outputs": [],
   "source": []
  }
 ],
 "metadata": {
  "kernelspec": {
   "display_name": "Python 3 (ipykernel)",
   "language": "python",
   "name": "python3"
  },
  "language_info": {
   "codemirror_mode": {
    "name": "ipython",
    "version": 3
   },
   "file_extension": ".py",
   "mimetype": "text/x-python",
   "name": "python",
   "nbconvert_exporter": "python",
   "pygments_lexer": "ipython3",
   "version": "3.7.3"
  }
 },
 "nbformat": 4,
 "nbformat_minor": 5
}
