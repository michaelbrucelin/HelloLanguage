{
 "cells": [
  {
   "cell_type": "markdown",
   "id": "7fd91a1b-9d00-4674-b5e5-185f60209d29",
   "metadata": {},
   "source": [
    "# 绘制几何图形"
   ]
  },
  {
   "cell_type": "markdown",
   "id": "6ca8d80e-e4e3-4460-b2b8-a31957131abf",
   "metadata": {},
   "source": [
    "在 `matplotlib` 中，`patches` 可以用来绘制几何图形，图形的每一部分都可视为一个块（`patch`）。"
   ]
  },
  {
   "cell_type": "code",
   "execution_count": 1,
   "id": "f8453131",
   "metadata": {},
   "outputs": [],
   "source": [
    "import matplotlib.pyplot as plt\n",
    "from matplotlib import animation"
   ]
  },
  {
   "cell_type": "markdown",
   "id": "4b03d335-fae5-403b-a1b8-723d55fc1820",
   "metadata": {},
   "source": [
    "## 绘制一个圆"
   ]
  },
  {
   "cell_type": "code",
   "execution_count": 2,
   "id": "0383030f",
   "metadata": {},
   "outputs": [
    {
     "data": {
      "image/png": "[encoded data removed]",
      "text/plain": [
       "<Figure size 432x288 with 1 Axes>"
      ]
     },
     "metadata": {
      "needs_background": "light"
     },
     "output_type": "display_data"
    }
   ],
   "source": [
    "circle = plt.Circle((0, 0), radius = 0.5)\n",
    "ax = plt.gca()          # gca()函数返回当前Axes的引用，如果Axes对象不存在，则创建一个Axes对象，ax = plt.axes()\n",
    "ax.set_aspect('equal')  # x轴与y轴等比例\n",
    "ax.add_patch(circle)    # 将圆形添加到坐标轴对象中\n",
    "plt.axis('scaled')      # 自动调节数轴的取值范围\n",
    "\n",
    "plt.show()"
   ]
  },
  {
   "cell_type": "markdown",
   "id": "30bc29ef-74a4-408e-99e9-8f8b2a3f5289",
   "metadata": {},
   "source": [
    "## 创建动画图形"
   ]
  },
  {
   "cell_type": "code",
   "execution_count": 3,
   "id": "3667b7b1",
   "metadata": {},
   "outputs": [
    {
     "data": {
      "image/png": "[encoded data removed]",
      "text/plain": [
       "<Figure size 432x288 with 1 Axes>"
      ]
     },
     "metadata": {
      "needs_background": "light"
     },
     "output_type": "display_data"
    }
   ],
   "source": [
    "from IPython.display import HTML\n",
    "plt.rcParams['animation.embed_limit'] = 2**10\n",
    "\n",
    "def update_radius(i, circle):\n",
    "    \"\"\"负责绘制每一帧\"\"\"\n",
    "    circle.radius = i*0.5\n",
    "    return circle\n",
    "\n",
    "fig = plt.gcf()  # gcf()函数返回当前Figure的引用，如果Figure对象不存在，则创建一个Figure对象，fig = plt.figure()\n",
    "ax = plt.axes(xlim=(-10, 10), ylim=(-10, 10))\n",
    "ax.set_aspect('equal')\n",
    "circle = plt.Circle((0, 0), radius = 0.05)\n",
    "ax.add_patch(circle)\n",
    "\n",
    "# fargs表示传递给 update_radius(i, circle) 的参数（除了帧编号），frames指动画中的帧数，interval表示两帧之间的时间间隔\n",
    "anim = animation.FuncAnimation(fig, update_radius, fargs=(circle,), frames=30, interval=50)\n",
    "\n",
    "plt.title('Simple Circle Animation')\n",
    "plt.show()\n",
    "# HTML(anim.to_jshtml())  # 产生的文件太大，测试时可以打开"
   ]
  },
  {
   "cell_type": "code",
   "execution_count": null,
   "id": "0367f8c1",
   "metadata": {},
   "outputs": [],
   "source": []
  }
 ],
 "metadata": {
  "kernelspec": {
   "display_name": "Python 3 (ipykernel)",
   "language": "python",
   "name": "python3"
  },
  "language_info": {
   "codemirror_mode": {
    "name": "ipython",
    "version": 3
   },
   "file_extension": ".py",
   "mimetype": "text/x-python",
   "name": "python",
   "nbconvert_exporter": "python",
   "pygments_lexer": "ipython3",
   "version": "3.7.3"
  }
 },
 "nbformat": 4,
 "nbformat_minor": 5
}
