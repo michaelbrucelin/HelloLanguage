{
 "cells": [
  {
   "cell_type": "markdown",
   "id": "a3f32ff7-1fd0-4bd6-bec3-a4bcb1b4f6f3",
   "metadata": {},
   "source": [
    "# 绘制 Mandelbrot 集"
   ]
  },
  {
   "cell_type": "markdown",
   "id": "237dc479-10e7-4bff-a646-dc78b4479d91",
   "metadata": {},
   "source": [
    "我们考虑 `x-y` 平面上位于点 (-2.5, -1.0) 和 (1.0, 1.0) 之间的区域，并把每个轴划分为 400 个等间距点，这些点的笛卡尔积将给出该区域内的 1600 个等距点，我们把这些点记为：(x<sub>1</sub>, y<sub>1</sub>)，(x<sub>2</sub>, y<sub>2</sub>) ... (x<sub>400</sub>, y<sub>400</sub>)。  \n",
    "通过调用“08-马赛克”中的 `initialize_image()` 函数创建一个列表 `image`，并将函数中的 x_p，y_p都设置为 400。然后，为每个生成的点 (x<sub>i</sub>， y<sub>k</sub>) 执行下述步骤：  \n",
    "1. 首先，创建两个复数，z<sub>1</sub> = 0 + 0j 和 z<sub>2</sub> = x<sub>i</sub> + y<sub>k</sub>j。（我们用 j 表示 -1<sup>1/2</sup>）\n",
    "2. 创建一个迭代标签，并将其设置为 0，即 iteration = 0\n",
    "3. 创建一个复数 z<sub>1</sub> = z<sub>1</sub><sup>2</sup> + c\n",
    "4. 以 1 为单位增加 iteration 的值，即 iteration = iteration + 1\n",
    "5. 若 abs(z<sub>1</sub>) < 2 且 iteration < max_iteration，则返回到第 3 步；否则进入第 6 步。\n",
    "    - max_iteration 的值越大，绘制的图像越详细，当然花费的时间也越长。这里设置 iteration = 1000\n",
    "6. 将点 (x<sub>i</sub>, y<sub>k</sub>) 的颜色设置为 iteration 的值，即 image[i][k] = iteration\n",
    "\n",
    "一旦有了完整的 `image` 列表，调用 `imshow()` 函数，并将 `extent` 关键字参数设置为 (-2.5, -1.0) 和 (1.0, 1.0) 之间的区域。  \n",
    "这个算法通常称为时间逃逸算法。当一个点达到最大迭代次数时仍在区域内（即复数 z<sub>1</sub> 的模小于 2），则该点属于 `Mandelbrot` 集，将其涂成白色。那些未达到最大迭代次数就超出区域的点称为“逃逸”，他们不属于 `Mandelbrot` 集，将其涂成黑色。  \n",
    "你可以通过减少和增加每一个轴上点的个数来进行实验，减少点的个数会导致颗粒图像，而增加点的个数则会产生更加细致的图像。"
   ]
  },
  {
   "cell_type": "code",
   "execution_count": 1,
   "id": "1b9ef8c8-b79c-4bfd-b82e-8461e38c708f",
   "metadata": {},
   "outputs": [],
   "source": [
    "import matplotlib.pyplot as plt\n",
    "import matplotlib.cm as cm"
   ]
  },
  {
   "cell_type": "code",
   "execution_count": 2,
   "id": "fde08cfd-fa25-4c38-bba0-f65c97caa9b7",
   "metadata": {},
   "outputs": [],
   "source": [
    "# Subset of the complex plane we are considering\n",
    "x0, x1 = -2.5, 1\n",
    "y0, y1 = -1, 1\n",
    "\n",
    "def initialize_image(x_p, y_p):\n",
    "    image = []\n",
    "    for i in range(y_p):\n",
    "        x_colors = []\n",
    "        for j in range(x_p):\n",
    "            x_colors.append(0)\n",
    "        image.append(x_colors)\n",
    "    return image\n",
    "\n",
    "def mandelbrot_set():\n",
    "    # Number of divisions along each axis\n",
    "    n = 400\n",
    "    # Maximum iterations\n",
    "    max_iteration=1000\n",
    "    \n",
    "    image = initialize_image(n, n)\n",
    "    \n",
    "    # Generate a set of equally spaced points in the region\n",
    "    # above\n",
    "    dx = (x1-x0)/(n-1)\n",
    "    dy = (y1-y0)/(n-1)\n",
    "    x_coords = [x0 + i*dx for i in range(n)]\n",
    "    y_coords = [y0 + i*dy for i in range(n)]\n",
    "\n",
    "    for i, x in enumerate(x_coords):\n",
    "        for k, y in enumerate(y_coords):\n",
    "            z1 = complex(0, 0)\n",
    "            iteration = 0\n",
    "            c = complex(x, y)\n",
    "            while (abs(z1) < 2  and iteration < max_iteration):\n",
    "                z1 = z1**2 + c\n",
    "                iteration += 1\n",
    "            image[k][i] = iteration\n",
    "    return image"
   ]
  },
  {
   "cell_type": "code",
   "execution_count": 3,
   "id": "5cafb861-d4fe-4ab1-b2a7-f8c5c1b0368d",
   "metadata": {},
   "outputs": [
    {
     "data": {
      "image/png": "[encoded data removed]",
      "text/plain": [
       "<Figure size 432x288 with 1 Axes>"
      ]
     },
     "metadata": {
      "needs_background": "light"
     },
     "output_type": "display_data"
    }
   ],
   "source": [
    "if __name__ == '__main__':\n",
    "    image = mandelbrot_set()\n",
    "    plt.imshow(image, origin='lower', extent=(x0, x1, y0,y1), cmap=cm.Greys_r, interpolation='nearest')\n",
    "    plt.show()"
   ]
  },
  {
   "cell_type": "code",
   "execution_count": null,
   "id": "0ab998fa-ddab-4a91-b82e-7bbfe1dacdf9",
   "metadata": {},
   "outputs": [],
   "source": []
  }
 ],
 "metadata": {
  "kernelspec": {
   "display_name": "Python 3 (ipykernel)",
   "language": "python",
   "name": "python3"
  },
  "language_info": {
   "codemirror_mode": {
    "name": "ipython",
    "version": 3
   },
   "file_extension": ".py",
   "mimetype": "text/x-python",
   "name": "python",
   "nbconvert_exporter": "python",
   "pygments_lexer": "ipython3",
   "version": "3.7.3"
  }
 },
 "nbformat": 4,
 "nbformat_minor": 5
}
