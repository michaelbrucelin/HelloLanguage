{
 "cells": [
  {
   "cell_type": "markdown",
   "id": "b73abf7a-a943-4c3a-85e5-9fb4f51ca002",
   "metadata": {},
   "source": [
    "# 探索 Henon 函数"
   ]
  },
  {
   "cell_type": "markdown",
   "id": "9ce958be-3900-4775-9b84-11bde5bbb09e",
   "metadata": {},
   "source": [
    "1976年，`Michel Henon` 提出了 `Henon` 函数，该函数描述了一个点 `P(x,y)` 的变换规则：  \n",
    "P(x,y) ——> Q(y+1-1.4x<sup>2</sup>, 0.3x)  \n",
    "无论初始点在哪里（假定离原点不远），你将看到随着点增多，它们开始沿着曲线分布。"
   ]
  },
  {
   "cell_type": "code",
   "execution_count": 1,
   "id": "0c1f6263-73e2-4536-a856-b92ff3e8d168",
   "metadata": {},
   "outputs": [],
   "source": [
    "import matplotlib.pyplot as plt\n",
    "from matplotlib import animation"
   ]
  },
  {
   "cell_type": "code",
   "execution_count": 2,
   "id": "1d4cb707-a7fc-4843-939b-08f4d443c4bb",
   "metadata": {},
   "outputs": [],
   "source": [
    "def transform(p):\n",
    "    x, y  = p\n",
    "    x1 = y + 1.0 - 1.4*x**2\n",
    "    y1 = 0.3*x\n",
    "    return x1, y1"
   ]
  },
  {
   "cell_type": "code",
   "execution_count": 3,
   "id": "11264b53-857d-4fd5-8d51-5b389aa66df4",
   "metadata": {},
   "outputs": [
    {
     "data": {
      "image/png": "[encoded data removed]",
      "text/plain": [
       "<Figure size 432x288 with 1 Axes>"
      ]
     },
     "metadata": {
      "needs_background": "light"
     },
     "output_type": "display_data"
    }
   ],
   "source": [
    "if __name__ == '__main__':\n",
    "    p = (0, 0)\n",
    "    x, y = [p[0]], [p[1]]\n",
    "    for i in range(1000):\n",
    "        p = transform(p)\n",
    "        x.append(p[0])\n",
    "        y.append(p[1])\n",
    "    plt.plot(x, y, 'o')\n",
    "    plt.show()"
   ]
  },
  {
   "cell_type": "code",
   "execution_count": 4,
   "id": "7436131a-7dcc-42b7-bb86-b162fb09a4dc",
   "metadata": {},
   "outputs": [],
   "source": [
    "def update_points(i, x, y, plot):\n",
    "    plot.set_data(x[:i], y[:i])\n",
    "    return plot,"
   ]
  },
  {
   "cell_type": "code",
   "execution_count": 5,
   "id": "e71275b6-11d2-4a79-ae96-4edbe510f830",
   "metadata": {},
   "outputs": [
    {
     "data": {
      "image/png": "[encoded data removed]",
      "text/plain": [
       "<Figure size 432x288 with 1 Axes>"
      ]
     },
     "metadata": {
      "needs_background": "light"
     },
     "output_type": "display_data"
    }
   ],
   "source": [
    "if __name__ == '__main__':\n",
    "    p = (0, 0)\n",
    "    x, y = [p[0]], [p[1]]\n",
    "    for i in range(1000):\n",
    "        p = transform(p)\n",
    "        x.append(p[0])\n",
    "        y.append(p[1])\n",
    "\n",
    "    fig = plt.gcf()\n",
    "    ax = plt.axes(xlim = (min(x), max(x)),\n",
    "                  ylim = (min(y), max(y)))\n",
    "    plot = plt.plot([], [], 'o')[0]\n",
    "    anim = animation.FuncAnimation(fig, update_points, fargs=(x, y, plot), frames = len(x), interval = 25)\n",
    "    plt.title('Henon Function Animation')\n",
    "    plt.show()"
   ]
  },
  {
   "cell_type": "code",
   "execution_count": null,
   "id": "5ff66ecb-4ce4-43ae-a891-445e1151390b",
   "metadata": {},
   "outputs": [],
   "source": []
  }
 ],
 "metadata": {
  "kernelspec": {
   "display_name": "Python 3 (ipykernel)",
   "language": "python",
   "name": "python3"
  },
  "language_info": {
   "codemirror_mode": {
    "name": "ipython",
    "version": 3
   },
   "file_extension": ".py",
   "mimetype": "text/x-python",
   "name": "python",
   "nbconvert_exporter": "python",
   "pygments_lexer": "ipython3",
   "version": "3.7.3"
  }
 },
 "nbformat": 4,
 "nbformat_minor": 5
}
