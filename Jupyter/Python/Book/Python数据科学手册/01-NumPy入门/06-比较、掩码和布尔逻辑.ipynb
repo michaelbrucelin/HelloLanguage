{
 "cells": [
  {
   "cell_type": "markdown",
   "id": "b1542ce5-9df8-48c6-bda8-a5e22ed0ed8a",
   "metadata": {},
   "source": [
    "# 比较、掩码和布尔逻辑"
   ]
  },
  {
   "cell_type": "markdown",
   "id": "378b3351-d03f-40dc-b943-607002671b36",
   "metadata": {},
   "source": [
    "这一节将会介绍如何用布尔掩码来查看和操作 `NumPy` 数组中的值。  \n",
    "当你想基于某些准则来抽取、修改、计数或对一个数组中的值进行其他操作时，掩码就可以派上用场了。  \n",
    "例如你可能希望统计数组中有多少值大于某一个给定值，或者删除所有超出某些门限值的异常点。  \n",
    "在 `NumPy` 中，布尔掩码通常是完成这类任务的最高效方式。"
   ]
  },
  {
   "cell_type": "code",
   "execution_count": 1,
   "id": "14dbac31-7eeb-4405-9912-b17eb18be86d",
   "metadata": {},
   "outputs": [],
   "source": [
    "import numpy as np\n",
    "\n",
    "np.random.seed(0)"
   ]
  },
  {
   "cell_type": "code",
   "execution_count": 2,
   "id": "7c77d067-3e8a-4f19-802c-55069055ef26",
   "metadata": {},
   "outputs": [
    {
     "data": {
      "text/html": [
       "<style>\n",
       "  table {margin-left: 0 !important;}\n",
       "  img {width:30%; height: 30%;}\n",
       "</style>\n"
      ],
      "text/plain": [
       "<IPython.core.display.HTML object>"
      ]
     },
     "metadata": {},
     "output_type": "display_data"
    }
   ],
   "source": [
    "%%html\n",
    "<style>\n",
    "  table {margin-left: 0 !important;}\n",
    "  img {width:30%; height: 30%;}\n",
    "</style>"
   ]
  },
  {
   "cell_type": "markdown",
   "id": "e086e85c-4012-496b-adba-9920cd1a475d",
   "metadata": {},
   "source": [
    "## 1. 示例：统计下雨天数"
   ]
  },
  {
   "cell_type": "code",
   "execution_count": 3,
   "id": "0a03524f-2532-45c0-aff3-750788eaf442",
   "metadata": {},
   "outputs": [
    {
     "data": {
      "text/plain": [
       "(365,)"
      ]
     },
     "execution_count": 3,
     "metadata": {},
     "output_type": "execute_result"
    }
   ],
   "source": [
    "import pandas as pd\n",
    "\n",
    "rainfall = pd.read_csv('../data/Seattle2014.csv')['PRCP'].values\n",
    "inches = rainfall / 254  # 1/10mm -> inches\n",
    "inches.shape"
   ]
  },
  {
   "cell_type": "code",
   "execution_count": 4,
   "id": "5e7185d3-b888-489f-8538-2965f39a74f6",
   "metadata": {},
   "outputs": [
    {
     "data": {
      "text/plain": [
       "(array([245.,  14.,  13.,  17.,   8.,   6.,   5.,   6.,   4.,   3.,   7.,\n",
       "          6.,   3.,   3.,   3.,   4.,   4.,   2.,   4.,   0.,   0.,   1.,\n",
       "          1.,   1.,   0.,   0.,   0.,   2.,   1.,   1.,   0.,   0.,   0.,\n",
       "          0.,   0.,   0.,   0.,   0.,   0.,   1.]),\n",
       " array([0.        , 0.04596457, 0.09192913, 0.1378937 , 0.18385827,\n",
       "        0.22982283, 0.2757874 , 0.32175197, 0.36771654, 0.4136811 ,\n",
       "        0.45964567, 0.50561024, 0.5515748 , 0.59753937, 0.64350394,\n",
       "        0.6894685 , 0.73543307, 0.78139764, 0.8273622 , 0.87332677,\n",
       "        0.91929134, 0.96525591, 1.01122047, 1.05718504, 1.10314961,\n",
       "        1.14911417, 1.19507874, 1.24104331, 1.28700787, 1.33297244,\n",
       "        1.37893701, 1.42490157, 1.47086614, 1.51683071, 1.56279528,\n",
       "        1.60875984, 1.65472441, 1.70068898, 1.74665354, 1.79261811,\n",
       "        1.83858268]),\n",
       " <BarContainer object of 40 artists>)"
      ]
     },
     "execution_count": 4,
     "metadata": {},
     "output_type": "execute_result"
    },
    {
     "data": {
      "image/png": "[encoded data removed]",
      "text/plain": [
       "<Figure size 432x288 with 1 Axes>"
      ]
     },
     "metadata": {},
     "output_type": "display_data"
    }
   ],
   "source": [
    "%matplotlib inline\n",
    "import matplotlib.pyplot as plt\n",
    "import seaborn; seaborn.set()\n",
    "\n",
    "plt.hist(inches, 40)"
   ]
  },
  {
   "cell_type": "markdown",
   "id": "5d5966c8-ee13-4548-9802-c6e28c7d45f4",
   "metadata": {},
   "source": [
    "## 2. 和通用函数类似的比较操作"
   ]
  },
  {
   "cell_type": "markdown",
   "id": "b4fff86b-be65-4950-b17a-beedfcf481ca",
   "metadata": {},
   "source": [
    "和算术运算符一样，比较运算操作在 `NumPy` 中也是借助通用函数来实现的。例如当你写 `x < 3` 时，`NumPy` 内部会使用 `np.less(x, 3)`。"
   ]
  },
  {
   "cell_type": "code",
   "execution_count": 5,
   "id": "82ca3528-30db-454d-b516-cfbff8e137ea",
   "metadata": {},
   "outputs": [
    {
     "name": "stdout",
     "output_type": "stream",
     "text": [
      "[ True  True False False False]\n",
      "[False False False  True  True]\n",
      "[ True  True  True False False]\n",
      "[False False  True  True  True]\n",
      "[ True  True False  True  True]\n",
      "[False False  True False False]\n",
      "[False  True False False False]\n"
     ]
    }
   ],
   "source": [
    "x = np.array([1, 2, 3, 4, 5])\n",
    "print(x <  3)\n",
    "print(x >  3)\n",
    "print(x <= 3)\n",
    "print(x >= 3)\n",
    "print(x != 3)\n",
    "print(x == 3)\n",
    "print((2 * x) == (x ** 2))"
   ]
  },
  {
   "cell_type": "markdown",
   "id": "f04ea034-6686-464f-b2f9-85e3f82501ec",
   "metadata": {},
   "source": [
    "**比较运算符与其对应的通用函数：**\n",
    "\n",
    "| 运算符 | 对应的通用函数\n",
    "| -- | -- |\n",
    "| == | np.equal |\n",
    "| != | np.not_equal |\n",
    "| < | np.less |\n",
    "| <= | np.less_equal |\n",
    "| > | np.greater |\n",
    "| >= | np.greater_equal |"
   ]
  },
  {
   "cell_type": "code",
   "execution_count": 6,
   "id": "90c231da-019e-4977-b831-72f05ce4e0ac",
   "metadata": {},
   "outputs": [
    {
     "name": "stdout",
     "output_type": "stream",
     "text": [
      "[[5 0 3 3]\n",
      " [7 9 3 5]\n",
      " [2 4 7 6]]\n"
     ]
    },
    {
     "data": {
      "text/plain": [
       "array([[ True,  True,  True,  True],\n",
       "       [False, False,  True,  True],\n",
       "       [ True,  True, False, False]])"
      ]
     },
     "execution_count": 6,
     "metadata": {},
     "output_type": "execute_result"
    }
   ],
   "source": [
    "rng = np.random.RandomState(0)\n",
    "x = rng.randint(10, size=(3,4))\n",
    "print(x)\n",
    "\n",
    "x < 6"
   ]
  },
  {
   "cell_type": "markdown",
   "id": "0dba8912-397e-4779-a434-e07fdf3bf0c7",
   "metadata": {},
   "source": [
    "## 3. 操作布尔数组"
   ]
  },
  {
   "cell_type": "code",
   "execution_count": 7,
   "id": "acb8310b-0998-4d57-acb7-f3fb2153e6af",
   "metadata": {},
   "outputs": [
    {
     "name": "stdout",
     "output_type": "stream",
     "text": [
      "[[5 0 3 3]\n",
      " [7 9 3 5]\n",
      " [2 4 7 6]]\n"
     ]
    }
   ],
   "source": [
    "print(x)"
   ]
  },
  {
   "cell_type": "markdown",
   "id": "37258cd8-2baa-41ff-9850-bba062ab02f5",
   "metadata": {},
   "source": [
    "### 3.1. 统计记录的个数"
   ]
  },
  {
   "cell_type": "markdown",
   "id": "3203dee8-a1f3-4dd6-ba00-ebd27d79d084",
   "metadata": {},
   "source": [
    "`Python`中 `False` 会被解释成 0，`True` 会被解释成 1。"
   ]
  },
  {
   "cell_type": "code",
   "execution_count": 8,
   "id": "8d15ede9-44e0-42cb-b11c-2401bb9591a9",
   "metadata": {},
   "outputs": [
    {
     "data": {
      "text/plain": [
       "8"
      ]
     },
     "execution_count": 8,
     "metadata": {},
     "output_type": "execute_result"
    }
   ],
   "source": [
    "np.count_nonzero(x < 6)"
   ]
  },
  {
   "cell_type": "code",
   "execution_count": 9,
   "id": "20ac83d4-7a40-4315-bf3e-39566c7504ca",
   "metadata": {},
   "outputs": [
    {
     "data": {
      "text/plain": [
       "8"
      ]
     },
     "execution_count": 9,
     "metadata": {},
     "output_type": "execute_result"
    }
   ],
   "source": [
    "np.sum(x < 6)"
   ]
  },
  {
   "cell_type": "code",
   "execution_count": 10,
   "id": "a5e30c8a-e010-4e9b-86a7-7a9d4fda69e6",
   "metadata": {},
   "outputs": [
    {
     "data": {
      "text/plain": [
       "array([4, 2, 2])"
      ]
     },
     "execution_count": 10,
     "metadata": {},
     "output_type": "execute_result"
    }
   ],
   "source": [
    "np.sum(x < 6, axis=1)"
   ]
  },
  {
   "cell_type": "code",
   "execution_count": 11,
   "id": "2b0b6c4f-55a8-4f05-b927-bb30b56f36e0",
   "metadata": {},
   "outputs": [
    {
     "data": {
      "text/plain": [
       "True"
      ]
     },
     "execution_count": 11,
     "metadata": {},
     "output_type": "execute_result"
    }
   ],
   "source": [
    "np.any(x > 8)"
   ]
  },
  {
   "cell_type": "code",
   "execution_count": 12,
   "id": "db39168d-7009-424c-b0b2-bfc91b0f6c15",
   "metadata": {},
   "outputs": [
    {
     "data": {
      "text/plain": [
       "False"
      ]
     },
     "execution_count": 12,
     "metadata": {},
     "output_type": "execute_result"
    }
   ],
   "source": [
    "np.any(x < 0)"
   ]
  },
  {
   "cell_type": "code",
   "execution_count": 13,
   "id": "75a78713-bc05-41cc-8cba-5bf5f0bb1924",
   "metadata": {},
   "outputs": [
    {
     "data": {
      "text/plain": [
       "True"
      ]
     },
     "execution_count": 13,
     "metadata": {},
     "output_type": "execute_result"
    }
   ],
   "source": [
    "np.all(x < 10)"
   ]
  },
  {
   "cell_type": "code",
   "execution_count": 14,
   "id": "e12f3045-a6ee-4cf4-848c-0a81c93885ff",
   "metadata": {},
   "outputs": [
    {
     "data": {
      "text/plain": [
       "False"
      ]
     },
     "execution_count": 14,
     "metadata": {},
     "output_type": "execute_result"
    }
   ],
   "source": [
    "np.all(x == 6)"
   ]
  },
  {
   "cell_type": "code",
   "execution_count": 15,
   "id": "0d1ec432-4873-4aa2-89b7-a53ff586e75d",
   "metadata": {},
   "outputs": [
    {
     "data": {
      "text/plain": [
       "array([ True, False,  True])"
      ]
     },
     "execution_count": 15,
     "metadata": {},
     "output_type": "execute_result"
    }
   ],
   "source": [
    "np.all(x < 8, axis=1)"
   ]
  },
  {
   "cell_type": "markdown",
   "id": "f166e856-789a-4047-a29d-af8d93726928",
   "metadata": {},
   "source": [
    "### 3.2. 布尔运算符"
   ]
  },
  {
   "cell_type": "code",
   "execution_count": 16,
   "id": "434f5485-9ea7-4f32-a9e1-9247917b96ac",
   "metadata": {},
   "outputs": [
    {
     "data": {
      "text/plain": [
       "29"
      ]
     },
     "execution_count": 16,
     "metadata": {},
     "output_type": "execute_result"
    }
   ],
   "source": [
    "np.sum((inches > 0.5) & (inches < 1))"
   ]
  },
  {
   "cell_type": "code",
   "execution_count": 17,
   "id": "953b02b9-c114-4711-9b96-af5b526efd26",
   "metadata": {},
   "outputs": [
    {
     "data": {
      "text/plain": [
       "29"
      ]
     },
     "execution_count": 17,
     "metadata": {},
     "output_type": "execute_result"
    }
   ],
   "source": [
    "np.sum(~((inches <= 0.5) | (inches >= 1)))"
   ]
  },
  {
   "cell_type": "markdown",
   "id": "20a0147c-8141-4a9b-9c27-874dca0e8758",
   "metadata": {},
   "source": [
    "**逐位布尔运算符与其对应的通用函数**\n",
    "\n",
    "| 运算符 | 对应通用函数 |\n",
    "| -- | -- |\n",
    "| & | np.bitwise_and |\n",
    "| \\| | np.bitwise_or |\n",
    "| ^ | np.bitwise_xor |\n",
    "| ~ | np.bitwise_not |"
   ]
  },
  {
   "cell_type": "code",
   "execution_count": 18,
   "id": "2d160623-e748-42be-a4c3-f1002ee88ca0",
   "metadata": {},
   "outputs": [
    {
     "name": "stdout",
     "output_type": "stream",
     "text": [
      "Number days without rain:        215\n",
      "Number days with rain:           150\n",
      "Days with more than 0.5 inches:  37\n",
      "Rainy days with < 0.2 inches:  75\n"
     ]
    }
   ],
   "source": [
    "print(\"Number days without rain:       \", np.sum(inches == 0))\n",
    "print(\"Number days with rain:          \", np.sum(inches != 0))\n",
    "print(\"Days with more than 0.5 inches: \", np.sum(inches > 0.5))\n",
    "print(\"Rainy days with < 0.2 inches: \", np.sum((inches > 0) & (inches < 0.2)))"
   ]
  },
  {
   "cell_type": "markdown",
   "id": "564d76e6-97ae-4637-a649-0506ac447f4c",
   "metadata": {},
   "source": [
    "## 4. 将布尔数组作为掩码"
   ]
  },
  {
   "cell_type": "markdown",
   "id": "e1f2df38-ae95-4588-9bfd-7fa23d4c1040",
   "metadata": {},
   "source": [
    "在前面的小节中，我们看到了如何直接对布尔数组进行聚合计算。一种更强大的模式是使用布尔数组作为掩码，通过该掩码选择数据的子数据集。"
   ]
  },
  {
   "cell_type": "code",
   "execution_count": 19,
   "id": "4956d8f2-6f44-46f5-8129-4a4c9ef55dc6",
   "metadata": {},
   "outputs": [
    {
     "data": {
      "text/plain": [
       "array([[5, 0, 3, 3],\n",
       "       [7, 9, 3, 5],\n",
       "       [2, 4, 7, 6]])"
      ]
     },
     "execution_count": 19,
     "metadata": {},
     "output_type": "execute_result"
    }
   ],
   "source": [
    "x"
   ]
  },
  {
   "cell_type": "code",
   "execution_count": 20,
   "id": "56b58edc-d4c2-4f4e-bc80-c96e03497815",
   "metadata": {},
   "outputs": [
    {
     "data": {
      "text/plain": [
       "array([[False,  True,  True,  True],\n",
       "       [False, False,  True, False],\n",
       "       [ True,  True, False, False]])"
      ]
     },
     "execution_count": 20,
     "metadata": {},
     "output_type": "execute_result"
    }
   ],
   "source": [
    "x < 5  # 比较运算符可以得到一个同尺寸的布尔数组，即一个掩码数组"
   ]
  },
  {
   "cell_type": "code",
   "execution_count": 21,
   "id": "dd7e7c42-6df7-44b0-9cec-2c86d0825934",
   "metadata": {},
   "outputs": [
    {
     "data": {
      "text/plain": [
       "array([0, 3, 3, 3, 2, 4])"
      ]
     },
     "execution_count": 21,
     "metadata": {},
     "output_type": "execute_result"
    }
   ],
   "source": [
    "x[x < 5]  # 通过掩码选出对应的值"
   ]
  },
  {
   "cell_type": "code",
   "execution_count": 22,
   "id": "aad40e38-aacd-4fda-96c0-3036a5a9cfaa",
   "metadata": {},
   "outputs": [
    {
     "name": "stdout",
     "output_type": "stream",
     "text": [
      "Median precip on rainy days in 2014 (inches):     0.19488188976377951\n",
      "Median precip on summer days in 2014 (inches):    0.0\n",
      "Maximum precip on summer days in 2014 (inches):   0.8503937007874016\n",
      "Median precip on non-summer rainy days (inches):  0.20078740157480315\n"
     ]
    }
   ],
   "source": [
    "# 为所有下雨天创建一个掩码\n",
    "rainy = (inches > 0)\n",
    "\n",
    "# 构建一个包含整个夏季日期的掩码（6月21日是第172天）\n",
    "days = np.arange(365)\n",
    "summer = (days > 172) & (days < 172+90)\n",
    "\n",
    "print(\"Median precip on rainy days in 2014 (inches):    \", np.median(inches[rainy]))\n",
    "print(\"Median precip on summer days in 2014 (inches):   \", np.median(inches[summer]))\n",
    "print(\"Maximum precip on summer days in 2014 (inches):  \", np.max(inches[summer]))\n",
    "print(\"Median precip on non-summer rainy days (inches): \", np.median(inches[rainy & ~summer]))"
   ]
  },
  {
   "cell_type": "markdown",
   "id": "b4a5568b-4952-499f-95f3-898a8b844feb",
   "metadata": {},
   "source": [
    "## 5. 使用关键字 and/or 与使用逻辑操作运算符 &/|"
   ]
  },
  {
   "cell_type": "markdown",
   "id": "77a95725-0f3e-4990-9ec0-f777a11ebc82",
   "metadata": {},
   "source": [
    "人们经常困惑于关键字 `and` 和 `or`，以及逻辑操作运算符 `&` 和 `|` 的区别是什么，什么时候该选择哪一种？  \n",
    "它们的区别是：`and` 和 `or` 判断**整个对象**是真或假，而 `&` 和 `|` 是指**每个对象中的比特位**。  \n",
    "当你使用 `and` 或 `or` 时，就等于让 `Python` 将这个对象当作整个布尔实体。在 `Python` 中，所有非零的整数都会被当作是 `True`："
   ]
  },
  {
   "cell_type": "code",
   "execution_count": 23,
   "id": "7388be69-12e5-4fdd-9823-f1b605d8f4f4",
   "metadata": {},
   "outputs": [
    {
     "data": {
      "text/plain": [
       "(True, False)"
      ]
     },
     "execution_count": 23,
     "metadata": {},
     "output_type": "execute_result"
    }
   ],
   "source": [
    "bool(42), bool(0)"
   ]
  },
  {
   "cell_type": "code",
   "execution_count": 24,
   "id": "c4c30d4d-381c-4f49-9aa7-97f869da0dbd",
   "metadata": {},
   "outputs": [
    {
     "data": {
      "text/plain": [
       "False"
      ]
     },
     "execution_count": 24,
     "metadata": {},
     "output_type": "execute_result"
    }
   ],
   "source": [
    "bool(42 and 0)"
   ]
  },
  {
   "cell_type": "code",
   "execution_count": 25,
   "id": "5e68c84d-9139-4184-bfaa-2ba7bef3c18c",
   "metadata": {},
   "outputs": [
    {
     "data": {
      "text/plain": [
       "True"
      ]
     },
     "execution_count": 25,
     "metadata": {},
     "output_type": "execute_result"
    }
   ],
   "source": [
    "bool(42 or 0)"
   ]
  },
  {
   "cell_type": "markdown",
   "id": "546dc322-bb84-4bbd-859f-526dc8749e3f",
   "metadata": {},
   "source": [
    "当你对整数使用 `&` 和 `|` 时，表达式操作的是元素的比特，将 `and` 或 `or` 应用于组成该数字的每个比特："
   ]
  },
  {
   "cell_type": "code",
   "execution_count": 26,
   "id": "df13e18e-fc0e-4164-8446-a7fb56d17678",
   "metadata": {},
   "outputs": [
    {
     "data": {
      "text/plain": [
       "'0b101010'"
      ]
     },
     "execution_count": 26,
     "metadata": {},
     "output_type": "execute_result"
    }
   ],
   "source": [
    "bin(42)"
   ]
  },
  {
   "cell_type": "code",
   "execution_count": 27,
   "id": "1ccb9581-1c6a-48e6-b7c2-0e0b21a88bd3",
   "metadata": {},
   "outputs": [
    {
     "data": {
      "text/plain": [
       "'0b111011'"
      ]
     },
     "execution_count": 27,
     "metadata": {},
     "output_type": "execute_result"
    }
   ],
   "source": [
    "bin(59)"
   ]
  },
  {
   "cell_type": "code",
   "execution_count": 28,
   "id": "57035191-0048-49b4-9c6d-50d70b68ec2b",
   "metadata": {},
   "outputs": [
    {
     "data": {
      "text/plain": [
       "'0b101010'"
      ]
     },
     "execution_count": 28,
     "metadata": {},
     "output_type": "execute_result"
    }
   ],
   "source": [
    "bin(42 & 59)"
   ]
  },
  {
   "cell_type": "code",
   "execution_count": 29,
   "id": "634c4fd5-8160-4319-a6e4-a97b2b50abb9",
   "metadata": {},
   "outputs": [
    {
     "data": {
      "text/plain": [
       "'0b111011'"
      ]
     },
     "execution_count": 29,
     "metadata": {},
     "output_type": "execute_result"
    }
   ],
   "source": [
    "bin(42 | 59)"
   ]
  },
  {
   "cell_type": "markdown",
   "id": "9d732224-a9bc-45a8-9894-33aa7c277a9a",
   "metadata": {},
   "source": [
    "请注意，`&` 和 `|` 运算时，对应的二进制比特位进行比较以得到最终结果。"
   ]
  },
  {
   "cell_type": "markdown",
   "id": "050bfb28-b3af-4679-9324-1641755dc001",
   "metadata": {},
   "source": [
    "当你在 `NumPy` 中有一个布尔数组时，该数组可以被当作是由比特字符组成的，其中 `1 = True`、`0 = False`。这样的数组可以用上面介绍的方式进行 `&` 和 `|` 的操作："
   ]
  },
  {
   "cell_type": "code",
   "execution_count": 30,
   "id": "cf2945ef-1c7e-467c-9ec7-29cb4fc5dd38",
   "metadata": {},
   "outputs": [
    {
     "data": {
      "text/plain": [
       "array([ True,  True,  True, False,  True,  True])"
      ]
     },
     "execution_count": 30,
     "metadata": {},
     "output_type": "execute_result"
    }
   ],
   "source": [
    "A = np.array([1, 0, 1, 0, 1, 0], dtype=bool)\n",
    "B = np.array([1, 1, 1, 0, 1, 1], dtype=bool)\n",
    "A | B"
   ]
  },
  {
   "cell_type": "markdown",
   "id": "8a9f7c04-28bf-4d7e-b2ae-7a2fa7c525fe",
   "metadata": {},
   "source": [
    "而用 `or` 来计算这两个数组时，`Python` 会计算整个数组对象的真或假，这会导致程序出错："
   ]
  },
  {
   "cell_type": "code",
   "execution_count": 31,
   "id": "05b40ff8-65d7-4212-a409-1b8f6d9ef7ac",
   "metadata": {},
   "outputs": [
    {
     "ename": "ValueError",
     "evalue": "The truth value of an array with more than one element is ambiguous. Use a.any() or a.all()",
     "output_type": "error",
     "traceback": [
      "\u001b[0;31m---------------------------------------------------------------------------\u001b[0m",
      "\u001b[0;31mValueError\u001b[0m                                Traceback (most recent call last)",
      "\u001b[0;32m/tmp/ipykernel_2990/3447948156.py\u001b[0m in \u001b[0;36m<module>\u001b[0;34m\u001b[0m\n\u001b[0;32m----> 1\u001b[0;31m \u001b[0mA\u001b[0m \u001b[0;32mor\u001b[0m \u001b[0mB\u001b[0m\u001b[0;34m\u001b[0m\u001b[0;34m\u001b[0m\u001b[0m\n\u001b[0m",
      "\u001b[0;31mValueError\u001b[0m: The truth value of an array with more than one element is ambiguous. Use a.any() or a.all()"
     ]
    }
   ],
   "source": [
    "A or B"
   ]
  },
  {
   "cell_type": "markdown",
   "id": "24b43b9d-c34e-4199-8855-27169d64dae3",
   "metadata": {},
   "source": [
    "同样，对给定数组进行逻辑运算时，你也应该使用 `|` 或 `&`，而不是 `or` 或 `and`："
   ]
  },
  {
   "cell_type": "code",
   "execution_count": 32,
   "id": "339e37d3-0279-4977-b59a-4de70f1234b4",
   "metadata": {},
   "outputs": [
    {
     "data": {
      "text/plain": [
       "array([False, False, False, False, False,  True,  True,  True, False,\n",
       "       False])"
      ]
     },
     "execution_count": 32,
     "metadata": {},
     "output_type": "execute_result"
    }
   ],
   "source": [
    "x = np.arange(10)\n",
    "(x > 4) & (x < 8)"
   ]
  },
  {
   "cell_type": "markdown",
   "id": "d37e8be5-37b9-44d7-ad80-1b97bbe495ac",
   "metadata": {},
   "source": [
    "如果试图计算整个数组的真或假，程序也同样会给出 `ValueError` 的错误："
   ]
  },
  {
   "cell_type": "code",
   "execution_count": 33,
   "id": "4ed49aef-46cb-4fea-829d-4bf182cf8966",
   "metadata": {},
   "outputs": [
    {
     "ename": "ValueError",
     "evalue": "The truth value of an array with more than one element is ambiguous. Use a.any() or a.all()",
     "output_type": "error",
     "traceback": [
      "\u001b[0;31m---------------------------------------------------------------------------\u001b[0m",
      "\u001b[0;31mValueError\u001b[0m                                Traceback (most recent call last)",
      "\u001b[0;32m/tmp/ipykernel_2990/2869511139.py\u001b[0m in \u001b[0;36m<module>\u001b[0;34m\u001b[0m\n\u001b[0;32m----> 1\u001b[0;31m \u001b[0;34m(\u001b[0m\u001b[0mx\u001b[0m \u001b[0;34m>\u001b[0m \u001b[0;36m4\u001b[0m\u001b[0;34m)\u001b[0m \u001b[0;32mand\u001b[0m \u001b[0;34m(\u001b[0m\u001b[0mx\u001b[0m \u001b[0;34m<\u001b[0m \u001b[0;36m8\u001b[0m\u001b[0;34m)\u001b[0m\u001b[0;34m\u001b[0m\u001b[0;34m\u001b[0m\u001b[0m\n\u001b[0m",
      "\u001b[0;31mValueError\u001b[0m: The truth value of an array with more than one element is ambiguous. Use a.any() or a.all()"
     ]
    }
   ],
   "source": [
    "(x > 4) and (x < 8)"
   ]
  },
  {
   "cell_type": "markdown",
   "id": "f3272d56-e978-417a-9401-09d90ef13e7b",
   "metadata": {},
   "source": [
    "因此可以记住：`and` 和 `or` 对整个对象执行单个布尔运算，而 `&` 和 `|` 对一个对象的内容（单个比特或字节）执行多个布尔运算。对于 `NumPy` 布尔数组，后者是常用的操作。"
   ]
  },
  {
   "cell_type": "code",
   "execution_count": null,
   "id": "1c6b0bd2-35cc-4adb-847d-b7a687aa5f41",
   "metadata": {},
   "outputs": [],
   "source": []
  }
 ],
 "metadata": {
  "kernelspec": {
   "display_name": "Python 3 (ipykernel)",
   "language": "python",
   "name": "python3"
  },
  "language_info": {
   "codemirror_mode": {
    "name": "ipython",
    "version": 3
   },
   "file_extension": ".py",
   "mimetype": "text/x-python",
   "name": "python",
   "nbconvert_exporter": "python",
   "pygments_lexer": "ipython3",
   "version": "3.7.3"
  }
 },
 "nbformat": 4,
 "nbformat_minor": 5
}
