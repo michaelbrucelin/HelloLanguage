{
 "cells": [
  {
   "cell_type": "markdown",
   "id": "595a7944-c3d6-4022-9f6b-950d9904ec63",
   "metadata": {},
   "source": [
    "# NumPy数组基础"
   ]
  },
  {
   "cell_type": "markdown",
   "id": "01f69c0b-1f32-4263-9e2f-25ea2018d5c2",
   "metadata": {},
   "source": [
    "`Python` 中的数据操作几乎等同于 `NumPy` 数组操作，甚至新出现的 `Pandas` 工具也是构建在 NumPy 数组的基础之上的。  \n",
    "本节将展示一些用 `NumPy` 数组操作获取数据或子数组，对数组进行分裂、变形和连接的例子。  \n",
    "\n",
    "我们将介绍以下几类基本的数组操作。\n",
    "- 数组的属性\n",
    "    - 确定数组的大小、形状、存储大小、数据类型。\n",
    "- 数组的索引\n",
    "    - 获取和设置数组各个元素的值。\n",
    "- 数组的切分\n",
    "    - 在大的数组中获取或设置更小的子数组。\n",
    "- 数组的变形\n",
    "    - 改变给定数组的形状。\n",
    "- 数组的拼接和分裂\n",
    "    - 将多个数组合并为一个，以及将一个数组分裂成多个。"
   ]
  },
  {
   "cell_type": "code",
   "execution_count": 1,
   "id": "37a787df-c652-4c1d-bb2e-2902584cfff4",
   "metadata": {},
   "outputs": [],
   "source": [
    "import numpy as np\n",
    "\n",
    "np.random.seed(0)"
   ]
  },
  {
   "cell_type": "markdown",
   "id": "eae1fe85-fe20-42a6-b55a-171c36828606",
   "metadata": {},
   "source": [
    "## 1. NumPy数组的属性"
   ]
  },
  {
   "cell_type": "code",
   "execution_count": 2,
   "id": "5ccec40f-1883-47d9-9d9c-a455aa09b24a",
   "metadata": {},
   "outputs": [],
   "source": [
    "x1 = np.random.randint(10, size=6)\n",
    "x2 = np.random.randint(10, size=(3,4))\n",
    "x3 = np.random.randint(10, size=(3,4,5))"
   ]
  },
  {
   "cell_type": "code",
   "execution_count": 3,
   "id": "a96c8627-4df7-4d63-b97a-8e1b8cef6a25",
   "metadata": {},
   "outputs": [
    {
     "name": "stdout",
     "output_type": "stream",
     "text": [
      "x3 ndim:  3\n",
      "x3 shape:  (3, 4, 5)\n",
      "x3 size:  60\n",
      "x3 dtype:  int64\n",
      "x3 itemsize:  8 bytes\n",
      "x3 nbytes:  480 bytes\n"
     ]
    }
   ],
   "source": [
    "print(\"x3 ndim: \", x3.ndim)\n",
    "print(\"x3 shape: \", x3.shape)\n",
    "print(\"x3 size: \", x3.size)\n",
    "print(\"x3 dtype: \", x3.dtype)\n",
    "print(\"x3 itemsize: \", x3.itemsize, \"bytes\")\n",
    "print(\"x3 nbytes: \", x3.nbytes, \"bytes\")  # 通常情况下，nbytes = itemsize * size"
   ]
  },
  {
   "cell_type": "markdown",
   "id": "cd0df4f5-eeb8-4876-94f6-73e5fb1b25ab",
   "metadata": {},
   "source": [
    "## 2. 数组索引：获取单个元素"
   ]
  },
  {
   "cell_type": "code",
   "execution_count": 4,
   "id": "adfc6eee-c109-418c-ae7a-1b24f933d94a",
   "metadata": {},
   "outputs": [
    {
     "name": "stdout",
     "output_type": "stream",
     "text": [
      "[5 0 3 3 7 9]\n",
      "5\n",
      "7\n",
      "9\n",
      "7\n"
     ]
    }
   ],
   "source": [
    "print(x1)\n",
    "print(x1[0])\n",
    "print(x1[4])\n",
    "print(x1[-1])\n",
    "print(x1[-2])"
   ]
  },
  {
   "cell_type": "code",
   "execution_count": 5,
   "id": "83b6daaf-e997-433b-a96b-aafdef20a428",
   "metadata": {},
   "outputs": [
    {
     "name": "stdout",
     "output_type": "stream",
     "text": [
      "[[3 5 2 4]\n",
      " [7 6 8 8]\n",
      " [1 6 7 7]]\n",
      "3\n",
      "1\n",
      "7\n",
      "[[12  5  2  4]\n",
      " [ 7  6  8  8]\n",
      " [ 1  6  7  7]]\n",
      "[3 0 3 3 7 9]\n"
     ]
    }
   ],
   "source": [
    "print(x2)\n",
    "print(x2[0,0])\n",
    "print(x2[2,0])\n",
    "print(x2[2,-1])\n",
    "\n",
    "x2[0,0] = 12\n",
    "print(x2)\n",
    "\n",
    "x1[0] = 3.14159  # 与Python列表不同，NumPy数组是固定类型的\n",
    "print(x1)"
   ]
  },
  {
   "cell_type": "markdown",
   "id": "9b7e8d93-61a0-44fe-b2ab-2480465d8ae6",
   "metadata": {},
   "source": [
    "## 3. 数组切片：获取子数组"
   ]
  },
  {
   "cell_type": "markdown",
   "id": "67eff6f7-1f75-459f-99f9-45c5abb0f321",
   "metadata": {},
   "source": [
    "### 3.1 一维子数组"
   ]
  },
  {
   "cell_type": "code",
   "execution_count": 6,
   "id": "1ee895d6-0d8e-4717-9ff2-271fb98159e3",
   "metadata": {},
   "outputs": [
    {
     "name": "stdout",
     "output_type": "stream",
     "text": [
      "[0 1 2 3 4 5 6 7 8 9]\n",
      "[0 1 2 3 4]\n",
      "[5 6 7 8 9]\n",
      "[4 5 6]\n",
      "[0 2 4 6 8]\n",
      "[1 3 5 7 9]\n",
      "[9 8 7 6 5 4 3 2 1 0]\n",
      "[5 3 1]\n"
     ]
    }
   ],
   "source": [
    "x = np.arange(10)\n",
    "print(x)\n",
    "\n",
    "print(x[:5])\n",
    "print(x[5:])\n",
    "print(x[4:7])\n",
    "print(x[::2])\n",
    "print(x[1::2])\n",
    "print(x[::-1])  # start参数与stop参数默认是被交换的\n",
    "print(x[5::-2])"
   ]
  },
  {
   "cell_type": "markdown",
   "id": "f8f8542d-c241-45f2-a2bd-8a5fad6d0cfe",
   "metadata": {},
   "source": [
    "### 3.2 多维子数组"
   ]
  },
  {
   "cell_type": "code",
   "execution_count": 7,
   "id": "1bb900d0-62a2-4ee4-b794-8d1faa18ec2a",
   "metadata": {},
   "outputs": [
    {
     "name": "stdout",
     "output_type": "stream",
     "text": [
      "[[12  5  2  4]\n",
      " [ 7  6  8  8]\n",
      " [ 1  6  7  7]]\n",
      "[[12  5  2]\n",
      " [ 7  6  8]]\n",
      "[[12  2]\n",
      " [ 7  8]\n",
      " [ 1  7]]\n",
      "[[ 7  7  6  1]\n",
      " [ 8  8  6  7]\n",
      " [ 4  2  5 12]]\n"
     ]
    }
   ],
   "source": [
    "print(x2)\n",
    "\n",
    "print(x2[:2,:3])\n",
    "print(x2[:3,::2])\n",
    "print(x2[::-1,::-1])"
   ]
  },
  {
   "cell_type": "markdown",
   "id": "2d517cc6-31ea-4324-832c-2c2cee0340d2",
   "metadata": {},
   "source": [
    "### 3.3 获取数组的行和列"
   ]
  },
  {
   "cell_type": "code",
   "execution_count": 8,
   "id": "0dfd7ed6-5bee-4693-b97a-1f303ba64ac7",
   "metadata": {},
   "outputs": [
    {
     "name": "stdout",
     "output_type": "stream",
     "text": [
      "[[12  5  2  4]\n",
      " [ 7  6  8  8]\n",
      " [ 1  6  7  7]]\n",
      "[12  7  1]\n",
      "[12  5  2  4]\n",
      "[12  5  2  4]\n"
     ]
    }
   ],
   "source": [
    "print(x2)\n",
    "\n",
    "print(x2[:,0])  # 第一列\n",
    "print(x2[0,:])  # 第一行\n",
    "print(x2[0])    # 第一行"
   ]
  },
  {
   "cell_type": "markdown",
   "id": "3848bc1d-d3ff-4660-bfc7-5458604d673d",
   "metadata": {},
   "source": [
    "### 3.4 非副本视图的子数组\n",
    "\n",
    "关于数组切片有一点很重要也非常有用，那就是数组切片返回的是数组数据的**视图**，而不是数值数据的**副本**。  \n",
    "这一点也是 `NumPy` 数组切片和 `Python` 列表切片的不同之处：在 `Python` 列表中，切片是值的副本。  \n",
    "这种默认的处理方式实际上非常有用：它意味着在处理非常大的数据集时，可以获取或处理这些数据集的片段，而不用复制底层的数据缓存。"
   ]
  },
  {
   "cell_type": "code",
   "execution_count": 9,
   "id": "ef05302f-15a4-4bd3-80ee-e02b2a1fc1ed",
   "metadata": {},
   "outputs": [
    {
     "name": "stdout",
     "output_type": "stream",
     "text": [
      "[[12  5  2  4]\n",
      " [ 7  6  8  8]\n",
      " [ 1  6  7  7]]\n",
      "[[12  5]\n",
      " [ 7  6]]\n",
      "[[99  5]\n",
      " [ 7  6]]\n",
      "[[99  5  2  4]\n",
      " [ 7  6  8  8]\n",
      " [ 1  6  7  7]]\n"
     ]
    }
   ],
   "source": [
    "print(x2)\n",
    "\n",
    "x2_sub = x2[:2,:2]\n",
    "print(x2_sub)\n",
    "\n",
    "x2_sub[0,0] = 99\n",
    "print(x2_sub)\n",
    "print(x2)"
   ]
  },
  {
   "cell_type": "markdown",
   "id": "e4ec1906-cb77-4cc4-83e6-c6e8ca08fdbc",
   "metadata": {},
   "source": [
    "### 3.5 创建数组的副本"
   ]
  },
  {
   "cell_type": "code",
   "execution_count": 10,
   "id": "e196147b-7b99-4044-9b03-86f8ffe37c9c",
   "metadata": {},
   "outputs": [
    {
     "name": "stdout",
     "output_type": "stream",
     "text": [
      "[[99  5]\n",
      " [ 7  6]]\n",
      "[[42  5]\n",
      " [ 7  6]]\n",
      "[[99  5  2  4]\n",
      " [ 7  6  8  8]\n",
      " [ 1  6  7  7]]\n"
     ]
    }
   ],
   "source": [
    "x2_sub_copy = x2[:2,:2].copy()\n",
    "print(x2_sub_copy)\n",
    "\n",
    "x2_sub_copy[0,0] = 42\n",
    "print(x2_sub_copy)\n",
    "print(x2)"
   ]
  },
  {
   "cell_type": "markdown",
   "id": "f6fcfd38-72fb-47fb-b697-a4cf6c90e821",
   "metadata": {},
   "source": [
    "## 4. 数组的变形"
   ]
  },
  {
   "cell_type": "markdown",
   "id": "448605c1-b74b-47c6-8f01-1fec6b1a63be",
   "metadata": {},
   "source": [
    "- 数组变形最灵活的实现方式是通过 `reshape()` 函数来实现。\n",
    "    - 请注意，如果希望该方法可行，那么原始数组的大小必须和变形后数组的大小一致。\n",
    "    - 如果满足这个条件，`reshape` 方法将会用到原始数组的一个非副本视图。\n",
    "    - 但实际情况是，在非连续的数据缓存的情况下，返回非副本视图往往不可能实现。"
   ]
  },
  {
   "cell_type": "code",
   "execution_count": 11,
   "id": "5cbd7d51-e7e0-4625-ab7e-e079786b5f54",
   "metadata": {},
   "outputs": [
    {
     "name": "stdout",
     "output_type": "stream",
     "text": [
      "[[1 2 3]\n",
      " [4 5 6]\n",
      " [7 8 9]]\n"
     ]
    }
   ],
   "source": [
    "grid = np.arange(1, 10).reshape((3,3))\n",
    "print(grid)"
   ]
  },
  {
   "cell_type": "markdown",
   "id": "111216ad-23ee-4096-9120-433fd12f0eb0",
   "metadata": {},
   "source": [
    "- 另外一个常见的变形模式是将一个一维数组转变为二维的行或列的矩阵。\n",
    "    - 你也可以通过 `reshape` 方法来实现，或者更简单地在一个切片操作中利用 `newaxis` 关键字"
   ]
  },
  {
   "cell_type": "code",
   "execution_count": 12,
   "id": "362f9037-7bb7-4079-8a6f-a5a04fb69108",
   "metadata": {},
   "outputs": [
    {
     "data": {
      "text/plain": [
       "array([1, 2, 3])"
      ]
     },
     "execution_count": 12,
     "metadata": {},
     "output_type": "execute_result"
    }
   ],
   "source": [
    "x = np.array([1, 2, 3])\n",
    "x"
   ]
  },
  {
   "cell_type": "code",
   "execution_count": 13,
   "id": "aca9785e-98f6-4d0e-877b-7fc6c78ea2f7",
   "metadata": {},
   "outputs": [
    {
     "data": {
      "text/plain": [
       "array([[1, 2, 3]])"
      ]
     },
     "execution_count": 13,
     "metadata": {},
     "output_type": "execute_result"
    }
   ],
   "source": [
    "x.reshape((1,3))  # 通过reshape()获得的行向量"
   ]
  },
  {
   "cell_type": "code",
   "execution_count": 14,
   "id": "6ebe87c5-55c7-40d2-b829-ae0fa904ba67",
   "metadata": {},
   "outputs": [
    {
     "data": {
      "text/plain": [
       "array([[1, 2, 3]])"
      ]
     },
     "execution_count": 14,
     "metadata": {},
     "output_type": "execute_result"
    }
   ],
   "source": [
    "x[np.newaxis,:]  # 通过newaxis获得的行向量"
   ]
  },
  {
   "cell_type": "code",
   "execution_count": 15,
   "id": "8a76adb9-ea76-4872-8d22-0a671d3cb34c",
   "metadata": {},
   "outputs": [
    {
     "data": {
      "text/plain": [
       "array([[1],\n",
       "       [2],\n",
       "       [3]])"
      ]
     },
     "execution_count": 15,
     "metadata": {},
     "output_type": "execute_result"
    }
   ],
   "source": [
    "x.reshape((3,1))  # 通过reshape()获得的列向量"
   ]
  },
  {
   "cell_type": "code",
   "execution_count": 16,
   "id": "3484c0ff-0780-4985-b9bd-577db5e3e1c4",
   "metadata": {},
   "outputs": [
    {
     "data": {
      "text/plain": [
       "array([[1],\n",
       "       [2],\n",
       "       [3]])"
      ]
     },
     "execution_count": 16,
     "metadata": {},
     "output_type": "execute_result"
    }
   ],
   "source": [
    "x[:,np.newaxis]  # 通过newaxis获得的列向量"
   ]
  },
  {
   "cell_type": "markdown",
   "id": "1a132c90-8110-42cb-9659-7f5ae9e6d5bf",
   "metadata": {},
   "source": [
    "## 5. 数组的拼接与分列"
   ]
  },
  {
   "cell_type": "markdown",
   "id": "7c977999-f86e-4b76-9500-5b1cccd53bee",
   "metadata": {},
   "source": [
    "### 5.1 数组的拼接\n",
    "\n",
    "拼接或连接 `NumPy` 中的两个数组主要由 `np.concatenate`、`np.vstack`、 `np.hstack` 和 `np.dstack` 例程实现。"
   ]
  },
  {
   "cell_type": "code",
   "execution_count": 17,
   "id": "7622d9e1-abcb-464a-a2fb-1a77a065bda1",
   "metadata": {},
   "outputs": [
    {
     "data": {
      "text/plain": [
       "array([1, 2, 3, 3, 2, 1])"
      ]
     },
     "execution_count": 17,
     "metadata": {},
     "output_type": "execute_result"
    }
   ],
   "source": [
    "x = np.array([1, 2, 3])\n",
    "y = np.array([3, 2, 1])\n",
    "np.concatenate([x, y])"
   ]
  },
  {
   "cell_type": "code",
   "execution_count": 18,
   "id": "469ebfc0-b6ef-40cd-ab7c-34c6985744cc",
   "metadata": {},
   "outputs": [
    {
     "data": {
      "text/plain": [
       "array([ 1,  2,  3,  3,  2,  1, 99, 99, 99])"
      ]
     },
     "execution_count": 18,
     "metadata": {},
     "output_type": "execute_result"
    }
   ],
   "source": [
    "z = [99, 99, 99]\n",
    "np.concatenate([x, y, z])"
   ]
  },
  {
   "cell_type": "code",
   "execution_count": 19,
   "id": "e4625646-0527-452b-9b61-3b4324cc3334",
   "metadata": {},
   "outputs": [
    {
     "data": {
      "text/plain": [
       "array([[1, 2, 3],\n",
       "       [4, 5, 6],\n",
       "       [1, 2, 3],\n",
       "       [4, 5, 6]])"
      ]
     },
     "execution_count": 19,
     "metadata": {},
     "output_type": "execute_result"
    }
   ],
   "source": [
    "grid = np.array([[1, 2, 3],\n",
    "                 [4, 5, 6]])\n",
    "np.concatenate([grid, grid])  # 沿着第1个轴拼接二维数组"
   ]
  },
  {
   "cell_type": "code",
   "execution_count": 20,
   "id": "c8a8c2f0-d09c-4f6a-9540-29c84e742383",
   "metadata": {},
   "outputs": [
    {
     "data": {
      "text/plain": [
       "array([[1, 2, 3, 1, 2, 3],\n",
       "       [4, 5, 6, 4, 5, 6]])"
      ]
     },
     "execution_count": 20,
     "metadata": {},
     "output_type": "execute_result"
    }
   ],
   "source": [
    "np.concatenate([grid, grid], axis=1)  # 沿着第2个轴拼接二维数组"
   ]
  },
  {
   "cell_type": "code",
   "execution_count": 21,
   "id": "9a244ba9-fb4e-4140-98e4-b482d79c943d",
   "metadata": {},
   "outputs": [
    {
     "data": {
      "text/plain": [
       "array([[1, 2, 3],\n",
       "       [9, 8, 7],\n",
       "       [6, 5, 4]])"
      ]
     },
     "execution_count": 21,
     "metadata": {},
     "output_type": "execute_result"
    }
   ],
   "source": [
    "x = np.array([1, 2, 3])\n",
    "grid = np.array([[9, 8, 7],\n",
    "                 [6, 5, 4]])\n",
    "\n",
    "np.vstack([x, grid])  # 垂直栈数组，沿着第一个维度拼接数组"
   ]
  },
  {
   "cell_type": "code",
   "execution_count": 22,
   "id": "e8f68438-3fc9-423b-ae59-0f581a5dc771",
   "metadata": {},
   "outputs": [
    {
     "data": {
      "text/plain": [
       "array([[ 9,  8,  7, 99],\n",
       "       [ 6,  5,  4, 99]])"
      ]
     },
     "execution_count": 22,
     "metadata": {},
     "output_type": "execute_result"
    }
   ],
   "source": [
    "y = np.array([[99],\n",
    "              [99]])\n",
    "\n",
    "np.hstack([grid, y])  # 水平栈数组，沿着第二个维度拼接数组"
   ]
  },
  {
   "cell_type": "markdown",
   "id": "a3361e1e-bcee-4650-bd62-aa47756acd14",
   "metadata": {},
   "source": [
    "- `np.dstack()` 沿着第三个维度拼接数组。"
   ]
  },
  {
   "cell_type": "markdown",
   "id": "db216296-336a-4975-ad87-d2382ce55d36",
   "metadata": {},
   "source": [
    "### 5.2 数组的分裂\n",
    "\n",
    "与拼接相反的过程是分裂。分裂可以通过 `np.split`、`np.hsplit`、`np.vsplit` 和 `np.dsplit` 函数来实现。  \n",
    "可以向以上函数传递一个索引列表作为参数，索引列表记录的是分裂点位置。"
   ]
  },
  {
   "cell_type": "code",
   "execution_count": 23,
   "id": "5800800d-9022-4b15-9480-1edc39033de8",
   "metadata": {},
   "outputs": [
    {
     "name": "stdout",
     "output_type": "stream",
     "text": [
      "[1 2 3] [99 99] [3 2 1]\n"
     ]
    }
   ],
   "source": [
    "x = [1, 2, 3, 99, 99, 3, 2, 1]\n",
    "x1, x2, x3 = np.split(x, [3,5])\n",
    "print(x1, x2, x3)"
   ]
  },
  {
   "cell_type": "code",
   "execution_count": 24,
   "id": "61845d9e-bf39-4f8d-90bb-498b9a36d47c",
   "metadata": {},
   "outputs": [
    {
     "name": "stdout",
     "output_type": "stream",
     "text": [
      "[[ 0  1  2  3]\n",
      " [ 4  5  6  7]\n",
      " [ 8  9 10 11]\n",
      " [12 13 14 15]]\n",
      "[[0 1 2 3]\n",
      " [4 5 6 7]]\n",
      "[[ 8  9 10 11]\n",
      " [12 13 14 15]]\n"
     ]
    }
   ],
   "source": [
    "grid = np.arange(16).reshape((4,4))\n",
    "print(grid)\n",
    "\n",
    "upper, lower = np.vsplit(grid, [2])\n",
    "print(upper)\n",
    "print(lower)"
   ]
  },
  {
   "cell_type": "code",
   "execution_count": 25,
   "id": "2c03ee12-674f-4816-b330-3bbee560a6ea",
   "metadata": {},
   "outputs": [
    {
     "name": "stdout",
     "output_type": "stream",
     "text": [
      "[[ 0  1]\n",
      " [ 4  5]\n",
      " [ 8  9]\n",
      " [12 13]]\n",
      "[[ 2  3]\n",
      " [ 6  7]\n",
      " [10 11]\n",
      " [14 15]]\n"
     ]
    }
   ],
   "source": [
    "left, right = np.hsplit(grid, [2])\n",
    "print(left)\n",
    "print(right)"
   ]
  },
  {
   "cell_type": "markdown",
   "id": "68969be1-9515-4561-8c11-a53b268d2164",
   "metadata": {},
   "source": [
    "- `np.dsplit()` 沿着第三个维度分裂数组。"
   ]
  },
  {
   "cell_type": "code",
   "execution_count": null,
   "id": "0451caa9-61bb-4feb-9ae3-166e40177a79",
   "metadata": {},
   "outputs": [],
   "source": []
  }
 ],
 "metadata": {
  "kernelspec": {
   "display_name": "Python 3 (ipykernel)",
   "language": "python",
   "name": "python3"
  },
  "language_info": {
   "codemirror_mode": {
    "name": "ipython",
    "version": 3
   },
   "file_extension": ".py",
   "mimetype": "text/x-python",
   "name": "python",
   "nbconvert_exporter": "python",
   "pygments_lexer": "ipython3",
   "version": "3.7.3"
  }
 },
 "nbformat": 4,
 "nbformat_minor": 5
}
