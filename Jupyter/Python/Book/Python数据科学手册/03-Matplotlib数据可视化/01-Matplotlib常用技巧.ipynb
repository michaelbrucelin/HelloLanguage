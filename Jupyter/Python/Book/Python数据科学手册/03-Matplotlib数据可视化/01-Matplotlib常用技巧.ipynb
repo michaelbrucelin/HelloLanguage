{
 "cells": [
  {
   "cell_type": "markdown",
   "id": "c4c29d37-37ef-4580-ad8d-5b3b9e8158a4",
   "metadata": {},
   "source": [
    "# Matplotlib常用技巧"
   ]
  },
  {
   "cell_type": "markdown",
   "id": "de5d0cc3-ae8d-42a4-956b-ddcc97aea0b0",
   "metadata": {},
   "source": [
    "## 1. 导入Matplotlib"
   ]
  },
  {
   "cell_type": "code",
   "execution_count": 1,
   "id": "4fe049d3-1f42-4243-a105-28ed9321d588",
   "metadata": {},
   "outputs": [],
   "source": [
    "import matplotlib as mpl\n",
    "import matplotlib.pyplot as plt  # plt是最常用的接口"
   ]
  },
  {
   "cell_type": "markdown",
   "id": "33928c3e-df13-42a9-89c5-f414f7005b4a",
   "metadata": {},
   "source": [
    "## 2. 设置绘图样式"
   ]
  },
  {
   "cell_type": "code",
   "execution_count": 2,
   "id": "1be952bf-a7f5-441c-9dde-64e44f40e3e0",
   "metadata": {},
   "outputs": [],
   "source": [
    "plt.style.use('classic')  # 选择经典（classic）风格，这样画出的图就都是经典的 Matplotlib 风格了"
   ]
  },
  {
   "cell_type": "markdown",
   "id": "0888d632-3d6d-4a6d-a877-9d7e36e450ec",
   "metadata": {},
   "source": [
    "## 3. 用不用show()？如何显示图形"
   ]
  },
  {
   "cell_type": "markdown",
   "id": "de9f3256-1304-4739-af70-d852a02a4308",
   "metadata": {},
   "source": [
    "如何显示你的图形，就取决于具体的开发环境了。`Matplotlib` 的最佳实践与你使用的开发环境有关。  \n",
    "简单来说，就是有三种开发环境，分别是脚本、IPython shell 和 IPython Notebook。"
   ]
  },
  {
   "cell_type": "markdown",
   "id": "d84716fc-e99f-45d0-b7a3-c60942a28636",
   "metadata": {},
   "source": [
    "### 3.1. 在脚本中画图"
   ]
  },
  {
   "cell_type": "code",
   "execution_count": null,
   "id": "e2f270b1-a81c-42bb-aa15-b1196791c0f9",
   "metadata": {},
   "outputs": [],
   "source": []
  },
  {
   "cell_type": "markdown",
   "id": "c8195d27-fc30-454c-b05b-da3e11bbcfb2",
   "metadata": {},
   "source": [
    "### 3.2. 在IPython shell中画图"
   ]
  },
  {
   "cell_type": "code",
   "execution_count": null,
   "id": "099e2c4b-a923-4a48-8954-7b42931c7d0d",
   "metadata": {},
   "outputs": [],
   "source": []
  },
  {
   "cell_type": "markdown",
   "id": "17d096e4-3d0e-4fbc-ac3b-5e5a42a0d9c6",
   "metadata": {},
   "source": [
    "### 3.3. 在IPython Notebook中画图"
   ]
  },
  {
   "cell_type": "code",
   "execution_count": null,
   "id": "c0e7fb38-0f23-497a-b34f-79c5e008b942",
   "metadata": {},
   "outputs": [],
   "source": []
  },
  {
   "cell_type": "markdown",
   "id": "521842aa-b4e1-41c8-be70-4e8c55b2397f",
   "metadata": {},
   "source": [
    "## 4. 将图形保存为文件"
   ]
  },
  {
   "cell_type": "code",
   "execution_count": null,
   "id": "296976ee-17ab-45c9-b7c1-44015228dd3e",
   "metadata": {},
   "outputs": [],
   "source": []
  }
 ],
 "metadata": {
  "kernelspec": {
   "display_name": "Python 3 (ipykernel)",
   "language": "python",
   "name": "python3"
  },
  "language_info": {
   "codemirror_mode": {
    "name": "ipython",
    "version": 3
   },
   "file_extension": ".py",
   "mimetype": "text/x-python",
   "name": "python",
   "nbconvert_exporter": "python",
   "pygments_lexer": "ipython3",
   "version": "3.7.3"
  }
 },
 "nbformat": 4,
 "nbformat_minor": 5
}
