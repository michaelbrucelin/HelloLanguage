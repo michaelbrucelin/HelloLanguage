{
 "cells": [
  {
   "cell_type": "markdown",
   "id": "c4c29d37-37ef-4580-ad8d-5b3b9e8158a4",
   "metadata": {},
   "source": [
    "# Matplotlib常用技巧"
   ]
  },
  {
   "cell_type": "markdown",
   "id": "de5d0cc3-ae8d-42a4-956b-ddcc97aea0b0",
   "metadata": {},
   "source": [
    "## 1. 导入Matplotlib"
   ]
  },
  {
   "cell_type": "code",
   "execution_count": 1,
   "id": "d9491ee2-f7fc-4796-9c69-5bb0ff4d6ad4",
   "metadata": {},
   "outputs": [],
   "source": [
    "import matplotlib as mpl\n",
    "import matplotlib.pyplot as plt  # plt是最常用的接口"
   ]
  },
  {
   "cell_type": "markdown",
   "id": "33928c3e-df13-42a9-89c5-f414f7005b4a",
   "metadata": {},
   "source": [
    "## 2. 设置绘图样式"
   ]
  },
  {
   "cell_type": "code",
   "execution_count": 2,
   "id": "1be952bf-a7f5-441c-9dde-64e44f40e3e0",
   "metadata": {},
   "outputs": [],
   "source": [
    "plt.style.use('classic')  # 选择经典（classic）风格，这样画出的图就都是经典的 Matplotlib 风格了"
   ]
  },
  {
   "cell_type": "markdown",
   "id": "0888d632-3d6d-4a6d-a877-9d7e36e450ec",
   "metadata": {},
   "source": [
    "## 3. 用不用show()？如何显示图形"
   ]
  },
  {
   "cell_type": "markdown",
   "id": "de9f3256-1304-4739-af70-d852a02a4308",
   "metadata": {},
   "source": [
    "如何显示你的图形，就取决于具体的开发环境了。`Matplotlib` 的最佳实践与你使用的开发环境有关。  \n",
    "简单来说，就是有三种开发环境，分别是脚本、IPython shell 和 IPython Notebook。"
   ]
  },
  {
   "cell_type": "markdown",
   "id": "d84716fc-e99f-45d0-b7a3-c60942a28636",
   "metadata": {},
   "source": [
    "### 3.1. 在脚本中画图"
   ]
  },
  {
   "cell_type": "markdown",
   "id": "c6e0f6d1-12c8-4ad5-9312-3f2a96d4df0c",
   "metadata": {},
   "source": [
    "如果你在一个脚本文件中使用 `Matplotlib`，那么显示图形的时候必须使用 `plt.show()`。  \n",
    "`plt.show()` 会启动一个事件循环（`event loop`），并找到所有当前可用的图形对象，然后打开一个或多个交互式窗口显示图形。"
   ]
  },
  {
   "cell_type": "markdown",
   "id": "df904e29-34cc-4196-a64c-7fc2e989d5d8",
   "metadata": {},
   "source": [
    "现在有一个名为 `myplot.py` 的文件，你可以从命令行工具中执行这个脚本，然后会看到一个新窗口，里面会显示你的图形：  \n",
    "```python\n",
    "python myplot.py\n",
    "```\n",
    "`plt.show()` 这行代码在后面完成了许多事情，它需要与你使用的操作系统的图形显示接口进行交互。  \n",
    "虽然具体的操作细节会因操作系统和安装过程不同而有很大的差异，但是 `Matplotlib` 为你隐藏了所有的细节，非常省心。  \n",
    "不过有一点需要注意，一个 `Python` 会话（`session`）中**只能**使用一次 `plt.show()`，因此通常都把它放在脚本的最后。  \n",
    "多个 `plt.show()` 命令会导致难以预料的显示异常，应该尽量避免。"
   ]
  },
  {
   "cell_type": "markdown",
   "id": "c8195d27-fc30-454c-b05b-da3e11bbcfb2",
   "metadata": {},
   "source": [
    "### 3.2. 在IPython shell中画图"
   ]
  },
  {
   "cell_type": "markdown",
   "id": "ba12b378-bae0-41fc-bb2f-0cc6beb7deb9",
   "metadata": {},
   "source": [
    "在 `IPython shell` 中交互式地使用 `Matplotlib` 画图非常方便（详情请参见第 1 章），在 `IPython` 启动 `Matplotlib` 模式就可以使用它。  \n",
    "为了启用这个模式，你需要在启动 `ipython` 后使用 `%matplotlib` 魔法命令："
   ]
  },
  {
   "cell_type": "code",
   "execution_count": 3,
   "id": "88258a12-9905-40a6-a3fd-12efd8428433",
   "metadata": {},
   "outputs": [
    {
     "name": "stdout",
     "output_type": "stream",
     "text": [
      "Using matplotlib backend: agg\n"
     ]
    }
   ],
   "source": [
    "%matplotlib\n",
    "import matplotlib.pyplot as plt"
   ]
  },
  {
   "cell_type": "markdown",
   "id": "f188103c-44c0-4caf-9aa3-98afe01667cf",
   "metadata": {},
   "source": [
    "此后的任何 `plt` 命令都会自动打开一个图形窗口，增加新的命令，图形就会更新。  \n",
    "有一些变化（例如改变已经画好的线条属性）不会自动及时更新；对于这些变化，可以使用 `plt.draw()` 强制更新。  \n",
    "在 `IPython shell` 中启动 `Matplotlib` 模式之后，就不需要使用 `plt.show()` 了。"
   ]
  },
  {
   "cell_type": "markdown",
   "id": "17d096e4-3d0e-4fbc-ac3b-5e5a42a0d9c6",
   "metadata": {},
   "source": [
    "### 3.3. 在IPython Notebook中画图"
   ]
  },
  {
   "cell_type": "markdown",
   "id": "41d2da85-666e-4d2e-ab32-5eb7e56e29e3",
   "metadata": {},
   "source": [
    "`IPython Notebook` 是一款基于浏览器的交互式数据分析工具，可以将描述性文字、代码、图形、`HTML` 元素以及更多的媒体形式组合起来，集成到单个可执行的 `Notebook` 文档中（详情请参见第 1 章）。  \n",
    "用 `IPython Notebook` 进行交互式画图与使用 `IPython shell` 类似，也需要使用 `%matplotlib` 命令。你可以将图形直接嵌在 `IPython Notebook` 页面中，有两种展现形式。  \n",
    "- `%matplotlib notebook` 会在 `Notebook` 中启动**交互式**图形。\n",
    "- `%matplotlib inline` 会在 `Notebook` 中启动**静态**图形。  \n",
    "运行命令之后（每一个 `Notebook` 核心任务 / 会话只需要运行一次），在每一个 `Notebook` 的单元中创建图形就会直接将 `PNG` 格式图形文件嵌入在单元中，如下图所示："
   ]
  },
  {
   "cell_type": "code",
   "execution_count": 4,
   "id": "22551592-597c-4765-8766-26f181aea543",
   "metadata": {},
   "outputs": [],
   "source": [
    "%matplotlib inline\n",
    "import matplotlib.pyplot as plt\n",
    "import numpy as np"
   ]
  },
  {
   "cell_type": "code",
   "execution_count": 5,
   "id": "01406364-e066-4857-91a5-a514bb9e5ca0",
   "metadata": {},
   "outputs": [
    {
     "data": {
      "text/plain": [
       "[<matplotlib.lines.Line2D at 0x7f194a557438>]"
      ]
     },
     "execution_count": 5,
     "metadata": {},
     "output_type": "execute_result"
    },
    {
     "data": {
      "image/png": "[encoded data removed]",
      "text/plain": [
       "<Figure size 432x288 with 1 Axes>"
      ]
     },
     "metadata": {
      "needs_background": "light"
     },
     "output_type": "display_data"
    }
   ],
   "source": [
    "x = np.linspace(0, 10, 100)\n",
    "fig = plt.figure()\n",
    "plt.plot(x, np.sin(x), '-')\n",
    "plt.plot(x, np.cos(x), '--')"
   ]
  },
  {
   "cell_type": "markdown",
   "id": "521842aa-b4e1-41c8-be70-4e8c55b2397f",
   "metadata": {},
   "source": [
    "## 4. 将图形保存为文件"
   ]
  },
  {
   "cell_type": "markdown",
   "id": "a50acd75-4c06-4e9c-9aef-18f04ad6bde9",
   "metadata": {},
   "source": [
    "`Matplotlib` 的一个优点是能够将图形保存为各种不同的数据格式。你可以用 `savefig()` 命令将图形保存为文件。"
   ]
  },
  {
   "cell_type": "code",
   "execution_count": 6,
   "id": "91214bba-3e75-4727-922d-421119282ab9",
   "metadata": {},
   "outputs": [],
   "source": [
    "fig.savefig('my_figure.png')  # 文件格式会根据后缀名自动解析"
   ]
  },
  {
   "cell_type": "code",
   "execution_count": 7,
   "id": "e883a662-997f-42db-91e6-27735a25f569",
   "metadata": {},
   "outputs": [
    {
     "name": "stdout",
     "output_type": "stream",
     "text": [
      "-rw-r--r-- 1 root root 26K Sep 24 01:09 my_figure.png\n"
     ]
    }
   ],
   "source": [
    "!ls -lh my_figure.png"
   ]
  },
  {
   "cell_type": "code",
   "execution_count": 8,
   "id": "ac0dcfed-c230-41c4-a9ae-b81373371e08",
   "metadata": {},
   "outputs": [
    {
     "data": {
      "image/png": "[encoded data removed]",
      "text/plain": [
       "<IPython.core.display.Image object>"
      ]
     },
     "execution_count": 8,
     "metadata": {},
     "output_type": "execute_result"
    }
   ],
   "source": [
    "from IPython.display import Image\n",
    "\n",
    "Image('my_figure.png')  # 用 IPython 的 Image 对象来显示文件内容"
   ]
  },
  {
   "cell_type": "markdown",
   "id": "4c3d5b08-74d1-409b-9624-1d1cd7e43aae",
   "metadata": {},
   "source": [
    "在 `savefig()` 里面，保存的图片文件格式就是文件的扩展名。  \n",
    "`Matplotlib` 支持许多图形格式，具体格式由操作系统已安装的图形显示接口决定。  \n",
    "你可以通过 `canvas` 对象的方法查看系统支持的文件格式："
   ]
  },
  {
   "cell_type": "code",
   "execution_count": 9,
   "id": "daf4b36d-c347-4a75-a82f-ebf69a632622",
   "metadata": {},
   "outputs": [
    {
     "data": {
      "text/plain": [
       "{'eps': 'Encapsulated Postscript',\n",
       " 'jpg': 'Joint Photographic Experts Group',\n",
       " 'jpeg': 'Joint Photographic Experts Group',\n",
       " 'pdf': 'Portable Document Format',\n",
       " 'pgf': 'PGF code for LaTeX',\n",
       " 'png': 'Portable Network Graphics',\n",
       " 'ps': 'Postscript',\n",
       " 'raw': 'Raw RGBA bitmap',\n",
       " 'rgba': 'Raw RGBA bitmap',\n",
       " 'svg': 'Scalable Vector Graphics',\n",
       " 'svgz': 'Scalable Vector Graphics',\n",
       " 'tif': 'Tagged Image File Format',\n",
       " 'tiff': 'Tagged Image File Format'}"
      ]
     },
     "execution_count": 9,
     "metadata": {},
     "output_type": "execute_result"
    }
   ],
   "source": [
    "fig.canvas.get_supported_filetypes()"
   ]
  },
  {
   "cell_type": "markdown",
   "id": "c5b1d79c-6b9d-4080-94e7-2b4110832220",
   "metadata": {},
   "source": [
    "需要注意的是，当你保存图形文件时，不需要使用 `plt.show()` 或者前面介绍过的命令。"
   ]
  },
  {
   "cell_type": "code",
   "execution_count": null,
   "id": "7397345f-4f17-4d88-a9ed-854c1eaa80f7",
   "metadata": {},
   "outputs": [],
   "source": []
  }
 ],
 "metadata": {
  "kernelspec": {
   "display_name": "Python 3 (ipykernel)",
   "language": "python",
   "name": "python3"
  },
  "language_info": {
   "codemirror_mode": {
    "name": "ipython",
    "version": 3
   },
   "file_extension": ".py",
   "mimetype": "text/x-python",
   "name": "python",
   "nbconvert_exporter": "python",
   "pygments_lexer": "ipython3",
   "version": "3.7.3"
  }
 },
 "nbformat": 4,
 "nbformat_minor": 5
}
