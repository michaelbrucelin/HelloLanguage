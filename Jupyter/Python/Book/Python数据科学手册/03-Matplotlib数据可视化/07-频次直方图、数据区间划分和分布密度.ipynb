{
 "cells": [
  {
   "cell_type": "markdown",
   "id": "6b85fd52-c7c7-4086-a845-0a592c1b34ba",
   "metadata": {},
   "source": [
    "# 频次直方图、数据区间划分和分布密度"
   ]
  },
  {
   "cell_type": "markdown",
   "id": "36be96c0-e23d-40c1-8a8a-bf14aac43593",
   "metadata": {},
   "source": [
    "一个简易的频次直方图可以是理解数据集的良好开端。"
   ]
  },
  {
   "cell_type": "code",
   "execution_count": 1,
   "id": "656e4557-6541-46ee-a73b-0659ac2b3937",
   "metadata": {},
   "outputs": [],
   "source": [
    "import numpy as np\n",
    "%matplotlib inline\n",
    "import matplotlib.pyplot as plt\n",
    "plt.style.use('seaborn-white')"
   ]
  },
  {
   "cell_type": "code",
   "execution_count": 2,
   "id": "9ce837c7-5b1a-44ec-bfd0-727c216ca73e",
   "metadata": {},
   "outputs": [],
   "source": [
    "data = np.random.randn(1000)"
   ]
  },
  {
   "cell_type": "code",
   "execution_count": 3,
   "id": "56a5c528-65e9-4ddb-988f-20f4ff6dd3c0",
   "metadata": {},
   "outputs": [
    {
     "data": {
      "text/plain": [
       "(array([  4.,  10.,  55.,  97., 229., 236., 211., 109.,  40.,   9.]),\n",
       " array([-3.42885621, -2.80508175, -2.1813073 , -1.55753284, -0.93375839,\n",
       "        -0.30998393,  0.31379052,  0.93756498,  1.56133944,  2.18511389,\n",
       "         2.80888835]),\n",
       " <BarContainer object of 10 artists>)"
      ]
     },
     "execution_count": 3,
     "metadata": {},
     "output_type": "execute_result"
    },
    {
     "data": {
      "image/png": "[encoded data removed]",
      "text/plain": [
       "<Figure size 432x288 with 1 Axes>"
      ]
     },
     "metadata": {},
     "output_type": "display_data"
    }
   ],
   "source": [
    "plt.hist(data)  # 一个简易的频次直方图"
   ]
  },
  {
   "cell_type": "code",
   "execution_count": 6,
   "id": "6f08b48a-cbae-46d3-a22f-25fd5a8d5130",
   "metadata": {},
   "outputs": [
    {
     "data": {
      "text/plain": [
       "(array([ 1.,  0.,  3.,  2.,  4.,  4.,  8., 18., 29., 27., 32., 38., 87.,\n",
       "        65., 77., 81., 77., 78., 82., 69., 60., 42., 38., 29., 17., 10.,\n",
       "        13.,  4.,  3.,  2.]),\n",
       " array([-3.42885621, -3.22093139, -3.01300657, -2.80508175, -2.59715693,\n",
       "        -2.38923211, -2.1813073 , -1.97338248, -1.76545766, -1.55753284,\n",
       "        -1.34960802, -1.1416832 , -0.93375839, -0.72583357, -0.51790875,\n",
       "        -0.30998393, -0.10205911,  0.10586571,  0.31379052,  0.52171534,\n",
       "         0.72964016,  0.93756498,  1.1454898 ,  1.35341462,  1.56133944,\n",
       "         1.76926425,  1.97718907,  2.18511389,  2.39303871,  2.60096353,\n",
       "         2.80888835]),\n",
       " [<matplotlib.patches.Polygon at 0x7f2b5b062f28>])"
      ]
     },
     "execution_count": 6,
     "metadata": {},
     "output_type": "execute_result"
    },
    {
     "data": {
      "image/png": "[encoded data removed]",
      "text/plain": [
       "<Figure size 432x288 with 1 Axes>"
      ]
     },
     "metadata": {},
     "output_type": "display_data"
    }
   ],
   "source": [
    "# plt.hist(data, bins=30, normed=True, alpha=0.5, histtype='stepfilled', color='steelblue', edgecolor='none')  # 'Polygon' object has no property 'normed'\n",
    "plt.hist(data, bins=30, alpha=0.5, histtype='stepfilled', color='steelblue', edgecolor='none')                 # 自定义的频次直方图"
   ]
  },
  {
   "cell_type": "code",
   "execution_count": 8,
   "id": "72ddb9f7-c57d-4748-9588-b1d8d1780fa6",
   "metadata": {},
   "outputs": [
    {
     "data": {
      "image/png": "[encoded data removed]",
      "text/plain": [
       "<Figure size 432x288 with 1 Axes>"
      ]
     },
     "metadata": {},
     "output_type": "display_data"
    }
   ],
   "source": [
    "x1 = np.random.normal(0, 0.8, 1000)\n",
    "x2 = np.random.normal(-2, 1, 1000)\n",
    "x3 = np.random.normal(3, 2, 1000)\n",
    "\n",
    "# kwargs = dict(histtype='stepfilled', alpha=0.3, normed=True, bins=40)  # 'Polygon' object has no property 'normed'\n",
    "kwargs = dict(histtype='stepfilled', alpha=0.3, bins=40)\n",
    "\n",
    "plt.hist(x1, **kwargs)\n",
    "plt.hist(x2, **kwargs)\n",
    "plt.hist(x3, **kwargs)  # 同坐标轴的多个频次直方图"
   ]
  },
  {
   "cell_type": "code",
   "execution_count": 9,
   "id": "a1ba0cd2-ee2b-4070-bbf1-bf78e1bda973",
   "metadata": {},
   "outputs": [
    {
     "name": "stdout",
     "output_type": "stream",
     "text": [
      "[ 14 152 465 320  49]\n"
     ]
    }
   ],
   "source": [
    "counts, bin_edges = np.histogram(data, bins=5)  # 如果只需要简单地计算频次直方图（就是计算每段区间的样本数），而并不想画图显示它们，那么可以直接用 np.histogram()：\n",
    "print(counts)"
   ]
  },
  {
   "cell_type": "markdown",
   "id": "ddaa5353-28a3-4011-9abd-bb6831fc18ed",
   "metadata": {},
   "source": [
    "## 1. 二维频次直方图与数据区间划分"
   ]
  },
  {
   "cell_type": "markdown",
   "id": "3da73c96-5474-4065-8972-7c82102f2d17",
   "metadata": {},
   "source": [
    "就像将一维数组分为区间创建一维频次直方图一样，我们也可以将二维数组按照二维区间进行切分，来创建二维频次直方图。  \n",
    "首先，用一个多元高斯分布（`multivariate Gaussian distribution`）生成 `x` 轴与 `y` 轴的样本数据："
   ]
  },
  {
   "cell_type": "code",
   "execution_count": 10,
   "id": "6e16fd5c-fa6b-4370-8c04-6f187ae17900",
   "metadata": {},
   "outputs": [],
   "source": [
    "mean = [0, 0]\n",
    "cov = [[1, 1], [1, 2]]\n",
    "x, y = np.random.multivariate_normal(mean, cov, 10000).T"
   ]
  },
  {
   "cell_type": "markdown",
   "id": "7069f677-8c96-4f35-b3d9-bfda534c13e8",
   "metadata": {},
   "source": [
    "### 1.1. plt.hist2d：二维频次直方图"
   ]
  },
  {
   "cell_type": "code",
   "execution_count": null,
   "id": "ae48d003-638d-41eb-a496-dbff0dadc99b",
   "metadata": {},
   "outputs": [],
   "source": []
  },
  {
   "cell_type": "code",
   "execution_count": null,
   "id": "6f870f20-d659-46ba-a4e2-efd731ccaa3d",
   "metadata": {},
   "outputs": [],
   "source": []
  },
  {
   "cell_type": "markdown",
   "id": "bf5af275-a5dc-4b5d-957b-484e151980b8",
   "metadata": {},
   "source": [
    "### 1.2. plt.hexbin：六边形区间划分"
   ]
  },
  {
   "cell_type": "code",
   "execution_count": null,
   "id": "8a171bea-7031-474d-adff-a708714300bc",
   "metadata": {},
   "outputs": [],
   "source": []
  },
  {
   "cell_type": "code",
   "execution_count": null,
   "id": "55d0462b-4269-4a70-8b95-a441350351e2",
   "metadata": {},
   "outputs": [],
   "source": []
  },
  {
   "cell_type": "markdown",
   "id": "dcf49ede-89a2-45ab-85cd-95281da0d0b7",
   "metadata": {},
   "source": [
    "### 1.3. 核密度估计"
   ]
  },
  {
   "cell_type": "code",
   "execution_count": null,
   "id": "143d781e-012d-4bfb-80c7-8383bc85fdcd",
   "metadata": {},
   "outputs": [],
   "source": []
  }
 ],
 "metadata": {
  "kernelspec": {
   "display_name": "Python 3 (ipykernel)",
   "language": "python",
   "name": "python3"
  },
  "language_info": {
   "codemirror_mode": {
    "name": "ipython",
    "version": 3
   },
   "file_extension": ".py",
   "mimetype": "text/x-python",
   "name": "python",
   "nbconvert_exporter": "python",
   "pygments_lexer": "ipython3",
   "version": "3.7.3"
  }
 },
 "nbformat": 4,
 "nbformat_minor": 5
}
