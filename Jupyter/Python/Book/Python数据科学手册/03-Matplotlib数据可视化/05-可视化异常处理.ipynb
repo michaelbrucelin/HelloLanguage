{
 "cells": [
  {
   "cell_type": "markdown",
   "id": "5e0bc76c-faaf-43c4-8738-ec7b51acb923",
   "metadata": {},
   "source": [
    "# 可视化异常处理"
   ]
  },
  {
   "cell_type": "markdown",
   "id": "a19cb70b-2322-4419-92e1-7198945ffe2c",
   "metadata": {},
   "source": [
    "对任何一种科学测量方法来说，准确地衡量数据误差都是无比重要的事情，甚至比数据本身还要重要。  \n",
    "在数据可视化的结果中用图形将误差有效地显示出来，就可以提供更充分的信息。"
   ]
  },
  {
   "cell_type": "code",
   "execution_count": 1,
   "id": "c5adf807-ed2c-4bc7-891d-362507049cc7",
   "metadata": {},
   "outputs": [],
   "source": [
    "import numpy as np\n",
    "%matplotlib inline\n",
    "import matplotlib.pyplot as plt\n",
    "plt.style.use('seaborn-whitegrid')"
   ]
  },
  {
   "cell_type": "markdown",
   "id": "7d2d1264-0073-496a-98dc-947954416348",
   "metadata": {},
   "source": [
    "## 1. 基本误差线"
   ]
  },
  {
   "cell_type": "markdown",
   "id": "39971bca-5234-4ff6-b498-9ff636a37347",
   "metadata": {},
   "source": [
    "基本误差线（`errorbar`）可以通过一个 `Matplotlib` 函数来创建。"
   ]
  },
  {
   "cell_type": "code",
   "execution_count": 2,
   "id": "825a7a81-c1f6-4fc9-bd95-69b1bfdd5bcc",
   "metadata": {},
   "outputs": [
    {
     "data": {
      "text/plain": [
       "<ErrorbarContainer object of 3 artists>"
      ]
     },
     "execution_count": 2,
     "metadata": {},
     "output_type": "execute_result"
    },
    {
     "data": {
      "image/png": "[encoded data removed]",
      "text/plain": [
       "<Figure size 432x288 with 1 Axes>"
      ]
     },
     "metadata": {},
     "output_type": "display_data"
    }
   ],
   "source": [
    "x = np.linspace(0, 10, 50)\n",
    "dy = 0.8\n",
    "y = np.sin(x) + dy * np.random.randn(50)\n",
    "\n",
    "plt.errorbar(x, y, yerr=dy, fmt='.k')  # fmt 是一种控制线条和点的外观的代码格式，语法与 plt.plot的缩写代码相同"
   ]
  },
  {
   "cell_type": "markdown",
   "id": "f3a6f6b7-b2c0-4f8f-8f1a-32bebcaf8b16",
   "metadata": {},
   "source": [
    "除了基本选项之外，`errorbar` 还有许多改善结果的选项。通过这些额外的选项，你可以轻松自定义误差线图形的绘画风格。  \n",
    "我的经验是，让误差线的颜色比数据点的颜色浅一点效果会非常好，尤其是在那些比较密集的图形中。"
   ]
  },
  {
   "cell_type": "code",
   "execution_count": 3,
   "id": "8bfbb5ed-0dbe-4bee-9ae7-7a1cb819bdfd",
   "metadata": {},
   "outputs": [
    {
     "data": {
      "text/plain": [
       "<ErrorbarContainer object of 3 artists>"
      ]
     },
     "execution_count": 3,
     "metadata": {},
     "output_type": "execute_result"
    },
    {
     "data": {
      "image/png": "[encoded data removed]",
      "text/plain": [
       "<Figure size 432x288 with 1 Axes>"
      ]
     },
     "metadata": {},
     "output_type": "display_data"
    }
   ],
   "source": [
    "plt.errorbar(x, y, yerr=dy, fmt='o', color='black', ecolor='lightgray', elinewidth=3, capsize=0)"
   ]
  },
  {
   "cell_type": "markdown",
   "id": "bf060423-7e40-41b7-aa72-1d357f7f8cf6",
   "metadata": {},
   "source": [
    "除了这些选项之外，你还可以设置水平方向的误差线（`xerr`）、单侧误差线（`one-sided errorbar`），以及其他形式的误差线。"
   ]
  },
  {
   "cell_type": "markdown",
   "id": "48a44ce1-c4c6-4d62-8880-8785a4a4ef70",
   "metadata": {},
   "source": [
    "## 2. 连续误差"
   ]
  },
  {
   "cell_type": "markdown",
   "id": "77a8cf1b-007e-42b4-81f1-56f32349955f",
   "metadata": {},
   "source": [
    "有时候可能需要显示连续变量的误差。虽然 `Matplotlib` 没有内置的简便方法可以解决这个问题，但是通过 `plt.plot` 与 `plt.fill_between` 来解决也不是很难。"
   ]
  },
  {
   "cell_type": "markdown",
   "id": "5dac4aba-3b69-4910-b633-535e957ef5c6",
   "metadata": {},
   "source": [
    "我们将用 `Scikit-Learn` 程序库 `API` 里面一个简单的**高斯过程回归方法**（`Gaussian process regression`，`GPR`）来演示。  \n",
    "这是用一种非常灵活的非参数方程（`nonparametric function`）对带有不确定性的连续测量值进行拟合的方法。  \n",
    "这里不会详细介绍高斯过程回归方法的具体内容，而是将注意力放在数据可视化上面："
   ]
  },
  {
   "cell_type": "code",
   "execution_count": 4,
   "id": "6a451850-aa2d-4707-b972-ec62dd678de8",
   "metadata": {},
   "outputs": [
    {
     "ename": "TypeError",
     "evalue": "__init__() got an unexpected keyword argument 'corr'",
     "output_type": "error",
     "traceback": [
      "\u001b[0;31m---------------------------------------------------------------------------\u001b[0m",
      "\u001b[0;31mTypeError\u001b[0m                                 Traceback (most recent call last)",
      "\u001b[0;32m/tmp/ipykernel_142146/1436755238.py\u001b[0m in \u001b[0;36m<module>\u001b[0;34m\u001b[0m\n\u001b[1;32m     10\u001b[0m \u001b[0;31m# 计算高斯过程拟合结果\u001b[0m\u001b[0;34m\u001b[0m\u001b[0;34m\u001b[0m\u001b[0;34m\u001b[0m\u001b[0m\n\u001b[1;32m     11\u001b[0m \u001b[0;31m# gp = GPC(corr='cubic', theta0=1e-2, thetaL=1e-4, thetaU=1E-1, random_start=100)\u001b[0m\u001b[0;34m\u001b[0m\u001b[0;34m\u001b[0m\u001b[0;34m\u001b[0m\u001b[0m\n\u001b[0;32m---> 12\u001b[0;31m \u001b[0mgp\u001b[0m \u001b[0;34m=\u001b[0m \u001b[0mGPC\u001b[0m\u001b[0;34m(\u001b[0m\u001b[0mcorr\u001b[0m\u001b[0;34m=\u001b[0m\u001b[0;34m'cubic'\u001b[0m\u001b[0;34m,\u001b[0m \u001b[0mtheta0\u001b[0m\u001b[0;34m=\u001b[0m\u001b[0;36m1e-2\u001b[0m\u001b[0;34m,\u001b[0m \u001b[0mthetaL\u001b[0m\u001b[0;34m=\u001b[0m\u001b[0;36m1e-4\u001b[0m\u001b[0;34m,\u001b[0m \u001b[0mthetaU\u001b[0m\u001b[0;34m=\u001b[0m\u001b[0;36m1E-1\u001b[0m\u001b[0;34m,\u001b[0m \u001b[0mrandom_start\u001b[0m\u001b[0;34m=\u001b[0m\u001b[0;36m100\u001b[0m\u001b[0;34m)\u001b[0m\u001b[0;34m\u001b[0m\u001b[0;34m\u001b[0m\u001b[0m\n\u001b[0m\u001b[1;32m     13\u001b[0m \u001b[0mgp\u001b[0m\u001b[0;34m.\u001b[0m\u001b[0mfit\u001b[0m\u001b[0;34m(\u001b[0m\u001b[0mxdata\u001b[0m\u001b[0;34m[\u001b[0m\u001b[0;34m:\u001b[0m\u001b[0;34m,\u001b[0m \u001b[0mnp\u001b[0m\u001b[0;34m.\u001b[0m\u001b[0mnewaxis\u001b[0m\u001b[0;34m]\u001b[0m\u001b[0;34m,\u001b[0m \u001b[0mydata\u001b[0m\u001b[0;34m)\u001b[0m\u001b[0;34m\u001b[0m\u001b[0;34m\u001b[0m\u001b[0m\n\u001b[1;32m     14\u001b[0m \u001b[0;34m\u001b[0m\u001b[0m\n",
      "\u001b[0;31mTypeError\u001b[0m: __init__() got an unexpected keyword argument 'corr'"
     ]
    }
   ],
   "source": [
    "# from sklearn.gaussian_process import GaussianProcess  # cannot import name 'GaussianProcess' from 'sklearn.gaussian_process'\n",
    "# from sklearn.gaussian_process import GaussianProcessRegressor as GPR\n",
    "from sklearn.gaussian_process import GaussianProcessClassifier as GPC\n",
    "\n",
    "# 定义模型和要画的数据\n",
    "model = lambda x: x * np.sin(x)\n",
    "xdata = np.array([1, 3, 5, 6, 8])\n",
    "ydata = model(xdata)\n",
    "\n",
    "# 计算高斯过程拟合结果\n",
    "# gp = GPC(corr='cubic', theta0=1e-2, thetaL=1e-4, thetaU=1E-1, random_start=100)\n",
    "gp = GPC(corr='cubic', theta0=1e-2, thetaL=1e-4, thetaU=1E-1, random_start=100)\n",
    "gp.fit(xdata[:, np.newaxis], ydata)\n",
    "\n",
    "xfit = np.linspace(0, 10, 1000)\n",
    "yfit, MSE = gp.predict(xfit[:, np.newaxis], eval_MSE=True)\n",
    "dyfit = 2 * np.sqrt(MSE)  # 2*sigma~95%置信区间"
   ]
  },
  {
   "cell_type": "markdown",
   "id": "eae2ee08-a458-4c54-b596-1dd1f8819bd3",
   "metadata": {},
   "source": [
    "现在，我们获得了 `xfit`、`yfit` 和 `dyfit`，表示数据的连续拟合结果。接着，如上所示将这些数据传入 `plt.errorbar` 函数。  \n",
    "但是我们并不是真的要为 1000 个数据点画上 1000 条误差线；相反，可以通过在 `plt.fill_between` 函数中设置颜色来表示连续误差线。"
   ]
  },
  {
   "cell_type": "code",
   "execution_count": 5,
   "id": "20d6a085-3e50-4e5e-a957-552662015c4a",
   "metadata": {},
   "outputs": [
    {
     "ename": "NameError",
     "evalue": "name 'xfit' is not defined",
     "output_type": "error",
     "traceback": [
      "\u001b[0;31m---------------------------------------------------------------------------\u001b[0m",
      "\u001b[0;31mNameError\u001b[0m                                 Traceback (most recent call last)",
      "\u001b[0;32m/tmp/ipykernel_142146/4074180894.py\u001b[0m in \u001b[0;36m<module>\u001b[0;34m\u001b[0m\n\u001b[1;32m      1\u001b[0m \u001b[0;31m# 将结果可视化\u001b[0m\u001b[0;34m\u001b[0m\u001b[0;34m\u001b[0m\u001b[0;34m\u001b[0m\u001b[0m\n\u001b[1;32m      2\u001b[0m \u001b[0mplt\u001b[0m\u001b[0;34m.\u001b[0m\u001b[0mplot\u001b[0m\u001b[0;34m(\u001b[0m\u001b[0mxdata\u001b[0m\u001b[0;34m,\u001b[0m \u001b[0mydata\u001b[0m\u001b[0;34m,\u001b[0m \u001b[0;34m'or'\u001b[0m\u001b[0;34m)\u001b[0m\u001b[0;34m\u001b[0m\u001b[0;34m\u001b[0m\u001b[0m\n\u001b[0;32m----> 3\u001b[0;31m \u001b[0mplt\u001b[0m\u001b[0;34m.\u001b[0m\u001b[0mplot\u001b[0m\u001b[0;34m(\u001b[0m\u001b[0mxfit\u001b[0m\u001b[0;34m,\u001b[0m \u001b[0myfit\u001b[0m\u001b[0;34m,\u001b[0m \u001b[0;34m'-'\u001b[0m\u001b[0;34m,\u001b[0m \u001b[0mcolor\u001b[0m\u001b[0;34m=\u001b[0m\u001b[0;34m'gray'\u001b[0m\u001b[0;34m)\u001b[0m\u001b[0;34m\u001b[0m\u001b[0;34m\u001b[0m\u001b[0m\n\u001b[0m\u001b[1;32m      4\u001b[0m \u001b[0;34m\u001b[0m\u001b[0m\n\u001b[1;32m      5\u001b[0m \u001b[0mplt\u001b[0m\u001b[0;34m.\u001b[0m\u001b[0mfill_between\u001b[0m\u001b[0;34m(\u001b[0m\u001b[0mxfit\u001b[0m\u001b[0;34m,\u001b[0m \u001b[0myfit\u001b[0m \u001b[0;34m-\u001b[0m \u001b[0mdyfit\u001b[0m\u001b[0;34m,\u001b[0m \u001b[0myfit\u001b[0m \u001b[0;34m+\u001b[0m \u001b[0mdyfit\u001b[0m\u001b[0;34m,\u001b[0m \u001b[0mcolor\u001b[0m\u001b[0;34m=\u001b[0m\u001b[0;34m'gray'\u001b[0m\u001b[0;34m,\u001b[0m \u001b[0malpha\u001b[0m\u001b[0;34m=\u001b[0m\u001b[0;36m0.2\u001b[0m\u001b[0;34m)\u001b[0m\u001b[0;34m\u001b[0m\u001b[0;34m\u001b[0m\u001b[0m\n",
      "\u001b[0;31mNameError\u001b[0m: name 'xfit' is not defined"
     ]
    },
    {
     "data": {
      "image/png": "[encoded data removed]",
      "text/plain": [
       "<Figure size 432x288 with 1 Axes>"
      ]
     },
     "metadata": {},
     "output_type": "display_data"
    }
   ],
   "source": [
    "# 将结果可视化\n",
    "plt.plot(xdata, ydata, 'or')\n",
    "plt.plot(xfit, yfit, '-', color='gray')\n",
    "\n",
    "plt.fill_between(xfit, yfit - dyfit, yfit + dyfit, color='gray', alpha=0.2)\n",
    "plt.xlim(0, 10);"
   ]
  },
  {
   "cell_type": "markdown",
   "id": "f4391a5a-4441-4efa-804d-4692ca67a329",
   "metadata": {},
   "source": [
    "请注意，我们将 `fill_between` 函数设置为：首先传入 `x` 轴坐标值，然后传入 `y` 轴下边界以及 `y` 轴上边界，这样整个区域就被误差线填充了。  \n",
    "从结果图形中可以非常直观地看出高斯过程回归方法拟合的效果：在接近样本点的区域，模型受到很强的约束，拟合误差非常小，非常接近真实值；而在远离样本点的区域，模型不受约束，误差不断增大。"
   ]
  },
  {
   "cell_type": "markdown",
   "id": "22bf13a1-e386-4c67-a0a0-79a97fb2d6c5",
   "metadata": {},
   "source": [
    "最后提一点，如果你觉得这样实现连续误差线的做法太原始，可以参考 4.16 节，我们会在那里介绍 `Seaborn` 程序包，它提供了一个更加简便的 `API` 来实现连续误差线。"
   ]
  },
  {
   "cell_type": "code",
   "execution_count": null,
   "id": "45fd150b-cd80-4825-b4dc-c45ec05bbd99",
   "metadata": {},
   "outputs": [],
   "source": []
  }
 ],
 "metadata": {
  "kernelspec": {
   "display_name": "Python 3 (ipykernel)",
   "language": "python",
   "name": "python3"
  },
  "language_info": {
   "codemirror_mode": {
    "name": "ipython",
    "version": 3
   },
   "file_extension": ".py",
   "mimetype": "text/x-python",
   "name": "python",
   "nbconvert_exporter": "python",
   "pygments_lexer": "ipython3",
   "version": "3.7.3"
  }
 },
 "nbformat": 4,
 "nbformat_minor": 5
}
