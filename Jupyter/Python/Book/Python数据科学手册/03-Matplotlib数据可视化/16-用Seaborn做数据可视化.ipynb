{
 "cells": [
  {
   "cell_type": "markdown",
   "id": "83753e65-08e4-4954-96bf-0ca8063ff6cb",
   "metadata": {},
   "source": [
    "# 用Seaborn做数据可视化"
   ]
  },
  {
   "cell_type": "markdown",
   "id": "5d0f3265-af80-4496-864b-2aca66f39512",
   "metadata": {},
   "source": [
    "虽然 `Matplotlib` 已经证明了自己绝对是一款超级实用且流行的数据可视化工具，但是即使骨灰粉也不得不承认它不支持的功能还有很多。  \n",
    "`Matplotlib` 的三条主要“罪状”总结如下。\n",
    "- `Matplotlib 2.0` 之前版本的默认配置样式绝对不是用户的最佳选择。之前的默认样式还是仿照 `1999` 年前后的 `MATLAB`，却一直在使用。\n",
    "- `Matplotlib` 的 `API` 比较底层。虽然可以实现复杂的统计数据可视化，但是通常都需要写大量的样板代码（`boilerplate code`）。\n",
    "- 由于 `Matplotlib` 比 `Pandas` 早十几年，因此它并不是为 `Pandas` 的 `DataFrame` 设计的。为了实现 `Pandas` 的 `DataFrame` 数据的可视化，你必须先提取每个 `Series`，然后通常还需要将它们合并成适当的格式。如果有一个画图程序库可以智能地使用 `DataFrame` 的标签画图，那一定会很棒。\n",
    "\n",
    "这些问题的终结者就是 `Seaborn`（<http://seaborn.pydata.org>）。`Seaborn` 在 `Matplotlib` 的基础上开发了一套 `API`，为默认的图形样式和颜色设置提供了理智的选择，为常用的统计图形定义了许多简单的高级函数，并与 `Pandas DataFrame` 的功能有机结合。  \n",
    "说实话，`Matplotlib` 团队也一直在努力解决这些问题：现在 `Matplotlib` 中不仅增加了 `plt.style` 工具（详情请参见 4.13 节），而且与 `Pandas` 数据也可以无缝衔接。  \n",
    "`Matplotlib 2.0` 版已经带有对之前样式优化过的样式表。但是即使 `Matplotlib` 已经有了这些进步，`Seaborn` 仍然是一款非常好用的附加组件。"
   ]
  },
  {
   "cell_type": "markdown",
   "id": "a0ac7cf9-b3e4-4df6-8e84-20bf1e264e29",
   "metadata": {},
   "source": [
    "## 1. Seaborn与Matplotlib"
   ]
  },
  {
   "cell_type": "markdown",
   "id": "043e0ba0-009b-4099-8ef6-be2ed12bc0ae",
   "metadata": {},
   "source": [
    "## 2. Seaborn图形介绍"
   ]
  },
  {
   "cell_type": "markdown",
   "id": "c5f63094-c929-45a0-8e1b-b02df672e528",
   "metadata": {},
   "source": [
    "### 2.1. 频次直方图、KDE和密度图"
   ]
  },
  {
   "cell_type": "markdown",
   "id": "a723973d-b764-46d2-9bbb-b7874b625a8b",
   "metadata": {},
   "source": [
    "### 2.2. 矩阵图"
   ]
  },
  {
   "cell_type": "markdown",
   "id": "f98d09f9-ff8d-4bcf-9362-a680764de2c9",
   "metadata": {},
   "source": [
    "### 2.3. 分面频次直方图"
   ]
  },
  {
   "cell_type": "markdown",
   "id": "5d831153-ccb1-4906-ae3c-4fb965e08af1",
   "metadata": {},
   "source": [
    "### 2.4. 因子图"
   ]
  },
  {
   "cell_type": "markdown",
   "id": "7091929c-3906-4a4f-9d95-4e9f219f907a",
   "metadata": {},
   "source": [
    "### 2.5. 联合分布"
   ]
  },
  {
   "cell_type": "markdown",
   "id": "b795c57d-7038-4893-b31d-b1ba9d70a997",
   "metadata": {},
   "source": [
    "### 2.6. 条形图"
   ]
  },
  {
   "cell_type": "markdown",
   "id": "49999297-fb76-4637-a476-8fd0ad6644ac",
   "metadata": {},
   "source": [
    "## 3. 案例：探索马拉松比赛成绩数据"
   ]
  },
  {
   "cell_type": "code",
   "execution_count": null,
   "id": "ee4f35ad-6eb5-4711-b044-904b70a5dff3",
   "metadata": {},
   "outputs": [],
   "source": []
  }
 ],
 "metadata": {
  "kernelspec": {
   "display_name": "Python 3 (ipykernel)",
   "language": "python",
   "name": "python3"
  },
  "language_info": {
   "codemirror_mode": {
    "name": "ipython",
    "version": 3
   },
   "file_extension": ".py",
   "mimetype": "text/x-python",
   "name": "python",
   "nbconvert_exporter": "python",
   "pygments_lexer": "ipython3",
   "version": "3.7.3"
  }
 },
 "nbformat": 4,
 "nbformat_minor": 5
}
