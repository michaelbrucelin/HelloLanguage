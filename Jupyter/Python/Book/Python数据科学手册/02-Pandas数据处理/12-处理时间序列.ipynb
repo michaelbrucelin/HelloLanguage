{
 "cells": [
  {
   "cell_type": "markdown",
   "id": "58901c03-48c8-4db1-a400-00a8e6abd418",
   "metadata": {},
   "source": [
    "# 处理时间序列"
   ]
  },
  {
   "cell_type": "markdown",
   "id": "0d4e89cc-a255-4c6b-9245-3a783d44b41c",
   "metadata": {},
   "source": [
    "由于 `Pandas` 最初是为金融模型而创建的，因此它拥有一些功能非常强大的日期、时间、带时间索引数据的处理工具。本节将介绍的日期与时间数据主要包含三类。\n",
    "- **时间戳**表示某个具体的时间点\n",
    "    - 例如 2015 年 7 月 4 日上午 7点\n",
    "- **时间间隔**与**周期**\n",
    "    - 时间间隔表示开始时间点与结束时间点之间的时间长度\n",
    "        - 例如 2015 年（指的是 2015 年 1 月 1 日至 2015 年 12 月 31 日这段时间间隔）\n",
    "    - 周期通常是指一种特殊形式的时间间隔，每个间隔长度相同，彼此之间不会重叠\n",
    "        - 例如，以 24 小时为周期构成每一天\n",
    "- **时间增量**（`time delta`）或**持续时间**（`duration`）表示精确的时间长度\n",
    "    - 例如，某程序运行持续时间 22.56 秒"
   ]
  },
  {
   "cell_type": "code",
   "execution_count": 1,
   "id": "ada73af0-e215-4b15-a9b4-ec6b56a12275",
   "metadata": {},
   "outputs": [],
   "source": [
    "import numpy as np\n",
    "import pandas as pd"
   ]
  },
  {
   "cell_type": "code",
   "execution_count": 2,
   "id": "edf019ae-36ee-4796-a416-96766ec8df6a",
   "metadata": {},
   "outputs": [
    {
     "data": {
      "text/html": [
       "<style>\n",
       "  table {margin-left: 0 !important;}\n",
       "  img {width:30%; height: 30%;}\n",
       "</style>\n"
      ],
      "text/plain": [
       "<IPython.core.display.HTML object>"
      ]
     },
     "metadata": {},
     "output_type": "display_data"
    }
   ],
   "source": [
    "%%html\n",
    "<style>\n",
    "  table {margin-left: 0 !important;}\n",
    "  img {width:30%; height: 30%;}\n",
    "</style>"
   ]
  },
  {
   "cell_type": "markdown",
   "id": "08c80113-c26b-41eb-8191-0b4d3de3598b",
   "metadata": {},
   "source": [
    "## 1. Python的日期与时间工具"
   ]
  },
  {
   "cell_type": "markdown",
   "id": "33c53078-485a-4abe-9e11-453ba9622c94",
   "metadata": {},
   "source": [
    "在 `Python` 标准库与第三方库中有许多可以表示日期、时间、时间增量和时间跨度（timespan）的工具。  \n",
    "尽管 `Pandas` 提供的时间序列工具更适合用来处理数据科学问题，但是了解 `Pandas` 与 `Python` 标准库以及第三方库中的其他时间序列工具之间的关联性将大有裨益。"
   ]
  },
  {
   "cell_type": "markdown",
   "id": "efc0ffef-aa88-4f02-8d74-289be74c66fb",
   "metadata": {},
   "source": [
    "### 1.1. 原生Python的日期与时间工具：datetime与dateutil"
   ]
  },
  {
   "cell_type": "markdown",
   "id": "3555e3f3-d419-42a1-a524-6ecabd5bee2f",
   "metadata": {},
   "source": [
    "`Python` 基本的日期与时间功能都在标准库的 `datetime` 模块中。  \n",
    "如果和第三方库 `dateutil` 模块搭配使用，可以快速实现许多处理日期与时间的功能。  \n",
    "还有一个值得关注的程序包是 `pytz`，这个工具解决了绝大多数时间序列数据都会遇到的难题：时区。"
   ]
  },
  {
   "cell_type": "code",
   "execution_count": 3,
   "id": "f841b83c-6c82-467a-a20a-a56e525345f3",
   "metadata": {},
   "outputs": [],
   "source": [
    "from datetime import datetime\n",
    "from dateutil import parser"
   ]
  },
  {
   "cell_type": "code",
   "execution_count": 4,
   "id": "cc76a501-c7df-466c-af1c-7d980c4520c2",
   "metadata": {},
   "outputs": [
    {
     "data": {
      "text/plain": [
       "datetime.datetime(2015, 7, 4, 0, 0)"
      ]
     },
     "execution_count": 4,
     "metadata": {},
     "output_type": "execute_result"
    }
   ],
   "source": [
    "datetime(year=2015, month=7, day=4)  # 用 datetime 类型创建一个日期"
   ]
  },
  {
   "cell_type": "code",
   "execution_count": 5,
   "id": "b98027aa-04af-4e9f-9deb-85edded1f24d",
   "metadata": {},
   "outputs": [
    {
     "data": {
      "text/plain": [
       "datetime.datetime(2015, 7, 4, 0, 0)"
      ]
     },
     "execution_count": 5,
     "metadata": {},
     "output_type": "execute_result"
    }
   ],
   "source": [
    "date = parser.parse(\"4th of July, 2015\")\n",
    "date"
   ]
  },
  {
   "cell_type": "code",
   "execution_count": 6,
   "id": "77671174-0869-40ed-aae0-36c2279b38d4",
   "metadata": {},
   "outputs": [
    {
     "data": {
      "text/plain": [
       "'Saturday'"
      ]
     },
     "execution_count": 6,
     "metadata": {},
     "output_type": "execute_result"
    }
   ],
   "source": [
    "date.strftime('%A')  # 打印出这一天是星期几"
   ]
  },
  {
   "cell_type": "markdown",
   "id": "4f8c683a-4c0c-4759-8489-ec1338779bbd",
   "metadata": {},
   "source": [
    "`datetime` 和 `dateutil` 模块在灵活性与易用性方面都表现出色，你可以用这些对象及其相应的方法轻松完成你感兴趣的任意操作。但如果你处理的时间数据量比较大，那么速度就会比较慢。  \n",
    "就像之前介绍过的 `Python` 的原生列表对象没有 `NumPy` 中已经被编码的数值类型数组的性能好一样，`Python` 的原生日期对象同样也没有 `NumPy` 中已经被编码的日期（`encoded dates`）类型数组的性能好。"
   ]
  },
  {
   "cell_type": "markdown",
   "id": "bea3ecca-cc42-431e-b126-8b41abc27ff7",
   "metadata": {},
   "source": [
    "### 1.2. 时间类型数组：NumPy的datetime64类型"
   ]
  },
  {
   "cell_type": "markdown",
   "id": "def3f909-6c91-4265-9390-e9e446e202bd",
   "metadata": {},
   "source": [
    "`Python` 原生日期格式的性能弱点促使 `NumPy` 团队为 `NumPy` 增加了自己的时间序列类型。  \n",
    "`datetime64` 类型将日期编码为 64 位整数，这样可以让日期数组非常紧凑（节省内存）。"
   ]
  },
  {
   "cell_type": "code",
   "execution_count": 7,
   "id": "cdea638d-3c8a-4f34-ab36-0b21ba567e7c",
   "metadata": {},
   "outputs": [
    {
     "data": {
      "text/plain": [
       "array('2015-07-04', dtype='datetime64[D]')"
      ]
     },
     "execution_count": 7,
     "metadata": {},
     "output_type": "execute_result"
    }
   ],
   "source": [
    "date = np.array('2015-07-04', dtype=np.datetime64)  # datetime64 需要在设置日期时确定具体的输入类型\n",
    "date"
   ]
  },
  {
   "cell_type": "code",
   "execution_count": 8,
   "id": "9de3a873-c62a-4f0d-92d0-40299b1ecc55",
   "metadata": {},
   "outputs": [
    {
     "data": {
      "text/plain": [
       "array(['2015-07-04', '2015-07-05', '2015-07-06', '2015-07-07',\n",
       "       '2015-07-08', '2015-07-09', '2015-07-10', '2015-07-11',\n",
       "       '2015-07-12', '2015-07-13', '2015-07-14', '2015-07-15'],\n",
       "      dtype='datetime64[D]')"
      ]
     },
     "execution_count": 8,
     "metadata": {},
     "output_type": "execute_result"
    }
   ],
   "source": [
    "date + np.arange(12)"
   ]
  },
  {
   "cell_type": "markdown",
   "id": "103a0d66-f2ca-4a25-bdb1-18b32862942b",
   "metadata": {},
   "source": [
    "因为 `NumPy` 的 `datetime64` 数组内元素的类型是统一的，所以这种数组的运算速度会比 `Python` 的 `datetime` 对象的运算速度快很多，尤其是在处理较大数组时。"
   ]
  },
  {
   "cell_type": "markdown",
   "id": "e71a6646-8d8c-4563-8192-c264de817778",
   "metadata": {},
   "source": [
    "`datetime64` 与 `timedelta64` 对象的一个共同特点是，它们都是在**基本时间单位**（`fundamental time unit`）的基础上建立的。  \n",
    "由于 `datetime64` 对象是 64 位精度，所以可编码的时间范围可以是基本单元的 2<sup>64</sup> 倍。  \n",
    "也就是说，`datetime64` 在**时间精度**（`time resolution`）与**最大时间跨度**（`maximum time span`）之间达成了一种平衡。"
   ]
  },
  {
   "cell_type": "markdown",
   "id": "f8cf9915-7648-4636-bd2d-7875e2d11013",
   "metadata": {},
   "source": [
    "比如你想要一个时间纳秒（`nanosecond，ns`）级的时间精度，那么你就可以将时间编码到 0~2<sup>64</sup> 纳秒或 600 年之内，`NumPy` 会自动判断输入时间需要使用的时间单位。"
   ]
  },
  {
   "cell_type": "code",
   "execution_count": 9,
   "id": "9e60f5e8-3851-4135-b5bf-5b7300e33101",
   "metadata": {},
   "outputs": [
    {
     "data": {
      "text/plain": [
       "numpy.datetime64('2015-07-04')"
      ]
     },
     "execution_count": 9,
     "metadata": {},
     "output_type": "execute_result"
    }
   ],
   "source": [
    "np.datetime64('2015-07-04')        # 以天为单位的日期"
   ]
  },
  {
   "cell_type": "code",
   "execution_count": 10,
   "id": "1cd95a19-b4a2-4e4f-bab0-66710aab6b2f",
   "metadata": {},
   "outputs": [
    {
     "data": {
      "text/plain": [
       "numpy.datetime64('2015-07-04T12:00')"
      ]
     },
     "execution_count": 10,
     "metadata": {},
     "output_type": "execute_result"
    }
   ],
   "source": [
    "np.datetime64('2015-07-04 12:00')  # 以分钟为单位的日期，需要注意的是，时区将自动设置为执行代码的操作系统的当地时区"
   ]
  },
  {
   "cell_type": "code",
   "execution_count": 11,
   "id": "4d75018e-a329-4eda-97ab-c36930e6a2d3",
   "metadata": {},
   "outputs": [
    {
     "data": {
      "text/plain": [
       "numpy.datetime64('2015-07-04T12:59:59.500000000')"
      ]
     },
     "execution_count": 11,
     "metadata": {},
     "output_type": "execute_result"
    }
   ],
   "source": [
    "np.datetime64('2015-07-04 12:59:59.50', 'ns')  # 可以通过各种格式的代码设置基本时间单位。例如，将时间单位设置为纳秒"
   ]
  },
  {
   "cell_type": "markdown",
   "id": "eda1d8d6-8d92-4f64-b86a-93b6e43fdf8b",
   "metadata": {},
   "source": [
    "**日期与时间单位格式代码**\n",
    "\n",
    "| 代码 | 含义 | 时间跨度 (相对) | 时间跨度 (绝对) |\n",
    "| -- | -- | -- | -- |\n",
    "| Y | 年（year） | ± 9.2e18 年 | [9.2e18 BC, 9.2e18 AD] |\n",
    "| M | 月（month） | ± 7.6e17 年 | [7.6e17 BC, 7.6e17 AD] |\n",
    "| W | 周（week） | ± 1.7e17 年 | [1.7e17 BC, 1.7e17 AD] |\n",
    "| D | 日（day） | ± 2.5e16 年 | [2.5e16 BC, 2.5e16 AD] |\n",
    "| h | 时（hour） | ± 1.0e15 年 | [1.0e15 BC, 1.0e15 AD] |\n",
    "| m | 分（minute） | ± 1.7e13 年 | [1.7e13 BC, 1.7e13 AD] |\n",
    "| s | 秒（second） | ± 2.9e12 年 | [ 2.9e9 BC, 2.9e9 AD] |\n",
    "| ms | 毫秒（millisecond） | ± 2.9e9 年 | [ 2.9e6 BC, 2.9e6 AD] |\n",
    "| us | 微秒（microsecond） | ± 2.9e6 年 | [290301 BC, 294241 AD] |\n",
    "| ns | 纳秒（nanosecond） | ± 292 年 | [ 1678 AD, 2262 AD] |\n",
    "| ps | 皮秒（picosecond） | ± 106 天 | [ 1969 AD, 1970 AD] |\n",
    "| fs | 飞秒（femtosecond） | ± 2.6 小时 | [ 1969 AD, 1970 AD] |\n",
    "| as | 原秒（attosecond） | ± 9.2 秒 | [ 1969 AD, 1970 AD] |"
   ]
  },
  {
   "cell_type": "markdown",
   "id": "d02199ff-6bfb-474f-af1e-35fd8985b81a",
   "metadata": {},
   "source": [
    "对于日常工作中的时间数据类型，默认单位都用纳秒 `datetime64[ns]`，因为用它来表示时间范围精度可以满足绝大部分需求。"
   ]
  },
  {
   "cell_type": "markdown",
   "id": "0965e901-bef4-44f3-b99f-b30bd9a027d9",
   "metadata": {},
   "source": [
    "最后还需要说明一点，虽然 `datetime64` 弥补了 `Python` 原生的 `datetime` 类型的不足，  \n",
    "但它缺少了许多 `datetime`（尤其是 `dateutil`）原本具备的便捷方法与函数，  \n",
    "具体内容请参考 `NumPy` 的 `datetime64` 文档（http://docs.scipy.org/doc/numpy/reference/arrays.datetime.html）。"
   ]
  },
  {
   "cell_type": "markdown",
   "id": "9d2f4707-5c07-4297-bb45-5c657a119bf7",
   "metadata": {},
   "source": [
    "### 1.3. Pandas的日期与时间工具：理想与现实的最佳解决方案"
   ]
  },
  {
   "cell_type": "markdown",
   "id": "f21088d2-ca41-460d-ab36-27891d6d0586",
   "metadata": {},
   "source": [
    "`Pandas` 所有关于日期与时间的处理方法全部都是通过 `Timestamp` 对象实现的，它利用 `numpy.datetime64` 的有效存储和向量化接口将 `datetime` 和 `dateutil` 的易用性有机结合起来。  \n",
    "`Pandas` 通过一组 `Timestamp` 对象就可以创建一个可以作为 `Series` 或 `DataFrame` 索引的 `DatetimeIndex`。"
   ]
  },
  {
   "cell_type": "code",
   "execution_count": 12,
   "id": "aae9b0af-8cbe-4f68-a5b9-1772927f91ed",
   "metadata": {},
   "outputs": [
    {
     "data": {
      "text/plain": [
       "Timestamp('2015-07-04 00:00:00')"
      ]
     },
     "execution_count": 12,
     "metadata": {},
     "output_type": "execute_result"
    }
   ],
   "source": [
    "date = pd.to_datetime(\"4th of July, 2015\")  # 用 Pandas 的方式演示前面介绍的日期与时间功能\n",
    "date"
   ]
  },
  {
   "cell_type": "code",
   "execution_count": 13,
   "id": "475d45a1-0d98-45a9-a945-3e2284f2873c",
   "metadata": {},
   "outputs": [
    {
     "data": {
      "text/plain": [
       "'Saturday'"
      ]
     },
     "execution_count": 13,
     "metadata": {},
     "output_type": "execute_result"
    }
   ],
   "source": [
    "date.strftime('%A')"
   ]
  },
  {
   "cell_type": "code",
   "execution_count": 14,
   "id": "1fb2a9c7-a28c-4def-bc3b-702f4fcbb6d9",
   "metadata": {},
   "outputs": [
    {
     "data": {
      "text/plain": [
       "DatetimeIndex(['2015-07-04', '2015-07-05', '2015-07-06', '2015-07-07',\n",
       "               '2015-07-08', '2015-07-09', '2015-07-10', '2015-07-11',\n",
       "               '2015-07-12', '2015-07-13', '2015-07-14', '2015-07-15'],\n",
       "              dtype='datetime64[ns]', freq=None)"
      ]
     },
     "execution_count": 14,
     "metadata": {},
     "output_type": "execute_result"
    }
   ],
   "source": [
    "date + pd.to_timedelta(np.arange(12), 'D')"
   ]
  },
  {
   "cell_type": "markdown",
   "id": "8b1961e5-48c2-48af-870b-98448f8b2e99",
   "metadata": {},
   "source": [
    "## 2. Pandas时间序列：用时间作索引"
   ]
  },
  {
   "cell_type": "markdown",
   "id": "1ba55442-445f-4343-b8e5-b2b514ec7a7d",
   "metadata": {},
   "source": [
    "`Pandas` 时间序列工具非常适合用来处理带时间戳的索引数据。"
   ]
  },
  {
   "cell_type": "code",
   "execution_count": 15,
   "id": "fe0e1cb5-6601-4c20-9923-c12744361b1a",
   "metadata": {},
   "outputs": [
    {
     "data": {
      "text/plain": [
       "2014-07-04    0\n",
       "2014-08-04    1\n",
       "2015-07-04    2\n",
       "2015-08-04    3\n",
       "dtype: int64"
      ]
     },
     "execution_count": 15,
     "metadata": {},
     "output_type": "execute_result"
    }
   ],
   "source": [
    "index = pd.DatetimeIndex(['2014-07-04', '2014-08-04', '2015-07-04', '2015-08-04'])\n",
    "data = pd.Series([0, 1, 2, 3], index=index)  # 通过一个时间索引数据创建一个 Series 对象\n",
    "data"
   ]
  },
  {
   "cell_type": "code",
   "execution_count": 16,
   "id": "5b8c9c4a-fc13-4a42-a556-2b9d678f0d86",
   "metadata": {},
   "outputs": [
    {
     "data": {
      "text/plain": [
       "2014-07-04    0\n",
       "2014-08-04    1\n",
       "2015-07-04    2\n",
       "dtype: int64"
      ]
     },
     "execution_count": 16,
     "metadata": {},
     "output_type": "execute_result"
    }
   ],
   "source": [
    "data['2014-07-04':'2015-07-04']  # 直接用日期进行切片取值"
   ]
  },
  {
   "cell_type": "code",
   "execution_count": 17,
   "id": "e8431d34-061b-48a2-8e8b-a06a09c2a429",
   "metadata": {},
   "outputs": [
    {
     "data": {
      "text/plain": [
       "2015-07-04    2\n",
       "2015-08-04    3\n",
       "dtype: int64"
      ]
     },
     "execution_count": 17,
     "metadata": {},
     "output_type": "execute_result"
    }
   ],
   "source": [
    "data['2015']  # 通过年份切片获取该年的数据"
   ]
  },
  {
   "cell_type": "markdown",
   "id": "44f7740b-ddd8-41a4-97ea-90cc6f39a0ae",
   "metadata": {},
   "source": [
    "## 3. Pandas时间序列数据结构"
   ]
  },
  {
   "cell_type": "markdown",
   "id": "e78e6b35-1158-4fab-b55e-fffd8fc1ae07",
   "metadata": {},
   "source": [
    "本节将介绍 `Pandas` 用来处理时间序列的基础数据类型。\n",
    "- 针对时间戳数据，`Pandas` 提供了 `Timestamp` 类型。与前面介绍的一样，它本质上是 `Python` 的原生 `datetime` 类型的替代品，但是在性能更好的 `numpy.datetime64` 类型的基础上创建。对应的索引数据结构是 `DatetimeIndex`。\n",
    "- 针对时间周期数据，`Pandas` 提供了 `Period` 类型。这是利用 `numpy.datetime64` 类型将固定频率的时间间隔进行编码。对应的索引数据结构是 `PeriodIndex`。\n",
    "- 针对时间增量或持续时间，`Pandas` 提供了 `Timedelta` 类型。`Timedelta` 是一种代替 `Python` 原生 `datetime.timedelta` 类型的高性能数据结构，同样是基于 `numpy.timedelta64` 类型。对应的索引数据结构是 `TimedeltaIndex`。\n",
    "\n",
    "最基础的日期 / 时间对象是 `Timestamp` 和 `DatetimeIndex`。这两种对象可以直接使用，最常用的方法是 `pd.to_datetime()` 函数，它可以解析许多日期与时间格式。  \n",
    "对 `pd.to_datetime()` 传递一个日期会返回一个 `Timestamp` 类型，传递一个时间序列会返回一个 `DatetimeIndex` 类型。"
   ]
  },
  {
   "cell_type": "code",
   "execution_count": 18,
   "id": "7b392357-b4e4-4df9-947e-df1e9b978161",
   "metadata": {},
   "outputs": [
    {
     "data": {
      "text/plain": [
       "DatetimeIndex(['2015-07-03', '2015-07-04', '2015-07-06', '2015-07-07',\n",
       "               '2015-07-08'],\n",
       "              dtype='datetime64[ns]', freq=None)"
      ]
     },
     "execution_count": 18,
     "metadata": {},
     "output_type": "execute_result"
    }
   ],
   "source": [
    "dates = pd.to_datetime([datetime(2015, 7, 3), '4th of July, 2015', '2015-Jul-6', '07-07-2015', '20150708'])\n",
    "dates"
   ]
  },
  {
   "cell_type": "code",
   "execution_count": 19,
   "id": "a122ae5c-7ba3-4934-b823-090cd5195fb6",
   "metadata": {},
   "outputs": [
    {
     "data": {
      "text/plain": [
       "PeriodIndex(['2015-07-03', '2015-07-04', '2015-07-06', '2015-07-07',\n",
       "             '2015-07-08'],\n",
       "            dtype='period[D]')"
      ]
     },
     "execution_count": 19,
     "metadata": {},
     "output_type": "execute_result"
    }
   ],
   "source": [
    "dates.to_period('D')  # 任何 DatetimeIndex 类型都可以通过 to_period() 方法和一个频率代码转换成 PeriodIndex 类型。"
   ]
  },
  {
   "cell_type": "code",
   "execution_count": 20,
   "id": "f652aaa6-1760-4a14-8d1b-56933220695b",
   "metadata": {},
   "outputs": [
    {
     "data": {
      "text/plain": [
       "TimedeltaIndex(['0 days', '1 days', '3 days', '4 days', '5 days'], dtype='timedelta64[ns]', freq=None)"
      ]
     },
     "execution_count": 20,
     "metadata": {},
     "output_type": "execute_result"
    }
   ],
   "source": [
    "dates - dates[0]      # 当用一个日期减去另一个日期时，返回的结果是 TimedeltaIndex 类型"
   ]
  },
  {
   "cell_type": "markdown",
   "id": "7e2a8162-d13b-451d-a247-ab48aca9e7ee",
   "metadata": {},
   "source": [
    "### 3.1. 有规律的时间序列：pd.date_range()"
   ]
  },
  {
   "cell_type": "code",
   "execution_count": null,
   "id": "eca88686-3f18-464a-af81-6cbd9d5992cf",
   "metadata": {},
   "outputs": [],
   "source": []
  },
  {
   "cell_type": "code",
   "execution_count": null,
   "id": "34726344-0e21-4830-8531-222101691910",
   "metadata": {},
   "outputs": [],
   "source": []
  },
  {
   "cell_type": "markdown",
   "id": "15dfccae-8b42-4de5-9e6e-ab17faf77a65",
   "metadata": {},
   "source": [
    "## 4. 时间频率与偏移量"
   ]
  },
  {
   "cell_type": "code",
   "execution_count": null,
   "id": "8dfcb067-4665-4a6e-957c-8b84719276b4",
   "metadata": {},
   "outputs": [],
   "source": []
  },
  {
   "cell_type": "markdown",
   "id": "cb4bff89-9afd-4816-be14-8498141aec5a",
   "metadata": {},
   "source": [
    "**Pandas频率代码**\n",
    "\n",
    "| 代码 | 描述 | 代码 | 描述 |\n",
    "| -- | -- | -- | -- |\n",
    "| D | 天（calendar day，按日历算，含双休日） | B | 天（business day，仅含工作日） |\n",
    "| W | 周（weekly） |\n",
    "| M | 月末（month end） | BM | 月末（business month end，仅含工作日） |\n",
    "| Q | 季末（quarter end） | BQ | 季末（business quarter end，仅含工作日） |\n",
    "| A | 年末（year end） | BA | 年末（business year end，仅含工作日） |\n",
    "| H | 小时（hours） | BH | 小时（business hours，工作时间） |\n",
    "| T | 分钟（minutes） |\n",
    "| S | 秒（seconds） |\n",
    "| L | 毫秒（milliseonds） |\n",
    "| U | 微秒（microseconds） |\n",
    "| N | 纳秒（nanoseconds） |\n",
    "\n",
    "**带开始索引的频率代码**\n",
    "\n",
    "| 代码 | 频率 |\n",
    "| -- | -- |\n",
    "| MS | 月初（month start） |\n",
    "| BMS | 月初（business month start，仅含工作日） |\n",
    "| QS | 季初（quarter start） |\n",
    "| BQS | 季初（business quarter start，仅含工作日） |\n",
    "| AS | 年初（year start） |\n",
    "| BAS | 年初（business year start，仅含工作日） |"
   ]
  },
  {
   "cell_type": "code",
   "execution_count": null,
   "id": "60a951f2-3402-4e1f-837c-aff86d7f8866",
   "metadata": {},
   "outputs": [],
   "source": []
  },
  {
   "cell_type": "markdown",
   "id": "89279d22-6827-4db3-9b37-5a6c20b696ce",
   "metadata": {},
   "source": [
    "## 5. 重新取样、迁移和窗口"
   ]
  },
  {
   "cell_type": "code",
   "execution_count": null,
   "id": "2908063a-6fb2-4952-8fad-0533e1beb60d",
   "metadata": {},
   "outputs": [],
   "source": []
  },
  {
   "cell_type": "code",
   "execution_count": null,
   "id": "a9025b0d-077d-465d-a225-5ab2ab7f6bd4",
   "metadata": {},
   "outputs": [],
   "source": []
  },
  {
   "cell_type": "markdown",
   "id": "c6d95dc4-7a88-41b2-9a03-6f2e0f1312a5",
   "metadata": {},
   "source": [
    "### 5.1. 重新取样与频率转换"
   ]
  },
  {
   "cell_type": "code",
   "execution_count": null,
   "id": "6fb9c4cb-83bc-4841-9b72-41ec08e5b907",
   "metadata": {},
   "outputs": [],
   "source": []
  },
  {
   "cell_type": "code",
   "execution_count": null,
   "id": "bae78fc2-a3bc-4144-8f49-943ef723845f",
   "metadata": {},
   "outputs": [],
   "source": []
  },
  {
   "cell_type": "markdown",
   "id": "b15ff025-3d60-48b4-bb0f-513492c4f277",
   "metadata": {},
   "source": [
    "### 5.2. 时间迁移"
   ]
  },
  {
   "cell_type": "code",
   "execution_count": null,
   "id": "f0cf753d-9238-45fd-8590-80bfafc97c96",
   "metadata": {},
   "outputs": [],
   "source": []
  },
  {
   "cell_type": "code",
   "execution_count": null,
   "id": "4afde182-288d-4f7f-973c-e273434e4dfc",
   "metadata": {},
   "outputs": [],
   "source": []
  },
  {
   "cell_type": "markdown",
   "id": "a38189ca-75a3-4843-a554-b5069455e41d",
   "metadata": {},
   "source": [
    "### 5.3. 移动时间窗口"
   ]
  },
  {
   "cell_type": "code",
   "execution_count": null,
   "id": "4a836b54-4f6a-47df-98a7-9af2c4d80fd6",
   "metadata": {},
   "outputs": [],
   "source": []
  },
  {
   "cell_type": "code",
   "execution_count": null,
   "id": "b7718a86-5d5c-4e19-bbd6-13ba10560ab1",
   "metadata": {},
   "outputs": [],
   "source": []
  },
  {
   "cell_type": "markdown",
   "id": "d9afd183-4ee4-4e26-9a9e-0b951e3d571c",
   "metadata": {},
   "source": [
    "## 6. 案例：美国西雅图自行车统计数据的可视化"
   ]
  },
  {
   "cell_type": "code",
   "execution_count": null,
   "id": "66b5560f-b1d2-44f7-be35-d5e18d7e4086",
   "metadata": {},
   "outputs": [],
   "source": []
  },
  {
   "cell_type": "markdown",
   "id": "25913c40-7c7b-4514-8214-2b9593dcd292",
   "metadata": {},
   "source": [
    "### 6.1. 数据可视化"
   ]
  },
  {
   "cell_type": "code",
   "execution_count": null,
   "id": "d8983d0a-961a-4d8c-ad1f-ea9846827321",
   "metadata": {},
   "outputs": [],
   "source": []
  },
  {
   "cell_type": "code",
   "execution_count": null,
   "id": "efefba59-7e5f-4f97-9918-e3e9faafdbb2",
   "metadata": {},
   "outputs": [],
   "source": []
  },
  {
   "cell_type": "markdown",
   "id": "1876b452-b444-441d-9ba8-b963699fceef",
   "metadata": {},
   "source": [
    "### 6.2. 深入挖掘数据"
   ]
  },
  {
   "cell_type": "code",
   "execution_count": null,
   "id": "a2c56845-63b4-4f6e-a3c9-521adbdc94c2",
   "metadata": {},
   "outputs": [],
   "source": []
  },
  {
   "cell_type": "code",
   "execution_count": null,
   "id": "9e0d1aa4-9af8-4527-93e8-bff36efb87e4",
   "metadata": {},
   "outputs": [],
   "source": []
  }
 ],
 "metadata": {
  "kernelspec": {
   "display_name": "Python 3 (ipykernel)",
   "language": "python",
   "name": "python3"
  },
  "language_info": {
   "codemirror_mode": {
    "name": "ipython",
    "version": 3
   },
   "file_extension": ".py",
   "mimetype": "text/x-python",
   "name": "python",
   "nbconvert_exporter": "python",
   "pygments_lexer": "ipython3",
   "version": "3.7.3"
  }
 },
 "nbformat": 4,
 "nbformat_minor": 5
}
