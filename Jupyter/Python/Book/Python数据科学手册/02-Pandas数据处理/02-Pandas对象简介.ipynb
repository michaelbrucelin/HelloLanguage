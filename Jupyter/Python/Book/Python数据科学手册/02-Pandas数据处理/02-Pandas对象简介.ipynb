{
 "cells": [
  {
   "cell_type": "markdown",
   "id": "f068cbbd-8ba3-4731-989f-61289c3f0707",
   "metadata": {},
   "source": [
    "# Pandas对象简介"
   ]
  },
  {
   "cell_type": "markdown",
   "id": "ac0eb383-55ab-4df0-bd1f-2b103ea86de1",
   "metadata": {},
   "source": [
    "如果从底层视角观察 `Pandas` 对象，可以把它们看成增强版的 `NumPy` 结构化数组，行列都不再只是简单的整数索引，还可以带上标签。  \n",
    "在本章后面的内容中我们将会发现，虽然 `Pandas` 在基本数据结构上实现了许多便利的工具、方法和功能，但是后面将要介绍的每一个工具、方法和功能几乎都需要我们理解基本数据结构的内部细节。  \n",
    "因此，在深入学习 `Pandas` 之前，先来看看 `Pandas` 的三个基本数据结构：`Series`、`DataFrame` 和 `Index`。"
   ]
  },
  {
   "cell_type": "code",
   "execution_count": 1,
   "id": "0d59662d-2cc2-46fc-a65c-9c49ccdf9dee",
   "metadata": {},
   "outputs": [],
   "source": [
    "import numpy as np\n",
    "import pandas as pd"
   ]
  },
  {
   "cell_type": "markdown",
   "id": "d56ac5e4-d660-4dc9-8d69-fbe4c0bac975",
   "metadata": {},
   "source": [
    "## 1. Pandas的Series对象"
   ]
  },
  {
   "cell_type": "markdown",
   "id": "dca2360f-06ff-4ff4-aa14-a61398311fb7",
   "metadata": {},
   "source": [
    "`Pandas` 的 `Series` 对象是一个带索引数据构成的一维数组。\n",
    "`Pandas` 的 `Series` 对象比它模仿的一维 `NumPy` 数组更加通用、灵活。"
   ]
  },
  {
   "cell_type": "code",
   "execution_count": 2,
   "id": "d4f1f2ef-dd0a-481b-81e0-92b45ea0de75",
   "metadata": {},
   "outputs": [
    {
     "data": {
      "text/plain": [
       "0    0.25\n",
       "1    0.50\n",
       "2    0.75\n",
       "3    1.00\n",
       "dtype: float64"
      ]
     },
     "execution_count": 2,
     "metadata": {},
     "output_type": "execute_result"
    }
   ],
   "source": [
    "data = pd.Series([0.25, 0.5, 0.75, 1.0])\n",
    "data\n",
    "# 可以看出 Series 对象将一组数据和一组索引绑定在一起，我们可以通过 values 属性和 index 属性获取数据。"
   ]
  },
  {
   "cell_type": "code",
   "execution_count": 3,
   "id": "e897822c-c444-4e23-bb38-c325c5602416",
   "metadata": {},
   "outputs": [
    {
     "data": {
      "text/plain": [
       "array([0.25, 0.5 , 0.75, 1.  ])"
      ]
     },
     "execution_count": 3,
     "metadata": {},
     "output_type": "execute_result"
    }
   ],
   "source": [
    "data.values"
   ]
  },
  {
   "cell_type": "code",
   "execution_count": 4,
   "id": "9b23f64f-cb21-4aab-b3b2-d58f8d968fba",
   "metadata": {},
   "outputs": [
    {
     "data": {
      "text/plain": [
       "RangeIndex(start=0, stop=4, step=1)"
      ]
     },
     "execution_count": 4,
     "metadata": {},
     "output_type": "execute_result"
    }
   ],
   "source": [
    "data.index"
   ]
  },
  {
   "cell_type": "code",
   "execution_count": 5,
   "id": "b07f9dac-9a4a-41a4-8c9c-c0b4e519ec9f",
   "metadata": {},
   "outputs": [
    {
     "data": {
      "text/plain": [
       "0.5"
      ]
     },
     "execution_count": 5,
     "metadata": {},
     "output_type": "execute_result"
    }
   ],
   "source": [
    "data[1]"
   ]
  },
  {
   "cell_type": "code",
   "execution_count": 6,
   "id": "b606a6f1-4920-49ac-9b0c-ab060944798f",
   "metadata": {},
   "outputs": [
    {
     "data": {
      "text/plain": [
       "1    0.50\n",
       "2    0.75\n",
       "dtype: float64"
      ]
     },
     "execution_count": 6,
     "metadata": {},
     "output_type": "execute_result"
    }
   ],
   "source": [
    "data[1:3]"
   ]
  },
  {
   "cell_type": "markdown",
   "id": "15ca4846-8773-4a9a-bbc3-6a0451cdfb2b",
   "metadata": {},
   "source": [
    "### 1.1. Series是通用的NumPy数组"
   ]
  },
  {
   "cell_type": "markdown",
   "id": "bd037f04-100c-4eb0-9f20-ac640bd0f5ec",
   "metadata": {},
   "source": [
    "`Series` 对象和一维 `NumPy` 数组基本可以等价交换，但两者间的本质差异其实是索引：  \n",
    "`NumPy` 数组通过隐式定义的整数索引获取数值，而 `Pandas` 的 `Series` 对象用一种显式定义的索引与数值关联。  \n",
    "显式索引的定义让 `Series` 对象拥有了更强的能力。例如，索引不再仅仅是整数，还可以是任意想要的类型。如果需要，完全可以用字符串定义索引："
   ]
  },
  {
   "cell_type": "code",
   "execution_count": 7,
   "id": "b60f36ad-8d72-40ac-8d95-f410ec1e06e8",
   "metadata": {},
   "outputs": [
    {
     "data": {
      "text/plain": [
       "a    0.25\n",
       "b    0.50\n",
       "c    0.75\n",
       "d    1.00\n",
       "dtype: float64"
      ]
     },
     "execution_count": 7,
     "metadata": {},
     "output_type": "execute_result"
    }
   ],
   "source": [
    "data = pd.Series([0.25, 0.5, 0.75, 1.0], index=['a', 'b', 'c', 'd'])\n",
    "data"
   ]
  },
  {
   "cell_type": "code",
   "execution_count": 8,
   "id": "47247754-d16a-4ef1-a1d4-f10bfdbe0133",
   "metadata": {},
   "outputs": [
    {
     "data": {
      "text/plain": [
       "0.5"
      ]
     },
     "execution_count": 8,
     "metadata": {},
     "output_type": "execute_result"
    }
   ],
   "source": [
    "data['b']"
   ]
  },
  {
   "cell_type": "code",
   "execution_count": 9,
   "id": "33dfa62d-97c2-4391-840b-7b9a1d9b9354",
   "metadata": {},
   "outputs": [
    {
     "data": {
      "text/plain": [
       "2    0.25\n",
       "5    0.50\n",
       "3    0.75\n",
       "7    1.00\n",
       "dtype: float64"
      ]
     },
     "execution_count": 9,
     "metadata": {},
     "output_type": "execute_result"
    }
   ],
   "source": [
    "data = pd.Series([0.25, 0.5, 0.75, 1.0], index=[2, 5, 3, 7])\n",
    "data"
   ]
  },
  {
   "cell_type": "code",
   "execution_count": 10,
   "id": "de00cc9e-1d0d-4d42-af06-98d2726a7569",
   "metadata": {},
   "outputs": [
    {
     "data": {
      "text/plain": [
       "0.5"
      ]
     },
     "execution_count": 10,
     "metadata": {},
     "output_type": "execute_result"
    }
   ],
   "source": [
    "data[5]"
   ]
  },
  {
   "cell_type": "markdown",
   "id": "ee866b80-3497-45fc-8178-15a1ed61a64e",
   "metadata": {},
   "source": [
    "### 1.2. Series是特殊的字典"
   ]
  },
  {
   "cell_type": "markdown",
   "id": "9fae63b0-567e-4874-b0ad-15e5cfa8afb0",
   "metadata": {},
   "source": [
    "你可以把 `Pandas` 的 `Series` 对象看成一种特殊的 `Python` 字典。  \n",
    "字典是一种将任意键映射到一组任意值的数据结构，而 `Series` 对象其实是一种将类型键映射到一组类型值的数据结构。  \n",
    "类型至关重要：就像 `NumPy` 数组背后特定类型的经过编译的代码使得它在某些操作上比普通的 `Python` 列表更加高效一样，`Pandas Series` 的类型信息使得它在某些操作上比 `Python` 的字典更高效。  \n",
    "我们可以直接用 `Python` 的字典创建一个 `Series` 对象，让 `Series`对象与字典的类比更加清晰："
   ]
  },
  {
   "cell_type": "code",
   "execution_count": 11,
   "id": "e275e983-23d8-44e1-bbc0-47e3321c3e29",
   "metadata": {},
   "outputs": [
    {
     "data": {
      "text/plain": [
       "California    38332521\n",
       "Texas         26448193\n",
       "New York      19651127\n",
       "Florida       19552860\n",
       "Illinois      12882135\n",
       "dtype: int64"
      ]
     },
     "execution_count": 11,
     "metadata": {},
     "output_type": "execute_result"
    }
   ],
   "source": [
    "population_dict = {'California': 38332521,\n",
    "                   'Texas': 26448193,\n",
    "                   'New York': 19651127,\n",
    "                   'Florida': 19552860,\n",
    "                   'Illinois': 12882135}\n",
    "population = pd.Series(population_dict)  # 用字典创建 Series 对象时，其索引默认按照顺序排列。典型的字典数值获取方式仍然有效：\n",
    "population"
   ]
  },
  {
   "cell_type": "code",
   "execution_count": 12,
   "id": "253f7b8f-3f61-4d9b-829a-0ed7f593880b",
   "metadata": {},
   "outputs": [
    {
     "data": {
      "text/plain": [
       "38332521"
      ]
     },
     "execution_count": 12,
     "metadata": {},
     "output_type": "execute_result"
    }
   ],
   "source": [
    "population['California']"
   ]
  },
  {
   "cell_type": "code",
   "execution_count": 13,
   "id": "b4e76705-1eb0-454e-b925-d80de2de49da",
   "metadata": {},
   "outputs": [
    {
     "data": {
      "text/plain": [
       "California    38332521\n",
       "Texas         26448193\n",
       "New York      19651127\n",
       "Florida       19552860\n",
       "Illinois      12882135\n",
       "dtype: int64"
      ]
     },
     "execution_count": 13,
     "metadata": {},
     "output_type": "execute_result"
    }
   ],
   "source": [
    "population['California':'Illinois']  # 和字典不同，Series 对象还支持数组形式的操作，比如切片："
   ]
  },
  {
   "cell_type": "markdown",
   "id": "bca2c9f8-c0c1-40ca-a082-7464132fb5f8",
   "metadata": {},
   "source": [
    "### 1.3. 创建Series对象"
   ]
  },
  {
   "cell_type": "markdown",
   "id": "7575a26d-8225-474b-aff3-e3cc3e77f200",
   "metadata": {},
   "source": [
    "创建 `Pandas` 的 `Series` 对象的方法，都是像这样的形式：\n",
    "\n",
    "```python\n",
    "pd.Series(data, index=index)\n",
    "```\n",
    "\n",
    "其中，`index` 是一个可选参数，`data` 参数支持多种数据类型。"
   ]
  },
  {
   "cell_type": "code",
   "execution_count": 14,
   "id": "ffa3513b-9d9f-4459-b5fb-b2b42e4a66d7",
   "metadata": {},
   "outputs": [
    {
     "data": {
      "text/plain": [
       "0    2\n",
       "1    4\n",
       "2    6\n",
       "dtype: int64"
      ]
     },
     "execution_count": 14,
     "metadata": {},
     "output_type": "execute_result"
    }
   ],
   "source": [
    "pd.Series([2, 4, 6])                 # data 可以是列表或 NumPy 数组，这时 index 默认值为整数序列"
   ]
  },
  {
   "cell_type": "code",
   "execution_count": 15,
   "id": "c510d20b-9846-4fd6-bdc6-a917704c1b4b",
   "metadata": {},
   "outputs": [
    {
     "data": {
      "text/plain": [
       "100    5\n",
       "200    5\n",
       "300    5\n",
       "dtype: int64"
      ]
     },
     "execution_count": 15,
     "metadata": {},
     "output_type": "execute_result"
    }
   ],
   "source": [
    "pd.Series(5, index=[100, 200, 300])  # data 也可以是一个标量，创建 Series 对象时会重复填充到每个索引上"
   ]
  },
  {
   "cell_type": "code",
   "execution_count": 16,
   "id": "f5f76987-f0d6-4dfc-b9eb-387f8467cd0e",
   "metadata": {},
   "outputs": [
    {
     "data": {
      "text/plain": [
       "2    a\n",
       "1    b\n",
       "3    c\n",
       "dtype: object"
      ]
     },
     "execution_count": 16,
     "metadata": {},
     "output_type": "execute_result"
    }
   ],
   "source": [
    "pd.Series({2:'a', 1:'b', 3:'c'})     # data 还可以是一个字典，index 默认是排序的字典键"
   ]
  },
  {
   "cell_type": "code",
   "execution_count": 17,
   "id": "83b6a2bf-2060-49fd-a354-1fad9d54498a",
   "metadata": {},
   "outputs": [
    {
     "data": {
      "text/plain": [
       "3    c\n",
       "2    a\n",
       "dtype: object"
      ]
     },
     "execution_count": 17,
     "metadata": {},
     "output_type": "execute_result"
    }
   ],
   "source": [
    "pd.Series({2:'a', 1:'b', 3:'c'}, index=[3, 2])  # 每一种形式都可以通过显式指定索引筛选需要的结果"
   ]
  },
  {
   "cell_type": "markdown",
   "id": "6076ac07-5bcd-41fb-8012-e33cd8050340",
   "metadata": {},
   "source": [
    "## 2. Pandas的DataFrame对象"
   ]
  },
  {
   "cell_type": "markdown",
   "id": "affce4f3-cc9d-4ade-95ad-adf2157294f9",
   "metadata": {},
   "source": [
    "`Pandas` 的另一个基础数据结构是 `DataFrame`。  \n",
    "和上一节介绍的 `Series`对象一样，`DataFrame` 既可以作为一个通用型 `NumPy` 数组，也可以看作特殊的 `Python` 字典。"
   ]
  },
  {
   "cell_type": "markdown",
   "id": "774698e1-ce70-4593-80b2-6e9a642ac51a",
   "metadata": {},
   "source": [
    "### 2.1. DataFrame是通用的NumPy数组"
   ]
  },
  {
   "cell_type": "markdown",
   "id": "6a1b1f41-351f-492f-8d20-4204d02fde34",
   "metadata": {},
   "source": [
    "如果将 `Series` 类比为带灵活索引的一维数组，那么 `DataFrame`就可以看作是一种既有灵活的行索引，又有灵活列名的二维数组。  \n",
    "就像你可以把二维数组看成是有序排列的一维数组一样，你也可以把 `DataFrame` 看成是有序排列的若干 `Series` 对象。  \n",
    "这里的“排列”指的是它们拥有共同的索引。\n",
    "\n",
    "`DataFrame` 可以看作一种通用的 `NumPy` 二维数组，它的行与列都可以通过索引获取。"
   ]
  },
  {
   "cell_type": "code",
   "execution_count": 18,
   "id": "4c7eb865-1709-4b2e-8e97-ad726f484234",
   "metadata": {},
   "outputs": [
    {
     "data": {
      "text/plain": [
       "California    423967\n",
       "Texas         695662\n",
       "New York      141297\n",
       "Florida       170312\n",
       "Illinois      149995\n",
       "dtype: int64"
      ]
     },
     "execution_count": 18,
     "metadata": {},
     "output_type": "execute_result"
    }
   ],
   "source": [
    "area_dict = {'California': 423967, 'Texas': 695662, 'New York': 141297, 'Florida': 170312, 'Illinois': 149995}\n",
    "area = pd.Series(area_dict)\n",
    "area"
   ]
  },
  {
   "cell_type": "code",
   "execution_count": 19,
   "id": "bdde9799-df5d-4cbe-8d4b-0c390e84af89",
   "metadata": {},
   "outputs": [
    {
     "data": {
      "text/html": [
       "<div>\n",
       "<style scoped>\n",
       "    .dataframe tbody tr th:only-of-type {\n",
       "        vertical-align: middle;\n",
       "    }\n",
       "\n",
       "    .dataframe tbody tr th {\n",
       "        vertical-align: top;\n",
       "    }\n",
       "\n",
       "    .dataframe thead th {\n",
       "        text-align: right;\n",
       "    }\n",
       "</style>\n",
       "<table border=\"1\" class=\"dataframe\">\n",
       "  <thead>\n",
       "    <tr style=\"text-align: right;\">\n",
       "      <th></th>\n",
       "      <th>population</th>\n",
       "      <th>area</th>\n",
       "    </tr>\n",
       "  </thead>\n",
       "  <tbody>\n",
       "    <tr>\n",
       "      <th>California</th>\n",
       "      <td>38332521</td>\n",
       "      <td>423967</td>\n",
       "    </tr>\n",
       "    <tr>\n",
       "      <th>Texas</th>\n",
       "      <td>26448193</td>\n",
       "      <td>695662</td>\n",
       "    </tr>\n",
       "    <tr>\n",
       "      <th>New York</th>\n",
       "      <td>19651127</td>\n",
       "      <td>141297</td>\n",
       "    </tr>\n",
       "    <tr>\n",
       "      <th>Florida</th>\n",
       "      <td>19552860</td>\n",
       "      <td>170312</td>\n",
       "    </tr>\n",
       "    <tr>\n",
       "      <th>Illinois</th>\n",
       "      <td>12882135</td>\n",
       "      <td>149995</td>\n",
       "    </tr>\n",
       "  </tbody>\n",
       "</table>\n",
       "</div>"
      ],
      "text/plain": [
       "            population    area\n",
       "California    38332521  423967\n",
       "Texas         26448193  695662\n",
       "New York      19651127  141297\n",
       "Florida       19552860  170312\n",
       "Illinois      12882135  149995"
      ]
     },
     "execution_count": 19,
     "metadata": {},
     "output_type": "execute_result"
    }
   ],
   "source": [
    "states = pd.DataFrame({'population': population, 'area': area})\n",
    "states"
   ]
  },
  {
   "cell_type": "code",
   "execution_count": 20,
   "id": "6b3d85a8-611b-4233-adbe-2a7b1a5473dc",
   "metadata": {},
   "outputs": [
    {
     "data": {
      "text/plain": [
       "Index(['California', 'Texas', 'New York', 'Florida', 'Illinois'], dtype='object')"
      ]
     },
     "execution_count": 20,
     "metadata": {},
     "output_type": "execute_result"
    }
   ],
   "source": [
    "states.index"
   ]
  },
  {
   "cell_type": "code",
   "execution_count": 21,
   "id": "ea72ea2f-01b4-49c9-884f-d13acf6fbe08",
   "metadata": {},
   "outputs": [
    {
     "data": {
      "text/plain": [
       "Index(['population', 'area'], dtype='object')"
      ]
     },
     "execution_count": 21,
     "metadata": {},
     "output_type": "execute_result"
    }
   ],
   "source": [
    "states.columns"
   ]
  },
  {
   "cell_type": "markdown",
   "id": "5d476da2-34bc-40a8-9b6a-0895d23b29c8",
   "metadata": {},
   "source": [
    "### 2.2. DataFrame是特殊的字典"
   ]
  },
  {
   "cell_type": "markdown",
   "id": "d13368f0-0f89-4c93-994c-59706c58e72b",
   "metadata": {},
   "source": [
    "与 `Series` 类似，我们也可以把 `DataFrame` 看成一种特殊的字典。字典是一个键映射一个值，而 `DataFrame` 是一列映射一个 `Series` 的数据。"
   ]
  },
  {
   "cell_type": "code",
   "execution_count": 22,
   "id": "87e9e7c5-017c-42c1-bc4a-40cc3742888e",
   "metadata": {},
   "outputs": [
    {
     "data": {
      "text/plain": [
       "California    423967\n",
       "Texas         695662\n",
       "New York      141297\n",
       "Florida       170312\n",
       "Illinois      149995\n",
       "Name: area, dtype: int64"
      ]
     },
     "execution_count": 22,
     "metadata": {},
     "output_type": "execute_result"
    }
   ],
   "source": [
    "states['area']"
   ]
  },
  {
   "cell_type": "markdown",
   "id": "eca32ad2-7c32-4d2a-b1ae-71f1ff913824",
   "metadata": {},
   "source": [
    "这里需要注意的是，在 `NumPy` 的二维数组里，`data[0]` 返回第一行；而在 `DataFrame` 中，`data['col0']` 返回第一列。  \n",
    "因此，最好把 `DataFrame` 看成一种通用字典，而不是通用数组，即使这两种看法在不同情况下都是有用的。"
   ]
  },
  {
   "cell_type": "markdown",
   "id": "13883800-b8aa-4533-93c9-3188f9eacf38",
   "metadata": {},
   "source": [
    "### 2.3. 创建DataFrame对象"
   ]
  },
  {
   "cell_type": "code",
   "execution_count": 23,
   "id": "4baaabd9-b9de-4ddd-acab-d0a5e4abebbd",
   "metadata": {},
   "outputs": [
    {
     "data": {
      "text/html": [
       "<div>\n",
       "<style scoped>\n",
       "    .dataframe tbody tr th:only-of-type {\n",
       "        vertical-align: middle;\n",
       "    }\n",
       "\n",
       "    .dataframe tbody tr th {\n",
       "        vertical-align: top;\n",
       "    }\n",
       "\n",
       "    .dataframe thead th {\n",
       "        text-align: right;\n",
       "    }\n",
       "</style>\n",
       "<table border=\"1\" class=\"dataframe\">\n",
       "  <thead>\n",
       "    <tr style=\"text-align: right;\">\n",
       "      <th></th>\n",
       "      <th>population</th>\n",
       "    </tr>\n",
       "  </thead>\n",
       "  <tbody>\n",
       "    <tr>\n",
       "      <th>California</th>\n",
       "      <td>38332521</td>\n",
       "    </tr>\n",
       "    <tr>\n",
       "      <th>Texas</th>\n",
       "      <td>26448193</td>\n",
       "    </tr>\n",
       "    <tr>\n",
       "      <th>New York</th>\n",
       "      <td>19651127</td>\n",
       "    </tr>\n",
       "    <tr>\n",
       "      <th>Florida</th>\n",
       "      <td>19552860</td>\n",
       "    </tr>\n",
       "    <tr>\n",
       "      <th>Illinois</th>\n",
       "      <td>12882135</td>\n",
       "    </tr>\n",
       "  </tbody>\n",
       "</table>\n",
       "</div>"
      ],
      "text/plain": [
       "            population\n",
       "California    38332521\n",
       "Texas         26448193\n",
       "New York      19651127\n",
       "Florida       19552860\n",
       "Illinois      12882135"
      ]
     },
     "execution_count": 23,
     "metadata": {},
     "output_type": "execute_result"
    }
   ],
   "source": [
    "pd.DataFrame(population, columns=['population'])  # 通过单个 Series 对象创建。DataFrame 是一组 Series 对象的集合，可以用单个 Series 创建一个单列的 DataFrame："
   ]
  },
  {
   "cell_type": "code",
   "execution_count": 24,
   "id": "3a661789-0401-4b66-b9b3-5e5d24553e50",
   "metadata": {},
   "outputs": [
    {
     "data": {
      "text/html": [
       "<div>\n",
       "<style scoped>\n",
       "    .dataframe tbody tr th:only-of-type {\n",
       "        vertical-align: middle;\n",
       "    }\n",
       "\n",
       "    .dataframe tbody tr th {\n",
       "        vertical-align: top;\n",
       "    }\n",
       "\n",
       "    .dataframe thead th {\n",
       "        text-align: right;\n",
       "    }\n",
       "</style>\n",
       "<table border=\"1\" class=\"dataframe\">\n",
       "  <thead>\n",
       "    <tr style=\"text-align: right;\">\n",
       "      <th></th>\n",
       "      <th>a</th>\n",
       "      <th>b</th>\n",
       "    </tr>\n",
       "  </thead>\n",
       "  <tbody>\n",
       "    <tr>\n",
       "      <th>0</th>\n",
       "      <td>0</td>\n",
       "      <td>0</td>\n",
       "    </tr>\n",
       "    <tr>\n",
       "      <th>1</th>\n",
       "      <td>1</td>\n",
       "      <td>2</td>\n",
       "    </tr>\n",
       "    <tr>\n",
       "      <th>2</th>\n",
       "      <td>2</td>\n",
       "      <td>4</td>\n",
       "    </tr>\n",
       "  </tbody>\n",
       "</table>\n",
       "</div>"
      ],
      "text/plain": [
       "   a  b\n",
       "0  0  0\n",
       "1  1  2\n",
       "2  2  4"
      ]
     },
     "execution_count": 24,
     "metadata": {},
     "output_type": "execute_result"
    }
   ],
   "source": [
    "data = [{'a':i, 'b':2*i} for i in range(3)]\n",
    "pd.DataFrame(data)  # 通过字典列表创建。任何元素是字典的列表都可以变成DataFrame。"
   ]
  },
  {
   "cell_type": "code",
   "execution_count": 25,
   "id": "aa037f55-3e41-4239-aa92-12174f7d6ccc",
   "metadata": {},
   "outputs": [
    {
     "data": {
      "text/html": [
       "<div>\n",
       "<style scoped>\n",
       "    .dataframe tbody tr th:only-of-type {\n",
       "        vertical-align: middle;\n",
       "    }\n",
       "\n",
       "    .dataframe tbody tr th {\n",
       "        vertical-align: top;\n",
       "    }\n",
       "\n",
       "    .dataframe thead th {\n",
       "        text-align: right;\n",
       "    }\n",
       "</style>\n",
       "<table border=\"1\" class=\"dataframe\">\n",
       "  <thead>\n",
       "    <tr style=\"text-align: right;\">\n",
       "      <th></th>\n",
       "      <th>a</th>\n",
       "      <th>b</th>\n",
       "      <th>c</th>\n",
       "    </tr>\n",
       "  </thead>\n",
       "  <tbody>\n",
       "    <tr>\n",
       "      <th>0</th>\n",
       "      <td>1.0</td>\n",
       "      <td>2</td>\n",
       "      <td>NaN</td>\n",
       "    </tr>\n",
       "    <tr>\n",
       "      <th>1</th>\n",
       "      <td>NaN</td>\n",
       "      <td>3</td>\n",
       "      <td>4.0</td>\n",
       "    </tr>\n",
       "  </tbody>\n",
       "</table>\n",
       "</div>"
      ],
      "text/plain": [
       "     a  b    c\n",
       "0  1.0  2  NaN\n",
       "1  NaN  3  4.0"
      ]
     },
     "execution_count": 25,
     "metadata": {},
     "output_type": "execute_result"
    }
   ],
   "source": [
    "pd.DataFrame([{'a':1, 'b':2}, {'b':3, 'c':4}])  # 即使字典中有些键不存在，Pandas 也会用缺失值 NaN（不是数字，not a number）来表示："
   ]
  },
  {
   "cell_type": "code",
   "execution_count": 26,
   "id": "6f7357e6-3067-4b63-a04a-ae540b86460e",
   "metadata": {},
   "outputs": [
    {
     "data": {
      "text/html": [
       "<div>\n",
       "<style scoped>\n",
       "    .dataframe tbody tr th:only-of-type {\n",
       "        vertical-align: middle;\n",
       "    }\n",
       "\n",
       "    .dataframe tbody tr th {\n",
       "        vertical-align: top;\n",
       "    }\n",
       "\n",
       "    .dataframe thead th {\n",
       "        text-align: right;\n",
       "    }\n",
       "</style>\n",
       "<table border=\"1\" class=\"dataframe\">\n",
       "  <thead>\n",
       "    <tr style=\"text-align: right;\">\n",
       "      <th></th>\n",
       "      <th>population</th>\n",
       "      <th>area</th>\n",
       "    </tr>\n",
       "  </thead>\n",
       "  <tbody>\n",
       "    <tr>\n",
       "      <th>California</th>\n",
       "      <td>38332521</td>\n",
       "      <td>423967</td>\n",
       "    </tr>\n",
       "    <tr>\n",
       "      <th>Texas</th>\n",
       "      <td>26448193</td>\n",
       "      <td>695662</td>\n",
       "    </tr>\n",
       "    <tr>\n",
       "      <th>New York</th>\n",
       "      <td>19651127</td>\n",
       "      <td>141297</td>\n",
       "    </tr>\n",
       "    <tr>\n",
       "      <th>Florida</th>\n",
       "      <td>19552860</td>\n",
       "      <td>170312</td>\n",
       "    </tr>\n",
       "    <tr>\n",
       "      <th>Illinois</th>\n",
       "      <td>12882135</td>\n",
       "      <td>149995</td>\n",
       "    </tr>\n",
       "  </tbody>\n",
       "</table>\n",
       "</div>"
      ],
      "text/plain": [
       "            population    area\n",
       "California    38332521  423967\n",
       "Texas         26448193  695662\n",
       "New York      19651127  141297\n",
       "Florida       19552860  170312\n",
       "Illinois      12882135  149995"
      ]
     },
     "execution_count": 26,
     "metadata": {},
     "output_type": "execute_result"
    }
   ],
   "source": [
    "pd.DataFrame({'population':population, 'area':area})  # 通过 Series 对象字典创建。就像之前见过的那样，DataFrame也可以用一个由 Series 对象构成的字典创建："
   ]
  },
  {
   "cell_type": "code",
   "execution_count": 27,
   "id": "3a4abd69-f576-4053-ab55-e8460d6681e0",
   "metadata": {},
   "outputs": [
    {
     "data": {
      "text/html": [
       "<div>\n",
       "<style scoped>\n",
       "    .dataframe tbody tr th:only-of-type {\n",
       "        vertical-align: middle;\n",
       "    }\n",
       "\n",
       "    .dataframe tbody tr th {\n",
       "        vertical-align: top;\n",
       "    }\n",
       "\n",
       "    .dataframe thead th {\n",
       "        text-align: right;\n",
       "    }\n",
       "</style>\n",
       "<table border=\"1\" class=\"dataframe\">\n",
       "  <thead>\n",
       "    <tr style=\"text-align: right;\">\n",
       "      <th></th>\n",
       "      <th>foo</th>\n",
       "      <th>bar</th>\n",
       "    </tr>\n",
       "  </thead>\n",
       "  <tbody>\n",
       "    <tr>\n",
       "      <th>a</th>\n",
       "      <td>0.495183</td>\n",
       "      <td>0.892617</td>\n",
       "    </tr>\n",
       "    <tr>\n",
       "      <th>b</th>\n",
       "      <td>0.838996</td>\n",
       "      <td>0.579059</td>\n",
       "    </tr>\n",
       "    <tr>\n",
       "      <th>c</th>\n",
       "      <td>0.539437</td>\n",
       "      <td>0.161771</td>\n",
       "    </tr>\n",
       "  </tbody>\n",
       "</table>\n",
       "</div>"
      ],
      "text/plain": [
       "        foo       bar\n",
       "a  0.495183  0.892617\n",
       "b  0.838996  0.579059\n",
       "c  0.539437  0.161771"
      ]
     },
     "execution_count": 27,
     "metadata": {},
     "output_type": "execute_result"
    }
   ],
   "source": [
    "# 通过 NumPy 二维数组创建。假如有一个二维数组，就可以创建一个可以指定行列索引值的 DataFrame。如果不指定行列索引值，那么行列默认都是整数索引值：\n",
    "pd.DataFrame(np.random.rand(3,2), columns=['foo', 'bar'], index=['a', 'b', 'c'])"
   ]
  },
  {
   "cell_type": "code",
   "execution_count": 28,
   "id": "dc396124-05ef-4be5-aac7-3b24320ce287",
   "metadata": {},
   "outputs": [
    {
     "data": {
      "text/plain": [
       "array([(0, 0.), (0, 0.), (0, 0.)], dtype=[('A', '<i8'), ('B', '<f8')])"
      ]
     },
     "execution_count": 28,
     "metadata": {},
     "output_type": "execute_result"
    }
   ],
   "source": [
    "A = np.zeros(3, dtype=[('A', 'i8'), ('B', 'f8')])\n",
    "A"
   ]
  },
  {
   "cell_type": "code",
   "execution_count": 29,
   "id": "1e4accbb-d2c3-410b-9bb7-a94c64a7f1ef",
   "metadata": {},
   "outputs": [
    {
     "data": {
      "text/html": [
       "<div>\n",
       "<style scoped>\n",
       "    .dataframe tbody tr th:only-of-type {\n",
       "        vertical-align: middle;\n",
       "    }\n",
       "\n",
       "    .dataframe tbody tr th {\n",
       "        vertical-align: top;\n",
       "    }\n",
       "\n",
       "    .dataframe thead th {\n",
       "        text-align: right;\n",
       "    }\n",
       "</style>\n",
       "<table border=\"1\" class=\"dataframe\">\n",
       "  <thead>\n",
       "    <tr style=\"text-align: right;\">\n",
       "      <th></th>\n",
       "      <th>A</th>\n",
       "      <th>B</th>\n",
       "    </tr>\n",
       "  </thead>\n",
       "  <tbody>\n",
       "    <tr>\n",
       "      <th>0</th>\n",
       "      <td>0</td>\n",
       "      <td>0.0</td>\n",
       "    </tr>\n",
       "    <tr>\n",
       "      <th>1</th>\n",
       "      <td>0</td>\n",
       "      <td>0.0</td>\n",
       "    </tr>\n",
       "    <tr>\n",
       "      <th>2</th>\n",
       "      <td>0</td>\n",
       "      <td>0.0</td>\n",
       "    </tr>\n",
       "  </tbody>\n",
       "</table>\n",
       "</div>"
      ],
      "text/plain": [
       "   A    B\n",
       "0  0  0.0\n",
       "1  0  0.0\n",
       "2  0  0.0"
      ]
     },
     "execution_count": 29,
     "metadata": {},
     "output_type": "execute_result"
    }
   ],
   "source": [
    "pd.DataFrame(A)  # 通过 NumPy 结构化数组创建。由于 Pandas 的 DataFrame 与结构化数组十分相似，因此可以通过结构化数组创建 DataFrame："
   ]
  },
  {
   "cell_type": "markdown",
   "id": "8de7d4c4-6a35-489b-84b8-bcac842eef9f",
   "metadata": {},
   "source": [
    "## 3. Pandas的Index对象"
   ]
  },
  {
   "cell_type": "markdown",
   "id": "ec130603-cc25-4ade-b4f9-74601ec40226",
   "metadata": {},
   "source": [
    "我们已经发现，`Series` 和 `DataFrame` 对象都使用便于引用和调整的显式索引。  \n",
    "`Pandas` 的 `Index` 对象是一个很有趣的数据结构，可以将它看作是一个不可变数组或有序集合（实际上是一个多集，因为 `Index` 对象可能会包含重复值）。  \n",
    "这两种观点使得 `Index` 对象能呈现一些有趣的功能。  \n",
    "让我们用一个简单的整数列表来创建一个 `Index` 对象："
   ]
  },
  {
   "cell_type": "code",
   "execution_count": 30,
   "id": "4f4f82c6-ee84-4fa7-9948-415fd65537ef",
   "metadata": {},
   "outputs": [
    {
     "data": {
      "text/plain": [
       "Int64Index([2, 3, 5, 7, 11], dtype='int64')"
      ]
     },
     "execution_count": 30,
     "metadata": {},
     "output_type": "execute_result"
    }
   ],
   "source": [
    "ind = pd.Index([2, 3, 5, 7, 11])\n",
    "ind"
   ]
  },
  {
   "cell_type": "markdown",
   "id": "923f870f-00ac-4eb8-a2c7-32ea35381b21",
   "metadata": {},
   "source": [
    "### 3.1. 将Index看做不可变数组"
   ]
  },
  {
   "cell_type": "markdown",
   "id": "57817056-52db-4927-a241-06db26e1ef0a",
   "metadata": {},
   "source": [
    "`Index` 对象的不可变特征使得多个 `DataFrame` 和数组之间进行索引共享时更加安全，尤其是可以避免因修改索引时粗心大意而导致的副作用。\n",
    "\n",
    "`Index` 对象的许多操作都像数组。例如，可以通过标准 `Python` 的取值方法获取数值，也可以通过切片获取数值："
   ]
  },
  {
   "cell_type": "code",
   "execution_count": 31,
   "id": "24f4f918-44b1-49bc-b8d2-3d7dfbc967f9",
   "metadata": {},
   "outputs": [
    {
     "data": {
      "text/plain": [
       "3"
      ]
     },
     "execution_count": 31,
     "metadata": {},
     "output_type": "execute_result"
    }
   ],
   "source": [
    "ind[1]"
   ]
  },
  {
   "cell_type": "code",
   "execution_count": 32,
   "id": "a0479e01-b990-480b-88fa-825827bc5b3b",
   "metadata": {},
   "outputs": [
    {
     "data": {
      "text/plain": [
       "Int64Index([2, 5, 11], dtype='int64')"
      ]
     },
     "execution_count": 32,
     "metadata": {},
     "output_type": "execute_result"
    }
   ],
   "source": [
    "ind[::2]"
   ]
  },
  {
   "cell_type": "code",
   "execution_count": 33,
   "id": "2956e9f7-4c01-48fc-9a8e-73503b99c1fa",
   "metadata": {},
   "outputs": [
    {
     "name": "stdout",
     "output_type": "stream",
     "text": [
      "5 (5,) 1 int64\n"
     ]
    }
   ],
   "source": [
    "print(ind.size, ind.shape, ind.ndim, ind.dtype)  # Index 对象还有许多与 NumPy 数组相似的属性："
   ]
  },
  {
   "cell_type": "code",
   "execution_count": 34,
   "id": "b7d25078-df0f-41f4-a289-92d6d82c005e",
   "metadata": {},
   "outputs": [
    {
     "ename": "TypeError",
     "evalue": "Index does not support mutable operations",
     "output_type": "error",
     "traceback": [
      "\u001b[0;31m---------------------------------------------------------------------------\u001b[0m",
      "\u001b[0;31mTypeError\u001b[0m                                 Traceback (most recent call last)",
      "\u001b[0;32m/tmp/ipykernel_34599/1275559465.py\u001b[0m in \u001b[0;36m<module>\u001b[0;34m\u001b[0m\n\u001b[0;32m----> 1\u001b[0;31m \u001b[0mind\u001b[0m\u001b[0;34m[\u001b[0m\u001b[0;36m1\u001b[0m\u001b[0;34m]\u001b[0m \u001b[0;34m=\u001b[0m \u001b[0;36m0\u001b[0m  \u001b[0;31m# Index 对象与 NumPy 数组之间的不同在于，Index 对象的索引是不可变的，也就是说不能通过通常的方式进行调整：\u001b[0m\u001b[0;34m\u001b[0m\u001b[0;34m\u001b[0m\u001b[0m\n\u001b[0m",
      "\u001b[0;32m/usr/local/lib/python3.7/dist-packages/pandas/core/indexes/base.py\u001b[0m in \u001b[0;36m__setitem__\u001b[0;34m(self, key, value)\u001b[0m\n\u001b[1;32m   4583\u001b[0m     \u001b[0;34m@\u001b[0m\u001b[0mfinal\u001b[0m\u001b[0;34m\u001b[0m\u001b[0;34m\u001b[0m\u001b[0m\n\u001b[1;32m   4584\u001b[0m     \u001b[0;32mdef\u001b[0m \u001b[0m__setitem__\u001b[0m\u001b[0;34m(\u001b[0m\u001b[0mself\u001b[0m\u001b[0;34m,\u001b[0m \u001b[0mkey\u001b[0m\u001b[0;34m,\u001b[0m \u001b[0mvalue\u001b[0m\u001b[0;34m)\u001b[0m\u001b[0;34m:\u001b[0m\u001b[0;34m\u001b[0m\u001b[0;34m\u001b[0m\u001b[0m\n\u001b[0;32m-> 4585\u001b[0;31m         \u001b[0;32mraise\u001b[0m \u001b[0mTypeError\u001b[0m\u001b[0;34m(\u001b[0m\u001b[0;34m\"Index does not support mutable operations\"\u001b[0m\u001b[0;34m)\u001b[0m\u001b[0;34m\u001b[0m\u001b[0;34m\u001b[0m\u001b[0m\n\u001b[0m\u001b[1;32m   4586\u001b[0m \u001b[0;34m\u001b[0m\u001b[0m\n\u001b[1;32m   4587\u001b[0m     \u001b[0;32mdef\u001b[0m \u001b[0m__getitem__\u001b[0m\u001b[0;34m(\u001b[0m\u001b[0mself\u001b[0m\u001b[0;34m,\u001b[0m \u001b[0mkey\u001b[0m\u001b[0;34m)\u001b[0m\u001b[0;34m:\u001b[0m\u001b[0;34m\u001b[0m\u001b[0;34m\u001b[0m\u001b[0m\n",
      "\u001b[0;31mTypeError\u001b[0m: Index does not support mutable operations"
     ]
    }
   ],
   "source": [
    "ind[1] = 0  # Index 对象与 NumPy 数组之间的不同在于，Index 对象的索引是不可变的，也就是说不能通过通常的方式进行调整："
   ]
  },
  {
   "cell_type": "markdown",
   "id": "79ee3895-3474-4d11-af75-6708f1e45e0d",
   "metadata": {},
   "source": [
    "### 3.2. 将Index看作有序集合"
   ]
  },
  {
   "cell_type": "markdown",
   "id": "eb794ef5-1d9c-41ff-b1aa-e3188c334be3",
   "metadata": {},
   "source": [
    "`Pandas` 对象被设计用于实现许多操作，如连接（join）数据集，其中会涉及许多集合操作。  \n",
    "`Index` 对象遵循 `Python` 标准库的集合（`set`）数据结构的许多习惯用法，包括并集、交集、差集等："
   ]
  },
  {
   "cell_type": "code",
   "execution_count": 35,
   "id": "d292a66a-a161-4bf6-9a4c-40650f45c675",
   "metadata": {},
   "outputs": [
    {
     "data": {
      "text/plain": [
       "Int64Index([3, 5, 7], dtype='int64')"
      ]
     },
     "execution_count": 35,
     "metadata": {},
     "output_type": "execute_result"
    }
   ],
   "source": [
    "indA = pd.Index([1, 3, 5, 7, 9])\n",
    "indB = pd.Index([2, 3, 5, 7, 11])\n",
    "\n",
    "# indA & indB  # 交集\n",
    "indA.intersection(indB)"
   ]
  },
  {
   "cell_type": "code",
   "execution_count": 36,
   "id": "8e4e7d13-b1f0-4ce9-879e-c67fe2a3dbeb",
   "metadata": {},
   "outputs": [
    {
     "data": {
      "text/plain": [
       "Int64Index([1, 2, 3, 5, 7, 9, 11], dtype='int64')"
      ]
     },
     "execution_count": 36,
     "metadata": {},
     "output_type": "execute_result"
    }
   ],
   "source": [
    "# indA | indB  # 并集\n",
    "indA.union(indB)"
   ]
  },
  {
   "cell_type": "code",
   "execution_count": 37,
   "id": "f3b27fe5-3fa7-45d8-8a19-3bb36234b455",
   "metadata": {},
   "outputs": [
    {
     "data": {
      "text/plain": [
       "Int64Index([1, 2, 9, 11], dtype='int64')"
      ]
     },
     "execution_count": 37,
     "metadata": {},
     "output_type": "execute_result"
    }
   ],
   "source": [
    "# indA ^ indB  # 异或\n",
    "indA.symmetric_difference(indB)"
   ]
  },
  {
   "cell_type": "code",
   "execution_count": null,
   "id": "cc26468a-7f36-41db-ade8-2196776b54b5",
   "metadata": {},
   "outputs": [],
   "source": []
  }
 ],
 "metadata": {
  "kernelspec": {
   "display_name": "Python 3 (ipykernel)",
   "language": "python",
   "name": "python3"
  },
  "language_info": {
   "codemirror_mode": {
    "name": "ipython",
    "version": 3
   },
   "file_extension": ".py",
   "mimetype": "text/x-python",
   "name": "python",
   "nbconvert_exporter": "python",
   "pygments_lexer": "ipython3",
   "version": "3.7.3"
  }
 },
 "nbformat": 4,
 "nbformat_minor": 5
}
