{
 "cells": [
  {
   "cell_type": "markdown",
   "id": "37818d59-5a81-45fa-87ed-528d49c4b014",
   "metadata": {},
   "source": [
    "# 高性能Pandas：eval()与query()"
   ]
  },
  {
   "cell_type": "markdown",
   "id": "972afe40-a051-4e55-82f1-945e2c49bb90",
   "metadata": {},
   "source": [
    "`Python` 数据科学生态环境的强大力量建立在 `NumPy` 与 `Pandas` 的基础之上，并通过直观的语法将基本操作转换成 `C` 语言：\n",
    "- 在 `NumPy` 里是向量化 / 广播运算\n",
    "- 在 `Pandas` 里是分组型的运算  \n",
    "虽然这些抽象功能可以简洁高效地解决许多问题，但是它们经常需要创建临时中间对象，这样就会占用大量的计算时间与内存。  \n",
    "`Pandas` 从 0.13 版开始（2014 年 1 月）就引入了实验性工具，让用户可以直接运行 `C` 语言速度的操作，不需要十分费力地配置中间数组。  \n",
    "它们就是 `eval()` 和 `query()` 函数，都依赖于 `Numexpr` (https://github.com/pydata/numexpr) 程序包。  \n",
    "我们将在下面的 `Notebook` 中演示其用法，并介绍一些使用时的注意事项。"
   ]
  },
  {
   "cell_type": "code",
   "execution_count": 1,
   "id": "55739e6b-0135-41ae-8a4c-f02bde9c6bf3",
   "metadata": {},
   "outputs": [],
   "source": [
    "import numpy as np\n",
    "import pandas as pd"
   ]
  },
  {
   "cell_type": "markdown",
   "id": "bca6ac1e-b7dd-4f98-ae88-72c4da0dde59",
   "metadata": {},
   "source": [
    "## 1. query()与eval()的设计动机：复合代数式"
   ]
  },
  {
   "cell_type": "markdown",
   "id": "b58254b1-ed1c-40e9-9816-c36f1ccd897e",
   "metadata": {},
   "source": [
    "`NumPy` 与 `Pandas` 都支持快速的向量化运算，这样做比普通的 `Python` 循环或列表综合要快很多。"
   ]
  },
  {
   "cell_type": "code",
   "execution_count": 2,
   "id": "e22de965-3968-4b5b-89ed-6e5631a0e6f2",
   "metadata": {},
   "outputs": [
    {
     "name": "stdout",
     "output_type": "stream",
     "text": [
      "2.68 ms ± 23.7 µs per loop (mean ± std. dev. of 7 runs, 100 loops each)\n"
     ]
    }
   ],
   "source": [
    "rng = np.random.RandomState(42)\n",
    "# x = rng.rand(1E6)  # TypeError: 'float' object cannot be interpreted as an integer\n",
    "# y = rng.rand(1E6)  # TypeError: 'float' object cannot be interpreted as an integer\n",
    "x = rng.rand(1000000)\n",
    "y = rng.rand(1000000)\n",
    "%timeit x + y"
   ]
  },
  {
   "cell_type": "code",
   "execution_count": 3,
   "id": "7206e893-da4c-419a-aa3b-63b701f5b9d2",
   "metadata": {},
   "outputs": [
    {
     "name": "stdout",
     "output_type": "stream",
     "text": [
      "291 ms ± 404 µs per loop (mean ± std. dev. of 7 runs, 1 loop each)\n"
     ]
    }
   ],
   "source": [
    "%timeit np.fromiter((xi + yi for xi, yi in zip(x, y)), dtype=x.dtype, count=len(x))"
   ]
  },
  {
   "cell_type": "markdown",
   "id": "74fe30cf-1b35-48b6-a1a8-ef1d73f8b39b",
   "metadata": {},
   "source": [
    "但是这种运算在处理复合代数式（`compound expression`）问题时的效率比较低，例如下面的表达式："
   ]
  },
  {
   "cell_type": "code",
   "execution_count": 4,
   "id": "798176da-4231-4333-b4fd-c8620155ebba",
   "metadata": {},
   "outputs": [],
   "source": [
    "mask = (x > 0.5) & (y < 0.5)"
   ]
  },
  {
   "cell_type": "markdown",
   "id": "312483f8-30be-4a50-bd19-e02dc79e3d5b",
   "metadata": {},
   "source": [
    "由于 `NumPy` 会计算每一个代数子式，因此这个计算过程等价于："
   ]
  },
  {
   "cell_type": "code",
   "execution_count": 5,
   "id": "52794a05-d4aa-4b4a-a79d-54ae78342cf2",
   "metadata": {},
   "outputs": [],
   "source": [
    "tmp1 = (x > 0.5)\n",
    "tmp2 = (y < 0.5)\n",
    "mask = tmp1 & tmp2"
   ]
  },
  {
   "cell_type": "markdown",
   "id": "3c218ade-7e0c-4cf6-ad9b-14db25f29037",
   "metadata": {},
   "source": [
    "也就是说，**每段中间过程都需要显式地分配内存**。如果 x 数组和 y 数组非常大，这么运算就会占用大量的时间和内存消耗。  \n",
    "`Numexpr` 程序库可以让你在不为中间过程分配全部内存的前提下，完成元素到元素的复合代数式运算。  \n",
    "虽然 `Numexpr` 文档（https://github.com/pydata/numexpr）里提供了更详细的内容，  \n",
    "但是简单点儿说，这个程序库其实就是用一个 `NumPy` 风格的**字符串**代数式进行运算："
   ]
  },
  {
   "cell_type": "code",
   "execution_count": 6,
   "id": "bd008e00-d4cb-4822-9bdd-b948b6f4a823",
   "metadata": {},
   "outputs": [
    {
     "data": {
      "text/plain": [
       "True"
      ]
     },
     "execution_count": 6,
     "metadata": {},
     "output_type": "execute_result"
    }
   ],
   "source": [
    "import numexpr\n",
    "\n",
    "mask_numexpr = numexpr.evaluate('(x > 0.5) & (y < 0.5)')\n",
    "np.allclose(mask, mask_numexpr)"
   ]
  },
  {
   "cell_type": "markdown",
   "id": "ecd0aad4-af36-47d4-8c84-0f6218b81c29",
   "metadata": {},
   "source": [
    "这么做的好处是，由于 `Numexpr` 在计算代数式时不需要为临时数组分配全部内存，因此计算比 `NumPy` 更高效，尤其适合处理大型数组。  \n",
    "马上要介绍的 `Pandas` 的 `eval()` 和 `query()` 工具其实也是基于 `Numexpr` 实现的。"
   ]
  },
  {
   "cell_type": "markdown",
   "id": "d11c6743-96cf-4c1b-8668-339cf97645cc",
   "metadata": {},
   "source": [
    "## 2. 用pandas.eval()实现高性能运算"
   ]
  },
  {
   "cell_type": "markdown",
   "id": "41ec58df-14de-429b-ba9d-9f5e560d7fba",
   "metadata": {},
   "source": [
    "`Pandas` 的 `eval()` 函数用字符串代数式实现了 `DataFrame` 的高性能运算。"
   ]
  },
  {
   "cell_type": "code",
   "execution_count": 7,
   "id": "2e985fc0-4470-4ceb-bae5-aefcf04e070c",
   "metadata": {},
   "outputs": [],
   "source": [
    "nrows, ncols = 100000, 100\n",
    "rng = np.random.RandomState(42)\n",
    "df1, df2, df3, df4 = (pd.DataFrame(rng.rand(nrows, ncols)) for i in range(4))  # 生成4个大的DataFrame"
   ]
  },
  {
   "cell_type": "code",
   "execution_count": 8,
   "id": "ed0f4825-cb5b-479b-b9c9-1436b455ac88",
   "metadata": {},
   "outputs": [
    {
     "name": "stdout",
     "output_type": "stream",
     "text": [
      "99 ms ± 519 µs per loop (mean ± std. dev. of 7 runs, 10 loops each)\n"
     ]
    }
   ],
   "source": [
    "%timeit df1 + df2 + df3 + df4             # 用普通的 Pandas 方法计算四个 DataFrame 的和，可以这么写："
   ]
  },
  {
   "cell_type": "code",
   "execution_count": 9,
   "id": "978e40d3-9b92-4e23-b745-4cc7dfb41d28",
   "metadata": {},
   "outputs": [
    {
     "name": "stdout",
     "output_type": "stream",
     "text": [
      "45.8 ms ± 428 µs per loop (mean ± std. dev. of 7 runs, 10 loops each)\n"
     ]
    }
   ],
   "source": [
    "%timeit pd.eval('df1 + df2 + df3 + df4')  # 通过 pd.eval 和字符串代数式计算并得出相同的结果："
   ]
  },
  {
   "cell_type": "markdown",
   "id": "61e70727-b223-478b-abc5-dcef5b695c90",
   "metadata": {},
   "source": [
    "这个 `eval()` 版本的代数式比普通方法快一倍（而且内存消耗更少），结果也是一样的：  \n",
    "**注意：内存没有比较，至少时间上并没有明显差异，猜测是当前版本的Pandas内部应默认采用了numexpr的实现方式，这个日后用的时候再深究，所以下面所有的“性能更优”，都有待商榷。**"
   ]
  },
  {
   "cell_type": "code",
   "execution_count": 10,
   "id": "9fe0ade1-1a64-44e9-9593-4e6d1a6ade16",
   "metadata": {},
   "outputs": [
    {
     "data": {
      "text/plain": [
       "True"
      ]
     },
     "execution_count": 10,
     "metadata": {},
     "output_type": "execute_result"
    }
   ],
   "source": [
    "np.allclose(df1 + df2 + df3 + df4,\n",
    "            pd.eval('df1 + df2 + df3 + df4'))"
   ]
  },
  {
   "cell_type": "markdown",
   "id": "d70543a2-fbe0-4878-9bcb-4c6e505e49df",
   "metadata": {},
   "source": [
    "### 2.1. pd.eval()支持的运算"
   ]
  },
  {
   "cell_type": "code",
   "execution_count": 11,
   "id": "329d36ef-0928-4ed0-ab5e-e4b77d40f5ba",
   "metadata": {},
   "outputs": [],
   "source": [
    "df1, df2, df3, df4, df5 = (pd.DataFrame(rng.randint(0, 1000, (100, 3))) for i in range(5))  # 下面演示用"
   ]
  },
  {
   "cell_type": "markdown",
   "id": "08afa204-2597-4ced-91fc-3fcf833829b7",
   "metadata": {},
   "source": [
    "#### 2.1.1. 算术运算符"
   ]
  },
  {
   "cell_type": "markdown",
   "id": "066df9f2-dbc6-4f91-8481-027cc81b0863",
   "metadata": {},
   "source": [
    "`pd.eval()` 支持所有的算术运算符，例如："
   ]
  },
  {
   "cell_type": "code",
   "execution_count": 12,
   "id": "7292bfc6-7418-4810-95b9-84e391c1fb53",
   "metadata": {},
   "outputs": [
    {
     "data": {
      "text/plain": [
       "True"
      ]
     },
     "execution_count": 12,
     "metadata": {},
     "output_type": "execute_result"
    }
   ],
   "source": [
    "result1 = -df1 * df2 / (df3 + df4) - df5\n",
    "result2 = pd.eval('-df1 * df2 / (df3 + df4) - df5')\n",
    "np.allclose(result1, result2)"
   ]
  },
  {
   "cell_type": "markdown",
   "id": "816a5858-289d-45f1-9abf-08ead47060fd",
   "metadata": {},
   "source": [
    "#### 2.1.2. 比较运算符"
   ]
  },
  {
   "cell_type": "markdown",
   "id": "d6afa9af-d9d3-403b-b91e-d93d2e20dfae",
   "metadata": {},
   "source": [
    "`pd.eval()` 支持所有的比较运算符，包括链式代数式（`chained expression`）："
   ]
  },
  {
   "cell_type": "code",
   "execution_count": 13,
   "id": "f727f6b0-cfcd-424e-b2f9-865591c779f0",
   "metadata": {},
   "outputs": [
    {
     "data": {
      "text/plain": [
       "True"
      ]
     },
     "execution_count": 13,
     "metadata": {},
     "output_type": "execute_result"
    }
   ],
   "source": [
    "result1 = (df1 < df2) & (df2 <= df3) & (df3 != df4)\n",
    "result2 = pd.eval('df1 < df2 <= df3 != df4')\n",
    "np.allclose(result1, result2)"
   ]
  },
  {
   "cell_type": "markdown",
   "id": "b545c561-9e34-4d28-aa82-049894601b0b",
   "metadata": {},
   "source": [
    "#### 2.1.3. 位运算符"
   ]
  },
  {
   "cell_type": "markdown",
   "id": "b79bcd23-f050-4f81-b5f3-1ce690c0a473",
   "metadata": {},
   "source": [
    "`pd.eval()` 支持 `&`（与）和 `|`（或）等位运算符，另外，你还可以在布尔类型的代数式中使用 `and` 和 `or` 等字面值："
   ]
  },
  {
   "cell_type": "code",
   "execution_count": 14,
   "id": "32e1bf59-91d9-45c9-94b0-0df286e77f19",
   "metadata": {},
   "outputs": [
    {
     "data": {
      "text/plain": [
       "True"
      ]
     },
     "execution_count": 14,
     "metadata": {},
     "output_type": "execute_result"
    }
   ],
   "source": [
    "result1 = (df1 < 0.5) & (df2 < 0.5) | (df3 < df4)\n",
    "result2 = pd.eval('(df1 < 0.5) & (df2 < 0.5) | (df3 < df4)')\n",
    "np.allclose(result1, result2)"
   ]
  },
  {
   "cell_type": "code",
   "execution_count": 15,
   "id": "c3feca0e-56de-49bb-a1fa-b7379e6fe917",
   "metadata": {},
   "outputs": [
    {
     "data": {
      "text/plain": [
       "True"
      ]
     },
     "execution_count": 15,
     "metadata": {},
     "output_type": "execute_result"
    }
   ],
   "source": [
    "result3 = pd.eval('(df1 < 0.5) and (df2 < 0.5) or (df3 < df4)')\n",
    "np.allclose(result1, result3)"
   ]
  },
  {
   "cell_type": "markdown",
   "id": "1a8bf139-4f44-4aec-a0ab-ea9a40bcf0cb",
   "metadata": {},
   "source": [
    "#### 2.1.4. 对象属性与索引"
   ]
  },
  {
   "cell_type": "markdown",
   "id": "fdd7e1f0-d32d-4fcd-94d0-80b27d9c4426",
   "metadata": {},
   "source": [
    "`pd.eval()` 可以通过 `obj.attr` 语法获取对象属性，通过 `obj[index]` 语法获取对象索引："
   ]
  },
  {
   "cell_type": "code",
   "execution_count": 16,
   "id": "c52c19d9-ca76-4723-8f59-829d570364a9",
   "metadata": {},
   "outputs": [
    {
     "data": {
      "text/plain": [
       "True"
      ]
     },
     "execution_count": 16,
     "metadata": {},
     "output_type": "execute_result"
    }
   ],
   "source": [
    "result1 = df2.T[0] + df3.iloc[1]\n",
    "result2 = pd.eval('df2.T[0] + df3.iloc[1]')\n",
    "np.allclose(result1, result2)"
   ]
  },
  {
   "cell_type": "markdown",
   "id": "452dbe93-81cc-4670-b932-f040c6fefce7",
   "metadata": {},
   "source": [
    "#### 2.1.5. 其他运算"
   ]
  },
  {
   "cell_type": "markdown",
   "id": "3b725406-8ba5-45d6-9e6c-283374bf1366",
   "metadata": {},
   "source": [
    "目前 `pd.eval()` 还不支持函数调用、条件语句、循环以及更复杂的运算。如果你想要进行这些运算，可以借助 `Numexpr` 来实现。"
   ]
  },
  {
   "cell_type": "markdown",
   "id": "8b7176b2-f3d8-4dce-9e8f-aa6a72e5de57",
   "metadata": {},
   "source": [
    "## 3. 用DataFrame.eval()实现列间运算"
   ]
  },
  {
   "cell_type": "markdown",
   "id": "c1cd1305-316d-4c26-af0d-fccfabb7b813",
   "metadata": {},
   "source": [
    "由于 `pd.eval()` 是 `Pandas` 的顶层函数，因此 `DataFrame` 有一个 `eval()` 方法可以做类似的运算。  \n",
    "使用 `eval()` 方法的好处是可以借助**列名称**进行运算，示例如下："
   ]
  },
  {
   "cell_type": "code",
   "execution_count": 17,
   "id": "61dd8240-a994-4a26-938d-49995e751f14",
   "metadata": {},
   "outputs": [
    {
     "data": {
      "text/html": [
       "<div>\n",
       "<style scoped>\n",
       "    .dataframe tbody tr th:only-of-type {\n",
       "        vertical-align: middle;\n",
       "    }\n",
       "\n",
       "    .dataframe tbody tr th {\n",
       "        vertical-align: top;\n",
       "    }\n",
       "\n",
       "    .dataframe thead th {\n",
       "        text-align: right;\n",
       "    }\n",
       "</style>\n",
       "<table border=\"1\" class=\"dataframe\">\n",
       "  <thead>\n",
       "    <tr style=\"text-align: right;\">\n",
       "      <th></th>\n",
       "      <th>A</th>\n",
       "      <th>B</th>\n",
       "      <th>C</th>\n",
       "    </tr>\n",
       "  </thead>\n",
       "  <tbody>\n",
       "    <tr>\n",
       "      <th>0</th>\n",
       "      <td>0.375506</td>\n",
       "      <td>0.406939</td>\n",
       "      <td>0.069938</td>\n",
       "    </tr>\n",
       "    <tr>\n",
       "      <th>1</th>\n",
       "      <td>0.069087</td>\n",
       "      <td>0.235615</td>\n",
       "      <td>0.154374</td>\n",
       "    </tr>\n",
       "    <tr>\n",
       "      <th>2</th>\n",
       "      <td>0.677945</td>\n",
       "      <td>0.433839</td>\n",
       "      <td>0.652324</td>\n",
       "    </tr>\n",
       "    <tr>\n",
       "      <th>3</th>\n",
       "      <td>0.264038</td>\n",
       "      <td>0.808055</td>\n",
       "      <td>0.347197</td>\n",
       "    </tr>\n",
       "    <tr>\n",
       "      <th>4</th>\n",
       "      <td>0.589161</td>\n",
       "      <td>0.252418</td>\n",
       "      <td>0.557789</td>\n",
       "    </tr>\n",
       "  </tbody>\n",
       "</table>\n",
       "</div>"
      ],
      "text/plain": [
       "          A         B         C\n",
       "0  0.375506  0.406939  0.069938\n",
       "1  0.069087  0.235615  0.154374\n",
       "2  0.677945  0.433839  0.652324\n",
       "3  0.264038  0.808055  0.347197\n",
       "4  0.589161  0.252418  0.557789"
      ]
     },
     "execution_count": 17,
     "metadata": {},
     "output_type": "execute_result"
    }
   ],
   "source": [
    "df = pd.DataFrame(rng.rand(1000, 3), columns=['A', 'B', 'C'])\n",
    "df.head()"
   ]
  },
  {
   "cell_type": "code",
   "execution_count": 18,
   "id": "5b94d399-dc65-4acd-9206-a3bab09b3b8a",
   "metadata": {},
   "outputs": [
    {
     "data": {
      "text/plain": [
       "True"
      ]
     },
     "execution_count": 18,
     "metadata": {},
     "output_type": "execute_result"
    }
   ],
   "source": [
    "result1 = (df['A'] + df['B']) / (df['C'] - 1)\n",
    "result2 = pd.eval(\"(df.A + df.B) / (df.C - 1)\")  # 用前面介绍的 pd.eval()，就可以通过下面的代数式计算这三列\n",
    "np.allclose(result1, result2)"
   ]
  },
  {
   "cell_type": "code",
   "execution_count": 19,
   "id": "a321cb84-42cf-4bb1-98b1-2f519f527a69",
   "metadata": {},
   "outputs": [
    {
     "data": {
      "text/plain": [
       "True"
      ]
     },
     "execution_count": 19,
     "metadata": {},
     "output_type": "execute_result"
    }
   ],
   "source": [
    "result3 = df.eval('(A + B) / (C - 1)')           # DataFrame.eval() 方法可以通过列名称实现简洁的代数式\n",
    "np.allclose(result1, result3)"
   ]
  },
  {
   "cell_type": "markdown",
   "id": "e47d4b63-20da-4a42-bd57-fc249a919a30",
   "metadata": {},
   "source": [
    "请注意，这里用**列名称作为变量**来计算代数式，结果同样是正确的。"
   ]
  },
  {
   "cell_type": "markdown",
   "id": "5719a3d9-9f68-456a-9ce0-a8d154cc6e08",
   "metadata": {},
   "source": [
    "### 3.1. 用DataFrame.eval()新增列"
   ]
  },
  {
   "cell_type": "markdown",
   "id": "f040a511-becf-4fc5-aa84-f89bd7e80b00",
   "metadata": {},
   "source": [
    "`DataFrame.eval()` 还可以创建新的列。"
   ]
  },
  {
   "cell_type": "code",
   "execution_count": 20,
   "id": "0d442cde-6b4d-470b-89b6-bd8ad8184f81",
   "metadata": {},
   "outputs": [
    {
     "data": {
      "text/html": [
       "<div>\n",
       "<style scoped>\n",
       "    .dataframe tbody tr th:only-of-type {\n",
       "        vertical-align: middle;\n",
       "    }\n",
       "\n",
       "    .dataframe tbody tr th {\n",
       "        vertical-align: top;\n",
       "    }\n",
       "\n",
       "    .dataframe thead th {\n",
       "        text-align: right;\n",
       "    }\n",
       "</style>\n",
       "<table border=\"1\" class=\"dataframe\">\n",
       "  <thead>\n",
       "    <tr style=\"text-align: right;\">\n",
       "      <th></th>\n",
       "      <th>A</th>\n",
       "      <th>B</th>\n",
       "      <th>C</th>\n",
       "    </tr>\n",
       "  </thead>\n",
       "  <tbody>\n",
       "    <tr>\n",
       "      <th>0</th>\n",
       "      <td>0.375506</td>\n",
       "      <td>0.406939</td>\n",
       "      <td>0.069938</td>\n",
       "    </tr>\n",
       "    <tr>\n",
       "      <th>1</th>\n",
       "      <td>0.069087</td>\n",
       "      <td>0.235615</td>\n",
       "      <td>0.154374</td>\n",
       "    </tr>\n",
       "    <tr>\n",
       "      <th>2</th>\n",
       "      <td>0.677945</td>\n",
       "      <td>0.433839</td>\n",
       "      <td>0.652324</td>\n",
       "    </tr>\n",
       "    <tr>\n",
       "      <th>3</th>\n",
       "      <td>0.264038</td>\n",
       "      <td>0.808055</td>\n",
       "      <td>0.347197</td>\n",
       "    </tr>\n",
       "    <tr>\n",
       "      <th>4</th>\n",
       "      <td>0.589161</td>\n",
       "      <td>0.252418</td>\n",
       "      <td>0.557789</td>\n",
       "    </tr>\n",
       "  </tbody>\n",
       "</table>\n",
       "</div>"
      ],
      "text/plain": [
       "          A         B         C\n",
       "0  0.375506  0.406939  0.069938\n",
       "1  0.069087  0.235615  0.154374\n",
       "2  0.677945  0.433839  0.652324\n",
       "3  0.264038  0.808055  0.347197\n",
       "4  0.589161  0.252418  0.557789"
      ]
     },
     "execution_count": 20,
     "metadata": {},
     "output_type": "execute_result"
    }
   ],
   "source": [
    "df.head()"
   ]
  },
  {
   "cell_type": "code",
   "execution_count": 21,
   "id": "205da644-6e9a-4cd4-9dad-62beb419f79f",
   "metadata": {},
   "outputs": [
    {
     "data": {
      "text/html": [
       "<div>\n",
       "<style scoped>\n",
       "    .dataframe tbody tr th:only-of-type {\n",
       "        vertical-align: middle;\n",
       "    }\n",
       "\n",
       "    .dataframe tbody tr th {\n",
       "        vertical-align: top;\n",
       "    }\n",
       "\n",
       "    .dataframe thead th {\n",
       "        text-align: right;\n",
       "    }\n",
       "</style>\n",
       "<table border=\"1\" class=\"dataframe\">\n",
       "  <thead>\n",
       "    <tr style=\"text-align: right;\">\n",
       "      <th></th>\n",
       "      <th>A</th>\n",
       "      <th>B</th>\n",
       "      <th>C</th>\n",
       "      <th>D</th>\n",
       "    </tr>\n",
       "  </thead>\n",
       "  <tbody>\n",
       "    <tr>\n",
       "      <th>0</th>\n",
       "      <td>0.375506</td>\n",
       "      <td>0.406939</td>\n",
       "      <td>0.069938</td>\n",
       "      <td>11.187620</td>\n",
       "    </tr>\n",
       "    <tr>\n",
       "      <th>1</th>\n",
       "      <td>0.069087</td>\n",
       "      <td>0.235615</td>\n",
       "      <td>0.154374</td>\n",
       "      <td>1.973796</td>\n",
       "    </tr>\n",
       "    <tr>\n",
       "      <th>2</th>\n",
       "      <td>0.677945</td>\n",
       "      <td>0.433839</td>\n",
       "      <td>0.652324</td>\n",
       "      <td>1.704344</td>\n",
       "    </tr>\n",
       "    <tr>\n",
       "      <th>3</th>\n",
       "      <td>0.264038</td>\n",
       "      <td>0.808055</td>\n",
       "      <td>0.347197</td>\n",
       "      <td>3.087857</td>\n",
       "    </tr>\n",
       "    <tr>\n",
       "      <th>4</th>\n",
       "      <td>0.589161</td>\n",
       "      <td>0.252418</td>\n",
       "      <td>0.557789</td>\n",
       "      <td>1.508776</td>\n",
       "    </tr>\n",
       "  </tbody>\n",
       "</table>\n",
       "</div>"
      ],
      "text/plain": [
       "          A         B         C          D\n",
       "0  0.375506  0.406939  0.069938  11.187620\n",
       "1  0.069087  0.235615  0.154374   1.973796\n",
       "2  0.677945  0.433839  0.652324   1.704344\n",
       "3  0.264038  0.808055  0.347197   3.087857\n",
       "4  0.589161  0.252418  0.557789   1.508776"
      ]
     },
     "execution_count": 21,
     "metadata": {},
     "output_type": "execute_result"
    }
   ],
   "source": [
    "df.eval('D = (A + B) / C', inplace=True)  # 用 df.eval() 创建一个新的列 'D'，然后赋给它其他列计算的值：\n",
    "df.head()"
   ]
  },
  {
   "cell_type": "code",
   "execution_count": 22,
   "id": "d963fcde-a636-4abd-a43c-7e0f4058f667",
   "metadata": {},
   "outputs": [
    {
     "data": {
      "text/html": [
       "<div>\n",
       "<style scoped>\n",
       "    .dataframe tbody tr th:only-of-type {\n",
       "        vertical-align: middle;\n",
       "    }\n",
       "\n",
       "    .dataframe tbody tr th {\n",
       "        vertical-align: top;\n",
       "    }\n",
       "\n",
       "    .dataframe thead th {\n",
       "        text-align: right;\n",
       "    }\n",
       "</style>\n",
       "<table border=\"1\" class=\"dataframe\">\n",
       "  <thead>\n",
       "    <tr style=\"text-align: right;\">\n",
       "      <th></th>\n",
       "      <th>A</th>\n",
       "      <th>B</th>\n",
       "      <th>C</th>\n",
       "      <th>D</th>\n",
       "    </tr>\n",
       "  </thead>\n",
       "  <tbody>\n",
       "    <tr>\n",
       "      <th>0</th>\n",
       "      <td>0.375506</td>\n",
       "      <td>0.406939</td>\n",
       "      <td>0.069938</td>\n",
       "      <td>-0.449425</td>\n",
       "    </tr>\n",
       "    <tr>\n",
       "      <th>1</th>\n",
       "      <td>0.069087</td>\n",
       "      <td>0.235615</td>\n",
       "      <td>0.154374</td>\n",
       "      <td>-1.078728</td>\n",
       "    </tr>\n",
       "    <tr>\n",
       "      <th>2</th>\n",
       "      <td>0.677945</td>\n",
       "      <td>0.433839</td>\n",
       "      <td>0.652324</td>\n",
       "      <td>0.374209</td>\n",
       "    </tr>\n",
       "    <tr>\n",
       "      <th>3</th>\n",
       "      <td>0.264038</td>\n",
       "      <td>0.808055</td>\n",
       "      <td>0.347197</td>\n",
       "      <td>-1.566886</td>\n",
       "    </tr>\n",
       "    <tr>\n",
       "      <th>4</th>\n",
       "      <td>0.589161</td>\n",
       "      <td>0.252418</td>\n",
       "      <td>0.557789</td>\n",
       "      <td>0.603708</td>\n",
       "    </tr>\n",
       "  </tbody>\n",
       "</table>\n",
       "</div>"
      ],
      "text/plain": [
       "          A         B         C         D\n",
       "0  0.375506  0.406939  0.069938 -0.449425\n",
       "1  0.069087  0.235615  0.154374 -1.078728\n",
       "2  0.677945  0.433839  0.652324  0.374209\n",
       "3  0.264038  0.808055  0.347197 -1.566886\n",
       "4  0.589161  0.252418  0.557789  0.603708"
      ]
     },
     "execution_count": 22,
     "metadata": {},
     "output_type": "execute_result"
    }
   ],
   "source": [
    "df.eval('D = (A - B) / C', inplace=True)  # 还可以修改已有的列：\n",
    "df.head()"
   ]
  },
  {
   "cell_type": "markdown",
   "id": "e9fee330-8544-4e3e-b965-8546e6f05d0f",
   "metadata": {},
   "source": [
    "### 3.2. DataFrame.eval()使用局部变量"
   ]
  },
  {
   "cell_type": "markdown",
   "id": "1901040e-8310-4c0a-9971-440301fbecae",
   "metadata": {},
   "source": [
    "`DataFrame.eval()` 方法还支持通过 `@` 符号使用 `Python` 的局部变量。"
   ]
  },
  {
   "cell_type": "code",
   "execution_count": 23,
   "id": "d9fa8187-cf8d-4379-920c-73939bb6abb6",
   "metadata": {},
   "outputs": [
    {
     "data": {
      "text/plain": [
       "True"
      ]
     },
     "execution_count": 23,
     "metadata": {},
     "output_type": "execute_result"
    }
   ],
   "source": [
    "column_mean = df.mean(1)\n",
    "result1 = df['A'] + column_mean\n",
    "result2 = df.eval('A + @column_mean')\n",
    "np.allclose(result1, result2)"
   ]
  },
  {
   "cell_type": "markdown",
   "id": "88633018-a552-4786-bc33-b6e72f6b5358",
   "metadata": {},
   "source": [
    "`@` 符号表示“这是一个**变量名称**而不是一个**列名称**”，从而让你灵活地用两个“命名空间”的资源（列名称的命名空间和 `Python` 对象的命名空间）计算代数式。  \n",
    "需要注意的是，`@` 符号只能在 `DataFrame.eval()` 方法中使用，而不能在 `pandas.eval()` 函数中使用，因为 `pandas.eval()` 函数只能获取一个（`Python`）命名空间的内容。"
   ]
  },
  {
   "cell_type": "markdown",
   "id": "188aeecd-956d-4048-a2e7-ad47a5518680",
   "metadata": {},
   "source": [
    "## 4. DataFrame.query()方法"
   ]
  },
  {
   "cell_type": "markdown",
   "id": "76d9c685-f780-4474-9f9e-9c349fb3791f",
   "metadata": {},
   "source": [
    "`DataFrame` 基于字符串代数式的运算实现了另一个方法，被称为 `query()`。"
   ]
  },
  {
   "cell_type": "code",
   "execution_count": 24,
   "id": "206aeccb-b337-488c-8f81-9cac3bcbb3fa",
   "metadata": {},
   "outputs": [
    {
     "data": {
      "text/plain": [
       "True"
      ]
     },
     "execution_count": 24,
     "metadata": {},
     "output_type": "execute_result"
    }
   ],
   "source": [
    "result1 = df[(df.A < 0.5) & (df.B < 0.5)]\n",
    "result2 = pd.eval('df[(df.A < 0.5) & (df.B < 0.5)]')\n",
    "np.allclose(result1, result2)"
   ]
  },
  {
   "cell_type": "markdown",
   "id": "4a43d5d2-e37b-4ed5-8c01-f4655787a4bf",
   "metadata": {},
   "source": [
    "和前面介绍过的 `DataFrame.eval()` 一样，这是一个用 `DataFrame` 列创建的代数式，但是不能用 `DataFrame.eval()` 语法（因为你要的结果是包含 `DataFrame` 的全部列）。  \n",
    "不过，对于这种过滤运算，你可以用 `query()` 方法："
   ]
  },
  {
   "cell_type": "code",
   "execution_count": 25,
   "id": "5341bae5-7b7a-4ec5-bffd-c621a09f9d72",
   "metadata": {},
   "outputs": [
    {
     "data": {
      "text/plain": [
       "True"
      ]
     },
     "execution_count": 25,
     "metadata": {},
     "output_type": "execute_result"
    }
   ],
   "source": [
    "result2 = df.query('A < 0.5 and B < 0.5')\n",
    "np.allclose(result1, result2)"
   ]
  },
  {
   "cell_type": "markdown",
   "id": "15a1f5fd-f834-42c1-b065-f8b75b7ed469",
   "metadata": {},
   "source": [
    "除了计算性能更优之外，这种方法的语法也比掩码代数式语法更好理解。需要注意的是，`query()` 方法也支持用 `@` 符号引用局部变量："
   ]
  },
  {
   "cell_type": "code",
   "execution_count": 26,
   "id": "903f4811-89b9-46fd-ab86-dc3aa144d60b",
   "metadata": {},
   "outputs": [
    {
     "data": {
      "text/plain": [
       "True"
      ]
     },
     "execution_count": 26,
     "metadata": {},
     "output_type": "execute_result"
    }
   ],
   "source": [
    "Cmean = df['C'].mean()\n",
    "result1 = df[(df.A < Cmean) & (df.B < Cmean)]\n",
    "result2 = df.query('A < @Cmean and B < @Cmean')\n",
    "np.allclose(result1, result2)"
   ]
  },
  {
   "cell_type": "markdown",
   "id": "d16ca8dd-1f0e-4bde-aa8f-ac748c05875b",
   "metadata": {},
   "source": [
    "## 5. 性能决定使用时机"
   ]
  },
  {
   "cell_type": "markdown",
   "id": "c3a6e000-5fa7-4078-ac58-b0ebedb175a8",
   "metadata": {},
   "source": [
    "在考虑要不要用这两个函数时，需要思考两个方面：**计算时间**和**内存消耗**，而内存消耗是更重要的影响因素。  \n",
    "就像前面介绍的那样，每个涉及 `NumPy` 数组或 `Pandas` 的 `DataFrame` 的复合代数式都会产生临时数组，例如："
   ]
  },
  {
   "cell_type": "code",
   "execution_count": 27,
   "id": "3ac285a7-2624-4d81-b13d-5009e0f4af1a",
   "metadata": {},
   "outputs": [],
   "source": [
    "x = df[(df.A < 0.5) & (df.B < 0.5)]"
   ]
  },
  {
   "cell_type": "markdown",
   "id": "00cd50ca-0d55-408c-843c-aa7ebc8c0b04",
   "metadata": {},
   "source": [
    "它基本等价于："
   ]
  },
  {
   "cell_type": "code",
   "execution_count": 28,
   "id": "851b3700-03ba-47cb-9bbb-b3ee7604063b",
   "metadata": {},
   "outputs": [],
   "source": [
    "tmp1 = df.A < 0.5\n",
    "tmp2 = df.B < 0.5\n",
    "tmp3 = tmp1 & tmp2\n",
    "x = df[tmp3]"
   ]
  },
  {
   "cell_type": "markdown",
   "id": "a3d52ca2-afd9-419d-9aed-618508a04e03",
   "metadata": {},
   "source": [
    "如果临时 `DataFrame` 的内存需求比你的系统内存还大（通常是几吉字节），那么最好还是使用 `eval()` 和 `query()` 代数式。  \n",
    "你可以通过下面的方法大概估算一下变量的内存消耗："
   ]
  },
  {
   "cell_type": "code",
   "execution_count": 29,
   "id": "0b8aea20-0cca-4d72-8bf7-459b800ab107",
   "metadata": {},
   "outputs": [
    {
     "data": {
      "text/plain": [
       "32000"
      ]
     },
     "execution_count": 29,
     "metadata": {},
     "output_type": "execute_result"
    }
   ],
   "source": [
    "df.values.nbytes"
   ]
  },
  {
   "cell_type": "markdown",
   "id": "20338e64-2e37-44c4-afc6-3c0df2624f5a",
   "metadata": {},
   "source": [
    "在性能方面，即使你没有使用最大的系统内存，`eval()` 的计算速度也比普通方法快。现在的性能瓶颈变成了临时 `DataFrame` 与系统 CPU 的 L1 和 L2 缓存（在 2016 年依然是几兆字节）之间的对比了——如果系统缓存足够大，那么 `eval()` 就可以避免在不同缓存间缓慢地移动临时文件。在实际工作中，我发现普通的计算方法与 `eval/query` 计算方法在计算时间上的差异并非总是那么明显，普通方法在处理较小的数组时反而速度更快！ `eval/query` 方法的优点主要是节省内存，有时语法也更加简洁。  \n",
    "我们已经介绍了 `eval()` 与 `query()` 的绝大多数细节，若想了解更多的信息，请参考 `Pandas` 文档。尤其需要注意的是，可以通过设置不同的解析器和引擎来执行这些查询，相关细节请参考 `Pandas` 文档中“Enhancing Performance”（http://pandas.pydata.org/pandasdocs/dev/enhancingperf.html）节。"
   ]
  },
  {
   "cell_type": "code",
   "execution_count": null,
   "id": "a98218eb-bd70-402c-a3e8-cd3d45bda458",
   "metadata": {},
   "outputs": [],
   "source": []
  }
 ],
 "metadata": {
  "kernelspec": {
   "display_name": "Python 3 (ipykernel)",
   "language": "python",
   "name": "python3"
  },
  "language_info": {
   "codemirror_mode": {
    "name": "ipython",
    "version": 3
   },
   "file_extension": ".py",
   "mimetype": "text/x-python",
   "name": "python",
   "nbconvert_exporter": "python",
   "pygments_lexer": "ipython3",
   "version": "3.7.3"
  }
 },
 "nbformat": 4,
 "nbformat_minor": 5
}
