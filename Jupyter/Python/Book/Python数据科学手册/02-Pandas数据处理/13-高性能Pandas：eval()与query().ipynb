{
 "cells": [
  {
   "cell_type": "markdown",
   "id": "37818d59-5a81-45fa-87ed-528d49c4b014",
   "metadata": {},
   "source": [
    "# 高性能Pandas：eval()与query()"
   ]
  },
  {
   "cell_type": "code",
   "execution_count": null,
   "id": "54d7a1b6-8c93-4f4a-ac87-9f621714f152",
   "metadata": {},
   "outputs": [],
   "source": []
  },
  {
   "cell_type": "markdown",
   "id": "bca6ac1e-b7dd-4f98-ae88-72c4da0dde59",
   "metadata": {},
   "source": [
    "## 1. query()与eval()的设计动机：复合代数式"
   ]
  },
  {
   "cell_type": "code",
   "execution_count": null,
   "id": "e22de965-3968-4b5b-89ed-6e5631a0e6f2",
   "metadata": {},
   "outputs": [],
   "source": []
  },
  {
   "cell_type": "code",
   "execution_count": null,
   "id": "c09150e8-65e7-4e76-9db8-8d4bce015bd4",
   "metadata": {},
   "outputs": [],
   "source": []
  },
  {
   "cell_type": "markdown",
   "id": "d11c6743-96cf-4c1b-8668-339cf97645cc",
   "metadata": {},
   "source": [
    "## 2. 用pandas.eval()实现高性能运算"
   ]
  },
  {
   "cell_type": "code",
   "execution_count": null,
   "id": "174e7fc8-ebe9-4f13-9591-8b5326026d3f",
   "metadata": {
    "tags": []
   },
   "outputs": [],
   "source": []
  },
  {
   "cell_type": "markdown",
   "id": "d70543a2-fbe0-4878-9bcb-4c6e505e49df",
   "metadata": {},
   "source": [
    "### 2.1. pd.eval()支持的运算"
   ]
  },
  {
   "cell_type": "code",
   "execution_count": null,
   "id": "329d36ef-0928-4ed0-ab5e-e4b77d40f5ba",
   "metadata": {},
   "outputs": [],
   "source": []
  },
  {
   "cell_type": "markdown",
   "id": "08afa204-2597-4ced-91fc-3fcf833829b7",
   "metadata": {},
   "source": [
    "#### 2.1.1. 算术运算符"
   ]
  },
  {
   "cell_type": "code",
   "execution_count": null,
   "id": "cf9ec6bd-4494-4888-8571-ecd493f61266",
   "metadata": {},
   "outputs": [],
   "source": []
  },
  {
   "cell_type": "markdown",
   "id": "816a5858-289d-45f1-9abf-08ead47060fd",
   "metadata": {},
   "source": [
    "#### 2.1.2. 比较运算符"
   ]
  },
  {
   "cell_type": "code",
   "execution_count": null,
   "id": "ef03a521-8768-407b-b1b5-2e8876bd9b5a",
   "metadata": {},
   "outputs": [],
   "source": []
  },
  {
   "cell_type": "markdown",
   "id": "b545c561-9e34-4d28-aa82-049894601b0b",
   "metadata": {},
   "source": [
    "#### 2.1.3. 位运算符"
   ]
  },
  {
   "cell_type": "code",
   "execution_count": null,
   "id": "bb2ec906-23c4-4cd8-818a-858230d9b943",
   "metadata": {},
   "outputs": [],
   "source": []
  },
  {
   "cell_type": "markdown",
   "id": "1a8bf139-4f44-4aec-a0ab-ea9a40bcf0cb",
   "metadata": {},
   "source": [
    "#### 2.1.4. 对象属性与索引"
   ]
  },
  {
   "cell_type": "code",
   "execution_count": null,
   "id": "129b88c6-7e4e-482e-8ca6-7a9a2d1db422",
   "metadata": {},
   "outputs": [],
   "source": []
  },
  {
   "cell_type": "markdown",
   "id": "452dbe93-81cc-4670-b932-f040c6fefce7",
   "metadata": {},
   "source": [
    "#### 2.1.5. 其他运算"
   ]
  },
  {
   "cell_type": "code",
   "execution_count": null,
   "id": "5160c078-3cb9-41dd-8cd7-7f8b0e762b38",
   "metadata": {},
   "outputs": [],
   "source": []
  },
  {
   "cell_type": "markdown",
   "id": "8b7176b2-f3d8-4dce-9e8f-aa6a72e5de57",
   "metadata": {},
   "source": [
    "## 3. 用DataFrame.eval()实现列间运算"
   ]
  },
  {
   "cell_type": "code",
   "execution_count": null,
   "id": "b30b7c59-161d-49c5-a629-d3313096a9bb",
   "metadata": {},
   "outputs": [],
   "source": []
  },
  {
   "cell_type": "markdown",
   "id": "5719a3d9-9f68-456a-9ce0-a8d154cc6e08",
   "metadata": {},
   "source": [
    "### 3.1. 用DataFrame.eval()新增列"
   ]
  },
  {
   "cell_type": "code",
   "execution_count": null,
   "id": "1dc17dcf-aff6-4f36-a4be-cd6f3cf93493",
   "metadata": {},
   "outputs": [],
   "source": []
  },
  {
   "cell_type": "markdown",
   "id": "e9fee330-8544-4e3e-b965-8546e6f05d0f",
   "metadata": {},
   "source": [
    "### 3.2. DataFrame.eval()使用局部变量"
   ]
  },
  {
   "cell_type": "code",
   "execution_count": null,
   "id": "1df10406-2929-4819-b838-a55d47a70e5d",
   "metadata": {},
   "outputs": [],
   "source": []
  },
  {
   "cell_type": "markdown",
   "id": "188aeecd-956d-4048-a2e7-ad47a5518680",
   "metadata": {},
   "source": [
    "## 4. DataFrame.query()方法"
   ]
  },
  {
   "cell_type": "code",
   "execution_count": null,
   "id": "94657759-76da-48e6-90e2-65c6f3a41ce6",
   "metadata": {},
   "outputs": [],
   "source": []
  },
  {
   "cell_type": "markdown",
   "id": "d16ca8dd-1f0e-4bde-aa8f-ac748c05875b",
   "metadata": {},
   "source": [
    "## 5. 性能决定使用时机"
   ]
  },
  {
   "cell_type": "code",
   "execution_count": null,
   "id": "ad24c368-659f-4555-b482-f2602c196297",
   "metadata": {},
   "outputs": [],
   "source": []
  }
 ],
 "metadata": {
  "kernelspec": {
   "display_name": "Python 3 (ipykernel)",
   "language": "python",
   "name": "python3"
  },
  "language_info": {
   "codemirror_mode": {
    "name": "ipython",
    "version": 3
   },
   "file_extension": ".py",
   "mimetype": "text/x-python",
   "name": "python",
   "nbconvert_exporter": "python",
   "pygments_lexer": "ipython3",
   "version": "3.7.3"
  }
 },
 "nbformat": 4,
 "nbformat_minor": 5
}
