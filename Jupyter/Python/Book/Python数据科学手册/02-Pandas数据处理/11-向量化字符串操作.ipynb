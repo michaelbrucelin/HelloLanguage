{
 "cells": [
  {
   "cell_type": "markdown",
   "id": "6eb5e7f8-0b19-4799-b500-286f0130fae2",
   "metadata": {},
   "source": [
    "# 向量化字符串操作"
   ]
  },
  {
   "cell_type": "markdown",
   "id": "28b5824c-e56b-4d4d-8125-c7e732d0336f",
   "metadata": {},
   "source": [
    "使用 `Python` 的一个优势就是字符串处理起来比较容易。  \n",
    "在此基础上创建的 `Pandas` 同样提供了一系列向量化字符串操作（`vectorized string operation`），它们都是在处理（清洗）现实工作中的数据时不可或缺的功能。"
   ]
  },
  {
   "cell_type": "code",
   "execution_count": 1,
   "id": "924bd702-e418-46e2-812e-4a338fea2e4e",
   "metadata": {},
   "outputs": [],
   "source": [
    "import numpy as np\n",
    "import pandas as pd"
   ]
  },
  {
   "cell_type": "code",
   "execution_count": 2,
   "id": "bc951e7e-b38d-45d0-ba2c-9d44336fbde0",
   "metadata": {},
   "outputs": [
    {
     "data": {
      "text/html": [
       "<style>\n",
       "  table {margin-left: 0 !important;}\n",
       "  img {width:30%; height: 30%;}\n",
       "</style>\n"
      ],
      "text/plain": [
       "<IPython.core.display.HTML object>"
      ]
     },
     "metadata": {},
     "output_type": "display_data"
    }
   ],
   "source": [
    "%%html\n",
    "<style>\n",
    "  table {margin-left: 0 !important;}\n",
    "  img {width:30%; height: 30%;}\n",
    "</style>"
   ]
  },
  {
   "cell_type": "markdown",
   "id": "a0d9d707-1174-43d9-a6aa-dde9c41b66e3",
   "metadata": {},
   "source": [
    "## 1. Pandas字符串操作简介"
   ]
  },
  {
   "cell_type": "code",
   "execution_count": 3,
   "id": "e2e36b83-2630-4b81-ad59-be1a8dc744e5",
   "metadata": {},
   "outputs": [
    {
     "data": {
      "text/plain": [
       "array([ 4,  6, 10, 14, 22, 26])"
      ]
     },
     "execution_count": 3,
     "metadata": {},
     "output_type": "execute_result"
    }
   ],
   "source": [
    "x = np.array([2, 3, 5, 7, 11, 13])\n",
    "x * 2"
   ]
  },
  {
   "cell_type": "markdown",
   "id": "ef54680a-031f-4387-b42a-c1eea8905b96",
   "metadata": {},
   "source": [
    "**向量化**操作简化了纯数值的数组操作语法——我们不需要再担心数组的长度或维度，只需要关心需要的操作。  \n",
    "然而，由于 `NumPy` 并没有为字符串数组提供简单的接口，因此需要通过繁琐的 `for` 循环来解决问题："
   ]
  },
  {
   "cell_type": "code",
   "execution_count": 4,
   "id": "4e40d462-0531-4335-8a55-920823bc7b6f",
   "metadata": {},
   "outputs": [
    {
     "data": {
      "text/plain": [
       "['Peter', 'Paul', 'Mary', 'Guido']"
      ]
     },
     "execution_count": 4,
     "metadata": {},
     "output_type": "execute_result"
    }
   ],
   "source": [
    "data = ['peter', 'Paul', 'MARY', 'gUIDO']\n",
    "[s.capitalize() for s in data]"
   ]
  },
  {
   "cell_type": "code",
   "execution_count": 5,
   "id": "22cc59c3-367d-4dad-8408-5c81691e5ab4",
   "metadata": {},
   "outputs": [
    {
     "ename": "AttributeError",
     "evalue": "'NoneType' object has no attribute 'capitalize'",
     "output_type": "error",
     "traceback": [
      "\u001b[0;31m---------------------------------------------------------------------------\u001b[0m",
      "\u001b[0;31mAttributeError\u001b[0m                            Traceback (most recent call last)",
      "\u001b[0;32m/tmp/ipykernel_234294/789585548.py\u001b[0m in \u001b[0;36m<module>\u001b[0;34m\u001b[0m\n\u001b[1;32m      1\u001b[0m \u001b[0mdata\u001b[0m \u001b[0;34m=\u001b[0m \u001b[0;34m[\u001b[0m\u001b[0;34m'peter'\u001b[0m\u001b[0;34m,\u001b[0m \u001b[0;34m'Paul'\u001b[0m\u001b[0;34m,\u001b[0m \u001b[0;32mNone\u001b[0m\u001b[0;34m,\u001b[0m \u001b[0;34m'MARY'\u001b[0m\u001b[0;34m,\u001b[0m \u001b[0;34m'gUIDO'\u001b[0m\u001b[0;34m]\u001b[0m\u001b[0;34m\u001b[0m\u001b[0;34m\u001b[0m\u001b[0m\n\u001b[0;32m----> 2\u001b[0;31m \u001b[0;34m[\u001b[0m\u001b[0ms\u001b[0m\u001b[0;34m.\u001b[0m\u001b[0mcapitalize\u001b[0m\u001b[0;34m(\u001b[0m\u001b[0;34m)\u001b[0m \u001b[0;32mfor\u001b[0m \u001b[0ms\u001b[0m \u001b[0;32min\u001b[0m \u001b[0mdata\u001b[0m\u001b[0;34m]\u001b[0m  \u001b[0;31m# 假如数据中出现了缺失值，那么这样做就会引起异常\u001b[0m\u001b[0;34m\u001b[0m\u001b[0;34m\u001b[0m\u001b[0m\n\u001b[0m",
      "\u001b[0;32m/tmp/ipykernel_234294/789585548.py\u001b[0m in \u001b[0;36m<listcomp>\u001b[0;34m(.0)\u001b[0m\n\u001b[1;32m      1\u001b[0m \u001b[0mdata\u001b[0m \u001b[0;34m=\u001b[0m \u001b[0;34m[\u001b[0m\u001b[0;34m'peter'\u001b[0m\u001b[0;34m,\u001b[0m \u001b[0;34m'Paul'\u001b[0m\u001b[0;34m,\u001b[0m \u001b[0;32mNone\u001b[0m\u001b[0;34m,\u001b[0m \u001b[0;34m'MARY'\u001b[0m\u001b[0;34m,\u001b[0m \u001b[0;34m'gUIDO'\u001b[0m\u001b[0;34m]\u001b[0m\u001b[0;34m\u001b[0m\u001b[0;34m\u001b[0m\u001b[0m\n\u001b[0;32m----> 2\u001b[0;31m \u001b[0;34m[\u001b[0m\u001b[0ms\u001b[0m\u001b[0;34m.\u001b[0m\u001b[0mcapitalize\u001b[0m\u001b[0;34m(\u001b[0m\u001b[0;34m)\u001b[0m \u001b[0;32mfor\u001b[0m \u001b[0ms\u001b[0m \u001b[0;32min\u001b[0m \u001b[0mdata\u001b[0m\u001b[0;34m]\u001b[0m  \u001b[0;31m# 假如数据中出现了缺失值，那么这样做就会引起异常\u001b[0m\u001b[0;34m\u001b[0m\u001b[0;34m\u001b[0m\u001b[0m\n\u001b[0m",
      "\u001b[0;31mAttributeError\u001b[0m: 'NoneType' object has no attribute 'capitalize'"
     ]
    }
   ],
   "source": [
    "data = ['peter', 'Paul', None, 'MARY', 'gUIDO']\n",
    "[s.capitalize() for s in data]  # 假如数据中出现了缺失值，那么这样做就会引起异常"
   ]
  },
  {
   "cell_type": "markdown",
   "id": "91e59227-3be5-43c0-8aa7-16fecc9320f7",
   "metadata": {},
   "source": [
    "`Pandas` 为包含字符串的 `Series` 和 `Index` 对象提供的 `str` 属性堪称两全其美的方法，它既可以满足向量化字符串操作的需求，又可以正确地处理缺失值。"
   ]
  },
  {
   "cell_type": "code",
   "execution_count": 6,
   "id": "1ec9ba62-21b7-40ea-a979-bb7eea22d68a",
   "metadata": {},
   "outputs": [
    {
     "data": {
      "text/plain": [
       "0    peter\n",
       "1     Paul\n",
       "2     None\n",
       "3     MARY\n",
       "4    gUIDO\n",
       "dtype: object"
      ]
     },
     "execution_count": 6,
     "metadata": {},
     "output_type": "execute_result"
    }
   ],
   "source": [
    "names = pd.Series(data)\n",
    "names"
   ]
  },
  {
   "cell_type": "code",
   "execution_count": 7,
   "id": "b716c34c-06bf-4f88-b64a-f546eecd8f7c",
   "metadata": {},
   "outputs": [
    {
     "data": {
      "text/plain": [
       "0    Peter\n",
       "1     Paul\n",
       "2     None\n",
       "3     Mary\n",
       "4    Guido\n",
       "dtype: object"
      ]
     },
     "execution_count": 7,
     "metadata": {},
     "output_type": "execute_result"
    }
   ],
   "source": [
    "names.str.capitalize()"
   ]
  },
  {
   "cell_type": "markdown",
   "id": "f0cc9824-b8c3-4856-bd2c-68fcb647085c",
   "metadata": {},
   "source": [
    "## 2. Pandas字符串方法列表"
   ]
  },
  {
   "cell_type": "markdown",
   "id": "d9851324-abda-442e-9c67-d7c2dc56bcce",
   "metadata": {},
   "source": [
    "### 2.1. 与Python字符串方法相似的方法"
   ]
  },
  {
   "cell_type": "markdown",
   "id": "ed55884e-16b6-4785-8200-c671e4363505",
   "metadata": {},
   "source": [
    "几乎所有 `Python` 内置的字符串方法都被复制到 `Pandas` 的向量化字符串方法中。  \n",
    "下面的表格列举了 `Pandas` 的 `str` 方法借鉴 `Python` 字符串方法的内容：\n",
    "\n",
    "| -- | -- | -- | -- |\n",
    "| -- | -- | -- | -- |\n",
    "| len() | lower() | translate() | islower() |\n",
    "| ljust() | upper() | startswith() | isupper() |\n",
    "| rjust() | find() | endswith() | isnumeric() |\n",
    "| center() | rfind() | isalnum() | isdecimal() |\n",
    "| zfill() | index() | isalpha() | split() |\n",
    "| strip() | rindex() | isdigit() | rsplit() |\n",
    "| rstrip() | capitalize() | isspace() | partition() |\n",
    "| lstrip() | swapcase() | istitle() | rpartition() |"
   ]
  },
  {
   "cell_type": "code",
   "execution_count": 8,
   "id": "544991c0-77e6-44b2-a9c9-a8cf3604903e",
   "metadata": {},
   "outputs": [
    {
     "data": {
      "text/plain": [
       "0    graham chapman\n",
       "1       john cleese\n",
       "2     terry gilliam\n",
       "3         eric idle\n",
       "4       terry jones\n",
       "5     michael palin\n",
       "dtype: object"
      ]
     },
     "execution_count": 8,
     "metadata": {},
     "output_type": "execute_result"
    }
   ],
   "source": [
    "monte = pd.Series(['Graham Chapman', 'John Cleese', 'Terry Gilliam',\n",
    "                   'Eric Idle', 'Terry Jones', 'Michael Palin'])\n",
    "monte.str.lower()"
   ]
  },
  {
   "cell_type": "code",
   "execution_count": 9,
   "id": "dbd6343a-1447-47e3-a146-8d51d7511cfb",
   "metadata": {},
   "outputs": [
    {
     "data": {
      "text/plain": [
       "0    14\n",
       "1    11\n",
       "2    13\n",
       "3     9\n",
       "4    11\n",
       "5    13\n",
       "dtype: int64"
      ]
     },
     "execution_count": 9,
     "metadata": {},
     "output_type": "execute_result"
    }
   ],
   "source": [
    "monte.str.len()"
   ]
  },
  {
   "cell_type": "code",
   "execution_count": 10,
   "id": "5a7bd5bc-975b-431c-ac54-e2f4d7cd4fa7",
   "metadata": {},
   "outputs": [
    {
     "data": {
      "text/plain": [
       "0    False\n",
       "1    False\n",
       "2     True\n",
       "3    False\n",
       "4     True\n",
       "5    False\n",
       "dtype: bool"
      ]
     },
     "execution_count": 10,
     "metadata": {},
     "output_type": "execute_result"
    }
   ],
   "source": [
    "monte.str.startswith('T')"
   ]
  },
  {
   "cell_type": "code",
   "execution_count": 11,
   "id": "0ceaad89-a4e8-4e93-b3d8-a5733a3650db",
   "metadata": {},
   "outputs": [
    {
     "data": {
      "text/plain": [
       "0    [Graham, Chapman]\n",
       "1       [John, Cleese]\n",
       "2     [Terry, Gilliam]\n",
       "3         [Eric, Idle]\n",
       "4       [Terry, Jones]\n",
       "5     [Michael, Palin]\n",
       "dtype: object"
      ]
     },
     "execution_count": 11,
     "metadata": {},
     "output_type": "execute_result"
    }
   ],
   "source": [
    "monte.str.split()"
   ]
  },
  {
   "cell_type": "markdown",
   "id": "e21a7f19-2d28-4c9a-96a3-2c5434a81350",
   "metadata": {},
   "source": [
    "### 2.2. 使用正则表达式的方法"
   ]
  },
  {
   "cell_type": "markdown",
   "id": "913ed229-05fd-4b02-a721-817938a47f4b",
   "metadata": {},
   "source": [
    "**Pandas向量化字符串方法与Python标准库的re模块函数的对应关系**\n",
    "\n",
    "|方法 | 描述 |\n",
    "| -- | -- |\n",
    "|match() | 对每个元素调用 re.match()，返回布尔类型值 |\n",
    "|extract() | 对每个元素调用 re.match()，返回匹配的字符串组（groups） |\n",
    "|findall() | 对每个元素调用 re.findall() |\n",
    "|replace() | 用正则模式替换字符串 |\n",
    "|contains() | 对每个元素调用 re.search()，返回布尔类型值 |\n",
    "|count() | 计算符合正则模式的字符串的数量 |\n",
    "|split() | 等价于 str.split()，支持正则表达式 |\n",
    "|rsplit() | 等价于 str.rsplit()，支持正则表达式 |"
   ]
  },
  {
   "cell_type": "code",
   "execution_count": 12,
   "id": "589d1efb-8759-4865-bd24-66b157559c31",
   "metadata": {},
   "outputs": [
    {
     "data": {
      "text/html": [
       "<div>\n",
       "<style scoped>\n",
       "    .dataframe tbody tr th:only-of-type {\n",
       "        vertical-align: middle;\n",
       "    }\n",
       "\n",
       "    .dataframe tbody tr th {\n",
       "        vertical-align: top;\n",
       "    }\n",
       "\n",
       "    .dataframe thead th {\n",
       "        text-align: right;\n",
       "    }\n",
       "</style>\n",
       "<table border=\"1\" class=\"dataframe\">\n",
       "  <thead>\n",
       "    <tr style=\"text-align: right;\">\n",
       "      <th></th>\n",
       "      <th>0</th>\n",
       "    </tr>\n",
       "  </thead>\n",
       "  <tbody>\n",
       "    <tr>\n",
       "      <th>0</th>\n",
       "      <td>Graham</td>\n",
       "    </tr>\n",
       "    <tr>\n",
       "      <th>1</th>\n",
       "      <td>John</td>\n",
       "    </tr>\n",
       "    <tr>\n",
       "      <th>2</th>\n",
       "      <td>Terry</td>\n",
       "    </tr>\n",
       "    <tr>\n",
       "      <th>3</th>\n",
       "      <td>Eric</td>\n",
       "    </tr>\n",
       "    <tr>\n",
       "      <th>4</th>\n",
       "      <td>Terry</td>\n",
       "    </tr>\n",
       "    <tr>\n",
       "      <th>5</th>\n",
       "      <td>Michael</td>\n",
       "    </tr>\n",
       "  </tbody>\n",
       "</table>\n",
       "</div>"
      ],
      "text/plain": [
       "         0\n",
       "0   Graham\n",
       "1     John\n",
       "2    Terry\n",
       "3     Eric\n",
       "4    Terry\n",
       "5  Michael"
      ]
     },
     "execution_count": 12,
     "metadata": {},
     "output_type": "execute_result"
    }
   ],
   "source": [
    "monte.str.extract('([A-Za-z]+)')  # 可以提取元素前面的连续字母作为每个人的名字（first name）"
   ]
  },
  {
   "cell_type": "code",
   "execution_count": 13,
   "id": "71a197f0-0dca-4768-8d23-d4dedef26a42",
   "metadata": {},
   "outputs": [
    {
     "data": {
      "text/plain": [
       "0    [Graham Chapman]\n",
       "1                  []\n",
       "2     [Terry Gilliam]\n",
       "3                  []\n",
       "4       [Terry Jones]\n",
       "5     [Michael Palin]\n",
       "dtype: object"
      ]
     },
     "execution_count": 13,
     "metadata": {},
     "output_type": "execute_result"
    }
   ],
   "source": [
    "monte.str.findall(r'^[^AEIOU].*[^aeiou]$')  # 找出所有开头和结尾都是辅音字母的名字"
   ]
  },
  {
   "cell_type": "markdown",
   "id": "99a4a7d3-6c7b-4ec3-ad52-068f42257954",
   "metadata": {},
   "source": [
    "### 2.3. 其他字符串方法"
   ]
  },
  {
   "cell_type": "markdown",
   "id": "27f53007-e6aa-4e1e-b173-cb16cd1ef3d5",
   "metadata": {},
   "source": [
    "**其他Pandas字符串方法**\n",
    "\n",
    "| 方法 | 描述 |\n",
    "| -- | -- |\n",
    "| get() | 获取元素索引位置上的值，索引从 0 开始 |\n",
    "| slice() | 对元素进行切片取值 |\n",
    "| slice_replace() | 对元素进行切片替换 |\n",
    "| cat() | 连接字符串（此功能比较复杂，建议阅读文档） |\n",
    "| repeat() | 重复元素 |\n",
    "| normalize() | 将字符串转换为 Unicode 规范形式 |\n",
    "| pad() | 在字符串的左边、右边或两边增加空格 |\n",
    "| wrap() | 将字符串按照指定的宽度换行 |\n",
    "| join() | 用分隔符连接 Series 的每个元素 |\n",
    "| get_dummies() | 按照分隔符提取每个元素的 dummy 变量，转换为独热（onehot）编码的 DataFrame |"
   ]
  },
  {
   "cell_type": "markdown",
   "id": "e14f79b3-a4dd-4213-8a41-c6c0bd105069",
   "metadata": {},
   "source": [
    "#### 2.3.1. 向量化字符串的取值与切片操作"
   ]
  },
  {
   "cell_type": "markdown",
   "id": "b2434680-9129-4967-8754-703c8a9d981a",
   "metadata": {},
   "source": [
    "这里需要特别指出的是，`get()` 与 `slice()` 操作可以从每个字符串数组中获取向量化元素。"
   ]
  },
  {
   "cell_type": "code",
   "execution_count": 14,
   "id": "48a91263-e95b-43ae-bf68-39ed4171f72e",
   "metadata": {},
   "outputs": [
    {
     "data": {
      "text/plain": [
       "0    Gra\n",
       "1    Joh\n",
       "2    Ter\n",
       "3    Eri\n",
       "4    Ter\n",
       "5    Mic\n",
       "dtype: object"
      ]
     },
     "execution_count": 14,
     "metadata": {},
     "output_type": "execute_result"
    }
   ],
   "source": [
    "monte.str[0:3]  # <==> monte.str.slice(0,3)"
   ]
  },
  {
   "cell_type": "markdown",
   "id": "8aa22834-b8ed-4810-8016-5c1aa68c236a",
   "metadata": {},
   "source": [
    "`df.str.get(i)` 与 `df.str[i]` 的按索引取值效果类似。  \n",
    "`get()` 与 `slice()` 操作还可以在 `split()` 操作之后使用。"
   ]
  },
  {
   "cell_type": "code",
   "execution_count": 15,
   "id": "bd717a3f-d751-4366-af78-674d3c5c4adb",
   "metadata": {},
   "outputs": [
    {
     "data": {
      "text/plain": [
       "0    Chapman\n",
       "1     Cleese\n",
       "2    Gilliam\n",
       "3       Idle\n",
       "4      Jones\n",
       "5      Palin\n",
       "dtype: object"
      ]
     },
     "execution_count": 15,
     "metadata": {},
     "output_type": "execute_result"
    }
   ],
   "source": [
    "monte.str.split().str.get(-1)  # 获取每个姓名的姓（last name），可以结合使用 split() 与 get()"
   ]
  },
  {
   "cell_type": "markdown",
   "id": "828fc601-b776-4589-bc6d-7559def54be4",
   "metadata": {},
   "source": [
    "#### 2.3.2. 指标变量"
   ]
  },
  {
   "cell_type": "markdown",
   "id": "5ef486ef-7ee0-4e42-8894-5e0bff4682b5",
   "metadata": {},
   "source": [
    "另一个需要多花点儿时间解释的是 `get_dummies()` 方法。当你的数据有一列包含了若干已被编码的指标（`coded indicator`）时，这个方法就能派上用场了。"
   ]
  },
  {
   "cell_type": "code",
   "execution_count": 16,
   "id": "d86548bc-abc5-4acb-9ed7-acc5a3715133",
   "metadata": {},
   "outputs": [
    {
     "data": {
      "text/html": [
       "<div>\n",
       "<style scoped>\n",
       "    .dataframe tbody tr th:only-of-type {\n",
       "        vertical-align: middle;\n",
       "    }\n",
       "\n",
       "    .dataframe tbody tr th {\n",
       "        vertical-align: top;\n",
       "    }\n",
       "\n",
       "    .dataframe thead th {\n",
       "        text-align: right;\n",
       "    }\n",
       "</style>\n",
       "<table border=\"1\" class=\"dataframe\">\n",
       "  <thead>\n",
       "    <tr style=\"text-align: right;\">\n",
       "      <th></th>\n",
       "      <th>name</th>\n",
       "      <th>info</th>\n",
       "    </tr>\n",
       "  </thead>\n",
       "  <tbody>\n",
       "    <tr>\n",
       "      <th>0</th>\n",
       "      <td>Graham Chapman</td>\n",
       "      <td>B|C|D</td>\n",
       "    </tr>\n",
       "    <tr>\n",
       "      <th>1</th>\n",
       "      <td>John Cleese</td>\n",
       "      <td>B|D</td>\n",
       "    </tr>\n",
       "    <tr>\n",
       "      <th>2</th>\n",
       "      <td>Terry Gilliam</td>\n",
       "      <td>A|C</td>\n",
       "    </tr>\n",
       "    <tr>\n",
       "      <th>3</th>\n",
       "      <td>Eric Idle</td>\n",
       "      <td>B|D</td>\n",
       "    </tr>\n",
       "    <tr>\n",
       "      <th>4</th>\n",
       "      <td>Terry Jones</td>\n",
       "      <td>B|C</td>\n",
       "    </tr>\n",
       "    <tr>\n",
       "      <th>5</th>\n",
       "      <td>Michael Palin</td>\n",
       "      <td>B|C|D</td>\n",
       "    </tr>\n",
       "  </tbody>\n",
       "</table>\n",
       "</div>"
      ],
      "text/plain": [
       "             name   info\n",
       "0  Graham Chapman  B|C|D\n",
       "1     John Cleese    B|D\n",
       "2   Terry Gilliam    A|C\n",
       "3       Eric Idle    B|D\n",
       "4     Terry Jones    B|C\n",
       "5   Michael Palin  B|C|D"
      ]
     },
     "execution_count": 16,
     "metadata": {},
     "output_type": "execute_result"
    }
   ],
   "source": [
    "# 例如，假设有一个包含了某种编码信息的数据集，如 A= 出生在美国、B= 出生在英国、C= 喜欢奶酪、D= 喜欢午餐肉：\n",
    "full_monte = pd.DataFrame({'name': monte,\n",
    "                           'info': ['B|C|D', 'B|D', 'A|C', 'B|D', 'B|C', 'B|C|D']})\n",
    "full_monte"
   ]
  },
  {
   "cell_type": "code",
   "execution_count": 17,
   "id": "7bcc76ec-feef-46c3-9e96-abdf49108d1f",
   "metadata": {},
   "outputs": [
    {
     "data": {
      "text/html": [
       "<div>\n",
       "<style scoped>\n",
       "    .dataframe tbody tr th:only-of-type {\n",
       "        vertical-align: middle;\n",
       "    }\n",
       "\n",
       "    .dataframe tbody tr th {\n",
       "        vertical-align: top;\n",
       "    }\n",
       "\n",
       "    .dataframe thead th {\n",
       "        text-align: right;\n",
       "    }\n",
       "</style>\n",
       "<table border=\"1\" class=\"dataframe\">\n",
       "  <thead>\n",
       "    <tr style=\"text-align: right;\">\n",
       "      <th></th>\n",
       "      <th>A</th>\n",
       "      <th>B</th>\n",
       "      <th>C</th>\n",
       "      <th>D</th>\n",
       "    </tr>\n",
       "  </thead>\n",
       "  <tbody>\n",
       "    <tr>\n",
       "      <th>0</th>\n",
       "      <td>0</td>\n",
       "      <td>1</td>\n",
       "      <td>1</td>\n",
       "      <td>1</td>\n",
       "    </tr>\n",
       "    <tr>\n",
       "      <th>1</th>\n",
       "      <td>0</td>\n",
       "      <td>1</td>\n",
       "      <td>0</td>\n",
       "      <td>1</td>\n",
       "    </tr>\n",
       "    <tr>\n",
       "      <th>2</th>\n",
       "      <td>1</td>\n",
       "      <td>0</td>\n",
       "      <td>1</td>\n",
       "      <td>0</td>\n",
       "    </tr>\n",
       "    <tr>\n",
       "      <th>3</th>\n",
       "      <td>0</td>\n",
       "      <td>1</td>\n",
       "      <td>0</td>\n",
       "      <td>1</td>\n",
       "    </tr>\n",
       "    <tr>\n",
       "      <th>4</th>\n",
       "      <td>0</td>\n",
       "      <td>1</td>\n",
       "      <td>1</td>\n",
       "      <td>0</td>\n",
       "    </tr>\n",
       "    <tr>\n",
       "      <th>5</th>\n",
       "      <td>0</td>\n",
       "      <td>1</td>\n",
       "      <td>1</td>\n",
       "      <td>1</td>\n",
       "    </tr>\n",
       "  </tbody>\n",
       "</table>\n",
       "</div>"
      ],
      "text/plain": [
       "   A  B  C  D\n",
       "0  0  1  1  1\n",
       "1  0  1  0  1\n",
       "2  1  0  1  0\n",
       "3  0  1  0  1\n",
       "4  0  1  1  0\n",
       "5  0  1  1  1"
      ]
     },
     "execution_count": 17,
     "metadata": {},
     "output_type": "execute_result"
    }
   ],
   "source": [
    "full_monte['info'].str.get_dummies('|')  # get_dummies() 方法可以让你快速将这些指标变量分割成一个独热编码的 DataFrame（每个元素都是 0 或 1）"
   ]
  },
  {
   "cell_type": "markdown",
   "id": "7e69b316-1543-4dfe-81d3-b464cd808b7b",
   "metadata": {},
   "source": [
    "## 3. 案例：食谱数据库"
   ]
  },
  {
   "cell_type": "code",
   "execution_count": 18,
   "id": "5225a0c2-c0ef-418c-8b39-9596528108b9",
   "metadata": {},
   "outputs": [
    {
     "name": "stdout",
     "output_type": "stream",
     "text": [
      "bzip2: Output file /tmp/recipeitems-latest.json already exists.\n"
     ]
    }
   ],
   "source": [
    "!cp ../data/recipeitems-latest.json.bz2 /tmp\n",
    "!bzip2 -d /tmp/recipeitems-latest.json.bz2"
   ]
  },
  {
   "cell_type": "code",
   "execution_count": 19,
   "id": "1d3f545a-67c5-423c-8287-a1c7ebe8ff9e",
   "metadata": {},
   "outputs": [
    {
     "name": "stdout",
     "output_type": "stream",
     "text": [
      "ValueError: Trailing data\n"
     ]
    }
   ],
   "source": [
    "try:\n",
    "    recipes = pd.read_json('/tmp/recipeitems-latest.json')\n",
    "except ValueError as e:\n",
    "    print(\"ValueError:\", e)  # 数据里有“trailing data”（数据断行）的 ValueError 错误。从网上搜索这个错误，得知原因好像是虽然文件中的每一行都是一个有效的 JSON 对象，但是全文却不是这样。"
   ]
  },
  {
   "cell_type": "code",
   "execution_count": 20,
   "id": "c66bfd03-68d7-450a-8096-650aafefd470",
   "metadata": {},
   "outputs": [
    {
     "data": {
      "text/plain": [
       "(2, 12)"
      ]
     },
     "execution_count": 20,
     "metadata": {},
     "output_type": "execute_result"
    }
   ],
   "source": [
    "import io\n",
    "\n",
    "with open('/tmp/recipeitems-latest.json') as f:\n",
    "    line = f.readline()\n",
    "pd.read_json(io.StringIO(line)).shape  # pd.read_json(line).shape会报错，据说pandas 1.1 开始pd.read_json()不再能读取简单的字符串"
   ]
  },
  {
   "cell_type": "markdown",
   "id": "74977d3a-8121-4d8b-9b65-3a6d1987746c",
   "metadata": {},
   "source": [
    "显然每一行都是一个有效的 `JSON` 对象，因此需要将这些字符串连接在一起。  \n",
    "解决这个问题的一种方法就是新建一个字符串，将所有行 `JSON` 对象连接起来，然后再通过 `pd.read_json` 来读取所有数据："
   ]
  },
  {
   "cell_type": "code",
   "execution_count": 21,
   "id": "89d2f5c7-6601-4265-a359-924d2c4211b1",
   "metadata": {},
   "outputs": [],
   "source": [
    "# 将文件内容读取成Python数组\n",
    "with open('/tmp/recipeitems-latest.json', 'r') as f:\n",
    "    data = (line.strip() for line in f)         # 提取每一行内容\n",
    "    data_json = \"[{0}]\".format(','.join(data))  # 将所有内容合并成一个列表\n",
    "\n",
    "recipes = pd.read_json(io.StringIO(data_json))  # 用JSON形式读取数据"
   ]
  },
  {
   "cell_type": "code",
   "execution_count": 22,
   "id": "0185c69a-1b15-41d9-9f12-8c180137d68d",
   "metadata": {},
   "outputs": [
    {
     "data": {
      "text/plain": [
       "(173278, 17)"
      ]
     },
     "execution_count": 22,
     "metadata": {},
     "output_type": "execute_result"
    }
   ],
   "source": [
    "recipes.shape"
   ]
  },
  {
   "cell_type": "code",
   "execution_count": 23,
   "id": "319a4c11-baed-440c-9af9-a767cb8cf583",
   "metadata": {},
   "outputs": [
    {
     "data": {
      "text/plain": [
       "_id                                {'$oid': '5160756b96cc62079cc2db15'}\n",
       "name                                    Drop Biscuits and Sausage Gravy\n",
       "ingredients           Biscuits\\n3 cups All-purpose Flour\\n2 Tablespo...\n",
       "url                   http://thepioneerwoman.com/cooking/2013/03/dro...\n",
       "image                 http://static.thepioneerwoman.com/cooking/file...\n",
       "ts                                             {'$date': 1365276011104}\n",
       "cookTime                                                          PT30M\n",
       "source                                                  thepioneerwoman\n",
       "recipeYield                                                          12\n",
       "datePublished                                                2013-03-11\n",
       "prepTime                                                          PT10M\n",
       "description           Late Saturday afternoon, after Marlboro Man ha...\n",
       "totalTime                                                           NaN\n",
       "creator                                                             NaN\n",
       "recipeCategory                                                      NaN\n",
       "dateModified                                                        NaN\n",
       "recipeInstructions                                                  NaN\n",
       "Name: 0, dtype: object"
      ]
     },
     "execution_count": 23,
     "metadata": {},
     "output_type": "execute_result"
    }
   ],
   "source": [
    "recipes.iloc[0]"
   ]
  },
  {
   "cell_type": "code",
   "execution_count": 24,
   "id": "268b3587-327f-4663-8604-fb8508a7ad41",
   "metadata": {},
   "outputs": [
    {
     "data": {
      "text/plain": [
       "count    173278.000000\n",
       "mean        244.617926\n",
       "std         146.705285\n",
       "min           0.000000\n",
       "25%         147.000000\n",
       "50%         221.000000\n",
       "75%         314.000000\n",
       "max        9067.000000\n",
       "Name: ingredients, dtype: float64"
      ]
     },
     "execution_count": 24,
     "metadata": {},
     "output_type": "execute_result"
    }
   ],
   "source": [
    "recipes.ingredients.str.len().describe()  # 食材列表是字符串形式，我们需要从中抽取感兴趣的信息"
   ]
  },
  {
   "cell_type": "code",
   "execution_count": 25,
   "id": "6bcca67c-318f-462a-ae66-4583acbc1573",
   "metadata": {},
   "outputs": [
    {
     "data": {
      "text/plain": [
       "'Carrot Pineapple Spice &amp; Brownie Layer Cake with Whipped Cream &amp; Cream Cheese Frosting and Marzipan Carrots'"
      ]
     },
     "execution_count": 25,
     "metadata": {},
     "output_type": "execute_result"
    }
   ],
   "source": [
    "recipes.name[np.argmax(recipes.ingredients.str.len())]  # 看看这个拥有最长食材列表的究竟是哪道菜"
   ]
  },
  {
   "cell_type": "code",
   "execution_count": 26,
   "id": "4e535f3e-eeba-43ae-8ec3-3c27cb6bff72",
   "metadata": {},
   "outputs": [
    {
     "data": {
      "text/plain": [
       "3524"
      ]
     },
     "execution_count": 26,
     "metadata": {},
     "output_type": "execute_result"
    }
   ],
   "source": [
    "recipes.description.str.contains('[Bb]reakfast').sum()  # 看看哪些食谱是早餐"
   ]
  },
  {
   "cell_type": "code",
   "execution_count": 27,
   "id": "fb6266cb-ef56-47ac-a7b3-a9b28a376ff8",
   "metadata": {},
   "outputs": [
    {
     "data": {
      "text/plain": [
       "10526"
      ]
     },
     "execution_count": 27,
     "metadata": {},
     "output_type": "execute_result"
    }
   ],
   "source": [
    "recipes.ingredients.str.contains('[Cc]innamon').sum()   # 看看有多少食谱用肉桂（cinnamon）作为食材"
   ]
  },
  {
   "cell_type": "code",
   "execution_count": 28,
   "id": "42795f60-a7d0-4d13-8c7d-3fd897ca7a38",
   "metadata": {},
   "outputs": [
    {
     "data": {
      "text/plain": [
       "11"
      ]
     },
     "execution_count": 28,
     "metadata": {},
     "output_type": "execute_result"
    }
   ],
   "source": [
    "recipes.ingredients.str.contains('[Cc]inamon').sum()    # 看看究竟是哪些食谱里把肉桂错写成了“cinamon”"
   ]
  },
  {
   "cell_type": "markdown",
   "id": "d0634e21-e542-4782-a4a4-bd8e690f13ed",
   "metadata": {},
   "source": [
    "### 3.1. 制作简易的美食推荐系统"
   ]
  },
  {
   "cell_type": "code",
   "execution_count": 29,
   "id": "57d83ad9-bdce-4548-8e81-84fdef39b357",
   "metadata": {},
   "outputs": [],
   "source": [
    "spice_list = ['salt', 'pepper', 'oregano', 'sage', 'parsley',\n",
    "              'rosemary', 'tarragon', 'thyme', 'paprika', 'cumin']  # 为了简化任务，这里只列举常用的香料和调味料"
   ]
  },
  {
   "cell_type": "code",
   "execution_count": 30,
   "id": "fad72ba2-483d-4f5a-bef9-e3920295626c",
   "metadata": {},
   "outputs": [
    {
     "data": {
      "text/html": [
       "<div>\n",
       "<style scoped>\n",
       "    .dataframe tbody tr th:only-of-type {\n",
       "        vertical-align: middle;\n",
       "    }\n",
       "\n",
       "    .dataframe tbody tr th {\n",
       "        vertical-align: top;\n",
       "    }\n",
       "\n",
       "    .dataframe thead th {\n",
       "        text-align: right;\n",
       "    }\n",
       "</style>\n",
       "<table border=\"1\" class=\"dataframe\">\n",
       "  <thead>\n",
       "    <tr style=\"text-align: right;\">\n",
       "      <th></th>\n",
       "      <th>salt</th>\n",
       "      <th>pepper</th>\n",
       "      <th>oregano</th>\n",
       "      <th>sage</th>\n",
       "      <th>parsley</th>\n",
       "      <th>rosemary</th>\n",
       "      <th>tarragon</th>\n",
       "      <th>thyme</th>\n",
       "      <th>paprika</th>\n",
       "      <th>cumin</th>\n",
       "    </tr>\n",
       "  </thead>\n",
       "  <tbody>\n",
       "    <tr>\n",
       "      <th>0</th>\n",
       "      <td>False</td>\n",
       "      <td>False</td>\n",
       "      <td>False</td>\n",
       "      <td>True</td>\n",
       "      <td>False</td>\n",
       "      <td>False</td>\n",
       "      <td>False</td>\n",
       "      <td>False</td>\n",
       "      <td>False</td>\n",
       "      <td>False</td>\n",
       "    </tr>\n",
       "    <tr>\n",
       "      <th>1</th>\n",
       "      <td>False</td>\n",
       "      <td>False</td>\n",
       "      <td>False</td>\n",
       "      <td>False</td>\n",
       "      <td>False</td>\n",
       "      <td>False</td>\n",
       "      <td>False</td>\n",
       "      <td>False</td>\n",
       "      <td>False</td>\n",
       "      <td>False</td>\n",
       "    </tr>\n",
       "    <tr>\n",
       "      <th>2</th>\n",
       "      <td>True</td>\n",
       "      <td>True</td>\n",
       "      <td>False</td>\n",
       "      <td>False</td>\n",
       "      <td>False</td>\n",
       "      <td>False</td>\n",
       "      <td>False</td>\n",
       "      <td>False</td>\n",
       "      <td>False</td>\n",
       "      <td>True</td>\n",
       "    </tr>\n",
       "    <tr>\n",
       "      <th>3</th>\n",
       "      <td>False</td>\n",
       "      <td>False</td>\n",
       "      <td>False</td>\n",
       "      <td>False</td>\n",
       "      <td>False</td>\n",
       "      <td>False</td>\n",
       "      <td>False</td>\n",
       "      <td>False</td>\n",
       "      <td>False</td>\n",
       "      <td>False</td>\n",
       "    </tr>\n",
       "    <tr>\n",
       "      <th>4</th>\n",
       "      <td>False</td>\n",
       "      <td>False</td>\n",
       "      <td>False</td>\n",
       "      <td>False</td>\n",
       "      <td>False</td>\n",
       "      <td>False</td>\n",
       "      <td>False</td>\n",
       "      <td>False</td>\n",
       "      <td>False</td>\n",
       "      <td>False</td>\n",
       "    </tr>\n",
       "  </tbody>\n",
       "</table>\n",
       "</div>"
      ],
      "text/plain": [
       "    salt  pepper  oregano   sage  parsley  rosemary  tarragon  thyme  paprika  \\\n",
       "0  False   False    False   True    False     False     False  False    False   \n",
       "1  False   False    False  False    False     False     False  False    False   \n",
       "2   True    True    False  False    False     False     False  False    False   \n",
       "3  False   False    False  False    False     False     False  False    False   \n",
       "4  False   False    False  False    False     False     False  False    False   \n",
       "\n",
       "   cumin  \n",
       "0  False  \n",
       "1  False  \n",
       "2   True  \n",
       "3  False  \n",
       "4  False  "
      ]
     },
     "execution_count": 30,
     "metadata": {},
     "output_type": "execute_result"
    }
   ],
   "source": [
    "import re\n",
    "\n",
    "# 通过一个由 True 与 False 构成的布尔类型的 DataFrame 来判断食材是否出现在某个食谱中\n",
    "spice_df = pd.DataFrame(dict((spice, recipes.ingredients.str.contains(spice, re.IGNORECASE)) for spice in spice_list))\n",
    "spice_df.head()"
   ]
  },
  {
   "cell_type": "code",
   "execution_count": 31,
   "id": "057bf77b-7822-498a-9226-8ab034676c28",
   "metadata": {},
   "outputs": [
    {
     "data": {
      "text/plain": [
       "10"
      ]
     },
     "execution_count": 31,
     "metadata": {},
     "output_type": "execute_result"
    }
   ],
   "source": [
    "selection = spice_df.query('parsley & paprika & tarragon')  # 找一份使用了欧芹（parsley）、辣椒粉（paprika）和龙蒿叶（tarragon）这三种食材的食谱\n",
    "len(selection)"
   ]
  },
  {
   "cell_type": "code",
   "execution_count": 32,
   "id": "333dc1f1-3013-4615-badf-728a00a5fc24",
   "metadata": {},
   "outputs": [
    {
     "data": {
      "text/plain": [
       "2069      All cremat with a Little Gem, dandelion and wa...\n",
       "74964                         Lobster with Thermidor butter\n",
       "93768      Burton's Southern Fried Chicken with White Gravy\n",
       "113926                     Mijo's Slow Cooker Shredded Beef\n",
       "137686                     Asparagus Soup with Poached Eggs\n",
       "140530                                 Fried Oyster Po’boys\n",
       "158475                Lamb shank tagine with herb tabbouleh\n",
       "158486                 Southern fried chicken in buttermilk\n",
       "163175            Fried Chicken Sliders with Pickles + Slaw\n",
       "165243                        Bar Tartine Cauliflower Salad\n",
       "Name: name, dtype: object"
      ]
     },
     "execution_count": 32,
     "metadata": {},
     "output_type": "execute_result"
    }
   ],
   "source": [
    "recipes.name[selection.index]"
   ]
  },
  {
   "cell_type": "markdown",
   "id": "137dc40d-6c80-45ba-aff1-beeabb53b97f",
   "metadata": {},
   "source": [
    "### 3.2. 继续完善美食推荐系统"
   ]
  },
  {
   "cell_type": "markdown",
   "id": "7d5e48ad-e2d1-44f3-80a4-a2b30aaa21fa",
   "metadata": {
    "tags": []
   },
   "source": [
    "希望这个示例能让你对 `Pandas` 字符串方法可以高效解决哪些数据清理问题有个初步概念。  \n",
    "当然，如果要建立一个稳定的美食推荐系统，还需要做**大量的**工作！从每个食谱中提取完整的食材列表是这个任务的重中之重。  \n",
    "不过，由于食材的书写格式千奇百怪，解析它们需要耗费大量时间。  \n",
    "这其实也揭示了数据科学的真相——真实数据的清洗与整理工作往往会占据的大部分时间，而使用 `Pandas` 提供的工具可以提高你的工作效率。"
   ]
  },
  {
   "cell_type": "code",
   "execution_count": 33,
   "id": "5126a1b8-1c34-4ae7-b2cc-d81130fbf760",
   "metadata": {},
   "outputs": [],
   "source": [
    "!rm -f /tmp/recipeitems-latest.json.bz2"
   ]
  },
  {
   "cell_type": "code",
   "execution_count": null,
   "id": "ccf5f66d-bc71-4764-95db-dcfc3bd2cf71",
   "metadata": {},
   "outputs": [],
   "source": []
  }
 ],
 "metadata": {
  "kernelspec": {
   "display_name": "Python 3 (ipykernel)",
   "language": "python",
   "name": "python3"
  },
  "language_info": {
   "codemirror_mode": {
    "name": "ipython",
    "version": 3
   },
   "file_extension": ".py",
   "mimetype": "text/x-python",
   "name": "python",
   "nbconvert_exporter": "python",
   "pygments_lexer": "ipython3",
   "version": "3.7.3"
  }
 },
 "nbformat": 4,
 "nbformat_minor": 5
}
