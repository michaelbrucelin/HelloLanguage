{
 "cells": [
  {
   "cell_type": "markdown",
   "id": "c93752b2-9207-4702-abd0-b2ba0417ab16",
   "metadata": {},
   "source": [
    "# 处理缺失值"
   ]
  },
  {
   "cell_type": "markdown",
   "id": "35f2c372-d881-4b0c-b3f3-484644fdbf05",
   "metadata": {},
   "source": [
    "本节介绍一些处理缺失值的通用规则，`Pandas` 对缺失值的表现形式，并演示 `Pandas` 自带的几个处理缺失值的工具的用法。  \n",
    "本节以及全书涉及的缺失值主要有三种形式：`null`、`NaN` 或 `NA`。"
   ]
  },
  {
   "cell_type": "code",
   "execution_count": 1,
   "id": "802d2e63-c747-4f51-9725-f1f0da65e833",
   "metadata": {},
   "outputs": [],
   "source": [
    "import numpy as np\n",
    "import pandas as pd"
   ]
  },
  {
   "cell_type": "code",
   "execution_count": 2,
   "id": "8546bb7d-98b5-4ffb-a133-78ebde025809",
   "metadata": {},
   "outputs": [
    {
     "data": {
      "text/html": [
       "<style>\n",
       "  table {margin-left: 0 !important;}\n",
       "  img:nth-child(1) {width:30%; height: 30%;}\n",
       "</style>\n"
      ],
      "text/plain": [
       "<IPython.core.display.HTML object>"
      ]
     },
     "metadata": {},
     "output_type": "display_data"
    }
   ],
   "source": [
    "%%html\n",
    "<style>\n",
    "  table {margin-left: 0 !important;}\n",
    "  img:nth-child(1) {width:30%; height: 30%;}\n",
    "</style>"
   ]
  },
  {
   "cell_type": "markdown",
   "id": "afd5017c-2e74-4da7-8a96-7dc7135d25a7",
   "metadata": {},
   "source": [
    "## 1. 选择处理缺失值的方法"
   ]
  },
  {
   "cell_type": "markdown",
   "id": "c9523476-b7ad-46b9-9abe-c32fd888f225",
   "metadata": {},
   "source": [
    "在数据表或 `DataFrame` 中有很多识别缺失值的方法。一般情况下可以分为两种：  \n",
    "一种方法是通过一个覆盖全局的**掩码**表示缺失值，另一种方法是用一个**标签值**（sentinel value）表示缺失值。  \n",
    "在掩码方法中，掩码可能是一个与原数组维度相同的完整布尔类型数组，也可能是用一个比特（0 或 1）表示有缺失值的局部状态。  \n",
    "在标签方法中，标签值可能是具体的数据（例如用 -9999 表示缺失的整数），也可能是些极少出现的形式。  \n",
    "另外，标签值还可能是更全局的值，比如用 `NaN`（不是一个数）表示缺失的浮点数，它是 `IEEE` 浮点数规范中指定的特殊字符。  \n",
    "使用这两种方法之前都需要先综合考量：  \n",
    "使用单独的掩码数组会额外出现一个布尔类型数组，从而增加存储与计算的负担；  \n",
    "而标签值方法缩小了可以被表示为有效值的范围，可能需要在 `CPU` 或 `GPU` 算术逻辑单元中增加额外的（往往也不是最优的）计算逻辑。  \n",
    "通常使用的 `NaN` 也不能表示所有数据类型。  \n",
    "大多数情况下，都不存在最佳选择，不同的编程语言与系统使用不同的方法。  \n",
    "例如，`R` 语言在每种数据类型中保留一个比特作为缺失数据的标签值，而 `SciDB` 系统会在每个单元后面加一个额外的字节表示 `NA` 状态。"
   ]
  },
  {
   "cell_type": "markdown",
   "id": "925d9c8c-8021-4339-b353-8ec919348401",
   "metadata": {},
   "source": [
    "## 2. Pandas的缺失值"
   ]
  },
  {
   "cell_type": "markdown",
   "id": "f5611666-ff16-4059-82e3-9a44c7f8f41a",
   "metadata": {},
   "source": [
    "`Pandas` 里处理缺失值的方式延续了 `NumPy` 程序包的方式，并没有为浮点数据类型提供内置的 `NA` 作为缺失值。  \n",
    "`Pandas` 原本也可以按照 `R` 语言采用的比特模式为每一种数据类型标注缺失值，但是这种方法非常笨拙。  \n",
    "`R` 语言包含 4 种基本数据类型，而 `NumPy` 支持的类型**远超** 4 种。例如，`R` 语言只有一种整数类型，而 `NumPy` 支持 14 种基本的整数类型，可以根据精度、符号、编码类型按需选择。  \n",
    "如果要为 `NumPy` 的每种数据类型都设置一个比特标注缺失值，可能需要为不同类型的不同操作耗费大量的时间与精力，其工作量几乎相当于创建一个新的 `NumPy` 程序包。  \n",
    "另外，对于一些较小的数据类型（例如 8 位整型数据），牺牲一个比特作为缺失值标注的掩码还会导致其数据范围缩小。  \n",
    "当然，`NumPy` 也是支持掩码数据的，也就是说可以用一个布尔掩码数组为原数组标注“无缺失值”或“有缺失值”。  \n",
    "`Pandas` 也集成了这个功能，但是在存储、计算和编码维护方面都需要耗费不必要的资源，因此这种方式并不可取。  \n",
    "综合考虑各种方法的优缺点，`Pandas` 最终选择用标签方法表示缺失值，包括两种 `Python` 原有的缺失值：浮点数据类型的 `NaN` 值，以及 `Python` 的 `None` 对象。  \n",
    "后面我们将会发现，虽然这么做也会有一些副作用，但是在实际运用中的效果还是不错的。"
   ]
  },
  {
   "cell_type": "markdown",
   "id": "b530b5b1-dd67-466f-af53-b3e0ea8a93ef",
   "metadata": {},
   "source": [
    "### 2.1. None：Python对象类型的缺失值"
   ]
  },
  {
   "cell_type": "markdown",
   "id": "79fa2094-f35b-45d1-b4ab-59561d1a0a80",
   "metadata": {},
   "source": [
    "`Pandas` 可以使用的第一种缺失值标签是 `None`，它是一个 `Python` 单体对象，经常在代码中表示缺失值。  \n",
    "由于 `None` 是一个 `Python` 对象，所以不能作为任何 `NumPy` \\/ `Pandas` 数组类型的缺失值，只能用于 '`object`' 数组类型（即由 `Python` 对象构成的数组）。"
   ]
  },
  {
   "cell_type": "code",
   "execution_count": 3,
   "id": "35f535fd-5fb1-4bcd-888f-c3146f263b39",
   "metadata": {},
   "outputs": [
    {
     "data": {
      "text/plain": [
       "array([1, None, 3, 4], dtype=object)"
      ]
     },
     "execution_count": 3,
     "metadata": {},
     "output_type": "execute_result"
    }
   ],
   "source": [
    "vals1 = np.array([1, None, 3, 4])\n",
    "vals1"
   ]
  },
  {
   "cell_type": "raw",
   "id": "1c3f8e48-a49d-4fbe-9916-2a80eeaf6220",
   "metadata": {},
   "source": [
    "这里 dtype=object 表示 NumPy 认为由于这个数组是 Python 对象构成的，因此将其类型判断为 object。\n",
    "虽然这种类型在某些情景中非常有用，对数据的任何操作最终都会在 Python 层面完成，但是在进行常见的快速操作时，这种类型比其他原生类型数组要消耗更多的资源。"
   ]
  },
  {
   "cell_type": "code",
   "execution_count": 4,
   "id": "da9e1a15-ade0-4491-9509-f45cb29f15e9",
   "metadata": {},
   "outputs": [
    {
     "name": "stdout",
     "output_type": "stream",
     "text": [
      "dtype= object\n",
      "106 ms ± 176 µs per loop (mean ± std. dev. of 7 runs, 10 loops each)\n",
      "\n",
      "dtype= int\n",
      "2.06 ms ± 6.76 µs per loop (mean ± std. dev. of 7 runs, 100 loops each)\n",
      "\n"
     ]
    }
   ],
   "source": [
    "for dtype in ['object', 'int']:\n",
    "    print('dtype=', dtype)\n",
    "    %timeit np.arange(1E6, dtype=dtype).sum()\n",
    "    print()"
   ]
  },
  {
   "cell_type": "markdown",
   "id": "3a2ad849-f3f2-4e54-ad84-719ecfd684d0",
   "metadata": {},
   "source": [
    "使用 `Python` 对象构成的数组就意味着如果你对一个包含 `None` 的数组进行累计操作，如 `sum()` 或者 `min()`，那么通常会出现类型错误。  \n",
    "这就是说，在 `Python` 中没有定义整数与 `None` 之间的加法运算。"
   ]
  },
  {
   "cell_type": "code",
   "execution_count": 5,
   "id": "0e3ffd4c-9030-423c-8201-6074ba2d3f21",
   "metadata": {},
   "outputs": [
    {
     "ename": "TypeError",
     "evalue": "unsupported operand type(s) for +: 'int' and 'NoneType'",
     "output_type": "error",
     "traceback": [
      "\u001b[0;31m---------------------------------------------------------------------------\u001b[0m",
      "\u001b[0;31mTypeError\u001b[0m                                 Traceback (most recent call last)",
      "\u001b[0;32m/tmp/ipykernel_81108/1181914653.py\u001b[0m in \u001b[0;36m<module>\u001b[0;34m\u001b[0m\n\u001b[0;32m----> 1\u001b[0;31m \u001b[0mvals1\u001b[0m\u001b[0;34m.\u001b[0m\u001b[0msum\u001b[0m\u001b[0;34m(\u001b[0m\u001b[0;34m)\u001b[0m\u001b[0;34m\u001b[0m\u001b[0;34m\u001b[0m\u001b[0m\n\u001b[0m",
      "\u001b[0;32m/usr/local/lib/python3.7/dist-packages/numpy/core/_methods.py\u001b[0m in \u001b[0;36m_sum\u001b[0;34m(a, axis, dtype, out, keepdims, initial, where)\u001b[0m\n\u001b[1;32m     46\u001b[0m def _sum(a, axis=None, dtype=None, out=None, keepdims=False,\n\u001b[1;32m     47\u001b[0m          initial=_NoValue, where=True):\n\u001b[0;32m---> 48\u001b[0;31m     \u001b[0;32mreturn\u001b[0m \u001b[0mumr_sum\u001b[0m\u001b[0;34m(\u001b[0m\u001b[0ma\u001b[0m\u001b[0;34m,\u001b[0m \u001b[0maxis\u001b[0m\u001b[0;34m,\u001b[0m \u001b[0mdtype\u001b[0m\u001b[0;34m,\u001b[0m \u001b[0mout\u001b[0m\u001b[0;34m,\u001b[0m \u001b[0mkeepdims\u001b[0m\u001b[0;34m,\u001b[0m \u001b[0minitial\u001b[0m\u001b[0;34m,\u001b[0m \u001b[0mwhere\u001b[0m\u001b[0;34m)\u001b[0m\u001b[0;34m\u001b[0m\u001b[0;34m\u001b[0m\u001b[0m\n\u001b[0m\u001b[1;32m     49\u001b[0m \u001b[0;34m\u001b[0m\u001b[0m\n\u001b[1;32m     50\u001b[0m def _prod(a, axis=None, dtype=None, out=None, keepdims=False,\n",
      "\u001b[0;31mTypeError\u001b[0m: unsupported operand type(s) for +: 'int' and 'NoneType'"
     ]
    }
   ],
   "source": [
    "vals1.sum()"
   ]
  },
  {
   "cell_type": "markdown",
   "id": "5cf9e1d9-dfaa-43bc-a94c-fcf571369baf",
   "metadata": {},
   "source": [
    "### 2.2. NaN：数值类型的缺失值"
   ]
  },
  {
   "cell_type": "markdown",
   "id": "0ae8fe34-1e97-4899-862b-5cf1dffc9138",
   "metadata": {},
   "source": [
    "另一种缺失值的标签是 `NaN`（全称 `Not a Number`，不是一个数字），是一种按照 `IEEE` 浮点数标准设计、在任何系统中都兼容的特殊浮点数。  \n",
    "请注意，`NumPy` 会为这个数组选择一个原生浮点类型，这意味着和之前的 `object` 类型数组不同，这个数组会被编译成 `C` 代码从而实现快速操作。  \n",
    "你可以把 `NaN` 看作是一个数据类病毒——它会将与它接触过的数据同化。无论和 `NaN` 进行何种操作，最终结果都是`NaN`。"
   ]
  },
  {
   "cell_type": "code",
   "execution_count": 6,
   "id": "8b56c810-8eb8-4a54-9a04-f36b7f1e6f4f",
   "metadata": {},
   "outputs": [
    {
     "data": {
      "text/plain": [
       "dtype('float64')"
      ]
     },
     "execution_count": 6,
     "metadata": {},
     "output_type": "execute_result"
    }
   ],
   "source": [
    "vals2 = np.array([1, np.nan, 3, 4])\n",
    "vals2.dtype"
   ]
  },
  {
   "cell_type": "code",
   "execution_count": 7,
   "id": "13a0c018-c11c-4eb7-8e11-0add625188cc",
   "metadata": {},
   "outputs": [
    {
     "data": {
      "text/plain": [
       "nan"
      ]
     },
     "execution_count": 7,
     "metadata": {},
     "output_type": "execute_result"
    }
   ],
   "source": [
    "1 + np.nan"
   ]
  },
  {
   "cell_type": "code",
   "execution_count": 8,
   "id": "d3ea82a1-df91-44be-bbd5-755abec685fc",
   "metadata": {},
   "outputs": [
    {
     "data": {
      "text/plain": [
       "nan"
      ]
     },
     "execution_count": 8,
     "metadata": {},
     "output_type": "execute_result"
    }
   ],
   "source": [
    "0 * np.nan"
   ]
  },
  {
   "cell_type": "code",
   "execution_count": 9,
   "id": "5c0d0ce9-a359-4df4-9d8f-d54eb9be49c3",
   "metadata": {},
   "outputs": [
    {
     "data": {
      "text/plain": [
       "(nan, nan, nan)"
      ]
     },
     "execution_count": 9,
     "metadata": {},
     "output_type": "execute_result"
    }
   ],
   "source": [
    "vals2.sum(), vals2.min(), vals2.max()  # 类似于sql server中的null"
   ]
  },
  {
   "cell_type": "code",
   "execution_count": 10,
   "id": "2830ab51-b91f-477a-8e42-4f416c92d36a",
   "metadata": {},
   "outputs": [
    {
     "data": {
      "text/plain": [
       "(8.0, 1.0, 4.0)"
      ]
     },
     "execution_count": 10,
     "metadata": {},
     "output_type": "execute_result"
    }
   ],
   "source": [
    "np.nansum(vals2), np.nanmin(vals2), np.nanmax(vals2)  # NumPy 也提供了一些特殊的累计函数，它们可以忽略缺失值的影响"
   ]
  },
  {
   "cell_type": "markdown",
   "id": "c3bf659f-4989-47c1-b0ca-61d479a83096",
   "metadata": {},
   "source": [
    "谨记，`NaN` 是一种特殊的浮点数，不是整数、字符串以及其他数据类型。"
   ]
  },
  {
   "cell_type": "markdown",
   "id": "312f4998-c8b4-4a69-81c0-4f27ef896b13",
   "metadata": {},
   "source": [
    "### 2.3. Pandas中NaN与None的差异"
   ]
  },
  {
   "cell_type": "markdown",
   "id": "11743e93-e3fe-419c-9e14-d82a649f2dbe",
   "metadata": {},
   "source": [
    "虽然 `NaN` 与 `None` 各有各的用处，但是 `Pandas` 把它们看成是可以等价交换的，在适当的时候会将两者进行替换。  \n",
    "请注意，除了将整型数组的缺失值强制转换为浮点数，`Pandas` 还会自动将 `None` 转换为 `NaN`。"
   ]
  },
  {
   "cell_type": "code",
   "execution_count": 11,
   "id": "1f369fd6-18eb-4b5b-bc9f-30d6c7e42697",
   "metadata": {},
   "outputs": [
    {
     "data": {
      "text/plain": [
       "0    1.0\n",
       "1    NaN\n",
       "2    3.0\n",
       "3    NaN\n",
       "dtype: float64"
      ]
     },
     "execution_count": 11,
     "metadata": {},
     "output_type": "execute_result"
    }
   ],
   "source": [
    "pd.Series([1, np.nan, 3, None])"
   ]
  },
  {
   "cell_type": "code",
   "execution_count": 12,
   "id": "7167fa5d-e634-47f2-9bca-0206577ec398",
   "metadata": {},
   "outputs": [
    {
     "data": {
      "text/plain": [
       "0    0\n",
       "1    1\n",
       "dtype: int64"
      ]
     },
     "execution_count": 12,
     "metadata": {},
     "output_type": "execute_result"
    }
   ],
   "source": [
    "x = pd.Series(range(2), dtype=int)\n",
    "x"
   ]
  },
  {
   "cell_type": "code",
   "execution_count": 13,
   "id": "40faff1f-a1b7-4857-bbf2-b4abb63426f7",
   "metadata": {},
   "outputs": [
    {
     "data": {
      "text/plain": [
       "0    NaN\n",
       "1    1.0\n",
       "dtype: float64"
      ]
     },
     "execution_count": 13,
     "metadata": {},
     "output_type": "execute_result"
    }
   ],
   "source": [
    "x[0] = None  # Pandas 会将没有标签值的数据类型自动转换为 NA。\n",
    "x"
   ]
  },
  {
   "cell_type": "markdown",
   "id": "97789a4b-05f7-429c-8b1a-80e45ad40ca2",
   "metadata": {},
   "source": [
    "需要注意的是，现在 `GitHub` 上 `Pandas` 项目中已经有人提议增加一个原生的整型 `NA`，不过到编写本书时还尚未实现。"
   ]
  },
  {
   "cell_type": "markdown",
   "id": "f9e234b1-e848-40b0-aee7-95743807b138",
   "metadata": {},
   "source": [
    "**Pandas对不同类型缺失值的转换规则**\n",
    "\n",
    "| 类型 | 缺失值转换规则 | NA标签值 |\n",
    "| -- | -- | -- |\n",
    "| floating 浮点型 | 无变化 | np.nan |\n",
    "| object 对象类型 | 无变化 | None 或 np.nan |\n",
    "| integer 整数类型 | 强制转换为 float64 | np.nan |\n",
    "| boolean 布尔类型 | 强制转换为 object | None 或 np.nan |\n",
    "\n",
    "需要注意的是，`Pandas` 中字符串类型的数据通常是用 `object` 类型存储的。"
   ]
  },
  {
   "cell_type": "markdown",
   "id": "a36393c8-164f-4095-8969-514c4038fab4",
   "metadata": {},
   "source": [
    "## 3. 处理缺失值"
   ]
  },
  {
   "cell_type": "markdown",
   "id": "3e5820c0-da6c-4882-b763-7209487dcfb3",
   "metadata": {},
   "source": [
    "我们已经知道，`Pandas` 基本上把 `None` 和 `NaN` 看成是可以等价交换的缺失值形式。  \n",
    "为了完成这种交换过程，`Pandas` 提供了一些方法来发现、剔除、替换数据结构中的缺失值，主要包括以下几种。  \n",
    "- `isnull()`\n",
    "    - 创建一个布尔类型的掩码标签缺失值。\n",
    "- `notnull()`\n",
    "    - 与 `isnull()` 操作相反。\n",
    "- `dropna()`\n",
    "    - 返回一个剔除缺失值的数据。\n",
    "- `fillna()`\n",
    "    - 返回一个填充了缺失值的数据副本。"
   ]
  },
  {
   "cell_type": "markdown",
   "id": "dc22d7eb-8a28-482e-8d6f-f30bbb77037f",
   "metadata": {},
   "source": [
    "### 3.1. 发现缺失值"
   ]
  },
  {
   "cell_type": "markdown",
   "id": "8e81b0a2-cfe7-444b-8991-b4656b12219d",
   "metadata": {},
   "source": [
    "`Pandas` 数据结构有两种有效的方法可以发现缺失值：`isnull()` 和 `notnull()`。  \n",
    "每种方法都返回布尔类型的掩码数据。"
   ]
  },
  {
   "cell_type": "code",
   "execution_count": 14,
   "id": "a44e5115-0ae4-4a34-9808-12f81cfe37ad",
   "metadata": {},
   "outputs": [
    {
     "data": {
      "text/plain": [
       "0    False\n",
       "1     True\n",
       "2    False\n",
       "3     True\n",
       "dtype: bool"
      ]
     },
     "execution_count": 14,
     "metadata": {},
     "output_type": "execute_result"
    }
   ],
   "source": [
    "data = pd.Series([1, np.nan, 'hello', None])\n",
    "data.isnull()"
   ]
  },
  {
   "cell_type": "code",
   "execution_count": 15,
   "id": "3e216d22-a2b3-43df-9db2-fe6259e658bd",
   "metadata": {},
   "outputs": [
    {
     "data": {
      "text/plain": [
       "0        1\n",
       "2    hello\n",
       "dtype: object"
      ]
     },
     "execution_count": 15,
     "metadata": {},
     "output_type": "execute_result"
    }
   ],
   "source": [
    "data[data.notnull()]"
   ]
  },
  {
   "cell_type": "markdown",
   "id": "77267d95-0864-47e8-817e-0ebbdd9c107c",
   "metadata": {},
   "source": [
    "### 3.2. 剔除缺失值"
   ]
  },
  {
   "cell_type": "markdown",
   "id": "aa29e62a-7c39-48b8-be91-81e41ea5eaef",
   "metadata": {},
   "source": [
    "除了前面介绍的掩码方法，还有两种很好用的缺失值处理方法，分别是 `dropna()`（剔除缺失值）和 `fillna()`（填充缺失值）。"
   ]
  },
  {
   "cell_type": "code",
   "execution_count": 16,
   "id": "8ca3dfea-9d3d-486c-974f-014b1dc0af5b",
   "metadata": {},
   "outputs": [
    {
     "data": {
      "text/plain": [
       "0        1\n",
       "2    hello\n",
       "dtype: object"
      ]
     },
     "execution_count": 16,
     "metadata": {},
     "output_type": "execute_result"
    }
   ],
   "source": [
    "data.dropna()"
   ]
  },
  {
   "cell_type": "code",
   "execution_count": 17,
   "id": "e6e39dde-d688-425a-86ee-a85499af0bd3",
   "metadata": {},
   "outputs": [
    {
     "data": {
      "text/html": [
       "<div>\n",
       "<style scoped>\n",
       "    .dataframe tbody tr th:only-of-type {\n",
       "        vertical-align: middle;\n",
       "    }\n",
       "\n",
       "    .dataframe tbody tr th {\n",
       "        vertical-align: top;\n",
       "    }\n",
       "\n",
       "    .dataframe thead th {\n",
       "        text-align: right;\n",
       "    }\n",
       "</style>\n",
       "<table border=\"1\" class=\"dataframe\">\n",
       "  <thead>\n",
       "    <tr style=\"text-align: right;\">\n",
       "      <th></th>\n",
       "      <th>0</th>\n",
       "      <th>1</th>\n",
       "      <th>2</th>\n",
       "    </tr>\n",
       "  </thead>\n",
       "  <tbody>\n",
       "    <tr>\n",
       "      <th>0</th>\n",
       "      <td>1.0</td>\n",
       "      <td>NaN</td>\n",
       "      <td>2</td>\n",
       "    </tr>\n",
       "    <tr>\n",
       "      <th>1</th>\n",
       "      <td>2.0</td>\n",
       "      <td>3.0</td>\n",
       "      <td>5</td>\n",
       "    </tr>\n",
       "    <tr>\n",
       "      <th>2</th>\n",
       "      <td>NaN</td>\n",
       "      <td>4.0</td>\n",
       "      <td>6</td>\n",
       "    </tr>\n",
       "  </tbody>\n",
       "</table>\n",
       "</div>"
      ],
      "text/plain": [
       "     0    1  2\n",
       "0  1.0  NaN  2\n",
       "1  2.0  3.0  5\n",
       "2  NaN  4.0  6"
      ]
     },
     "execution_count": 17,
     "metadata": {},
     "output_type": "execute_result"
    }
   ],
   "source": [
    "df = pd.DataFrame([[1,      np.nan, 2],\n",
    "                   [2,      3,      5],\n",
    "                   [np.nan, 4,      6]])\n",
    "df"
   ]
  },
  {
   "cell_type": "code",
   "execution_count": 18,
   "id": "30e7b160-bdbc-4e6d-98e5-723bfa723efb",
   "metadata": {},
   "outputs": [
    {
     "data": {
      "text/html": [
       "<div>\n",
       "<style scoped>\n",
       "    .dataframe tbody tr th:only-of-type {\n",
       "        vertical-align: middle;\n",
       "    }\n",
       "\n",
       "    .dataframe tbody tr th {\n",
       "        vertical-align: top;\n",
       "    }\n",
       "\n",
       "    .dataframe thead th {\n",
       "        text-align: right;\n",
       "    }\n",
       "</style>\n",
       "<table border=\"1\" class=\"dataframe\">\n",
       "  <thead>\n",
       "    <tr style=\"text-align: right;\">\n",
       "      <th></th>\n",
       "      <th>0</th>\n",
       "      <th>1</th>\n",
       "      <th>2</th>\n",
       "    </tr>\n",
       "  </thead>\n",
       "  <tbody>\n",
       "    <tr>\n",
       "      <th>1</th>\n",
       "      <td>2.0</td>\n",
       "      <td>3.0</td>\n",
       "      <td>5</td>\n",
       "    </tr>\n",
       "  </tbody>\n",
       "</table>\n",
       "</div>"
      ],
      "text/plain": [
       "     0    1  2\n",
       "1  2.0  3.0  5"
      ]
     },
     "execution_count": 18,
     "metadata": {},
     "output_type": "execute_result"
    }
   ],
   "source": [
    "df.dropna()  # 默认情况下，dropna() 会剔除任何包含缺失值的整行数据"
   ]
  },
  {
   "cell_type": "code",
   "execution_count": 19,
   "id": "b7e08382-c3a7-411e-872f-e35318ed7f60",
   "metadata": {},
   "outputs": [
    {
     "data": {
      "text/html": [
       "<div>\n",
       "<style scoped>\n",
       "    .dataframe tbody tr th:only-of-type {\n",
       "        vertical-align: middle;\n",
       "    }\n",
       "\n",
       "    .dataframe tbody tr th {\n",
       "        vertical-align: top;\n",
       "    }\n",
       "\n",
       "    .dataframe thead th {\n",
       "        text-align: right;\n",
       "    }\n",
       "</style>\n",
       "<table border=\"1\" class=\"dataframe\">\n",
       "  <thead>\n",
       "    <tr style=\"text-align: right;\">\n",
       "      <th></th>\n",
       "      <th>2</th>\n",
       "    </tr>\n",
       "  </thead>\n",
       "  <tbody>\n",
       "    <tr>\n",
       "      <th>0</th>\n",
       "      <td>2</td>\n",
       "    </tr>\n",
       "    <tr>\n",
       "      <th>1</th>\n",
       "      <td>5</td>\n",
       "    </tr>\n",
       "    <tr>\n",
       "      <th>2</th>\n",
       "      <td>6</td>\n",
       "    </tr>\n",
       "  </tbody>\n",
       "</table>\n",
       "</div>"
      ],
      "text/plain": [
       "   2\n",
       "0  2\n",
       "1  5\n",
       "2  6"
      ]
     },
     "execution_count": 19,
     "metadata": {},
     "output_type": "execute_result"
    }
   ],
   "source": [
    "df.dropna(axis='columns')  # 可以设置按不同的坐标轴剔除缺失值，比如 axis=1（或axis='columns'）会剔除任何包含缺失值的整列数据"
   ]
  },
  {
   "cell_type": "code",
   "execution_count": 20,
   "id": "131e83c1-1040-4568-9b4e-79447d7413bb",
   "metadata": {},
   "outputs": [
    {
     "data": {
      "text/html": [
       "<div>\n",
       "<style scoped>\n",
       "    .dataframe tbody tr th:only-of-type {\n",
       "        vertical-align: middle;\n",
       "    }\n",
       "\n",
       "    .dataframe tbody tr th {\n",
       "        vertical-align: top;\n",
       "    }\n",
       "\n",
       "    .dataframe thead th {\n",
       "        text-align: right;\n",
       "    }\n",
       "</style>\n",
       "<table border=\"1\" class=\"dataframe\">\n",
       "  <thead>\n",
       "    <tr style=\"text-align: right;\">\n",
       "      <th></th>\n",
       "      <th>0</th>\n",
       "      <th>1</th>\n",
       "      <th>2</th>\n",
       "      <th>3</th>\n",
       "    </tr>\n",
       "  </thead>\n",
       "  <tbody>\n",
       "    <tr>\n",
       "      <th>0</th>\n",
       "      <td>1.0</td>\n",
       "      <td>NaN</td>\n",
       "      <td>2</td>\n",
       "      <td>NaN</td>\n",
       "    </tr>\n",
       "    <tr>\n",
       "      <th>1</th>\n",
       "      <td>2.0</td>\n",
       "      <td>3.0</td>\n",
       "      <td>5</td>\n",
       "      <td>NaN</td>\n",
       "    </tr>\n",
       "    <tr>\n",
       "      <th>2</th>\n",
       "      <td>NaN</td>\n",
       "      <td>4.0</td>\n",
       "      <td>6</td>\n",
       "      <td>NaN</td>\n",
       "    </tr>\n",
       "  </tbody>\n",
       "</table>\n",
       "</div>"
      ],
      "text/plain": [
       "     0    1  2   3\n",
       "0  1.0  NaN  2 NaN\n",
       "1  2.0  3.0  5 NaN\n",
       "2  NaN  4.0  6 NaN"
      ]
     },
     "execution_count": 20,
     "metadata": {},
     "output_type": "execute_result"
    }
   ],
   "source": [
    "df[3] = np.nan\n",
    "df"
   ]
  },
  {
   "cell_type": "code",
   "execution_count": 21,
   "id": "f7fa138f-8e33-49be-86ca-f16fabbbc08a",
   "metadata": {},
   "outputs": [
    {
     "data": {
      "text/html": [
       "<div>\n",
       "<style scoped>\n",
       "    .dataframe tbody tr th:only-of-type {\n",
       "        vertical-align: middle;\n",
       "    }\n",
       "\n",
       "    .dataframe tbody tr th {\n",
       "        vertical-align: top;\n",
       "    }\n",
       "\n",
       "    .dataframe thead th {\n",
       "        text-align: right;\n",
       "    }\n",
       "</style>\n",
       "<table border=\"1\" class=\"dataframe\">\n",
       "  <thead>\n",
       "    <tr style=\"text-align: right;\">\n",
       "      <th></th>\n",
       "      <th>0</th>\n",
       "      <th>1</th>\n",
       "      <th>2</th>\n",
       "    </tr>\n",
       "  </thead>\n",
       "  <tbody>\n",
       "    <tr>\n",
       "      <th>0</th>\n",
       "      <td>1.0</td>\n",
       "      <td>NaN</td>\n",
       "      <td>2</td>\n",
       "    </tr>\n",
       "    <tr>\n",
       "      <th>1</th>\n",
       "      <td>2.0</td>\n",
       "      <td>3.0</td>\n",
       "      <td>5</td>\n",
       "    </tr>\n",
       "    <tr>\n",
       "      <th>2</th>\n",
       "      <td>NaN</td>\n",
       "      <td>4.0</td>\n",
       "      <td>6</td>\n",
       "    </tr>\n",
       "  </tbody>\n",
       "</table>\n",
       "</div>"
      ],
      "text/plain": [
       "     0    1  2\n",
       "0  1.0  NaN  2\n",
       "1  2.0  3.0  5\n",
       "2  NaN  4.0  6"
      ]
     },
     "execution_count": 21,
     "metadata": {},
     "output_type": "execute_result"
    }
   ],
   "source": [
    "df.dropna(axis='columns', how='all')  # 默认设置是 how='any'，也就是说只要有缺失值就剔除整行或整列。你还可以设置 how='all'，这样就只会剔除全部是缺失值的行或列了："
   ]
  },
  {
   "cell_type": "code",
   "execution_count": 22,
   "id": "9fa0ec90-0b31-44c8-8cbe-63a76cef3d26",
   "metadata": {},
   "outputs": [
    {
     "data": {
      "text/html": [
       "<div>\n",
       "<style scoped>\n",
       "    .dataframe tbody tr th:only-of-type {\n",
       "        vertical-align: middle;\n",
       "    }\n",
       "\n",
       "    .dataframe tbody tr th {\n",
       "        vertical-align: top;\n",
       "    }\n",
       "\n",
       "    .dataframe thead th {\n",
       "        text-align: right;\n",
       "    }\n",
       "</style>\n",
       "<table border=\"1\" class=\"dataframe\">\n",
       "  <thead>\n",
       "    <tr style=\"text-align: right;\">\n",
       "      <th></th>\n",
       "      <th>0</th>\n",
       "      <th>1</th>\n",
       "      <th>2</th>\n",
       "      <th>3</th>\n",
       "    </tr>\n",
       "  </thead>\n",
       "  <tbody>\n",
       "    <tr>\n",
       "      <th>1</th>\n",
       "      <td>2.0</td>\n",
       "      <td>3.0</td>\n",
       "      <td>5</td>\n",
       "      <td>NaN</td>\n",
       "    </tr>\n",
       "  </tbody>\n",
       "</table>\n",
       "</div>"
      ],
      "text/plain": [
       "     0    1  2   3\n",
       "1  2.0  3.0  5 NaN"
      ]
     },
     "execution_count": 22,
     "metadata": {},
     "output_type": "execute_result"
    }
   ],
   "source": [
    "df.dropna(axis='rows', thresh=3)  # 还可以通过 thresh 参数设置行或列中非缺失值的最小数量，从而实现更加个性化的配置："
   ]
  },
  {
   "cell_type": "markdown",
   "id": "c6c28db8-11d2-444a-ae96-fffdafa11da1",
   "metadata": {},
   "source": [
    "### 3.3 填充缺失值"
   ]
  },
  {
   "cell_type": "markdown",
   "id": "10c9cdeb-92d1-4203-b627-aa19f6fa07fc",
   "metadata": {},
   "source": [
    "有时候你可能并不想移除缺失值，而是想把它们替换成有效的数值。  \n",
    "有效的值可能是像 0、1、2 那样单独的值，也可能是经过填充（imputation）或转换（interpolation）得到的。  \n",
    "虽然你可以通过 `isnull()` 方法建立掩码来填充缺失值，但是 `Pandas` 为此专门提供了一个 `fillna()` 方法，它将返回填充了缺失值后的数组副本。"
   ]
  },
  {
   "cell_type": "code",
   "execution_count": 23,
   "id": "cf3eb8b2-7a1d-4c0a-9aea-c6456d103dd4",
   "metadata": {},
   "outputs": [
    {
     "data": {
      "text/plain": [
       "a    1.0\n",
       "b    NaN\n",
       "c    2.0\n",
       "d    NaN\n",
       "e    3.0\n",
       "dtype: float64"
      ]
     },
     "execution_count": 23,
     "metadata": {},
     "output_type": "execute_result"
    }
   ],
   "source": [
    "data = pd.Series([1, np.nan, 2, None, 3], index=list('abcde'))\n",
    "data"
   ]
  },
  {
   "cell_type": "code",
   "execution_count": 24,
   "id": "a5d97055-4ed4-4fc3-840f-2dda8c74f569",
   "metadata": {},
   "outputs": [
    {
     "data": {
      "text/plain": [
       "a    1.0\n",
       "b    0.0\n",
       "c    2.0\n",
       "d    0.0\n",
       "e    3.0\n",
       "dtype: float64"
      ]
     },
     "execution_count": 24,
     "metadata": {},
     "output_type": "execute_result"
    }
   ],
   "source": [
    "data.fillna(0)  # 用一个单独的值来填充缺失值，例如用 0："
   ]
  },
  {
   "cell_type": "code",
   "execution_count": 25,
   "id": "3bfe03ba-45dd-41ca-a884-15055a0d7876",
   "metadata": {},
   "outputs": [
    {
     "data": {
      "text/plain": [
       "a    1.0\n",
       "b    1.0\n",
       "c    2.0\n",
       "d    2.0\n",
       "e    3.0\n",
       "dtype: float64"
      ]
     },
     "execution_count": 25,
     "metadata": {},
     "output_type": "execute_result"
    }
   ],
   "source": [
    "data.fillna(method='ffill')  # 用缺失值前面的有效值来从前往后填充（forward-fill）："
   ]
  },
  {
   "cell_type": "code",
   "execution_count": 26,
   "id": "e1af31a8-4bd2-48f6-b430-1a4ddb1c9310",
   "metadata": {},
   "outputs": [
    {
     "data": {
      "text/plain": [
       "a    1.0\n",
       "b    2.0\n",
       "c    2.0\n",
       "d    3.0\n",
       "e    3.0\n",
       "dtype: float64"
      ]
     },
     "execution_count": 26,
     "metadata": {},
     "output_type": "execute_result"
    }
   ],
   "source": [
    "data.fillna(method='bfill')  # 用缺失值后面的有效值来从后往前填充（back-fill）："
   ]
  },
  {
   "cell_type": "code",
   "execution_count": 27,
   "id": "7f457cd1-5e38-46aa-9516-55bb6a09139d",
   "metadata": {},
   "outputs": [
    {
     "data": {
      "text/html": [
       "<div>\n",
       "<style scoped>\n",
       "    .dataframe tbody tr th:only-of-type {\n",
       "        vertical-align: middle;\n",
       "    }\n",
       "\n",
       "    .dataframe tbody tr th {\n",
       "        vertical-align: top;\n",
       "    }\n",
       "\n",
       "    .dataframe thead th {\n",
       "        text-align: right;\n",
       "    }\n",
       "</style>\n",
       "<table border=\"1\" class=\"dataframe\">\n",
       "  <thead>\n",
       "    <tr style=\"text-align: right;\">\n",
       "      <th></th>\n",
       "      <th>0</th>\n",
       "      <th>1</th>\n",
       "      <th>2</th>\n",
       "      <th>3</th>\n",
       "    </tr>\n",
       "  </thead>\n",
       "  <tbody>\n",
       "    <tr>\n",
       "      <th>0</th>\n",
       "      <td>1.0</td>\n",
       "      <td>NaN</td>\n",
       "      <td>2</td>\n",
       "      <td>NaN</td>\n",
       "    </tr>\n",
       "    <tr>\n",
       "      <th>1</th>\n",
       "      <td>2.0</td>\n",
       "      <td>3.0</td>\n",
       "      <td>5</td>\n",
       "      <td>NaN</td>\n",
       "    </tr>\n",
       "    <tr>\n",
       "      <th>2</th>\n",
       "      <td>NaN</td>\n",
       "      <td>4.0</td>\n",
       "      <td>6</td>\n",
       "      <td>NaN</td>\n",
       "    </tr>\n",
       "  </tbody>\n",
       "</table>\n",
       "</div>"
      ],
      "text/plain": [
       "     0    1  2   3\n",
       "0  1.0  NaN  2 NaN\n",
       "1  2.0  3.0  5 NaN\n",
       "2  NaN  4.0  6 NaN"
      ]
     },
     "execution_count": 27,
     "metadata": {},
     "output_type": "execute_result"
    }
   ],
   "source": [
    "df"
   ]
  },
  {
   "cell_type": "code",
   "execution_count": 28,
   "id": "c3a82a5a-ceb7-4c5c-a632-1496a4f1c751",
   "metadata": {},
   "outputs": [
    {
     "data": {
      "text/html": [
       "<div>\n",
       "<style scoped>\n",
       "    .dataframe tbody tr th:only-of-type {\n",
       "        vertical-align: middle;\n",
       "    }\n",
       "\n",
       "    .dataframe tbody tr th {\n",
       "        vertical-align: top;\n",
       "    }\n",
       "\n",
       "    .dataframe thead th {\n",
       "        text-align: right;\n",
       "    }\n",
       "</style>\n",
       "<table border=\"1\" class=\"dataframe\">\n",
       "  <thead>\n",
       "    <tr style=\"text-align: right;\">\n",
       "      <th></th>\n",
       "      <th>0</th>\n",
       "      <th>1</th>\n",
       "      <th>2</th>\n",
       "      <th>3</th>\n",
       "    </tr>\n",
       "  </thead>\n",
       "  <tbody>\n",
       "    <tr>\n",
       "      <th>0</th>\n",
       "      <td>1.0</td>\n",
       "      <td>1.0</td>\n",
       "      <td>2.0</td>\n",
       "      <td>2.0</td>\n",
       "    </tr>\n",
       "    <tr>\n",
       "      <th>1</th>\n",
       "      <td>2.0</td>\n",
       "      <td>3.0</td>\n",
       "      <td>5.0</td>\n",
       "      <td>5.0</td>\n",
       "    </tr>\n",
       "    <tr>\n",
       "      <th>2</th>\n",
       "      <td>NaN</td>\n",
       "      <td>4.0</td>\n",
       "      <td>6.0</td>\n",
       "      <td>6.0</td>\n",
       "    </tr>\n",
       "  </tbody>\n",
       "</table>\n",
       "</div>"
      ],
      "text/plain": [
       "     0    1    2    3\n",
       "0  1.0  1.0  2.0  2.0\n",
       "1  2.0  3.0  5.0  5.0\n",
       "2  NaN  4.0  6.0  6.0"
      ]
     },
     "execution_count": 28,
     "metadata": {},
     "output_type": "execute_result"
    }
   ],
   "source": [
    "df.fillna(method='ffill', axis=1)  # 需要注意的是，假如在从前往后填充时，需要填充的缺失值前面没有值，那么它就仍然是缺失值。"
   ]
  },
  {
   "cell_type": "code",
   "execution_count": null,
   "id": "23890f28-270c-4209-b6eb-877db90b3f5a",
   "metadata": {},
   "outputs": [],
   "source": []
  }
 ],
 "metadata": {
  "kernelspec": {
   "display_name": "Python 3 (ipykernel)",
   "language": "python",
   "name": "python3"
  },
  "language_info": {
   "codemirror_mode": {
    "name": "ipython",
    "version": 3
   },
   "file_extension": ".py",
   "mimetype": "text/x-python",
   "name": "python",
   "nbconvert_exporter": "python",
   "pygments_lexer": "ipython3",
   "version": "3.7.3"
  }
 },
 "nbformat": 4,
 "nbformat_minor": 5
}
