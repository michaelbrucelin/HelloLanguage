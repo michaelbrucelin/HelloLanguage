{
 "cells": [
  {
   "cell_type": "markdown",
   "id": "7bfe3d73-11d9-405f-ba06-c989f08249bb",
   "metadata": {},
   "source": [
    "# 特征工程"
   ]
  },
  {
   "cell_type": "markdown",
   "id": "01f33412-6024-4815-b205-0002df1a67a7",
   "metadata": {},
   "source": [
    "上一节虽然介绍了机器学习的基本理念，但是所有示例都假设已经拥有一个干净的 `[n_samples, n_features]` 特征矩阵。其实在现实工作中，数据很少会这么干净。  \n",
    "因此，机器学习实践中更重要的步骤之一是**特征工程**（`feature engineering`）——找到与问题有关的任何信息，把它们转换成特征矩阵的数值。"
   ]
  },
  {
   "cell_type": "markdown",
   "id": "b9b47813-2351-4dbf-99a9-7549533fd622",
   "metadata": {},
   "source": [
    "本节将介绍特征工程的一些常见示例：表示**分类数据**的特征、表示**文本**的特征和表示**图像**的特征。  \n",
    "另外，还会介绍提高模型复杂度的**衍生特征**和处理缺失数据的**填充**方法。  \n",
    "这个过程通常被称为**向量化**，因为它把任意格式的数据转换成具有良好特性的向量形式。"
   ]
  },
  {
   "cell_type": "markdown",
   "id": "21b6f3c2-5298-4a8d-b1ff-26834d18d39d",
   "metadata": {},
   "source": [
    "## 1. 分类特征"
   ]
  },
  {
   "cell_type": "markdown",
   "id": "19d32490-b154-44cd-bbad-1103e8fa0bc3",
   "metadata": {},
   "source": [
    "一种常见的非数值数据类型是**分类**数据。  \n",
    "例如，浏览房屋数据的时候，除了看到“房价”（price）和“面积”（rooms）之类的数值特征，还会有“地点”（neighborhood）信息，数据可能像这样："
   ]
  },
  {
   "cell_type": "code",
   "execution_count": 1,
   "id": "4aff36a9-57d2-4ff7-8442-54c840e1d554",
   "metadata": {},
   "outputs": [],
   "source": [
    "data = [\n",
    "    {'price': 850000, 'rooms': 4, 'neighborhood': 'Queen Anne'},\n",
    "    {'price': 700000, 'rooms': 3, 'neighborhood': 'Fremont'},\n",
    "    {'price': 650000, 'rooms': 3, 'neighborhood': 'Wallingford'},\n",
    "    {'price': 600000, 'rooms': 2, 'neighborhood': 'Fremont'}\n",
    "]"
   ]
  },
  {
   "cell_type": "markdown",
   "id": "3f5850f0-1949-4b76-9b39-712cdf10db06",
   "metadata": {},
   "source": [
    "你可能会把分类特征用映射关系编码成整数："
   ]
  },
  {
   "cell_type": "code",
   "execution_count": 2,
   "id": "816b6b33-0c7a-4fb4-9d09-9c069f9b1990",
   "metadata": {},
   "outputs": [
    {
     "data": {
      "text/plain": [
       "{'Queen Anne': 1, 'Fremont': 2, 'Wallingford': 3}"
      ]
     },
     "execution_count": 2,
     "metadata": {},
     "output_type": "execute_result"
    }
   ],
   "source": [
    "{'Queen Anne': 1, 'Fremont': 2, 'Wallingford': 3}"
   ]
  },
  {
   "cell_type": "markdown",
   "id": "6d6ab7c0-622c-46b2-aa5b-60a5bb25c3a6",
   "metadata": {},
   "source": [
    "但是，在 `Scikit-Learn` 中这么做并不是一个好办法：这个程序包的所有模块都有一个基本假设，那就是数值特征可以反映代数量（`algebraic quantities`）。  \n",
    "因此，这样映射编码可能会让人觉得存在 `Queen Anne < Fremont < Wallingford`，甚至还有 `Wallingford - Queen Anne = Fremont`，这显然是没有意义的。"
   ]
  },
  {
   "cell_type": "markdown",
   "id": "cc7ed1b1-1a85-4aa7-89c1-6219a7ea5fbc",
   "metadata": {},
   "source": [
    "面对这种情况，常用的解决方法是**独热编码**。它可以有效增加额外的列，让 `0` 和 `1` 出现在对应的列分别表示每个分类值有或无。  \n",
    "当你的数据是像上面那样的字典列表时，用 `Scikit-Learn` 的 `DictVectorizer` 类就可以实现："
   ]
  },
  {
   "cell_type": "code",
   "execution_count": 3,
   "id": "475556f4-e8a0-47df-bf97-3d51e25804e5",
   "metadata": {},
   "outputs": [
    {
     "data": {
      "text/plain": [
       "array([[     0,      1,      0, 850000,      4],\n",
       "       [     1,      0,      0, 700000,      3],\n",
       "       [     0,      0,      1, 650000,      3],\n",
       "       [     1,      0,      0, 600000,      2]])"
      ]
     },
     "execution_count": 3,
     "metadata": {},
     "output_type": "execute_result"
    }
   ],
   "source": [
    "from sklearn.feature_extraction import DictVectorizer\n",
    "\n",
    "vec = DictVectorizer(sparse=False, dtype=int)\n",
    "vec.fit_transform(data)"
   ]
  },
  {
   "cell_type": "markdown",
   "id": "5432b31f-17c9-4aeb-8597-a235bb9d5b1f",
   "metadata": {},
   "source": [
    "你会发现，`neighborhood` 字段转换成三列来表示三个地点标签，每一行中用 `1` 所在的列对应一个地点。当这些分类特征编码之后，你就可以和之前一样拟合 `Scikit-Learn` 模型了。  \n",
    "如果要看每一列的含义，可以用下面的代码查看特征名称："
   ]
  },
  {
   "cell_type": "code",
   "execution_count": 5,
   "id": "08244b28-e29c-400e-bb0c-74c455366e4e",
   "metadata": {},
   "outputs": [
    {
     "data": {
      "text/plain": [
       "array(['neighborhood=Fremont', 'neighborhood=Queen Anne',\n",
       "       'neighborhood=Wallingford', 'price', 'rooms'], dtype=object)"
      ]
     },
     "execution_count": 5,
     "metadata": {},
     "output_type": "execute_result"
    }
   ],
   "source": [
    "# FutureWarning: Function get_feature_names is deprecated; get_feature_names is deprecated in 1.0 and will be removed in 1.2. Please use get_feature_names_out instead.\n",
    "# vec.get_feature_names()\n",
    "vec.get_feature_names_out()"
   ]
  },
  {
   "cell_type": "markdown",
   "id": "bbf0e9ef-b78b-457f-9ffe-614469f9a819",
   "metadata": {},
   "source": [
    "但这种方法也有一个显著的缺陷：如果你的分类特征有许多枚举值，那么数据集的维度就会急剧增加。然而，由于被编码的数据中有许多 `0`，因此用稀疏矩阵表示会非常高效："
   ]
  },
  {
   "cell_type": "code",
   "execution_count": 6,
   "id": "b62e9c69-6e65-4af7-8ec2-883ebbdc896c",
   "metadata": {
    "tags": []
   },
   "outputs": [
    {
     "data": {
      "text/plain": [
       "<4x5 sparse matrix of type '<class 'numpy.int64'>'\n",
       "\twith 12 stored elements in Compressed Sparse Row format>"
      ]
     },
     "execution_count": 6,
     "metadata": {},
     "output_type": "execute_result"
    }
   ],
   "source": [
    "vec = DictVectorizer(sparse=True, dtype=int)\n",
    "vec.fit_transform(data)"
   ]
  },
  {
   "cell_type": "markdown",
   "id": "d5df6030-7a8f-4c08-b70f-1b805484d064",
   "metadata": {},
   "source": [
    "在拟合和评估模型时，`Scikit-Learn` 的许多（并非所有）评估器都支持稀疏矩阵输入。  \n",
    "`sklearn.preprocessing.OneHotEncoder` 和 `sklearn.feature_extraction.FeatureHasher` 是 `Scikit-Learn` 另外两个为分类特征编码的工具。"
   ]
  },
  {
   "cell_type": "markdown",
   "id": "f82e9192-f8ba-4a10-bb6e-923ea6cc6b84",
   "metadata": {},
   "source": [
    "## 2. 文本特征"
   ]
  },
  {
   "cell_type": "code",
   "execution_count": null,
   "id": "ce3d4288-bf1b-4e58-ad01-1190dd8c998d",
   "metadata": {},
   "outputs": [],
   "source": [
    "另一种常见的特征工程需求是将文本转换成一组数值。例如，绝大多数\n",
    "社交媒体数据的自动化采集，都是依靠将文本编码成数字的技术手段。\n",
    "数据采集最简单的编码方法之一就是 单词统计：给你几个文本，让你\n",
    "统计每个词出现的次数，然后放到表格中。"
   ]
  },
  {
   "cell_type": "markdown",
   "id": "3868cd94-ae1a-4526-844d-68585b7e8f33",
   "metadata": {},
   "source": [
    "## 3. 图像特征"
   ]
  },
  {
   "cell_type": "code",
   "execution_count": null,
   "id": "1dcd96c5-8e51-4951-a779-43d116fe29a1",
   "metadata": {},
   "outputs": [],
   "source": []
  },
  {
   "cell_type": "markdown",
   "id": "cbd39d61-05e7-4bfc-9e8c-37a13b00139e",
   "metadata": {},
   "source": [
    "## 4. 衍生特征"
   ]
  },
  {
   "cell_type": "code",
   "execution_count": null,
   "id": "67a29312-3452-4196-b8c2-08467a3058ec",
   "metadata": {},
   "outputs": [],
   "source": []
  },
  {
   "cell_type": "markdown",
   "id": "f67ea78e-296a-43c6-b225-4dce141912b3",
   "metadata": {},
   "source": [
    "## 5. 缺失值填充"
   ]
  },
  {
   "cell_type": "code",
   "execution_count": null,
   "id": "b6851b3f-6ecd-4b51-ab27-af70b0f0cc46",
   "metadata": {},
   "outputs": [],
   "source": []
  },
  {
   "cell_type": "markdown",
   "id": "0a0be401-8609-40b5-b233-ccd2e74eee40",
   "metadata": {},
   "source": [
    "## 6. 特征管道"
   ]
  },
  {
   "cell_type": "code",
   "execution_count": null,
   "id": "8a566b86-dffc-4e7d-a247-bbb24d9f444f",
   "metadata": {},
   "outputs": [],
   "source": []
  }
 ],
 "metadata": {
  "kernelspec": {
   "display_name": "Python 3 (ipykernel)",
   "language": "python",
   "name": "python3"
  },
  "language_info": {
   "codemirror_mode": {
    "name": "ipython",
    "version": 3
   },
   "file_extension": ".py",
   "mimetype": "text/x-python",
   "name": "python",
   "nbconvert_exporter": "python",
   "pygments_lexer": "ipython3",
   "version": "3.7.3"
  }
 },
 "nbformat": 4,
 "nbformat_minor": 5
}
