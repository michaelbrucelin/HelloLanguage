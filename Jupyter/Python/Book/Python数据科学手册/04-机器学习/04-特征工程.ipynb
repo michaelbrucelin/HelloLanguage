{
 "cells": [
  {
   "cell_type": "markdown",
   "id": "7bfe3d73-11d9-405f-ba06-c989f08249bb",
   "metadata": {},
   "source": [
    "# 特征工程"
   ]
  },
  {
   "cell_type": "code",
   "execution_count": null,
   "id": "446ca38c-e57c-40fc-9750-5d87fecf870d",
   "metadata": {},
   "outputs": [],
   "source": []
  },
  {
   "cell_type": "markdown",
   "id": "21b6f3c2-5298-4a8d-b1ff-26834d18d39d",
   "metadata": {},
   "source": [
    "## 1. 分类特征"
   ]
  },
  {
   "cell_type": "code",
   "execution_count": null,
   "id": "2b2c6c71-d917-4cbf-a516-de9b69be7958",
   "metadata": {},
   "outputs": [],
   "source": []
  },
  {
   "cell_type": "markdown",
   "id": "f82e9192-f8ba-4a10-bb6e-923ea6cc6b84",
   "metadata": {},
   "source": [
    "## 2. 文本特征"
   ]
  },
  {
   "cell_type": "code",
   "execution_count": null,
   "id": "ce3d4288-bf1b-4e58-ad01-1190dd8c998d",
   "metadata": {},
   "outputs": [],
   "source": []
  },
  {
   "cell_type": "markdown",
   "id": "3868cd94-ae1a-4526-844d-68585b7e8f33",
   "metadata": {},
   "source": [
    "## 3. 图像特征"
   ]
  },
  {
   "cell_type": "code",
   "execution_count": null,
   "id": "1dcd96c5-8e51-4951-a779-43d116fe29a1",
   "metadata": {},
   "outputs": [],
   "source": []
  },
  {
   "cell_type": "markdown",
   "id": "cbd39d61-05e7-4bfc-9e8c-37a13b00139e",
   "metadata": {},
   "source": [
    "## 4. 衍生特征"
   ]
  },
  {
   "cell_type": "code",
   "execution_count": null,
   "id": "67a29312-3452-4196-b8c2-08467a3058ec",
   "metadata": {},
   "outputs": [],
   "source": []
  },
  {
   "cell_type": "markdown",
   "id": "f67ea78e-296a-43c6-b225-4dce141912b3",
   "metadata": {},
   "source": [
    "## 5. 缺失值填充"
   ]
  },
  {
   "cell_type": "code",
   "execution_count": null,
   "id": "b6851b3f-6ecd-4b51-ab27-af70b0f0cc46",
   "metadata": {},
   "outputs": [],
   "source": []
  },
  {
   "cell_type": "markdown",
   "id": "0a0be401-8609-40b5-b233-ccd2e74eee40",
   "metadata": {},
   "source": [
    "## 6. 特征管道"
   ]
  },
  {
   "cell_type": "code",
   "execution_count": null,
   "id": "8a566b86-dffc-4e7d-a247-bbb24d9f444f",
   "metadata": {},
   "outputs": [],
   "source": []
  }
 ],
 "metadata": {
  "kernelspec": {
   "display_name": "Python 3 (ipykernel)",
   "language": "python",
   "name": "python3"
  },
  "language_info": {
   "codemirror_mode": {
    "name": "ipython",
    "version": 3
   },
   "file_extension": ".py",
   "mimetype": "text/x-python",
   "name": "python",
   "nbconvert_exporter": "python",
   "pygments_lexer": "ipython3",
   "version": "3.7.3"
  }
 },
 "nbformat": 4,
 "nbformat_minor": 5
}
