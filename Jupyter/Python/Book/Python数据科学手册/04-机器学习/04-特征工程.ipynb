{
 "cells": [
  {
   "cell_type": "markdown",
   "id": "7bfe3d73-11d9-405f-ba06-c989f08249bb",
   "metadata": {},
   "source": [
    "# 特征工程"
   ]
  },
  {
   "cell_type": "markdown",
   "id": "01f33412-6024-4815-b205-0002df1a67a7",
   "metadata": {},
   "source": [
    "上一节虽然介绍了机器学习的基本理念，但是所有示例都假设已经拥有一个干净的 `[n_samples, n_features]` 特征矩阵。其实在现实工作中，数据很少会这么干净。  \n",
    "因此，机器学习实践中更重要的步骤之一是**特征工程**（`feature engineering`）——找到与问题有关的任何信息，把它们转换成特征矩阵的数值。"
   ]
  },
  {
   "cell_type": "markdown",
   "id": "b9b47813-2351-4dbf-99a9-7549533fd622",
   "metadata": {},
   "source": [
    "本节将介绍特征工程的一些常见示例：表示**分类数据**的特征、表示**文本**的特征和表示**图像**的特征。  \n",
    "另外，还会介绍提高模型复杂度的**衍生特征**和处理缺失数据的**填充**方法。  \n",
    "这个过程通常被称为**向量化**，因为它把任意格式的数据转换成具有良好特性的向量形式。"
   ]
  },
  {
   "cell_type": "markdown",
   "id": "21b6f3c2-5298-4a8d-b1ff-26834d18d39d",
   "metadata": {},
   "source": [
    "## 1. 分类特征"
   ]
  },
  {
   "cell_type": "markdown",
   "id": "19d32490-b154-44cd-bbad-1103e8fa0bc3",
   "metadata": {},
   "source": [
    "一种常见的非数值数据类型是**分类**数据。  \n",
    "例如，浏览房屋数据的时候，除了看到“房价”（price）和“面积”（rooms）之类的数值特征，还会有“地点”（neighborhood）信息，数据可能像这样："
   ]
  },
  {
   "cell_type": "code",
   "execution_count": 1,
   "id": "4aff36a9-57d2-4ff7-8442-54c840e1d554",
   "metadata": {},
   "outputs": [],
   "source": [
    "data = [\n",
    "    {'price': 850000, 'rooms': 4, 'neighborhood': 'Queen Anne'},\n",
    "    {'price': 700000, 'rooms': 3, 'neighborhood': 'Fremont'},\n",
    "    {'price': 650000, 'rooms': 3, 'neighborhood': 'Wallingford'},\n",
    "    {'price': 600000, 'rooms': 2, 'neighborhood': 'Fremont'}\n",
    "]"
   ]
  },
  {
   "cell_type": "markdown",
   "id": "3f5850f0-1949-4b76-9b39-712cdf10db06",
   "metadata": {},
   "source": [
    "你可能会把分类特征用映射关系编码成整数："
   ]
  },
  {
   "cell_type": "code",
   "execution_count": 2,
   "id": "816b6b33-0c7a-4fb4-9d09-9c069f9b1990",
   "metadata": {},
   "outputs": [
    {
     "data": {
      "text/plain": [
       "{'Queen Anne': 1, 'Fremont': 2, 'Wallingford': 3}"
      ]
     },
     "execution_count": 2,
     "metadata": {},
     "output_type": "execute_result"
    }
   ],
   "source": [
    "{'Queen Anne': 1, 'Fremont': 2, 'Wallingford': 3}"
   ]
  },
  {
   "cell_type": "markdown",
   "id": "6d6ab7c0-622c-46b2-aa5b-60a5bb25c3a6",
   "metadata": {},
   "source": [
    "但是，在 `Scikit-Learn` 中这么做并不是一个好办法：这个程序包的所有模块都有一个基本假设，那就是数值特征可以反映代数量（`algebraic quantities`）。  \n",
    "因此，这样映射编码可能会让人觉得存在 `Queen Anne < Fremont < Wallingford`，甚至还有 `Wallingford - Queen Anne = Fremont`，这显然是没有意义的。"
   ]
  },
  {
   "cell_type": "markdown",
   "id": "cc7ed1b1-1a85-4aa7-89c1-6219a7ea5fbc",
   "metadata": {},
   "source": [
    "面对这种情况，常用的解决方法是**独热编码**。它可以有效增加额外的列，让 `0` 和 `1` 出现在对应的列分别表示每个分类值有或无。  \n",
    "当你的数据是像上面那样的字典列表时，用 `Scikit-Learn` 的 `DictVectorizer` 类就可以实现："
   ]
  },
  {
   "cell_type": "code",
   "execution_count": 3,
   "id": "475556f4-e8a0-47df-bf97-3d51e25804e5",
   "metadata": {},
   "outputs": [
    {
     "data": {
      "text/plain": [
       "array([[     0,      1,      0, 850000,      4],\n",
       "       [     1,      0,      0, 700000,      3],\n",
       "       [     0,      0,      1, 650000,      3],\n",
       "       [     1,      0,      0, 600000,      2]])"
      ]
     },
     "execution_count": 3,
     "metadata": {},
     "output_type": "execute_result"
    }
   ],
   "source": [
    "from sklearn.feature_extraction import DictVectorizer\n",
    "\n",
    "vec = DictVectorizer(sparse=False, dtype=int)\n",
    "vec.fit_transform(data)"
   ]
  },
  {
   "cell_type": "markdown",
   "id": "5432b31f-17c9-4aeb-8597-a235bb9d5b1f",
   "metadata": {},
   "source": [
    "你会发现，`neighborhood` 字段转换成三列来表示三个地点标签，每一行中用 `1` 所在的列对应一个地点。当这些分类特征编码之后，你就可以和之前一样拟合 `Scikit-Learn` 模型了。  \n",
    "如果要看每一列的含义，可以用下面的代码查看特征名称："
   ]
  },
  {
   "cell_type": "code",
   "execution_count": 4,
   "id": "08244b28-e29c-400e-bb0c-74c455366e4e",
   "metadata": {},
   "outputs": [
    {
     "data": {
      "text/plain": [
       "array(['neighborhood=Fremont', 'neighborhood=Queen Anne',\n",
       "       'neighborhood=Wallingford', 'price', 'rooms'], dtype=object)"
      ]
     },
     "execution_count": 4,
     "metadata": {},
     "output_type": "execute_result"
    }
   ],
   "source": [
    "# FutureWarning: Function get_feature_names is deprecated; get_feature_names is deprecated in 1.0 and will be removed in 1.2. Please use get_feature_names_out instead.\n",
    "# vec.get_feature_names()\n",
    "vec.get_feature_names_out()"
   ]
  },
  {
   "cell_type": "markdown",
   "id": "bbf0e9ef-b78b-457f-9ffe-614469f9a819",
   "metadata": {},
   "source": [
    "但这种方法也有一个显著的缺陷：如果你的分类特征有许多枚举值，那么数据集的维度就会**急剧**增加。然而，由于被编码的数据中有许多 `0`，因此用稀疏矩阵表示会非常高效："
   ]
  },
  {
   "cell_type": "code",
   "execution_count": 5,
   "id": "b62e9c69-6e65-4af7-8ec2-883ebbdc896c",
   "metadata": {
    "tags": []
   },
   "outputs": [
    {
     "data": {
      "text/plain": [
       "<4x5 sparse matrix of type '<class 'numpy.int64'>'\n",
       "\twith 12 stored elements in Compressed Sparse Row format>"
      ]
     },
     "execution_count": 5,
     "metadata": {},
     "output_type": "execute_result"
    }
   ],
   "source": [
    "vec = DictVectorizer(sparse=True, dtype=int)\n",
    "vec.fit_transform(data)"
   ]
  },
  {
   "cell_type": "markdown",
   "id": "d5df6030-7a8f-4c08-b70f-1b805484d064",
   "metadata": {},
   "source": [
    "在拟合和评估模型时，`Scikit-Learn` 的许多（并非所有）评估器都支持稀疏矩阵输入。  \n",
    "`sklearn.preprocessing.OneHotEncoder` 和 `sklearn.feature_extraction.FeatureHasher` 是 `Scikit-Learn` 另外两个为分类特征编码的工具。"
   ]
  },
  {
   "cell_type": "markdown",
   "id": "f82e9192-f8ba-4a10-bb6e-923ea6cc6b84",
   "metadata": {},
   "source": [
    "## 2. 文本特征"
   ]
  },
  {
   "cell_type": "markdown",
   "id": "a71bd193-46b5-43a5-910b-92ebd9115f7a",
   "metadata": {},
   "source": [
    "另一种常见的特征工程需求是将文本转换成一组数值。  \n",
    "例如，绝大多数社交媒体数据的自动化采集，都是依靠将文本编码成数字的技术手段。  \n",
    "数据采集最简单的编码方法之一就是**单词统计**：给你几个文本，让你统计每个词出现的次数，然后放到表格中。"
   ]
  },
  {
   "cell_type": "code",
   "execution_count": 6,
   "id": "a203bca2-3f12-4910-8bea-0e7c72f0c553",
   "metadata": {},
   "outputs": [],
   "source": [
    "sample = ['problem of evil',\n",
    "          'evil queen',\n",
    "          'horizon problem']"
   ]
  },
  {
   "cell_type": "markdown",
   "id": "0cc66690-7028-463c-8012-cb1bea9e12db",
   "metadata": {},
   "source": [
    "面对单词统计的数据向量化问题时，可以创建一个列来表示单词“problem”、单词“evil”和单词“horizon”等。  \n",
    "虽然手动做也可以，但是用 `Scikit-Learn` 的 `CountVectorizer` 更是可以轻松实现："
   ]
  },
  {
   "cell_type": "code",
   "execution_count": 7,
   "id": "d0d218be-c316-49ad-a052-34916d0080cc",
   "metadata": {},
   "outputs": [
    {
     "data": {
      "text/plain": [
       "<3x5 sparse matrix of type '<class 'numpy.int64'>'\n",
       "\twith 7 stored elements in Compressed Sparse Row format>"
      ]
     },
     "execution_count": 7,
     "metadata": {},
     "output_type": "execute_result"
    }
   ],
   "source": [
    "from sklearn.feature_extraction.text import CountVectorizer\n",
    "\n",
    "vec = CountVectorizer()\n",
    "X = vec.fit_transform(sample)\n",
    "X"
   ]
  },
  {
   "cell_type": "markdown",
   "id": "4d4c3d80-e0ba-46e0-95c6-7e9f9f3eeb54",
   "metadata": {},
   "source": [
    "结果是一个稀疏矩阵，里面记录了每个短语中每个单词的出现次数。如果用带列标签的 `DataFrame` 来表示这个稀疏矩阵就更方便了："
   ]
  },
  {
   "cell_type": "code",
   "execution_count": 8,
   "id": "235793c3-cbea-435f-b950-b4340f35fbae",
   "metadata": {},
   "outputs": [
    {
     "data": {
      "text/html": [
       "<div>\n",
       "<style scoped>\n",
       "    .dataframe tbody tr th:only-of-type {\n",
       "        vertical-align: middle;\n",
       "    }\n",
       "\n",
       "    .dataframe tbody tr th {\n",
       "        vertical-align: top;\n",
       "    }\n",
       "\n",
       "    .dataframe thead th {\n",
       "        text-align: right;\n",
       "    }\n",
       "</style>\n",
       "<table border=\"1\" class=\"dataframe\">\n",
       "  <thead>\n",
       "    <tr style=\"text-align: right;\">\n",
       "      <th></th>\n",
       "      <th>evil</th>\n",
       "      <th>horizon</th>\n",
       "      <th>of</th>\n",
       "      <th>problem</th>\n",
       "      <th>queen</th>\n",
       "    </tr>\n",
       "  </thead>\n",
       "  <tbody>\n",
       "    <tr>\n",
       "      <th>0</th>\n",
       "      <td>1</td>\n",
       "      <td>0</td>\n",
       "      <td>1</td>\n",
       "      <td>1</td>\n",
       "      <td>0</td>\n",
       "    </tr>\n",
       "    <tr>\n",
       "      <th>1</th>\n",
       "      <td>1</td>\n",
       "      <td>0</td>\n",
       "      <td>0</td>\n",
       "      <td>0</td>\n",
       "      <td>1</td>\n",
       "    </tr>\n",
       "    <tr>\n",
       "      <th>2</th>\n",
       "      <td>0</td>\n",
       "      <td>1</td>\n",
       "      <td>0</td>\n",
       "      <td>1</td>\n",
       "      <td>0</td>\n",
       "    </tr>\n",
       "  </tbody>\n",
       "</table>\n",
       "</div>"
      ],
      "text/plain": [
       "   evil  horizon  of  problem  queen\n",
       "0     1        0   1        1      0\n",
       "1     1        0   0        0      1\n",
       "2     0        1   0        1      0"
      ]
     },
     "execution_count": 8,
     "metadata": {},
     "output_type": "execute_result"
    }
   ],
   "source": [
    "import pandas as pd\n",
    "\n",
    "# pd.DataFrame(X.toarray(), columns=vec.get_feature_names())  # FutureWarning: Function get_feature_names is deprecated;\n",
    "pd.DataFrame(X.toarray(), columns=vec.get_feature_names_out())"
   ]
  },
  {
   "cell_type": "markdown",
   "id": "65f20cec-841d-4808-bde9-0899d55377d7",
   "metadata": {},
   "source": [
    "不过这种统计方法也有一些问题：原始的单词统计会让一些常用词聚集太高的权重，在分类算法中这样并不合理。  \n",
    "解决这个问题的方法就是通过 **TF–IDF**（`term frequency–inverse document frequency`，词频逆文档频率），通过单词在文档中出现的频率来衡量其权重 。  \n",
    "计算这些特征的语法和之前的示例类似："
   ]
  },
  {
   "cell_type": "code",
   "execution_count": 9,
   "id": "5893a3cd-260a-4ccf-82ea-9a7de55b9bf0",
   "metadata": {},
   "outputs": [
    {
     "data": {
      "text/html": [
       "<div>\n",
       "<style scoped>\n",
       "    .dataframe tbody tr th:only-of-type {\n",
       "        vertical-align: middle;\n",
       "    }\n",
       "\n",
       "    .dataframe tbody tr th {\n",
       "        vertical-align: top;\n",
       "    }\n",
       "\n",
       "    .dataframe thead th {\n",
       "        text-align: right;\n",
       "    }\n",
       "</style>\n",
       "<table border=\"1\" class=\"dataframe\">\n",
       "  <thead>\n",
       "    <tr style=\"text-align: right;\">\n",
       "      <th></th>\n",
       "      <th>evil</th>\n",
       "      <th>horizon</th>\n",
       "      <th>of</th>\n",
       "      <th>problem</th>\n",
       "      <th>queen</th>\n",
       "    </tr>\n",
       "  </thead>\n",
       "  <tbody>\n",
       "    <tr>\n",
       "      <th>0</th>\n",
       "      <td>0.517856</td>\n",
       "      <td>0.000000</td>\n",
       "      <td>0.680919</td>\n",
       "      <td>0.517856</td>\n",
       "      <td>0.000000</td>\n",
       "    </tr>\n",
       "    <tr>\n",
       "      <th>1</th>\n",
       "      <td>0.605349</td>\n",
       "      <td>0.000000</td>\n",
       "      <td>0.000000</td>\n",
       "      <td>0.000000</td>\n",
       "      <td>0.795961</td>\n",
       "    </tr>\n",
       "    <tr>\n",
       "      <th>2</th>\n",
       "      <td>0.000000</td>\n",
       "      <td>0.795961</td>\n",
       "      <td>0.000000</td>\n",
       "      <td>0.605349</td>\n",
       "      <td>0.000000</td>\n",
       "    </tr>\n",
       "  </tbody>\n",
       "</table>\n",
       "</div>"
      ],
      "text/plain": [
       "       evil   horizon        of   problem     queen\n",
       "0  0.517856  0.000000  0.680919  0.517856  0.000000\n",
       "1  0.605349  0.000000  0.000000  0.000000  0.795961\n",
       "2  0.000000  0.795961  0.000000  0.605349  0.000000"
      ]
     },
     "execution_count": 9,
     "metadata": {},
     "output_type": "execute_result"
    }
   ],
   "source": [
    "from sklearn.feature_extraction.text import TfidfVectorizer\n",
    "\n",
    "vec = TfidfVectorizer()\n",
    "X = vec.fit_transform(sample)\n",
    "# pd.DataFrame(X.toarray(), columns=vec.get_feature_names())  # FutureWarning: Function get_feature_names is deprecated;\n",
    "pd.DataFrame(X.toarray(), columns=vec.get_feature_names_out())"
   ]
  },
  {
   "cell_type": "markdown",
   "id": "3868cd94-ae1a-4526-844d-68585b7e8f33",
   "metadata": {},
   "source": [
    "## 3. 图像特征"
   ]
  },
  {
   "cell_type": "markdown",
   "id": "6c0f7c4d-0a20-42ac-9d76-cdff003fa16b",
   "metadata": {},
   "source": [
    "机器学习还有一种常见需求，那就是对图像进行编码。我们在 5.2 节处理手写数字图像时使用的方法，是最简单的图像编码方法：用像素表示图像。但是在其他类型的任务中，这类方法可能不太合适。"
   ]
  },
  {
   "cell_type": "markdown",
   "id": "cbd39d61-05e7-4bfc-9e8c-37a13b00139e",
   "metadata": {},
   "source": [
    "## 4. 衍生特征"
   ]
  },
  {
   "cell_type": "markdown",
   "id": "1c521862-9203-4dd3-877b-df970f7884dc",
   "metadata": {},
   "source": [
    "还有一种有用的特征是输入特征经过数学变换衍生出来的新特征。我们在 5.3 节从输入数据中构造多项式特征时，曾经见过这类特征。  \n",
    "我们发现将一个线性回归转换成多项式回归时，并不是通过改变模型来实现，而是通过改变输入数据！  \n",
    "这种处理方式有时被称为**基函数回归**（`basis function regression`）。"
   ]
  },
  {
   "cell_type": "markdown",
   "id": "dd872817-8edd-4e0d-9bf7-33b21dc49597",
   "metadata": {},
   "source": [
    "例如，下面的数据显然不能用一条直线描述："
   ]
  },
  {
   "cell_type": "code",
   "execution_count": 10,
   "id": "a2faf9e5-377d-447d-8a1f-efe5c7d0b821",
   "metadata": {},
   "outputs": [
    {
     "data": {
      "text/plain": [
       "<matplotlib.collections.PathCollection at 0x7f27a69b86d8>"
      ]
     },
     "execution_count": 10,
     "metadata": {},
     "output_type": "execute_result"
    },
    {
     "data": {
      "image/png": "[encoded data removed]",
      "text/plain": [
       "<Figure size 432x288 with 1 Axes>"
      ]
     },
     "metadata": {
      "needs_background": "light"
     },
     "output_type": "display_data"
    }
   ],
   "source": [
    "%matplotlib inline\n",
    "import numpy as np\n",
    "import matplotlib.pyplot as plt\n",
    "\n",
    "x = np.array([1, 2, 3, 4, 5])\n",
    "y = np.array([4, 2, 1, 3, 7])\n",
    "plt.scatter(x, y)"
   ]
  },
  {
   "cell_type": "markdown",
   "id": "8a737514-487c-4863-b245-04c505033ac8",
   "metadata": {},
   "source": [
    "但是我们仍然用 `LinearRegression` 拟合出一条直线，并获得直线的最优解："
   ]
  },
  {
   "cell_type": "code",
   "execution_count": 11,
   "id": "c4127afe-2b77-44da-beb5-b021ca0e63d7",
   "metadata": {},
   "outputs": [
    {
     "data": {
      "text/plain": [
       "[<matplotlib.lines.Line2D at 0x7f27a697e438>]"
      ]
     },
     "execution_count": 11,
     "metadata": {},
     "output_type": "execute_result"
    },
    {
     "data": {
      "image/png": "[encoded data removed]",
      "text/plain": [
       "<Figure size 432x288 with 1 Axes>"
      ]
     },
     "metadata": {
      "needs_background": "light"
     },
     "output_type": "display_data"
    }
   ],
   "source": [
    "from sklearn.linear_model import LinearRegression\n",
    "\n",
    "X = x[:, np.newaxis]\n",
    "model = LinearRegression().fit(X, y)\n",
    "yfit = model.predict(X)\n",
    "plt.scatter(x, y)\n",
    "plt.plot(x, yfit)"
   ]
  },
  {
   "cell_type": "markdown",
   "id": "46ef0822-d170-48a5-bf8d-b3ea60620f91",
   "metadata": {},
   "source": [
    "很显然，我们需要用一个更复杂的模型来描述 `x` 与 `y` 的关系。可以对数据进行变换，并增加额外的特征来提升模型的复杂度。  \n",
    "例如，可以在数据中增加多项式特征："
   ]
  },
  {
   "cell_type": "code",
   "execution_count": 12,
   "id": "0793c948-a54d-4c0d-8d7b-862f063e4110",
   "metadata": {},
   "outputs": [
    {
     "name": "stdout",
     "output_type": "stream",
     "text": [
      "[[  1.   1.   1.]\n",
      " [  2.   4.   8.]\n",
      " [  3.   9.  27.]\n",
      " [  4.  16.  64.]\n",
      " [  5.  25. 125.]]\n"
     ]
    }
   ],
   "source": [
    "from sklearn.preprocessing import PolynomialFeatures\n",
    "\n",
    "poly = PolynomialFeatures(degree=3, include_bias=False)\n",
    "X2 = poly.fit_transform(X)\n",
    "print(X2)"
   ]
  },
  {
   "cell_type": "markdown",
   "id": "d6f51106-6e32-4898-a857-06d7bd2ecad8",
   "metadata": {},
   "source": [
    "在衍生特征矩阵中，第 1 列表示 `x`，第 2 列表示 `x`<sup>2</sup>，第 3 列表示 `x`<sup>3</sup>。  \n",
    "通过对这个扩展的输入矩阵计算线性回归，就可以获得更接近原始数据的结果了："
   ]
  },
  {
   "cell_type": "code",
   "execution_count": 13,
   "id": "fce8a95f-79c4-47b4-9be6-ce094dc6bc58",
   "metadata": {},
   "outputs": [
    {
     "data": {
      "text/plain": [
       "[<matplotlib.lines.Line2D at 0x7f27a4a1f470>]"
      ]
     },
     "execution_count": 13,
     "metadata": {},
     "output_type": "execute_result"
    },
    {
     "data": {
      "image/png": "[encoded data removed]",
      "text/plain": [
       "<Figure size 432x288 with 1 Axes>"
      ]
     },
     "metadata": {
      "needs_background": "light"
     },
     "output_type": "display_data"
    }
   ],
   "source": [
    "model = LinearRegression().fit(X2, y)\n",
    "yfit = model.predict(X2)\n",
    "plt.scatter(x, y)\n",
    "plt.plot(x, yfit)"
   ]
  },
  {
   "cell_type": "markdown",
   "id": "b10a0b40-58e9-4ec3-a666-7a9bb776bbc6",
   "metadata": {},
   "source": [
    "这种不通过改变模型，而是通过变换输入来改善模型效果的理念，正是许多更强大的机器学习方法的基础。  \n",
    "5.6 节介绍**基函数回归**时将详细介绍这个理念，它通常被认为是强大的**核方法**（`kernel method`，5.7 节将详细介绍）技术的驱动力之一。"
   ]
  },
  {
   "cell_type": "markdown",
   "id": "f67ea78e-296a-43c6-b225-4dce141912b3",
   "metadata": {},
   "source": [
    "## 5. 缺失值填充"
   ]
  },
  {
   "cell_type": "markdown",
   "id": "56059c5a-bc6b-46c4-a610-a00261bc4dbe",
   "metadata": {},
   "source": [
    "特征工程中还有一种常见需求是处理缺失值。例如，有如下一个数据集："
   ]
  },
  {
   "cell_type": "code",
   "execution_count": 14,
   "id": "311eb2d2-5406-4aad-af5a-37ed675934ab",
   "metadata": {},
   "outputs": [],
   "source": [
    "from numpy import nan\n",
    "\n",
    "X = np.array([[ nan, 0,   3  ],\n",
    "              [ 3,   7,   9  ],\n",
    "              [ 3,   5,   2  ],\n",
    "              [ 4,   nan, 6  ],\n",
    "              [ 8,   8,   1  ]])\n",
    "y = np.array([14, 16, -1,  8, -5])"
   ]
  },
  {
   "cell_type": "markdown",
   "id": "0543736b-15ea-4292-a2f0-48a84744fe44",
   "metadata": {},
   "source": [
    "当将一个普通的机器学习模型应用到这份数据时，首先需要用适当的值替换这些缺失数据。  \n",
    "这个操作被称为缺失值**填充**，相应的策略很多，有的简单（例如用列均值替换缺失值），有的复杂（例如用矩阵填充或其他模型来处理缺失值）。  \n",
    "复杂方法在不同的应用中各不相同，这里不再深入介绍。对于一般的填充方法，如均值、中位数、众数，`Scikit-Learn` 有 `Imputer` 类可以实现："
   ]
  },
  {
   "cell_type": "code",
   "execution_count": 15,
   "id": "96909767-92e2-48ff-bebb-700a14e91f40",
   "metadata": {},
   "outputs": [
    {
     "data": {
      "text/plain": [
       "array([[4.5, 0. , 3. ],\n",
       "       [3. , 7. , 9. ],\n",
       "       [3. , 5. , 2. ],\n",
       "       [4. , 5. , 6. ],\n",
       "       [8. , 8. , 1. ]])"
      ]
     },
     "execution_count": 15,
     "metadata": {},
     "output_type": "execute_result"
    }
   ],
   "source": [
    "# from sklearn.preprocessing import Imputer  # ImportError: cannot import name 'Imputer' from 'sklearn.preprocessing'\n",
    "from sklearn.impute import SimpleImputer\n",
    "\n",
    "# imp = Imputer(strategy='mean')\n",
    "imp = SimpleImputer(strategy='mean')\n",
    "X2 = imp.fit_transform(X)\n",
    "X2"
   ]
  },
  {
   "cell_type": "markdown",
   "id": "0c8d924b-d632-4b1c-a303-bdf7f0550119",
   "metadata": {},
   "source": [
    "我们会发现，结果矩阵中的两处缺失值都被所在列剩余数据的均值替代了。这个被填充的数据就可以直接放到评估器里训练了，例如 `LinearRegression` 评估器："
   ]
  },
  {
   "cell_type": "code",
   "execution_count": 16,
   "id": "b6851b3f-6ecd-4b51-ab27-af70b0f0cc46",
   "metadata": {},
   "outputs": [
    {
     "data": {
      "text/plain": [
       "array([13.14869292, 14.3784627 , -1.15539732, 10.96606197, -5.33782027])"
      ]
     },
     "execution_count": 16,
     "metadata": {},
     "output_type": "execute_result"
    }
   ],
   "source": [
    "model = LinearRegression().fit(X2, y)\n",
    "model.predict(X2)"
   ]
  },
  {
   "cell_type": "markdown",
   "id": "0a0be401-8609-40b5-b233-ccd2e74eee40",
   "metadata": {},
   "source": [
    "## 6. 特征管道"
   ]
  },
  {
   "cell_type": "markdown",
   "id": "8ce1cd30-8fef-445a-ac03-a174835348a5",
   "metadata": {},
   "source": [
    "如果经常需要手动应用前文介绍的任意一种方法，你很快就会感到厌倦，尤其是当你需要将多个步骤串起来使用时。  \n",
    "例如，我们可能需要对一些数据做如下操作。\n",
    "1. 用均值填充缺失值。\n",
    "2. 将衍生特征转换为二次方。\n",
    "3. 拟合线性回归模型。\n",
    "\n",
    "为了实现这种管道处理过程，`Scikit-Learn` 提供了一个管道对象，如下所示："
   ]
  },
  {
   "cell_type": "code",
   "execution_count": 17,
   "id": "ed5fc78f-8f3d-4bb1-997e-d609281ccb52",
   "metadata": {},
   "outputs": [],
   "source": [
    "from sklearn.pipeline import make_pipeline\n",
    "\n",
    "# model = make_pipeline(Imputer(strategy='mean'), PolynomialFeatures(degree=2), LinearRegression())\n",
    "model = make_pipeline(SimpleImputer(strategy='mean'), PolynomialFeatures(degree=2), LinearRegression())"
   ]
  },
  {
   "cell_type": "markdown",
   "id": "b7746ad7-73d6-405c-9df7-8cf88dacba4a",
   "metadata": {},
   "source": [
    "这个管道看起来就像一个标准的 `Scikit-Learn` 对象，可以对任何输入数据进行所有步骤的处理："
   ]
  },
  {
   "cell_type": "code",
   "execution_count": 18,
   "id": "e673f201-d35d-421a-89e0-e94bcc71c344",
   "metadata": {},
   "outputs": [
    {
     "name": "stdout",
     "output_type": "stream",
     "text": [
      "[14 16 -1  8 -5]\n",
      "[14. 16. -1.  8. -5.]\n"
     ]
    }
   ],
   "source": [
    "model.fit(X, y)  # 和上面一样，X带有缺失值\n",
    "print(y)\n",
    "print(model.predict(X))"
   ]
  },
  {
   "cell_type": "markdown",
   "id": "438e3b52-cb1c-4afd-b018-2f3037a932ec",
   "metadata": {},
   "source": [
    "这样的话，所有的步骤都会自动完成。请注意，出于简化演示考虑，将模型应用到已经训练过的数据上，模型能够非常完美地预测结果。"
   ]
  },
  {
   "cell_type": "code",
   "execution_count": null,
   "id": "b721717e-6585-4dd2-b0ba-7bc743ece3e1",
   "metadata": {},
   "outputs": [],
   "source": []
  }
 ],
 "metadata": {
  "kernelspec": {
   "display_name": "Python 3 (ipykernel)",
   "language": "python",
   "name": "python3"
  },
  "language_info": {
   "codemirror_mode": {
    "name": "ipython",
    "version": 3
   },
   "file_extension": ".py",
   "mimetype": "text/x-python",
   "name": "python",
   "nbconvert_exporter": "python",
   "pygments_lexer": "ipython3",
   "version": "3.7.3"
  }
 },
 "nbformat": 4,
 "nbformat_minor": 5
}
