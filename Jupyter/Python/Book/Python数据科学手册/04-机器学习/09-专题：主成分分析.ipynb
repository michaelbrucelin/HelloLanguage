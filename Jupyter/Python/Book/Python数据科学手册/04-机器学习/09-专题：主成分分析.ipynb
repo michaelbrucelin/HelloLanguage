{
 "cells": [
  {
   "cell_type": "markdown",
   "id": "51a600d3-e6a9-4c73-b7f8-9487a31b3391",
   "metadata": {},
   "source": [
    "# 专题：主成分分析"
   ]
  },
  {
   "cell_type": "code",
   "execution_count": null,
   "id": "5ea17272-f8f5-43ed-bc0f-1e22550ab11d",
   "metadata": {},
   "outputs": [],
   "source": []
  }
 ],
 "metadata": {
  "kernelspec": {
   "display_name": "Python 3 (ipykernel)",
   "language": "python",
   "name": "python3"
  },
  "language_info": {
   "codemirror_mode": {
    "name": "ipython",
    "version": 3
   },
   "file_extension": ".py",
   "mimetype": "text/x-python",
   "name": "python",
   "nbconvert_exporter": "python",
   "pygments_lexer": "ipython3",
   "version": "3.7.3"
  }
 },
 "nbformat": 4,
 "nbformat_minor": 5
}
