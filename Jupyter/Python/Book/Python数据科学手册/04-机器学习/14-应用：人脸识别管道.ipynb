{
 "cells": [
  {
   "cell_type": "markdown",
   "id": "da06aaf1-284e-4b7d-89b2-b59c14e99cfb",
   "metadata": {},
   "source": [
    "# 应用：人脸识别管道"
   ]
  },
  {
   "cell_type": "code",
   "execution_count": null,
   "id": "5e6ef76f-3e26-4dc6-b95f-e96392cd7064",
   "metadata": {},
   "outputs": [],
   "source": []
  }
 ],
 "metadata": {
  "kernelspec": {
   "display_name": "Python 3 (ipykernel)",
   "language": "python",
   "name": "python3"
  },
  "language_info": {
   "codemirror_mode": {
    "name": "ipython",
    "version": 3
   },
   "file_extension": ".py",
   "mimetype": "text/x-python",
   "name": "python",
   "nbconvert_exporter": "python",
   "pygments_lexer": "ipython3",
   "version": "3.7.3"
  }
 },
 "nbformat": 4,
 "nbformat_minor": 5
}
