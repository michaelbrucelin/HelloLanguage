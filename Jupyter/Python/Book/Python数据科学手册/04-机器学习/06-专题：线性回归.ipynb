{
 "cells": [
  {
   "cell_type": "markdown",
   "id": "44daca9c-5dd1-44bc-988c-fc03f6186bb9",
   "metadata": {},
   "source": [
    "# 专题：线性回归"
   ]
  },
  {
   "cell_type": "markdown",
   "id": "312d2c5b-2bc5-4ce5-9505-0bf584ea1d06",
   "metadata": {},
   "source": [
    "如果说朴素贝叶斯是解决分类任务的好起点，那么线性回归模型就是解决回归任务的好起点。这些模型之所以大受欢迎，是因为它们的拟合速度非常快，而且很容易解释。  \n",
    "你可能对线性回归模型最简单的形式（即对数据拟合一条直线）已经很熟悉了，不过经过扩展，这些模型可以对更复杂的数据行为进行建模。  \n",
    "本节将先快速直观地介绍线性回归问题背后的数学基础知识，然后介绍如何对线性回归模型进行一般化处理，使其能够解决数据中更复杂的模式。"
   ]
  },
  {
   "cell_type": "code",
   "execution_count": 1,
   "id": "b373e372-e384-4f6c-ba18-b939b85cfba7",
   "metadata": {},
   "outputs": [],
   "source": [
    "%matplotlib inline\n",
    "import matplotlib.pyplot as plt\n",
    "import seaborn as sns; sns.set()\n",
    "import numpy as np"
   ]
  },
  {
   "cell_type": "markdown",
   "id": "591643cf-1a0a-411f-bfeb-1b5d9e28f7a7",
   "metadata": {},
   "source": [
    "## 1. 简单线性回归"
   ]
  },
  {
   "cell_type": "markdown",
   "id": "3eb3b0ac-df22-4334-9468-084ee5022a96",
   "metadata": {},
   "source": [
    "首先来介绍最广为人知的线性回归模型——将数据拟合成一条直线。直线拟合的模型方程为 `y = ax + b`，其中 `a` 是直线**斜率**，`b` 是直线**截距**。  \n",
    "看看下面的数据，它们是从斜率为 `2`、截距为 `-5` 的直线中抽取的散点，如下图所示："
   ]
  },
  {
   "cell_type": "code",
   "execution_count": 2,
   "id": "1932c738-ca25-474d-acc9-3efbe2358a40",
   "metadata": {},
   "outputs": [
    {
     "data": {
      "text/plain": [
       "<matplotlib.collections.PathCollection at 0x7f3b1f6ff438>"
      ]
     },
     "execution_count": 2,
     "metadata": {},
     "output_type": "execute_result"
    },
    {
     "data": {
      "image/png": "[encoded data removed]",
      "text/plain": [
       "<Figure size 432x288 with 1 Axes>"
      ]
     },
     "metadata": {},
     "output_type": "display_data"
    }
   ],
   "source": [
    "rng = np.random.RandomState(1)\n",
    "x = 10 * rng.rand(50)\n",
    "y = 2 * x - 5 + rng.randn(50)\n",
    "plt.scatter(x, y)"
   ]
  },
  {
   "cell_type": "code",
   "execution_count": null,
   "id": "2aac9f2b-5e0a-4823-a625-3438dbc1e5b2",
   "metadata": {},
   "outputs": [],
   "source": []
  }
 ],
 "metadata": {
  "kernelspec": {
   "display_name": "Python 3 (ipykernel)",
   "language": "python",
   "name": "python3"
  },
  "language_info": {
   "codemirror_mode": {
    "name": "ipython",
    "version": 3
   },
   "file_extension": ".py",
   "mimetype": "text/x-python",
   "name": "python",
   "nbconvert_exporter": "python",
   "pygments_lexer": "ipython3",
   "version": "3.7.3"
  }
 },
 "nbformat": 4,
 "nbformat_minor": 5
}
