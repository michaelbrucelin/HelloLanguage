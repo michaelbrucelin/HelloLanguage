{
 "cells": [
  {
   "cell_type": "markdown",
   "id": "2d5b5be3-78b2-453f-a6cc-bef9d38e1eab",
   "metadata": {},
   "source": [
    "# Scikit-Learn简介"
   ]
  },
  {
   "cell_type": "markdown",
   "id": "6706ea9d-b87c-4528-aaa5-7ecdd1e570a1",
   "metadata": {},
   "source": [
    "目前，`Python` 有不少可以实现各种机器学习算法的程序库。  \n",
    "`Scikit-Learn`（<http://scikit-learn.org>）是最流行的程序包之一，它为各种常用机器学习算法提供了高效版本。  \n",
    "`Scikit-Learn` 不仅因其干净、统一、管道命令式的 `API` 而独具特色，而且它的在线文档又实用、又完整。  \n",
    "这种统一性的好处是，只要你掌握了 `Scikit-Learn` 一种模型的基本用法和语法，就可以非常平滑地过渡到新的模型或算法上。"
   ]
  },
  {
   "cell_type": "markdown",
   "id": "f42b259f-26e7-4bbd-a090-2da10e7bc377",
   "metadata": {},
   "source": [
    "## 1. Scikit-Learn的数据表示"
   ]
  },
  {
   "cell_type": "markdown",
   "id": "7cf9e83f-61be-4e8f-b7a0-0d82a357c4bd",
   "metadata": {},
   "source": [
    "机器学习是从数据创建模型的学问，因此你首先需要了解怎样表示数据才能让计算机理解。`Scikit-Learn` 认为数据表示最好的方法就是用数据表的形式。"
   ]
  },
  {
   "cell_type": "markdown",
   "id": "2b1fa887-3f70-4ad9-b77e-734ff89af37d",
   "metadata": {},
   "source": [
    "### 1.1. 数据表"
   ]
  },
  {
   "cell_type": "markdown",
   "id": "0c736af8-5dff-411f-bb79-5cb53435c89f",
   "metadata": {},
   "source": [
    "基本的数据表就是二维网格数据，其中的每一行表示数据集中的每个样本，而列表示构成每个样本的相关特征。  \n",
    "例如 Ronald Fisher 在 1936 年对鸢尾花数据集（<https://en.wikipedia.org/wiki/Iris_flower_data_set>）的经典分析。"
   ]
  },
  {
   "cell_type": "code",
   "execution_count": 1,
   "id": "33c3c879-70e8-4391-8ffd-fab6c473aac9",
   "metadata": {},
   "outputs": [
    {
     "data": {
      "text/html": [
       "<div>\n",
       "<style scoped>\n",
       "    .dataframe tbody tr th:only-of-type {\n",
       "        vertical-align: middle;\n",
       "    }\n",
       "\n",
       "    .dataframe tbody tr th {\n",
       "        vertical-align: top;\n",
       "    }\n",
       "\n",
       "    .dataframe thead th {\n",
       "        text-align: right;\n",
       "    }\n",
       "</style>\n",
       "<table border=\"1\" class=\"dataframe\">\n",
       "  <thead>\n",
       "    <tr style=\"text-align: right;\">\n",
       "      <th></th>\n",
       "      <th>sepal_length</th>\n",
       "      <th>sepal_width</th>\n",
       "      <th>petal_length</th>\n",
       "      <th>petal_width</th>\n",
       "      <th>species</th>\n",
       "    </tr>\n",
       "  </thead>\n",
       "  <tbody>\n",
       "    <tr>\n",
       "      <th>0</th>\n",
       "      <td>5.1</td>\n",
       "      <td>3.5</td>\n",
       "      <td>1.4</td>\n",
       "      <td>0.2</td>\n",
       "      <td>setosa</td>\n",
       "    </tr>\n",
       "    <tr>\n",
       "      <th>1</th>\n",
       "      <td>4.9</td>\n",
       "      <td>3.0</td>\n",
       "      <td>1.4</td>\n",
       "      <td>0.2</td>\n",
       "      <td>setosa</td>\n",
       "    </tr>\n",
       "    <tr>\n",
       "      <th>2</th>\n",
       "      <td>4.7</td>\n",
       "      <td>3.2</td>\n",
       "      <td>1.3</td>\n",
       "      <td>0.2</td>\n",
       "      <td>setosa</td>\n",
       "    </tr>\n",
       "    <tr>\n",
       "      <th>3</th>\n",
       "      <td>4.6</td>\n",
       "      <td>3.1</td>\n",
       "      <td>1.5</td>\n",
       "      <td>0.2</td>\n",
       "      <td>setosa</td>\n",
       "    </tr>\n",
       "    <tr>\n",
       "      <th>4</th>\n",
       "      <td>5.0</td>\n",
       "      <td>3.6</td>\n",
       "      <td>1.4</td>\n",
       "      <td>0.2</td>\n",
       "      <td>setosa</td>\n",
       "    </tr>\n",
       "  </tbody>\n",
       "</table>\n",
       "</div>"
      ],
      "text/plain": [
       "   sepal_length  sepal_width  petal_length  petal_width species\n",
       "0           5.1          3.5           1.4          0.2  setosa\n",
       "1           4.9          3.0           1.4          0.2  setosa\n",
       "2           4.7          3.2           1.3          0.2  setosa\n",
       "3           4.6          3.1           1.5          0.2  setosa\n",
       "4           5.0          3.6           1.4          0.2  setosa"
      ]
     },
     "execution_count": 1,
     "metadata": {},
     "output_type": "execute_result"
    }
   ],
   "source": [
    "import seaborn as sns\n",
    "iris = sns.load_dataset('iris')  # 数据已经保存在../data/seaborn_iris.csv\n",
    "iris.head()"
   ]
  },
  {
   "cell_type": "markdown",
   "id": "f775bcdd-9b85-46c6-9ca0-a35d166a5bdf",
   "metadata": {},
   "source": [
    "其中的每行数据表示每朵被观察的鸢尾花，行数表示数据集中记录的鸢尾花总数。一般情况下，会将这个矩阵的行称为**样本**（`samples`），行数记为 `n_samples`。  \n",
    "同样，每列数据表示每个样本某个特征的量化值。一般情况下，会将矩阵的列称为**特征**（`features`），列数记为 `n_features`。"
   ]
  },
  {
   "cell_type": "markdown",
   "id": "7aafdf86-4304-4e55-aa08-9be9f84199e6",
   "metadata": {},
   "source": [
    "### 1.2. 特征矩阵"
   ]
  },
  {
   "cell_type": "markdown",
   "id": "2fbc390d-2ae1-464e-8f36-44147e2de6c7",
   "metadata": {},
   "source": [
    "这个表格布局通过二维数组或矩阵的形式将信息清晰地表达出来，所以我们通常把这类矩阵称为 特征矩阵（`features matrix`）。特征矩阵通常被简记为变量 X。它是维度为 [n_samples,\n",
    "n_features] 的二维矩阵，通常可以用 NumPy 数组或 Pandas 的\n",
    "DataFrame 来表示，不过 Scikit-Learn 也支持 SciPy 的稀疏矩阵。\n",
    "样本（即每一行）通常是指数据集中的每个对象。例如，样本可能\n",
    "是一朵花、一个人、一篇文档、一幅图像，或者一首歌、一部影\n",
    "片、一个天体，甚至是任何可以通过一组量化方法进行测量的实\n",
    "体。\n",
    "特征（即每一列）通常是指每个样本都具有的某种量化观测值。一\n",
    "般情况下，特征都是实数，但有时也可能是布尔类型或者离散值。"
   ]
  },
  {
   "cell_type": "markdown",
   "id": "77afeee5-f4b1-4e2d-aac1-f9a9866582ae",
   "metadata": {},
   "source": [
    "### 1.3. 目标数组"
   ]
  },
  {
   "cell_type": "code",
   "execution_count": null,
   "id": "516f752f-87f6-4ea5-968d-1f91f476c3d1",
   "metadata": {},
   "outputs": [],
   "source": []
  }
 ],
 "metadata": {
  "kernelspec": {
   "display_name": "Python 3 (ipykernel)",
   "language": "python",
   "name": "python3"
  },
  "language_info": {
   "codemirror_mode": {
    "name": "ipython",
    "version": 3
   },
   "file_extension": ".py",
   "mimetype": "text/x-python",
   "name": "python",
   "nbconvert_exporter": "python",
   "pygments_lexer": "ipython3",
   "version": "3.7.3"
  }
 },
 "nbformat": 4,
 "nbformat_minor": 5
}
