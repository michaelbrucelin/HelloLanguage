{
 "cells": [
  {
   "cell_type": "markdown",
   "id": "931bcfdf-8272-47a5-8a5d-59da8b287cd6",
   "metadata": {},
   "source": [
    "# 超参数与模型验证"
   ]
  },
  {
   "cell_type": "markdown",
   "id": "32246e68-1f84-4f2f-9282-6383af75773c",
   "metadata": {},
   "source": [
    "在上一节中，我们介绍了有监督机器学习模型的基本步骤：\n",
    "1. 选择模型类；\n",
    "2. 选择模型超参数；\n",
    "3. 用模型拟合训练数据；\n",
    "4. 用模型预测新数据的标签。\n",
    "\n",
    "前两步——模型选择和超参数选择——可能是有效使用各种机器学习工具和技术的最重要阶段。为了作出正确的选择，我们需要一种方式来验证选中的模型和超参数是否可以很好地拟合数据。  \n",
    "这看起来是很简单，但要顺利地完成必须避过很多坑。"
   ]
  },
  {
   "cell_type": "markdown",
   "id": "9f0ce735-d83b-48fa-941a-1023112d10fa",
   "metadata": {},
   "source": [
    "## 1. 什么是模型验证"
   ]
  },
  {
   "cell_type": "code",
   "execution_count": null,
   "id": "f2b7c2d8-a761-4b7b-84ed-8f81d535dc0f",
   "metadata": {},
   "outputs": [],
   "source": []
  },
  {
   "cell_type": "markdown",
   "id": "097ec36c-33df-47e6-89df-1d9c06a00b80",
   "metadata": {},
   "source": [
    "### 1.1. 错误的模型验证方法"
   ]
  },
  {
   "cell_type": "code",
   "execution_count": null,
   "id": "c7c5dd44-1fd6-4e09-bcc0-cfac4f5f053d",
   "metadata": {},
   "outputs": [],
   "source": []
  },
  {
   "cell_type": "markdown",
   "id": "3c722572-2418-45e2-b1d7-8049f62e1dba",
   "metadata": {},
   "source": [
    "### 1.2. 模型验证正确方法：留出集"
   ]
  },
  {
   "cell_type": "code",
   "execution_count": null,
   "id": "defefc69-9cc9-46c2-b105-35121e3c7352",
   "metadata": {},
   "outputs": [],
   "source": []
  },
  {
   "cell_type": "markdown",
   "id": "a75b81eb-b34b-43bc-8f13-cef6b5a67e1f",
   "metadata": {},
   "source": [
    "### 1.3. 交叉检验"
   ]
  },
  {
   "cell_type": "code",
   "execution_count": null,
   "id": "61867b76-9404-4a66-bd3b-6c43fae36935",
   "metadata": {},
   "outputs": [],
   "source": []
  },
  {
   "cell_type": "markdown",
   "id": "b949f44a-a545-4b36-96f6-0aac2e941d15",
   "metadata": {},
   "source": [
    "## 2. 选择最优模型"
   ]
  },
  {
   "cell_type": "code",
   "execution_count": null,
   "id": "4b3faea9-f705-42a8-b772-0a3086168e6c",
   "metadata": {},
   "outputs": [],
   "source": []
  },
  {
   "cell_type": "markdown",
   "id": "52b405a4-1cb2-4c15-b658-7eb70c9a35b5",
   "metadata": {},
   "source": [
    "### 2.1. 偏差与方差的均衡"
   ]
  },
  {
   "cell_type": "code",
   "execution_count": null,
   "id": "a64f4456-4ec1-433c-9db7-d3fc28961bf1",
   "metadata": {},
   "outputs": [],
   "source": []
  },
  {
   "cell_type": "markdown",
   "id": "df9da9de-7f5c-4d50-9a0e-9959d4353371",
   "metadata": {},
   "source": [
    "### 2.2. Scikit-Learn验证曲线"
   ]
  },
  {
   "cell_type": "code",
   "execution_count": null,
   "id": "6bc1bf82-b173-4b47-8f10-414241ece4d8",
   "metadata": {},
   "outputs": [],
   "source": []
  },
  {
   "cell_type": "markdown",
   "id": "1072031c-8c9c-4e76-8165-39d7ad9f3e2d",
   "metadata": {},
   "source": [
    "## 3. 学习曲线"
   ]
  },
  {
   "cell_type": "code",
   "execution_count": null,
   "id": "c55f3356-4914-4411-90a1-2df11f24f237",
   "metadata": {},
   "outputs": [],
   "source": []
  },
  {
   "cell_type": "markdown",
   "id": "0ef14563-4f74-4080-b0d8-644552858c4a",
   "metadata": {},
   "source": [
    "### 3.1. Scikit-Learn学习曲线"
   ]
  },
  {
   "cell_type": "code",
   "execution_count": null,
   "id": "bf5d4bb1-148d-4343-ac41-181036ea286c",
   "metadata": {},
   "outputs": [],
   "source": []
  },
  {
   "cell_type": "markdown",
   "id": "7c3cfe57-ec47-4ac2-bc34-1d4d0a5da7be",
   "metadata": {},
   "source": [
    "## 4. 验证实践：网格搜索"
   ]
  },
  {
   "cell_type": "code",
   "execution_count": null,
   "id": "ff00a884-4d29-4b0b-acb7-5c9d5aa07aed",
   "metadata": {},
   "outputs": [],
   "source": []
  }
 ],
 "metadata": {
  "kernelspec": {
   "display_name": "Python 3 (ipykernel)",
   "language": "python",
   "name": "python3"
  },
  "language_info": {
   "codemirror_mode": {
    "name": "ipython",
    "version": 3
   },
   "file_extension": ".py",
   "mimetype": "text/x-python",
   "name": "python",
   "nbconvert_exporter": "python",
   "pygments_lexer": "ipython3",
   "version": "3.7.3"
  }
 },
 "nbformat": 4,
 "nbformat_minor": 5
}
