{
 "cells": [
  {
   "cell_type": "markdown",
   "id": "931bcfdf-8272-47a5-8a5d-59da8b287cd6",
   "metadata": {},
   "source": [
    "# 超参数与模型验证"
   ]
  },
  {
   "cell_type": "code",
   "execution_count": null,
   "id": "244d9f49-d8db-45c2-9490-c83e18f81880",
   "metadata": {},
   "outputs": [],
   "source": []
  }
 ],
 "metadata": {
  "kernelspec": {
   "display_name": "Python 3 (ipykernel)",
   "language": "python",
   "name": "python3"
  },
  "language_info": {
   "codemirror_mode": {
    "name": "ipython",
    "version": 3
   },
   "file_extension": ".py",
   "mimetype": "text/x-python",
   "name": "python",
   "nbconvert_exporter": "python",
   "pygments_lexer": "ipython3",
   "version": "3.7.3"
  }
 },
 "nbformat": 4,
 "nbformat_minor": 5
}
