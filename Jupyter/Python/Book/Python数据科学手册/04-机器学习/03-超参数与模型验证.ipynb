{
 "cells": [
  {
   "cell_type": "markdown",
   "id": "931bcfdf-8272-47a5-8a5d-59da8b287cd6",
   "metadata": {},
   "source": [
    "# 超参数与模型验证"
   ]
  },
  {
   "cell_type": "markdown",
   "id": "32246e68-1f84-4f2f-9282-6383af75773c",
   "metadata": {},
   "source": [
    "在上一节中，我们介绍了有监督机器学习模型的基本步骤：\n",
    "1. 选择模型类；\n",
    "2. 选择模型超参数；\n",
    "3. 用模型拟合训练数据；\n",
    "4. 用模型预测新数据的标签。\n",
    "\n",
    "前两步——模型选择和超参数选择——可能是有效使用各种机器学习工具和技术的最重要阶段。为了作出正确的选择，我们需要一种方式来**验证**选中的模型和超参数是否可以很好地拟合数据。  \n",
    "这看起来是很简单，但要顺利地完成必须避过很多坑。"
   ]
  },
  {
   "cell_type": "markdown",
   "id": "9f0ce735-d83b-48fa-941a-1023112d10fa",
   "metadata": {},
   "source": [
    "## 1. 什么是模型验证"
   ]
  },
  {
   "cell_type": "markdown",
   "id": "67a28be7-6efe-4f10-8b7e-11bd02308476",
   "metadata": {},
   "source": [
    "模型验证（`model validation`）其实很简单，就是在选择模型和超参数之后，通过对训练数据进行学习，对比模型对已知数据的预测值与实际值的差异。  \n",
    "在下面的几节中，我们首先通过一个简单方法实现模型验证，告诉你为什么那样做行不通。之后，介绍如何用留出集（`holdout set`）与交叉检验（`cross-validation`）实现更可靠的模型验证。"
   ]
  },
  {
   "cell_type": "markdown",
   "id": "097ec36c-33df-47e6-89df-1d9c06a00b80",
   "metadata": {},
   "source": [
    "### 1.1. 错误的模型验证方法"
   ]
  },
  {
   "cell_type": "code",
   "execution_count": 1,
   "id": "c7c5dd44-1fd6-4e09-bcc0-cfac4f5f053d",
   "metadata": {},
   "outputs": [],
   "source": [
    "# 让我们再用前面介绍过的鸢尾花数据来演示一个简单的模型验证方法。首先加载数据：\n",
    "from sklearn.datasets import load_iris\n",
    "\n",
    "iris = load_iris()\n",
    "X = iris.data\n",
    "y = iris.target"
   ]
  },
  {
   "cell_type": "code",
   "execution_count": 2,
   "id": "ce63f733-c466-4914-8418-9af928b9447e",
   "metadata": {},
   "outputs": [],
   "source": [
    "# 然后选择模型和超参数。这里使用一个 k 近邻分类器，超参数为 n_neighbors=1。这是一个非常简单直观的模型，“新数据的标签与其最接近的训练数据的标签相同”：\n",
    "from sklearn.neighbors import KNeighborsClassifier\n",
    "\n",
    "model = KNeighborsClassifier(n_neighbors=1)"
   ]
  },
  {
   "cell_type": "code",
   "execution_count": 3,
   "id": "9b3e278e-0786-4bbf-8574-e1ccb3a1f697",
   "metadata": {},
   "outputs": [],
   "source": [
    "# 然后训练模型，并用它来预测已知标签的数据：\n",
    "model.fit(X, y)\n",
    "y_model = model.predict(X)"
   ]
  },
  {
   "cell_type": "code",
   "execution_count": 4,
   "id": "ac278aac-3d0c-4d86-b609-4dcead5ddd8c",
   "metadata": {},
   "outputs": [
    {
     "data": {
      "text/plain": [
       "1.0"
      ]
     },
     "execution_count": 4,
     "metadata": {},
     "output_type": "execute_result"
    }
   ],
   "source": [
    "# 最后，计算模型的准确率：\n",
    "from sklearn.metrics import accuracy_score\n",
    "\n",
    "accuracy_score(y, y_model)"
   ]
  },
  {
   "cell_type": "markdown",
   "id": "f69d7f71-5521-4152-8d36-a924b51cdcdb",
   "metadata": {},
   "source": [
    "准确得分是 `1.0`，也就是说模型识别标签的正确率是 `100%` ！但是这样测量的准确率可靠吗？我们真的有一个在任何时候准确率都是 `100%` 的模型吗？  \n",
    "你可能已经猜到了，答案是否定的。其实这个方法有个根本缺陷：**它用同一套数据训练和评估模型**。另外，最近邻模型是一种**与距离相关**的评估器，只会简单地存储训练数据，然后把新数据与存储的已知数据进行对比来预测标签。在理想情况下，模型的准确率**总是** `100%`。"
   ]
  },
  {
   "cell_type": "markdown",
   "id": "3c722572-2418-45e2-b1d7-8049f62e1dba",
   "metadata": {},
   "source": [
    "### 1.2. 模型验证正确方法：留出集"
   ]
  },
  {
   "cell_type": "markdown",
   "id": "908071b5-35a9-413e-9b42-4cc9a9587b0b",
   "metadata": {},
   "source": [
    "那怎么才能模型验证呢？其实**留出集**可以更好地评估模型性能，也就是说，先从训练模型的数据中留出一部分，然后用这部分留出来的数据来检验模型性能。  \n",
    "在 `Scikit-Learn` 里面用 `train_test_split` 工具就可以实现："
   ]
  },
  {
   "cell_type": "code",
   "execution_count": 5,
   "id": "ed4dde5c-a3de-4fed-b7ce-08e863bafae0",
   "metadata": {},
   "outputs": [
    {
     "data": {
      "text/plain": [
       "0.9066666666666666"
      ]
     },
     "execution_count": 5,
     "metadata": {},
     "output_type": "execute_result"
    }
   ],
   "source": [
    "# from sklearn.cross_validation import train_test_split  # ModuleNotFoundError: No module named 'sklearn.cross_validation'\n",
    "from sklearn.model_selection import train_test_split\n",
    "\n",
    "# 每个数据集分一半数据\n",
    "X1, X2, y1, y2 = train_test_split(X, y, random_state=0, train_size=0.5)\n",
    "\n",
    "# 用模型拟合训练数据\n",
    "model.fit(X1, y1)\n",
    "\n",
    "# 在测试集中评估模型准确率\n",
    "y2_model = model.predict(X2)\n",
    "accuracy_score(y2, y2_model)"
   ]
  },
  {
   "cell_type": "markdown",
   "id": "e90044ec-8730-4d4d-900c-fa756f1f5de1",
   "metadata": {},
   "source": [
    "这样就可以获得更合理的结果了：最近邻分类器在这份留出集上的准确率是 `90%`。这里的留出集类似新数据，因为模型之前没有“接触”过它们。"
   ]
  },
  {
   "cell_type": "markdown",
   "id": "a75b81eb-b34b-43bc-8f13-cef6b5a67e1f",
   "metadata": {},
   "source": [
    "### 1.3. 交叉检验"
   ]
  },
  {
   "cell_type": "markdown",
   "id": "385d5f78-b2ff-4e19-b43e-ff0885e32a47",
   "metadata": {},
   "source": [
    "用留出集进行模型验证有一个缺点，就是模型失去了一部分训练机会。在上面的模型中，有一半数据都没有为模型训练做出贡献。这显然不是最优解，而且可能还会出现问题——尤其是在训练数据集规模比较小的时候。  \n",
    "解决这个问题的方法是**交叉检验**，也就是做一组拟合，让数据的每个子集既是训练集，又是验证集。用图形来说明的话，就如下图所示。  \n",
    "![](../data/figures/05.03-2-fold-CV.png)"
   ]
  },
  {
   "cell_type": "code",
   "execution_count": 6,
   "id": "3fc46fbb-cecb-4c0d-bbc2-051519846f11",
   "metadata": {},
   "outputs": [
    {
     "data": {
      "text/plain": [
       "(0.96, 0.9066666666666666)"
      ]
     },
     "execution_count": 6,
     "metadata": {},
     "output_type": "execute_result"
    }
   ],
   "source": [
    "# 这里进行了两轮验证实验，轮流用一半数据作为留出集。如果还有前面的数据集，我们可以这样实现交叉检验：\n",
    "y2_model = model.fit(X1, y1).predict(X2)\n",
    "y1_model = model.fit(X2, y2).predict(X1)\n",
    "accuracy_score(y1, y1_model), accuracy_score(y2, y2_model)"
   ]
  },
  {
   "cell_type": "markdown",
   "id": "d643b14e-b0ba-4bef-816d-4c03ac8388c2",
   "metadata": {},
   "source": [
    "这样就可以获得两个准确率，将二者结合（例如求均值）获取一个更准确的模型总体性能。这种形式的交叉检验被称为**两轮交叉检验**——将数据集分成两个子集，依次将每个子集作为验证集。  \n",
    "可以通过扩展这个概念，在数据中实现更多轮的实验，例如下图是一个五轮交叉检验。  \n",
    "![](../data/figures/05.03-5-fold-CV.png)"
   ]
  },
  {
   "cell_type": "markdown",
   "id": "a79b92d1-ddb5-48d0-85dd-86ca18c17aad",
   "metadata": {},
   "source": [
    "把数据分成五组，每一轮依次用模型拟合其中的四组数据，再预测第五组数据，评估模型准确率。手动实现这些过程会很无聊，用 `Scikit-Learn` 的 `cross_val_score` 函数可以非常简便地实现："
   ]
  },
  {
   "cell_type": "code",
   "execution_count": 7,
   "id": "79668a32-afa8-4e6f-80ab-1c78d20e46a1",
   "metadata": {},
   "outputs": [
    {
     "data": {
      "text/plain": [
       "array([0.96666667, 0.96666667, 0.93333333, 0.93333333, 1.        ])"
      ]
     },
     "execution_count": 7,
     "metadata": {},
     "output_type": "execute_result"
    }
   ],
   "source": [
    "# from sklearn.cross_validation import cross_val_score # ModuleNotFoundError: No module named 'sklearn.cross_validation'\n",
    "from sklearn.model_selection import cross_val_score\n",
    "\n",
    "cross_val_score(model, X, y, cv=5)"
   ]
  },
  {
   "cell_type": "markdown",
   "id": "fc68828f-1106-4455-ab82-4396079a7246",
   "metadata": {},
   "source": [
    "对数据的不同子集重复进行交叉检验，可以让我们对算法的性能有更好的认识。"
   ]
  },
  {
   "cell_type": "markdown",
   "id": "061b2316-54ae-4c7b-bf03-ac2dea26b2d5",
   "metadata": {},
   "source": [
    "`Scikit-Learn` 为不同应用场景提供了各种交叉检验方法，都以迭代器（`iterator`）形式在 `cross_validation` 模块中实现。  \n",
    "例如，我们可能会遇到交叉检验的轮数与样本数相同的极端情况，也就是说我们每次只有一个样本做测试，其他样本全用于训练。  \n",
    "这种交叉检验类型被称为 **LOO**（`leave-one-out`，只留一个）交叉检验，具体用法如下："
   ]
  },
  {
   "cell_type": "code",
   "execution_count": 8,
   "id": "aeb1f4da-ab9a-4398-9d04-7447f99fd880",
   "metadata": {},
   "outputs": [
    {
     "data": {
      "text/plain": [
       "array([1., 1., 1., 1., 1., 1., 1., 1., 1., 1., 1., 1., 1., 1., 1., 1., 1.,\n",
       "       1., 1., 1., 1., 1., 1., 1., 1., 1., 1., 1., 1., 1., 1., 1., 1., 1.,\n",
       "       1., 1., 1., 1., 1., 1., 1., 1., 1., 1., 1., 1., 1., 1., 1., 1., 1.,\n",
       "       1., 1., 1., 1., 1., 1., 1., 1., 1., 1., 1., 1., 1., 1., 1., 1., 1.,\n",
       "       1., 1., 0., 1., 0., 1., 1., 1., 1., 1., 1., 1., 1., 1., 1., 0., 1.,\n",
       "       1., 1., 1., 1., 1., 1., 1., 1., 1., 1., 1., 1., 1., 1., 1., 1., 1.,\n",
       "       1., 1., 1., 1., 0., 1., 1., 1., 1., 1., 1., 1., 1., 1., 1., 1., 1.,\n",
       "       0., 1., 1., 1., 1., 1., 1., 1., 1., 1., 1., 1., 1., 1., 0., 1., 1.,\n",
       "       1., 1., 1., 1., 1., 1., 1., 1., 1., 1., 1., 1., 1., 1.])"
      ]
     },
     "execution_count": 8,
     "metadata": {},
     "output_type": "execute_result"
    }
   ],
   "source": [
    "# from sklearn.cross_validation import LeaveOneOut # ModuleNotFoundError: No module named 'sklearn.cross_validation'\n",
    "from sklearn.model_selection import LeaveOneOut\n",
    "\n",
    "# scores = cross_val_score(model, X, y, cv=LeaveOneOut(len(X))) # TypeError: LeaveOneOut() takes no arguments\n",
    "scores = cross_val_score(model, X, y, cv=LeaveOneOut())\n",
    "scores"
   ]
  },
  {
   "cell_type": "code",
   "execution_count": 9,
   "id": "a59eb397-8e54-44ac-8941-964406879d39",
   "metadata": {},
   "outputs": [
    {
     "data": {
      "text/plain": [
       "0.96"
      ]
     },
     "execution_count": 9,
     "metadata": {},
     "output_type": "execute_result"
    }
   ],
   "source": [
    "# 由于我们有 150 个样本，留一法交叉检验会生成 150 轮试验，每次试验的预测结果要么成功（得分 1.0），要么失败（得分 0.0）。计算所有试验准确率的均值就可以得到模型的预测准确性了：\n",
    "scores.mean()"
   ]
  },
  {
   "cell_type": "markdown",
   "id": "32cb2d74-4c69-4da7-979e-e58b7c0ec350",
   "metadata": {},
   "source": [
    "其他交叉检验机制的用法大同小异。"
   ]
  },
  {
   "cell_type": "markdown",
   "id": "b949f44a-a545-4b36-96f6-0aac2e941d15",
   "metadata": {},
   "source": [
    "## 2. 选择最优模型"
   ]
  },
  {
   "cell_type": "markdown",
   "id": "d9246b24-cdb0-43ef-9852-8a43bf747acc",
   "metadata": {},
   "source": [
    "现在已经介绍了验证与交叉检验的基础知识，让我们更进一步，看看如何选择模型和超参数。这是机器学习实践中最重要的部分，但是许多机器学习入门教程都一笔带过了这些内容。  \n",
    "关键问题是：**假如模型效果不好，应该如何改善？**答案可能有以下几种。\n",
    "- 用更复杂 / 更灵活的模型。\n",
    "- 用更简单 / 更确定的模型。\n",
    "- 采集更多的训练样本。\n",
    "- 为每个样本采集更多的特征。\n",
    "\n",
    "问题的答案往往与直觉相悖。换一种更复杂的模型有时可能产生更差的结果，增加更多的训练样本也未必能改善性能！改善模型能力的高低，是区分机器学习实践者成功与否的标志。"
   ]
  },
  {
   "cell_type": "markdown",
   "id": "52b405a4-1cb2-4c15-b658-7eb70c9a35b5",
   "metadata": {},
   "source": [
    "### 2.1. 偏差与方差的均衡"
   ]
  },
  {
   "cell_type": "markdown",
   "id": "86eca0d5-dfd2-41b5-b207-5db4e79da523",
   "metadata": {},
   "source": [
    "“最优模型”的问题基本可以看成是找出**偏差**与**方差**平衡点的问题。下图显示的是对同一数据集拟合的两种回归模型。  \n",
    "![](../data/figures/05.03-bias-variance.png)  \n",
    "显然，这两个模型拟合得都不是很好，但它们的问题却是不一样的。  \n",
    "左边的模型希望从数据中找到一条直线。但由于数据本质上比直线要复杂，直线永远不可能很好地描述这份数据。  \n",
    "这样的模型被认为是对数据**欠拟合**；也就是说，模型没有足够的灵活性来适应数据的所有特征。另一种说法就是模型具有高**偏差**。  \n",
    "右边的模型希望用高阶多项式拟合数据。虽然这个模型有足够的灵活性可以近乎完美地适应数据的所有特征，但与其说它是十分准确地描述了训练数据，不如说它是过多地学习了数据的噪音，而不是数据的本质属性。  \n",
    "这样的模型被认为是对数据**过拟合**，也就是模型过于灵活，在适应数据所有特征的同时，也适应了随机误差。另一种说法就是模型具有高**方差**。"
   ]
  },
  {
   "cell_type": "markdown",
   "id": "9a5e878c-f452-4d78-9bb4-b35c69894f45",
   "metadata": {},
   "source": [
    "现在再换个角度，如果用两个模型分别预测 `y` 轴的数据，看看是什么效果。在下图中，浅红色的点是被预测数据集遗漏的点。  \n",
    "![](../data/figures/05.03-bias-variance-2.png)  \n",
    "这个分数是 `R2`，也称为判定系数（<https://en.wikipedia.org/wiki/Coefficient_of_determination>），用来衡量模型与目标值均值的对比结果。  \n",
    "`R2 = 1` 表示模型与数据完全吻合，`R2 = 0` 表示模型不比简单取均值好，`R2` 为负表示模型性能很差。从这两个模型的得分可以得出两条一般性的结论。  \n",
    "- 对于高偏差模型，模型在验证集的表现与在训练集的表现类似。\n",
    "- 对于高方差模型，模型在验证集的表现远远不如在训练集的表现。"
   ]
  },
  {
   "cell_type": "markdown",
   "id": "eef8a119-9969-4792-875f-42852d3ba994",
   "metadata": {},
   "source": [
    "**如果我们有能力不断调整模型的复杂度，那么我们可能希望训练得分和验证得分如下图所示。**  \n",
    "下图通常被称为验证曲线，具有以下特征。  \n",
    "- 训练得分肯定高于验证得分。一般情况下，模型拟合自己接触过的数据，比拟合没接触过的数据效果要好。\n",
    "- 使用复杂度较低的模型（高偏差）时，训练数据往往欠拟合，说明模型对训练数据和新数据都缺乏预测能力。\n",
    "- 而使用复杂度较高的模型（高方差）时，训练数据往往过拟合，说明模型对训练数据预测能力很强，但是对新数据的预测能力很差。\n",
    "- 当使用复杂度适中的模型时，验证曲线得分最高。说明在该模型复杂度条件下，偏差与方差达到均衡状态。  \n",
    "![](../data/figures/05.03-validation-curve.png)"
   ]
  },
  {
   "cell_type": "markdown",
   "id": "1c0951a0-f05c-4c3f-bfb5-0dc80907859c",
   "metadata": {},
   "source": [
    "不同模型复杂度的调整方法大不相同。后文在深入介绍各种模型时，就会讲解每种模型的调整方法。"
   ]
  },
  {
   "cell_type": "markdown",
   "id": "df9da9de-7f5c-4d50-9a0e-9959d4353371",
   "metadata": {},
   "source": [
    "### 2.2. Scikit-Learn验证曲线"
   ]
  },
  {
   "cell_type": "markdown",
   "id": "0c07d23e-3d99-4e03-8ebc-f1d5c20ba905",
   "metadata": {},
   "source": [
    "下面来看一个例子，用交叉检验计算一个模型的验证曲线。这里用**多项式回归**模型，它是线性回归模型的一般形式，其多项式的次数是一个可调参数。  \n",
    "例如，多项式次数为 `1` 其实就是将数据拟合成一条直线。若模型有参数 `a` 和 `b`，则模型为：y = ax + b   \n",
    "多项式次数为 `3`，则是将数据拟合成一条三次曲线。若模型有参数 `a`、`b`、`c`、`d`，则模型为：y = ax<sup>3</sup> + bx<sup>2</sup> + cx +d  \n",
    "推而广之，就可以得到任意次数的多项式。  \n",
    "在 `Scikit-Learn` 中，可以用一个带多项式预处理器的简单线性回归模型实现。我们将用一个**管道命令**来组合这两种操作："
   ]
  },
  {
   "cell_type": "code",
   "execution_count": 10,
   "id": "e4d9bfee-7d20-4857-9565-7dd7fd4dbce0",
   "metadata": {},
   "outputs": [],
   "source": [
    "from sklearn.preprocessing import PolynomialFeatures\n",
    "from sklearn.linear_model import LinearRegression\n",
    "from sklearn.pipeline import make_pipeline\n",
    "\n",
    "def PolynomialRegression(degree=2, **kwargs):\n",
    "    return make_pipeline(PolynomialFeatures(degree), LinearRegression(**kwargs))"
   ]
  },
  {
   "cell_type": "code",
   "execution_count": 11,
   "id": "3aaa0456-4608-4731-a0ad-5edc4baa4098",
   "metadata": {},
   "outputs": [],
   "source": [
    "# 现在来创造一些数据给模型拟合：\n",
    "import numpy as np\n",
    "\n",
    "def make_data(N, err=1.0, rseed=1):\n",
    "    # 随机轴样数据\n",
    "    rng = np.random.RandomState(rseed)\n",
    "    X = rng.rand(N, 1) ** 2\n",
    "    y = 10 - 1. / (X.ravel() + 0.1)\n",
    "    if err > 0:\n",
    "        y += err * rng.randn(N)\n",
    "    return X, y\n",
    "\n",
    "X, y = make_data(40)"
   ]
  },
  {
   "cell_type": "code",
   "execution_count": 12,
   "id": "68d18f24-b1b7-4680-966c-7919926f150a",
   "metadata": {},
   "outputs": [
    {
     "data": {
      "text/plain": [
       "<matplotlib.legend.Legend at 0x7fead528fe48>"
      ]
     },
     "execution_count": 12,
     "metadata": {},
     "output_type": "execute_result"
    },
    {
     "data": {
      "image/png": "[encoded data removed]",
      "text/plain": [
       "<Figure size 432x288 with 1 Axes>"
      ]
     },
     "metadata": {},
     "output_type": "display_data"
    }
   ],
   "source": [
    "# 通过数据可视化，将不同次数的多项式拟合曲线画出来，如下图所示：\n",
    "%matplotlib inline\n",
    "import matplotlib.pyplot as plt\n",
    "import seaborn; seaborn.set()\n",
    "\n",
    "X_test = np.linspace(-0.1, 1.1, 500)[:, None]\n",
    "\n",
    "plt.scatter(X.ravel(), y, color='black')\n",
    "axis = plt.axis()\n",
    "for degree in [1, 3, 5]:\n",
    "    y_test = PolynomialRegression(degree).fit(X, y).predict(X_test)\n",
    "    plt.plot(X_test.ravel(), y_test, label='degree={0}'.format(degree))\n",
    "plt.xlim(-0.1, 1.0)\n",
    "plt.ylim(-2, 12)\n",
    "plt.legend(loc='best')"
   ]
  },
  {
   "cell_type": "markdown",
   "id": "cf9356a2-8cd9-4b68-b110-ea9c636a9ef7",
   "metadata": {},
   "source": [
    "这个例子中控制模型复杂度的关键是多项式的次数，它只要是非负整数就可以。那么问题来了：究竟多项式的次数是多少，才能在偏差（欠拟合）与方差（过拟合）间达到平衡？"
   ]
  },
  {
   "cell_type": "markdown",
   "id": "98dc6ea5-75b5-4de3-96fb-2392a93b11c6",
   "metadata": {},
   "source": [
    "我们可以通过可视化验证曲线来回答这个问题——利用 `Scikit-Learn` 的 `validation_curve` 函数就可以非常简单地实现。  \n",
    "只要提供模型、数据、参数名称和验证范围信息，函数就会自动计算验证范围内的训练得分和验证得分，如下图所示："
   ]
  },
  {
   "cell_type": "code",
   "execution_count": 13,
   "id": "5360b416-0e6c-423d-aec1-0e4cd7e951da",
   "metadata": {},
   "outputs": [
    {
     "data": {
      "text/plain": [
       "Text(0, 0.5, 'score')"
      ]
     },
     "execution_count": 13,
     "metadata": {},
     "output_type": "execute_result"
    },
    {
     "data": {
      "image/png": "[encoded data removed]",
      "text/plain": [
       "<Figure size 432x288 with 1 Axes>"
      ]
     },
     "metadata": {},
     "output_type": "display_data"
    }
   ],
   "source": [
    "# from sklearn.learning_curve import validation_curve  # ModuleNotFoundError: No module named 'sklearn.learning_curve'\n",
    "from sklearn.model_selection import validation_curve\n",
    "\n",
    "degree = np.arange(0, 21)\n",
    "# TypeError: validation_curve() takes 3 positional arguments but 5 positional arguments (and 1 keyword-only argument) were given\n",
    "# train_score, val_score = validation_curve(PolynomialRegression(), X, y, 'polynomialfeatures__degree', degree, cv=7)\n",
    "train_score, val_score = validation_curve(PolynomialRegression(), X, y, param_name='polynomialfeatures__degree', param_range=degree, cv=7)\n",
    "\n",
    "plt.plot(degree, np.median(train_score, 1), color='blue', label='training score')\n",
    "plt.plot(degree, np.median(val_score, 1), color='red', label='validation score')\n",
    "plt.legend(loc='best')\n",
    "plt.ylim(0, 1)\n",
    "plt.xlabel('degree')\n",
    "plt.ylabel('score')"
   ]
  },
  {
   "cell_type": "markdown",
   "id": "fab1c36f-5b90-4562-b345-53792794000a",
   "metadata": {},
   "source": [
    "这幅图可以准确显示我们想要的信息：训练得分总是比验证得分高；训练得分随着模型复杂度的提升而单调递增；验证得分增长到最高点后由于过拟合而开始骤降。  \n",
    "从验证曲线中可以看出，偏差与方差均衡性最好的是三次多项式。我们可以计算结果，并将模型画在原始数据上，如下图所示："
   ]
  },
  {
   "cell_type": "code",
   "execution_count": 14,
   "id": "865a4eec-8f70-4fa2-87a5-85e156977dbc",
   "metadata": {},
   "outputs": [
    {
     "data": {
      "text/plain": [
       "(-0.04687651021505175,\n",
       " 0.9844070023112612,\n",
       " -0.7308177116555796,\n",
       " 10.902869392322714)"
      ]
     },
     "execution_count": 14,
     "metadata": {},
     "output_type": "execute_result"
    },
    {
     "data": {
      "image/png": "[encoded data removed]",
      "text/plain": [
       "<Figure size 432x288 with 1 Axes>"
      ]
     },
     "metadata": {},
     "output_type": "display_data"
    }
   ],
   "source": [
    "plt.scatter(X.ravel(), y)\n",
    "lim = plt.axis()\n",
    "y_test = PolynomialRegression(3).fit(X, y).predict(X_test)\n",
    "plt.plot(X_test.ravel(), y_test);\n",
    "plt.axis(lim)"
   ]
  },
  {
   "cell_type": "markdown",
   "id": "2ad31d09-9249-446d-98b7-b127dd194606",
   "metadata": {},
   "source": [
    "虽然寻找最优模型并不需要我们计算训练得分，但是检查训练得分与验证得分之间的关系可以让我们对模型的性能有更加直观的认识。"
   ]
  },
  {
   "cell_type": "markdown",
   "id": "1072031c-8c9c-4e76-8165-39d7ad9f3e2d",
   "metadata": {},
   "source": [
    "## 3. 学习曲线"
   ]
  },
  {
   "cell_type": "markdown",
   "id": "115da5d7-fc3c-4eef-b0ad-1195d237926b",
   "metadata": {},
   "source": [
    "影响模型复杂度的另一个重要因素是最优模型往往受到训练数据量的影响。例如，生成前面 5 倍的数据（200 个点），如下图所示："
   ]
  },
  {
   "cell_type": "code",
   "execution_count": 15,
   "id": "311e4520-97e8-43fd-bff0-e42ea82833ae",
   "metadata": {},
   "outputs": [
    {
     "data": {
      "text/plain": [
       "<matplotlib.collections.PathCollection at 0x7fead306d2e8>"
      ]
     },
     "execution_count": 15,
     "metadata": {},
     "output_type": "execute_result"
    },
    {
     "data": {
      "image/png": "[encoded data removed]",
      "text/plain": [
       "<Figure size 432x288 with 1 Axes>"
      ]
     },
     "metadata": {},
     "output_type": "display_data"
    }
   ],
   "source": [
    "X2, y2 = make_data(200)\n",
    "plt.scatter(X2.ravel(), y2)"
   ]
  },
  {
   "cell_type": "markdown",
   "id": "545ad47e-18e2-4e48-9fab-7f1c44618f46",
   "metadata": {},
   "source": [
    "还用前面的方法画出这个大数据集验证曲线。为了对比，把之前的曲线也画出来，如下图所示："
   ]
  },
  {
   "cell_type": "code",
   "execution_count": 16,
   "id": "d025b23b-9ec1-47fa-978b-ef288b2f41f8",
   "metadata": {},
   "outputs": [
    {
     "data": {
      "text/plain": [
       "Text(0, 0.5, 'score')"
      ]
     },
     "execution_count": 16,
     "metadata": {},
     "output_type": "execute_result"
    },
    {
     "data": {
      "image/png": "[encoded data removed]",
      "text/plain": [
       "<Figure size 432x288 with 1 Axes>"
      ]
     },
     "metadata": {},
     "output_type": "display_data"
    }
   ],
   "source": [
    "degree = np.arange(21)\n",
    "train_score2, val_score2 = validation_curve(PolynomialRegression(), X2, y2, param_name='polynomialfeatures__degree', param_range=degree, cv=7)\n",
    "\n",
    "plt.plot(degree, np.median(train_score2, 1), color='blue', label='training score')\n",
    "plt.plot(degree, np.median(val_score2, 1), color='red', label='validation score')\n",
    "plt.plot(degree, np.median(train_score, 1), color='blue', alpha=0.3, linestyle='dashed')\n",
    "plt.plot(degree, np.median(val_score, 1), color='red', alpha=0.3, linestyle='dashed')\n",
    "plt.legend(loc='lower center')\n",
    "plt.ylim(0, 1)\n",
    "plt.xlabel('degree')\n",
    "plt.ylabel('score')"
   ]
  },
  {
   "cell_type": "markdown",
   "id": "09d6c32c-7a79-4f3c-bd83-d5e0e6a8d68d",
   "metadata": {},
   "source": [
    "实线是大数据集的验证曲线，而虚线是前面小数据集的验证曲线。从验证曲线可以明显看出，大数据集支持更复杂的模型：虽然得分顶点大概是六次多项式，但是即使到了二十次多项式，过拟合情况也不太严重——验证得分与训练得分依然十分接近。  \n",
    "通过观察验证曲线的变化趋势，可以发现有两个影响模型效果的因素：模型复杂度和训练数据集的规模。通常，我们将模型看成是与训练数据规模相关的函数，通过不断扩大数据集的规模来拟合模型，以此来观察模型的行为。  \n",
    "反映训练集规模的训练得分 / 验证得分曲线被称为**学习曲线**（`learning curve`）。"
   ]
  },
  {
   "cell_type": "markdown",
   "id": "75eb9c34-592b-4781-83a9-a4e574a05449",
   "metadata": {},
   "source": [
    "学习曲线的特征包括以下三点。\n",
    "- 特定复杂度的模型对较小的数据集容易过拟合：此时训练得分较高，验证得分较低。\n",
    "- 特定复杂度的模型对较大的数据集容易欠拟合：随着数据的增大，训练得分会不断降低，而验证得分会不断升高。\n",
    "- 模型的验证集得分永远不会高于训练集得分：两条曲线一直在靠近，但永远不会交叉。\n",
    "\n",
    "有了这三条特征，就可以画出如下图所示的学习曲线。  \n",
    "![](../data/figures/05.03-learning-curve.png)  \n",
    "学习曲线最重要的特征是，随着训练样本数量的增加，分数会收敛到定值。  \n",
    "因此，一旦你的数据多到使模型得分已经收敛，**那么增加更多的训练样本也无济于事！**  \n",
    "改善模型性能的唯一方法就是换模型（通常也是换成更复杂的模型）。"
   ]
  },
  {
   "cell_type": "markdown",
   "id": "0ef14563-4f74-4080-b0d8-644552858c4a",
   "metadata": {},
   "source": [
    "### 3.1. Scikit-Learn学习曲线"
   ]
  },
  {
   "cell_type": "markdown",
   "id": "2d5228b2-6df3-4b5a-94cc-1f4567edef56",
   "metadata": {},
   "source": [
    "`Scikit-Learn` 计算模型学习曲线的函数非常简单。下面来计算前面数据集的二次多项式模型和九次多项式模型的学习曲线，如下图所示："
   ]
  },
  {
   "cell_type": "code",
   "execution_count": 17,
   "id": "7111e110-0df5-4ab7-80ab-a8720c8e400b",
   "metadata": {},
   "outputs": [
    {
     "data": {
      "image/png": "[encoded data removed]",
      "text/plain": [
       "<Figure size 1152x432 with 2 Axes>"
      ]
     },
     "metadata": {},
     "output_type": "display_data"
    }
   ],
   "source": [
    "# from sklearn.learning_curve import learning_curve  # ModuleNotFoundError: No module named 'sklearn.learning_curve'\n",
    "from sklearn.model_selection import learning_curve\n",
    "\n",
    "fig, ax = plt.subplots(1, 2, figsize=(16, 6))\n",
    "fig.subplots_adjust(left=0.0625, right=0.95, wspace=0.1)\n",
    "\n",
    "for i, degree in enumerate([2, 9]):\n",
    "    N, train_lc, val_lc = learning_curve(PolynomialRegression(degree), X, y, cv=7, train_sizes=np.linspace(0.3, 1, 25))\n",
    "\n",
    "    ax[i].plot(N, np.mean(train_lc, 1), color='blue', label='training score')\n",
    "    ax[i].plot(N, np.mean(val_lc, 1), color='red', label='validation score')\n",
    "    ax[i].hlines(np.mean([train_lc[-1], val_lc[-1]]), N[0], N[-1], color='gray', linestyle='dashed')\n",
    "\n",
    "    ax[i].set_ylim(0, 1)\n",
    "    ax[i].set_xlim(N[0], N[-1])\n",
    "    ax[i].set_xlabel('training size')\n",
    "    ax[i].set_ylabel('score')\n",
    "    ax[i].set_title('degree = {0}'.format(degree), size=14)\n",
    "    ax[i].legend(loc='best')"
   ]
  },
  {
   "cell_type": "markdown",
   "id": "c2d2c0dd-69a0-4079-8e5a-f4905086562b",
   "metadata": {},
   "source": [
    "这幅图非常有参考价值，因为它可以展现模型得分随着训练数据规模的变化而变化。  \n",
    "尤其当你的学习曲线已经收敛时（即训练曲线和验证曲线已经贴在一起），**再增加训练数据也不能再显著改善拟合效果！**  \n",
    "这种情况就类似于左图显示的二次多项式模型的学习曲线。提高收敛得分的唯一办法就是换模型（通常也是更复杂的模型）。  \n",
    "如右图所示：采用复杂度更高的模型之后，虽然学习曲线的收敛得分提高了（对比虚线所在位置），但是模型的方差也变大了（对比训练得分与验证得分的差异即可看出）。  \n",
    "如果我们为复杂度更高的模型继续增加训练数据，那么学习曲线最终也会收敛。  \n",
    "为模型和数据集画出学习曲线，可以帮你找到正确的方向，不断改进学习的效果。"
   ]
  },
  {
   "cell_type": "markdown",
   "id": "7c3cfe57-ec47-4ac2-bc34-1d4d0a5da7be",
   "metadata": {},
   "source": [
    "## 4. 验证实践：网格搜索"
   ]
  },
  {
   "cell_type": "markdown",
   "id": "8e28b379-e3a4-47a8-abdf-93d7e9c716ff",
   "metadata": {},
   "source": [
    "前面的内容已经让我们对偏差与方差的均衡有了直观的认识，它们与模型的复杂度和训练集的大小有关。  \n",
    "在实际工作中，模型通常会有多个得分转折点，因此验证曲线和学习曲线的图形会从二维曲线变成多维曲面。  \n",
    "这种高维可视化很难展现，因此从图中找出验证得分的最大值也不是一件简单的事。"
   ]
  },
  {
   "cell_type": "markdown",
   "id": "fd4bf327-7b35-4c26-9bc4-e8309ac0330d",
   "metadata": {},
   "source": [
    "`Scikit-Learn` 在 `grid_search` 提供了一个自动化工具解决这个问题。下面是用网格搜索寻找最优多项式回归模型的示例。  \n",
    "我们将在模型特征的三维网格中寻找最优值——包括多项式的次数的搜索范围、回归模型是否拟合截距，以及回归模型是否需要进行标准化处理。  \n",
    "我们可以用 `Scikit-Learn` 的 `GridSearchCV` 元评估器来设置这些参数："
   ]
  },
  {
   "cell_type": "code",
   "execution_count": 18,
   "id": "8c3fd797-ebc6-4a9d-a437-fa75915b6e3b",
   "metadata": {},
   "outputs": [],
   "source": [
    "# from sklearn.grid_search import GridSearchCV  # ModuleNotFoundError: No module named 'sklearn.grid_search'\n",
    "from sklearn.model_selection import GridSearchCV\n",
    "\n",
    "param_grid = {'polynomialfeatures__degree': np.arange(21),\n",
    "              'linearregression__fit_intercept': [True, False],\n",
    "              'linearregression__normalize': [True, False]}\n",
    "\n",
    "grid = GridSearchCV(PolynomialRegression(), param_grid, cv=7)"
   ]
  },
  {
   "cell_type": "markdown",
   "id": "b298b443-182f-4d38-8b33-a9b89b9cf5c8",
   "metadata": {},
   "source": [
    "请注意，和普通的评估器一样，这个元评估器此时还没有应用到任何数据上。调用 `fit()` 方法在每个网格点上拟合模型，并同时记录每个点的得分："
   ]
  },
  {
   "cell_type": "code",
   "execution_count": 19,
   "id": "c9c5613f-0ba6-446e-95e3-f0002dc20e68",
   "metadata": {},
   "outputs": [
    {
     "data": {
      "text/plain": [
       "GridSearchCV(cv=7,\n",
       "             estimator=Pipeline(steps=[('polynomialfeatures',\n",
       "                                        PolynomialFeatures()),\n",
       "                                       ('linearregression',\n",
       "                                        LinearRegression())]),\n",
       "             param_grid={'linearregression__fit_intercept': [True, False],\n",
       "                         'linearregression__normalize': [True, False],\n",
       "                         'polynomialfeatures__degree': array([ 0,  1,  2,  3,  4,  5,  6,  7,  8,  9, 10, 11, 12, 13, 14, 15, 16,\n",
       "       17, 18, 19, 20])})"
      ]
     },
     "execution_count": 19,
     "metadata": {},
     "output_type": "execute_result"
    }
   ],
   "source": [
    "import warnings\n",
    "warnings.filterwarnings('ignore')  # 警告太长，暂时没有找到兼容代码，所以直接隐藏警告\n",
    "\n",
    "grid.fit(X, y)"
   ]
  },
  {
   "cell_type": "markdown",
   "id": "f65857dc-7529-4025-8ea3-1aab2ec43b9d",
   "metadata": {},
   "source": [
    "模型拟合完成了，这样就可以获取最优参数了："
   ]
  },
  {
   "cell_type": "code",
   "execution_count": 20,
   "id": "970c0ba9-705a-4040-8b79-8cc939567d2e",
   "metadata": {},
   "outputs": [
    {
     "data": {
      "text/plain": [
       "{'linearregression__fit_intercept': False,\n",
       " 'linearregression__normalize': True,\n",
       " 'polynomialfeatures__degree': 4}"
      ]
     },
     "execution_count": 20,
     "metadata": {},
     "output_type": "execute_result"
    }
   ],
   "source": [
    "warnings.filterwarnings(action='once')  # 显示警告\n",
    "\n",
    "grid.best_params_"
   ]
  },
  {
   "cell_type": "markdown",
   "id": "e4aee4b9-1d4e-436a-a606-12d278981924",
   "metadata": {},
   "source": [
    "最后，还可以用最优参数的模型拟合数据，并画图显示，如下图所示："
   ]
  },
  {
   "cell_type": "code",
   "execution_count": 21,
   "id": "f37627c7-6d19-4888-bd83-f3f6c6588788",
   "metadata": {},
   "outputs": [
    {
     "name": "stderr",
     "output_type": "stream",
     "text": [
      "/usr/local/lib/python3.7/dist-packages/sklearn/linear_model/_base.py:145: FutureWarning: 'normalize' was deprecated in version 1.0 and will be removed in 1.2.\n",
      "If you wish to scale the data, use Pipeline with a StandardScaler in a preprocessing stage. To reproduce the previous behavior:\n",
      "\n",
      "from sklearn.pipeline import make_pipeline\n",
      "\n",
      "model = make_pipeline(StandardScaler(with_mean=False), LinearRegression())\n",
      "\n",
      "If you wish to pass a sample_weight parameter, you need to pass it as a fit parameter to each step of the pipeline as follows:\n",
      "\n",
      "kwargs = {s[0] + '__sample_weight': sample_weight for s in model.steps}\n",
      "model.fit(X, y, **kwargs)\n",
      "\n",
      "\n",
      "  FutureWarning,\n"
     ]
    },
    {
     "data": {
      "text/plain": [
       "(-0.04687651021505175,\n",
       " 0.9844070023112612,\n",
       " -0.7308177116555796,\n",
       " 10.902869392322714)"
      ]
     },
     "execution_count": 21,
     "metadata": {},
     "output_type": "execute_result"
    },
    {
     "data": {
      "image/png": "[encoded data removed]",
      "text/plain": [
       "<Figure size 432x288 with 1 Axes>"
      ]
     },
     "metadata": {},
     "output_type": "display_data"
    }
   ],
   "source": [
    "model = grid.best_estimator_\n",
    "\n",
    "plt.scatter(X.ravel(), y)\n",
    "lim = plt.axis()\n",
    "y_test = model.fit(X, y).predict(X_test)\n",
    "# plt.plot(X_test.ravel(), y_test, hold=True)  # AttributeError: 'Line2D' object has no property 'hold'\n",
    "plt.plot(X_test.ravel(), y_test)\n",
    "plt.axis(lim)"
   ]
  },
  {
   "cell_type": "markdown",
   "id": "7026aba0-c8f1-4237-9cd5-5338ba9a05fb",
   "metadata": {},
   "source": [
    "网格搜索提供了许多参数选项，包括自定义得分函数、并行计算，以及随机化搜索等能力。"
   ]
  },
  {
   "cell_type": "markdown",
   "id": "ae7ff3cd-b4e5-4dce-bf1d-a824beacbd61",
   "metadata": {},
   "source": [
    "## 4. 小结"
   ]
  },
  {
   "cell_type": "markdown",
   "id": "a0b690d1-ad8c-4dde-9ae1-f9538b8b706f",
   "metadata": {},
   "source": [
    "本节首先探索了模型验证与超参数优化的概念，重点介绍了偏差与方差均衡的概念，以及如何将这个概念应用在模型拟合过程中。  \n",
    "尤其值得注意的是，我们发现通过验证集或交叉检验方法调整参数**至关重要**，这样做可以避免较复杂 / 灵活模型引起的过拟合问题。"
   ]
  },
  {
   "cell_type": "markdown",
   "id": "376130d3-3784-4a08-8084-a6bb9f0bdb3e",
   "metadata": {},
   "source": [
    "接下来将介绍一些常用模型的具体细节、可用的优化方法，以及自由参数（`free parameter`）对模型复杂度的影响。在学习新的机器学习方法时，请时刻牢记本节介绍的内容！"
   ]
  },
  {
   "cell_type": "code",
   "execution_count": null,
   "id": "e551a7db-5de4-4a27-a811-c8a2d70dc057",
   "metadata": {},
   "outputs": [],
   "source": []
  }
 ],
 "metadata": {
  "kernelspec": {
   "display_name": "Python 3 (ipykernel)",
   "language": "python",
   "name": "python3"
  },
  "language_info": {
   "codemirror_mode": {
    "name": "ipython",
    "version": 3
   },
   "file_extension": ".py",
   "mimetype": "text/x-python",
   "name": "python",
   "nbconvert_exporter": "python",
   "pygments_lexer": "ipython3",
   "version": "3.7.3"
  }
 },
 "nbformat": 4,
 "nbformat_minor": 5
}
