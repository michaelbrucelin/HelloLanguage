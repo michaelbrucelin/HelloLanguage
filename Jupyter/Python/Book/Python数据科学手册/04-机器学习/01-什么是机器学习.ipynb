{
 "cells": [
  {
   "cell_type": "markdown",
   "id": "899b9f64-3a30-47d3-ad53-e4464cf56cdb",
   "metadata": {},
   "source": [
    "# 什么是机器学习"
   ]
  },
  {
   "cell_type": "markdown",
   "id": "9400a82c-0e8d-4e87-a640-247f2d25b4cf",
   "metadata": {},
   "source": [
    "机器学习经常被归类为人工智能（`artificial intelligence`）的子领域，但我觉得这种归类方法存在误导嫌疑。虽然对机器学习的研究确实是源自人工智能领域，但是机器学习的方法却应用于数据科学领域，因此我认为把机器学习看作是一种**数学建模**更合适。  \n",
    "机器学习的本质就是借助数学模型理解数据。当我们给模型装上可以适应观测数据的**可调参数**时，“学习”就开始了；此时的程序被认为具有从数据中“学习”的能力。一旦模型可以拟合旧的观测数据，那么它们就可以预测并解释新的观测数据。在后面的内容中，我会分享一些关于这种数学方法的哲学闲话，你会发现数学模型的“学习”过程其实与人脑的“学习”过程相似。  \n",
    "机器学习在许多方面都可以看作是数据科学能力延伸的主要手段。机器学习是用数据科学的计算能力和算法能力去弥补统计方法的不足，其最终结果是为那些目前既没有高效的理论支持、又没有高效的计算方法的统计推理与数据探索问题提供解决方法。  \n",
    "“机器学习”这个词现在太流行了，仿佛是一种万能药：**只要对数据做了机器学习，那么所有问题都可以迎刃而解！**  \n",
    "正如你所知，“理想很丰满，现实很骨感”，事实远没那么简单。虽然机器学习方法都很强大，但是如果想有效地使用这些方法，必须先掌握每种方法的优缺点，同时还要掌握一些基本的统计概念，例如偏差（`bias`）和方差（`variance`）、过拟合（`overfitting`）和欠拟合（`underfitting`），等等。"
   ]
  },
  {
   "cell_type": "markdown",
   "id": "6d93f697-f16c-4749-97e1-7844672a925a",
   "metadata": {},
   "source": [
    "## 1. 机器学习的分类"
   ]
  },
  {
   "cell_type": "markdown",
   "id": "c7d60dec-ceca-4580-a178-2e9ae5887039",
   "metadata": {},
   "source": [
    "机器学习一般可以分为两类：有监督学习（`supervised learning`）和无监督学习（`unsupervised learning`）。  \n",
    "**有监督学习**是指对数据的若干特征与若干标签（类型）之间的关联性进行建模的过程；只要模型被确定，就可以应用到新的未知数据上。这类学习过程可以进一步分为**分类**（`classification`）任务与**回归**（`regression`）任务。在分类任务中，标签都是离散值；而在回归任务中，标签都是连续值。我们会在后面的内容中介绍这两种有监督学习方法。\n",
    "**无监督学习**是指对不带任何标签的数据特征进行建模，通常被看成是一种“让数据自己介绍自己”的过程。这类模型包括**聚类**（`clustering`）任务和**降维**（`dimensionality reduction`）任务。聚类算法可以将数据分成不同的组别，而降维算法追求用更简洁的方式表现数据。我们同样会在后面的内容中介绍这两种无监督学习方法。  \n",
    "另外，还有一种**半监督学习**（`semi-supervised learning`）方法，介于有监督学习与无监督学习之间。半监督学习方法通常可以在数据标签不完整时使用。"
   ]
  },
  {
   "cell_type": "markdown",
   "id": "2a2d39cd-dfcd-4d1e-b274-2dd33183d41d",
   "metadata": {},
   "source": [
    "## 2. 机器学习应用的定性示例"
   ]
  },
  {
   "cell_type": "markdown",
   "id": "5a7a3247-66dc-4c0e-84fd-f970a92b43d5",
   "metadata": {},
   "source": [
    "下面来介绍一些简单的机器学习任务示例，让这些抽象理论显得更具体一点。这些例子都是我们在后面内容中将要看到的机器学习任务的直观、非量化形式，之后将更深入地介绍相关模型的具体用法。"
   ]
  },
  {
   "cell_type": "markdown",
   "id": "1017c603-ab45-406d-90a4-3e47e75e7734",
   "metadata": {},
   "source": [
    "### 2.1. 分类：预测离散标签"
   ]
  },
  {
   "cell_type": "code",
   "execution_count": null,
   "id": "55c990cf-2339-4a82-873e-824aa752a57d",
   "metadata": {},
   "outputs": [],
   "source": []
  }
 ],
 "metadata": {
  "kernelspec": {
   "display_name": "Python 3 (ipykernel)",
   "language": "python",
   "name": "python3"
  },
  "language_info": {
   "codemirror_mode": {
    "name": "ipython",
    "version": 3
   },
   "file_extension": ".py",
   "mimetype": "text/x-python",
   "name": "python",
   "nbconvert_exporter": "python",
   "pygments_lexer": "ipython3",
   "version": "3.7.3"
  }
 },
 "nbformat": 4,
 "nbformat_minor": 5
}
