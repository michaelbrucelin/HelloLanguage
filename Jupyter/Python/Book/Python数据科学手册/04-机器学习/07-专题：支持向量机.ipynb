{
 "cells": [
  {
   "cell_type": "markdown",
   "id": "6427c64b-1a1d-412d-a3e5-8b86d6c8595a",
   "metadata": {},
   "source": [
    "# 专题：支持向量机"
   ]
  },
  {
   "cell_type": "code",
   "execution_count": null,
   "id": "6c482246-c317-4d29-a5cd-c151594125c3",
   "metadata": {},
   "outputs": [],
   "source": []
  }
 ],
 "metadata": {
  "kernelspec": {
   "display_name": "Python 3 (ipykernel)",
   "language": "python",
   "name": "python3"
  },
  "language_info": {
   "codemirror_mode": {
    "name": "ipython",
    "version": 3
   },
   "file_extension": ".py",
   "mimetype": "text/x-python",
   "name": "python",
   "nbconvert_exporter": "python",
   "pygments_lexer": "ipython3",
   "version": "3.7.3"
  }
 },
 "nbformat": 4,
 "nbformat_minor": 5
}
