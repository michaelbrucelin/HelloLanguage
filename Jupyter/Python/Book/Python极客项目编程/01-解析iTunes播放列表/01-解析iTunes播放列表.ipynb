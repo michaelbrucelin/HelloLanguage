{
 "cells": [
  {
   "cell_type": "markdown",
   "id": "e2d783f6-7723-44fc-8223-ad193b4d0b81",
   "metadata": {},
   "source": [
    "# 解析iTunes播放列表"
   ]
  },
  {
   "cell_type": "code",
   "execution_count": 1,
   "id": "7d55f22b-6c9b-4201-88ae-d62fa888630f",
   "metadata": {},
   "outputs": [
    {
     "name": "stdout",
     "output_type": "stream",
     "text": [
      "5 common tracks found. Track names written to common.txt.\n"
     ]
    }
   ],
   "source": [
    "%run playlist.py --common ../data/maya.xml ../data/rating.xml"
   ]
  },
  {
   "cell_type": "code",
   "execution_count": 2,
   "id": "16ef059a-b814-4d4f-b118-26bd8494ad6d",
   "metadata": {},
   "outputs": [
    {
     "name": "stdout",
     "output_type": "stream",
     "text": [
      "Rubric\n",
      "Pi's Lullaby\n",
      "Floe\n",
      "Stairway To Heaven\n",
      "God Shuffled His Feet\n"
     ]
    }
   ],
   "source": [
    "!cat common.txt\n",
    "!rm -f common.txt"
   ]
  },
  {
   "cell_type": "code",
   "execution_count": 3,
   "id": "f3e5f161-b773-4e94-8948-1e233406c24d",
   "metadata": {},
   "outputs": [
    {
     "data": {
      "image/png": "[encoded data removed]",
      "text/plain": [
       "<Figure size 432x288 with 2 Axes>"
      ]
     },
     "metadata": {
      "needs_background": "light"
     },
     "output_type": "display_data"
    }
   ],
   "source": [
    "%run playlist.py --stats ../data/rating.xml"
   ]
  },
  {
   "cell_type": "code",
   "execution_count": null,
   "id": "a7bb6823-91c8-430f-8e22-66fb4fcf8ef7",
   "metadata": {},
   "outputs": [],
   "source": []
  }
 ],
 "metadata": {
  "kernelspec": {
   "display_name": "Python 3 (ipykernel)",
   "language": "python",
   "name": "python3"
  },
  "language_info": {
   "codemirror_mode": {
    "name": "ipython",
    "version": 3
   },
   "file_extension": ".py",
   "mimetype": "text/x-python",
   "name": "python",
   "nbconvert_exporter": "python",
   "pygments_lexer": "ipython3",
   "version": "3.7.3"
  }
 },
 "nbformat": 4,
 "nbformat_minor": 5
}
