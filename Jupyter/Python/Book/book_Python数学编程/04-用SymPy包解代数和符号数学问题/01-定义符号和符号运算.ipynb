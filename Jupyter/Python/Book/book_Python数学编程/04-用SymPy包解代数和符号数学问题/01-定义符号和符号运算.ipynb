{
 "cells": [
  {
   "cell_type": "markdown",
   "id": "3af7e05b-a8fe-4cbb-93e8-f7053c2658be",
   "metadata": {},
   "source": [
    "# 定义符号和符号运算"
   ]
  },
  {
   "cell_type": "markdown",
   "id": "726fc74e-ff46-49b5-a71f-253f8e238a87",
   "metadata": {},
   "source": [
    "`SymPy` 是一个三方包，它能让你编写包含符号和代数表达式并对其执行操作。"
   ]
  },
  {
   "cell_type": "code",
   "execution_count": 1,
   "id": "843b0159-8900-4a05-bb60-2c79c8c9e366",
   "metadata": {},
   "outputs": [],
   "source": [
    "from sympy import Symbol, symbols"
   ]
  },
  {
   "cell_type": "code",
   "execution_count": 2,
   "id": "1cfa78db-8fd5-4644-aff0-b5239a36878d",
   "metadata": {},
   "outputs": [
    {
     "data": {
      "text/latex": [
       "$\\displaystyle 2 x + 1$"
      ],
      "text/plain": [
       "2*x + 1"
      ]
     },
     "execution_count": 2,
     "metadata": {},
     "output_type": "execute_result"
    }
   ],
   "source": [
    "x = Symbol('x')\n",
    "x + x + 1"
   ]
  },
  {
   "cell_type": "code",
   "execution_count": 3,
   "id": "a31e2a1a-1b5a-46cb-9196-d7519a45f144",
   "metadata": {},
   "outputs": [
    {
     "data": {
      "text/plain": [
       "'x'"
      ]
     },
     "execution_count": 3,
     "metadata": {},
     "output_type": "execute_result"
    }
   ],
   "source": [
    "x.name"
   ]
  },
  {
   "cell_type": "code",
   "execution_count": 4,
   "id": "8b656d40-2c84-4f6b-b557-3c05673f7afc",
   "metadata": {},
   "outputs": [
    {
     "data": {
      "text/latex": [
       "$\\displaystyle 2 x + 1$"
      ],
      "text/plain": [
       "2*x + 1"
      ]
     },
     "execution_count": 4,
     "metadata": {},
     "output_type": "execute_result"
    }
   ],
   "source": [
    "a = Symbol('x')  # 尽管可以这样使用，但是使用不匹配的标签会令人疑惑，不建议这样使用\n",
    "a + a + 1"
   ]
  },
  {
   "cell_type": "code",
   "execution_count": 5,
   "id": "91187c59-42c0-42f3-b946-c88b7fafc00c",
   "metadata": {},
   "outputs": [
    {
     "data": {
      "text/latex": [
       "$\\displaystyle x^{2} + y^{2}$"
      ],
      "text/plain": [
       "x**2 + y**2"
      ]
     },
     "execution_count": 5,
     "metadata": {},
     "output_type": "execute_result"
    }
   ],
   "source": [
    "x, y, z = symbols('x,y,z')  # 一次定义多个符号\n",
    "s = x*x + y*y\n",
    "s"
   ]
  },
  {
   "cell_type": "code",
   "execution_count": 6,
   "id": "d4646e3d-dc5d-469c-a699-75fe2b792195",
   "metadata": {},
   "outputs": [
    {
     "data": {
      "text/latex": [
       "$\\displaystyle x^{3} + y^{3}$"
      ],
      "text/plain": [
       "x**3 + y**3"
      ]
     },
     "execution_count": 6,
     "metadata": {},
     "output_type": "execute_result"
    }
   ],
   "source": [
    "s = x**3 + y**3\n",
    "s"
   ]
  },
  {
   "cell_type": "code",
   "execution_count": 7,
   "id": "e974b57c-1373-4d7a-844f-d681fb302b39",
   "metadata": {},
   "outputs": [
    {
     "data": {
      "text/latex": [
       "$\\displaystyle 2 x^{2}$"
      ],
      "text/plain": [
       "2*x**2"
      ]
     },
     "execution_count": 7,
     "metadata": {},
     "output_type": "execute_result"
    }
   ],
   "source": [
    "p = x*(x + x)  # sympy会自动计算一些简单的运算\n",
    "p"
   ]
  },
  {
   "cell_type": "code",
   "execution_count": 8,
   "id": "67753d17-79ba-4940-9db8-5011547c90bb",
   "metadata": {},
   "outputs": [
    {
     "data": {
      "text/latex": [
       "$\\displaystyle \\left(x + 2\\right) \\left(x + 3\\right)$"
      ],
      "text/plain": [
       "(x + 2)*(x + 3)"
      ]
     },
     "execution_count": 8,
     "metadata": {},
     "output_type": "execute_result"
    }
   ],
   "source": [
    "p = (x + 2)*(x + 3)  # 但是一些复杂的运算，sympy并不会自动运算\n",
    "p"
   ]
  },
  {
   "cell_type": "code",
   "execution_count": 9,
   "id": "d90c4ba5-5182-45d7-a135-9dac8c42acee",
   "metadata": {},
   "outputs": [
    {
     "data": {
      "text/latex": [
       "$\\displaystyle \\left(x - y + 2\\right) \\left(x + y + 1\\right)$"
      ],
      "text/plain": [
       "(x - y + 2)*(x + y + 1)"
      ]
     },
     "execution_count": 9,
     "metadata": {},
     "output_type": "execute_result"
    }
   ],
   "source": [
    "x = Symbol('x')\n",
    "y = Symbol('y')\n",
    "p = x + y + 1\n",
    "q = x - y + 2\n",
    "p * q  # 表达式乘法"
   ]
  },
  {
   "cell_type": "code",
   "execution_count": null,
   "id": "1c307394-ae56-46e7-bcad-b4094a4cb544",
   "metadata": {},
   "outputs": [],
   "source": []
  }
 ],
 "metadata": {
  "kernelspec": {
   "display_name": "Python 3 (ipykernel)",
   "language": "python",
   "name": "python3"
  },
  "language_info": {
   "codemirror_mode": {
    "name": "ipython",
    "version": 3
   },
   "file_extension": ".py",
   "mimetype": "text/x-python",
   "name": "python",
   "nbconvert_exporter": "python",
   "pygments_lexer": "ipython3",
   "version": "3.7.3"
  }
 },
 "nbformat": 4,
 "nbformat_minor": 5
}
