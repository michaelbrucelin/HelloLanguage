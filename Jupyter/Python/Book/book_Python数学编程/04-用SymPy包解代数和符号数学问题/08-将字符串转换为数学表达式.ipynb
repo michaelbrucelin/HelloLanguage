{
 "cells": [
  {
   "cell_type": "code",
   "execution_count": 1,
   "id": "59d73932",
   "metadata": {},
   "outputs": [],
   "source": [
    "import sympy"
   ]
  },
  {
   "cell_type": "code",
   "execution_count": 2,
   "id": "54135e0e",
   "metadata": {},
   "outputs": [
    {
     "name": "stdout",
     "output_type": "stream",
     "text": [
      "Enter a mathematical expression: x**2 + 3*x + x**3 + 2*x\n"
     ]
    }
   ],
   "source": [
    "expr = input('Enter a mathematical expression: ')"
   ]
  },
  {
   "cell_type": "code",
   "execution_count": 3,
   "id": "f5d59cd0",
   "metadata": {},
   "outputs": [
    {
     "data": {
      "text/latex": [
       "$\\displaystyle x \\left(x^{2} + x + 5\\right)$"
      ],
      "text/plain": [
       "x*(x**2 + x + 5)"
      ]
     },
     "execution_count": 3,
     "metadata": {},
     "output_type": "execute_result"
    }
   ],
   "source": [
    "expr = sympy.simplify(expr)\n",
    "expr"
   ]
  },
  {
   "cell_type": "code",
   "execution_count": 4,
   "id": "5de1faa6",
   "metadata": {},
   "outputs": [
    {
     "data": {
      "text/latex": [
       "$\\displaystyle 2 x \\left(x^{2} + x + 5\\right)$"
      ],
      "text/plain": [
       "2*x*(x**2 + x + 5)"
      ]
     },
     "execution_count": 4,
     "metadata": {},
     "output_type": "execute_result"
    }
   ],
   "source": [
    "expr * 2  # 表达式的运算"
   ]
  },
  {
   "cell_type": "code",
   "execution_count": 5,
   "id": "6d174ad2",
   "metadata": {},
   "outputs": [
    {
     "name": "stdout",
     "output_type": "stream",
     "text": [
      "Enter a mathematical expression: x**2 + 3*s + x**3 + 2x\n",
      "Invalid input\n"
     ]
    }
   ],
   "source": [
    "# 异常捕获\n",
    "from sympy.core.sympify import SympifyError\n",
    "expr = input('Enter a mathematical expression: ')\n",
    "try:\n",
    "    expr = sympy.sympify(expr)\n",
    "    expr\n",
    "except SympifyError:\n",
    "    print('Invalid input')"
   ]
  },
  {
   "cell_type": "code",
   "execution_count": null,
   "id": "bae56428",
   "metadata": {},
   "outputs": [],
   "source": []
  }
 ],
 "metadata": {
  "kernelspec": {
   "display_name": "Python 3 (ipykernel)",
   "language": "python",
   "name": "python3"
  },
  "language_info": {
   "codemirror_mode": {
    "name": "ipython",
    "version": 3
   },
   "file_extension": ".py",
   "mimetype": "text/x-python",
   "name": "python",
   "nbconvert_exporter": "python",
   "pygments_lexer": "ipython3",
   "version": "3.7.3"
  }
 },
 "nbformat": 4,
 "nbformat_minor": 5
}
