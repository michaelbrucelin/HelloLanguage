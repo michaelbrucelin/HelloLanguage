{
 "cells": [
  {
   "cell_type": "markdown",
   "id": "22a9294d-1b7f-42d8-b23e-815ad66653ee",
   "metadata": {},
   "source": [
    "# 其他练习"
   ]
  },
  {
   "cell_type": "code",
   "execution_count": 1,
   "id": "f3866f81-87f0-4692-ba9d-7eddc1765631",
   "metadata": {},
   "outputs": [],
   "source": [
    "from sympy import Symbol, symbols, factor, expand\n",
    "from sympy.plotting import plot\n",
    "import sympy"
   ]
  },
  {
   "cell_type": "markdown",
   "id": "521f6be7-fc19-48bb-94f1-70abbde1058d",
   "metadata": {},
   "source": [
    "## 图形解方程"
   ]
  },
  {
   "cell_type": "code",
   "execution_count": 2,
   "id": "eb709d50-943c-4796-8a50-1503b4f6c59e",
   "metadata": {},
   "outputs": [
    {
     "data": {
      "text/plain": [
       "[{x: 1, y: 1}]"
      ]
     },
     "execution_count": 2,
     "metadata": {},
     "output_type": "execute_result"
    }
   ],
   "source": [
    "x = Symbol('x')\n",
    "y = Symbol('y')\n",
    "expr1 = x - y\n",
    "expr2 = x + y - 2\n",
    "\n",
    "sympy.solve((expr1, expr2), dict=True)  # 解方程"
   ]
  },
  {
   "cell_type": "code",
   "execution_count": 3,
   "id": "3875a057-91b4-40fa-8fef-23b6e7f22f84",
   "metadata": {},
   "outputs": [
    {
     "data": {
      "image/png": "[encoded data removed]",
      "text/plain": [
       "<Figure size 432x288 with 1 Axes>"
      ]
     },
     "metadata": {
      "needs_background": "light"
     },
     "output_type": "display_data"
    },
    {
     "data": {
      "text/plain": [
       "<sympy.plotting.plot.Plot at 0x7fde3dcf75c0>"
      ]
     },
     "execution_count": 3,
     "metadata": {},
     "output_type": "execute_result"
    }
   ],
   "source": [
    "expr1 = x      # expr1 = x - y\n",
    "expr2 = 2 - x  # expr2 = x + y - 2\n",
    "plot(expr1, expr2)  # 两条线相交的点就是解"
   ]
  },
  {
   "cell_type": "markdown",
   "id": "168ff68c-519c-4261-b583-622156e875a3",
   "metadata": {},
   "source": [
    "## 级数求和"
   ]
  },
  {
   "cell_type": "markdown",
   "id": "555bcfee-c628-452f-9c3d-b96275beeeb5",
   "metadata": {},
   "source": [
    "`SymPy` 包的 `summation()` 函数可以直接计算累加，这里用它来计算级数。"
   ]
  },
  {
   "cell_type": "code",
   "execution_count": 4,
   "id": "c822a9f2-262a-4e79-961d-f207170bcbbb",
   "metadata": {},
   "outputs": [
    {
     "data": {
      "text/latex": [
       "$\\displaystyle \\frac{x^{10}}{10} + \\frac{x^{9}}{9} + \\frac{x^{8}}{8} + \\frac{x^{7}}{7} + \\frac{x^{6}}{6} + \\frac{x^{5}}{5} + \\frac{x^{4}}{4} + \\frac{x^{3}}{3} + \\frac{x^{2}}{2} + x$"
      ],
      "text/plain": [
       "x**10/10 + x**9/9 + x**8/8 + x**7/7 + x**6/6 + x**5/5 + x**4/4 + x**3/3 + x**2/2 + x"
      ]
     },
     "execution_count": 4,
     "metadata": {},
     "output_type": "execute_result"
    }
   ],
   "source": [
    "x = Symbol('x')\n",
    "n = Symbol('n')\n",
    "s = sympy.summation(x**n/n, (n, 1, 10))\n",
    "s"
   ]
  },
  {
   "cell_type": "code",
   "execution_count": 5,
   "id": "769ef9e9-297b-455e-81e2-b28add445057",
   "metadata": {},
   "outputs": [
    {
     "data": {
      "text/latex": [
       "$\\displaystyle \\frac{7381}{2520}$"
      ],
      "text/plain": [
       "7381/2520"
      ]
     },
     "execution_count": 5,
     "metadata": {},
     "output_type": "execute_result"
    }
   ],
   "source": [
    "s.subs({x:1})"
   ]
  },
  {
   "cell_type": "code",
   "execution_count": 6,
   "id": "84e82bf5-4eb6-4842-ae91-d63913205715",
   "metadata": {},
   "outputs": [
    {
     "data": {
      "text/latex": [
       "$\\displaystyle \\frac{14466636279520351160221518043104131447711}{2788815009188499086581352357412492142272}$"
      ],
      "text/plain": [
       "14466636279520351160221518043104131447711/2788815009188499086581352357412492142272"
      ]
     },
     "execution_count": 6,
     "metadata": {},
     "output_type": "execute_result"
    }
   ],
   "source": [
    "s = sympy.summation(x**n/n, (n, 1, 100))\n",
    "s.subs({x:1})"
   ]
  },
  {
   "cell_type": "markdown",
   "id": "ca17c40b-8151-4807-96c9-e96e38b1e8b2",
   "metadata": {},
   "source": [
    "## 解单变量不等式"
   ]
  },
  {
   "cell_type": "markdown",
   "id": "d260b1a3-2a65-438f-bc92-c8ee9201cc78",
   "metadata": {},
   "source": [
    "`solve_poly_inequality()` 函数可以解多项式不等式；  \n",
    "`solve_rational_inequality()` 函数可以解有理不等式；  \n",
    "`solve_univariate_inequality()` 函数可以解其它的不等式；"
   ]
  },
  {
   "cell_type": "code",
   "execution_count": 7,
   "id": "17f6abd5-8dc6-4b00-81bb-c76539d65ae5",
   "metadata": {},
   "outputs": [
    {
     "data": {
      "text/plain": [
       "[Interval.open(-oo, -2), Interval.open(2, oo)]"
      ]
     },
     "execution_count": 7,
     "metadata": {},
     "output_type": "execute_result"
    }
   ],
   "source": [
    "# 解多项式不等式\n",
    "x = Symbol('x')\n",
    "ineq_obj = -x**2 + 4 < 0\n",
    "lhs = ineq_obj.lhs        # 不等式的左侧\n",
    "p = sympy.Poly(lhs, x)    # 提取多项式\n",
    "rel = ineq_obj.rel_op     # 不等式对象的关系运算符\n",
    "sympy.solve_poly_inequality(p, rel)"
   ]
  },
  {
   "cell_type": "code",
   "execution_count": 8,
   "id": "1da6ec5a-8af5-4ece-a067-980ed8eb363c",
   "metadata": {},
   "outputs": [
    {
     "data": {
      "text/latex": [
       "$\\displaystyle \\left(-\\infty, -2\\right) \\cup \\left(1, \\infty\\right)$"
      ],
      "text/plain": [
       "Union(Interval.open(-oo, -2), Interval.open(1, oo))"
      ]
     },
     "execution_count": 8,
     "metadata": {},
     "output_type": "execute_result"
    }
   ],
   "source": [
    "# 解有理不等式\n",
    "x = Symbol('x')\n",
    "ineq_obj = ((x-1)/(x+2)) > 0\n",
    "lhs = ineq_obj.lhs\n",
    "numer, demon =lhs.as_numer_denom()  # 提取分子与分母\n",
    "p1 = sympy.Poly(numer)\n",
    "p2 = sympy.Poly(demon)\n",
    "rel = ineq_obj.rel_op\n",
    "sympy.solve_rational_inequalities([[((p1,p2), rel)]])"
   ]
  },
  {
   "cell_type": "code",
   "execution_count": 9,
   "id": "1bd9935f-7a50-4721-b664-9ab3a4e1cf3b",
   "metadata": {},
   "outputs": [
    {
     "data": {
      "text/latex": [
       "$\\displaystyle 0.643501108793284 < x \\wedge x < -0.643501108793284 + \\pi$"
      ],
      "text/plain": [
       "(0.643501108793284 < x) & (x < -0.643501108793284 + pi)"
      ]
     },
     "execution_count": 9,
     "metadata": {},
     "output_type": "execute_result"
    }
   ],
   "source": [
    "# 解其它的不等式\n",
    "x = Symbol('x')\n",
    "ineq_obj = sympy.sin(x) - 0.6 > 0\n",
    "sympy.solve_univariate_inequality(ineq_obj, x, relational=True)"
   ]
  },
  {
   "cell_type": "code",
   "execution_count": 10,
   "id": "efb5421e-5aee-4471-88d1-8d4430cc9e10",
   "metadata": {},
   "outputs": [
    {
     "data": {
      "text/plain": [
       "True"
      ]
     },
     "execution_count": 10,
     "metadata": {},
     "output_type": "execute_result"
    }
   ],
   "source": [
    "# 检查表达式是否是多项式\n",
    "x = Symbol('x')\n",
    "expr = x**2 - 4\n",
    "expr.is_polynomial()"
   ]
  },
  {
   "cell_type": "code",
   "execution_count": 11,
   "id": "a81a218a-8dbc-4cce-8fd8-24cddad85b2e",
   "metadata": {},
   "outputs": [
    {
     "data": {
      "text/plain": [
       "False"
      ]
     },
     "execution_count": 11,
     "metadata": {},
     "output_type": "execute_result"
    }
   ],
   "source": [
    "expr = 2*sympy.sin(x) + 3\n",
    "expr.is_polynomial()"
   ]
  },
  {
   "cell_type": "code",
   "execution_count": 12,
   "id": "05657fc8-0bc4-4bdd-87ca-58fb4aa0b5cc",
   "metadata": {},
   "outputs": [
    {
     "data": {
      "text/plain": [
       "True"
      ]
     },
     "execution_count": 12,
     "metadata": {},
     "output_type": "execute_result"
    }
   ],
   "source": [
    "# 检查表达式是否是有理式\n",
    "x = Symbol('x')\n",
    "expr = (2+x)/(3+x)\n",
    "expr.is_rational_function()"
   ]
  },
  {
   "cell_type": "code",
   "execution_count": 13,
   "id": "493da963-a9a4-43d3-b943-4ce49b9bd1bb",
   "metadata": {},
   "outputs": [
    {
     "data": {
      "text/plain": [
       "True"
      ]
     },
     "execution_count": 13,
     "metadata": {},
     "output_type": "execute_result"
    }
   ],
   "source": [
    "expr = 2+x\n",
    "expr.is_rational_function()"
   ]
  },
  {
   "cell_type": "code",
   "execution_count": 14,
   "id": "c8a7f7c0-af85-48b8-9b05-2b235c2d6df6",
   "metadata": {},
   "outputs": [
    {
     "data": {
      "text/plain": [
       "False"
      ]
     },
     "execution_count": 14,
     "metadata": {},
     "output_type": "execute_result"
    }
   ],
   "source": [
    "expr = 2+sympy.sin(x)\n",
    "expr.is_rational_function()"
   ]
  },
  {
   "cell_type": "code",
   "execution_count": 15,
   "id": "1242663a-558a-4e13-91f2-83c880ba1ff0",
   "metadata": {},
   "outputs": [
    {
     "data": {
      "text/latex": [
       "$\\displaystyle x + 3 > 0$"
      ],
      "text/plain": [
       "x + 3 > 0"
      ]
     },
     "execution_count": 15,
     "metadata": {},
     "output_type": "execute_result"
    }
   ],
   "source": [
    "# 将字符串形式的不等式，转换为不等式对象\n",
    "sympy.sympify('x+3>0')"
   ]
  },
  {
   "cell_type": "code",
   "execution_count": null,
   "id": "d77a8b08-026f-4e1d-b8f7-60eaa595e16a",
   "metadata": {},
   "outputs": [],
   "source": []
  }
 ],
 "metadata": {
  "kernelspec": {
   "display_name": "Python 3 (ipykernel)",
   "language": "python",
   "name": "python3"
  },
  "language_info": {
   "codemirror_mode": {
    "name": "ipython",
    "version": 3
   },
   "file_extension": ".py",
   "mimetype": "text/x-python",
   "name": "python",
   "nbconvert_exporter": "python",
   "pygments_lexer": "ipython3",
   "version": "3.7.3"
  }
 },
 "nbformat": 4,
 "nbformat_minor": 5
}
