{
 "cells": [
  {
   "cell_type": "markdown",
   "id": "f723fd41-1259-4a1a-8fa7-0b66cd449867",
   "metadata": {},
   "source": [
    "# 使用表达式"
   ]
  },
  {
   "cell_type": "code",
   "execution_count": 1,
   "id": "723dbff5-2cb1-49d1-bf89-24675ab2aad0",
   "metadata": {},
   "outputs": [],
   "source": [
    "from sympy import Symbol, symbols  # 创建符号\n",
    "from sympy import factor, expand   # 分解和展开表达式\n",
    "from sympy import pprint           # 更好的打印表达式\n",
    "import sympy"
   ]
  },
  {
   "cell_type": "markdown",
   "id": "19f94a22-b22d-464b-aac7-55a8fb95c8bf",
   "metadata": {},
   "source": [
    "## 分解和展开表达式"
   ]
  },
  {
   "cell_type": "markdown",
   "id": "05e89888-3c5c-4692-ac3a-82b5d277f113",
   "metadata": {},
   "source": [
    "`factor()` 函数可以（因式）分解表达式；而 `expand()` 函数可以展开表达式，将表达式表示为单项的总和。"
   ]
  },
  {
   "cell_type": "code",
   "execution_count": 2,
   "id": "444e5c1f-66a9-40d1-b817-1885d3ee43f2",
   "metadata": {},
   "outputs": [
    {
     "data": {
      "text/latex": [
       "$\\displaystyle x^{2} - y^{2}$"
      ],
      "text/plain": [
       "x**2 - y**2"
      ]
     },
     "execution_count": 2,
     "metadata": {},
     "output_type": "execute_result"
    }
   ],
   "source": [
    "x = Symbol('x')\n",
    "y = Symbol('y')\n",
    "expr = x**2 - y**2\n",
    "expr"
   ]
  },
  {
   "cell_type": "code",
   "execution_count": 3,
   "id": "6d899d0e-7a07-4c2f-981f-dcb485e79296",
   "metadata": {},
   "outputs": [
    {
     "data": {
      "text/latex": [
       "$\\displaystyle \\left(x - y\\right) \\left(x + y\\right)$"
      ],
      "text/plain": [
       "(x - y)*(x + y)"
      ]
     },
     "execution_count": 3,
     "metadata": {},
     "output_type": "execute_result"
    }
   ],
   "source": [
    "factors = factor(expr)  # 因式分解\n",
    "factors"
   ]
  },
  {
   "cell_type": "code",
   "execution_count": 4,
   "id": "8a242530-d2f4-4135-b8e2-eda26b22a170",
   "metadata": {},
   "outputs": [
    {
     "data": {
      "text/latex": [
       "$\\displaystyle x^{2} - y^{2}$"
      ],
      "text/plain": [
       "x**2 - y**2"
      ]
     },
     "execution_count": 4,
     "metadata": {},
     "output_type": "execute_result"
    }
   ],
   "source": [
    "expand(factors)  # 展开表达式"
   ]
  },
  {
   "cell_type": "code",
   "execution_count": 5,
   "id": "0dfdc384-6753-4769-bbdc-0e24a892d11f",
   "metadata": {},
   "outputs": [
    {
     "data": {
      "text/latex": [
       "$\\displaystyle x^{3} + 3 x^{2} y + 3 x y^{2} + y^{3}$"
      ],
      "text/plain": [
       "x**3 + 3*x**2*y + 3*x*y**2 + y**3"
      ]
     },
     "execution_count": 5,
     "metadata": {},
     "output_type": "execute_result"
    }
   ],
   "source": [
    "# 尝试更复杂的表达式的因式分解与展开\n",
    "expr = x**3 + 3*x**2*y + 3*x*y**2 + y**3\n",
    "expr"
   ]
  },
  {
   "cell_type": "code",
   "execution_count": 6,
   "id": "7818bee0-431b-4e18-9161-edd1a647fb38",
   "metadata": {},
   "outputs": [
    {
     "data": {
      "text/latex": [
       "$\\displaystyle \\left(x + y\\right)^{3}$"
      ],
      "text/plain": [
       "(x + y)**3"
      ]
     },
     "execution_count": 6,
     "metadata": {},
     "output_type": "execute_result"
    }
   ],
   "source": [
    "factors = factor(expr)\n",
    "factors"
   ]
  },
  {
   "cell_type": "code",
   "execution_count": 7,
   "id": "4a3725f4-a83c-425c-a4ff-b636a00e54cc",
   "metadata": {},
   "outputs": [
    {
     "data": {
      "text/latex": [
       "$\\displaystyle x^{3} + 3 x^{2} y + 3 x y^{2} + y^{3}$"
      ],
      "text/plain": [
       "x**3 + 3*x**2*y + 3*x*y**2 + y**3"
      ]
     },
     "execution_count": 7,
     "metadata": {},
     "output_type": "execute_result"
    }
   ],
   "source": [
    "expand(factors)"
   ]
  },
  {
   "cell_type": "code",
   "execution_count": 8,
   "id": "c4ef49de-0760-41b9-9d03-bad7d343994d",
   "metadata": {},
   "outputs": [
    {
     "data": {
      "text/latex": [
       "$\\displaystyle x y + x + y$"
      ],
      "text/plain": [
       "x*y + x + y"
      ]
     },
     "execution_count": 8,
     "metadata": {},
     "output_type": "execute_result"
    }
   ],
   "source": [
    "expr = x + y + x*y\n",
    "factor(expr)  # 如果表达式无法因式分解，返回原始表达式"
   ]
  },
  {
   "cell_type": "markdown",
   "id": "d82a3389-fe93-462f-8083-45929c044a0c",
   "metadata": {},
   "source": [
    "## 使表达式整齐输出"
   ]
  },
  {
   "cell_type": "markdown",
   "id": "b1fae79e-b2fd-4723-b507-b7249a0acd4d",
   "metadata": {},
   "source": [
    "使用 `pprint()` 函数可以更整齐的输出表达式，输出更接近于我们在纸上书写的形式。  \n",
    "\n",
    "应该是比较早版本的 `SymPy` 输出的结果不尽如意，才有了使用 `pprint()` 输出，但是下面的例子中，`pprint()` 的输出效果并没有 `SymPy` 包默认的输出好看。"
   ]
  },
  {
   "cell_type": "code",
   "execution_count": 9,
   "id": "eb39aed8-4911-4596-9a24-208857fbd00f",
   "metadata": {},
   "outputs": [
    {
     "data": {
      "text/latex": [
       "$\\displaystyle x^{2} + 2 x y + y^{2}$"
      ],
      "text/plain": [
       "x**2 + 2*x*y + y**2"
      ]
     },
     "execution_count": 9,
     "metadata": {},
     "output_type": "execute_result"
    }
   ],
   "source": [
    "expr = x*x + 2*x*y + y*y\n",
    "expr"
   ]
  },
  {
   "cell_type": "code",
   "execution_count": 10,
   "id": "71fd831c-9aab-4ae1-b670-a5f1de9bbe9c",
   "metadata": {},
   "outputs": [
    {
     "name": "stdout",
     "output_type": "stream",
     "text": [
      " 2            2\n",
      "x  + 2⋅x⋅y + y \n"
     ]
    }
   ],
   "source": [
    "sympy.pprint(expr)  # 更好的打印表达式，效果并不十分理想"
   ]
  },
  {
   "cell_type": "code",
   "execution_count": 11,
   "id": "97e5b6d7-a96c-461d-88b4-c8987269e1d5",
   "metadata": {},
   "outputs": [
    {
     "data": {
      "text/latex": [
       "$\\displaystyle 2 x^{2} + 2 x + 1$"
      ],
      "text/plain": [
       "2*x**2 + 2*x + 1"
      ]
     },
     "execution_count": 11,
     "metadata": {},
     "output_type": "execute_result"
    }
   ],
   "source": [
    "expr = 1 + 2*x + 2*x**2\n",
    "expr"
   ]
  },
  {
   "cell_type": "code",
   "execution_count": 12,
   "id": "43aad5fc-5a1c-4953-93de-3005c22f6342",
   "metadata": {},
   "outputs": [
    {
     "name": "stdout",
     "output_type": "stream",
     "text": [
      "   2          \n",
      "2⋅x  + 2⋅x + 1\n"
     ]
    }
   ],
   "source": [
    "sympy.pprint(expr)  # pprint()可以降幂输出，但是可以看出SymPy现在也是降序输出了"
   ]
  },
  {
   "cell_type": "code",
   "execution_count": 13,
   "id": "35aa2679-f1ca-476a-b25c-a17cfb949d95",
   "metadata": {},
   "outputs": [
    {
     "name": "stderr",
     "output_type": "stream",
     "text": [
      "/usr/local/lib/python3.7/dist-packages/IPython/lib/latextools.py:126: MatplotlibDeprecationWarning: \n",
      "The to_png function was deprecated in Matplotlib 3.4 and will be removed two minor releases later. Use mathtext.math_to_image instead.\n",
      "  mt.to_png(f, s, fontsize=12, dpi=dpi, color=color)\n",
      "/usr/local/lib/python3.7/dist-packages/IPython/lib/latextools.py:126: MatplotlibDeprecationWarning: \n",
      "The to_rgba function was deprecated in Matplotlib 3.4 and will be removed two minor releases later. Use mathtext.math_to_image instead.\n",
      "  mt.to_png(f, s, fontsize=12, dpi=dpi, color=color)\n",
      "/usr/local/lib/python3.7/dist-packages/IPython/lib/latextools.py:126: MatplotlibDeprecationWarning: \n",
      "The to_mask function was deprecated in Matplotlib 3.4 and will be removed two minor releases later. Use mathtext.math_to_image instead.\n",
      "  mt.to_png(f, s, fontsize=12, dpi=dpi, color=color)\n",
      "/usr/local/lib/python3.7/dist-packages/IPython/lib/latextools.py:126: MatplotlibDeprecationWarning: \n",
      "The MathtextBackendBitmap class was deprecated in Matplotlib 3.4 and will be removed two minor releases later. Use mathtext.math_to_image instead.\n",
      "  mt.to_png(f, s, fontsize=12, dpi=dpi, color=color)\n"
     ]
    },
    {
     "data": {
      "image/png": "[encoded data removed]",
      "text/latex": [
       "$\\displaystyle 1 + 2 x + 2 x^{2}$"
      ],
      "text/plain": [
       "             2\n",
       "1 + 2⋅x + 2⋅x "
      ]
     },
     "execution_count": 13,
     "metadata": {},
     "output_type": "execute_result"
    }
   ],
   "source": [
    "expr = 1 + 2*x + 2*x**2\n",
    "sympy.init_printing(order='rev-lex')  # 升幂打印表达式\n",
    "expr"
   ]
  },
  {
   "cell_type": "code",
   "execution_count": 14,
   "id": "6475dd63-a56f-4818-b89e-fdab0a491d18",
   "metadata": {},
   "outputs": [
    {
     "name": "stdout",
     "output_type": "stream",
     "text": [
      "             2\n",
      "1 + 2⋅x + 2⋅x \n"
     ]
    }
   ],
   "source": [
    "expr = 1 + 2*x + 2*x**2\n",
    "sympy.init_printing(order='rev-lex')  # 升幂打印表达式\n",
    "sympy.pprint(expr)"
   ]
  },
  {
   "cell_type": "code",
   "execution_count": null,
   "id": "cec8f5a6-354c-4e88-88cb-3a65c2c49095",
   "metadata": {},
   "outputs": [],
   "source": []
  }
 ],
 "metadata": {
  "kernelspec": {
   "display_name": "Python 3 (ipykernel)",
   "language": "python",
   "name": "python3"
  },
  "language_info": {
   "codemirror_mode": {
    "name": "ipython",
    "version": 3
   },
   "file_extension": ".py",
   "mimetype": "text/x-python",
   "name": "python",
   "nbconvert_exporter": "python",
   "pygments_lexer": "ipython3",
   "version": "3.7.3"
  }
 },
 "nbformat": 4,
 "nbformat_minor": 5
}
