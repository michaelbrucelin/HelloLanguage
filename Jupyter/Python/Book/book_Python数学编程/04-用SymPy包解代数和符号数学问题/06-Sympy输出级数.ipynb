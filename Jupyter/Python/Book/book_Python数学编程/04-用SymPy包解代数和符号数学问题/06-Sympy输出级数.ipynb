{
 "cells": [
  {
   "cell_type": "code",
   "execution_count": 1,
   "id": "50170cb2",
   "metadata": {},
   "outputs": [
    {
     "name": "stdout",
     "output_type": "stream",
     "text": [
      "Enter the number of terms you want in the series: 10\n",
      "     2    3    4    5    6    7    8    9    10\n",
      "    x    x    x    x    x    x    x    x    x  \n",
      "x + ── + ── + ── + ── + ── + ── + ── + ── + ───\n",
      "    2    3    4    5    6    7    8    9     10\n"
     ]
    }
   ],
   "source": [
    "'''\n",
    "用python输出下面级数\n",
    "    x**2   x**3         x**n\n",
    "x + ---- + ---- + ... + ----\n",
    "     2      3            n\n",
    "'''\n",
    "\n",
    "from sympy import Symbol, pprint, init_printing\n",
    "\n",
    "def print_series(n):\n",
    "    init_printing(order='rev-lex')\n",
    "    \n",
    "    x = Symbol('x')\n",
    "    series = x\n",
    "    for i in range(2, n+1):\n",
    "        series = series + (x**i)/i\n",
    "    \n",
    "    pprint(series)\n",
    "    \n",
    "if __name__ == '__main__':\n",
    "    n = input('Enter the number of terms you want in the series: ')\n",
    "    print_series(int(n))"
   ]
  },
  {
   "cell_type": "code",
   "execution_count": null,
   "id": "77632db4",
   "metadata": {},
   "outputs": [],
   "source": []
  }
 ],
 "metadata": {
  "kernelspec": {
   "display_name": "Python 3 (ipykernel)",
   "language": "python",
   "name": "python3"
  },
  "language_info": {
   "codemirror_mode": {
    "name": "ipython",
    "version": 3
   },
   "file_extension": ".py",
   "mimetype": "text/x-python",
   "name": "python",
   "nbconvert_exporter": "python",
   "pygments_lexer": "ipython3",
   "version": "3.7.3"
  }
 },
 "nbformat": 4,
 "nbformat_minor": 5
}
