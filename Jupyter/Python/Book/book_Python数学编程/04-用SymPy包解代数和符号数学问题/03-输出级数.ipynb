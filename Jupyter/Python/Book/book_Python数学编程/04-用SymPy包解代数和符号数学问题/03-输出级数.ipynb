{
 "cells": [
  {
   "cell_type": "markdown",
   "id": "601157a3-8cb8-4707-b652-56ff499022c4",
   "metadata": {},
   "source": [
    "# 输出级数"
   ]
  },
  {
   "cell_type": "raw",
   "id": "10414efd-1bf3-4320-9485-cca00d062431",
   "metadata": {},
   "source": [
    "用python输出下面级数\n",
    "    x**2   x**3         x**n\n",
    "x + ---- + ---- + ... + ----\n",
    "     2      3            n"
   ]
  },
  {
   "cell_type": "code",
   "execution_count": 1,
   "id": "82ed4873-f6d5-4abb-8467-2dec95d123f5",
   "metadata": {},
   "outputs": [],
   "source": [
    "from sympy import Symbol, pprint, init_printing\n",
    "from matplotlib import mathtext"
   ]
  },
  {
   "cell_type": "code",
   "execution_count": 2,
   "id": "5d3f7fde-2fa5-440c-bf8b-7a201a36f361",
   "metadata": {},
   "outputs": [],
   "source": [
    "def get_series(n):\n",
    "    init_printing(order='rev-lex')\n",
    "    \n",
    "    x = Symbol('x')\n",
    "    series = x\n",
    "    for i in range(2, n+1):\n",
    "        series = series + (x**i)/i\n",
    "    \n",
    "    return series"
   ]
  },
  {
   "cell_type": "code",
   "execution_count": 3,
   "id": "50170cb2",
   "metadata": {},
   "outputs": [
    {
     "name": "stdin",
     "output_type": "stream",
     "text": [
      "Enter the number of terms you want in the series:  10\n"
     ]
    },
    {
     "name": "stderr",
     "output_type": "stream",
     "text": [
      "/usr/local/lib/python3.7/dist-packages/IPython/lib/latextools.py:126: MatplotlibDeprecationWarning: \n",
      "The to_png function was deprecated in Matplotlib 3.4 and will be removed two minor releases later. Use mathtext.math_to_image instead.\n",
      "  mt.to_png(f, s, fontsize=12, dpi=dpi, color=color)\n",
      "/usr/local/lib/python3.7/dist-packages/IPython/lib/latextools.py:126: MatplotlibDeprecationWarning: \n",
      "The to_rgba function was deprecated in Matplotlib 3.4 and will be removed two minor releases later. Use mathtext.math_to_image instead.\n",
      "  mt.to_png(f, s, fontsize=12, dpi=dpi, color=color)\n",
      "/usr/local/lib/python3.7/dist-packages/IPython/lib/latextools.py:126: MatplotlibDeprecationWarning: \n",
      "The to_mask function was deprecated in Matplotlib 3.4 and will be removed two minor releases later. Use mathtext.math_to_image instead.\n",
      "  mt.to_png(f, s, fontsize=12, dpi=dpi, color=color)\n",
      "/usr/local/lib/python3.7/dist-packages/IPython/lib/latextools.py:126: MatplotlibDeprecationWarning: \n",
      "The MathtextBackendBitmap class was deprecated in Matplotlib 3.4 and will be removed two minor releases later. Use mathtext.math_to_image instead.\n",
      "  mt.to_png(f, s, fontsize=12, dpi=dpi, color=color)\n"
     ]
    },
    {
     "data": {
      "image/png": "[encoded data removed]",
      "text/latex": [
       "$\\displaystyle x + \\frac{x^{2}}{2} + \\frac{x^{3}}{3} + \\frac{x^{4}}{4} + \\frac{x^{5}}{5} + \\frac{x^{6}}{6} + \\frac{x^{7}}{7} + \\frac{x^{8}}{8} + \\frac{x^{9}}{9} + \\frac{x^{10}}{10}$"
      ],
      "text/plain": [
       "     2    3    4    5    6    7    8    9    10\n",
       "    x    x    x    x    x    x    x    x    x  \n",
       "x + ── + ── + ── + ── + ── + ── + ── + ── + ───\n",
       "    2    3    4    5    6    7    8    9     10"
      ]
     },
     "metadata": {},
     "output_type": "display_data"
    }
   ],
   "source": [
    "if __name__ == '__main__':\n",
    "    n = input('Enter the number of terms you want in the series: ')\n",
    "    series = get_series(int(n))\n",
    "    display(series)\n",
    "    # mathtext.math_to_image(series)"
   ]
  },
  {
   "cell_type": "code",
   "execution_count": 4,
   "id": "77632db4",
   "metadata": {},
   "outputs": [
    {
     "name": "stdin",
     "output_type": "stream",
     "text": [
      "Enter the number of terms you want in the series:  10\n"
     ]
    },
    {
     "name": "stdout",
     "output_type": "stream",
     "text": [
      "     2    3    4    5    6    7    8    9    10\n",
      "    x    x    x    x    x    x    x    x    x  \n",
      "x + ── + ── + ── + ── + ── + ── + ── + ── + ───\n",
      "    2    3    4    5    6    7    8    9     10\n"
     ]
    }
   ],
   "source": [
    "if __name__ == '__main__':\n",
    "    n = input('Enter the number of terms you want in the series: ')\n",
    "    series = get_series(int(n))\n",
    "    pprint(series)"
   ]
  },
  {
   "cell_type": "code",
   "execution_count": null,
   "id": "f6b33acd-86a9-4ba3-8e84-70f5e969944b",
   "metadata": {},
   "outputs": [],
   "source": []
  }
 ],
 "metadata": {
  "kernelspec": {
   "display_name": "Python 3 (ipykernel)",
   "language": "python",
   "name": "python3"
  },
  "language_info": {
   "codemirror_mode": {
    "name": "ipython",
    "version": 3
   },
   "file_extension": ".py",
   "mimetype": "text/x-python",
   "name": "python",
   "nbconvert_exporter": "python",
   "pygments_lexer": "ipython3",
   "version": "3.7.3"
  }
 },
 "nbformat": 4,
 "nbformat_minor": 5
}
