{
 "cells": [
  {
   "cell_type": "markdown",
   "id": "923b9f66-a972-486d-ab03-d6a0a87376a0",
   "metadata": {},
   "source": [
    "# 用值替代符号"
   ]
  },
  {
   "cell_type": "markdown",
   "id": "44a66f2b-d7d4-4250-bca5-0c37e158ffd3",
   "metadata": {},
   "source": [
    "将具体的值带入具体的 `SymPy` 表达式中，就可以计算表达式的值。"
   ]
  },
  {
   "cell_type": "code",
   "execution_count": 1,
   "id": "fd458984-b2e3-41f6-9224-178af8aee3d8",
   "metadata": {},
   "outputs": [],
   "source": [
    "from sympy import Symbol, symbols, factor, expand, init_printing\n",
    "import sympy"
   ]
  },
  {
   "cell_type": "code",
   "execution_count": 2,
   "id": "ea508f59-4457-4496-b065-77875bf45a16",
   "metadata": {},
   "outputs": [
    {
     "data": {
      "text/latex": [
       "$\\displaystyle x^{2} + 2 x y + y^{2}$"
      ],
      "text/plain": [
       "x**2 + 2*x*y + y**2"
      ]
     },
     "execution_count": 2,
     "metadata": {},
     "output_type": "execute_result"
    }
   ],
   "source": [
    "x = Symbol('x')\n",
    "y = Symbol('y')\n",
    "expr = x*x + 2*x*y + y*y\n",
    "expr"
   ]
  },
  {
   "cell_type": "code",
   "execution_count": 3,
   "id": "2dfebc2c-caed-496e-a72a-3870c3547934",
   "metadata": {},
   "outputs": [
    {
     "data": {
      "text/latex": [
       "$\\displaystyle 9$"
      ],
      "text/plain": [
       "9"
      ]
     },
     "execution_count": 3,
     "metadata": {},
     "output_type": "execute_result"
    }
   ],
   "source": [
    "res = expr.subs({x:1, y:2})  # 把值代入表达式并求解\n",
    "res"
   ]
  },
  {
   "cell_type": "code",
   "execution_count": 4,
   "id": "e9fd549f-272c-48c3-9a03-99d585dcdf1f",
   "metadata": {},
   "outputs": [
    {
     "data": {
      "text/latex": [
       "$\\displaystyle y^{2} + 2 y \\left(1 - y\\right) + \\left(1 - y\\right)^{2}$"
      ],
      "text/plain": [
       "y**2 + 2*y*(1 - y) + (1 - y)**2"
      ]
     },
     "execution_count": 4,
     "metadata": {},
     "output_type": "execute_result"
    }
   ],
   "source": [
    "expr.subs({x:1-y})  # 也可以使用一个符号的表达式来替代另一个符号"
   ]
  },
  {
   "cell_type": "code",
   "execution_count": 5,
   "id": "c4dbf378-8dd3-4926-b5ab-6cd3d2d99765",
   "metadata": {},
   "outputs": [
    {
     "data": {
      "text/latex": [
       "$\\displaystyle 1$"
      ],
      "text/plain": [
       "1"
      ]
     },
     "execution_count": 5,
     "metadata": {},
     "output_type": "execute_result"
    }
   ],
   "source": [
    "expr_subs = expr.subs({x:1-y})\n",
    "sympy.expand(expr_subs)"
   ]
  },
  {
   "cell_type": "code",
   "execution_count": 6,
   "id": "4bc38740-5b1a-4be3-95bf-d2206514cdbb",
   "metadata": {},
   "outputs": [
    {
     "data": {
      "text/latex": [
       "$\\displaystyle 1$"
      ],
      "text/plain": [
       "1"
      ]
     },
     "execution_count": 6,
     "metadata": {},
     "output_type": "execute_result"
    }
   ],
   "source": [
    "expr_subs = expr.subs({x:1-y})\n",
    "sympy.simplify(expr_subs)  # <==> expand(expr_subs) 简化表达式，simplify()还可以简化复杂的表达式，例如对数、三角函数之类的"
   ]
  },
  {
   "cell_type": "markdown",
   "id": "2b961f04-af90-446e-be8f-628a54176cd5",
   "metadata": {},
   "source": [
    "## 计算前面的级数"
   ]
  },
  {
   "cell_type": "code",
   "execution_count": 7,
   "id": "89c4173e-cc2c-4f8d-baa3-aa8baa94ca5a",
   "metadata": {},
   "outputs": [],
   "source": [
    "def get_series(n):\n",
    "    init_printing(order='rev-lex')\n",
    "    \n",
    "    x = Symbol('x')\n",
    "    series = x\n",
    "    for i in range(2, n+1):\n",
    "        series = series + (x**i)/i\n",
    "    \n",
    "    return series"
   ]
  },
  {
   "cell_type": "code",
   "execution_count": 8,
   "id": "37039edb-eca7-49cd-8a2f-113c536019ba",
   "metadata": {},
   "outputs": [
    {
     "name": "stdin",
     "output_type": "stream",
     "text": [
      "Enter the number of terms you want in the series:  10\n",
      "Enter the value of x at which you want to evaluate the series:  1\n"
     ]
    },
    {
     "name": "stdout",
     "output_type": "stream",
     "text": [
      "Value of the series at 1: 2.92896825396825\n"
     ]
    }
   ],
   "source": [
    "if __name__ == '__main__':\n",
    "    n = input('Enter the number of terms you want in the series: ')\n",
    "    x_value = input('Enter the value of x at which you want to evaluate the series: ')\n",
    "    \n",
    "    series = get_series(int(n))\n",
    "    series_value = series.subs({x:float(x_value)})\n",
    "    print('Value of the series at {0}: {1}'.format(x_value, series_value))"
   ]
  },
  {
   "cell_type": "code",
   "execution_count": 9,
   "id": "b321738f-2ec2-410e-a5b6-9f60e78a1202",
   "metadata": {},
   "outputs": [
    {
     "name": "stdin",
     "output_type": "stream",
     "text": [
      "Enter the number of terms you want in the series:  100\n",
      "Enter the value of x at which you want to evaluate the series:  1\n"
     ]
    },
    {
     "name": "stdout",
     "output_type": "stream",
     "text": [
      "Value of the series at 1: 5.18737751763962\n"
     ]
    }
   ],
   "source": [
    "if __name__ == '__main__':\n",
    "    n = input('Enter the number of terms you want in the series: ')\n",
    "    x_value = input('Enter the value of x at which you want to evaluate the series: ')\n",
    "    \n",
    "    series = get_series(int(n))\n",
    "    series_value = series.subs({x:float(x_value)})\n",
    "    print('Value of the series at {0}: {1}'.format(x_value, series_value))"
   ]
  },
  {
   "cell_type": "code",
   "execution_count": 10,
   "id": "36a1300a-8b4a-41da-b30f-6b29f85b2c37",
   "metadata": {},
   "outputs": [
    {
     "name": "stdin",
     "output_type": "stream",
     "text": [
      "Enter the number of terms you want in the series:  1000\n",
      "Enter the value of x at which you want to evaluate the series:  1\n"
     ]
    },
    {
     "name": "stdout",
     "output_type": "stream",
     "text": [
      "Value of the series at 1: 7.48547086055034\n"
     ]
    }
   ],
   "source": [
    "if __name__ == '__main__':\n",
    "    n = input('Enter the number of terms you want in the series: ')\n",
    "    x_value = input('Enter the value of x at which you want to evaluate the series: ')\n",
    "    \n",
    "    series = get_series(int(n))\n",
    "    series_value = series.subs({x:float(x_value)})\n",
    "    print('Value of the series at {0}: {1}'.format(x_value, series_value))"
   ]
  },
  {
   "cell_type": "code",
   "execution_count": null,
   "id": "a7ee1b3a-40eb-4678-aed2-7e3df1faa0b3",
   "metadata": {},
   "outputs": [],
   "source": []
  }
 ],
 "metadata": {
  "kernelspec": {
   "display_name": "Python 3 (ipykernel)",
   "language": "python",
   "name": "python3"
  },
  "language_info": {
   "codemirror_mode": {
    "name": "ipython",
    "version": 3
   },
   "file_extension": ".py",
   "mimetype": "text/x-python",
   "name": "python",
   "nbconvert_exporter": "python",
   "pygments_lexer": "ipython3",
   "version": "3.7.3"
  }
 },
 "nbformat": 4,
 "nbformat_minor": 5
}
