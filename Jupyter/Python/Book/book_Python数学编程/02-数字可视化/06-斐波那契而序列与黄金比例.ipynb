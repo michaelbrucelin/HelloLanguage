{
 "cells": [
  {
   "cell_type": "markdown",
   "id": "2a15fe83-65c1-4938-abf3-ca489ea05a26",
   "metadata": {},
   "source": [
    "# 斐波那契而序列与黄金比例"
   ]
  },
  {
   "cell_type": "markdown",
   "id": "d95e34ff-f240-409c-9784-4230201ba7aa",
   "metadata": {},
   "source": [
    "绘图观察斐波那契序列相邻两项之间的比例的变化。"
   ]
  },
  {
   "cell_type": "code",
   "execution_count": 1,
   "id": "c6232778-4afd-4d03-9a94-576c8e6542d7",
   "metadata": {},
   "outputs": [],
   "source": [
    "import matplotlib.pyplot as plt"
   ]
  },
  {
   "cell_type": "code",
   "execution_count": 2,
   "id": "e9684111-7746-4922-8b14-07d8a5d98e76",
   "metadata": {},
   "outputs": [],
   "source": [
    "def fibo(n):\n",
    "    if n <= 0:\n",
    "        return []\n",
    "    if n == 1:\n",
    "        return [1]\n",
    "    if n == 2:\n",
    "        return [1, 1]\n",
    "    series = [1, 1]\n",
    "    for _ in range(n-2):\n",
    "        series.append(series[-1] + series[-2])\n",
    "    return series"
   ]
  },
  {
   "cell_type": "code",
   "execution_count": 3,
   "id": "9e19a1dd-4208-4611-954e-ae68e4201399",
   "metadata": {},
   "outputs": [
    {
     "data": {
      "text/plain": [
       "[<matplotlib.lines.Line2D at 0x7f974499ff98>]"
      ]
     },
     "execution_count": 3,
     "metadata": {},
     "output_type": "execute_result"
    },
    {
     "data": {
      "image/png": "[encoded data removed]",
      "text/plain": [
       "<Figure size 432x288 with 1 Axes>"
      ]
     },
     "metadata": {
      "needs_background": "light"
     },
     "output_type": "display_data"
    }
   ],
   "source": [
    "N = 100\n",
    "fibonaci = fibo(N)\n",
    "ratio = []\n",
    "for i in range(N-1):\n",
    "    ratio.append(fibonaci[i+1] / fibonaci[i])\n",
    "\n",
    "plt.plot(ratio)"
   ]
  },
  {
   "cell_type": "code",
   "execution_count": null,
   "id": "3731a6cb-bf44-4640-8f33-7203d2a36ae0",
   "metadata": {},
   "outputs": [],
   "source": []
  }
 ],
 "metadata": {
  "kernelspec": {
   "display_name": "Python 3 (ipykernel)",
   "language": "python",
   "name": "python3"
  },
  "language_info": {
   "codemirror_mode": {
    "name": "ipython",
    "version": 3
   },
   "file_extension": ".py",
   "mimetype": "text/x-python",
   "name": "python",
   "nbconvert_exporter": "python",
   "pygments_lexer": "ipython3",
   "version": "3.7.3"
  }
 },
 "nbformat": 4,
 "nbformat_minor": 5
}
