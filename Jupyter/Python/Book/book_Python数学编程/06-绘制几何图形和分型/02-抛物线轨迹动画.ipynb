{
 "cells": [
  {
   "cell_type": "markdown",
   "id": "4fc9be31-949e-4758-8c85-1ce502e03fcb",
   "metadata": {},
   "source": [
    "# 抛物线轨迹动画"
   ]
  },
  {
   "cell_type": "code",
   "execution_count": 1,
   "id": "d98ec1ab-a73b-4ff8-a1d2-a13ae08814f2",
   "metadata": {},
   "outputs": [],
   "source": [
    "import matplotlib.pyplot as plt\n",
    "from matplotlib import animation\n",
    "import math"
   ]
  },
  {
   "cell_type": "code",
   "execution_count": 2,
   "id": "72818d0c-d7c7-48a3-97d0-8d83cd011aff",
   "metadata": {},
   "outputs": [
    {
     "name": "stdin",
     "output_type": "stream",
     "text": [
      "Enter the initial velocity (m/s):  100\n",
      "Enter the angle of projection (degrees):  45\n"
     ]
    },
    {
     "data": {
      "image/png": "[encoded data removed]",
      "text/plain": [
       "<Figure size 432x288 with 1 Axes>"
      ]
     },
     "metadata": {
      "needs_background": "light"
     },
     "output_type": "display_data"
    },
    {
     "name": "stderr",
     "output_type": "stream",
     "text": [
      "/usr/local/lib/python3.7/dist-packages/matplotlib/animation.py:974: UserWarning: Animation was deleted without rendering anything. This is most likely unintended. To prevent deletion, assign the Animation to a variable that exists for as long as you need the Animation.\n",
      "  'Animation was deleted without rendering anything. This is '\n"
     ]
    }
   ],
   "source": [
    "from IPython.display import HTML\n",
    "plt.rcParams['animation.embed_limit'] = 2**10\n",
    "\n",
    "g = 9.8\n",
    "\n",
    "def get_intervals(u, theta):\n",
    "    t_flight = 2*u*math.sin(theta)/g\n",
    "    intervals = []\n",
    "    start = 0\n",
    "    interval = 0.005\n",
    "    while start < t_flight:\n",
    "        intervals.append(start)\n",
    "        start += interval\n",
    "    return intervals\n",
    "\n",
    "def update_position(i, circle, intervals, u, theta):\n",
    "    t = intervals[i]\n",
    "    x = u*math.cos(theta)*t\n",
    "    y = u*math.sin(theta)*t - 0.5*g*t**2\n",
    "    circle.center = x, y\n",
    "    return circle\n",
    "\n",
    "def create_animation(u, theta):\n",
    "    intervals = get_intervals(u, theta)\n",
    "    xmin = 0\n",
    "    xmax = u*math.cos(theta)*intervals[-1]\n",
    "    ymin = 0\n",
    "    t_max = u*math.sin(theta)/g\n",
    "    ymax = u*math.sin(theta)*t_max - 0.5*g*t_max**2\n",
    "    fig = plt.figure()\n",
    "    ax = plt.axes(xlim=(xmin, xmax), ylim=(ymin, ymax))\n",
    "    \n",
    "    circle = plt.Circle((xmin, ymin), 1.0)\n",
    "    ax.add_patch(circle)\n",
    "    anim = animation.FuncAnimation(fig,\n",
    "                                   update_position,\n",
    "                                   fargs=(circle, intervals, u, theta),\n",
    "                                   frames=len(intervals),\n",
    "                                   interval=1,\n",
    "                                   repeat=False)\n",
    "    \n",
    "    plt.title('Projectitle Motion')\n",
    "    plt.xlabel('X')\n",
    "    plt.ylabel('Y')\n",
    "    plt.show()\n",
    "    # HTML(anim.to_jshtml())  # 产生的文件太大，测试时可以打开\n",
    "\n",
    "if __name__ == '__main__':\n",
    "    try:\n",
    "        u = float(input('Enter the initial velocity (m/s): '))\n",
    "        theta = float(input('Enter the angle of projection (degrees): '))\n",
    "    except ValueError:\n",
    "        print('You entered an invalid input')\n",
    "    else:\n",
    "        theta = math.radians(theta)\n",
    "        create_animation(u, theta)"
   ]
  },
  {
   "cell_type": "code",
   "execution_count": null,
   "id": "20d5cad2-0875-446c-819c-0d14af941f11",
   "metadata": {},
   "outputs": [],
   "source": []
  }
 ],
 "metadata": {
  "kernelspec": {
   "display_name": "Python 3 (ipykernel)",
   "language": "python",
   "name": "python3"
  },
  "language_info": {
   "codemirror_mode": {
    "name": "ipython",
    "version": 3
   },
   "file_extension": ".py",
   "mimetype": "text/x-python",
   "name": "python",
   "nbconvert_exporter": "python",
   "pygments_lexer": "ipython3",
   "version": "3.7.3"
  }
 },
 "nbformat": 4,
 "nbformat_minor": 5
}
