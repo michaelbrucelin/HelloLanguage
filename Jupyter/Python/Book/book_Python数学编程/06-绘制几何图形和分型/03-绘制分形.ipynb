{
 "cells": [
  {
   "cell_type": "markdown",
   "id": "758157ab-d0e4-41ab-84c1-65c180c1e150",
   "metadata": {},
   "source": [
    "# 绘制分形"
   ]
  },
  {
   "cell_type": "markdown",
   "id": "d84bab05-5599-44a3-9d59-19a2236c6e01",
   "metadata": {},
   "source": [
    "分形是一种重复应用简单的几何变换得到的复杂的几何图形，即整个图形由无数个自身副本构成。  \n",
    "由于分形设计平面上点的相同几何变换的重复应用，因此非常适合用计算机程序来创建。"
   ]
  },
  {
   "cell_type": "code",
   "execution_count": 1,
   "id": "38061be9-3728-4806-910a-8fcfc12fe1ed",
   "metadata": {},
   "outputs": [],
   "source": [
    "import matplotlib.pyplot as plt\n",
    "import random"
   ]
  },
  {
   "cell_type": "markdown",
   "id": "bcc291b8-f9ce-440d-bbc2-324047d7c086",
   "metadata": {},
   "source": [
    "## 平面上点的变换"
   ]
  },
  {
   "cell_type": "code",
   "execution_count": null,
   "id": "9c3b029f-7b5f-43fb-8ac6-a4c49df30a37",
   "metadata": {},
   "outputs": [],
   "source": []
  }
 ],
 "metadata": {
  "kernelspec": {
   "display_name": "Python 3 (ipykernel)",
   "language": "python",
   "name": "python3"
  },
  "language_info": {
   "codemirror_mode": {
    "name": "ipython",
    "version": 3
   },
   "file_extension": ".py",
   "mimetype": "text/x-python",
   "name": "python",
   "nbconvert_exporter": "python",
   "pygments_lexer": "ipython3",
   "version": "3.7.3"
  }
 },
 "nbformat": 4,
 "nbformat_minor": 5
}
