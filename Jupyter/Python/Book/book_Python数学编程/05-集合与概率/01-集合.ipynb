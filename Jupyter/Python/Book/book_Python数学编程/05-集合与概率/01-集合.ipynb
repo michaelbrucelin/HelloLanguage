{
 "cells": [
  {
   "cell_type": "markdown",
   "id": "9d2197e0-376e-4a29-bb05-c86a56c8689b",
   "metadata": {},
   "source": [
    "# 集合"
   ]
  },
  {
   "cell_type": "code",
   "execution_count": 1,
   "id": "9fc418d6-2492-414d-a5a2-c4b3a9cffc46",
   "metadata": {},
   "outputs": [],
   "source": [
    "from sympy import FiniteSet     # 集合\n",
    "from fractions import Fraction"
   ]
  },
  {
   "cell_type": "markdown",
   "id": "f2b14be4-c838-4fba-99c2-0e1bf5d4bb76",
   "metadata": {},
   "source": [
    "## 1. 构造集合"
   ]
  },
  {
   "cell_type": "code",
   "execution_count": 2,
   "id": "97f59b02",
   "metadata": {},
   "outputs": [
    {
     "data": {
      "text/latex": [
       "$\\displaystyle \\left\\{2, 4, 6\\right\\}$"
      ],
      "text/plain": [
       "FiniteSet(2, 4, 6)"
      ]
     },
     "execution_count": 2,
     "metadata": {},
     "output_type": "execute_result"
    }
   ],
   "source": [
    "s = FiniteSet(2, 4, 6)\n",
    "s"
   ]
  },
  {
   "cell_type": "code",
   "execution_count": 3,
   "id": "ecfbad9e",
   "metadata": {},
   "outputs": [
    {
     "data": {
      "text/latex": [
       "$\\displaystyle \\left\\{\\frac{1}{5}, 1, 1.5\\right\\}$"
      ],
      "text/plain": [
       "FiniteSet(1/5, 1, 1.5)"
      ]
     },
     "execution_count": 3,
     "metadata": {},
     "output_type": "execute_result"
    }
   ],
   "source": [
    "s = FiniteSet(1, 1.5, Fraction(1, 5))\n",
    "s"
   ]
  },
  {
   "cell_type": "code",
   "execution_count": 4,
   "id": "eea5af29",
   "metadata": {},
   "outputs": [
    {
     "data": {
      "text/plain": [
       "3"
      ]
     },
     "execution_count": 4,
     "metadata": {},
     "output_type": "execute_result"
    }
   ],
   "source": [
    "len(s)"
   ]
  },
  {
   "cell_type": "markdown",
   "id": "f382f558-bae0-47d6-91f5-d741f1c6b339",
   "metadata": {},
   "source": [
    "### 1.1. 判断元素是否在集合中"
   ]
  },
  {
   "cell_type": "code",
   "execution_count": 5,
   "id": "56fde9ba",
   "metadata": {},
   "outputs": [
    {
     "data": {
      "text/plain": [
       "False"
      ]
     },
     "execution_count": 5,
     "metadata": {},
     "output_type": "execute_result"
    }
   ],
   "source": [
    "4 in s"
   ]
  },
  {
   "cell_type": "markdown",
   "id": "e505315a-4244-434e-9bee-1df7bd3c0d96",
   "metadata": {},
   "source": [
    "### 1.2. 创建一个空集合"
   ]
  },
  {
   "cell_type": "code",
   "execution_count": 6,
   "id": "982b2e52",
   "metadata": {},
   "outputs": [
    {
     "data": {
      "text/latex": [
       "$\\displaystyle \\emptyset$"
      ],
      "text/plain": [
       "EmptySet"
      ]
     },
     "execution_count": 6,
     "metadata": {},
     "output_type": "execute_result"
    }
   ],
   "source": [
    "s = FiniteSet()  \n",
    "s"
   ]
  },
  {
   "cell_type": "markdown",
   "id": "2b661ad5-7f06-40b8-ac01-ca6bfadc85b5",
   "metadata": {},
   "source": [
    "### 1.3. 通过一个列表或元组创建集合"
   ]
  },
  {
   "cell_type": "code",
   "execution_count": 7,
   "id": "9eb2e52f",
   "metadata": {},
   "outputs": [
    {
     "data": {
      "text/latex": [
       "$\\displaystyle \\left\\{1, 2, 3\\right\\}$"
      ],
      "text/plain": [
       "FiniteSet(1, 2, 3)"
      ]
     },
     "execution_count": 7,
     "metadata": {},
     "output_type": "execute_result"
    }
   ],
   "source": [
    "members = [1, 2, 3]\n",
    "s = FiniteSet(*members)  # *members表示将列表中的元素作为单独的参数传递，等价于FiniteSet(1, 2, 3)\n",
    "s"
   ]
  },
  {
   "cell_type": "markdown",
   "id": "0ef5aef8-68e7-4188-a1dd-5bfa1eff7fd1",
   "metadata": {},
   "source": [
    "### 1.4. 集合重复与排序"
   ]
  },
  {
   "cell_type": "code",
   "execution_count": 8,
   "id": "b32b77f9",
   "metadata": {},
   "outputs": [
    {
     "data": {
      "text/latex": [
       "$\\displaystyle \\left\\{1, 2, 3\\right\\}$"
      ],
      "text/plain": [
       "FiniteSet(1, 2, 3)"
      ]
     },
     "execution_count": 8,
     "metadata": {},
     "output_type": "execute_result"
    }
   ],
   "source": [
    "members = [1, 2, 2, 3]\n",
    "FiniteSet(*members)  # 集合会自动去重复"
   ]
  },
  {
   "cell_type": "code",
   "execution_count": 9,
   "id": "01343bd3",
   "metadata": {},
   "outputs": [
    {
     "name": "stdout",
     "output_type": "stream",
     "text": [
      "1\n",
      "2\n",
      "3\n"
     ]
    }
   ],
   "source": [
    "s = FiniteSet(1, 2, 3)\n",
    "for member in s:\n",
    "    print(member)  # 集合是无序的，这里千万不要依赖输出顺序"
   ]
  },
  {
   "cell_type": "code",
   "execution_count": 10,
   "id": "bcff3a34",
   "metadata": {},
   "outputs": [
    {
     "data": {
      "text/plain": [
       "True"
      ]
     },
     "execution_count": 10,
     "metadata": {},
     "output_type": "execute_result"
    }
   ],
   "source": [
    "s = FiniteSet(3, 4, 5)\n",
    "t = FiniteSet(5, 4, 3)\n",
    "s == t"
   ]
  },
  {
   "cell_type": "markdown",
   "id": "72f8c2e2-52dd-43ff-baf6-d7a4f3adde0f",
   "metadata": {},
   "source": [
    "## 2. 子集、超集与幂集"
   ]
  },
  {
   "cell_type": "code",
   "execution_count": 11,
   "id": "98bffb36",
   "metadata": {},
   "outputs": [
    {
     "data": {
      "text/plain": [
       "True"
      ]
     },
     "execution_count": 11,
     "metadata": {},
     "output_type": "execute_result"
    }
   ],
   "source": [
    "s = FiniteSet(1)\n",
    "t = FiniteSet(1, 2)\n",
    "s.is_subset(t)  # 子集判断，is_proper_subset()判断真子集"
   ]
  },
  {
   "cell_type": "code",
   "execution_count": 12,
   "id": "0df5575c",
   "metadata": {},
   "outputs": [
    {
     "data": {
      "text/plain": [
       "True"
      ]
     },
     "execution_count": 12,
     "metadata": {},
     "output_type": "execute_result"
    }
   ],
   "source": [
    "t.is_superset(s)  # 超集判断，is_proper_superset()判断真超集"
   ]
  },
  {
   "cell_type": "code",
   "execution_count": 13,
   "id": "d2aa3faf",
   "metadata": {},
   "outputs": [
    {
     "data": {
      "text/latex": [
       "$\\displaystyle \\left\\{\\emptyset, \\left\\{1\\right\\}, \\left\\{2\\right\\}, \\left\\{3\\right\\}, \\left\\{1, 2\\right\\}, \\left\\{1, 3\\right\\}, \\left\\{2, 3\\right\\}, \\left\\{1, 2, 3\\right\\}\\right\\}$"
      ],
      "text/plain": [
       "FiniteSet(FiniteSet(1), FiniteSet(1, 2), FiniteSet(1, 3), FiniteSet(1, 2, 3), FiniteSet(2), FiniteSet(2, 3), FiniteSet(3), EmptySet)"
      ]
     },
     "execution_count": 13,
     "metadata": {},
     "output_type": "execute_result"
    }
   ],
   "source": [
    "s = FiniteSet(1, 2, 3)\n",
    "s.powerset()  # 幂集计算"
   ]
  },
  {
   "cell_type": "markdown",
   "id": "a65e52ed-3bd2-4283-8f3c-2bb72190029a",
   "metadata": {},
   "source": [
    "## 3. 集合运算"
   ]
  },
  {
   "cell_type": "markdown",
   "id": "a2756423-17d5-4d9e-9078-557be558e7cc",
   "metadata": {},
   "source": [
    "### 3.1. 交集与并集"
   ]
  },
  {
   "cell_type": "code",
   "execution_count": 14,
   "id": "f7b88f42",
   "metadata": {},
   "outputs": [
    {
     "data": {
      "text/latex": [
       "$\\displaystyle \\left\\{1, 2, 3, 4, 6\\right\\}$"
      ],
      "text/plain": [
       "FiniteSet(1, 2, 3, 4, 6)"
      ]
     },
     "execution_count": 14,
     "metadata": {},
     "output_type": "execute_result"
    }
   ],
   "source": [
    "s = FiniteSet(1, 2, 3)\n",
    "t = FiniteSet(2, 4, 6)\n",
    "s.union(t)  # 并集计算"
   ]
  },
  {
   "cell_type": "code",
   "execution_count": 15,
   "id": "2ff90ae4",
   "metadata": {},
   "outputs": [
    {
     "data": {
      "text/latex": [
       "$\\displaystyle \\left\\{2\\right\\}$"
      ],
      "text/plain": [
       "FiniteSet(2)"
      ]
     },
     "execution_count": 15,
     "metadata": {},
     "output_type": "execute_result"
    }
   ],
   "source": [
    "s.intersect(t)  # 交集计算"
   ]
  },
  {
   "cell_type": "code",
   "execution_count": 16,
   "id": "8f2c3348-7332-4b98-9d11-c598ac01d688",
   "metadata": {},
   "outputs": [
    {
     "data": {
      "text/latex": [
       "$\\displaystyle \\left\\{1, 2, 3, 4, 5, 6, 7\\right\\}$"
      ],
      "text/plain": [
       "FiniteSet(1, 2, 3, 4, 5, 6, 7)"
      ]
     },
     "execution_count": 16,
     "metadata": {},
     "output_type": "execute_result"
    }
   ],
   "source": [
    "s = FiniteSet(1, 2, 3)\n",
    "t = FiniteSet(2, 4, 6)\n",
    "u = FiniteSet(3, 5, 7)\n",
    "s.union(t).union(u)"
   ]
  },
  {
   "cell_type": "code",
   "execution_count": 17,
   "id": "2d800e7d-db78-493f-85e0-bd7d4384eb9d",
   "metadata": {},
   "outputs": [
    {
     "data": {
      "text/latex": [
       "$\\displaystyle \\emptyset$"
      ],
      "text/plain": [
       "EmptySet"
      ]
     },
     "execution_count": 17,
     "metadata": {},
     "output_type": "execute_result"
    }
   ],
   "source": [
    "s.intersect(t).intersect(u)"
   ]
  },
  {
   "cell_type": "markdown",
   "id": "9d981472-2cc6-4eb3-b245-152aaf9530c2",
   "metadata": {},
   "source": [
    "### 3.2. 笛卡尔积"
   ]
  },
  {
   "cell_type": "code",
   "execution_count": 18,
   "id": "5f5d08f8",
   "metadata": {},
   "outputs": [
    {
     "data": {
      "text/latex": [
       "$\\displaystyle \\left\\{1, 2\\right\\} \\times \\left\\{3, 4\\right\\}$"
      ],
      "text/plain": [
       "ProductSet(FiniteSet(1, 2), FiniteSet(3, 4))"
      ]
     },
     "execution_count": 18,
     "metadata": {},
     "output_type": "execute_result"
    }
   ],
   "source": [
    "s = FiniteSet(1, 2)\n",
    "t = FiniteSet(3, 4)\n",
    "p = s*t  # 笛卡尔积运算\n",
    "p"
   ]
  },
  {
   "cell_type": "code",
   "execution_count": 19,
   "id": "767fe62a-b09a-4154-8825-bb0f7abf01ad",
   "metadata": {},
   "outputs": [
    {
     "name": "stdout",
     "output_type": "stream",
     "text": [
      "(1, 3)\n",
      "(2, 3)\n",
      "(1, 4)\n",
      "(2, 4)\n"
     ]
    }
   ],
   "source": [
    "for elem in p:\n",
    "    print(elem)"
   ]
  },
  {
   "cell_type": "code",
   "execution_count": 20,
   "id": "6ab70954-3762-4152-b88e-495603d4a222",
   "metadata": {},
   "outputs": [
    {
     "data": {
      "text/plain": [
       "True"
      ]
     },
     "execution_count": 20,
     "metadata": {},
     "output_type": "execute_result"
    }
   ],
   "source": [
    "len(p)  == len(s)*len(t)"
   ]
  },
  {
   "cell_type": "code",
   "execution_count": 21,
   "id": "d69cf507",
   "metadata": {},
   "outputs": [
    {
     "data": {
      "text/latex": [
       "$\\displaystyle \\left\\{1, 2\\right\\}^{3}$"
      ],
      "text/plain": [
       "ProductSet(FiniteSet(1, 2), FiniteSet(1, 2), FiniteSet(1, 2))"
      ]
     },
     "execution_count": 21,
     "metadata": {},
     "output_type": "execute_result"
    }
   ],
   "source": [
    "s = FiniteSet(1, 2)\n",
    "p = s**3  # 集合自身的两次笛卡尔积\n",
    "p"
   ]
  },
  {
   "cell_type": "code",
   "execution_count": 22,
   "id": "f655d487-5693-44d7-887f-3af3de0142a8",
   "metadata": {},
   "outputs": [
    {
     "name": "stdout",
     "output_type": "stream",
     "text": [
      "(1, 1, 1)\n",
      "(2, 1, 1)\n",
      "(1, 2, 1)\n",
      "(2, 2, 1)\n",
      "(1, 1, 2)\n",
      "(2, 1, 2)\n",
      "(1, 2, 2)\n",
      "(2, 2, 2)\n"
     ]
    }
   ],
   "source": [
    "for elem in p:\n",
    "    print(elem)"
   ]
  },
  {
   "cell_type": "code",
   "execution_count": null,
   "id": "fb64d910",
   "metadata": {},
   "outputs": [],
   "source": []
  }
 ],
 "metadata": {
  "kernelspec": {
   "display_name": "Python 3 (ipykernel)",
   "language": "python",
   "name": "python3"
  },
  "language_info": {
   "codemirror_mode": {
    "name": "ipython",
    "version": 3
   },
   "file_extension": ".py",
   "mimetype": "text/x-python",
   "name": "python",
   "nbconvert_exporter": "python",
   "pygments_lexer": "ipython3",
   "version": "3.7.3"
  }
 },
 "nbformat": 4,
 "nbformat_minor": 5
}
