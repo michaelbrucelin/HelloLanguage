{
 "cells": [
  {
   "cell_type": "code",
   "execution_count": 1,
   "id": "3932cab7-4689-488b-bd9b-04992d69e126",
   "metadata": {},
   "outputs": [],
   "source": [
    "import numpy as np\n",
    "import pandas as pd\n",
    "import matplotlib.pyplot as plt"
   ]
  },
  {
   "cell_type": "code",
   "execution_count": 3,
   "id": "fbc250ac-3d81-4ed3-a073-a92d043ab179",
   "metadata": {},
   "outputs": [
    {
     "data": {
      "image/png": "[encoded data removed]",
      "text/plain": [
       "<Figure size 432x288 with 1 Axes>"
      ]
     },
     "metadata": {
      "needs_background": "light"
     },
     "output_type": "display_data"
    }
   ],
   "source": [
    "# 表盘\n",
    "import matplotlib.patches as mpathes\n",
    "\n",
    "UNITPI = np.pi/30\n",
    "\n",
    "fig, ax = plt.subplots()\n",
    "ax.set_xlim((-1.2, 1.2))\n",
    "ax.set_ylim((-1.2, 1.2))\n",
    "ax.set_aspect('equal')\n",
    "ax.add_patch(mpathes.Circle((0,0) , 1, fill=False, alpha=0.1))\n",
    "\n",
    "arrMini = np.cos(UNITPI*np.arange(60))\n",
    "arrHour = np.arange(0,12)\n",
    "\n",
    "plt.show()"
   ]
  },
  {
   "cell_type": "code",
   "execution_count": 2,
   "id": "614787b1-ce42-4115-95c9-3916784dcc07",
   "metadata": {},
   "outputs": [
    {
     "data": {
      "image/png": "[encoded data removed]",
      "text/plain": [
       "<Figure size 432x288 with 1 Axes>"
      ]
     },
     "metadata": {
      "needs_background": "light"
     },
     "output_type": "display_data"
    }
   ],
   "source": [
    "from matplotlib import animation\n",
    "\n",
    "UNITPI = np.pi/30\n",
    "# arr = np.append(np.arange(0, -12, -1), np.arange(12, 0, -1))\n",
    "\n",
    "fig, ax = plt.subplots()\n",
    "ax.set_xlim((-1.2, 1.2))\n",
    "ax.set_ylim((-1.2, 1.2))\n",
    "ax.set_aspect('equal')\n",
    "\n",
    "lineXY, = plt.plot([0, np.cos(np.pi/2-UNITPI*0)], [0, np.sin(np.pi/2-UNITPI*0)])\n",
    "\n",
    "def update(i):\n",
    "    Xp, Yp = [0, np.cos(np.pi/2-UNITPI*i)], [0, np.sin(np.pi/2-UNITPI*i)]\n",
    "    lineXY.set_data(Xp, Yp)\n",
    "    return lineXY,\n",
    "\n",
    "anim = animation.FuncAnimation(fig, update, frames=61, interval=1000, blit=True, repeat=False)\n",
    "\n",
    "plt.show()"
   ]
  },
  {
   "cell_type": "code",
   "execution_count": null,
   "id": "806a9e4b-6da1-4f2b-b305-21408f4e6b5a",
   "metadata": {},
   "outputs": [],
   "source": []
  }
 ],
 "metadata": {
  "kernelspec": {
   "display_name": "Python 3 (ipykernel)",
   "language": "python",
   "name": "python3"
  },
  "language_info": {
   "codemirror_mode": {
    "name": "ipython",
    "version": 3
   },
   "file_extension": ".py",
   "mimetype": "text/x-python",
   "name": "python",
   "nbconvert_exporter": "python",
   "pygments_lexer": "ipython3",
   "version": "3.7.3"
  }
 },
 "nbformat": 4,
 "nbformat_minor": 5
}
