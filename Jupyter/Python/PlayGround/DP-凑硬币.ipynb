{
 "cells": [
  {
   "cell_type": "raw",
   "id": "8356b16d-7b7d-4c2c-8c7d-2c966bbdd847",
   "metadata": {},
   "source": [
    "问题： 有1元、3元、5元面值的硬币若干，要凑到N元需要最少几个硬币？"
   ]
  },
  {
   "cell_type": "code",
   "execution_count": 1,
   "id": "4e818ce1-efc8-4ab0-ad58-a43253d9cf9a",
   "metadata": {},
   "outputs": [],
   "source": [
    "import numpy as np\n",
    "import pandas as pd\n",
    "import matplotlib.pyplot as plt\n",
    "\n",
    "import time"
   ]
  },
  {
   "cell_type": "code",
   "execution_count": 2,
   "id": "674cf658-2acc-41be-a7c1-90d7413a96e4",
   "metadata": {},
   "outputs": [],
   "source": [
    "def coins_rec(M):\n",
    "    if M == 0:\n",
    "        return 0\n",
    "    l = []\n",
    "    for i in [1,3,5]:\n",
    "        if M-i >= 0:\n",
    "            l.append(coins_rec(M-i)+1)\n",
    "    return min(l) \n",
    "\n",
    "def coins_dp(M):\n",
    "    n = [0]\n",
    "    for N in range(1, M+1):\n",
    "        l = []\n",
    "        for i in [1,3,5]:\n",
    "            if N-i >= 0:\n",
    "                l.append(n[N-i]+1)\n",
    "        n.append(min(l))\n",
    "    return n"
   ]
  },
  {
   "cell_type": "code",
   "execution_count": 3,
   "id": "07259613-1002-4483-a676-e931264e91a6",
   "metadata": {},
   "outputs": [
    {
     "data": {
      "text/plain": [
       "<matplotlib.legend.Legend at 0x7fc1c9ddbd68>"
      ]
     },
     "execution_count": 3,
     "metadata": {},
     "output_type": "execute_result"
    },
    {
     "data": {
      "image/png": "[encoded data removed]",
      "text/plain": [
       "<Figure size 432x288 with 1 Axes>"
      ]
     },
     "metadata": {
      "needs_background": "light"
     },
     "output_type": "display_data"
    }
   ],
   "source": [
    "l_rec = []\n",
    "l_dp = []\n",
    "for i in range(32):\n",
    "    t1 = time.time()\n",
    "    coins_rec(i)\n",
    "    t2 = time.time()\n",
    "    coins_dp(i)\n",
    "    t3 = time.time()\n",
    "    l_rec.append(t2-t1)\n",
    "    l_dp.append(t3-t2)\n",
    "\n",
    "plt.plot(l_rec, label='Recursion')\n",
    "plt.plot(l_dp, label='DP')\n",
    "plt.legend()"
   ]
  },
  {
   "cell_type": "code",
   "execution_count": 4,
   "id": "c9af6190-42c3-4719-b2c9-3aaa5342c170",
   "metadata": {},
   "outputs": [],
   "source": [
    "# 同时返回结果数量与具体的结果，当有多种结果时，只返回其中一种结果\n",
    "def coins_dp2(M):\n",
    "    n = [0]\n",
    "    nl = [[]]\n",
    "    for N in range(1, M+1):\n",
    "        d = {}\n",
    "        for i in [1,3,5]:\n",
    "            if N-i >= 0:\n",
    "                d[n[N-i]+1] = i\n",
    "        n.append(min(d))\n",
    "        ntmp = nl[N-d[min(d)]].copy()\n",
    "        ntmp.append(d[min(d)])\n",
    "        nl.append(ntmp)\n",
    "    return n, nl"
   ]
  },
  {
   "cell_type": "code",
   "execution_count": 5,
   "id": "ed0eaa4c-0d40-4a58-89dc-ff59dfef443b",
   "metadata": {},
   "outputs": [
    {
     "name": "stdout",
     "output_type": "stream",
     "text": [
      "[0, 1, 2, 1, 2, 1, 2, 3, 2, 3, 2, 3, 4, 3, 4, 3, 4]\n",
      "[[], [1], [1, 1], [3], [1, 3], [5], [1, 5], [1, 1, 5], [3, 5], [1, 3, 5], [5, 5], [1, 5, 5], [1, 1, 5, 5], [3, 5, 5], [1, 3, 5, 5], [5, 5, 5], [1, 5, 5, 5]]\n"
     ]
    }
   ],
   "source": [
    "n, nl = coins_dp2(16)\n",
    "print(n)\n",
    "print(nl)"
   ]
  },
  {
   "cell_type": "code",
   "execution_count": null,
   "id": "23ddefb0-45f3-4908-ab97-0058f08e35df",
   "metadata": {},
   "outputs": [],
   "source": []
  }
 ],
 "metadata": {
  "kernelspec": {
   "display_name": "Python 3 (ipykernel)",
   "language": "python",
   "name": "python3"
  },
  "language_info": {
   "codemirror_mode": {
    "name": "ipython",
    "version": 3
   },
   "file_extension": ".py",
   "mimetype": "text/x-python",
   "name": "python",
   "nbconvert_exporter": "python",
   "pygments_lexer": "ipython3",
   "version": "3.7.3"
  }
 },
 "nbformat": 4,
 "nbformat_minor": 5
}
