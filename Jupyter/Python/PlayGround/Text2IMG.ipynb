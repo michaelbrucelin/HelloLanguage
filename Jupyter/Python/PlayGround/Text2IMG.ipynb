{
 "cells": [
  {
   "cell_type": "markdown",
   "id": "64e58e36-5066-4f75-ac6c-40ee04af3f62",
   "metadata": {},
   "source": [
    "# Text2IMG"
   ]
  },
  {
   "cell_type": "markdown",
   "id": "836b50e4-c680-482a-ac58-c24c42ddcd03",
   "metadata": {},
   "source": [
    "将文本转为图片，每个文字的`unicode`编码使用两个字节表示，而每个颜色使用3个字节表示，这里将颜色中的红使用随机值，绿蓝两个颜色使用文字对应的`unicode`编码表示，就可以实现颜色与文字的映射。"
   ]
  },
  {
   "cell_type": "code",
   "execution_count": null,
   "id": "dc48279d-2045-4384-9ae7-b3a6d3bb45f0",
   "metadata": {},
   "outputs": [],
   "source": []
  }
 ],
 "metadata": {
  "kernelspec": {
   "display_name": "Python 3 (ipykernel)",
   "language": "python",
   "name": "python3"
  },
  "language_info": {
   "codemirror_mode": {
    "name": "ipython",
    "version": 3
   },
   "file_extension": ".py",
   "mimetype": "text/x-python",
   "name": "python",
   "nbconvert_exporter": "python",
   "pygments_lexer": "ipython3",
   "version": "3.9.2"
  }
 },
 "nbformat": 4,
 "nbformat_minor": 5
}
