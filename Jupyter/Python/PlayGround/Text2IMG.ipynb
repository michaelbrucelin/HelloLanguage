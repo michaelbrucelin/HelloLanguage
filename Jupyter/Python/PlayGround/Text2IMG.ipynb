{
 "cells": [
  {
   "cell_type": "markdown",
   "id": "64e58e36-5066-4f75-ac6c-40ee04af3f62",
   "metadata": {},
   "source": [
    "# Text2IMG"
   ]
  },
  {
   "cell_type": "markdown",
   "id": "836b50e4-c680-482a-ac58-c24c42ddcd03",
   "metadata": {},
   "source": [
    "将文本转为图片，每个文字的`unicode`编码使用两个字节表示，而每个颜色使用3个字节表示，这里将颜色中的红使用随机值，绿蓝两个颜色使用文字对应的`unicode`编码表示，就可以实现颜色与文字的映射。\n",
    "红色的值，也可以使用绿和蓝的颜色来生成，或者直接设置为0或255，这里面可以发挥些想象力。"
   ]
  },
  {
   "cell_type": "code",
   "execution_count": 1,
   "id": "dc48279d-2045-4384-9ae7-b3a6d3bb45f0",
   "metadata": {},
   "outputs": [],
   "source": [
    "from PIL import Image\n",
    "import random\n",
    "import math\n",
    "\n",
    "def encode(text):\n",
    "    str_len = len(text)\n",
    "    width = math.ceil(str_len**0.5)\n",
    "    im = Image.new('RGB', (width, width), 0x0)\n",
    "    \n",
    "    x, y = 0, 0\n",
    "    for word in text:\n",
    "        index = ord(word)\n",
    "        rgb = (random.randint(0,255), (index&0xFF00)>>8, index&0xFF)\n",
    "        im.putpixel((x,y), rgb)\n",
    "        if x == width - 1:\n",
    "            x, y = 0, y+1\n",
    "        else:\n",
    "            x += 1\n",
    "    return im\n",
    "\n",
    "if __name__ == '__main__':\n",
    "    with open('./data/三体.txt', encoding='utf-8') as f:\n",
    "        all_text = f.read()\n",
    "    im = encode(all_text)\n",
    "    im.save('./data/三体.bmp')"
   ]
  },
  {
   "cell_type": "code",
   "execution_count": 2,
   "id": "7c85a32c-9688-4098-93e9-d5618e371612",
   "metadata": {},
   "outputs": [],
   "source": [
    "from PIL import Image\n",
    "\n",
    "def decode(im):\n",
    "    width, height = im.size\n",
    "    lst = []\n",
    "    for y in range(height):\n",
    "        for x in range(width):\n",
    "            red, green, blue = im.getpixel((x,y))\n",
    "            if (blue|green|red) == 0:\n",
    "                break\n",
    "            index = (green<<8) + blue\n",
    "            lst.append(chr(index))\n",
    "    return ''.join(lst)\n",
    "\n",
    "if __name__ == '__main__':\n",
    "    all_text = decode(Image.open('./data/三体.bmp', 'r'))\n",
    "    with open('./data/三体_decode.txt', 'w', encoding='utf-8') as f:\n",
    "        f.write(all_text)"
   ]
  },
  {
   "cell_type": "code",
   "execution_count": null,
   "id": "c18692f6-b8d0-4275-aeb8-a4dbb462e1e1",
   "metadata": {},
   "outputs": [],
   "source": []
  }
 ],
 "metadata": {
  "kernelspec": {
   "display_name": "Python 3 (ipykernel)",
   "language": "python",
   "name": "python3"
  },
  "language_info": {
   "codemirror_mode": {
    "name": "ipython",
    "version": 3
   },
   "file_extension": ".py",
   "mimetype": "text/x-python",
   "name": "python",
   "nbconvert_exporter": "python",
   "pygments_lexer": "ipython3",
   "version": "3.9.2"
  }
 },
 "nbformat": 4,
 "nbformat_minor": 5
}
