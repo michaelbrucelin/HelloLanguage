{
 "cells": [
  {
   "cell_type": "markdown",
   "id": "ea97a3df-b7f4-43d5-afa0-6573b56629f0",
   "metadata": {},
   "source": [
    "# DrawInExcel"
   ]
  },
  {
   "cell_type": "markdown",
   "id": "9ca338f9-0e11-4c97-ae96-53bcd220931b",
   "metadata": {},
   "source": [
    "使用`Excel`绘画，即将`Excel`单元格设置为很小的正方形，然后遍历一张图片的每一个像素，然后将每一个像素的颜色复制到`Excel`的单元格中。"
   ]
  },
  {
   "cell_type": "code",
   "execution_count": 1,
   "id": "3fdca811-16d4-414e-84ff-3047206d4b39",
   "metadata": {},
   "outputs": [],
   "source": [
    "import openpyxl\n",
    "from openpyxl.utils import get_column_letter\n",
    "from openpyxl.styles import PatternFill, Color\n",
    "import PIL\n",
    "\n",
    "workbook = openpyxl.Workbook()\n",
    "worksheet = workbook.active\n",
    "\n",
    "im = PIL.Image.open('data/smile.jpg')\n",
    "im_width, im_height = im.size[0], im.size[1]\n",
    "pix = im.load()\n",
    "\n",
    "for row in range(im_height):\n",
    "    for col in range(im_width):\n",
    "        cell = worksheet.cell(column=col+1, row=row+1)\n",
    "        pixpoint = pix[col, row]\n",
    "        pixColor = \"FF%02X%02X%02X\" % (pixpoint[0], pixpoint[1], pixpoint[2])\n",
    "        fill = openpyxl.styles.PatternFill(patternType='solid', fgColor=Color(rgb=pixColor))\n",
    "        cell.fill = fill\n",
    "    worksheet.row_dimensions[row+1].height = 7.5                        # 10px\n",
    "\n",
    "for col in range(im_width):\n",
    "    worksheet.column_dimensions[get_column_letter(col+1)].width = 1.28  # 10px\n",
    "\n",
    "workbook.save(filename='data/smile.xlsx')"
   ]
  },
  {
   "cell_type": "code",
   "execution_count": 2,
   "id": "6f18e989-8f77-4935-8625-3a35ad35c822",
   "metadata": {},
   "outputs": [],
   "source": [
    "![ -e data/MonaLisa.xlsx ] && rm -f data/MonaLisa.xlsx\n",
    "![ -e data/debianlogo.xlsx ] && rm -f data/debianlogo.xlsx\n",
    "![ -e data/smile.xlsx ] && rm -f data/smile.xlsx"
   ]
  },
  {
   "cell_type": "code",
   "execution_count": null,
   "id": "b610fe21-9719-43bc-a696-3692801515b3",
   "metadata": {},
   "outputs": [],
   "source": []
  }
 ],
 "metadata": {
  "kernelspec": {
   "display_name": "Python 3 (ipykernel)",
   "language": "python",
   "name": "python3"
  },
  "language_info": {
   "codemirror_mode": {
    "name": "ipython",
    "version": 3
   },
   "file_extension": ".py",
   "mimetype": "text/x-python",
   "name": "python",
   "nbconvert_exporter": "python",
   "pygments_lexer": "ipython3",
   "version": "3.9.2"
  }
 },
 "nbformat": 4,
 "nbformat_minor": 5
}
