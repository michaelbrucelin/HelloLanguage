{
 "cells": [
  {
   "cell_type": "code",
   "execution_count": 1,
   "id": "45c205ca",
   "metadata": {},
   "outputs": [],
   "source": [
    "import numpy as np\n",
    "import pandas as pd\n",
    "import matplotlib.pyplot as plt"
   ]
  },
  {
   "cell_type": "code",
   "execution_count": 2,
   "id": "17a288ee",
   "metadata": {},
   "outputs": [
    {
     "data": {
      "text/plain": [
       "['a', 'b', '  guido']"
      ]
     },
     "execution_count": 2,
     "metadata": {},
     "output_type": "execute_result"
    }
   ],
   "source": [
    "val = 'a,b,  guido'\n",
    "val.split(',')  # 将字符串拆分为数组"
   ]
  },
  {
   "cell_type": "code",
   "execution_count": 3,
   "id": "7acd2e78",
   "metadata": {},
   "outputs": [
    {
     "data": {
      "text/plain": [
       "['a', 'b', 'guido']"
      ]
     },
     "execution_count": 3,
     "metadata": {},
     "output_type": "execute_result"
    }
   ],
   "source": [
    "pieces = [x.strip() for x in val.split(',')]\n",
    "pieces"
   ]
  },
  {
   "cell_type": "code",
   "execution_count": 4,
   "id": "cb41d862",
   "metadata": {},
   "outputs": [
    {
     "data": {
      "text/plain": [
       "'a::b::guido'"
      ]
     },
     "execution_count": 4,
     "metadata": {},
     "output_type": "execute_result"
    }
   ],
   "source": [
    "'::'.join(pieces)  # 将数组拼接为字符串"
   ]
  },
  {
   "cell_type": "code",
   "execution_count": 5,
   "id": "1025f81e",
   "metadata": {},
   "outputs": [
    {
     "data": {
      "text/plain": [
       "'a::b::  guido'"
      ]
     },
     "execution_count": 5,
     "metadata": {},
     "output_type": "execute_result"
    }
   ],
   "source": [
    "val = 'a,b,  guido'\n",
    "'guido' in val          # True\n",
    "val.index(',')          # 1，如果找不到，抛异常\n",
    "val.find(',')           # 1，如果找不到，返回-1\n",
    "val.count(',')          # 2\n",
    "val.replace(',', '::')  # 'a::b::  guido'"
   ]
  },
  {
   "cell_type": "code",
   "execution_count": 6,
   "id": "d2c72a50",
   "metadata": {},
   "outputs": [],
   "source": [
    "# Python内置的字符串方法\n",
    "# 方法          说明\n",
    "# count       返回子串在字符串中的出现次数（非重叠）\n",
    "# endswith    如果字符串以某个后缀结尾，则返回True\n",
    "# startswith  如果字符串以以某个前缀开头，则返回True\n",
    "# join        将字符串用作连接其他字符串序列的分隔符\n",
    "# index       如果在字符串中找到子串，则返回子串第一个字符所在的位置。如果没有找到，则引发ValueError。\n",
    "# find        如果在字符串中找到子串，则返回第一个发现的子串的第一个字符所在的位置。如果没有找到，则返回-1\n",
    "# rfind       如果在字符串中找到子串，则返回最后一个发现的子串的第一个字符所在的位置。如果没有找到，则返回-1\n",
    "# replace     用另一个字符串替换指定子串\n",
    "# strip、rstrip, lstrip  去除空白符（包括换行符）。相当于对各个元素执行x.strip()\n",
    "# split       通过指定的分隔符将字符串拆分为一组子串\n",
    "# lower、upper           分别将字母字符转换为小写或大写\n",
    "# casefold    将字符转换为小写，并将任何特定区域的变量字符组合转换成一个通用的可比较形式\n",
    "# ljust、rjust           用空格（或其他字符）填充字符串的空白侧以返回符合最低宽度的字符串"
   ]
  },
  {
   "cell_type": "code",
   "execution_count": 7,
   "id": "0d9c25ba",
   "metadata": {},
   "outputs": [
    {
     "data": {
      "text/plain": [
       "['foo', 'bar', 'baz', 'qux']"
      ]
     },
     "execution_count": 7,
     "metadata": {},
     "output_type": "execute_result"
    }
   ],
   "source": [
    "import re\n",
    "\n",
    "text = \"foo    bar\\t baz  \\tqux\"\n",
    "re.split('\\s+', text)  # 正则表达式拆分"
   ]
  },
  {
   "cell_type": "code",
   "execution_count": 8,
   "id": "3b5b10eb",
   "metadata": {},
   "outputs": [
    {
     "data": {
      "text/plain": [
       "['    ', '\\t ', '  \\t']"
      ]
     },
     "execution_count": 8,
     "metadata": {},
     "output_type": "execute_result"
    }
   ],
   "source": [
    "text = \"foo    bar\\t baz  \\tqux\"\n",
    "regex = re.compile('\\s+')  # 如果需要将相同的正则表达式应用到多个字符串，可以这样先自定编译一个可复用的正则表达式对象\n",
    "regex.findall(text)  # 返回字符串中所有匹配到的项"
   ]
  },
  {
   "cell_type": "code",
   "execution_count": 9,
   "id": "bce32667",
   "metadata": {},
   "outputs": [
    {
     "data": {
      "text/plain": [
       "['dave@google.com', 'steve@gmail.com', 'rob@gmail.com', 'ryan@yahoo.com']"
      ]
     },
     "execution_count": 9,
     "metadata": {},
     "output_type": "execute_result"
    }
   ],
   "source": [
    "text = \"\"\"Dave dave@google.com\n",
    "Steve steve@gmail.com\n",
    "Rob rob@gmail.com\n",
    "Ryan ryan@yahoo.com\n",
    "\"\"\"\n",
    "pattern = r'[A-Z0-9._%+-]+@[A-Z0-9.-]+\\.[A-Z]{2,4}'\n",
    "\n",
    "regex = re.compile(pattern, flags=re.IGNORECASE)\n",
    "\n",
    "regex.findall(text)  # findall()返回字符串中所有匹配到的项"
   ]
  },
  {
   "cell_type": "code",
   "execution_count": 10,
   "id": "71f33f63",
   "metadata": {},
   "outputs": [
    {
     "data": {
      "text/plain": [
       "<re.Match object; span=(5, 20), match='dave@google.com'>"
      ]
     },
     "execution_count": 10,
     "metadata": {},
     "output_type": "execute_result"
    }
   ],
   "source": [
    "regex.search(text)  # search()只返回字符串中匹配到的第一项"
   ]
  },
  {
   "cell_type": "code",
   "execution_count": 11,
   "id": "ce121d85",
   "metadata": {},
   "outputs": [],
   "source": [
    "regex.match(text)  # match()只从字符串的开头开始匹配"
   ]
  },
  {
   "cell_type": "code",
   "execution_count": 12,
   "id": "b76acc58",
   "metadata": {},
   "outputs": [
    {
     "data": {
      "text/plain": [
       "'Dave READCTED\\nSteve READCTED\\nRob READCTED\\nRyan READCTED\\n'"
      ]
     },
     "execution_count": 12,
     "metadata": {},
     "output_type": "execute_result"
    }
   ],
   "source": [
    "regex.sub('READCTED', text)  # sub()进行替换"
   ]
  },
  {
   "cell_type": "code",
   "execution_count": 13,
   "id": "aeaffa01",
   "metadata": {},
   "outputs": [
    {
     "data": {
      "text/plain": [
       "('wesm', 'bright', 'net')"
      ]
     },
     "execution_count": 13,
     "metadata": {},
     "output_type": "execute_result"
    }
   ],
   "source": [
    "pattern = r'([A-Z0-9._%+-]+)@([A-Z0-9.-]+)\\.([A-Z]{2,4})'\n",
    "regex = re.compile(pattern, flags=re.IGNORECASE)\n",
    "\n",
    "m = regex.match('wesm@bright.net')\n",
    "m.groups()"
   ]
  },
  {
   "cell_type": "code",
   "execution_count": 14,
   "id": "c72a54d7",
   "metadata": {},
   "outputs": [
    {
     "data": {
      "text/plain": [
       "[('dave', 'google', 'com'),\n",
       " ('steve', 'gmail', 'com'),\n",
       " ('rob', 'gmail', 'com'),\n",
       " ('ryan', 'yahoo', 'com')]"
      ]
     },
     "execution_count": 14,
     "metadata": {},
     "output_type": "execute_result"
    }
   ],
   "source": [
    "regex.findall(text)"
   ]
  },
  {
   "cell_type": "code",
   "execution_count": 15,
   "id": "4b884e31",
   "metadata": {},
   "outputs": [
    {
     "name": "stdout",
     "output_type": "stream",
     "text": [
      "Dave Username: dave, Domain: google, Suffix: com\n",
      "Steve Username: steve, Domain: gmail, Suffix: com\n",
      "Rob Username: rob, Domain: gmail, Suffix: com\n",
      "Ryan Username: ryan, Domain: yahoo, Suffix: com\n",
      "\n"
     ]
    }
   ],
   "source": [
    "print(regex.sub(r'Username: \\1, Domain: \\2, Suffix: \\3', text))"
   ]
  },
  {
   "cell_type": "code",
   "execution_count": 16,
   "id": "cdbeab0d",
   "metadata": {},
   "outputs": [],
   "source": [
    "# 正则表达式方法\n",
    "# 方法                说明\n",
    "# findall finditer  返回字符串中所有的非重叠匹配模式。findall返回的是由所有模式组成的列表，而finditer则通过一个迭代器逐个返回\n",
    "# match             从字符串起始位置匹配模式，还可以对模式各部分进行分组。如果匹配到模式，则返回一个匹配项对象，否则返回None\n",
    "# search            扫描整个字符串以匹配模式。如果找到则返回一个匹配项对象。跟match不同，其匹配项可以位于字符串的任意位置，\n",
    "#                   而不仅仅是起始处\n",
    "# split             根据找到的模式将字符串拆分为数段\n",
    "# sub、subn         将字符串中所有的（sub）或前n个（subn）模式替换为指定表达式译注12。在替换字符串中可以通过\\1、\\2等符号表示各分组项"
   ]
  },
  {
   "cell_type": "code",
   "execution_count": null,
   "id": "420b19da",
   "metadata": {},
   "outputs": [],
   "source": []
  }
 ],
 "metadata": {
  "kernelspec": {
   "display_name": "Python 3",
   "language": "python",
   "name": "python3"
  },
  "language_info": {
   "codemirror_mode": {
    "name": "ipython",
    "version": 3
   },
   "file_extension": ".py",
   "mimetype": "text/x-python",
   "name": "python",
   "nbconvert_exporter": "python",
   "pygments_lexer": "ipython3",
   "version": "3.7.3"
  }
 },
 "nbformat": 4,
 "nbformat_minor": 5
}
