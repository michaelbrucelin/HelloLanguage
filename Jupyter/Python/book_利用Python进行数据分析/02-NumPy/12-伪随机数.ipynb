{
 "cells": [
  {
   "cell_type": "code",
   "execution_count": 1,
   "id": "b33a9a9c",
   "metadata": {},
   "outputs": [],
   "source": [
    "import numpy as np\n",
    "# numpy.random模块填补了python内建的random模块的不足，可以高效的生成多种概率分布下的完整样本值数组。"
   ]
  },
  {
   "cell_type": "code",
   "execution_count": 2,
   "id": "2e0bc556",
   "metadata": {},
   "outputs": [
    {
     "data": {
      "text/plain": [
       "array([[ 0.17502539,  0.81362641,  0.59023091,  1.08290087],\n",
       "       [ 0.64830084, -0.12736397, -1.6949538 , -1.89623281],\n",
       "       [ 1.28442788, -0.49172639,  0.57404493,  0.1701702 ],\n",
       "       [ 0.2076913 ,  0.68371451,  0.07396311,  0.75639273]])"
      ]
     },
     "execution_count": 2,
     "metadata": {},
     "output_type": "execute_result"
    }
   ],
   "source": [
    "samples = np.random.normal(size=(4, 4))  # normal()可以获得正态分布样本数组\n",
    "samples"
   ]
  },
  {
   "cell_type": "code",
   "execution_count": 3,
   "id": "9998755e",
   "metadata": {},
   "outputs": [
    {
     "name": "stdout",
     "output_type": "stream",
     "text": [
      "1.22 s ± 7.19 ms per loop (mean ± std. dev. of 7 runs, 1 loop each)\n"
     ]
    }
   ],
   "source": [
    "# 与python内建的random对比一下性能\n",
    "# 可以看到在生成大型样本时，numpy.random比python内建的版本快了一个数量级\n",
    "from random import normalvariate\n",
    "N = 1000000\n",
    "%timeit samples = [normalvariate(0, 1) for _ in range(N)]"
   ]
  },
  {
   "cell_type": "code",
   "execution_count": 4,
   "id": "16f2f349",
   "metadata": {},
   "outputs": [
    {
     "name": "stdout",
     "output_type": "stream",
     "text": [
      "68.3 ms ± 352 µs per loop (mean ± std. dev. of 7 runs, 10 loops each)\n"
     ]
    }
   ],
   "source": [
    "%timeit np.random.normal(size=N)"
   ]
  },
  {
   "cell_type": "code",
   "execution_count": 5,
   "id": "b5cc615a",
   "metadata": {},
   "outputs": [],
   "source": [
    "np.random.seed(1234)  # 设置numpy的随机数种子"
   ]
  },
  {
   "cell_type": "code",
   "execution_count": 6,
   "id": "461c17b1",
   "metadata": {},
   "outputs": [
    {
     "data": {
      "text/plain": [
       "array([ 0.47143516, -1.19097569,  1.43270697, -0.3126519 , -0.72058873,\n",
       "        0.88716294,  0.85958841, -0.6365235 ,  0.01569637, -2.24268495])"
      ]
     },
     "execution_count": 6,
     "metadata": {},
     "output_type": "execute_result"
    }
   ],
   "source": [
    "rng = np.random.RandomState(1234)  # 创建一个随机数生成器，规避全局状态（种子）\n",
    "rng.randn(10)"
   ]
  },
  {
   "cell_type": "code",
   "execution_count": 7,
   "id": "0954fe0e",
   "metadata": {},
   "outputs": [
    {
     "data": {
      "text/plain": [
       "'\\n函数           说明                                 \\nseed         确定随机数生成器的种子\\npermutation  返回一个序列的随机排列或返回一个随机排列的范围\\nshuffle      对一个序列就地随机排列\\nrand         产生均匀分布的样本值\\nrandint      从给定的上下限范围内随机选取整数\\nrandn        产生正态分布（平均值为0,标准差为1）的样本值，类似于MATLAB接口\\nbinomial     产生二项分布的样本值\\nnormal       产生正态（高斯）分布的样本值\\nbeta         产生Beta分布的样本值\\nchisquare    产生卡方分布的样本值\\ngamma        产生Gamma分布的样本值\\nuniform      产生在［0,1）中均匀分布的样本值\\n'"
      ]
     },
     "execution_count": 7,
     "metadata": {},
     "output_type": "execute_result"
    }
   ],
   "source": [
    "# numpy.random中部分函数列表\n",
    "\"\"\"\n",
    "函数           说明                                 \n",
    "seed         确定随机数生成器的种子\n",
    "permutation  返回一个序列的随机排列或返回一个随机排列的范围\n",
    "shuffle      对一个序列就地随机排列\n",
    "rand         产生均匀分布的样本值\n",
    "randint      从给定的上下限范围内随机选取整数\n",
    "randn        产生正态分布（平均值为0,标准差为1）的样本值，类似于MATLAB接口\n",
    "binomial     产生二项分布的样本值\n",
    "normal       产生正态（高斯）分布的样本值\n",
    "beta         产生Beta分布的样本值\n",
    "chisquare    产生卡方分布的样本值\n",
    "gamma        产生Gamma分布的样本值\n",
    "uniform      产生在［0,1）中均匀分布的样本值\n",
    "\"\"\""
   ]
  },
  {
   "cell_type": "code",
   "execution_count": null,
   "id": "fef6592a",
   "metadata": {},
   "outputs": [],
   "source": []
  }
 ],
 "metadata": {
  "kernelspec": {
   "display_name": "Python 3",
   "language": "python",
   "name": "python3"
  },
  "language_info": {
   "codemirror_mode": {
    "name": "ipython",
    "version": 3
   },
   "file_extension": ".py",
   "mimetype": "text/x-python",
   "name": "python",
   "nbconvert_exporter": "python",
   "pygments_lexer": "ipython3",
   "version": "3.7.3"
  }
 },
 "nbformat": 4,
 "nbformat_minor": 5
}
