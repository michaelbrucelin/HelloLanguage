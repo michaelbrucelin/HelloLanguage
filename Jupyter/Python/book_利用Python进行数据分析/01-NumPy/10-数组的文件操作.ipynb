{
 "cells": [
  {
   "cell_type": "code",
   "execution_count": 1,
   "id": "8f8b8689",
   "metadata": {},
   "outputs": [],
   "source": [
    "import numpy as np"
   ]
  },
  {
   "cell_type": "code",
   "execution_count": 2,
   "id": "6c7698cf",
   "metadata": {},
   "outputs": [],
   "source": [
    "# 存储数组到磁盘\n",
    "arr = np.arange(10)\n",
    "np.save('data/some_array', arr)  # 文件存储的是二进制格式（也可以是文本格式），文件名如果没有写.npy则会自动补全"
   ]
  },
  {
   "cell_type": "code",
   "execution_count": 3,
   "id": "478da877",
   "metadata": {},
   "outputs": [
    {
     "data": {
      "text/plain": [
       "array([0, 1, 2, 3, 4, 5, 6, 7, 8, 9])"
      ]
     },
     "execution_count": 3,
     "metadata": {},
     "output_type": "execute_result"
    }
   ],
   "source": [
    "# 从磁盘读取数组\n",
    "np.load('data/some_array.npy')"
   ]
  },
  {
   "cell_type": "code",
   "execution_count": 4,
   "id": "12cd1f34",
   "metadata": {},
   "outputs": [],
   "source": [
    "# 保存多个数组到磁盘\n",
    "np.savez('data/array_archive.npz', a=arr, b=arr)"
   ]
  },
  {
   "cell_type": "code",
   "execution_count": 5,
   "id": "393552ae",
   "metadata": {},
   "outputs": [
    {
     "data": {
      "text/plain": [
       "array([0, 1, 2, 3, 4, 5, 6, 7, 8, 9])"
      ]
     },
     "execution_count": 5,
     "metadata": {},
     "output_type": "execute_result"
    }
   ],
   "source": [
    "# 从磁盘读取多个数组\n",
    "arch = np.load('data/array_archive.npz')\n",
    "arch['b']"
   ]
  },
  {
   "cell_type": "code",
   "execution_count": 6,
   "id": "94871d99",
   "metadata": {},
   "outputs": [],
   "source": [
    "# 将数据保存并压缩\n",
    "np.savez_compressed('data/array_compressed.npz', a=arr, b=arr)"
   ]
  },
  {
   "cell_type": "code",
   "execution_count": 8,
   "id": "77a4c391",
   "metadata": {},
   "outputs": [
    {
     "name": "stdout",
     "output_type": "stream",
     "text": [
      "rm: cannot remove 'data/some_array.npy': No such file or directory\n",
      "rm: cannot remove 'data/array_archive.npz': No such file or directory\n"
     ]
    }
   ],
   "source": [
    "!rm data/some_array.npy\n",
    "!rm data/array_archive.npz\n",
    "!rm data/array_compressed.npz"
   ]
  },
  {
   "cell_type": "code",
   "execution_count": null,
   "id": "7d37273f",
   "metadata": {},
   "outputs": [],
   "source": []
  }
 ],
 "metadata": {
  "kernelspec": {
   "display_name": "Python 3",
   "language": "python",
   "name": "python3"
  },
  "language_info": {
   "codemirror_mode": {
    "name": "ipython",
    "version": 3
   },
   "file_extension": ".py",
   "mimetype": "text/x-python",
   "name": "python",
   "nbconvert_exporter": "python",
   "pygments_lexer": "ipython3",
   "version": "3.7.3"
  }
 },
 "nbformat": 4,
 "nbformat_minor": 5
}
