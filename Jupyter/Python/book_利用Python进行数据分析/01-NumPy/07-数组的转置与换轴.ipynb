{
 "cells": [
  {
   "cell_type": "code",
   "execution_count": 1,
   "id": "314aca8c",
   "metadata": {},
   "outputs": [],
   "source": [
    "import numpy as np\n",
    "# 转置是一种特殊的数据重组形式，返回的底层数据的视图，而不需要复制任何内容"
   ]
  },
  {
   "cell_type": "code",
   "execution_count": 2,
   "id": "30b4d969",
   "metadata": {},
   "outputs": [
    {
     "data": {
      "text/plain": [
       "array([[ 0,  5, 10],\n",
       "       [ 1,  6, 11],\n",
       "       [ 2,  7, 12],\n",
       "       [ 3,  8, 13],\n",
       "       [ 4,  9, 14]])"
      ]
     },
     "execution_count": 2,
     "metadata": {},
     "output_type": "execute_result"
    }
   ],
   "source": [
    "arr = np.arange(15).reshape((3, 5))\n",
    "arr\n",
    "\"\"\"\n",
    "array([[ 0,  1,  2,  3,  4],\n",
    "       [ 5,  6,  7,  8,  9],\n",
    "       [10, 11, 12, 13, 14]])\n",
    "\"\"\"\n",
    "arr.T"
   ]
  },
  {
   "cell_type": "code",
   "execution_count": 3,
   "id": "524f945f",
   "metadata": {},
   "outputs": [
    {
     "data": {
      "text/plain": [
       "array([[ 80,  92, 104, 116],\n",
       "       [ 92, 107, 122, 137],\n",
       "       [104, 122, 140, 158],\n",
       "       [116, 137, 158, 179]])"
      ]
     },
     "execution_count": 3,
     "metadata": {},
     "output_type": "execute_result"
    }
   ],
   "source": [
    "# np.dot() 可以计算矩阵的内积\n",
    "arr = np.arange(12).reshape((3, 4))\n",
    "arr\n",
    "\"\"\"\n",
    "array([[ 0,  1,  2,  3],\n",
    "       [ 4,  5,  6,  7],\n",
    "       [ 8,  9, 10, 11]])\n",
    "\"\"\"\n",
    "np.dot(arr.T, arr)"
   ]
  },
  {
   "cell_type": "code",
   "execution_count": 4,
   "id": "aad35c60",
   "metadata": {},
   "outputs": [
    {
     "data": {
      "text/plain": [
       "array([[ 14,  38,  62],\n",
       "       [ 38, 126, 214],\n",
       "       [ 62, 214, 366]])"
      ]
     },
     "execution_count": 4,
     "metadata": {},
     "output_type": "execute_result"
    }
   ],
   "source": [
    "np.dot(arr, arr.T)"
   ]
  },
  {
   "cell_type": "code",
   "execution_count": 5,
   "id": "1f02a539",
   "metadata": {},
   "outputs": [
    {
     "data": {
      "text/plain": [
       "array([[[ 0,  1,  2,  3],\n",
       "        [ 8,  9, 10, 11]],\n",
       "\n",
       "       [[ 4,  5,  6,  7],\n",
       "        [12, 13, 14, 15]]])"
      ]
     },
     "execution_count": 5,
     "metadata": {},
     "output_type": "execute_result"
    }
   ],
   "source": [
    "arr = np.arange(16).reshape((2, 2, 4))\n",
    "arr\n",
    "\"\"\"\n",
    "array([[[ 0,  1,  2,  3],\n",
    "        [ 4,  5,  6,  7]],\n",
    "\n",
    "       [[ 8,  9, 10, 11],\n",
    "        [12, 13, 14, 15]]])\n",
    "\"\"\"\n",
    "arr.transpose((1, 0, 2))  # transpose()接收包含轴编号的元祖，用于置换轴（轴重新排序）\n",
    "# 这里使原先第2个轴变为第1个，原先第1个轴变为第2个，最后一个轴不变\n",
    "\n",
    "# np.random.randn(x, y, z)  这里1轴是x， 2轴是y， 3轴是z，画一个正方体，将4个一维数组写到对应的棱上，分析一下就明白了"
   ]
  },
  {
   "cell_type": "code",
   "execution_count": 6,
   "id": "cbcc581f",
   "metadata": {},
   "outputs": [
    {
     "data": {
      "text/plain": [
       "array([[[ 0,  4],\n",
       "        [ 1,  5],\n",
       "        [ 2,  6],\n",
       "        [ 3,  7]],\n",
       "\n",
       "       [[ 8, 12],\n",
       "        [ 9, 13],\n",
       "        [10, 14],\n",
       "        [11, 15]]])"
      ]
     },
     "execution_count": 6,
     "metadata": {},
     "output_type": "execute_result"
    }
   ],
   "source": [
    "arr = np.arange(16).reshape((2, 2, 4))\n",
    "arr\n",
    "\"\"\"\n",
    "array([[[ 0,  1,  2,  3],\n",
    "        [ 4,  5,  6,  7]],\n",
    "\n",
    "       [[ 8,  9, 10, 11],\n",
    "        [12, 13, 14, 15]]])\n",
    "\"\"\"\n",
    "arr.swapaxes(1, 2)  # swapaxes()接收一对轴编号作为参数，并对轴进行调整用于数据重组\n",
    "# swapaxes()返回的是数据的视图，并没有对数据进行复制"
   ]
  },
  {
   "cell_type": "code",
   "execution_count": null,
   "id": "eb3c31ae",
   "metadata": {},
   "outputs": [],
   "source": []
  }
 ],
 "metadata": {
  "kernelspec": {
   "display_name": "Python 3",
   "language": "python",
   "name": "python3"
  },
  "language_info": {
   "codemirror_mode": {
    "name": "ipython",
    "version": 3
   },
   "file_extension": ".py",
   "mimetype": "text/x-python",
   "name": "python",
   "nbconvert_exporter": "python",
   "pygments_lexer": "ipython3",
   "version": "3.7.3"
  }
 },
 "nbformat": 4,
 "nbformat_minor": 5
}
