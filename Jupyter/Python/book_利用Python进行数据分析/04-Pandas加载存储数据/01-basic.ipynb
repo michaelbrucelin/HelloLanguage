{
 "cells": [
  {
   "cell_type": "code",
   "execution_count": 1,
   "id": "0ec38e88",
   "metadata": {},
   "outputs": [],
   "source": [
    "# pandas读取数据的一个重要特性就是可以将表格数据解析成DataFrame数据类型"
   ]
  },
  {
   "cell_type": "code",
   "execution_count": 2,
   "id": "3b67cc1f",
   "metadata": {},
   "outputs": [],
   "source": [
    "# 一些用于将表格型数据读取为DataFrame对象的函数\n",
    "# 函数              说明\n",
    "# read_csv        从文件、URL、文件型对象中加载带分隔符的数据。默认分隔符为逗号\n",
    "# read_table      从文件、URL、文件型对象中加载带分隔符的数据。默认分隔符为制表符\n",
    "# read_fwf        读取定宽列格式数据（也就是说，没有分隔符）\n",
    "# read_clipboard  读取剪贴板中的数据，可以看做read_table的剪贴板版。再将网页转换为表格时很有用\n",
    "# read_excel      从Excel XLS或XLSX file读取表格数据\n",
    "# read_hdf        读取pandas写的HDF5文件\n",
    "# read_html       读取HTML文档中的所有表格\n",
    "# read_json       读取 JSON （JavaScript Object Notation序符串中的数据\n",
    "# read_msgpack    二进制格式编码的pandas数据\n",
    "# read_pickle     读取Python pickle格式中存储的任意对象\n",
    "# read_sas        读取存储于SAS系统自定义存储格式的SAS数据集\n",
    "# read_sql        （使用SQLAlchemy）读取SQL查询结果为pandas的DataFrame\n",
    "# read_stata      读取Stata文件格式的数据集\n",
    "# read_feather    读取Feather二进制文件格式"
   ]
  },
  {
   "cell_type": "code",
   "execution_count": null,
   "id": "08054adf",
   "metadata": {},
   "outputs": [],
   "source": []
  }
 ],
 "metadata": {
  "kernelspec": {
   "display_name": "Python 3",
   "language": "python",
   "name": "python3"
  },
  "language_info": {
   "codemirror_mode": {
    "name": "ipython",
    "version": 3
   },
   "file_extension": ".py",
   "mimetype": "text/x-python",
   "name": "python",
   "nbconvert_exporter": "python",
   "pygments_lexer": "ipython3",
   "version": "3.7.3"
  }
 },
 "nbformat": 4,
 "nbformat_minor": 5
}
