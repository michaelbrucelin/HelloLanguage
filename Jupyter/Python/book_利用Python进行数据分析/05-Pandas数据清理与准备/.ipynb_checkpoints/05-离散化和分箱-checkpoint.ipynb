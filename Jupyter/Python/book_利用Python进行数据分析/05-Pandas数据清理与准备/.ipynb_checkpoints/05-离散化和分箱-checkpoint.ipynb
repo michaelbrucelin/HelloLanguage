{
 "cells": [
  {
   "cell_type": "code",
   "execution_count": 1,
   "id": "6f4e6403",
   "metadata": {},
   "outputs": [],
   "source": [
    "import numpy as np\n",
    "import pandas as pd\n",
    "import matplotlib.pyplot as plt"
   ]
  },
  {
   "cell_type": "code",
   "execution_count": 2,
   "id": "b4af423a",
   "metadata": {},
   "outputs": [
    {
     "data": {
      "text/plain": [
       "[(18, 25], (18, 25], (18, 25], (25, 35], (18, 25], ..., (25, 35], (60, 100], (35, 60], (35, 60], (25, 35]]\n",
       "Length: 12\n",
       "Categories (4, interval[int64]): [(18, 25] < (25, 35] < (35, 60] < (60, 100]]"
      ]
     },
     "execution_count": 2,
     "metadata": {},
     "output_type": "execute_result"
    }
   ],
   "source": [
    "ages = [20, 22, 25, 27, 21, 23, 37, 31, 61, 45, 41, 32]\n",
    "bins = [18, 25, 35, 60, 100]  # 设定箱子（区间），默认左开右闭\n",
    "cats = pd.cut(ages, bins)  # pandas的cut()方法可以将一组数据按照另一组数据（箱子）放进对应的箱子中\n",
    "cats"
   ]
  },
  {
   "cell_type": "code",
   "execution_count": 3,
   "id": "219277ca",
   "metadata": {},
   "outputs": [
    {
     "data": {
      "text/plain": [
       "array([0, 0, 0, 1, 0, 0, 2, 1, 3, 2, 2, 1], dtype=int8)"
      ]
     },
     "execution_count": 3,
     "metadata": {},
     "output_type": "execute_result"
    }
   ],
   "source": [
    "cats.codes"
   ]
  },
  {
   "cell_type": "code",
   "execution_count": 4,
   "id": "7ee913f8",
   "metadata": {},
   "outputs": [
    {
     "data": {
      "text/plain": [
       "IntervalIndex([(18, 25], (25, 35], (35, 60], (60, 100]],\n",
       "              closed='right',\n",
       "              dtype='interval[int64]')"
      ]
     },
     "execution_count": 4,
     "metadata": {},
     "output_type": "execute_result"
    }
   ],
   "source": [
    "cats.categories"
   ]
  },
  {
   "cell_type": "code",
   "execution_count": 5,
   "id": "8182167d",
   "metadata": {},
   "outputs": [
    {
     "data": {
      "text/plain": [
       "(18, 25]     5\n",
       "(25, 35]     3\n",
       "(35, 60]     3\n",
       "(60, 100]    1\n",
       "dtype: int64"
      ]
     },
     "execution_count": 5,
     "metadata": {},
     "output_type": "execute_result"
    }
   ],
   "source": [
    "pd.value_counts(cats)  # 对pandas.cut()结果中的箱子进行计数"
   ]
  },
  {
   "cell_type": "code",
   "execution_count": 6,
   "id": "c5db3d81",
   "metadata": {},
   "outputs": [
    {
     "data": {
      "text/plain": [
       "[[18, 25), [18, 25), [25, 35), [25, 35), [18, 25), ..., [25, 35), [60, 100), [35, 60), [35, 60), [25, 35)]\n",
       "Length: 12\n",
       "Categories (4, interval[int64]): [[18, 25) < [25, 35) < [35, 60) < [60, 100)]"
      ]
     },
     "execution_count": 6,
     "metadata": {},
     "output_type": "execute_result"
    }
   ],
   "source": [
    "ages = [20, 22, 25, 27, 21, 23, 37, 31, 61, 45, 41, 32]\n",
    "bins = [18, 25, 35, 60, 100]\n",
    "cats = pd.cut(ages, bins, right=False)  # 将箱子改为左闭右开\n",
    "cats"
   ]
  },
  {
   "cell_type": "code",
   "execution_count": 7,
   "id": "c40c9e42",
   "metadata": {},
   "outputs": [
    {
     "data": {
      "text/plain": [
       "['Youth', 'Youth', 'Youth', 'YoungAdult', 'Youth', ..., 'YoungAdult', 'Senior', 'MiddleAged', 'MiddleAged', 'YoungAdult']\n",
       "Length: 12\n",
       "Categories (4, object): ['Youth' < 'YoungAdult' < 'MiddleAged' < 'Senior']"
      ]
     },
     "execution_count": 7,
     "metadata": {},
     "output_type": "execute_result"
    }
   ],
   "source": [
    "group_names = ['Youth', 'YoungAdult', 'MiddleAged', 'Senior']\n",
    "pd.cut(ages, bins, labels=group_names)  # 自定义箱子的名称"
   ]
  },
  {
   "cell_type": "code",
   "execution_count": 8,
   "id": "5f1afa93",
   "metadata": {},
   "outputs": [
    {
     "data": {
      "text/plain": [
       "[(0.24, 0.47], (0.0051, 0.24], (0.24, 0.47], (0.47, 0.7], (0.24, 0.47], ..., (0.47, 0.7], (0.7, 0.94], (0.7, 0.94], (0.7, 0.94], (0.7, 0.94]]\n",
       "Length: 20\n",
       "Categories (4, interval[float64]): [(0.0051, 0.24] < (0.24, 0.47] < (0.47, 0.7] < (0.7, 0.94]]"
      ]
     },
     "execution_count": 8,
     "metadata": {},
     "output_type": "execute_result"
    }
   ],
   "source": [
    "data = np.random.rand(20)\n",
    "pd.cut(data, 4, precision=2)  # 只提供箱子的数量，而不提供箱子的具体范围，pd.cut()会自动平均分配箱子的大小"
   ]
  },
  {
   "cell_type": "code",
   "execution_count": 9,
   "id": "f8760f8d",
   "metadata": {},
   "outputs": [
    {
     "data": {
      "text/plain": [
       "[(-3.06, -0.662], (-0.00751, 0.694], (-0.662, -0.00751], (-3.06, -0.662], (-0.00751, 0.694], ..., (0.694, 3.009], (-0.00751, 0.694], (-0.662, -0.00751], (-3.06, -0.662], (-0.662, -0.00751]]\n",
       "Length: 1000\n",
       "Categories (4, interval[float64]): [(-3.06, -0.662] < (-0.662, -0.00751] < (-0.00751, 0.694] < (0.694, 3.009]]"
      ]
     },
     "execution_count": 9,
     "metadata": {},
     "output_type": "execute_result"
    }
   ],
   "source": [
    "data = np.random.randn(1000)  # 正态分布\n",
    "cats = pd.qcut(data, 4)  # qcut()与cut()类似，但是不是按箱子的范围均分箱子，而是根据数据的分布，尽可能让每个箱子有相同数量的元素\n",
    "cats"
   ]
  },
  {
   "cell_type": "code",
   "execution_count": 10,
   "id": "ae0f3163",
   "metadata": {},
   "outputs": [
    {
     "data": {
      "text/plain": [
       "(-3.06, -0.662]       250\n",
       "(-0.662, -0.00751]    250\n",
       "(-0.00751, 0.694]     250\n",
       "(0.694, 3.009]        250\n",
       "dtype: int64"
      ]
     },
     "execution_count": 10,
     "metadata": {},
     "output_type": "execute_result"
    }
   ],
   "source": [
    "pd.value_counts(cats)"
   ]
  },
  {
   "cell_type": "code",
   "execution_count": 11,
   "id": "ce19526d",
   "metadata": {},
   "outputs": [
    {
     "data": {
      "text/plain": [
       "[(-1.306, 0.0888], (-1.306, 0.0888], (-1.306, 0.0888], (-1.306, 0.0888], (0.0888, 1.339], ..., (0.0888, 1.339], (-1.306, 0.0888], (-1.306, 0.0888], (-1.306, 0.0888], (0.0888, 1.339]]\n",
       "Length: 1000\n",
       "Categories (4, interval[float64]): [(-3.366, -1.306] < (-1.306, 0.0888] < (0.0888, 1.339] < (1.339, 3.164]]"
      ]
     },
     "execution_count": 11,
     "metadata": {},
     "output_type": "execute_result"
    }
   ],
   "source": [
    "data = np.random.randn(1000)\n",
    "cats = pd.qcut(data, [0, 0.1, 0.5, 0.9, 1.])  # qcut()也可以接收自定义的分位数来切分箱子\n",
    "cats"
   ]
  },
  {
   "cell_type": "code",
   "execution_count": 12,
   "id": "7afe38e0",
   "metadata": {},
   "outputs": [
    {
     "data": {
      "text/plain": [
       "(-1.306, 0.0888]    400\n",
       "(0.0888, 1.339]     400\n",
       "(-3.366, -1.306]    100\n",
       "(1.339, 3.164]      100\n",
       "dtype: int64"
      ]
     },
     "execution_count": 12,
     "metadata": {},
     "output_type": "execute_result"
    }
   ],
   "source": [
    "pd.value_counts(cats)"
   ]
  },
  {
   "cell_type": "code",
   "execution_count": null,
   "id": "eb3933d1",
   "metadata": {},
   "outputs": [],
   "source": []
  }
 ],
 "metadata": {
  "kernelspec": {
   "display_name": "Python 3",
   "language": "python",
   "name": "python3"
  },
  "language_info": {
   "codemirror_mode": {
    "name": "ipython",
    "version": 3
   },
   "file_extension": ".py",
   "mimetype": "text/x-python",
   "name": "python",
   "nbconvert_exporter": "python",
   "pygments_lexer": "ipython3",
   "version": "3.7.3"
  }
 },
 "nbformat": 4,
 "nbformat_minor": 5
}
