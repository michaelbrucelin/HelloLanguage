{
 "cells": [
  {
   "cell_type": "code",
   "execution_count": 1,
   "id": "4346bb43",
   "metadata": {},
   "outputs": [],
   "source": [
    "import csv"
   ]
  },
  {
   "cell_type": "code",
   "execution_count": 2,
   "id": "1aaf3357",
   "metadata": {},
   "outputs": [
    {
     "name": "stdout",
     "output_type": "stream",
     "text": [
      "['a', 'b', 'c']\n",
      "['1', '2', '3']\n",
      "['1', '2', '3']\n"
     ]
    }
   ],
   "source": [
    "f = open('data/ex7.csv')\n",
    "reader = csv.reader(f)\n",
    "for line in reader:\n",
    "    print(line)\n",
    "f.close()"
   ]
  },
  {
   "cell_type": "code",
   "execution_count": 3,
   "id": "f4fd24a0",
   "metadata": {},
   "outputs": [
    {
     "data": {
      "text/plain": [
       "{'a': ('1', '1'), 'b': ('2', '2'), 'c': ('3', '3')}"
      ]
     },
     "execution_count": 3,
     "metadata": {},
     "output_type": "execute_result"
    }
   ],
   "source": [
    "with open('data/ex7.csv') as f:\n",
    "    lines = list(csv.reader(f))\n",
    "    header, values = lines[0], lines[1:]  # 将csv分为表头部分与数据部分\n",
    "    data_dict = {h: v for h, v in zip(header, zip(*values))}  # 生成有数据列的索引\n",
    "data_dict"
   ]
  },
  {
   "cell_type": "code",
   "execution_count": 4,
   "id": "3b3d7c85",
   "metadata": {},
   "outputs": [
    {
     "data": {
      "text/plain": [
       "<_csv.reader at 0x7f44dc35f748>"
      ]
     },
     "execution_count": 4,
     "metadata": {},
     "output_type": "execute_result"
    }
   ],
   "source": [
    "# 使用csv.Dialect定义一个子类，来约定csv的格式（分隔符、字符串引用约定、行终止符）\n",
    "class my_dialect(csv.Dialect):\n",
    "    lineterminator = '\\n'\n",
    "    delimiter = ';'\n",
    "    quotechar = '\"'\n",
    "    quoting = csv.QUOTE_MINIMAL\n",
    "\n",
    "with open('data/ex7.csv') as f:\n",
    "    reader = csv.reader(f, dialect=my_dialect)\n",
    "reader"
   ]
  },
  {
   "cell_type": "code",
   "execution_count": 5,
   "id": "f95e0a48",
   "metadata": {},
   "outputs": [
    {
     "data": {
      "text/plain": [
       "<_csv.reader at 0x7f44dc35f898>"
      ]
     },
     "execution_count": 5,
     "metadata": {},
     "output_type": "execute_result"
    }
   ],
   "source": [
    "# 也可以不使用子类，直接传参\n",
    "with open('data/ex7.csv') as f:\n",
    "    reader = csv.reader(f, delimiter='|')\n",
    "reader"
   ]
  },
  {
   "cell_type": "code",
   "execution_count": 6,
   "id": "cccf7b85",
   "metadata": {},
   "outputs": [],
   "source": [
    "# CSV一些参数\n",
    "# 参数                说明\n",
    "# delimiter         用于分隔字段的单字符字符串。默认为“,”\n",
    "# lineterminator    用于写操作的行结束符，默认为“\\r\\n”。读操作将忽略此选项，它能认出跨平台的行结束符\n",
    "# quotechar         用于带有特殊字符（如分隔符）的字段的引用符号。默认为“\"”\n",
    "# quoting           引用约定。可选值包括csv.QUOTE_ALL （引用所有字段）、csv. QUOTE_MINIMAL（只引用带有诸如分隔符之类特殊字符的字段）、csv.QUOTE_NONNUMERIC以及csv.QUOTE_NON（不引用）。完整信息请参考Python的文档。默认为QUOTE_MINIMAL\n",
    "# skipinitialspace  忽略分隔符后面的空白符。默认为False\n",
    "# doublequote       如何处理字段内的引用符号。如果为True,则双写。完整信息及行为请参见在线文档\n",
    "# escapechar        用于对分隔符进行转义的字符串（如果quoting被设置为csv.QUOTE_NONE的话）。默认禁用"
   ]
  },
  {
   "cell_type": "code",
   "execution_count": 7,
   "id": "ec5ac134",
   "metadata": {},
   "outputs": [],
   "source": [
    "with open('data/mydata.csv', 'w') as f:\n",
    "    writer = csv.writer(f, dialect=my_dialect)\n",
    "    writer.writerow(('one', 'two', 'three'))\n",
    "    writer.writerow(('1', '2', '3'))\n",
    "    writer.writerow(('4', '5', '6'))\n",
    "    writer.writerow(('7', '8', '9'))"
   ]
  },
  {
   "cell_type": "code",
   "execution_count": null,
   "id": "f077b160",
   "metadata": {},
   "outputs": [],
   "source": []
  }
 ],
 "metadata": {
  "kernelspec": {
   "display_name": "Python 3",
   "language": "python",
   "name": "python3"
  },
  "language_info": {
   "codemirror_mode": {
    "name": "ipython",
    "version": 3
   },
   "file_extension": ".py",
   "mimetype": "text/x-python",
   "name": "python",
   "nbconvert_exporter": "python",
   "pygments_lexer": "ipython3",
   "version": "3.7.3"
  }
 },
 "nbformat": 4,
 "nbformat_minor": 5
}
