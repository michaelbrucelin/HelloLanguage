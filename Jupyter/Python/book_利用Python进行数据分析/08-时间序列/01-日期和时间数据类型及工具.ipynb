{
 "cells": [
  {
   "cell_type": "code",
   "execution_count": 1,
   "id": "fba4d923",
   "metadata": {},
   "outputs": [],
   "source": [
    "import numpy as np\n",
    "import pandas as pd\n",
    "import matplotlib.pyplot as plt\n",
    "\n",
    "from datetime import datetime\n",
    "from datetime import timedelta"
   ]
  },
  {
   "cell_type": "code",
   "execution_count": 2,
   "id": "cddb369c",
   "metadata": {},
   "outputs": [
    {
     "name": "stdout",
     "output_type": "stream",
     "text": [
      "2021-07-29 00:57:24.101110\n",
      "(2021, 7, 29)\n"
     ]
    }
   ],
   "source": [
    "now = datetime.now()\n",
    "\n",
    "print(now)\n",
    "print((now.year, now.month, now.day))"
   ]
  },
  {
   "cell_type": "code",
   "execution_count": 3,
   "id": "83c8493d",
   "metadata": {},
   "outputs": [
    {
     "name": "stdout",
     "output_type": "stream",
     "text": [
      "926 days, 15:45:00\n",
      "926\n",
      "56700\n"
     ]
    },
    {
     "data": {
      "text/plain": [
       "datetime.timedelta(days=926, seconds=56700)"
      ]
     },
     "execution_count": 3,
     "metadata": {},
     "output_type": "execute_result"
    }
   ],
   "source": [
    "delta = datetime(2011, 1, 7) - datetime(2008, 6, 24, 8, 15)\n",
    "\n",
    "print(delta)\n",
    "print(delta.days)\n",
    "print(delta.seconds)\n",
    "\n",
    "delta"
   ]
  },
  {
   "cell_type": "code",
   "execution_count": 4,
   "id": "4a38c6f9",
   "metadata": {},
   "outputs": [
    {
     "name": "stdout",
     "output_type": "stream",
     "text": [
      "2011-01-19 00:00:00\n",
      "2010-12-14 00:00:00\n"
     ]
    }
   ],
   "source": [
    "start = datetime(2011, 1, 7)\n",
    "\n",
    "print(start + timedelta(12))\n",
    "print(start - 2 * timedelta(12))"
   ]
  },
  {
   "cell_type": "raw",
   "id": "4461597e",
   "metadata": {},
   "source": [
    "一些datetime模块中的类型\n",
    "类型           描述\n",
    "date       使用公历日历存储日历日期（年，月，日）\n",
    "time       将时间存储为小时，分钟，秒和微秒\n",
    "datetime   存储日期和时间\n",
    "timedelta  表示两个datetime值之间的差（如日，秒，微秒）\n",
    "tzinfo     用于存储时区信息的基本类型"
   ]
  },
  {
   "cell_type": "code",
   "execution_count": 5,
   "id": "bf749fb1",
   "metadata": {},
   "outputs": [
    {
     "name": "stdout",
     "output_type": "stream",
     "text": [
      "2011-01-03 00:00:00\n",
      "2011-01-03\n"
     ]
    }
   ],
   "source": [
    "stamp = datetime(2011, 1, 3)\n",
    "\n",
    "print(str(stamp))\n",
    "print(stamp.strftime('%Y-%m-%d'))"
   ]
  },
  {
   "cell_type": "raw",
   "id": "7c73a719",
   "metadata": {},
   "source": [
    "一些datetime格式说明\n",
    "类型    说明\n",
    "%Y    4位数的年\n",
    "%y    2位数的年\n",
    "%m    2位数的月［01, 12]\n",
    "%d    2位数的日［01, 31]\n",
    "%H    时（24小时制）［00, 23］\n",
    "%I    时（12小时制）［01, 12］\n",
    "%M    2位数的分［00, 59]\n",
    "%S    秒［00, 61］（60和61用于闰秒）\n",
    "%w    用整数表示的星期几［0（星期天）, 6]\n",
    "%U    每年的第几周［00, 53］。星期天被认为是每周的第一天，每年第一个星期天之前的那几天被认为是“第0周”\n",
    "%W    每年的第几周［00, 53）。星期一被认为是每周的第一天，每年第一个星期一之前的那几天被认为是“第0周”\n",
    "%z    以+HHMM或-HHMM表示的UTC时区偏移量，如果时区为naive，则返回空字符串\n",
    "%F    %Y-%m-%d的简写形式，例如2012-04-18\n",
    "%D    %m/%d/%y的简写形式，例如04/18/12"
   ]
  },
  {
   "cell_type": "code",
   "execution_count": 6,
   "id": "217eba9a",
   "metadata": {},
   "outputs": [
    {
     "data": {
      "text/plain": [
       "datetime.datetime(2011, 1, 3, 0, 0)"
      ]
     },
     "execution_count": 6,
     "metadata": {},
     "output_type": "execute_result"
    }
   ],
   "source": [
    "value = '2011-01-03'\n",
    "datetime.strptime(value, '%Y-%m-%d')"
   ]
  },
  {
   "cell_type": "code",
   "execution_count": 7,
   "id": "fa237abe",
   "metadata": {},
   "outputs": [
    {
     "data": {
      "text/plain": [
       "[datetime.datetime(2011, 7, 6, 0, 0), datetime.datetime(2011, 8, 6, 0, 0)]"
      ]
     },
     "execution_count": 7,
     "metadata": {},
     "output_type": "execute_result"
    }
   ],
   "source": [
    "datestrs = ['7/6/2011', '8/6/2011']\n",
    "[datetime.strptime(x, '%m/%d/%Y') for x in datestrs]"
   ]
  },
  {
   "cell_type": "markdown",
   "id": "3c9b345f",
   "metadata": {},
   "source": [
    "### dateutil.parser\n",
    "\n",
    "datetime.strptime是通过已知格式进行日期解析的最佳方式。但是每次都要编写格式定义是很麻烦的事情，尤其是对于一些常见的日期格式。\n",
    "这种情况下，你可以用dateutil这个第三方包中的parser.parse方法（pandas中已经自动安装好了）"
   ]
  },
  {
   "cell_type": "code",
   "execution_count": 8,
   "id": "d99bd7f2",
   "metadata": {},
   "outputs": [
    {
     "name": "stdout",
     "output_type": "stream",
     "text": [
      "2011-01-03 00:00:00\n",
      "1997-01-31 22:45:00\n",
      "2011-12-06 00:00:00\n"
     ]
    }
   ],
   "source": [
    "from dateutil.parser import parse\n",
    "\n",
    "print(parse('2011-01-03'))\n",
    "print(parse('Jan 31, 1997 10:45 PM'))\n",
    "print(parse('6/12/2011', dayfirst=True))  # 日期在月份之前"
   ]
  },
  {
   "cell_type": "code",
   "execution_count": 9,
   "id": "8f8460a4",
   "metadata": {},
   "outputs": [
    {
     "data": {
      "text/plain": [
       "DatetimeIndex(['2011-07-06 12:00:00', '2011-08-06 00:00:00'], dtype='datetime64[ns]', freq=None)"
      ]
     },
     "execution_count": 9,
     "metadata": {},
     "output_type": "execute_result"
    }
   ],
   "source": [
    "datestrs = ['2011-07-06 12:00:00', '2011-08-06 00:00:00']\n",
    "pd.to_datetime(datestrs)"
   ]
  },
  {
   "cell_type": "code",
   "execution_count": 10,
   "id": "5899202e",
   "metadata": {},
   "outputs": [
    {
     "name": "stdout",
     "output_type": "stream",
     "text": [
      "DatetimeIndex(['2011-07-06 12:00:00', '2011-08-06 00:00:00', 'NaT'], dtype='datetime64[ns]', freq=None)\n",
      "NaT\n"
     ]
    },
    {
     "data": {
      "text/plain": [
       "array([False, False,  True])"
      ]
     },
     "execution_count": 10,
     "metadata": {},
     "output_type": "execute_result"
    }
   ],
   "source": [
    "idx = pd.to_datetime(datestrs + [None])\n",
    "\n",
    "print(idx)\n",
    "print(idx[2])  # NaT（Not a Time）是pandas中时间戳数据的null值\n",
    "pd.isnull(idx)"
   ]
  },
  {
   "cell_type": "raw",
   "id": "f8a21302",
   "metadata": {},
   "source": [
    "一些特定地区日期格式化选项\n",
    "类型    说明\n",
    "%a    星期几的简写\n",
    "%A    星期几的全称\n",
    "%b    月份的简写\n",
    "%B    月份的全称\n",
    "%c    完整的日期和时间，例如\"Tue 01 May 2012 04:20:57 PM\"\n",
    "%p    不同环境中的AM或PM\n",
    "%x    适合于当前环境的日期格式，例如在美国，\"May 1,2012\"会产生\"05/01/2012\"\n",
    "%X    适合于当前环境的时间格式，例如\"04:24:12PM\""
   ]
  },
  {
   "cell_type": "code",
   "execution_count": null,
   "id": "358a3d78",
   "metadata": {},
   "outputs": [],
   "source": []
  }
 ],
 "metadata": {
  "kernelspec": {
   "display_name": "Python 3",
   "language": "python",
   "name": "python3"
  },
  "language_info": {
   "codemirror_mode": {
    "name": "ipython",
    "version": 3
   },
   "file_extension": ".py",
   "mimetype": "text/x-python",
   "name": "python",
   "nbconvert_exporter": "python",
   "pygments_lexer": "ipython3",
   "version": "3.7.3"
  }
 },
 "nbformat": 4,
 "nbformat_minor": 5
}
