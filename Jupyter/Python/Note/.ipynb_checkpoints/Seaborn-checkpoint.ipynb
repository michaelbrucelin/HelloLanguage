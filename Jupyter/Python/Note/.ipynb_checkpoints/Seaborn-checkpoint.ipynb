{
 "cells": [
  {
   "cell_type": "code",
   "execution_count": 6,
   "id": "752ef0dd-13c0-4696-b179-7ccf2ccd3a80",
   "metadata": {},
   "outputs": [],
   "source": [
    "import numpy as np\n",
    "import pandas as pd\n",
    "import matplotlib.pyplot as plt\n",
    "import seaborn as sns\n",
    "\n",
    "# 原文：https://medium.com/%E6%95%B8%E6%93%9A%E4%B8%8D%E6%AD%A2-not-only-data/%E6%B7%B1%E5%85%A5%E6%B7%BA%E5%87%BA-python-%E8%A6%96%E8%A6%BA%E5%8C%96%E5%A5%97%E4%BB%B6-matplotlib-seaborn-%E6%A0%B8%E5%BF%83%E6%8C%87%E5%8D%97%E8%88%87%E7%B9%AA%E8%A3%BD-44a47458912"
   ]
  },
  {
   "cell_type": "markdown",
   "id": "4c71b63a-6ff3-4b74-978c-7b4afe6176a4",
   "metadata": {},
   "source": [
    "# How does Seaborn work?\n",
    "\n",
    "如果你了解深度学习的框架，那`matplotlib`和`Seaborn`的关系就和`Tenserflow`与`Keras`、`Pytorch`与`Fast.ai`的关系一模一样。\n",
    "`Seaborn`背后的底层工具都仍然是`matplotlib`，但通过封装的方式大幅度地简化许多设定上的细节，而且也美化了图表本身的输出。因此就算只是`import seaborn`本身，也能够提升`matplotlib`的绘图视觉美感。\n",
    "没事多用seaborn，图表看起来就会更漂亮：  \n",
    "```import seaborn as sns```\n",
    "\n",
    "为了让读者感受一下差异，我们下面就实作几个图表来示范。本文会带到下面五个常用的显示方式：\n",
    "- 使用`seaborn`整`heme`\n",
    "- arplot 直方图\n",
    "- Displot 分布密度图\n",
    "- Regplot 分布密度图\n",
    "- Pairplot 散佈图矩阵\n",
    "- Facetgrid 层面图与分组"
   ]
  },
  {
   "cell_type": "markdown",
   "id": "546dc956-3472-46a1-9e00-0cd9e07b0515",
   "metadata": {},
   "source": [
    "## 1. 使用`Seaborn`调整`Theme`\n",
    "可以看到从`seaborn`输出的图明显多了外框，整体视觉也比较好看。因此笔者在后来在进行`EDA`时，若图需要输出都会习惯使用`seaborn`来美化图。\n",
    "若要在一开始就调整`seaborn`的风格，可以简单地使用`set`来调整：  \n",
    "```\n",
    "sns.set(style=\"white\") # darkgrid, whitegrid, dark, white, ticks\n",
    "```"
   ]
  },
  {
   "cell_type": "markdown",
   "id": "df598799-44d0-428c-87bf-1be49c530a15",
   "metadata": {},
   "source": [
    "## 2. `Barplot`直方图"
   ]
  },
  {
   "cell_type": "code",
   "execution_count": 7,
   "id": "cb139e43-4762-414c-ac15-89a97fad084f",
   "metadata": {},
   "outputs": [
    {
     "data": {
      "image/png": "[encoded data removed]",
      "text/plain": [
       "<Figure size 432x288 with 1 Axes>"
      ]
     },
     "metadata": {
      "needs_background": "light"
     },
     "output_type": "display_data"
    }
   ],
   "source": [
    "# 生成图与子图\n",
    "fig = plt.figure()\n",
    "axe = fig.add_subplot()\n",
    "\n",
    "# 生成随机数据\n",
    "data = np.random.randn(100).cumsum()\n",
    "\n",
    "# 以seaborn呈现\n",
    "sns.histplot(data=data)\n",
    "plt.show()"
   ]
  },
  {
   "cell_type": "markdown",
   "id": "944c07c4-5d94-4220-8085-31989c50acad",
   "metadata": {},
   "source": [
    "## 3. `Displot`分布密度图\n",
    "使用`seaborn`的`displot`时，会同时呈现直方图和密度图，可以更好地去评估分布的组成。"
   ]
  },
  {
   "cell_type": "code",
   "execution_count": 10,
   "id": "bea01c62-aa1e-470c-8cc8-5d279d629be0",
   "metadata": {},
   "outputs": [
    {
     "data": {
      "text/plain": [
       "<seaborn.axisgrid.FacetGrid at 0x7fd26cc8c1d0>"
      ]
     },
     "execution_count": 10,
     "metadata": {},
     "output_type": "execute_result"
    },
    {
     "data": {
      "image/png": "[encoded data removed]",
      "text/plain": [
       "<Figure size 432x288 with 1 Axes>"
      ]
     },
     "metadata": {
      "needs_background": "light"
     },
     "output_type": "display_data"
    },
    {
     "data": {
      "image/png": "[encoded data removed]",
      "text/plain": [
       "<Figure size 360x360 with 1 Axes>"
      ]
     },
     "metadata": {
      "needs_background": "light"
     },
     "output_type": "display_data"
    }
   ],
   "source": [
    "# 生成图与子图\n",
    "fig = plt.figure()\n",
    "axe = fig.add_subplot()\n",
    "\n",
    "# 生成随机资料\n",
    "data = np.random.randn(100).cumsum()\n",
    "\n",
    "# 以seaborn呈现\n",
    "sns.displot(data=data)\n",
    "plt.show()"
   ]
  },
  {
   "cell_type": "code",
   "execution_count": null,
   "id": "6ee35de6-dbff-422d-95a3-1a92e7635569",
   "metadata": {},
   "outputs": [],
   "source": []
  }
 ],
 "metadata": {
  "kernelspec": {
   "display_name": "Python 3 (ipykernel)",
   "language": "python",
   "name": "python3"
  },
  "language_info": {
   "codemirror_mode": {
    "name": "ipython",
    "version": 3
   },
   "file_extension": ".py",
   "mimetype": "text/x-python",
   "name": "python",
   "nbconvert_exporter": "python",
   "pygments_lexer": "ipython3",
   "version": "3.7.3"
  }
 },
 "nbformat": 4,
 "nbformat_minor": 5
}
