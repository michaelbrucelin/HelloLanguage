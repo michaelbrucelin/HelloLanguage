{
 "cells": [
  {
   "cell_type": "markdown",
   "id": "22f9f3ce-f29a-47d6-86de-51a50f283775",
   "metadata": {},
   "source": [
    "# Jupyterlab"
   ]
  },
  {
   "cell_type": "markdown",
   "id": "2afe88a5-af26-4ffe-875a-eda7d4e4a74c",
   "metadata": {},
   "source": [
    "## 1. 通过 CSS 调整 Markdown 中的 Table 与 Img"
   ]
  },
  {
   "cell_type": "code",
   "execution_count": 1,
   "id": "55362bd1-d00a-4703-a93f-425a1b685c07",
   "metadata": {},
   "outputs": [
    {
     "data": {
      "text/html": [
       "<style>\n",
       "  table {margin-left: 0 !important;}\n",
       "  img {width:30%; height: 30%;}\n",
       "</style>\n"
      ],
      "text/plain": [
       "<IPython.core.display.HTML object>"
      ]
     },
     "metadata": {},
     "output_type": "display_data"
    }
   ],
   "source": [
    "%%html\n",
    "<style>\n",
    "  table {margin-left: 0 !important;}\n",
    "  img {width:30%; height: 30%;}\n",
    "</style>"
   ]
  },
  {
   "cell_type": "markdown",
   "id": "1d0e3f4f-f71a-4517-9f25-d5cb7fd2572f",
   "metadata": {},
   "source": [
    "## 2. 忽略与输出警告"
   ]
  },
  {
   "cell_type": "markdown",
   "id": "f45df80d-a9df-4f50-9043-f10413a3bc5a",
   "metadata": {},
   "source": [
    "有时因为代码三方库的版本兼容问题，代码可以正常执行，但是会显示大量的警告信息，这时可以使用下面的代码开关闭警告信息。"
   ]
  },
  {
   "cell_type": "code",
   "execution_count": 2,
   "id": "7018f056-fa83-4f80-831a-c8ab07123b10",
   "metadata": {},
   "outputs": [],
   "source": [
    "import warnings\n",
    "warnings.filterwarnings('ignore')"
   ]
  },
  {
   "cell_type": "markdown",
   "id": "04d5ba8e-3428-4527-8ea1-f750ccf23c1e",
   "metadata": {},
   "source": [
    "使用下面代码可以在关闭警告后，再次打开警告信息。"
   ]
  },
  {
   "cell_type": "code",
   "execution_count": 3,
   "id": "ba4238f3-3877-43b8-b3d1-6e835803bfac",
   "metadata": {},
   "outputs": [],
   "source": [
    "warnings.filterwarnings(action='once')"
   ]
  },
  {
   "cell_type": "markdown",
   "id": "07d66e14-cce7-47b8-b7cb-73dd8962ff5b",
   "metadata": {},
   "source": [
    "## 3. 在一行中打印输出多个 DataFrame"
   ]
  },
  {
   "cell_type": "code",
   "execution_count": 4,
   "id": "4ce5547b-54fe-471c-a84a-80e871dd0aad",
   "metadata": {},
   "outputs": [],
   "source": [
    "import numpy as np\n",
    "import pandas as pd"
   ]
  },
  {
   "cell_type": "code",
   "execution_count": 5,
   "id": "dbd1fe9e-b19e-44b2-9963-33ea62cc79f1",
   "metadata": {},
   "outputs": [],
   "source": [
    "class display(object):\n",
    "    \"\"\"Display HTML representation of multiple objects\"\"\"\n",
    "    template = \"\"\"<div style=\"float: left; padding: 10px;\">\n",
    "    <p style='font-family:\"Courier New\", Courier, monospace'>{0}</p>{1}\n",
    "    </div>\"\"\"\n",
    "    def __init__(self, *args):\n",
    "        self.args = args\n",
    "        \n",
    "    def _repr_html_(self):\n",
    "        return '\\n'.join(self.template.format(a, eval(a)._repr_html_())\n",
    "                         for a in self.args)\n",
    "    \n",
    "    def __repr__(self):\n",
    "        return '\\n\\n'.join(a + '\\n' + repr(eval(a))\n",
    "                           for a in self.args)"
   ]
  },
  {
   "cell_type": "code",
   "execution_count": 6,
   "id": "b7344c2c-e892-41fb-bdef-e4b941203375",
   "metadata": {},
   "outputs": [
    {
     "data": {
      "text/html": [
       "<div style=\"float: left; padding: 10px;\">\n",
       "    <p style='font-family:\"Courier New\", Courier, monospace'>df1</p><div>\n",
       "<style scoped>\n",
       "    .dataframe tbody tr th:only-of-type {\n",
       "        vertical-align: middle;\n",
       "    }\n",
       "\n",
       "    .dataframe tbody tr th {\n",
       "        vertical-align: top;\n",
       "    }\n",
       "\n",
       "    .dataframe thead th {\n",
       "        text-align: right;\n",
       "    }\n",
       "</style>\n",
       "<table border=\"1\" class=\"dataframe\">\n",
       "  <thead>\n",
       "    <tr style=\"text-align: right;\">\n",
       "      <th></th>\n",
       "      <th>A</th>\n",
       "      <th>B</th>\n",
       "    </tr>\n",
       "  </thead>\n",
       "  <tbody>\n",
       "    <tr>\n",
       "      <th>0</th>\n",
       "      <td>0.0</td>\n",
       "      <td>0.0</td>\n",
       "    </tr>\n",
       "    <tr>\n",
       "      <th>1</th>\n",
       "      <td>0.0</td>\n",
       "      <td>0.0</td>\n",
       "    </tr>\n",
       "  </tbody>\n",
       "</table>\n",
       "</div>\n",
       "    </div>\n",
       "<div style=\"float: left; padding: 10px;\">\n",
       "    <p style='font-family:\"Courier New\", Courier, monospace'>df2</p><div>\n",
       "<style scoped>\n",
       "    .dataframe tbody tr th:only-of-type {\n",
       "        vertical-align: middle;\n",
       "    }\n",
       "\n",
       "    .dataframe tbody tr th {\n",
       "        vertical-align: top;\n",
       "    }\n",
       "\n",
       "    .dataframe thead th {\n",
       "        text-align: right;\n",
       "    }\n",
       "</style>\n",
       "<table border=\"1\" class=\"dataframe\">\n",
       "  <thead>\n",
       "    <tr style=\"text-align: right;\">\n",
       "      <th></th>\n",
       "      <th>C</th>\n",
       "      <th>D</th>\n",
       "    </tr>\n",
       "  </thead>\n",
       "  <tbody>\n",
       "    <tr>\n",
       "      <th>0</th>\n",
       "      <td>1.0</td>\n",
       "      <td>1.0</td>\n",
       "    </tr>\n",
       "    <tr>\n",
       "      <th>1</th>\n",
       "      <td>1.0</td>\n",
       "      <td>1.0</td>\n",
       "    </tr>\n",
       "  </tbody>\n",
       "</table>\n",
       "</div>\n",
       "    </div>\n",
       "<div style=\"float: left; padding: 10px;\">\n",
       "    <p style='font-family:\"Courier New\", Courier, monospace'>pd.concat([df1,df2], axis='columns')</p><div>\n",
       "<style scoped>\n",
       "    .dataframe tbody tr th:only-of-type {\n",
       "        vertical-align: middle;\n",
       "    }\n",
       "\n",
       "    .dataframe tbody tr th {\n",
       "        vertical-align: top;\n",
       "    }\n",
       "\n",
       "    .dataframe thead th {\n",
       "        text-align: right;\n",
       "    }\n",
       "</style>\n",
       "<table border=\"1\" class=\"dataframe\">\n",
       "  <thead>\n",
       "    <tr style=\"text-align: right;\">\n",
       "      <th></th>\n",
       "      <th>A</th>\n",
       "      <th>B</th>\n",
       "      <th>C</th>\n",
       "      <th>D</th>\n",
       "    </tr>\n",
       "  </thead>\n",
       "  <tbody>\n",
       "    <tr>\n",
       "      <th>0</th>\n",
       "      <td>0.0</td>\n",
       "      <td>0.0</td>\n",
       "      <td>1.0</td>\n",
       "      <td>1.0</td>\n",
       "    </tr>\n",
       "    <tr>\n",
       "      <th>1</th>\n",
       "      <td>0.0</td>\n",
       "      <td>0.0</td>\n",
       "      <td>1.0</td>\n",
       "      <td>1.0</td>\n",
       "    </tr>\n",
       "  </tbody>\n",
       "</table>\n",
       "</div>\n",
       "    </div>"
      ],
      "text/plain": [
       "df1\n",
       "     A    B\n",
       "0  0.0  0.0\n",
       "1  0.0  0.0\n",
       "\n",
       "df2\n",
       "     C    D\n",
       "0  1.0  1.0\n",
       "1  1.0  1.0\n",
       "\n",
       "pd.concat([df1,df2], axis='columns')\n",
       "     A    B    C    D\n",
       "0  0.0  0.0  1.0  1.0\n",
       "1  0.0  0.0  1.0  1.0"
      ]
     },
     "execution_count": 6,
     "metadata": {},
     "output_type": "execute_result"
    }
   ],
   "source": [
    "df1 = pd.DataFrame(np.zeros((2,2)), columns=list('AB'))\n",
    "df2 = pd.DataFrame(np.ones((2,2)), columns=list('CD'))\n",
    "display('df1', 'df2', \"pd.concat([df1,df2], axis='columns')\")"
   ]
  },
  {
   "cell_type": "markdown",
   "id": "5161a8a3-e496-4a48-96f1-47f75c1ab17f",
   "metadata": {},
   "source": [
    "## 4. 常用快捷键"
   ]
  },
  {
   "cell_type": "markdown",
   "id": "c3d8be3f-803d-4572-bb5b-98fa1c2b5bdf",
   "metadata": {},
   "source": [
    "### 4.1. 编辑模式快捷键（ 按 Enter 键启动）"
   ]
  },
  {
   "cell_type": "markdown",
   "id": "603a724d-6bab-4ff3-a6be-13f8ad30ee54",
   "metadata": {},
   "source": [
    "| 快捷键 | 作用 | 说明 |\n",
    "| -- | -- | -- |\n",
    "| Tab | 程式码补全或缩排 |\n",
    "| Shift-Tab | 提示 | 输出帮助资讯，部分函式、类、方法等会显示其定义原型，如果在其后加 ? |\n",
    "| Ctrl-] | 缩排 | 向右缩排 |\n",
    "| Ctrl-[ | 解除缩排 | 向左缩排 |\n",
    "| Ctrl-A | 全选 |\n",
    "| Ctrl-Z | 撤销 |\n",
    "| Ctrl-Shift-Z | 重做 |\n",
    "| Ctrl-Y | 重做 |\n",
    "| Ctrl-Home | 跳到单元开头 |\n",
    "| Ctrl-Up | 跳到单元开头 |\n",
    "| Ctrl-End | 跳到单元末尾 |\n",
    "| Ctrl-Down | 跳到单元末尾 |\n",
    "| Ctrl-Left | 跳到左边一个字首 |\n",
    "| Ctrl-Right | 跳到右边一个字首 |\n",
    "| Ctrl-Backspace | 删除前面一个字 |\n",
    "| Ctrl-Delete | 删除后面一个字 |\n",
    "| Esc | 切换到命令模式 |\n",
    "| Ctrl-M | 切换到命令模式 |\n",
    "| Shift-Enter | 执行本单元，选中下一单元 | 新单元预设为命令模式 |\n",
    "| Ctrl-Enter | 执行本单元 |\n",
    "| Alt-Enter | 执行本单元，在下面插入一单元 | 新单元预设为编辑模式 |\n",
    "| Ctrl-Shift– | 分割单元 | 按游标所在行进行分割 |\n",
    "| Ctrl-Shift-Subtract | 分割单元 |\n",
    "| Ctrl-S | 储存当前NoteBook |\n",
    "| Shift | 忽略 |\n",
    "| Up | 游标上移或转入上一单元 |\n",
    "| Down | 游标下移或转入下一单元 |\n",
    "| Ctrl-/ | 注释整行/撤销注释 | 仅程式码状态有效 |"
   ]
  },
  {
   "cell_type": "markdown",
   "id": "ab1700ff-10b7-460c-ac60-47364bb2ec62",
   "metadata": {},
   "source": [
    "### 4.2. 命令模式快捷键（按Esc 键开启）"
   ]
  },
  {
   "cell_type": "markdown",
   "id": "5405f3f3-689d-4d28-a1f4-8dd080f80dc9",
   "metadata": {},
   "source": [
    "| 快捷键 | 作用 | 说明 |\n",
    "| -- | -- | -- |\n",
    "| Enter | 转入编辑模式 |\n",
    "| Shift-Enter | 执行本单元，选中下个单元 | 新单元预设为命令模式 |\n",
    "| Ctrl-Enter | 执行本单元 |\n",
    "| Alt-Enter | 执行本单元，在其下插入新单元 | 新单元预设为编辑模式 |\n",
    "| Y | 单元转入程式码状态 |\n",
    "| M | 单元转入markdown 状态 |\n",
    "| R | 单元转入raw 状态 |\n",
    "| 1 | 设定1 级标题 | 仅在markdown 状态下时建议使用标题相关快捷键，如果单元处于其他状态，则会强制切换到markdown 状态 |\n",
    "| 2 | 设定2 级标题 |\n",
    "| 3 | 设定3 级标题 |\n",
    "| 4 | 设定4 级标题 |\n",
    "| 5 | 设定5 级标题 |\n",
    "| 6 | 设定6 级标题 |\n",
    "| Up | 选中上方单元 |\n",
    "| K | 选中上方单元 |\n",
    "| Down | 选中下方单元 |\n",
    "| J | 选中下方单元 |\n",
    "| Shift-K | 连续选择上方单元 |\n",
    "| Shift-J | 连续选择下方单元 |\n",
    "| A | 在上方插入新单元 |\n",
    "| B | 在下方插入新单元 |\n",
    "| X | 剪下选中的单元 |\n",
    "| C | 复制选中的单元 |\n",
    "| Shift-V | 贴上到上方单元 |\n",
    "| V | 贴上到下方单元 |\n",
    "| Z | 恢复删除的最后一个单元 |\n",
    "| D,D | 删除选中的单元 | 连续按两个D 键 |\n",
    "| Shift-M | 合并选中的单元 |\n",
    "| Ctrl-S | 储存当前NoteBook |\n",
    "| S | 储存当前NoteBook |\n",
    "| L | 开关行号 | 编辑框的行号是可以开启和关闭的 |\n",
    "| O | 转换输出 |\n",
    "| Shift-O | 转换输出滚动 |\n",
    "| Esc | 关闭页面 |\n",
    "| Q | 关闭页面 |\n",
    "| H | 显示快捷键帮助 |\n",
    "| I,I | 中断NoteBook 核心 |\n",
    "| 0,0 | 重启NoteBook 核心 |\n",
    "| Shift | 忽略 |\n",
    "| Shift-Space | 向上滚动 |\n",
    "| Space | 向下滚动 |"
   ]
  },
  {
   "cell_type": "code",
   "execution_count": null,
   "id": "b6dbebe7-f178-48d6-a1ee-9b70e0c4b429",
   "metadata": {},
   "outputs": [],
   "source": []
  }
 ],
 "metadata": {
  "kernelspec": {
   "display_name": "Python 3 (ipykernel)",
   "language": "python",
   "name": "python3"
  },
  "language_info": {
   "codemirror_mode": {
    "name": "ipython",
    "version": 3
   },
   "file_extension": ".py",
   "mimetype": "text/x-python",
   "name": "python",
   "nbconvert_exporter": "python",
   "pygments_lexer": "ipython3",
   "version": "3.7.3"
  }
 },
 "nbformat": 4,
 "nbformat_minor": 5
}
