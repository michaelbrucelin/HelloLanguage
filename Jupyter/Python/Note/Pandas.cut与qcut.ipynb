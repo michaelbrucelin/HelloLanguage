{
 "cells": [
  {
   "cell_type": "markdown",
   "id": "d7687186-cb64-4026-bb9b-d4150512ff23",
   "metadata": {},
   "source": [
    "# Pandas.cut与qcut"
   ]
  },
  {
   "cell_type": "code",
   "execution_count": 1,
   "id": "76c1b674-8628-410d-b941-bad7f4e69ba5",
   "metadata": {},
   "outputs": [],
   "source": [
    "import pandas as pd"
   ]
  },
  {
   "cell_type": "markdown",
   "id": "47b007ca-9d88-4ed7-852c-443f000cea72",
   "metadata": {},
   "source": [
    "## 1. 机械学习中的分箱处理"
   ]
  },
  {
   "cell_type": "markdown",
   "id": "1cca8528-d37a-435a-98db-80e78b186bd7",
   "metadata": {},
   "source": [
    "在机械学习中，我们经常会对数据进行分箱处理的操作，也就是把一段连续的值切分成若干段，每一段的值看成一个分类。**这个把连续值转换成离散值的过程，我们叫做`分箱处理`**。  \n",
    "比如，把年龄按15岁划分成一组，0-15岁叫做少年，16-30岁叫做青年，31-45岁叫做壮年。在这个过程中，我们把连续的年龄分成了三个类别，“少年”，“青年”和“壮年”就是各个类别的名称，或者叫做`标签`。"
   ]
  },
  {
   "cell_type": "markdown",
   "id": "f9502a69-b9ca-470f-908f-13c991d5bc9d",
   "metadata": {},
   "source": [
    "## 2. cut和qcut函数的基本介绍"
   ]
  },
  {
   "cell_type": "markdown",
   "id": "0f4feec5-62b9-4052-8080-cef85ea3c5b1",
   "metadata": {},
   "source": [
    "在 `pandas` 中，`cut` 和 `qcut` 函数都可以进行分箱处理操作。其中 `cut` 函数是按照数据的值进行分割，而 `qcut` 函数则是根据数据本身的数量来对数据进行分割。  \n",
    "下面我们举两个简单的例子来说明 `cut` 和 `qcut` 的用法，首先我们准备一组连续的数据："
   ]
  },
  {
   "cell_type": "code",
   "execution_count": 2,
   "id": "6d21daa1-f426-4093-b9cf-bec170515fc7",
   "metadata": {},
   "outputs": [
    {
     "data": {
      "text/html": [
       "<div>\n",
       "<style scoped>\n",
       "    .dataframe tbody tr th:only-of-type {\n",
       "        vertical-align: middle;\n",
       "    }\n",
       "\n",
       "    .dataframe tbody tr th {\n",
       "        vertical-align: top;\n",
       "    }\n",
       "\n",
       "    .dataframe thead th {\n",
       "        text-align: right;\n",
       "    }\n",
       "</style>\n",
       "<table border=\"1\" class=\"dataframe\">\n",
       "  <thead>\n",
       "    <tr style=\"text-align: right;\">\n",
       "      <th></th>\n",
       "      <th>number</th>\n",
       "    </tr>\n",
       "  </thead>\n",
       "  <tbody>\n",
       "    <tr>\n",
       "      <th>0</th>\n",
       "      <td>0</td>\n",
       "    </tr>\n",
       "    <tr>\n",
       "      <th>1</th>\n",
       "      <td>1</td>\n",
       "    </tr>\n",
       "    <tr>\n",
       "      <th>2</th>\n",
       "      <td>4</td>\n",
       "    </tr>\n",
       "    <tr>\n",
       "      <th>3</th>\n",
       "      <td>9</td>\n",
       "    </tr>\n",
       "    <tr>\n",
       "      <th>4</th>\n",
       "      <td>16</td>\n",
       "    </tr>\n",
       "    <tr>\n",
       "      <th>5</th>\n",
       "      <td>25</td>\n",
       "    </tr>\n",
       "    <tr>\n",
       "      <th>6</th>\n",
       "      <td>36</td>\n",
       "    </tr>\n",
       "    <tr>\n",
       "      <th>7</th>\n",
       "      <td>49</td>\n",
       "    </tr>\n",
       "    <tr>\n",
       "      <th>8</th>\n",
       "      <td>64</td>\n",
       "    </tr>\n",
       "    <tr>\n",
       "      <th>9</th>\n",
       "      <td>81</td>\n",
       "    </tr>\n",
       "    <tr>\n",
       "      <th>10</th>\n",
       "      <td>100</td>\n",
       "    </tr>\n",
       "  </tbody>\n",
       "</table>\n",
       "</div>"
      ],
      "text/plain": [
       "    number\n",
       "0        0\n",
       "1        1\n",
       "2        4\n",
       "3        9\n",
       "4       16\n",
       "5       25\n",
       "6       36\n",
       "7       49\n",
       "8       64\n",
       "9       81\n",
       "10     100"
      ]
     },
     "execution_count": 2,
     "metadata": {},
     "output_type": "execute_result"
    }
   ],
   "source": [
    "d = pd.DataFrame([x**2 for x in range(11)], columns=['number'])\n",
    "d"
   ]
  },
  {
   "cell_type": "markdown",
   "id": "503bf3e9-b595-45aa-bb45-ad5ff97739df",
   "metadata": {},
   "source": [
    "### 2.1. cut：按变量的值进行分割"
   ]
  },
  {
   "cell_type": "markdown",
   "id": "bcbf9c59-807b-41d5-ada4-016521fa32f9",
   "metadata": {},
   "source": [
    "例子：按照数据值由小到大的顺序将数据分成4份，并且使每组值的范围大致相等。"
   ]
  },
  {
   "cell_type": "code",
   "execution_count": 3,
   "id": "08563fb2-3266-4b00-be3b-7695efb63e39",
   "metadata": {},
   "outputs": [
    {
     "data": {
      "text/html": [
       "<div>\n",
       "<style scoped>\n",
       "    .dataframe tbody tr th:only-of-type {\n",
       "        vertical-align: middle;\n",
       "    }\n",
       "\n",
       "    .dataframe tbody tr th {\n",
       "        vertical-align: top;\n",
       "    }\n",
       "\n",
       "    .dataframe thead th {\n",
       "        text-align: right;\n",
       "    }\n",
       "</style>\n",
       "<table border=\"1\" class=\"dataframe\">\n",
       "  <thead>\n",
       "    <tr style=\"text-align: right;\">\n",
       "      <th></th>\n",
       "      <th>number</th>\n",
       "      <th>cut_group</th>\n",
       "    </tr>\n",
       "  </thead>\n",
       "  <tbody>\n",
       "    <tr>\n",
       "      <th>0</th>\n",
       "      <td>0</td>\n",
       "      <td>(-0.1, 25.0]</td>\n",
       "    </tr>\n",
       "    <tr>\n",
       "      <th>1</th>\n",
       "      <td>1</td>\n",
       "      <td>(-0.1, 25.0]</td>\n",
       "    </tr>\n",
       "    <tr>\n",
       "      <th>2</th>\n",
       "      <td>4</td>\n",
       "      <td>(-0.1, 25.0]</td>\n",
       "    </tr>\n",
       "    <tr>\n",
       "      <th>3</th>\n",
       "      <td>9</td>\n",
       "      <td>(-0.1, 25.0]</td>\n",
       "    </tr>\n",
       "    <tr>\n",
       "      <th>4</th>\n",
       "      <td>16</td>\n",
       "      <td>(-0.1, 25.0]</td>\n",
       "    </tr>\n",
       "    <tr>\n",
       "      <th>5</th>\n",
       "      <td>25</td>\n",
       "      <td>(-0.1, 25.0]</td>\n",
       "    </tr>\n",
       "    <tr>\n",
       "      <th>6</th>\n",
       "      <td>36</td>\n",
       "      <td>(25.0, 50.0]</td>\n",
       "    </tr>\n",
       "    <tr>\n",
       "      <th>7</th>\n",
       "      <td>49</td>\n",
       "      <td>(25.0, 50.0]</td>\n",
       "    </tr>\n",
       "    <tr>\n",
       "      <th>8</th>\n",
       "      <td>64</td>\n",
       "      <td>(50.0, 75.0]</td>\n",
       "    </tr>\n",
       "    <tr>\n",
       "      <th>9</th>\n",
       "      <td>81</td>\n",
       "      <td>(75.0, 100.0]</td>\n",
       "    </tr>\n",
       "    <tr>\n",
       "      <th>10</th>\n",
       "      <td>100</td>\n",
       "      <td>(75.0, 100.0]</td>\n",
       "    </tr>\n",
       "  </tbody>\n",
       "</table>\n",
       "</div>"
      ],
      "text/plain": [
       "    number      cut_group\n",
       "0        0   (-0.1, 25.0]\n",
       "1        1   (-0.1, 25.0]\n",
       "2        4   (-0.1, 25.0]\n",
       "3        9   (-0.1, 25.0]\n",
       "4       16   (-0.1, 25.0]\n",
       "5       25   (-0.1, 25.0]\n",
       "6       36   (25.0, 50.0]\n",
       "7       49   (25.0, 50.0]\n",
       "8       64   (50.0, 75.0]\n",
       "9       81  (75.0, 100.0]\n",
       "10     100  (75.0, 100.0]"
      ]
     },
     "execution_count": 3,
     "metadata": {},
     "output_type": "execute_result"
    }
   ],
   "source": [
    "# cut：按照数据值由小到大的顺序将数据分成4份， 并且使每组值的范围大致相等。\n",
    "d_cut = d.copy()\n",
    "d_cut['cut_group'] = pd.cut(d_cut['number'], 4)\n",
    "d_cut"
   ]
  },
  {
   "cell_type": "markdown",
   "id": "8c9d0342-86f2-498c-aef9-00efd75ba1ff",
   "metadata": {},
   "source": [
    "我们可以看到，上面的代码把数据按照由小到大的顺序平均切分成了4份，每份的值的跨度大约是25。  \n",
    "其中，`(a1, a2]` 表示 `a < x <= b`，默认情况下，每个区间包括最大值，不包括最小值。但是最左边的值，一般设置成最小值 `（0）` 减去最大值 `（100）` 的 `0.1%`，也就是 `0 - 100*0.1% = -0.1`。  \n",
    "我们查看一下上面每个分组里变量的个数。"
   ]
  },
  {
   "cell_type": "code",
   "execution_count": 4,
   "id": "006d4d50-20ae-489f-872b-503298b48618",
   "metadata": {},
   "outputs": [
    {
     "data": {
      "text/plain": [
       "(-0.1, 25.0]     6\n",
       "(25.0, 50.0]     2\n",
       "(75.0, 100.0]    2\n",
       "(50.0, 75.0]     1\n",
       "Name: cut_group, dtype: int64"
      ]
     },
     "execution_count": 4,
     "metadata": {},
     "output_type": "execute_result"
    }
   ],
   "source": [
    "# 查看每个分组里变量的个数\n",
    "d_cut['cut_group'].value_counts()"
   ]
  },
  {
   "cell_type": "markdown",
   "id": "7872ec27-ff73-425c-bd5a-b65d3b904f01",
   "metadata": {},
   "source": [
    "可以看到，每个分组里数据的个数并不一样。  \n",
    "如果希望每个分组里的数据个数一样，我们就要用到了 `qcut` 方法。"
   ]
  },
  {
   "cell_type": "markdown",
   "id": "fc8e00d8-c778-4772-81a4-a108bea9d31e",
   "metadata": {},
   "source": [
    "### 2.2. qcut：按数据的数量进行分割"
   ]
  },
  {
   "cell_type": "markdown",
   "id": "f3fa65ce-998a-4ef3-8eb1-cfa454362953",
   "metadata": {},
   "source": [
    "跟 `cut()` 按照变量的值对变量进行分割不同，`qcut()` 是按变量的数量来对变量进行分割，并且尽量保证每个分组里变量的个数相同。  \n",
    "例子：把数据由小到大分成四组，并且让每组数据的数量相同。"
   ]
  },
  {
   "cell_type": "code",
   "execution_count": 5,
   "id": "16c2c8f3-eebd-4c9f-9449-6b2bd3939053",
   "metadata": {},
   "outputs": [
    {
     "data": {
      "text/html": [
       "<div>\n",
       "<style scoped>\n",
       "    .dataframe tbody tr th:only-of-type {\n",
       "        vertical-align: middle;\n",
       "    }\n",
       "\n",
       "    .dataframe tbody tr th {\n",
       "        vertical-align: top;\n",
       "    }\n",
       "\n",
       "    .dataframe thead th {\n",
       "        text-align: right;\n",
       "    }\n",
       "</style>\n",
       "<table border=\"1\" class=\"dataframe\">\n",
       "  <thead>\n",
       "    <tr style=\"text-align: right;\">\n",
       "      <th></th>\n",
       "      <th>number</th>\n",
       "      <th>qcut_group</th>\n",
       "    </tr>\n",
       "  </thead>\n",
       "  <tbody>\n",
       "    <tr>\n",
       "      <th>0</th>\n",
       "      <td>0</td>\n",
       "      <td>(-0.001, 6.5]</td>\n",
       "    </tr>\n",
       "    <tr>\n",
       "      <th>1</th>\n",
       "      <td>1</td>\n",
       "      <td>(-0.001, 6.5]</td>\n",
       "    </tr>\n",
       "    <tr>\n",
       "      <th>2</th>\n",
       "      <td>4</td>\n",
       "      <td>(-0.001, 6.5]</td>\n",
       "    </tr>\n",
       "    <tr>\n",
       "      <th>3</th>\n",
       "      <td>9</td>\n",
       "      <td>(6.5, 25.0]</td>\n",
       "    </tr>\n",
       "    <tr>\n",
       "      <th>4</th>\n",
       "      <td>16</td>\n",
       "      <td>(6.5, 25.0]</td>\n",
       "    </tr>\n",
       "    <tr>\n",
       "      <th>5</th>\n",
       "      <td>25</td>\n",
       "      <td>(6.5, 25.0]</td>\n",
       "    </tr>\n",
       "    <tr>\n",
       "      <th>6</th>\n",
       "      <td>36</td>\n",
       "      <td>(25.0, 56.5]</td>\n",
       "    </tr>\n",
       "    <tr>\n",
       "      <th>7</th>\n",
       "      <td>49</td>\n",
       "      <td>(25.0, 56.5]</td>\n",
       "    </tr>\n",
       "    <tr>\n",
       "      <th>8</th>\n",
       "      <td>64</td>\n",
       "      <td>(56.5, 100.0]</td>\n",
       "    </tr>\n",
       "    <tr>\n",
       "      <th>9</th>\n",
       "      <td>81</td>\n",
       "      <td>(56.5, 100.0]</td>\n",
       "    </tr>\n",
       "    <tr>\n",
       "      <th>10</th>\n",
       "      <td>100</td>\n",
       "      <td>(56.5, 100.0]</td>\n",
       "    </tr>\n",
       "  </tbody>\n",
       "</table>\n",
       "</div>"
      ],
      "text/plain": [
       "    number     qcut_group\n",
       "0        0  (-0.001, 6.5]\n",
       "1        1  (-0.001, 6.5]\n",
       "2        4  (-0.001, 6.5]\n",
       "3        9    (6.5, 25.0]\n",
       "4       16    (6.5, 25.0]\n",
       "5       25    (6.5, 25.0]\n",
       "6       36   (25.0, 56.5]\n",
       "7       49   (25.0, 56.5]\n",
       "8       64  (56.5, 100.0]\n",
       "9       81  (56.5, 100.0]\n",
       "10     100  (56.5, 100.0]"
      ]
     },
     "execution_count": 5,
     "metadata": {},
     "output_type": "execute_result"
    }
   ],
   "source": [
    "# 把变量由小到大分成四组，并且让每组变量的数量相同\n",
    "d_qcut = d.copy()\n",
    "d_qcut['qcut_group'] = pd.qcut(d_qcut['number'], 4)\n",
    "d_qcut"
   ]
  },
  {
   "cell_type": "code",
   "execution_count": 6,
   "id": "463efe04-3caa-4794-bcfd-c914b3693bd9",
   "metadata": {},
   "outputs": [
    {
     "data": {
      "text/plain": [
       "(-0.001, 6.5]    3\n",
       "(6.5, 25.0]      3\n",
       "(56.5, 100.0]    3\n",
       "(25.0, 56.5]     2\n",
       "Name: qcut_group, dtype: int64"
      ]
     },
     "execution_count": 6,
     "metadata": {},
     "output_type": "execute_result"
    }
   ],
   "source": [
    "# 查看每个分组里变量的个数\n",
    "d_qcut['qcut_group'].value_counts()"
   ]
  },
  {
   "cell_type": "markdown",
   "id": "b756b2e0-b279-4972-9aed-009d1fab9e46",
   "metadata": {},
   "source": [
    "从上面的结果我们可以看到，使用 `qcut()` 对数据进行分割之后，每个分组里的数据个数都大致相同，但是跟 `cut()` 不同的是，每个分组里值的范围并不相同。"
   ]
  },
  {
   "cell_type": "markdown",
   "id": "81ba090a-426e-4c52-b056-d98242630816",
   "metadata": {},
   "source": [
    "## 3. cut和qcut函数的拓展用法"
   ]
  },
  {
   "cell_type": "markdown",
   "id": "75eee744-2f7a-4160-b8e2-a2257c3c4bab",
   "metadata": {},
   "source": [
    "上面的内容说明了 `cut` 和 `qcut` 函数的基本区别，接下来我们来补充一些这两个函数的其它用法。"
   ]
  },
  {
   "cell_type": "markdown",
   "id": "3f0a80ab-b949-454d-95cf-b81b7df6d7d6",
   "metadata": {},
   "source": [
    "### 3.1. cut() bins 参数：按照指定的边界值对变量进行分割"
   ]
  },
  {
   "cell_type": "code",
   "execution_count": 7,
   "id": "529c19df-5c7e-4857-acfa-fcf10cd37151",
   "metadata": {},
   "outputs": [
    {
     "data": {
      "text/html": [
       "<div>\n",
       "<style scoped>\n",
       "    .dataframe tbody tr th:only-of-type {\n",
       "        vertical-align: middle;\n",
       "    }\n",
       "\n",
       "    .dataframe tbody tr th {\n",
       "        vertical-align: top;\n",
       "    }\n",
       "\n",
       "    .dataframe thead th {\n",
       "        text-align: right;\n",
       "    }\n",
       "</style>\n",
       "<table border=\"1\" class=\"dataframe\">\n",
       "  <thead>\n",
       "    <tr style=\"text-align: right;\">\n",
       "      <th></th>\n",
       "      <th>number</th>\n",
       "      <th>cut_group</th>\n",
       "    </tr>\n",
       "  </thead>\n",
       "  <tbody>\n",
       "    <tr>\n",
       "      <th>0</th>\n",
       "      <td>0</td>\n",
       "      <td>NaN</td>\n",
       "    </tr>\n",
       "    <tr>\n",
       "      <th>1</th>\n",
       "      <td>1</td>\n",
       "      <td>(0.0, 10.0]</td>\n",
       "    </tr>\n",
       "    <tr>\n",
       "      <th>2</th>\n",
       "      <td>4</td>\n",
       "      <td>(0.0, 10.0]</td>\n",
       "    </tr>\n",
       "    <tr>\n",
       "      <th>3</th>\n",
       "      <td>9</td>\n",
       "      <td>(0.0, 10.0]</td>\n",
       "    </tr>\n",
       "    <tr>\n",
       "      <th>4</th>\n",
       "      <td>16</td>\n",
       "      <td>(10.0, 50.0]</td>\n",
       "    </tr>\n",
       "    <tr>\n",
       "      <th>5</th>\n",
       "      <td>25</td>\n",
       "      <td>(10.0, 50.0]</td>\n",
       "    </tr>\n",
       "    <tr>\n",
       "      <th>6</th>\n",
       "      <td>36</td>\n",
       "      <td>(10.0, 50.0]</td>\n",
       "    </tr>\n",
       "    <tr>\n",
       "      <th>7</th>\n",
       "      <td>49</td>\n",
       "      <td>(10.0, 50.0]</td>\n",
       "    </tr>\n",
       "    <tr>\n",
       "      <th>8</th>\n",
       "      <td>64</td>\n",
       "      <td>(50.0, 100.0]</td>\n",
       "    </tr>\n",
       "    <tr>\n",
       "      <th>9</th>\n",
       "      <td>81</td>\n",
       "      <td>(50.0, 100.0]</td>\n",
       "    </tr>\n",
       "    <tr>\n",
       "      <th>10</th>\n",
       "      <td>100</td>\n",
       "      <td>(50.0, 100.0]</td>\n",
       "    </tr>\n",
       "  </tbody>\n",
       "</table>\n",
       "</div>"
      ],
      "text/plain": [
       "    number      cut_group\n",
       "0        0            NaN\n",
       "1        1    (0.0, 10.0]\n",
       "2        4    (0.0, 10.0]\n",
       "3        9    (0.0, 10.0]\n",
       "4       16   (10.0, 50.0]\n",
       "5       25   (10.0, 50.0]\n",
       "6       36   (10.0, 50.0]\n",
       "7       49   (10.0, 50.0]\n",
       "8       64  (50.0, 100.0]\n",
       "9       81  (50.0, 100.0]\n",
       "10     100  (50.0, 100.0]"
      ]
     },
     "execution_count": 7,
     "metadata": {},
     "output_type": "execute_result"
    }
   ],
   "source": [
    "# 使用bins参数，指定每个分组的边界\n",
    "d_cut_bins = d.copy()\n",
    "d_cut_bins['cut_group'] = pd.cut(d_cut_bins['number'], bins=[0, 10, 50, 100])\n",
    "d_cut_bins"
   ]
  },
  {
   "cell_type": "markdown",
   "id": "a1e3c819-c6b3-4174-9fa2-7303f6380f5f",
   "metadata": {},
   "source": [
    "上面的代码里，我们使用bins参数指定了各个分组的分界点0，10，50和100，最终得到了0-10，10-50，50-100三个区间的分组。"
   ]
  },
  {
   "cell_type": "markdown",
   "id": "da8d2aac-edfa-4ced-9510-016a498d8367",
   "metadata": {},
   "source": [
    "### 3.2. cut() retbins参数：获取边界值的列表"
   ]
  },
  {
   "cell_type": "markdown",
   "id": "eef89b0d-3fff-4b28-89c7-ca37601dc146",
   "metadata": {},
   "source": [
    "我们可以通过在 `cut` 函数里设置 `retbins` 参数，来获取边界值的列表。当设置了 `retbins` 参数之后，`cut()` 方法可以同时返回切分好的分组，以及各个分组的边界值。"
   ]
  },
  {
   "cell_type": "code",
   "execution_count": 8,
   "id": "b6d52233-50f4-4367-a8d9-6a4ef51c7ef8",
   "metadata": {},
   "outputs": [
    {
     "data": {
      "text/plain": [
       "'bins : [ -0.1  25.   50.   75.  100. ]'"
      ]
     },
     "metadata": {},
     "output_type": "display_data"
    }
   ],
   "source": [
    "# 通过设置retbins参数获取边界值列表\n",
    "d_cut_retbins = d.copy()\n",
    "d_cut_retbins['cut_group'], bins = pd.cut(d_cut_retbins['number'], 4, retbins=True)\n",
    "display('bins : {}'.format(bins))"
   ]
  },
  {
   "cell_type": "markdown",
   "id": "8e73e044-3af0-4780-9e94-fcca21398fe9",
   "metadata": {},
   "source": [
    "### 3.3. cut() right参数：设定分组的开闭区间"
   ]
  },
  {
   "cell_type": "markdown",
   "id": "9e3faab4-5efa-458b-8048-63c38b1623d1",
   "metadata": {},
   "source": [
    "默认情况下，每个分组的左边为开区间，右边为闭区间，比如上面的 `（-0.1， 25.0]`。而当我们把参数 `right` 设置成 `False`，左右的开闭区间便互相调换了位置，成了 `[0.0, 25.0)`。"
   ]
  },
  {
   "cell_type": "code",
   "execution_count": 9,
   "id": "574a4250-7abe-4594-ad57-83b33ab1dcbc",
   "metadata": {},
   "outputs": [
    {
     "data": {
      "text/html": [
       "<div>\n",
       "<style scoped>\n",
       "    .dataframe tbody tr th:only-of-type {\n",
       "        vertical-align: middle;\n",
       "    }\n",
       "\n",
       "    .dataframe tbody tr th {\n",
       "        vertical-align: top;\n",
       "    }\n",
       "\n",
       "    .dataframe thead th {\n",
       "        text-align: right;\n",
       "    }\n",
       "</style>\n",
       "<table border=\"1\" class=\"dataframe\">\n",
       "  <thead>\n",
       "    <tr style=\"text-align: right;\">\n",
       "      <th></th>\n",
       "      <th>number</th>\n",
       "      <th>cut_group</th>\n",
       "    </tr>\n",
       "  </thead>\n",
       "  <tbody>\n",
       "    <tr>\n",
       "      <th>0</th>\n",
       "      <td>0</td>\n",
       "      <td>[0.0, 25.0)</td>\n",
       "    </tr>\n",
       "    <tr>\n",
       "      <th>1</th>\n",
       "      <td>1</td>\n",
       "      <td>[0.0, 25.0)</td>\n",
       "    </tr>\n",
       "    <tr>\n",
       "      <th>2</th>\n",
       "      <td>4</td>\n",
       "      <td>[0.0, 25.0)</td>\n",
       "    </tr>\n",
       "    <tr>\n",
       "      <th>3</th>\n",
       "      <td>9</td>\n",
       "      <td>[0.0, 25.0)</td>\n",
       "    </tr>\n",
       "    <tr>\n",
       "      <th>4</th>\n",
       "      <td>16</td>\n",
       "      <td>[0.0, 25.0)</td>\n",
       "    </tr>\n",
       "    <tr>\n",
       "      <th>5</th>\n",
       "      <td>25</td>\n",
       "      <td>[25.0, 50.0)</td>\n",
       "    </tr>\n",
       "    <tr>\n",
       "      <th>6</th>\n",
       "      <td>36</td>\n",
       "      <td>[25.0, 50.0)</td>\n",
       "    </tr>\n",
       "    <tr>\n",
       "      <th>7</th>\n",
       "      <td>49</td>\n",
       "      <td>[25.0, 50.0)</td>\n",
       "    </tr>\n",
       "    <tr>\n",
       "      <th>8</th>\n",
       "      <td>64</td>\n",
       "      <td>[50.0, 75.0)</td>\n",
       "    </tr>\n",
       "    <tr>\n",
       "      <th>9</th>\n",
       "      <td>81</td>\n",
       "      <td>[75.0, 100.1)</td>\n",
       "    </tr>\n",
       "    <tr>\n",
       "      <th>10</th>\n",
       "      <td>100</td>\n",
       "      <td>[75.0, 100.1)</td>\n",
       "    </tr>\n",
       "  </tbody>\n",
       "</table>\n",
       "</div>"
      ],
      "text/plain": [
       "    number      cut_group\n",
       "0        0    [0.0, 25.0)\n",
       "1        1    [0.0, 25.0)\n",
       "2        4    [0.0, 25.0)\n",
       "3        9    [0.0, 25.0)\n",
       "4       16    [0.0, 25.0)\n",
       "5       25   [25.0, 50.0)\n",
       "6       36   [25.0, 50.0)\n",
       "7       49   [25.0, 50.0)\n",
       "8       64   [50.0, 75.0)\n",
       "9       81  [75.0, 100.1)\n",
       "10     100  [75.0, 100.1)"
      ]
     },
     "execution_count": 9,
     "metadata": {},
     "output_type": "execute_result"
    }
   ],
   "source": [
    "# 通过设定参数right为False, 调换开闭区间的位置。\n",
    "d_cut = d.copy()\n",
    "d_cut['cut_group'] = pd.cut(d_cut['number'], 4, right=False)\n",
    "d_cut"
   ]
  },
  {
   "cell_type": "markdown",
   "id": "70cf0bf0-846e-43f1-810c-1e1746ab6a96",
   "metadata": {},
   "source": [
    "从上面的结果我们可以看到，原本左开右闭的区间，变成了左闭右开的区间。"
   ]
  },
  {
   "cell_type": "markdown",
   "id": "7b03d605-9637-486b-9313-173590e1c4f9",
   "metadata": {},
   "source": [
    "### 3.4. cut() labels参数：改变cut_group列里显示的类型标签"
   ]
  },
  {
   "cell_type": "markdown",
   "id": "0572afe5-835a-469f-8a89-021b37011a7c",
   "metadata": {},
   "source": [
    "到目前为止，我们 `cut` 列中的内容都是以 `(0.0, 25.0]` 这样的开闭区间的形式来表示各个分组。但实际操作中，我们可能需要更简单的显示方式，比如 `1，2，3...` 这样的连续的数字。  \n",
    "上面的想法我们可以通过改变 `labels` 的值来实现。默认的情况下，`labels=None`，也就是开闭区间的形式；当我们把 `labels` 设置成 `False` 的时候，就可以改成数字的形式了。"
   ]
  },
  {
   "cell_type": "code",
   "execution_count": 10,
   "id": "2a403938-4989-4934-8f45-533de923ab66",
   "metadata": {},
   "outputs": [
    {
     "data": {
      "text/html": [
       "<div>\n",
       "<style scoped>\n",
       "    .dataframe tbody tr th:only-of-type {\n",
       "        vertical-align: middle;\n",
       "    }\n",
       "\n",
       "    .dataframe tbody tr th {\n",
       "        vertical-align: top;\n",
       "    }\n",
       "\n",
       "    .dataframe thead th {\n",
       "        text-align: right;\n",
       "    }\n",
       "</style>\n",
       "<table border=\"1\" class=\"dataframe\">\n",
       "  <thead>\n",
       "    <tr style=\"text-align: right;\">\n",
       "      <th></th>\n",
       "      <th>number</th>\n",
       "      <th>cut_group</th>\n",
       "    </tr>\n",
       "  </thead>\n",
       "  <tbody>\n",
       "    <tr>\n",
       "      <th>0</th>\n",
       "      <td>0</td>\n",
       "      <td>0</td>\n",
       "    </tr>\n",
       "    <tr>\n",
       "      <th>1</th>\n",
       "      <td>1</td>\n",
       "      <td>0</td>\n",
       "    </tr>\n",
       "    <tr>\n",
       "      <th>2</th>\n",
       "      <td>4</td>\n",
       "      <td>0</td>\n",
       "    </tr>\n",
       "    <tr>\n",
       "      <th>3</th>\n",
       "      <td>9</td>\n",
       "      <td>0</td>\n",
       "    </tr>\n",
       "    <tr>\n",
       "      <th>4</th>\n",
       "      <td>16</td>\n",
       "      <td>0</td>\n",
       "    </tr>\n",
       "    <tr>\n",
       "      <th>5</th>\n",
       "      <td>25</td>\n",
       "      <td>0</td>\n",
       "    </tr>\n",
       "    <tr>\n",
       "      <th>6</th>\n",
       "      <td>36</td>\n",
       "      <td>1</td>\n",
       "    </tr>\n",
       "    <tr>\n",
       "      <th>7</th>\n",
       "      <td>49</td>\n",
       "      <td>1</td>\n",
       "    </tr>\n",
       "    <tr>\n",
       "      <th>8</th>\n",
       "      <td>64</td>\n",
       "      <td>2</td>\n",
       "    </tr>\n",
       "    <tr>\n",
       "      <th>9</th>\n",
       "      <td>81</td>\n",
       "      <td>3</td>\n",
       "    </tr>\n",
       "    <tr>\n",
       "      <th>10</th>\n",
       "      <td>100</td>\n",
       "      <td>3</td>\n",
       "    </tr>\n",
       "  </tbody>\n",
       "</table>\n",
       "</div>"
      ],
      "text/plain": [
       "    number  cut_group\n",
       "0        0          0\n",
       "1        1          0\n",
       "2        4          0\n",
       "3        9          0\n",
       "4       16          0\n",
       "5       25          0\n",
       "6       36          1\n",
       "7       49          1\n",
       "8       64          2\n",
       "9       81          3\n",
       "10     100          3"
      ]
     },
     "execution_count": 10,
     "metadata": {},
     "output_type": "execute_result"
    }
   ],
   "source": [
    "# 把cut列的内容由开闭区间的形式改成数字的形式。\n",
    "d_cut = d.copy()\n",
    "d_cut['cut_group'] = pd.cut(d_cut['number'], 4, labels=False)\n",
    "d_cut"
   ]
  },
  {
   "cell_type": "markdown",
   "id": "64fbe26a-7207-4b98-b226-384c125f1bb3",
   "metadata": {},
   "source": [
    "我们可以看到，上面的 `cut_group` 的标签由开闭区间改变成了数字。"
   ]
  },
  {
   "cell_type": "markdown",
   "id": "069ecec5-7a95-433a-941a-7a2a28003da7",
   "metadata": {},
   "source": [
    "### 3.5. cut() labels参数：自定义cut_group列中的类型标签"
   ]
  },
  {
   "cell_type": "markdown",
   "id": "da28af92-76de-4634-9ba4-96865ec14b62",
   "metadata": {},
   "source": [
    "通过给 `labels` 参数指定一个列表，我们可以把 `cut_group` 列中的类型标签自定义成自己想要的内容。"
   ]
  },
  {
   "cell_type": "code",
   "execution_count": 11,
   "id": "c4ebddc9-6198-43fb-ba5f-6bd1c8ab2dcf",
   "metadata": {},
   "outputs": [
    {
     "data": {
      "text/html": [
       "<div>\n",
       "<style scoped>\n",
       "    .dataframe tbody tr th:only-of-type {\n",
       "        vertical-align: middle;\n",
       "    }\n",
       "\n",
       "    .dataframe tbody tr th {\n",
       "        vertical-align: top;\n",
       "    }\n",
       "\n",
       "    .dataframe thead th {\n",
       "        text-align: right;\n",
       "    }\n",
       "</style>\n",
       "<table border=\"1\" class=\"dataframe\">\n",
       "  <thead>\n",
       "    <tr style=\"text-align: right;\">\n",
       "      <th></th>\n",
       "      <th>number</th>\n",
       "      <th>cut_group</th>\n",
       "    </tr>\n",
       "  </thead>\n",
       "  <tbody>\n",
       "    <tr>\n",
       "      <th>0</th>\n",
       "      <td>0</td>\n",
       "      <td>small</td>\n",
       "    </tr>\n",
       "    <tr>\n",
       "      <th>1</th>\n",
       "      <td>1</td>\n",
       "      <td>small</td>\n",
       "    </tr>\n",
       "    <tr>\n",
       "      <th>2</th>\n",
       "      <td>4</td>\n",
       "      <td>small</td>\n",
       "    </tr>\n",
       "    <tr>\n",
       "      <th>3</th>\n",
       "      <td>9</td>\n",
       "      <td>small</td>\n",
       "    </tr>\n",
       "    <tr>\n",
       "      <th>4</th>\n",
       "      <td>16</td>\n",
       "      <td>small</td>\n",
       "    </tr>\n",
       "    <tr>\n",
       "      <th>5</th>\n",
       "      <td>25</td>\n",
       "      <td>small</td>\n",
       "    </tr>\n",
       "    <tr>\n",
       "      <th>6</th>\n",
       "      <td>36</td>\n",
       "      <td>medium</td>\n",
       "    </tr>\n",
       "    <tr>\n",
       "      <th>7</th>\n",
       "      <td>49</td>\n",
       "      <td>medium</td>\n",
       "    </tr>\n",
       "    <tr>\n",
       "      <th>8</th>\n",
       "      <td>64</td>\n",
       "      <td>large</td>\n",
       "    </tr>\n",
       "    <tr>\n",
       "      <th>9</th>\n",
       "      <td>81</td>\n",
       "      <td>x-large</td>\n",
       "    </tr>\n",
       "    <tr>\n",
       "      <th>10</th>\n",
       "      <td>100</td>\n",
       "      <td>x-large</td>\n",
       "    </tr>\n",
       "  </tbody>\n",
       "</table>\n",
       "</div>"
      ],
      "text/plain": [
       "    number cut_group\n",
       "0        0     small\n",
       "1        1     small\n",
       "2        4     small\n",
       "3        9     small\n",
       "4       16     small\n",
       "5       25     small\n",
       "6       36    medium\n",
       "7       49    medium\n",
       "8       64     large\n",
       "9       81   x-large\n",
       "10     100   x-large"
      ]
     },
     "execution_count": 11,
     "metadata": {},
     "output_type": "execute_result"
    }
   ],
   "source": [
    "# 把cut_group列中的类型标签自定义为small, medium, large和x-large\n",
    "d_cut = d.copy()\n",
    "d_cut['cut_group'] = pd.cut(d_cut['number'], 4, labels=['small', 'medium', 'large', 'x-large'])\n",
    "d_cut"
   ]
  },
  {
   "cell_type": "markdown",
   "id": "ebe00442-d20d-481b-bd2b-1bf06c6d95cf",
   "metadata": {},
   "source": [
    "### 3.6. qcut() retbins参数：获取分组边界值的列表"
   ]
  },
  {
   "cell_type": "markdown",
   "id": "8e7572bf-7f90-4871-a457-290f402e58e6",
   "metadata": {},
   "source": [
    "跟 `cut()` 一样，我们可以通过在 `qcut()` 设置 `retbins` 参数，获取每个分组的边界值列表。"
   ]
  },
  {
   "cell_type": "code",
   "execution_count": 12,
   "id": "8bed2c7d-bc7a-4aa8-a061-a69280cfc27e",
   "metadata": {},
   "outputs": [
    {
     "data": {
      "text/plain": [
       "array([  0. ,   6.5,  25. ,  56.5, 100. ])"
      ]
     },
     "execution_count": 12,
     "metadata": {},
     "output_type": "execute_result"
    }
   ],
   "source": [
    "# 获取每个分组的边界值列表\n",
    "d_qcut = d.copy()\n",
    "d_qcut['qcut_group'], bins = pd.qcut(d_qcut['number'], 4, retbins=True)\n",
    "bins"
   ]
  },
  {
   "cell_type": "markdown",
   "id": "fa735aa9-12a5-4d71-85d2-ab106ac8334c",
   "metadata": {},
   "source": [
    "### 3.7. qcut() labels参数：自定义分组标签的内容"
   ]
  },
  {
   "cell_type": "markdown",
   "id": "e1c81cdb-6778-4b2a-84ff-911e963e1b4a",
   "metadata": {},
   "source": [
    "通过设置 `labels` 参数，我们可以自定义分组标签的内容。"
   ]
  },
  {
   "cell_type": "code",
   "execution_count": 13,
   "id": "603841ca-034f-4bfc-a9dd-c6ffa7900611",
   "metadata": {},
   "outputs": [
    {
     "data": {
      "text/html": [
       "<div>\n",
       "<style scoped>\n",
       "    .dataframe tbody tr th:only-of-type {\n",
       "        vertical-align: middle;\n",
       "    }\n",
       "\n",
       "    .dataframe tbody tr th {\n",
       "        vertical-align: top;\n",
       "    }\n",
       "\n",
       "    .dataframe thead th {\n",
       "        text-align: right;\n",
       "    }\n",
       "</style>\n",
       "<table border=\"1\" class=\"dataframe\">\n",
       "  <thead>\n",
       "    <tr style=\"text-align: right;\">\n",
       "      <th></th>\n",
       "      <th>number</th>\n",
       "      <th>qcut_group</th>\n",
       "    </tr>\n",
       "  </thead>\n",
       "  <tbody>\n",
       "    <tr>\n",
       "      <th>0</th>\n",
       "      <td>0</td>\n",
       "      <td>A</td>\n",
       "    </tr>\n",
       "    <tr>\n",
       "      <th>1</th>\n",
       "      <td>1</td>\n",
       "      <td>A</td>\n",
       "    </tr>\n",
       "    <tr>\n",
       "      <th>2</th>\n",
       "      <td>4</td>\n",
       "      <td>A</td>\n",
       "    </tr>\n",
       "    <tr>\n",
       "      <th>3</th>\n",
       "      <td>9</td>\n",
       "      <td>B</td>\n",
       "    </tr>\n",
       "    <tr>\n",
       "      <th>4</th>\n",
       "      <td>16</td>\n",
       "      <td>B</td>\n",
       "    </tr>\n",
       "    <tr>\n",
       "      <th>5</th>\n",
       "      <td>25</td>\n",
       "      <td>B</td>\n",
       "    </tr>\n",
       "    <tr>\n",
       "      <th>6</th>\n",
       "      <td>36</td>\n",
       "      <td>C</td>\n",
       "    </tr>\n",
       "    <tr>\n",
       "      <th>7</th>\n",
       "      <td>49</td>\n",
       "      <td>C</td>\n",
       "    </tr>\n",
       "    <tr>\n",
       "      <th>8</th>\n",
       "      <td>64</td>\n",
       "      <td>D</td>\n",
       "    </tr>\n",
       "    <tr>\n",
       "      <th>9</th>\n",
       "      <td>81</td>\n",
       "      <td>D</td>\n",
       "    </tr>\n",
       "    <tr>\n",
       "      <th>10</th>\n",
       "      <td>100</td>\n",
       "      <td>D</td>\n",
       "    </tr>\n",
       "  </tbody>\n",
       "</table>\n",
       "</div>"
      ],
      "text/plain": [
       "    number qcut_group\n",
       "0        0          A\n",
       "1        1          A\n",
       "2        4          A\n",
       "3        9          B\n",
       "4       16          B\n",
       "5       25          B\n",
       "6       36          C\n",
       "7       49          C\n",
       "8       64          D\n",
       "9       81          D\n",
       "10     100          D"
      ]
     },
     "execution_count": 13,
     "metadata": {},
     "output_type": "execute_result"
    }
   ],
   "source": [
    "# 自定义分组标签的内容\n",
    "d_qcut = d.copy()\n",
    "d_qcut['qcut_group'] = pd.qcut(d_qcut['number'], 4, labels=['A', 'B', 'C', 'D'])\n",
    "d_qcut"
   ]
  },
  {
   "cell_type": "markdown",
   "id": "56cea38b-d48f-4ec2-92fe-4f79a6792968",
   "metadata": {},
   "source": [
    "从上面可以看到， 我们通过给 `labels` 参数设定自定义的列表，从而改变了 `qcut_group` 中显示的内容。"
   ]
  },
  {
   "cell_type": "markdown",
   "id": "942c23f5-c3b4-4870-88ad-d2e54ac95879",
   "metadata": {},
   "source": [
    "## 4. 总结"
   ]
  },
  {
   "cell_type": "markdown",
   "id": "46acb8e0-5e9a-4fd4-844c-e0502dbb8d1e",
   "metadata": {},
   "source": [
    "综上所述，我们可以看到，`cut()` 和 `qcut()` 的主要作用都是对若干连续变量进行分箱操作。  \n",
    "但有所不同的是，`cut()` 是按变量的值进行划分，而 `qcut()` 是按照变量的个数进行划分。"
   ]
  },
  {
   "cell_type": "code",
   "execution_count": null,
   "id": "10424734-0ee3-4ba5-87cf-7c5d3764b81d",
   "metadata": {},
   "outputs": [],
   "source": []
  }
 ],
 "metadata": {
  "kernelspec": {
   "display_name": "Python 3 (ipykernel)",
   "language": "python",
   "name": "python3"
  },
  "language_info": {
   "codemirror_mode": {
    "name": "ipython",
    "version": 3
   },
   "file_extension": ".py",
   "mimetype": "text/x-python",
   "name": "python",
   "nbconvert_exporter": "python",
   "pygments_lexer": "ipython3",
   "version": "3.7.3"
  }
 },
 "nbformat": 4,
 "nbformat_minor": 5
}
