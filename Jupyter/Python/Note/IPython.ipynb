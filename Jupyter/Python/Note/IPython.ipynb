{
 "cells": [
  {
   "cell_type": "markdown",
   "id": "66dad2d8-1ce8-4b60-a3d0-f7bd3de19c6c",
   "metadata": {},
   "source": [
    "# 1. IPython的帮助与文档"
   ]
  },
  {
   "cell_type": "markdown",
   "id": "1fd279cf-08bd-4e1f-98e7-99e762761d3c",
   "metadata": {},
   "source": [
    "## 1.1 用符号 ? 获取帮助文档\n",
    "每个Python对象都有一个字符串的引用，该字符串即docstring。大多数情况下，该字符串包含对象的简要介绍和使用方法。Python内置的help()函数可以获取这些信息，并且能打印输出结果。"
   ]
  },
  {
   "cell_type": "code",
   "execution_count": 1,
   "id": "3bce800c-4856-46b1-874e-8ea20bc56a8a",
   "metadata": {},
   "outputs": [
    {
     "name": "stdout",
     "output_type": "stream",
     "text": [
      "Help on built-in function len in module builtins:\n",
      "\n",
      "len(obj, /)\n",
      "    Return the number of items in a container.\n",
      "\n"
     ]
    }
   ],
   "source": [
    "help(len)  # python内置方法"
   ]
  },
  {
   "cell_type": "code",
   "execution_count": 2,
   "id": "7f396775-5685-4e9c-a1e6-a7c13e1ca4de",
   "metadata": {},
   "outputs": [
    {
     "data": {
      "text/plain": [
       "\u001b[0;31mSignature:\u001b[0m \u001b[0mlen\u001b[0m\u001b[0;34m(\u001b[0m\u001b[0mobj\u001b[0m\u001b[0;34m,\u001b[0m \u001b[0;34m/\u001b[0m\u001b[0;34m)\u001b[0m\u001b[0;34m\u001b[0m\u001b[0;34m\u001b[0m\u001b[0m\n",
       "\u001b[0;31mDocstring:\u001b[0m Return the number of items in a container.\n",
       "\u001b[0;31mType:\u001b[0m      builtin_function_or_method\n"
      ]
     },
     "metadata": {},
     "output_type": "display_data"
    }
   ],
   "source": [
    "len?"
   ]
  },
  {
   "cell_type": "code",
   "execution_count": 3,
   "id": "82dc96c4-b0d4-4e7e-814a-8d0f9f10b0f6",
   "metadata": {},
   "outputs": [
    {
     "data": {
      "text/plain": [
       "\u001b[0;31mSignature:\u001b[0m \u001b[0mL\u001b[0m\u001b[0;34m.\u001b[0m\u001b[0minsert\u001b[0m\u001b[0;34m(\u001b[0m\u001b[0mindex\u001b[0m\u001b[0;34m,\u001b[0m \u001b[0mobject\u001b[0m\u001b[0;34m,\u001b[0m \u001b[0;34m/\u001b[0m\u001b[0;34m)\u001b[0m\u001b[0;34m\u001b[0m\u001b[0;34m\u001b[0m\u001b[0m\n",
       "\u001b[0;31mDocstring:\u001b[0m Insert object before index.\n",
       "\u001b[0;31mType:\u001b[0m      builtin_function_or_method\n"
      ]
     },
     "metadata": {},
     "output_type": "display_data"
    }
   ],
   "source": [
    "L = [1, 2, 3]\n",
    "L.insert?"
   ]
  },
  {
   "cell_type": "code",
   "execution_count": 4,
   "id": "54d99e5a-db78-4857-84d4-9cc861c3a0cb",
   "metadata": {},
   "outputs": [
    {
     "data": {
      "text/plain": [
       "\u001b[0;31mType:\u001b[0m        list\n",
       "\u001b[0;31mString form:\u001b[0m [1, 2, 3]\n",
       "\u001b[0;31mLength:\u001b[0m      3\n",
       "\u001b[0;31mDocstring:\u001b[0m  \n",
       "Built-in mutable sequence.\n",
       "\n",
       "If no argument is given, the constructor creates a new empty list.\n",
       "The argument must be an iterable if specified.\n"
      ]
     },
     "metadata": {},
     "output_type": "display_data"
    }
   ],
   "source": [
    "L?"
   ]
  },
  {
   "cell_type": "code",
   "execution_count": 5,
   "id": "4d1bd2e4-7fda-4473-829e-4c720af463dc",
   "metadata": {},
   "outputs": [
    {
     "data": {
      "text/plain": [
       "\u001b[0;31mSignature:\u001b[0m \u001b[0msquare\u001b[0m\u001b[0;34m(\u001b[0m\u001b[0ma\u001b[0m\u001b[0;34m)\u001b[0m\u001b[0;34m\u001b[0m\u001b[0;34m\u001b[0m\u001b[0m\n",
       "\u001b[0;31mDocstring:\u001b[0m Return the square of a. wtite by mlin.\n",
       "\u001b[0;31mFile:\u001b[0m      /tmp/ipykernel_197401/1252581387.py\n",
       "\u001b[0;31mType:\u001b[0m      function\n"
      ]
     },
     "metadata": {},
     "output_type": "display_data"
    }
   ],
   "source": [
    "# 为自己编写的对象添加docstring\n",
    "def square(a):\n",
    "    \"\"\"Return the square of a. wtite by mlin.\"\"\"\n",
    "    return a**2\n",
    "\n",
    "square?"
   ]
  },
  {
   "cell_type": "markdown",
   "id": "1ca33df0-3927-43f7-8160-69f4570d9e27",
   "metadata": {},
   "source": [
    "## 1.2 通过符号 ?? 获取源代码"
   ]
  },
  {
   "cell_type": "code",
   "execution_count": 6,
   "id": "0700b741-0d53-423f-b49b-891937255f2f",
   "metadata": {},
   "outputs": [
    {
     "data": {
      "text/plain": [
       "\u001b[0;31mSignature:\u001b[0m \u001b[0msquare\u001b[0m\u001b[0;34m(\u001b[0m\u001b[0ma\u001b[0m\u001b[0;34m)\u001b[0m\u001b[0;34m\u001b[0m\u001b[0;34m\u001b[0m\u001b[0m\n",
       "\u001b[0;31mSource:\u001b[0m   \n",
       "\u001b[0;32mdef\u001b[0m \u001b[0msquare\u001b[0m\u001b[0;34m(\u001b[0m\u001b[0ma\u001b[0m\u001b[0;34m)\u001b[0m\u001b[0;34m:\u001b[0m\u001b[0;34m\u001b[0m\n",
       "\u001b[0;34m\u001b[0m    \u001b[0;34m\"\"\"Return the square of a. wtite by mlin.\"\"\"\u001b[0m\u001b[0;34m\u001b[0m\n",
       "\u001b[0;34m\u001b[0m    \u001b[0;32mreturn\u001b[0m \u001b[0ma\u001b[0m\u001b[0;34m**\u001b[0m\u001b[0;36m2\u001b[0m\u001b[0;34m\u001b[0m\u001b[0;34m\u001b[0m\u001b[0m\n",
       "\u001b[0;31mFile:\u001b[0m      /tmp/ipykernel_197401/1252581387.py\n",
       "\u001b[0;31mType:\u001b[0m      function\n"
      ]
     },
     "metadata": {},
     "output_type": "display_data"
    }
   ],
   "source": [
    "square??"
   ]
  },
  {
   "cell_type": "code",
   "execution_count": 7,
   "id": "ce0499e4-727a-483d-8868-329c44fbd7df",
   "metadata": {},
   "outputs": [
    {
     "data": {
      "text/plain": [
       "\u001b[0;31mSignature:\u001b[0m \u001b[0mlen\u001b[0m\u001b[0;34m(\u001b[0m\u001b[0mobj\u001b[0m\u001b[0;34m,\u001b[0m \u001b[0;34m/\u001b[0m\u001b[0;34m)\u001b[0m\u001b[0;34m\u001b[0m\u001b[0;34m\u001b[0m\u001b[0m\n",
       "\u001b[0;31mDocstring:\u001b[0m Return the number of items in a container.\n",
       "\u001b[0;31mType:\u001b[0m      builtin_function_or_method\n"
      ]
     },
     "metadata": {},
     "output_type": "display_data"
    }
   ],
   "source": [
    "# 由于len()函数使用C（或其他编译语言）实现的，所以无法查看源代码，??退化为?\n",
    "len??"
   ]
  },
  {
   "cell_type": "markdown",
   "id": "b0f7ff27-141b-46ce-8465-04fca7c5f5ab",
   "metadata": {},
   "source": [
    "## 1.3 使用tab补全的方式探索模块"
   ]
  },
  {
   "cell_type": "code",
   "execution_count": 8,
   "id": "ec7b3bd4-bce8-46fd-b7c2-b039ee34e2a7",
   "metadata": {},
   "outputs": [
    {
     "data": {
      "text/plain": [
       "['__add__', '__class__', '__contains__', '__delattr__', '__delitem__']"
      ]
     },
     "execution_count": 8,
     "metadata": {},
     "output_type": "execute_result"
    }
   ],
   "source": [
    "dir(L)[:5]  # python内置方法"
   ]
  },
  {
   "cell_type": "code",
   "execution_count": 9,
   "id": "fd41f0dd-9a76-4659-80ab-139424048f6e",
   "metadata": {},
   "outputs": [],
   "source": [
    "# L.<TAB>     # 单击tab键，即可浏览相应的属性和方法\n",
    "# L._<TAB>    # python中开头为下划线的通常为私有属性或方法，Python中特殊的双下划线方法，俗称“dunder方法”\n",
    "# L.c<TAB>\n",
    "# L.co<TAB>\n",
    "# L.cou<TAB>  # 只有一个选项，按下TAB键后自动将名称补全\n",
    "\n",
    "# from itertools import co<TAB>\n",
    "# import <TAB>  # 查看当前python会话可以引用哪些包\n",
    "# import h<TAB>"
   ]
  },
  {
   "cell_type": "code",
   "execution_count": 10,
   "id": "ec8e4906-659c-481d-b35d-990a7d450e22",
   "metadata": {},
   "outputs": [
    {
     "data": {
      "text/plain": [
       "BytesWarning\n",
       "DeprecationWarning\n",
       "FutureWarning\n",
       "ImportWarning\n",
       "PendingDeprecationWarning\n",
       "ResourceWarning\n",
       "RuntimeWarning\n",
       "SyntaxWarning\n",
       "UnicodeWarning\n",
       "UserWarning\n",
       "Warning"
      ]
     },
     "metadata": {},
     "output_type": "display_data"
    }
   ],
   "source": [
    "# 比tab补全更强大的通配符匹配\n",
    "*Warning?"
   ]
  },
  {
   "cell_type": "code",
   "execution_count": 11,
   "id": "25248b8e-4cfe-45e4-a4f3-4c9e404856f8",
   "metadata": {},
   "outputs": [
    {
     "data": {
      "text/plain": [
       "str.find\n",
       "str.rfind"
      ]
     },
     "metadata": {},
     "output_type": "display_data"
    }
   ],
   "source": [
    "str.*find*?"
   ]
  },
  {
   "cell_type": "markdown",
   "id": "275d2038-e605-4a20-9d22-c246c6e95c37",
   "metadata": {},
   "source": [
    "# 2. IPython shell中的快捷键\n",
    "下面这些快捷方式并不是IPython本身提供的，而是通过IPython对GNU Readline库的依赖关系实现的。因此，接下来介绍的一些快捷方式可能会因你系统配置的不同而不同。"
   ]
  },
  {
   "cell_type": "markdown",
   "id": "1e626592-4833-415e-b87e-85f8a4cde266",
   "metadata": {},
   "source": [
    "## 2.1 导航快捷键\n",
    "\n",
    "| 快捷键 | 动作 |\n",
    "| ---- | ---- |\n",
    "| Ctrl + a | 将光标移到本行的开始处 |\n",
    "| Ctrl + e | 将光标移到本行的结尾处 |\n",
    "| Ctrl + b（或左箭头键） | 将光标回退一个字符 |\n",
    "| Ctrl + f（或右箭头键） | 将光标前进一个字符 |"
   ]
  },
  {
   "cell_type": "markdown",
   "id": "ea6d952c-7edf-428a-8e3b-894a96aaee77",
   "metadata": {},
   "source": [
    "## 2.2 文本输入快捷键\n",
    "\n",
    "| 快捷键 | 动作 |\n",
    "| ---- | ---- |\n",
    "| Backspace 键 | 删除前一个字符 |\n",
    "| Ctrl + d | 删除后一个字符 |\n",
    "| Ctrl + k | 从光标开始剪切至行的末尾 |\n",
    "| Ctrl + u | 从行的开头剪切至光标 |\n",
    "| Ctrl + y | yank（即粘贴）之前剪切的文本 |\n",
    "| Ctrl + t | transpose（即交换）前两个字符 |"
   ]
  },
  {
   "cell_type": "markdown",
   "id": "f5b1438e-2e16-4d74-bccf-516149a6e672",
   "metadata": {},
   "source": [
    "## 2.3 命令历史快捷键\n",
    "\n",
    "| 快捷键 | 动作 |\n",
    "| ---- | ---- |\n",
    "| Ctrl + p（或向上箭头） | 获取前一个历史命令 |\n",
    "| Ctrl + n（或向下箭头） | 获取后一个历史命令 |\n",
    "| Ctrl + r | 对历史命令的反向搜索 |"
   ]
  },
  {
   "cell_type": "markdown",
   "id": "4d1dd5dc-c631-419a-83ae-12475dc2a5b4",
   "metadata": {},
   "source": [
    "## 2.4 其他快捷键\n",
    "\n",
    "| 快捷键 | 动作 |\n",
    "| ---- | ---- |\n",
    "| Ctrl + l | 清除终端屏幕的内容 |\n",
    "| Ctrl + c | 中断当前的 Python 命令 |\n",
    "| Ctrl + d | 退出 IPython 会话 |"
   ]
  },
  {
   "cell_type": "code",
   "execution_count": null,
   "id": "b2ff7c6f-4b71-412c-8399-becf41d97b44",
   "metadata": {},
   "outputs": [],
   "source": []
  }
 ],
 "metadata": {
  "kernelspec": {
   "display_name": "Python 3 (ipykernel)",
   "language": "python",
   "name": "python3"
  },
  "language_info": {
   "codemirror_mode": {
    "name": "ipython",
    "version": 3
   },
   "file_extension": ".py",
   "mimetype": "text/x-python",
   "name": "python",
   "nbconvert_exporter": "python",
   "pygments_lexer": "ipython3",
   "version": "3.7.3"
  }
 },
 "nbformat": 4,
 "nbformat_minor": 5
}
