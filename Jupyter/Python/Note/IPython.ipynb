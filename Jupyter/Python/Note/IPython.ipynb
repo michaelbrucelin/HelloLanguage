{
 "cells": [
  {
   "cell_type": "markdown",
   "id": "66dad2d8-1ce8-4b60-a3d0-f7bd3de19c6c",
   "metadata": {
    "tags": []
   },
   "source": [
    "# 1. IPython的帮助与文档"
   ]
  },
  {
   "cell_type": "markdown",
   "id": "1fd279cf-08bd-4e1f-98e7-99e762761d3c",
   "metadata": {
    "tags": []
   },
   "source": [
    "## 1.1 用符号 ? 获取帮助文档\n",
    "每个Python对象都有一个字符串的引用，该字符串即docstring。大多数情况下，该字符串包含对象的简要介绍和使用方法。Python内置的help()函数可以获取这些信息，并且能打印输出结果。"
   ]
  },
  {
   "cell_type": "code",
   "execution_count": 1,
   "id": "3bce800c-4856-46b1-874e-8ea20bc56a8a",
   "metadata": {},
   "outputs": [
    {
     "name": "stdout",
     "output_type": "stream",
     "text": [
      "Help on built-in function len in module builtins:\n",
      "\n",
      "len(obj, /)\n",
      "    Return the number of items in a container.\n",
      "\n"
     ]
    }
   ],
   "source": [
    "help(len)  # python内置方法"
   ]
  },
  {
   "cell_type": "code",
   "execution_count": 2,
   "id": "7f396775-5685-4e9c-a1e6-a7c13e1ca4de",
   "metadata": {},
   "outputs": [
    {
     "data": {
      "text/plain": [
       "\u001b[0;31mSignature:\u001b[0m \u001b[0mlen\u001b[0m\u001b[0;34m(\u001b[0m\u001b[0mobj\u001b[0m\u001b[0;34m,\u001b[0m \u001b[0;34m/\u001b[0m\u001b[0;34m)\u001b[0m\u001b[0;34m\u001b[0m\u001b[0;34m\u001b[0m\u001b[0m\n",
       "\u001b[0;31mDocstring:\u001b[0m Return the number of items in a container.\n",
       "\u001b[0;31mType:\u001b[0m      builtin_function_or_method\n"
      ]
     },
     "metadata": {},
     "output_type": "display_data"
    }
   ],
   "source": [
    "len?"
   ]
  },
  {
   "cell_type": "code",
   "execution_count": 3,
   "id": "82dc96c4-b0d4-4e7e-814a-8d0f9f10b0f6",
   "metadata": {},
   "outputs": [
    {
     "data": {
      "text/plain": [
       "\u001b[0;31mSignature:\u001b[0m \u001b[0mL\u001b[0m\u001b[0;34m.\u001b[0m\u001b[0minsert\u001b[0m\u001b[0;34m(\u001b[0m\u001b[0mindex\u001b[0m\u001b[0;34m,\u001b[0m \u001b[0mobject\u001b[0m\u001b[0;34m,\u001b[0m \u001b[0;34m/\u001b[0m\u001b[0;34m)\u001b[0m\u001b[0;34m\u001b[0m\u001b[0;34m\u001b[0m\u001b[0m\n",
       "\u001b[0;31mDocstring:\u001b[0m Insert object before index.\n",
       "\u001b[0;31mType:\u001b[0m      builtin_function_or_method\n"
      ]
     },
     "metadata": {},
     "output_type": "display_data"
    }
   ],
   "source": [
    "L = [1, 2, 3]\n",
    "L.insert?"
   ]
  },
  {
   "cell_type": "code",
   "execution_count": 4,
   "id": "54d99e5a-db78-4857-84d4-9cc861c3a0cb",
   "metadata": {},
   "outputs": [
    {
     "data": {
      "text/plain": [
       "\u001b[0;31mType:\u001b[0m        list\n",
       "\u001b[0;31mString form:\u001b[0m [1, 2, 3]\n",
       "\u001b[0;31mLength:\u001b[0m      3\n",
       "\u001b[0;31mDocstring:\u001b[0m  \n",
       "Built-in mutable sequence.\n",
       "\n",
       "If no argument is given, the constructor creates a new empty list.\n",
       "The argument must be an iterable if specified.\n"
      ]
     },
     "metadata": {},
     "output_type": "display_data"
    }
   ],
   "source": [
    "L?"
   ]
  },
  {
   "cell_type": "code",
   "execution_count": 5,
   "id": "4d1bd2e4-7fda-4473-829e-4c720af463dc",
   "metadata": {},
   "outputs": [
    {
     "data": {
      "text/plain": [
       "\u001b[0;31mSignature:\u001b[0m \u001b[0msquare\u001b[0m\u001b[0;34m(\u001b[0m\u001b[0ma\u001b[0m\u001b[0;34m)\u001b[0m\u001b[0;34m\u001b[0m\u001b[0;34m\u001b[0m\u001b[0m\n",
       "\u001b[0;31mDocstring:\u001b[0m Return the square of a. wtite by mlin.\n",
       "\u001b[0;31mFile:\u001b[0m      /tmp/ipykernel_44931/1252581387.py\n",
       "\u001b[0;31mType:\u001b[0m      function\n"
      ]
     },
     "metadata": {},
     "output_type": "display_data"
    }
   ],
   "source": [
    "# 为自己编写的对象添加docstring\n",
    "def square(a):\n",
    "    \"\"\"Return the square of a. wtite by mlin.\"\"\"\n",
    "    return a**2\n",
    "\n",
    "square?"
   ]
  },
  {
   "cell_type": "markdown",
   "id": "1ca33df0-3927-43f7-8160-69f4570d9e27",
   "metadata": {},
   "source": [
    "## 1.2 通过符号 ?? 获取源代码"
   ]
  },
  {
   "cell_type": "code",
   "execution_count": 6,
   "id": "0700b741-0d53-423f-b49b-891937255f2f",
   "metadata": {},
   "outputs": [
    {
     "data": {
      "text/plain": [
       "\u001b[0;31mSignature:\u001b[0m \u001b[0msquare\u001b[0m\u001b[0;34m(\u001b[0m\u001b[0ma\u001b[0m\u001b[0;34m)\u001b[0m\u001b[0;34m\u001b[0m\u001b[0;34m\u001b[0m\u001b[0m\n",
       "\u001b[0;31mSource:\u001b[0m   \n",
       "\u001b[0;32mdef\u001b[0m \u001b[0msquare\u001b[0m\u001b[0;34m(\u001b[0m\u001b[0ma\u001b[0m\u001b[0;34m)\u001b[0m\u001b[0;34m:\u001b[0m\u001b[0;34m\u001b[0m\n",
       "\u001b[0;34m\u001b[0m    \u001b[0;34m\"\"\"Return the square of a. wtite by mlin.\"\"\"\u001b[0m\u001b[0;34m\u001b[0m\n",
       "\u001b[0;34m\u001b[0m    \u001b[0;32mreturn\u001b[0m \u001b[0ma\u001b[0m\u001b[0;34m**\u001b[0m\u001b[0;36m2\u001b[0m\u001b[0;34m\u001b[0m\u001b[0;34m\u001b[0m\u001b[0m\n",
       "\u001b[0;31mFile:\u001b[0m      /tmp/ipykernel_44931/1252581387.py\n",
       "\u001b[0;31mType:\u001b[0m      function\n"
      ]
     },
     "metadata": {},
     "output_type": "display_data"
    }
   ],
   "source": [
    "square??"
   ]
  },
  {
   "cell_type": "code",
   "execution_count": 7,
   "id": "ce0499e4-727a-483d-8868-329c44fbd7df",
   "metadata": {},
   "outputs": [
    {
     "data": {
      "text/plain": [
       "\u001b[0;31mSignature:\u001b[0m \u001b[0mlen\u001b[0m\u001b[0;34m(\u001b[0m\u001b[0mobj\u001b[0m\u001b[0;34m,\u001b[0m \u001b[0;34m/\u001b[0m\u001b[0;34m)\u001b[0m\u001b[0;34m\u001b[0m\u001b[0;34m\u001b[0m\u001b[0m\n",
       "\u001b[0;31mDocstring:\u001b[0m Return the number of items in a container.\n",
       "\u001b[0;31mType:\u001b[0m      builtin_function_or_method\n"
      ]
     },
     "metadata": {},
     "output_type": "display_data"
    }
   ],
   "source": [
    "# 由于len()函数使用C（或其他编译语言）实现的，所以无法查看源代码，??退化为?\n",
    "len??"
   ]
  },
  {
   "cell_type": "markdown",
   "id": "b0f7ff27-141b-46ce-8465-04fca7c5f5ab",
   "metadata": {},
   "source": [
    "## 1.3 使用tab补全的方式探索模块"
   ]
  },
  {
   "cell_type": "code",
   "execution_count": 8,
   "id": "ec7b3bd4-bce8-46fd-b7c2-b039ee34e2a7",
   "metadata": {},
   "outputs": [
    {
     "data": {
      "text/plain": [
       "['__add__', '__class__', '__contains__', '__delattr__', '__delitem__']"
      ]
     },
     "execution_count": 8,
     "metadata": {},
     "output_type": "execute_result"
    }
   ],
   "source": [
    "dir(L)[:5]  # python内置方法"
   ]
  },
  {
   "cell_type": "code",
   "execution_count": 9,
   "id": "fd41f0dd-9a76-4659-80ab-139424048f6e",
   "metadata": {},
   "outputs": [],
   "source": [
    "# L.<TAB>     # 单击tab键，即可浏览相应的属性和方法\n",
    "# L._<TAB>    # python中开头为下划线的通常为私有属性或方法，Python中特殊的双下划线方法，俗称“dunder方法”\n",
    "# L.c<TAB>\n",
    "# L.co<TAB>\n",
    "# L.cou<TAB>  # 只有一个选项，按下TAB键后自动将名称补全\n",
    "\n",
    "# from itertools import co<TAB>\n",
    "# import <TAB>  # 查看当前python会话可以引用哪些包\n",
    "# import h<TAB>"
   ]
  },
  {
   "cell_type": "code",
   "execution_count": 10,
   "id": "ec8e4906-659c-481d-b35d-990a7d450e22",
   "metadata": {},
   "outputs": [
    {
     "data": {
      "text/plain": [
       "BytesWarning\n",
       "DeprecationWarning\n",
       "FutureWarning\n",
       "ImportWarning\n",
       "PendingDeprecationWarning\n",
       "ResourceWarning\n",
       "RuntimeWarning\n",
       "SyntaxWarning\n",
       "UnicodeWarning\n",
       "UserWarning\n",
       "Warning"
      ]
     },
     "metadata": {},
     "output_type": "display_data"
    }
   ],
   "source": [
    "# 比tab补全更强大的通配符匹配\n",
    "*Warning?"
   ]
  },
  {
   "cell_type": "code",
   "execution_count": 11,
   "id": "25248b8e-4cfe-45e4-a4f3-4c9e404856f8",
   "metadata": {},
   "outputs": [
    {
     "data": {
      "text/plain": [
       "str.find\n",
       "str.rfind"
      ]
     },
     "metadata": {},
     "output_type": "display_data"
    }
   ],
   "source": [
    "str.*find*?"
   ]
  },
  {
   "cell_type": "markdown",
   "id": "275d2038-e605-4a20-9d22-c246c6e95c37",
   "metadata": {
    "tags": []
   },
   "source": [
    "# 2. IPython shell中的快捷键\n",
    "下面这些快捷方式并不是IPython本身提供的，而是通过IPython对GNU Readline库的依赖关系实现的。因此，接下来介绍的一些快捷方式可能会因你系统配置的不同而不同。"
   ]
  },
  {
   "cell_type": "markdown",
   "id": "1e626592-4833-415e-b87e-85f8a4cde266",
   "metadata": {},
   "source": [
    "## 2.1 导航快捷键\n",
    "\n",
    "| 快捷键 | 动作 |\n",
    "| ---- | ---- |\n",
    "| Ctrl + a | 将光标移到本行的开始处 |\n",
    "| Ctrl + e | 将光标移到本行的结尾处 |\n",
    "| Ctrl + b（或左箭头键） | 将光标回退一个字符 |\n",
    "| Ctrl + f（或右箭头键） | 将光标前进一个字符 |"
   ]
  },
  {
   "cell_type": "markdown",
   "id": "ea6d952c-7edf-428a-8e3b-894a96aaee77",
   "metadata": {},
   "source": [
    "## 2.2 文本输入快捷键\n",
    "\n",
    "| 快捷键 | 动作 |\n",
    "| ---- | ---- |\n",
    "| Backspace 键 | 删除前一个字符 |\n",
    "| Ctrl + d | 删除后一个字符 |\n",
    "| Ctrl + k | 从光标开始剪切至行的末尾 |\n",
    "| Ctrl + u | 从行的开头剪切至光标 |\n",
    "| Ctrl + y | yank（即粘贴）之前剪切的文本 |\n",
    "| Ctrl + t | transpose（即交换）前两个字符 |"
   ]
  },
  {
   "cell_type": "markdown",
   "id": "f5b1438e-2e16-4d74-bccf-516149a6e672",
   "metadata": {},
   "source": [
    "## 2.3 命令历史快捷键\n",
    "\n",
    "| 快捷键 | 动作 |\n",
    "| ---- | ---- |\n",
    "| Ctrl + p（或向上箭头） | 获取前一个历史命令 |\n",
    "| Ctrl + n（或向下箭头） | 获取后一个历史命令 |\n",
    "| Ctrl + r | 对历史命令的反向搜索 |"
   ]
  },
  {
   "cell_type": "markdown",
   "id": "4d1dd5dc-c631-419a-83ae-12475dc2a5b4",
   "metadata": {},
   "source": [
    "## 2.4 其他快捷键\n",
    "\n",
    "| 快捷键 | 动作 |\n",
    "| ---- | ---- |\n",
    "| Ctrl + l | 清除终端屏幕的内容 |\n",
    "| Ctrl + c | 中断当前的 Python 命令 |\n",
    "| Ctrl + d | 退出 IPython 会话 |"
   ]
  },
  {
   "cell_type": "markdown",
   "id": "654397a0-eb19-4cc6-8ad2-c39d7eced0d9",
   "metadata": {
    "tags": []
   },
   "source": [
    "# 3. IPython魔法命令\n",
    "\n",
    "IPython在普通Python语法基础之上增强了一些功能，这些功能被称作IPython魔法命令，并且都以 % 符号作为前缀。  \n",
    "这些魔法命令设计用于简洁地解决标准数据分析中的各种常见问题。  \n",
    "魔法命令有两种形式：行魔法（line magic）和单元魔法（cell magic）。\n",
    "- 行魔法以单个 % 字符作为前缀，作用于单行输入；  \n",
    "- 单元魔法以两个 %% 作为前缀，作用于多行输入。  \n",
    "\n",
    "还可以按照自己的意愿定义属于自己的魔法函数。"
   ]
  },
  {
   "cell_type": "markdown",
   "id": "270f65a4-4596-454e-8141-db59fb9a7534",
   "metadata": {},
   "source": [
    "## 3.1 粘贴代码块：`%paste`和`%cpaste`\n",
    "\n",
    "- `%paste` 命令可以解决包含符号的多行输入问题\n",
    "- `%paste` 命令同时输入并执行被粘贴的代码\n",
    "- `%cpaste` 命令会打开一个交互式多行输入提示，可以在这个提示下粘贴并执行一个或多个代码块"
   ]
  },
  {
   "cell_type": "markdown",
   "id": "790d4460-b50d-44d8-bf82-5dd89a973dbd",
   "metadata": {},
   "source": [
    "## 3.2 执行外部代码：`%run`\n",
    "\n",
    "- `%run` 命令可以执行外部保存好的脚本\n",
    "- `%run` 如果外部脚本中有定义好的函数，`%run`执行外部脚本后，ipython会话中就可以使用这些函数了"
   ]
  },
  {
   "cell_type": "markdown",
   "id": "4e2032d1-13d3-4c78-8742-58cca916274f",
   "metadata": {},
   "source": [
    "## 3.3 计算代码运行时间：`%timeit`\n",
    "\n",
    "- `%timeit` 的好处是，它会自动多次执行简短的命令，以获得更稳定的结果。\n",
    "- 对于多行语句，可以加入第二个 `%` 符号将其转变成单元魔法，以处理多行输入。"
   ]
  },
  {
   "cell_type": "code",
   "execution_count": 12,
   "id": "33d0af0e-74ac-4689-9261-10641633801b",
   "metadata": {},
   "outputs": [
    {
     "name": "stdout",
     "output_type": "stream",
     "text": [
      "395 µs ± 353 ns per loop (mean ± std. dev. of 7 runs, 1000 loops each)\n"
     ]
    }
   ],
   "source": [
    "%timeit L = [n**2 for n in range(1000)]"
   ]
  },
  {
   "cell_type": "code",
   "execution_count": 13,
   "id": "1cb52f49-0c82-4e30-9f80-19633f63fc1e",
   "metadata": {},
   "outputs": [
    {
     "name": "stdout",
     "output_type": "stream",
     "text": [
      "449 µs ± 1.34 µs per loop (mean ± std. dev. of 7 runs, 1000 loops each)\n"
     ]
    }
   ],
   "source": [
    "%%timeit\n",
    "L = []\n",
    "for n in range(1000):\n",
    "    L.append(n**2)\n",
    "    \n",
    "# 可以看出列表综合比同等的 for 循环结构快约10%。"
   ]
  },
  {
   "cell_type": "markdown",
   "id": "420d557c-8da2-464c-8aa0-0ca14a019656",
   "metadata": {},
   "source": [
    "## 3.4 魔法函数的帮助：`?`、`%magic`和`%lsmagic`\n",
    "\n",
    "和普通的 Python 函数一样，IPython 魔法函数也有文档字符串，并且可以通过标准的方式获取这些有用的文档注释。"
   ]
  },
  {
   "cell_type": "code",
   "execution_count": 14,
   "id": "3b7dec1c-c762-4fd4-bcaf-06e89f42f3f0",
   "metadata": {},
   "outputs": [],
   "source": [
    "# %timeit?  # 结果太长，这里不显示了"
   ]
  },
  {
   "cell_type": "code",
   "execution_count": 15,
   "id": "37c724cb-2aa1-451d-9c69-e42121bf341a",
   "metadata": {},
   "outputs": [],
   "source": [
    "# %magic  # 获取魔法函数的通用描述和一些示例"
   ]
  },
  {
   "cell_type": "code",
   "execution_count": 16,
   "id": "1c6be658-ac59-4fba-ac01-4131a5f5c4ac",
   "metadata": {},
   "outputs": [
    {
     "data": {
      "application/json": {
       "cell": {
        "!": "OSMagics",
        "HTML": "Other",
        "SVG": "Other",
        "bash": "Other",
        "capture": "ExecutionMagics",
        "debug": "ExecutionMagics",
        "file": "Other",
        "html": "DisplayMagics",
        "javascript": "DisplayMagics",
        "js": "DisplayMagics",
        "latex": "DisplayMagics",
        "markdown": "DisplayMagics",
        "perl": "Other",
        "prun": "ExecutionMagics",
        "pypy": "Other",
        "python": "Other",
        "python2": "Other",
        "python3": "Other",
        "ruby": "Other",
        "script": "ScriptMagics",
        "sh": "Other",
        "svg": "DisplayMagics",
        "sx": "OSMagics",
        "system": "OSMagics",
        "time": "ExecutionMagics",
        "timeit": "ExecutionMagics",
        "writefile": "OSMagics"
       },
       "line": {
        "alias": "OSMagics",
        "alias_magic": "BasicMagics",
        "autoawait": "AsyncMagics",
        "autocall": "AutoMagics",
        "automagic": "AutoMagics",
        "autosave": "KernelMagics",
        "bookmark": "OSMagics",
        "cat": "Other",
        "cd": "OSMagics",
        "clear": "KernelMagics",
        "colors": "BasicMagics",
        "conda": "PackagingMagics",
        "config": "ConfigMagics",
        "connect_info": "KernelMagics",
        "cp": "Other",
        "debug": "ExecutionMagics",
        "dhist": "OSMagics",
        "dirs": "OSMagics",
        "doctest_mode": "BasicMagics",
        "ed": "Other",
        "edit": "KernelMagics",
        "env": "OSMagics",
        "gui": "BasicMagics",
        "hist": "Other",
        "history": "HistoryMagics",
        "killbgscripts": "ScriptMagics",
        "ldir": "Other",
        "less": "KernelMagics",
        "lf": "Other",
        "lk": "Other",
        "ll": "Other",
        "load": "CodeMagics",
        "load_ext": "ExtensionMagics",
        "loadpy": "CodeMagics",
        "logoff": "LoggingMagics",
        "logon": "LoggingMagics",
        "logstart": "LoggingMagics",
        "logstate": "LoggingMagics",
        "logstop": "LoggingMagics",
        "ls": "Other",
        "lsmagic": "BasicMagics",
        "lx": "Other",
        "macro": "ExecutionMagics",
        "magic": "BasicMagics",
        "man": "KernelMagics",
        "matplotlib": "PylabMagics",
        "mkdir": "Other",
        "more": "KernelMagics",
        "mv": "Other",
        "notebook": "BasicMagics",
        "page": "BasicMagics",
        "pastebin": "CodeMagics",
        "pdb": "ExecutionMagics",
        "pdef": "NamespaceMagics",
        "pdoc": "NamespaceMagics",
        "pfile": "NamespaceMagics",
        "pinfo": "NamespaceMagics",
        "pinfo2": "NamespaceMagics",
        "pip": "PackagingMagics",
        "popd": "OSMagics",
        "pprint": "BasicMagics",
        "precision": "BasicMagics",
        "prun": "ExecutionMagics",
        "psearch": "NamespaceMagics",
        "psource": "NamespaceMagics",
        "pushd": "OSMagics",
        "pwd": "OSMagics",
        "pycat": "OSMagics",
        "pylab": "PylabMagics",
        "qtconsole": "KernelMagics",
        "quickref": "BasicMagics",
        "recall": "HistoryMagics",
        "rehashx": "OSMagics",
        "reload_ext": "ExtensionMagics",
        "rep": "Other",
        "rerun": "HistoryMagics",
        "reset": "NamespaceMagics",
        "reset_selective": "NamespaceMagics",
        "rm": "Other",
        "rmdir": "Other",
        "run": "ExecutionMagics",
        "save": "CodeMagics",
        "sc": "OSMagics",
        "set_env": "OSMagics",
        "store": "StoreMagics",
        "sx": "OSMagics",
        "system": "OSMagics",
        "tb": "ExecutionMagics",
        "time": "ExecutionMagics",
        "timeit": "ExecutionMagics",
        "unalias": "OSMagics",
        "unload_ext": "ExtensionMagics",
        "who": "NamespaceMagics",
        "who_ls": "NamespaceMagics",
        "whos": "NamespaceMagics",
        "xdel": "NamespaceMagics",
        "xmode": "BasicMagics"
       }
      },
      "text/plain": [
       "Available line magics:\n",
       "%alias  %alias_magic  %autoawait  %autocall  %automagic  %autosave  %bookmark  %cat  %cd  %clear  %colors  %conda  %config  %connect_info  %cp  %debug  %dhist  %dirs  %doctest_mode  %ed  %edit  %env  %gui  %hist  %history  %killbgscripts  %ldir  %less  %lf  %lk  %ll  %load  %load_ext  %loadpy  %logoff  %logon  %logstart  %logstate  %logstop  %ls  %lsmagic  %lx  %macro  %magic  %man  %matplotlib  %mkdir  %more  %mv  %notebook  %page  %pastebin  %pdb  %pdef  %pdoc  %pfile  %pinfo  %pinfo2  %pip  %popd  %pprint  %precision  %prun  %psearch  %psource  %pushd  %pwd  %pycat  %pylab  %qtconsole  %quickref  %recall  %rehashx  %reload_ext  %rep  %rerun  %reset  %reset_selective  %rm  %rmdir  %run  %save  %sc  %set_env  %store  %sx  %system  %tb  %time  %timeit  %unalias  %unload_ext  %who  %who_ls  %whos  %xdel  %xmode\n",
       "\n",
       "Available cell magics:\n",
       "%%!  %%HTML  %%SVG  %%bash  %%capture  %%debug  %%file  %%html  %%javascript  %%js  %%latex  %%markdown  %%perl  %%prun  %%pypy  %%python  %%python2  %%python3  %%ruby  %%script  %%sh  %%svg  %%sx  %%system  %%time  %%timeit  %%writefile\n",
       "\n",
       "Automagic is ON, % prefix IS NOT needed for line magics."
      ]
     },
     "execution_count": 16,
     "metadata": {},
     "output_type": "execute_result"
    }
   ],
   "source": [
    "%lsmagic  # 获取所有可用的魔法函数列表"
   ]
  },
  {
   "cell_type": "markdown",
   "id": "fef8ac75-614d-4172-99e2-fcb74c015fbf",
   "metadata": {},
   "source": [
    "# 4. 输入和输出历史"
   ]
  },
  {
   "cell_type": "markdown",
   "id": "40ad1727-5e7f-4461-a404-acd77ef33457",
   "metadata": {
    "tags": []
   },
   "source": [
    "## 4.1 IPython的输入输出对象\n",
    "\n",
    "在ipython的输入和输出在 shell 中带有 In/Out 标签，实际上是创建了叫作 In 和 Out 的 Python 变量，这些变量自动更新以反映命令历史。\n",
    "- `In` 对象是一个列表，按照顺序记录所有的命令（列表中的第一项是一个占位符，以便 In\\[1\\] 可以表示第一条命令）\n",
    "- `Out` 对象不是一个列表，而是一个字典。它将输入数字映射到相应的输出（如果有的话）"
   ]
  },
  {
   "cell_type": "code",
   "execution_count": 17,
   "id": "9d070adb-226f-4835-9a0a-49c1eeebe1b9",
   "metadata": {},
   "outputs": [],
   "source": [
    "import math"
   ]
  },
  {
   "cell_type": "code",
   "execution_count": 18,
   "id": "32410f8d-466a-4ca4-b944-6296e6242df0",
   "metadata": {},
   "outputs": [
    {
     "data": {
      "text/plain": [
       "0.9092974268256817"
      ]
     },
     "execution_count": 18,
     "metadata": {},
     "output_type": "execute_result"
    }
   ],
   "source": [
    "math.sin(2)"
   ]
  },
  {
   "cell_type": "code",
   "execution_count": 19,
   "id": "0fe6b273-827d-4369-8686-378784eb3b63",
   "metadata": {},
   "outputs": [
    {
     "data": {
      "text/plain": [
       "-0.4161468365471424"
      ]
     },
     "execution_count": 19,
     "metadata": {},
     "output_type": "execute_result"
    }
   ],
   "source": [
    "math.cos(2)"
   ]
  },
  {
   "cell_type": "code",
   "execution_count": 20,
   "id": "4d483ee0-8184-44ee-9eca-7d9ccf5f1293",
   "metadata": {},
   "outputs": [
    {
     "name": "stdout",
     "output_type": "stream",
     "text": [
      "['', 'help(len)  # python内置方法', \"get_ipython().run_line_magic('pinfo', 'len')\", \"L = [1, 2, 3]\\nget_ipython().run_line_magic('pinfo', 'L.insert')\", \"get_ipython().run_line_magic('pinfo', 'L')\", '# 为自己编写的对象添加docstring\\ndef square(a):\\n    \"\"\"Return the square of a. wtite by mlin.\"\"\"\\n    return a**2\\n\\nget_ipython().run_line_magic(\\'pinfo\\', \\'square\\')', \"get_ipython().run_line_magic('pinfo2', 'square')\", \"# 由于len()函数使用C（或其他编译语言）实现的，所以无法查看源代码，??退化为?\\nget_ipython().run_line_magic('pinfo2', 'len')\", 'dir(L)[:5]  # python内置方法', '# L.<TAB>     # 单击tab键，即可浏览相应的属性和方法\\n# L._<TAB>    # python中开头为下划线的通常为私有属性或方法，Python中特殊的双下划线方法，俗称“dunder方法”\\n# L.c<TAB>\\n# L.co<TAB>\\n# L.cou<TAB>  # 只有一个选项，按下TAB键后自动将名称补全\\n\\n# from itertools import co<TAB>\\n# import <TAB>  # 查看当前python会话可以引用哪些包\\n# import h<TAB>', \"# 比tab补全更强大的通配符匹配\\nget_ipython().run_line_magic('psearch', '*Warning')\", \"get_ipython().run_line_magic('psearch', 'str.*find*')\", \"get_ipython().run_line_magic('timeit', 'L = [n**2 for n in range(1000)]')\", \"get_ipython().run_cell_magic('timeit', '', 'L = []\\\\nfor n in range(1000):\\\\n    L.append(n**2)\\\\n    \\\\n# 可以看出列表综合比同等的 for 循环结构快约10%。\\\\n')\", '# %timeit?  # 结果太长，这里不显示了', '# %magic  # 获取魔法函数的通用描述和一些示例', \"get_ipython().run_line_magic('lsmagic', ' # 获取所有可用的魔法函数列表')\", 'import math', 'math.sin(2)', 'math.cos(2)', 'print(In)']\n"
     ]
    }
   ],
   "source": [
    "print(In)"
   ]
  },
  {
   "cell_type": "code",
   "execution_count": 21,
   "id": "386fa8d6-31c7-4f96-8329-a29de5d10ff7",
   "metadata": {},
   "outputs": [
    {
     "data": {
      "text/plain": [
       "{8: ['__add__', '__class__', '__contains__', '__delattr__', '__delitem__'],\n",
       " 16: Available line magics:\n",
       "%alias  %alias_magic  %autoawait  %autocall  %automagic  %autosave  %bookmark  %cat  %cd  %clear  %colors  %conda  %config  %connect_info  %cp  %debug  %dhist  %dirs  %doctest_mode  %ed  %edit  %env  %gui  %hist  %history  %killbgscripts  %ldir  %less  %lf  %lk  %ll  %load  %load_ext  %loadpy  %logoff  %logon  %logstart  %logstate  %logstop  %ls  %lsmagic  %lx  %macro  %magic  %man  %matplotlib  %mkdir  %more  %mv  %notebook  %page  %pastebin  %pdb  %pdef  %pdoc  %pfile  %pinfo  %pinfo2  %pip  %popd  %pprint  %precision  %prun  %psearch  %psource  %pushd  %pwd  %pycat  %pylab  %qtconsole  %quickref  %recall  %rehashx  %reload_ext  %rep  %rerun  %reset  %reset_selective  %rm  %rmdir  %run  %save  %sc  %set_env  %store  %sx  %system  %tb  %time  %timeit  %unalias  %unload_ext  %who  %who_ls  %whos  %xdel  %xmode\n",
       "\n",
       "Available cell magics:\n",
       "%%!  %%HTML  %%SVG  %%bash  %%capture  %%debug  %%file  %%html  %%javascript  %%js  %%latex  %%markdown  %%perl  %%prun  %%pypy  %%python  %%python2  %%python3  %%ruby  %%script  %%sh  %%svg  %%sx  %%system  %%time  %%timeit  %%writefile\n",
       "\n",
       "Automagic is ON, % prefix IS NOT needed for line magics.,\n",
       " 18: 0.9092974268256817,\n",
       " 19: -0.4161468365471424}"
      ]
     },
     "execution_count": 21,
     "metadata": {},
     "output_type": "execute_result"
    }
   ],
   "source": [
    "Out"
   ]
  },
  {
   "cell_type": "markdown",
   "id": "7effc534-f0e7-49ba-80d7-6b13474329a2",
   "metadata": {},
   "source": [
    "## 4.2 下划线快捷键和以前的输出"
   ]
  },
  {
   "cell_type": "code",
   "execution_count": 22,
   "id": "b1902917-7587-4d79-8dfd-db0d3febd0b7",
   "metadata": {},
   "outputs": [
    {
     "name": "stdout",
     "output_type": "stream",
     "text": [
      "-0.4161468365471424\n"
     ]
    }
   ],
   "source": [
    "print(_)  # 与标准python一样，使用 _ 表示上一次的输出"
   ]
  },
  {
   "cell_type": "code",
   "execution_count": 23,
   "id": "c20041be-c412-4d1b-826e-262c9f61da41",
   "metadata": {},
   "outputs": [
    {
     "name": "stdout",
     "output_type": "stream",
     "text": [
      "0.9092974268256817\n"
     ]
    }
   ],
   "source": [
    "print(__)   # 在ipython中做了增强，使用 __ 表示倒数第二次输出"
   ]
  },
  {
   "cell_type": "code",
   "execution_count": 24,
   "id": "67caa699-ee2e-4925-aff2-49283d3c1a51",
   "metadata": {},
   "outputs": [
    {
     "name": "stdout",
     "output_type": "stream",
     "text": [
      "Available line magics:\n",
      "%alias  %alias_magic  %autoawait  %autocall  %automagic  %autosave  %bookmark  %cat  %cd  %clear  %colors  %conda  %config  %connect_info  %cp  %debug  %dhist  %dirs  %doctest_mode  %ed  %edit  %env  %gui  %hist  %history  %killbgscripts  %ldir  %less  %lf  %lk  %ll  %load  %load_ext  %loadpy  %logoff  %logon  %logstart  %logstate  %logstop  %ls  %lsmagic  %lx  %macro  %magic  %man  %matplotlib  %mkdir  %more  %mv  %notebook  %page  %pastebin  %pdb  %pdef  %pdoc  %pfile  %pinfo  %pinfo2  %pip  %popd  %pprint  %precision  %prun  %psearch  %psource  %pushd  %pwd  %pycat  %pylab  %qtconsole  %quickref  %recall  %rehashx  %reload_ext  %rep  %rerun  %reset  %reset_selective  %rm  %rmdir  %run  %save  %sc  %set_env  %store  %sx  %system  %tb  %time  %timeit  %unalias  %unload_ext  %who  %who_ls  %whos  %xdel  %xmode\n",
      "\n",
      "Available cell magics:\n",
      "%%!  %%HTML  %%SVG  %%bash  %%capture  %%debug  %%file  %%html  %%javascript  %%js  %%latex  %%markdown  %%perl  %%prun  %%pypy  %%python  %%python2  %%python3  %%ruby  %%script  %%sh  %%svg  %%sx  %%system  %%time  %%timeit  %%writefile\n",
      "\n",
      "Automagic is ON, % prefix IS NOT needed for line magics.\n"
     ]
    }
   ],
   "source": [
    "print(___)   # 使用 ___ 表示倒数第三次输出"
   ]
  },
  {
   "cell_type": "code",
   "execution_count": 25,
   "id": "d199a9f2-0da8-4e72-876c-f3af7943b976",
   "metadata": {},
   "outputs": [
    {
     "data": {
      "text/plain": [
       "['__add__', '__class__', '__contains__', '__delattr__', '__delitem__']"
      ]
     },
     "execution_count": 25,
     "metadata": {},
     "output_type": "execute_result"
    }
   ],
   "source": [
    "_8  # 这个是倒数第8次输出，其实是 Out[8] 的简写"
   ]
  },
  {
   "cell_type": "markdown",
   "id": "132a7b6b-12d4-404b-ba4b-3f71246db81f",
   "metadata": {},
   "source": [
    "## 4.3 禁止输出"
   ]
  },
  {
   "cell_type": "code",
   "execution_count": 26,
   "id": "404243dc-e815-4cff-92f3-144580176db9",
   "metadata": {},
   "outputs": [],
   "source": [
    "math.sin(2) + math.cos(2);  # 在命令的结尾添加分号 ;，就可以禁止命令输出结果，而且其结果也不会存储到 Out 变量中"
   ]
  },
  {
   "cell_type": "code",
   "execution_count": 27,
   "id": "0969d3bc-13df-4e37-8704-0fa0238c837c",
   "metadata": {},
   "outputs": [
    {
     "data": {
      "text/plain": [
       "False"
      ]
     },
     "execution_count": 27,
     "metadata": {},
     "output_type": "execute_result"
    }
   ],
   "source": [
    "26 in Out"
   ]
  },
  {
   "cell_type": "markdown",
   "id": "577f6420-13c6-49cb-acf6-69f2219eec6a",
   "metadata": {},
   "source": [
    "## 4.4 相关的魔法命令"
   ]
  },
  {
   "cell_type": "code",
   "execution_count": 28,
   "id": "14ecc151-fe19-412f-8218-2226cf2fcd7d",
   "metadata": {},
   "outputs": [
    {
     "name": "stdout",
     "output_type": "stream",
     "text": [
      "   1: help(len)  # python内置方法\n",
      "   2: len?\n",
      "   3:\n",
      "L = [1, 2, 3]\n",
      "L.insert?\n",
      "   4: L?\n"
     ]
    }
   ],
   "source": [
    "%history -n 1-4  # 查看前4条历史命令"
   ]
  },
  {
   "cell_type": "markdown",
   "id": "6874f098-33a9-469e-b571-653dd746fb7a",
   "metadata": {},
   "source": [
    "# 5. IPython和shell命令\n",
    "\n",
    "IPython 提供了在终端直接执行 shell 命令的语法。  \n",
    "这一神奇的功能是使用感叹号实现的：一行中任何在 ! 之后的内容将不会通过 Python 内核运行，而是通过系统命令行运行。"
   ]
  },
  {
   "cell_type": "markdown",
   "id": "9b6f29da-0e51-4f68-824d-dffa06b9f2a9",
   "metadata": {},
   "source": [
    "## 5.1 IPython中的shell命令"
   ]
  },
  {
   "cell_type": "code",
   "execution_count": 29,
   "id": "dc82390d-1ebe-4c0a-aa72-3caced8f58c1",
   "metadata": {},
   "outputs": [
    {
     "name": "stdout",
     "output_type": "stream",
     "text": [
      "0-Basic.ipynb  Matplotlib.ipynb        Seaborn.ipynb\n",
      "IPython.ipynb  Numpy.Random用法.ipynb\n"
     ]
    }
   ],
   "source": [
    "!ls"
   ]
  },
  {
   "cell_type": "code",
   "execution_count": 30,
   "id": "5b1328b1-78fd-4189-a279-51485c3ae895",
   "metadata": {},
   "outputs": [
    {
     "name": "stdout",
     "output_type": "stream",
     "text": [
      "/root/GithubProjects/HelloLanguage/Jupyter/Python/Note\n"
     ]
    }
   ],
   "source": [
    "!pwd"
   ]
  },
  {
   "cell_type": "code",
   "execution_count": 31,
   "id": "b0bb289c-947c-495e-890a-4a991ab3261e",
   "metadata": {},
   "outputs": [
    {
     "name": "stdout",
     "output_type": "stream",
     "text": [
      "printing from the shell\n"
     ]
    }
   ],
   "source": [
    "!echo 'printing from the shell'"
   ]
  },
  {
   "cell_type": "markdown",
   "id": "4674af38-82c0-44c8-8335-fd33e8f482ac",
   "metadata": {},
   "source": [
    "## 5.2 在shell中传入或传出值\n",
    "\n",
    "shell 命令不仅可以从 IPython 中调用，还可以和 IPython 命名空间进行交互。"
   ]
  },
  {
   "cell_type": "code",
   "execution_count": 32,
   "id": "c4bac3f8-087e-4e74-94cd-0af40c93b32d",
   "metadata": {},
   "outputs": [
    {
     "name": "stdout",
     "output_type": "stream",
     "text": [
      "['0-Basic.ipynb', 'IPython.ipynb', 'Matplotlib.ipynb', 'Numpy.Random用法.ipynb', 'Seaborn.ipynb']\n"
     ]
    }
   ],
   "source": [
    "contents = !ls\n",
    "print(contents)"
   ]
  },
  {
   "cell_type": "code",
   "execution_count": 33,
   "id": "c08063ca-54f8-4fc4-973e-ab0144c1c0bb",
   "metadata": {},
   "outputs": [
    {
     "name": "stdout",
     "output_type": "stream",
     "text": [
      "['/root/GithubProjects/HelloLanguage/Jupyter/Python/Note']\n"
     ]
    }
   ],
   "source": [
    "directory = !pwd\n",
    "print(directory)"
   ]
  },
  {
   "cell_type": "code",
   "execution_count": 34,
   "id": "1111aa22-c096-4858-b640-60f6f6255bde",
   "metadata": {},
   "outputs": [
    {
     "data": {
      "text/plain": [
       "IPython.utils.text.SList"
      ]
     },
     "execution_count": 34,
     "metadata": {},
     "output_type": "execute_result"
    }
   ],
   "source": [
    "# 注意这个shell中传回的结果并不是列表，它看上去和 Python 列表很像，并且可以像列表一样操作。\n",
    "# 但是这种类型还有其他功能，例如 grep 和 fields 方法以及 s、n 和 p 属性，允许你轻松地搜索、过滤和显示结果。\n",
    "type(contents)"
   ]
  },
  {
   "cell_type": "code",
   "execution_count": 35,
   "id": "df98d5b9-ebfb-4399-92ed-e605f1776150",
   "metadata": {},
   "outputs": [
    {
     "name": "stdout",
     "output_type": "stream",
     "text": [
      "hello from python.\n"
     ]
    }
   ],
   "source": [
    "# 将python的结果传入shell\n",
    "message = \"hello from python.\"\n",
    "! echo {message}"
   ]
  },
  {
   "cell_type": "markdown",
   "id": "929e8ed8-130c-4ecd-b0b0-8713fb576ac6",
   "metadata": {},
   "source": [
    "## 5.3 与shell相关的魔法命令"
   ]
  },
  {
   "cell_type": "code",
   "execution_count": 36,
   "id": "4a065cfe-4db5-4f0a-9c4f-67c6d84b14e5",
   "metadata": {},
   "outputs": [
    {
     "name": "stdout",
     "output_type": "stream",
     "text": [
      "/root/GithubProjects/HelloLanguage/Jupyter/Python/Note\n",
      "/root/GithubProjects/HelloLanguage/Jupyter/Python/Note\n"
     ]
    }
   ],
   "source": [
    "!pwd\n",
    "!cd\n",
    "!pwd  # Notebook 中的 shell 命令是在一个临时的分支 shell 中执行的，所以你不能通过 !cd 来导航文件系统。"
   ]
  },
  {
   "cell_type": "code",
   "execution_count": 37,
   "id": "5d39c9e6-ec3b-4e89-be04-c1bb65eeda6b",
   "metadata": {},
   "outputs": [
    {
     "name": "stdout",
     "output_type": "stream",
     "text": [
      "[Errno 2] No such file or directory: '.. # 使用魔法命令 %cd 可以切换目录'\n",
      "/root/GithubProjects/HelloLanguage/Jupyter/Python/Note\n"
     ]
    }
   ],
   "source": [
    "%cd ..  # 使用魔法命令 %cd 可以切换目录"
   ]
  },
  {
   "cell_type": "code",
   "execution_count": 38,
   "id": "d85cac0c-d833-4658-bf8c-8376ade66238",
   "metadata": {},
   "outputs": [
    {
     "name": "stdout",
     "output_type": "stream",
     "text": [
      "[Errno 2] No such file or directory: 'Note # 甚至可以直接使用 cd，执行时可以自动替换为 %cd，这个称作自动魔法（automagic）函数'\n",
      "/root/GithubProjects/HelloLanguage/Jupyter/Python/Note\n"
     ]
    }
   ],
   "source": [
    "cd Note  # 甚至可以直接使用 cd，执行时可以自动替换为 %cd，这个称作自动魔法（automagic）函数"
   ]
  },
  {
   "cell_type": "markdown",
   "id": "4db5b73a-2df3-4d6a-ac34-5f2de8f7e5d0",
   "metadata": {},
   "source": [
    "除了 %cd，其他可用的类似 shell 的魔法函数还有%cat、%cp、%env、%ls、%man、%mkdir、%more、%mv、%pwd、%rm和 %rmdir。如果 automagic 被打开，以上任何一个魔法命令都可以省略 % 符号。"
   ]
  },
  {
   "cell_type": "code",
   "execution_count": 39,
   "id": "b861e44c-3067-463e-a1ff-8928fb19da12",
   "metadata": {},
   "outputs": [],
   "source": [
    "mkdir tmpdir"
   ]
  },
  {
   "cell_type": "code",
   "execution_count": 40,
   "id": "756cc8a2-de8c-4177-888d-edbc004ee133",
   "metadata": {},
   "outputs": [],
   "source": [
    "!touch tmpdir/tmpfile.txt"
   ]
  },
  {
   "cell_type": "code",
   "execution_count": 41,
   "id": "b82cd0c2-a0c8-4bec-a9ed-0690ca1e6e53",
   "metadata": {},
   "outputs": [
    {
     "name": "stdout",
     "output_type": "stream",
     "text": [
      "tmpfile.txt\n"
     ]
    }
   ],
   "source": [
    "ls tmpdir"
   ]
  },
  {
   "cell_type": "code",
   "execution_count": null,
   "id": "9594e1f9-441b-4855-b67e-d1de6a79af8f",
   "metadata": {},
   "outputs": [],
   "source": [
    "rm -rf tmpdir"
   ]
  },
  {
   "cell_type": "markdown",
   "id": "4485c676-15ce-4056-a8b4-1975052feed4",
   "metadata": {},
   "source": [
    "# 6. 错误和调试"
   ]
  },
  {
   "cell_type": "markdown",
   "id": "bb9960b3-79b4-425b-a713-625c680aea31",
   "metadata": {},
   "source": [
    "## 6.1 控制异常：%xmode\n",
    "\n",
    "利用 %xmode 魔法函数，IPython 允许你在异常发生时控制打印信息的数量。"
   ]
  },
  {
   "cell_type": "code",
   "execution_count": null,
   "id": "01e9e5e4-8bba-4438-8cd2-8d331d9720c1",
   "metadata": {},
   "outputs": [
    {
     "ename": "ZeroDivisionError",
     "evalue": "division by zero",
     "output_type": "error",
     "traceback": [
      "\u001b[0;31m---------------------------------------------------------------------------\u001b[0m",
      "\u001b[0;31mZeroDivisionError\u001b[0m                         Traceback (most recent call last)",
      "\u001b[0;32m/tmp/ipykernel_44931/3029234353.py\u001b[0m in \u001b[0;36m<module>\u001b[0;34m\u001b[0m\n\u001b[1;32m      6\u001b[0m     \u001b[0;32mreturn\u001b[0m \u001b[0mfunc1\u001b[0m\u001b[0;34m(\u001b[0m\u001b[0ma\u001b[0m\u001b[0;34m,\u001b[0m \u001b[0mb\u001b[0m\u001b[0;34m)\u001b[0m\u001b[0;34m\u001b[0m\u001b[0;34m\u001b[0m\u001b[0m\n\u001b[1;32m      7\u001b[0m \u001b[0;34m\u001b[0m\u001b[0m\n\u001b[0;32m----> 8\u001b[0;31m \u001b[0mfunc2\u001b[0m\u001b[0;34m(\u001b[0m\u001b[0;36m1\u001b[0m\u001b[0;34m)\u001b[0m\u001b[0;34m\u001b[0m\u001b[0;34m\u001b[0m\u001b[0m\n\u001b[0m",
      "\u001b[0;32m/tmp/ipykernel_44931/3029234353.py\u001b[0m in \u001b[0;36mfunc2\u001b[0;34m(x)\u001b[0m\n\u001b[1;32m      4\u001b[0m     \u001b[0ma\u001b[0m \u001b[0;34m=\u001b[0m \u001b[0mx\u001b[0m\u001b[0;34m\u001b[0m\u001b[0;34m\u001b[0m\u001b[0m\n\u001b[1;32m      5\u001b[0m     \u001b[0mb\u001b[0m \u001b[0;34m=\u001b[0m \u001b[0mx\u001b[0m \u001b[0;34m-\u001b[0m \u001b[0;36m1\u001b[0m\u001b[0;34m\u001b[0m\u001b[0;34m\u001b[0m\u001b[0m\n\u001b[0;32m----> 6\u001b[0;31m     \u001b[0;32mreturn\u001b[0m \u001b[0mfunc1\u001b[0m\u001b[0;34m(\u001b[0m\u001b[0ma\u001b[0m\u001b[0;34m,\u001b[0m \u001b[0mb\u001b[0m\u001b[0;34m)\u001b[0m\u001b[0;34m\u001b[0m\u001b[0;34m\u001b[0m\u001b[0m\n\u001b[0m\u001b[1;32m      7\u001b[0m \u001b[0;34m\u001b[0m\u001b[0m\n\u001b[1;32m      8\u001b[0m \u001b[0mfunc2\u001b[0m\u001b[0;34m(\u001b[0m\u001b[0;36m1\u001b[0m\u001b[0;34m)\u001b[0m\u001b[0;34m\u001b[0m\u001b[0;34m\u001b[0m\u001b[0m\n",
      "\u001b[0;32m/tmp/ipykernel_44931/3029234353.py\u001b[0m in \u001b[0;36mfunc1\u001b[0;34m(a, b)\u001b[0m\n\u001b[1;32m      1\u001b[0m \u001b[0;32mdef\u001b[0m \u001b[0mfunc1\u001b[0m\u001b[0;34m(\u001b[0m\u001b[0ma\u001b[0m\u001b[0;34m,\u001b[0m \u001b[0mb\u001b[0m\u001b[0;34m)\u001b[0m\u001b[0;34m:\u001b[0m\u001b[0;34m\u001b[0m\u001b[0;34m\u001b[0m\u001b[0m\n\u001b[0;32m----> 2\u001b[0;31m     \u001b[0;32mreturn\u001b[0m \u001b[0ma\u001b[0m \u001b[0;34m/\u001b[0m \u001b[0mb\u001b[0m\u001b[0;34m\u001b[0m\u001b[0;34m\u001b[0m\u001b[0m\n\u001b[0m\u001b[1;32m      3\u001b[0m \u001b[0;32mdef\u001b[0m \u001b[0mfunc2\u001b[0m\u001b[0;34m(\u001b[0m\u001b[0mx\u001b[0m\u001b[0;34m)\u001b[0m\u001b[0;34m:\u001b[0m\u001b[0;34m\u001b[0m\u001b[0;34m\u001b[0m\u001b[0m\n\u001b[1;32m      4\u001b[0m     \u001b[0ma\u001b[0m \u001b[0;34m=\u001b[0m \u001b[0mx\u001b[0m\u001b[0;34m\u001b[0m\u001b[0;34m\u001b[0m\u001b[0m\n\u001b[1;32m      5\u001b[0m     \u001b[0mb\u001b[0m \u001b[0;34m=\u001b[0m \u001b[0mx\u001b[0m \u001b[0;34m-\u001b[0m \u001b[0;36m1\u001b[0m\u001b[0;34m\u001b[0m\u001b[0;34m\u001b[0m\u001b[0m\n",
      "\u001b[0;31mZeroDivisionError\u001b[0m: division by zero"
     ]
    }
   ],
   "source": [
    "def func1(a, b):\n",
    "    return a / b\n",
    "def func2(x):\n",
    "    a = x\n",
    "    b = x - 1\n",
    "    return func1(a, b)\n",
    "\n",
    "func2(1)"
   ]
  },
  {
   "cell_type": "code",
   "execution_count": null,
   "id": "69d4604e-a927-4cb9-b65f-17b4f0f53150",
   "metadata": {},
   "outputs": [
    {
     "name": "stdout",
     "output_type": "stream",
     "text": [
      "Exception reporting mode: Plain\n"
     ]
    }
   ],
   "source": [
    "# 共3个选项，Plain、Context 和 Verbose。默认情况下是 Context。\n",
    "%xmode Plain"
   ]
  },
  {
   "cell_type": "code",
   "execution_count": null,
   "id": "793ee230-70c1-4991-abca-df5dcad57fb1",
   "metadata": {},
   "outputs": [
    {
     "ename": "ZeroDivisionError",
     "evalue": "division by zero",
     "output_type": "error",
     "traceback": [
      "Traceback \u001b[0;36m(most recent call last)\u001b[0m:\n",
      "  File \u001b[1;32m\"/tmp/ipykernel_44931/2483606204.py\"\u001b[0m, line \u001b[1;32m1\u001b[0m, in \u001b[1;35m<module>\u001b[0m\n    func2(1)\n",
      "  File \u001b[1;32m\"/tmp/ipykernel_44931/3029234353.py\"\u001b[0m, line \u001b[1;32m6\u001b[0m, in \u001b[1;35mfunc2\u001b[0m\n    return func1(a, b)\n",
      "\u001b[0;36m  File \u001b[0;32m\"/tmp/ipykernel_44931/3029234353.py\"\u001b[0;36m, line \u001b[0;32m2\u001b[0;36m, in \u001b[0;35mfunc1\u001b[0;36m\u001b[0m\n\u001b[0;31m    return a / b\u001b[0m\n",
      "\u001b[0;31mZeroDivisionError\u001b[0m\u001b[0;31m:\u001b[0m division by zero\n"
     ]
    }
   ],
   "source": [
    "func2(1)"
   ]
  },
  {
   "cell_type": "code",
   "execution_count": null,
   "id": "bbbdcb86-9100-4ba4-a422-79cc74e51111",
   "metadata": {},
   "outputs": [
    {
     "name": "stdout",
     "output_type": "stream",
     "text": [
      "Exception reporting mode: Verbose\n"
     ]
    }
   ],
   "source": [
    "%xmode Verbose"
   ]
  },
  {
   "cell_type": "code",
   "execution_count": null,
   "id": "283ecdac-c9d9-464a-9769-82b59ed185d0",
   "metadata": {},
   "outputs": [
    {
     "ename": "ZeroDivisionError",
     "evalue": "division by zero",
     "output_type": "error",
     "traceback": [
      "\u001b[0;31m---------------------------------------------------------------------------\u001b[0m",
      "\u001b[0;31mZeroDivisionError\u001b[0m                         Traceback (most recent call last)",
      "\u001b[0;32m/tmp/ipykernel_44931/2483606204.py\u001b[0m in \u001b[0;36m<module>\u001b[0;34m\u001b[0m\n\u001b[0;32m----> 1\u001b[0;31m \u001b[0mfunc2\u001b[0m\u001b[0;34m(\u001b[0m\u001b[0;36m1\u001b[0m\u001b[0;34m)\u001b[0m\u001b[0;34m\u001b[0m\u001b[0;34m\u001b[0m\u001b[0m\n\u001b[0m        \u001b[0;36mglobal\u001b[0m \u001b[0;36mfunc2\u001b[0m \u001b[0;34m= <function func2 at 0x7f1438631510>\u001b[0m\n",
      "\u001b[0;32m/tmp/ipykernel_44931/3029234353.py\u001b[0m in \u001b[0;36mfunc2\u001b[0;34m(x=1)\u001b[0m\n\u001b[1;32m      4\u001b[0m     \u001b[0ma\u001b[0m \u001b[0;34m=\u001b[0m \u001b[0mx\u001b[0m\u001b[0;34m\u001b[0m\u001b[0;34m\u001b[0m\u001b[0m\n\u001b[1;32m      5\u001b[0m     \u001b[0mb\u001b[0m \u001b[0;34m=\u001b[0m \u001b[0mx\u001b[0m \u001b[0;34m-\u001b[0m \u001b[0;36m1\u001b[0m\u001b[0;34m\u001b[0m\u001b[0;34m\u001b[0m\u001b[0m\n\u001b[0;32m----> 6\u001b[0;31m     \u001b[0;32mreturn\u001b[0m \u001b[0mfunc1\u001b[0m\u001b[0;34m(\u001b[0m\u001b[0ma\u001b[0m\u001b[0;34m,\u001b[0m \u001b[0mb\u001b[0m\u001b[0;34m)\u001b[0m\u001b[0;34m\u001b[0m\u001b[0;34m\u001b[0m\u001b[0m\n\u001b[0m        \u001b[0;36mglobal\u001b[0m \u001b[0;36mfunc1\u001b[0m \u001b[0;34m= <function func1 at 0x7f1438631d90>\u001b[0m\u001b[0;34m\n        \u001b[0m\u001b[0;36ma\u001b[0m \u001b[0;34m= 1\u001b[0m\u001b[0;34m\n        \u001b[0m\u001b[0;36mb\u001b[0m \u001b[0;34m= 0\u001b[0m\n\u001b[1;32m      7\u001b[0m \u001b[0;34m\u001b[0m\u001b[0m\n\u001b[1;32m      8\u001b[0m \u001b[0mfunc2\u001b[0m\u001b[0;34m(\u001b[0m\u001b[0;36m1\u001b[0m\u001b[0;34m)\u001b[0m\u001b[0;34m\u001b[0m\u001b[0;34m\u001b[0m\u001b[0m\n",
      "\u001b[0;32m/tmp/ipykernel_44931/3029234353.py\u001b[0m in \u001b[0;36mfunc1\u001b[0;34m(a=1, b=0)\u001b[0m\n\u001b[1;32m      1\u001b[0m \u001b[0;32mdef\u001b[0m \u001b[0mfunc1\u001b[0m\u001b[0;34m(\u001b[0m\u001b[0ma\u001b[0m\u001b[0;34m,\u001b[0m \u001b[0mb\u001b[0m\u001b[0;34m)\u001b[0m\u001b[0;34m:\u001b[0m\u001b[0;34m\u001b[0m\u001b[0;34m\u001b[0m\u001b[0m\n\u001b[0;32m----> 2\u001b[0;31m     \u001b[0;32mreturn\u001b[0m \u001b[0ma\u001b[0m \u001b[0;34m/\u001b[0m \u001b[0mb\u001b[0m\u001b[0;34m\u001b[0m\u001b[0;34m\u001b[0m\u001b[0m\n\u001b[0m        \u001b[0;36ma\u001b[0m \u001b[0;34m= 1\u001b[0m\u001b[0;34m\n        \u001b[0m\u001b[0;36mb\u001b[0m \u001b[0;34m= 0\u001b[0m\n\u001b[1;32m      3\u001b[0m \u001b[0;32mdef\u001b[0m \u001b[0mfunc2\u001b[0m\u001b[0;34m(\u001b[0m\u001b[0mx\u001b[0m\u001b[0;34m)\u001b[0m\u001b[0;34m:\u001b[0m\u001b[0;34m\u001b[0m\u001b[0;34m\u001b[0m\u001b[0m\n\u001b[1;32m      4\u001b[0m     \u001b[0ma\u001b[0m \u001b[0;34m=\u001b[0m \u001b[0mx\u001b[0m\u001b[0;34m\u001b[0m\u001b[0;34m\u001b[0m\u001b[0m\n\u001b[1;32m      5\u001b[0m     \u001b[0mb\u001b[0m \u001b[0;34m=\u001b[0m \u001b[0mx\u001b[0m \u001b[0;34m-\u001b[0m \u001b[0;36m1\u001b[0m\u001b[0;34m\u001b[0m\u001b[0;34m\u001b[0m\u001b[0m\n",
      "\u001b[0;31mZeroDivisionError\u001b[0m: division by zero"
     ]
    }
   ],
   "source": [
    "func2(1)"
   ]
  },
  {
   "cell_type": "markdown",
   "id": "41df5d48-eb51-497e-a60a-44156eb52289",
   "metadata": {},
   "source": [
    "## 6.2 调试：当阅读轨迹追溯不足以解决问题时\n",
    "\n",
    "标准的 Python 交互式调试工具是 pdb，它是 Python 的调试器。这个调试器允许用户逐行运行代码，以便查看可能导致错误的原因。IPython增强版本的调试器是 ipdb，它是 IPython 专用的调试器。  \n",
    "IPython 中最方便的调试界面可能就是 %debug 魔法命令了。如果你在捕获异常后调用该调试器，它会在异常点自动打开一个交互式调试提示符。ipdb 提示符让你可以探索栈空间的当前状态，探索可用变量，甚至运行 Python 命令！"
   ]
  },
  {
   "cell_type": "code",
   "execution_count": null,
   "id": "57a87569-05a5-484e-b10b-fdb192970f99",
   "metadata": {},
   "outputs": [
    {
     "name": "stdout",
     "output_type": "stream",
     "text": [
      "> \u001b[0;32m/tmp/ipykernel_44931/3029234353.py\u001b[0m(2)\u001b[0;36mfunc1\u001b[0;34m()\u001b[0m\n",
      "\u001b[0;32m      1 \u001b[0;31m\u001b[0;32mdef\u001b[0m \u001b[0mfunc1\u001b[0m\u001b[0;34m(\u001b[0m\u001b[0ma\u001b[0m\u001b[0;34m,\u001b[0m \u001b[0mb\u001b[0m\u001b[0;34m)\u001b[0m\u001b[0;34m:\u001b[0m\u001b[0;34m\u001b[0m\u001b[0;34m\u001b[0m\u001b[0m\n",
      "\u001b[0m\u001b[0;32m----> 2 \u001b[0;31m    \u001b[0;32mreturn\u001b[0m \u001b[0ma\u001b[0m \u001b[0;34m/\u001b[0m \u001b[0mb\u001b[0m\u001b[0;34m\u001b[0m\u001b[0;34m\u001b[0m\u001b[0m\n",
      "\u001b[0m\u001b[0;32m      3 \u001b[0;31m\u001b[0;32mdef\u001b[0m \u001b[0mfunc2\u001b[0m\u001b[0;34m(\u001b[0m\u001b[0mx\u001b[0m\u001b[0;34m)\u001b[0m\u001b[0;34m:\u001b[0m\u001b[0;34m\u001b[0m\u001b[0;34m\u001b[0m\u001b[0m\n",
      "\u001b[0m\u001b[0;32m      4 \u001b[0;31m    \u001b[0ma\u001b[0m \u001b[0;34m=\u001b[0m \u001b[0mx\u001b[0m\u001b[0;34m\u001b[0m\u001b[0;34m\u001b[0m\u001b[0m\n",
      "\u001b[0m\u001b[0;32m      5 \u001b[0;31m    \u001b[0mb\u001b[0m \u001b[0;34m=\u001b[0m \u001b[0mx\u001b[0m \u001b[0;34m-\u001b[0m \u001b[0;36m1\u001b[0m\u001b[0;34m\u001b[0m\u001b[0;34m\u001b[0m\u001b[0m\n",
      "\u001b[0m\n"
     ]
    }
   ],
   "source": [
    "%debug"
   ]
  },
  {
   "cell_type": "code",
   "execution_count": 64,
   "id": "cb3fd97a-0468-4192-8dcb-e57c14bd572b",
   "metadata": {},
   "outputs": [
    {
     "name": "stdout",
     "output_type": "stream",
     "text": [
      "> \u001b[0;32m/tmp/ipykernel_44636/3029234353.py\u001b[0m(2)\u001b[0;36mfunc1\u001b[0;34m()\u001b[0m\n",
      "\u001b[0;32m      1 \u001b[0;31m\u001b[0;32mdef\u001b[0m \u001b[0mfunc1\u001b[0m\u001b[0;34m(\u001b[0m\u001b[0ma\u001b[0m\u001b[0;34m,\u001b[0m \u001b[0mb\u001b[0m\u001b[0;34m)\u001b[0m\u001b[0;34m:\u001b[0m\u001b[0;34m\u001b[0m\u001b[0;34m\u001b[0m\u001b[0m\n",
      "\u001b[0m\u001b[0;32m----> 2 \u001b[0;31m    \u001b[0;32mreturn\u001b[0m \u001b[0ma\u001b[0m \u001b[0;34m/\u001b[0m \u001b[0mb\u001b[0m\u001b[0;34m\u001b[0m\u001b[0;34m\u001b[0m\u001b[0m\n",
      "\u001b[0m\u001b[0;32m      3 \u001b[0;31m\u001b[0;32mdef\u001b[0m \u001b[0mfunc2\u001b[0m\u001b[0;34m(\u001b[0m\u001b[0mx\u001b[0m\u001b[0;34m)\u001b[0m\u001b[0;34m:\u001b[0m\u001b[0;34m\u001b[0m\u001b[0;34m\u001b[0m\u001b[0m\n",
      "\u001b[0m\u001b[0;32m      4 \u001b[0;31m    \u001b[0ma\u001b[0m \u001b[0;34m=\u001b[0m \u001b[0mx\u001b[0m\u001b[0;34m\u001b[0m\u001b[0;34m\u001b[0m\u001b[0m\n",
      "\u001b[0m\u001b[0;32m      5 \u001b[0;31m    \u001b[0mb\u001b[0m \u001b[0;34m=\u001b[0m \u001b[0mx\u001b[0m \u001b[0;34m-\u001b[0m \u001b[0;36m1\u001b[0m\u001b[0;34m\u001b[0m\u001b[0;34m\u001b[0m\u001b[0m\n",
      "\u001b[0m\n"
     ]
    },
    {
     "name": "stdin",
     "output_type": "stream",
     "text": [
      "ipdb>  up\n"
     ]
    },
    {
     "name": "stdout",
     "output_type": "stream",
     "text": [
      "> \u001b[0;32m/tmp/ipykernel_44636/3029234353.py\u001b[0m(6)\u001b[0;36mfunc2\u001b[0;34m()\u001b[0m\n",
      "\u001b[0;32m      4 \u001b[0;31m    \u001b[0ma\u001b[0m \u001b[0;34m=\u001b[0m \u001b[0mx\u001b[0m\u001b[0;34m\u001b[0m\u001b[0;34m\u001b[0m\u001b[0m\n",
      "\u001b[0m\u001b[0;32m      5 \u001b[0;31m    \u001b[0mb\u001b[0m \u001b[0;34m=\u001b[0m \u001b[0mx\u001b[0m \u001b[0;34m-\u001b[0m \u001b[0;36m1\u001b[0m\u001b[0;34m\u001b[0m\u001b[0;34m\u001b[0m\u001b[0m\n",
      "\u001b[0m\u001b[0;32m----> 6 \u001b[0;31m    \u001b[0;32mreturn\u001b[0m \u001b[0mfunc1\u001b[0m\u001b[0;34m(\u001b[0m\u001b[0ma\u001b[0m\u001b[0;34m,\u001b[0m \u001b[0mb\u001b[0m\u001b[0;34m)\u001b[0m\u001b[0;34m\u001b[0m\u001b[0;34m\u001b[0m\u001b[0m\n",
      "\u001b[0m\u001b[0;32m      7 \u001b[0;31m\u001b[0;34m\u001b[0m\u001b[0m\n",
      "\u001b[0m\u001b[0;32m      8 \u001b[0;31m\u001b[0mfunc2\u001b[0m\u001b[0;34m(\u001b[0m\u001b[0;36m1\u001b[0m\u001b[0;34m)\u001b[0m\u001b[0;34m\u001b[0m\u001b[0;34m\u001b[0m\u001b[0m\n",
      "\u001b[0m\n"
     ]
    },
    {
     "name": "stdin",
     "output_type": "stream",
     "text": [
      "ipdb>  print(x)\n"
     ]
    },
    {
     "name": "stdout",
     "output_type": "stream",
     "text": [
      "1\n"
     ]
    },
    {
     "name": "stdin",
     "output_type": "stream",
     "text": [
      "ipdb>  up\n"
     ]
    },
    {
     "name": "stdout",
     "output_type": "stream",
     "text": [
      "> \u001b[0;32m/tmp/ipykernel_44636/2483606204.py\u001b[0m(1)\u001b[0;36m<module>\u001b[0;34m()\u001b[0m\n",
      "\u001b[0;32m----> 1 \u001b[0;31m\u001b[0mfunc2\u001b[0m\u001b[0;34m(\u001b[0m\u001b[0;36m1\u001b[0m\u001b[0;34m)\u001b[0m\u001b[0;34m\u001b[0m\u001b[0;34m\u001b[0m\u001b[0m\n",
      "\u001b[0m\n"
     ]
    },
    {
     "name": "stdin",
     "output_type": "stream",
     "text": [
      "ipdb>  down\n"
     ]
    },
    {
     "name": "stdout",
     "output_type": "stream",
     "text": [
      "> \u001b[0;32m/tmp/ipykernel_44636/3029234353.py\u001b[0m(6)\u001b[0;36mfunc2\u001b[0;34m()\u001b[0m\n",
      "\u001b[0;32m      4 \u001b[0;31m    \u001b[0ma\u001b[0m \u001b[0;34m=\u001b[0m \u001b[0mx\u001b[0m\u001b[0;34m\u001b[0m\u001b[0;34m\u001b[0m\u001b[0m\n",
      "\u001b[0m\u001b[0;32m      5 \u001b[0;31m    \u001b[0mb\u001b[0m \u001b[0;34m=\u001b[0m \u001b[0mx\u001b[0m \u001b[0;34m-\u001b[0m \u001b[0;36m1\u001b[0m\u001b[0;34m\u001b[0m\u001b[0;34m\u001b[0m\u001b[0m\n",
      "\u001b[0m\u001b[0;32m----> 6 \u001b[0;31m    \u001b[0;32mreturn\u001b[0m \u001b[0mfunc1\u001b[0m\u001b[0;34m(\u001b[0m\u001b[0ma\u001b[0m\u001b[0;34m,\u001b[0m \u001b[0mb\u001b[0m\u001b[0;34m)\u001b[0m\u001b[0;34m\u001b[0m\u001b[0;34m\u001b[0m\u001b[0m\n",
      "\u001b[0m\u001b[0;32m      7 \u001b[0;31m\u001b[0;34m\u001b[0m\u001b[0m\n",
      "\u001b[0m\u001b[0;32m      8 \u001b[0;31m\u001b[0mfunc2\u001b[0m\u001b[0;34m(\u001b[0m\u001b[0;36m1\u001b[0m\u001b[0;34m)\u001b[0m\u001b[0;34m\u001b[0m\u001b[0;34m\u001b[0m\u001b[0m\n",
      "\u001b[0m\n"
     ]
    },
    {
     "name": "stdin",
     "output_type": "stream",
     "text": [
      "ipdb>  quit\n"
     ]
    }
   ],
   "source": [
    "%debug"
   ]
  },
  {
   "cell_type": "code",
   "execution_count": 65,
   "id": "ba15b616-916e-4f0a-853b-37ee8abc4cac",
   "metadata": {},
   "outputs": [
    {
     "name": "stdout",
     "output_type": "stream",
     "text": [
      "Exception reporting mode: Plain\n",
      "Automatic pdb calling has been turned ON\n"
     ]
    },
    {
     "ename": "ZeroDivisionError",
     "evalue": "division by zero",
     "output_type": "error",
     "traceback": [
      "Traceback \u001b[0;36m(most recent call last)\u001b[0m:\n",
      "  File \u001b[1;32m\"/tmp/ipykernel_44636/3304545811.py\"\u001b[0m, line \u001b[1;32m4\u001b[0m, in \u001b[1;35m<module>\u001b[0m\n    func2(1)\n",
      "  File \u001b[1;32m\"/tmp/ipykernel_44636/3029234353.py\"\u001b[0m, line \u001b[1;32m6\u001b[0m, in \u001b[1;35mfunc2\u001b[0m\n    return func1(a, b)\n",
      "\u001b[0;36m  File \u001b[0;32m\"/tmp/ipykernel_44636/3029234353.py\"\u001b[0;36m, line \u001b[0;32m2\u001b[0;36m, in \u001b[0;35mfunc1\u001b[0;36m\u001b[0m\n\u001b[0;31m    return a / b\u001b[0m\n",
      "\u001b[0;31mZeroDivisionError\u001b[0m\u001b[0;31m:\u001b[0m division by zero\n"
     ]
    },
    {
     "name": "stdout",
     "output_type": "stream",
     "text": [
      "> \u001b[0;32m/tmp/ipykernel_44636/3029234353.py\u001b[0m(2)\u001b[0;36mfunc1\u001b[0;34m()\u001b[0m\n",
      "\u001b[0;32m      1 \u001b[0;31m\u001b[0;32mdef\u001b[0m \u001b[0mfunc1\u001b[0m\u001b[0;34m(\u001b[0m\u001b[0ma\u001b[0m\u001b[0;34m,\u001b[0m \u001b[0mb\u001b[0m\u001b[0;34m)\u001b[0m\u001b[0;34m:\u001b[0m\u001b[0;34m\u001b[0m\u001b[0;34m\u001b[0m\u001b[0m\n",
      "\u001b[0m\u001b[0;32m----> 2 \u001b[0;31m    \u001b[0;32mreturn\u001b[0m \u001b[0ma\u001b[0m \u001b[0;34m/\u001b[0m \u001b[0mb\u001b[0m\u001b[0;34m\u001b[0m\u001b[0;34m\u001b[0m\u001b[0m\n",
      "\u001b[0m\u001b[0;32m      3 \u001b[0;31m\u001b[0;32mdef\u001b[0m \u001b[0mfunc2\u001b[0m\u001b[0;34m(\u001b[0m\u001b[0mx\u001b[0m\u001b[0;34m)\u001b[0m\u001b[0;34m:\u001b[0m\u001b[0;34m\u001b[0m\u001b[0;34m\u001b[0m\u001b[0m\n",
      "\u001b[0m\u001b[0;32m      4 \u001b[0;31m    \u001b[0ma\u001b[0m \u001b[0;34m=\u001b[0m \u001b[0mx\u001b[0m\u001b[0;34m\u001b[0m\u001b[0;34m\u001b[0m\u001b[0m\n",
      "\u001b[0m\u001b[0;32m      5 \u001b[0;31m    \u001b[0mb\u001b[0m \u001b[0;34m=\u001b[0m \u001b[0mx\u001b[0m \u001b[0;34m-\u001b[0m \u001b[0;36m1\u001b[0m\u001b[0;34m\u001b[0m\u001b[0;34m\u001b[0m\u001b[0m\n",
      "\u001b[0m\n"
     ]
    },
    {
     "name": "stdin",
     "output_type": "stream",
     "text": [
      "ipdb>  print(b)\n"
     ]
    },
    {
     "name": "stdout",
     "output_type": "stream",
     "text": [
      "0\n"
     ]
    },
    {
     "name": "stdin",
     "output_type": "stream",
     "text": [
      "ipdb>  quit\n"
     ]
    }
   ],
   "source": [
    "# 如果希望在发生任何异常时都自动启动调试器，可以用 %pdb 魔法函数来启动这个自动过程。\n",
    "%xmode Plain\n",
    "%pdb on\n",
    "func2(1)"
   ]
  },
  {
   "cell_type": "markdown",
   "id": "ed4ba21e-c0eb-47d6-91fb-cfd0f2fd2244",
   "metadata": {},
   "source": [
    "如果你有一个脚本，并且希望以交互式模式运行，则可以用%run -d 命令来运行，并利用 next 命令单步向下交互地运行代码。  \n",
    "\n",
    "部分调试命令\n",
    "\n",
    "| 命令 | 描述 |\n",
    "| ---- | ---- |\n",
    "| list | 显示文件的当前路径 |\n",
    "| h(elp) | 显示命令列表，或查找特定命令的帮助信息 |\n",
    "| q(uit) | 退出调试器和程序 |\n",
    "| c(ontinue) | 退出调试器，继续运行程序 |\n",
    "| n(ext) | 跳到程序的下一步 |\n",
    "| \\<enter\\> | 重复前一个命令 |\n",
    "| p(rint) | 打印变量 |\n",
    "| s(tep) | 步入子进程 |\n",
    "| r(eturn) | 从子进程跳出 |"
   ]
  },
  {
   "cell_type": "markdown",
   "id": "1e542570-38a3-49f3-b24d-45754e99e309",
   "metadata": {},
   "source": [
    "# 7. 代码分析和计时\n",
    "\n",
    "高德纳：“大约 97% 的时间，我们应该忘记微小的效率差别；过早优化是一切罪恶的根源。”  \n",
    "\n",
    "下面是一下常用的魔法命令：\n",
    "- %time: 对单个语句的执行时间进行计时。\n",
    "- %timeit: 对单个语句的重复执行进行计时，以获得更高的准确度。\n",
    "- %prun: 利用分析器运行代码。\n",
    "- %lprun: 利用逐行分析器运行代码。\n",
    "- %memit: 测量单个语句的内存使用。\n",
    "- %mprun: 通过逐行的内存分析器运行代码。\n",
    "\n",
    "最后 4 条魔法命令并不是与 IPython 捆绑的，你需要安装 line_profiler 和 memory_profiler 扩展。"
   ]
  },
  {
   "cell_type": "markdown",
   "id": "e4510c59-0a66-4b25-8961-27f6b8418843",
   "metadata": {},
   "source": [
    "## 7.1 代码段计时：%timeit和%time\n",
    "\n",
    "%timeit会根据命令的执行时间，自动调整重复执行的次数，多次执行来获取更准确的计时。  \n",
    "%time只执行一次。  \n",
    "通常用 %time 计时比用 %timeit 计时花费的时间要长。这是由于 %timeit 在底层做了一些很聪明的事情来阻止系统调用对计时过程的干扰。  \n",
    "例如，%timeit 会阻止清理未利用的 Python 对象（即垃圾回收），该过程可能影响计时。因此，%timeit 通常比 %time 更快得到结果。  \n",
    "所以，对于运行时间较长的命令来说，如果较短的系统延迟不太可能影响结果，那么 %time 魔法函数也是一个不错的选择。"
   ]
  },
  {
   "cell_type": "code",
   "execution_count": 66,
   "id": "9bbeb96b-dc88-4fb1-926e-64ffcd486ffe",
   "metadata": {},
   "outputs": [
    {
     "name": "stdout",
     "output_type": "stream",
     "text": [
      "1.6 µs ± 3.51 ns per loop (mean ± std. dev. of 7 runs, 1000000 loops each)\n"
     ]
    }
   ],
   "source": [
    "%timeit sum(range(100))"
   ]
  },
  {
   "cell_type": "code",
   "execution_count": 68,
   "id": "63ba81ad-9898-46dd-b774-830c75940076",
   "metadata": {},
   "outputs": [
    {
     "name": "stdout",
     "output_type": "stream",
     "text": [
      "472 ms ± 639 µs per loop (mean ± std. dev. of 7 runs, 1 loop each)\n"
     ]
    }
   ],
   "source": [
    "%%timeit\n",
    "total = 0\n",
    "for i in range(1000):\n",
    "    for j in range(1000):\n",
    "        total += i*(-1)**j"
   ]
  },
  {
   "cell_type": "code",
   "execution_count": 70,
   "id": "7806a169-96b4-465f-8253-25fd6dbf1b8e",
   "metadata": {},
   "outputs": [
    {
     "name": "stdout",
     "output_type": "stream",
     "text": [
      "947 µs ± 6.68 µs per loop (mean ± std. dev. of 7 runs, 1000 loops each)\n"
     ]
    }
   ],
   "source": [
    "# 有时候重复一个操作并不是最佳选择。例如，如果有一个列表需要排序，我们可能会被重复操作误导。\n",
    "import random\n",
    "L = [random.random() for i in range(100000)]\n",
    "%timeit L.sort()"
   ]
  },
  {
   "cell_type": "code",
   "execution_count": 71,
   "id": "edee6eb5-0c86-4902-93f0-e335cbac0796",
   "metadata": {},
   "outputs": [
    {
     "name": "stdout",
     "output_type": "stream",
     "text": [
      "sorting an unsorted list:\n",
      "CPU times: user 21.3 ms, sys: 0 ns, total: 21.3 ms\n",
      "Wall time: 21.2 ms\n"
     ]
    }
   ],
   "source": [
    "import random\n",
    "L = [random.random() for i in range(100000)]\n",
    "print(\"sorting an unsorted list:\")\n",
    "%time L.sort()"
   ]
  },
  {
   "cell_type": "code",
   "execution_count": 72,
   "id": "e74cb2f2-f248-4823-87c1-b7feedaf72fe",
   "metadata": {},
   "outputs": [
    {
     "name": "stdout",
     "output_type": "stream",
     "text": [
      "sorting an already sorted list:\n",
      "CPU times: user 1.26 ms, sys: 0 ns, total: 1.26 ms\n",
      "Wall time: 1.26 ms\n"
     ]
    }
   ],
   "source": [
    "print(\"sorting an already sorted list:\")\n",
    "%time L.sort()"
   ]
  },
  {
   "cell_type": "code",
   "execution_count": 73,
   "id": "790c4e39-b476-416d-9605-d80bdd1c341d",
   "metadata": {},
   "outputs": [
    {
     "name": "stdout",
     "output_type": "stream",
     "text": [
      "CPU times: user 611 ms, sys: 0 ns, total: 611 ms\n",
      "Wall time: 609 ms\n"
     ]
    }
   ],
   "source": [
    "%%time\n",
    "total = 0\n",
    "for i in range(1000):\n",
    "    for j in range(1000):\n",
    "        total += i*(-1)**j"
   ]
  },
  {
   "cell_type": "markdown",
   "id": "66e66dbc-33e8-4f27-a466-85636de59e12",
   "metadata": {},
   "source": [
    "## 7.2 分析整个脚本：%prun"
   ]
  },
  {
   "cell_type": "code",
   "execution_count": 74,
   "id": "45f1e677-2ce3-4066-8b6d-6263f64c8daf",
   "metadata": {},
   "outputs": [
    {
     "name": "stdout",
     "output_type": "stream",
     "text": [
      " "
     ]
    },
    {
     "data": {
      "text/plain": [
       "         14 function calls in 1.049 seconds\n",
       "\n",
       "   Ordered by: internal time\n",
       "\n",
       "   ncalls  tottime  percall  cumtime  percall filename:lineno(function)\n",
       "        5    0.935    0.187    0.935    0.187 735111113.py:4(<listcomp>)\n",
       "        1    0.052    0.052    1.034    1.034 735111113.py:1(sum_of_lists)\n",
       "        5    0.047    0.009    0.047    0.009 {built-in method builtins.sum}\n",
       "        1    0.015    0.015    1.049    1.049 <string>:1(<module>)\n",
       "        1    0.000    0.000    1.049    1.049 {built-in method builtins.exec}\n",
       "        1    0.000    0.000    0.000    0.000 {method 'disable' of '_lsprof.Profiler' objects}"
      ]
     },
     "metadata": {},
     "output_type": "display_data"
    }
   ],
   "source": [
    "def sum_of_lists(N):\n",
    "    total = 0\n",
    "    for i in range(5):\n",
    "        L = [j ^ (j >> i) for j in range(N)]\n",
    "        total += sum(L)\n",
    "    return total\n",
    "\n",
    "%prun sum_of_lists(1000000)"
   ]
  },
  {
   "cell_type": "code",
   "execution_count": null,
   "id": "0d368c07-5ebf-4869-9a9f-ff684e101345",
   "metadata": {},
   "outputs": [],
   "source": []
  }
 ],
 "metadata": {
  "kernelspec": {
   "display_name": "Python 3 (ipykernel)",
   "language": "python",
   "name": "python3"
  },
  "language_info": {
   "codemirror_mode": {
    "name": "ipython",
    "version": 3
   },
   "file_extension": ".py",
   "mimetype": "text/x-python",
   "name": "python",
   "nbconvert_exporter": "python",
   "pygments_lexer": "ipython3",
   "version": "3.7.3"
  }
 },
 "nbformat": 4,
 "nbformat_minor": 5
}
