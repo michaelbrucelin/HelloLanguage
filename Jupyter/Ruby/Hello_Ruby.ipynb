{
 "cells": [
  {
   "cell_type": "code",
   "execution_count": null,
   "id": "d7ccd033-ee37-444f-b435-dfc40c50e550",
   "metadata": {},
   "outputs": [],
   "source": [
    "puts \"Hello World!\""
   ]
  },
  {
   "cell_type": "code",
   "execution_count": null,
   "id": "5f5af9ec-84ed-479c-927b-6656fe086921",
   "metadata": {},
   "outputs": [],
   "source": []
  }
 ],
 "metadata": {
  "kernelspec": {
   "display_name": "Ruby 2.5.5",
   "language": "ruby",
   "name": "ruby"
  },
  "language_info": {
   "name": ""
  }
 },
 "nbformat": 4,
 "nbformat_minor": 5
}
