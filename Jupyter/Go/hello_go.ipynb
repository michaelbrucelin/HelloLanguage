{
 "cells": [
  {
   "cell_type": "code",
   "execution_count": 1,
   "id": "c28f30d5-d99a-4220-9f33-9451e187b271",
   "metadata": {},
   "outputs": [],
   "source": [
    "import \"fmt\""
   ]
  },
  {
   "cell_type": "code",
   "execution_count": 2,
   "id": "14486cf2-e0c5-47dd-a646-cb88c65749e6",
   "metadata": {},
   "outputs": [
    {
     "name": "stdout",
     "output_type": "stream",
     "text": [
      "hello go\n"
     ]
    },
    {
     "data": {
      "text/plain": [
       "9 <nil>"
      ]
     },
     "execution_count": 2,
     "metadata": {},
     "output_type": "execute_result"
    }
   ],
   "source": [
    "fmt.Println(\"hello go\")"
   ]
  },
  {
   "cell_type": "code",
   "execution_count": null,
   "id": "c8482e0b-b19b-4266-b5dd-bba567636f38",
   "metadata": {},
   "outputs": [],
   "source": []
  }
 ],
 "metadata": {
  "kernelspec": {
   "display_name": "Go",
   "language": "go",
   "name": "gophernotes"
  },
  "language_info": {
   "codemirror_mode": "",
   "file_extension": ".go",
   "mimetype": "",
   "name": "go",
   "nbconvert_exporter": "",
   "pygments_lexer": "",
   "version": "go1.17.1"
  }
 },
 "nbformat": 4,
 "nbformat_minor": 5
}
