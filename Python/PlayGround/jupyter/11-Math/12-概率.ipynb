{
 "cells": [
  {
   "cell_type": "code",
   "execution_count": 1,
   "id": "24abab50",
   "metadata": {},
   "outputs": [],
   "source": [
    "import random\n",
    "import numpy as np\n",
    "import pandas as pd"
   ]
  },
  {
   "cell_type": "raw",
   "id": "7cbf4f98",
   "metadata": {},
   "source": [
    "使用概率来计算PI的值\n",
    "模型：\n",
    "假定有一个半径为1圆，以及一个外切圆的正方形，所以正方形的边长为2，随机数个坐标(x, y)，其中-1<=x<=1，-1<=y<=1\n",
    "其中有N个点在圆内，M个点在圆外，那么\n",
    "    N       PI*r*r                4*N\n",
    "  ————— = ——————————  ，即  PI = —————\n",
    "   M+N     (2r)(2r)               M+N\n",
    "(x,y)在圆内，即x*x+y*y<=1"
   ]
  },
  {
   "cell_type": "code",
   "execution_count": 2,
   "id": "18613097",
   "metadata": {},
   "outputs": [
    {
     "data": {
      "text/plain": [
       "3.1548"
      ]
     },
     "execution_count": 2,
     "metadata": {},
     "output_type": "execute_result"
    }
   ],
   "source": [
    "times = 10000\n",
    "x = np.random.rand(times) * np.random.choice([-1,1], times)  # 随机的不好，应该是[0, 1]，而rand()随机的是[0, 1)\n",
    "y = np.random.rand(times) * np.random.choice([-1,1], times)\n",
    "r = x**2 + y**2\n",
    "r = np.where(r<=1, True, False)\n",
    "# pd.value_counts(r)\n",
    "N = np.where(r, 1, 0).sum()\n",
    "M = times - N\n",
    "PI = 4*N/(M+N)\n",
    "PI"
   ]
  },
  {
   "cell_type": "code",
   "execution_count": null,
   "id": "0079018b",
   "metadata": {},
   "outputs": [],
   "source": [
    "times = 100,       PI = 3.08\n",
    "times = 1000,      PI = 3.152\n",
    "times = 10000,     PI = 3.1548\n",
    "times = 100000,    PI = 3.13928\n",
    "times = 1000000,   PI = 3.142628\n",
    "times = 10000000,  PI = 3.1416056\n",
    "times = 100000000, PI = 3.1415914"
   ]
  },
  {
   "cell_type": "code",
   "execution_count": null,
   "id": "80aa658e",
   "metadata": {},
   "outputs": [],
   "source": []
  }
 ],
 "metadata": {
  "kernelspec": {
   "display_name": "Python 3",
   "language": "python",
   "name": "python3"
  },
  "language_info": {
   "codemirror_mode": {
    "name": "ipython",
    "version": 3
   },
   "file_extension": ".py",
   "mimetype": "text/x-python",
   "name": "python",
   "nbconvert_exporter": "python",
   "pygments_lexer": "ipython3",
   "version": "3.7.3"
  }
 },
 "nbformat": 4,
 "nbformat_minor": 5
}
