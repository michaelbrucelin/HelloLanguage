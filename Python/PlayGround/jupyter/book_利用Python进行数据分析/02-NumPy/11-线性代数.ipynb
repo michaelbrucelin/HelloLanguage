{
 "cells": [
  {
   "cell_type": "code",
   "execution_count": 1,
   "id": "f2acaf0b",
   "metadata": {},
   "outputs": [],
   "source": [
    "import numpy as np\n",
    "# 线性代数，比如矩阵乘法、分解、行列式等方阵数学，是所有数组类库的重要组成部分。"
   ]
  },
  {
   "cell_type": "code",
   "execution_count": 2,
   "id": "25961d72",
   "metadata": {},
   "outputs": [
    {
     "data": {
      "text/plain": [
       "array([[ 28,  64],\n",
       "       [ 67, 181]])"
      ]
     },
     "execution_count": 2,
     "metadata": {},
     "output_type": "execute_result"
    }
   ],
   "source": [
    "x = np.array([[1, 2, 3], [4, 5, 6]])\n",
    "y = np.array([[6, 23], [-1, 7], [8, 9]])\n",
    "x.dot(y)  # <==> np.dot(x, y)"
   ]
  },
  {
   "cell_type": "code",
   "execution_count": 3,
   "id": "25de4ce1",
   "metadata": {},
   "outputs": [
    {
     "data": {
      "text/plain": [
       "array([ 6., 15.])"
      ]
     },
     "execution_count": 3,
     "metadata": {},
     "output_type": "execute_result"
    }
   ],
   "source": [
    "np.dot(x, np.ones(3))"
   ]
  },
  {
   "cell_type": "code",
   "execution_count": 4,
   "id": "a2339ebf",
   "metadata": {},
   "outputs": [
    {
     "data": {
      "text/plain": [
       "array([ 6., 15.])"
      ]
     },
     "execution_count": 4,
     "metadata": {},
     "output_type": "execute_result"
    }
   ],
   "source": [
    "# @ 在numpy中也是点积的运算符号\n",
    "x @ np.ones(3)"
   ]
  },
  {
   "cell_type": "code",
   "execution_count": 5,
   "id": "deab4046",
   "metadata": {},
   "outputs": [],
   "source": [
    "from numpy.linalg import inv, qr\n",
    "# numpy.linalg是numpy中的线性代数的标准函数集，使用的都是BLAS、LAPACK或因特尔专有的MKL库（具体看numpy的版本，matlab，R也使用这些库）"
   ]
  },
  {
   "cell_type": "code",
   "execution_count": 6,
   "id": "cfcef664",
   "metadata": {},
   "outputs": [
    {
     "data": {
      "text/plain": [
       "array([[ 0.1537943 , -0.08442595, -0.07143393, -0.11444867, -0.05281834],\n",
       "       [-0.08442595,  0.4621337 ,  0.49641129,  0.95811089,  0.33978032],\n",
       "       [-0.07143393,  0.49641129,  1.09326012,  1.39112079,  0.33615962],\n",
       "       [-0.11444867,  0.95811089,  1.39112079,  2.63445417,  0.87575247],\n",
       "       [-0.05281834,  0.33978032,  0.33615962,  0.87575247,  1.12720774]])"
      ]
     },
     "execution_count": 6,
     "metadata": {},
     "output_type": "execute_result"
    }
   ],
   "source": [
    "X = np.random.randn(5, 5)\n",
    "mat = X.T.dot(X)\n",
    "inv(mat)  # inv() 计算方阵的逆矩阵"
   ]
  },
  {
   "cell_type": "code",
   "execution_count": 7,
   "id": "ae854dc9",
   "metadata": {},
   "outputs": [
    {
     "data": {
      "text/plain": [
       "array([[ 1.00000000e+00,  6.93889390e-18,  1.11022302e-16,\n",
       "         5.55111512e-17,  8.32667268e-17],\n",
       "       [-8.67361738e-18,  1.00000000e+00,  9.99200722e-16,\n",
       "         8.32667268e-16,  4.44089210e-16],\n",
       "       [-1.04083409e-17, -1.66533454e-16,  1.00000000e+00,\n",
       "        -1.27675648e-15,  0.00000000e+00],\n",
       "       [-6.93889390e-18, -5.27355937e-16, -9.43689571e-16,\n",
       "         1.00000000e+00, -4.44089210e-16],\n",
       "       [ 0.00000000e+00, -5.55111512e-17, -1.11022302e-16,\n",
       "        -2.22044605e-16,  1.00000000e+00]])"
      ]
     },
     "execution_count": 7,
     "metadata": {},
     "output_type": "execute_result"
    }
   ],
   "source": [
    "mat.dot(inv(mat))"
   ]
  },
  {
   "cell_type": "code",
   "execution_count": 8,
   "id": "a187d740",
   "metadata": {},
   "outputs": [
    {
     "data": {
      "text/plain": [
       "array([[-8.16350378, -6.55791253, -0.76628169,  2.52997151, -0.15515972],\n",
       "       [ 0.        , -8.76072013, -0.70740044,  3.67570353,  0.02121647],\n",
       "       [ 0.        ,  0.        , -3.37108388,  2.22910048, -0.84641653],\n",
       "       [ 0.        ,  0.        ,  0.        , -0.5600906 ,  1.01055904],\n",
       "       [ 0.        ,  0.        ,  0.        ,  0.        ,  0.66390124]])"
      ]
     },
     "execution_count": 8,
     "metadata": {},
     "output_type": "execute_result"
    }
   ],
   "source": [
    "q, r = qr(mat)  # qr()计算QR分解\n",
    "r"
   ]
  },
  {
   "cell_type": "code",
   "execution_count": null,
   "id": "3c21551d",
   "metadata": {},
   "outputs": [],
   "source": []
  }
 ],
 "metadata": {
  "kernelspec": {
   "display_name": "Python 3",
   "language": "python",
   "name": "python3"
  },
  "language_info": {
   "codemirror_mode": {
    "name": "ipython",
    "version": 3
   },
   "file_extension": ".py",
   "mimetype": "text/x-python",
   "name": "python",
   "nbconvert_exporter": "python",
   "pygments_lexer": "ipython3",
   "version": "3.7.3"
  }
 },
 "nbformat": 4,
 "nbformat_minor": 5
}
