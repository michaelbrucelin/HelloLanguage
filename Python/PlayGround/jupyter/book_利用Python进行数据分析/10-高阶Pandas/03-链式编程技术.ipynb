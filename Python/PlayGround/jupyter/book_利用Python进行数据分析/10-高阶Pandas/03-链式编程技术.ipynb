{
 "cells": [
  {
   "cell_type": "code",
   "execution_count": 1,
   "id": "4c32ff61",
   "metadata": {},
   "outputs": [],
   "source": [
    "import numpy as np\n",
    "import pandas as pd\n",
    "import matplotlib.pyplot as plt"
   ]
  },
  {
   "cell_type": "code",
   "execution_count": null,
   "id": "f709fdeb",
   "metadata": {},
   "outputs": [],
   "source": [
    "df = load_data()\n",
    "df2 = df[df['col2'] < 0]\n",
    "df2['col1_demeaned'] = df2['col1'] - df2['col1'].mean()\n",
    "result = df2.groupby('key').col1_demeaned.std()"
   ]
  },
  {
   "cell_type": "code",
   "execution_count": null,
   "id": "1ee63e2b",
   "metadata": {},
   "outputs": [],
   "source": [
    "# Usual non-functional way\n",
    "df2 = df.copy()\n",
    "df2['k'] = v\n",
    "\n",
    "# Functional assign way\n",
    "df2 = df.assign(k=v)"
   ]
  },
  {
   "cell_type": "code",
   "execution_count": null,
   "id": "1c08486f",
   "metadata": {},
   "outputs": [],
   "source": [
    "result = (df2.assign(col1_demeaned=df2.col1 - df2.col2.mean())\n",
    "          .groupby('key')\n",
    "          .col1_demeaned.std())"
   ]
  },
  {
   "cell_type": "code",
   "execution_count": null,
   "id": "9bb9750b",
   "metadata": {},
   "outputs": [],
   "source": [
    "df = load_data()\n",
    "df2 = df[df['col2'] < 0]"
   ]
  },
  {
   "cell_type": "code",
   "execution_count": null,
   "id": "04c63fa1",
   "metadata": {},
   "outputs": [],
   "source": [
    "df = (load_data()\n",
    "      [lambda x: x['col2'] < 0])"
   ]
  },
  {
   "cell_type": "code",
   "execution_count": null,
   "id": "da5ff194",
   "metadata": {},
   "outputs": [],
   "source": [
    "result = (load_data()\n",
    "          [lambda x: x.col2 < 0]\n",
    "          .assign(col1_demeaned=lambda x: x.col1 - x.col1.mean())\n",
    "          .groupby('key')\n",
    "          .col1_demeaned.std())"
   ]
  },
  {
   "cell_type": "markdown",
   "id": "e5b58a78",
   "metadata": {},
   "source": [
    "### pipe（管道）方法"
   ]
  },
  {
   "cell_type": "code",
   "execution_count": null,
   "id": "2820991d",
   "metadata": {},
   "outputs": [],
   "source": [
    "a = f(df, arg1=v1)\n",
    "b = g(a, v2, arg3=v3)\n",
    "c = h(b, arg4=v4)"
   ]
  },
  {
   "cell_type": "code",
   "execution_count": null,
   "id": "3ea7aaef",
   "metadata": {},
   "outputs": [],
   "source": [
    "result = (df.pipe(f, arg1=v1)\n",
    "          .pipe(g, v2, arg3=v3)\n",
    "          .pipe(h, arg4=v4))"
   ]
  },
  {
   "cell_type": "code",
   "execution_count": null,
   "id": "57aa2fd7",
   "metadata": {},
   "outputs": [],
   "source": [
    "g = df.groupby(['key1', 'key2'])\n",
    "df['col1'] = df['col1'] - g.transform('mean')"
   ]
  },
  {
   "cell_type": "code",
   "execution_count": null,
   "id": "0df35ca9",
   "metadata": {},
   "outputs": [],
   "source": [
    "def group_demean(df, by, cols):\n",
    "    result = df.copy()\n",
    "    g = df.groupby(by)\n",
    "    for c in cols:\n",
    "        result[c] = df[c] - g[c].transform('mean')\n",
    "    return result"
   ]
  },
  {
   "cell_type": "code",
   "execution_count": null,
   "id": "d1684df9",
   "metadata": {},
   "outputs": [],
   "source": [
    "result = (df[df.col1 < 0]\n",
    "          .pipe(group_demean, ['key1', 'key2'], ['col1']))"
   ]
  },
  {
   "cell_type": "code",
   "execution_count": null,
   "id": "7c25bcc0",
   "metadata": {},
   "outputs": [],
   "source": []
  }
 ],
 "metadata": {
  "kernelspec": {
   "display_name": "Python 3 (ipykernel)",
   "language": "python",
   "name": "python3"
  },
  "language_info": {
   "codemirror_mode": {
    "name": "ipython",
    "version": 3
   },
   "file_extension": ".py",
   "mimetype": "text/x-python",
   "name": "python",
   "nbconvert_exporter": "python",
   "pygments_lexer": "ipython3",
   "version": "3.7.3"
  }
 },
 "nbformat": 4,
 "nbformat_minor": 5
}
