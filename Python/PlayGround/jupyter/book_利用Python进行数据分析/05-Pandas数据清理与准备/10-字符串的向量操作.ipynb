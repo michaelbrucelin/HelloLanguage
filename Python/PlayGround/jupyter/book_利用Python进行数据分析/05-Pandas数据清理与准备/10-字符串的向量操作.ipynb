{
 "cells": [
  {
   "cell_type": "code",
   "execution_count": 1,
   "id": "965e1423",
   "metadata": {},
   "outputs": [],
   "source": [
    "import numpy as np\n",
    "import pandas as pd\n",
    "import matplotlib.pyplot as plt\n",
    "\n",
    "import re\n",
    "\n",
    "# pandas中的字符串操作都是通过Series和DataFrame的str属性调用的"
   ]
  },
  {
   "cell_type": "code",
   "execution_count": 2,
   "id": "beff17f5",
   "metadata": {},
   "outputs": [
    {
     "data": {
      "text/plain": [
       "Dave     dave@google.com\n",
       "Steve    steve@gmail.com\n",
       "Rob        rob@gmail.com\n",
       "Wes                  NaN\n",
       "dtype: object"
      ]
     },
     "execution_count": 2,
     "metadata": {},
     "output_type": "execute_result"
    }
   ],
   "source": [
    "data = {'Dave': 'dave@google.com', 'Steve': 'steve@gmail.com', 'Rob': 'rob@gmail.com', 'Wes': np.nan}\n",
    "data = pd.Series(data)\n",
    "data"
   ]
  },
  {
   "cell_type": "code",
   "execution_count": 3,
   "id": "c92c1619",
   "metadata": {},
   "outputs": [
    {
     "data": {
      "text/plain": [
       "Dave     False\n",
       "Steve     True\n",
       "Rob       True\n",
       "Wes        NaN\n",
       "dtype: object"
      ]
     },
     "execution_count": 3,
     "metadata": {},
     "output_type": "execute_result"
    }
   ],
   "source": [
    "data.str.contains('gmail')  # 检查每一项是否包含gmail"
   ]
  },
  {
   "cell_type": "code",
   "execution_count": 4,
   "id": "b20e00a7",
   "metadata": {},
   "outputs": [
    {
     "data": {
      "text/plain": [
       "Dave     [(dave, google, com)]\n",
       "Steve    [(steve, gmail, com)]\n",
       "Rob        [(rob, gmail, com)]\n",
       "Wes                        NaN\n",
       "dtype: object"
      ]
     },
     "execution_count": 4,
     "metadata": {},
     "output_type": "execute_result"
    }
   ],
   "source": [
    "pattern = r'([A-Z0-9._%+-]+)@([A-Z0-9.-]+)\\.([A-Z]{2,4})'\n",
    "\n",
    "data.str.findall(pattern, flags=re.IGNORECASE)"
   ]
  },
  {
   "cell_type": "code",
   "execution_count": 5,
   "id": "74d56201",
   "metadata": {},
   "outputs": [
    {
     "data": {
      "text/plain": [
       "Dave     True\n",
       "Steve    True\n",
       "Rob      True\n",
       "Wes       NaN\n",
       "dtype: object"
      ]
     },
     "execution_count": 5,
     "metadata": {},
     "output_type": "execute_result"
    }
   ],
   "source": [
    "matches = data.str.match(pattern, flags=re.IGNORECASE)\n",
    "matches"
   ]
  },
  {
   "cell_type": "code",
   "execution_count": 6,
   "id": "c64e1cfe",
   "metadata": {},
   "outputs": [],
   "source": [
    "# matches.str.get(1)\n",
    "# matches.str[0]       # 执行报错"
   ]
  },
  {
   "cell_type": "code",
   "execution_count": 7,
   "id": "a5c138c1",
   "metadata": {},
   "outputs": [
    {
     "data": {
      "text/plain": [
       "Dave     dave@\n",
       "Steve    steve\n",
       "Rob      rob@g\n",
       "Wes        NaN\n",
       "dtype: object"
      ]
     },
     "execution_count": 7,
     "metadata": {},
     "output_type": "execute_result"
    }
   ],
   "source": [
    "data.str[:5]"
   ]
  },
  {
   "cell_type": "code",
   "execution_count": 8,
   "id": "977a00e4",
   "metadata": {},
   "outputs": [],
   "source": [
    "# 一些pandas字符串方法\n",
    "# 方法           说明\n",
    "# cat          实现元素级的字符串连接操作，可指定分隔符\n",
    "# contains     返回是否包含某个模式/正则表达式的bool数组\n",
    "# count        返回表示个字符串是否含有指定模式的布尔型数组\n",
    "# extract      使用带分组的正则表达式从字符串Series提取一个或多个字符串，结果是一个DataFrame，每组有一列\n",
    "# endswith     相当于对每个元素执行x.endswith(pattern)\n",
    "# startswith   相当于对每个元素执行x.startswith(pattern)\n",
    "# findall      计算各字符串的模式列表\n",
    "# get          获取各元素的第i个字符\n",
    "# isalnum      相当于内置的str.alnum\n",
    "# isalpha      相当于内置的str.isalpha\n",
    "# isdecimal    相当于内置的str.isdecimal\n",
    "# isdigit      相当于内置的str.isdigit\n",
    "# islower      相当于内置的str.islower\n",
    "# isnumeric    相当于内置的str.isnumeric\n",
    "# isupper      相当于内置的str.isupper\n",
    "# join         根据指定的分隔符将Series中各元素的字符串连接起来\n",
    "# len          计算各字符串的长度\n",
    "# lower;upper  转换大小写c相当于对各个元素执行x.lower()或x.upperO\n",
    "# match        根据指定的正则表达式对各个元素执行re.match,返回匹配的组为列表\n",
    "# pad          在字符串的左边、右边或两边添加空白符\n",
    "# center       相当于pad(side='both')\n",
    "# repeat       重复值。例如，s.str.repeat⑶相当于对各个字符串执行x*3\n",
    "# replace      用指定字符串替换找到的模式\n",
    "# slice        对Series中的各个字符串进行子串截取\n",
    "# split        根据分隔符或正则表达式对字符串进行拆分\n",
    "# strip        去除两边的空白符，包括新行\n",
    "# rstrip       去除右边的空白符\n",
    "# lstrip       去除左边的空白符"
   ]
  },
  {
   "cell_type": "code",
   "execution_count": null,
   "id": "6ef1afc6",
   "metadata": {},
   "outputs": [],
   "source": []
  }
 ],
 "metadata": {
  "kernelspec": {
   "display_name": "Python 3",
   "language": "python",
   "name": "python3"
  },
  "language_info": {
   "codemirror_mode": {
    "name": "ipython",
    "version": 3
   },
   "file_extension": ".py",
   "mimetype": "text/x-python",
   "name": "python",
   "nbconvert_exporter": "python",
   "pygments_lexer": "ipython3",
   "version": "3.7.3"
  }
 },
 "nbformat": 4,
 "nbformat_minor": 5
}
