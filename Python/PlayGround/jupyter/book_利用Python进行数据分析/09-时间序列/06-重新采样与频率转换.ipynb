{
 "cells": [
  {
   "cell_type": "code",
   "execution_count": 1,
   "id": "eddab198",
   "metadata": {},
   "outputs": [],
   "source": [
    "import numpy as np\n",
    "import pandas as pd\n",
    "import matplotlib.pyplot as plt\n",
    "\n",
    "from datetime import datetime"
   ]
  },
  {
   "cell_type": "raw",
   "id": "8f30429b",
   "metadata": {},
   "source": [
    "重新采样（resampling）指的是将时间序列从一个频率转换到另一个频率的处理过程。\n",
    "将高频率数据聚合到低频率称为向下采样（downsampling），而将低频率数据转换到高频率则称为向上采样（upsampling）。\n",
    "并不是所有的重新采样都能被划分到这两个大类中。例如，将W-WED（每周三）转换为W-FRI既不是向下采样也不是向上采样。\n",
    "\n",
    "pandas对象都带有一个resample方法，它是各种频率转换工作的主力（工具）函数。resample拥有一个类似于groupby的API，调用resample可以分组数据，然后会调用一个聚合函数。"
   ]
  },
  {
   "cell_type": "raw",
   "id": "2e635dcd",
   "metadata": {},
   "source": [
    "一些esample方法的参数\n",
    "freq           表示重新采样频率的字符串或DeteOffset，例如'M', '5min'或Second(15)\n",
    "axis           重新采样的轴，默认为axis=0\n",
    "fill_method    向上采样如何插值，比如'ffill'或'bfill'，默认不插值\n",
    "closed         在向下采样中，各时间段的哪一端是闭合（即包含）的，right或left。默认是right\n",
    "label          在向下采样中，如何设置聚合值的标签，right或left（面元的右边界或左边界），默认为right。例如9:30到9:35之间的这5分钟会被标记为9:30或9:35\n",
    "loffset        面元标签的时间校正值，比如'-ls'/Second(-l)用于将聚合标签调早1秒\n",
    "limit          在前向或后向填充时，允许填充的最大时期数\n",
    "kind           聚合到周期（'period'）或时间戳（'timestamp'），默认聚合到时间序列的索引类型\n",
    "convention     当对周期进行重新采样，将低频周期转换为高频的惯用法（'start'或'end'），默认是'end'"
   ]
  },
  {
   "cell_type": "code",
   "execution_count": null,
   "id": "483145f7",
   "metadata": {},
   "outputs": [],
   "source": []
  }
 ],
 "metadata": {
  "kernelspec": {
   "display_name": "Python 3",
   "language": "python",
   "name": "python3"
  },
  "language_info": {
   "codemirror_mode": {
    "name": "ipython",
    "version": 3
   },
   "file_extension": ".py",
   "mimetype": "text/x-python",
   "name": "python",
   "nbconvert_exporter": "python",
   "pygments_lexer": "ipython3",
   "version": "3.7.3"
  }
 },
 "nbformat": 4,
 "nbformat_minor": 5
}
