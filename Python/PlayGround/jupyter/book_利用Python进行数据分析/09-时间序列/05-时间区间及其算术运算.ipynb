{
 "cells": [
  {
   "cell_type": "code",
   "execution_count": 1,
   "id": "4ae69701",
   "metadata": {},
   "outputs": [],
   "source": [
    "import numpy as np\n",
    "import pandas as pd\n",
    "import matplotlib.pyplot as plt\n",
    "\n",
    "from datetime import datetime"
   ]
  },
  {
   "cell_type": "code",
   "execution_count": 2,
   "id": "2de9e207",
   "metadata": {},
   "outputs": [
    {
     "data": {
      "text/plain": [
       "Period('2007', 'A-DEC')"
      ]
     },
     "execution_count": 2,
     "metadata": {},
     "output_type": "execute_result"
    }
   ],
   "source": [
    "# Period类表示时间区间（时间范围）\n",
    "p = pd.Period(2007, freq='A-DEC')  # 这个Period对象表示的是从2007年1月1日到2007年12月31日之间的整段时间\n",
    "p"
   ]
  },
  {
   "cell_type": "code",
   "execution_count": 5,
   "id": "8ffad367",
   "metadata": {},
   "outputs": [
    {
     "data": {
      "text/plain": [
       "Period('2012', 'A-DEC')"
      ]
     },
     "metadata": {},
     "output_type": "display_data"
    },
    {
     "data": {
      "text/plain": [
       "Period('2005', 'A-DEC')"
      ]
     },
     "metadata": {},
     "output_type": "display_data"
    }
   ],
   "source": [
    "display(p + 5)  # 时间区间可以这样简单的移位\n",
    "display(p - 2)"
   ]
  },
  {
   "cell_type": "code",
   "execution_count": 6,
   "id": "9eeec9ee",
   "metadata": {},
   "outputs": [
    {
     "data": {
      "text/plain": [
       "<7 * YearEnds: month=12>"
      ]
     },
     "execution_count": 6,
     "metadata": {},
     "output_type": "execute_result"
    }
   ],
   "source": [
    "pd.Period('2014', freq='A-DEC') - p  # 如果两个时间区间具有相同的频率，它们的差是它们之间的单位数"
   ]
  },
  {
   "cell_type": "code",
   "execution_count": 7,
   "id": "d92c584e",
   "metadata": {},
   "outputs": [
    {
     "data": {
      "text/plain": [
       "PeriodIndex(['2000-01', '2000-02', '2000-03', '2000-04', '2000-05', '2000-06'], dtype='period[M]', freq='M')"
      ]
     },
     "execution_count": 7,
     "metadata": {},
     "output_type": "execute_result"
    }
   ],
   "source": [
    "rng = pd.period_range('2000-01-01', '2000-06-30', freq='M')  # period_range函数可用于创建规则的period序列\n",
    "rng"
   ]
  },
  {
   "cell_type": "code",
   "execution_count": 8,
   "id": "1e721fe7",
   "metadata": {},
   "outputs": [
    {
     "data": {
      "text/plain": [
       "2000-01    0.857277\n",
       "2000-02    0.212152\n",
       "2000-03    0.839315\n",
       "2000-04    0.916836\n",
       "2000-05    0.056873\n",
       "2000-06   -0.854146\n",
       "Freq: M, dtype: float64"
      ]
     },
     "execution_count": 8,
     "metadata": {},
     "output_type": "execute_result"
    }
   ],
   "source": [
    "pd.Series(np.random.randn(6), index=rng)  # period序列可以作为pandas数据结构的索引"
   ]
  },
  {
   "cell_type": "code",
   "execution_count": 9,
   "id": "c9b2b865",
   "metadata": {},
   "outputs": [
    {
     "data": {
      "text/plain": [
       "PeriodIndex(['2001Q3', '2002Q2', '2003Q1'], dtype='period[Q-DEC]', freq='Q-DEC')"
      ]
     },
     "execution_count": 9,
     "metadata": {},
     "output_type": "execute_result"
    }
   ],
   "source": [
    "values = ['2001Q3', '2002Q2', '2003Q1']\n",
    "index = pd.PeriodIndex(values, freq='Q-DEC')  # 字符串数组与PeriodIndex类\n",
    "index"
   ]
  },
  {
   "cell_type": "markdown",
   "id": "b00f4cb1",
   "metadata": {},
   "source": [
    "### 区间频率的转换"
   ]
  },
  {
   "cell_type": "code",
   "execution_count": 10,
   "id": "d53ecb06",
   "metadata": {},
   "outputs": [
    {
     "data": {
      "text/plain": [
       "Period('2007', 'A-DEC')"
      ]
     },
     "metadata": {},
     "output_type": "display_data"
    },
    {
     "data": {
      "text/plain": [
       "Period('2007-01', 'M')"
      ]
     },
     "metadata": {},
     "output_type": "display_data"
    },
    {
     "data": {
      "text/plain": [
       "Period('2007-12', 'M')"
      ]
     },
     "metadata": {},
     "output_type": "display_data"
    }
   ],
   "source": [
    "p = pd.Period('2007', freq='A-DEC')\n",
    "display(p)\n",
    "display(p.asfreq('M', how='start'))\n",
    "display(p.asfreq('M', how='end'))"
   ]
  },
  {
   "cell_type": "code",
   "execution_count": 11,
   "id": "b9e4e514",
   "metadata": {},
   "outputs": [
    {
     "data": {
      "text/plain": [
       "Period('2007', 'A-JUN')"
      ]
     },
     "metadata": {},
     "output_type": "display_data"
    },
    {
     "data": {
      "text/plain": [
       "Period('2006-07', 'M')"
      ]
     },
     "metadata": {},
     "output_type": "display_data"
    },
    {
     "data": {
      "text/plain": [
       "Period('2007-06', 'M')"
      ]
     },
     "metadata": {},
     "output_type": "display_data"
    }
   ],
   "source": [
    "p = pd.Period('2007', freq='A-JUN')\n",
    "display(p)\n",
    "display(p.asfreq('M', 'start'))\n",
    "display(p.asfreq('M', 'end'))"
   ]
  },
  {
   "cell_type": "code",
   "execution_count": null,
   "id": "e7a9de6a",
   "metadata": {},
   "outputs": [],
   "source": []
  }
 ],
 "metadata": {
  "kernelspec": {
   "display_name": "Python 3",
   "language": "python",
   "name": "python3"
  },
  "language_info": {
   "codemirror_mode": {
    "name": "ipython",
    "version": 3
   },
   "file_extension": ".py",
   "mimetype": "text/x-python",
   "name": "python",
   "nbconvert_exporter": "python",
   "pygments_lexer": "ipython3",
   "version": "3.7.3"
  }
 },
 "nbformat": 4,
 "nbformat_minor": 5
}
