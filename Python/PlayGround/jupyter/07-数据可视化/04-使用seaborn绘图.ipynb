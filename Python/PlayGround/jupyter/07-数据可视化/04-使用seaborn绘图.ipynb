{
 "cells": [
  {
   "cell_type": "code",
   "execution_count": 1,
   "id": "af808219",
   "metadata": {},
   "outputs": [],
   "source": [
    "import numpy as np\n",
    "import pandas as pd\n",
    "import matplotlib.pyplot as plt\n",
    "\n",
    "import seaborn as sns"
   ]
  },
  {
   "cell_type": "raw",
   "id": "0bc36cca",
   "metadata": {},
   "source": [
    "seaborn是一个统计图形库，简化了很多常用可视化类型的创建\n",
    "如果在绘图前需要先聚合或汇总数据，使用seaborn会更简单"
   ]
  },
  {
   "cell_type": "code",
   "execution_count": 2,
   "id": "de743e35",
   "metadata": {},
   "outputs": [
    {
     "data": {
      "text/plain": [
       "<AxesSubplot:xlabel='day'>"
      ]
     },
     "execution_count": 2,
     "metadata": {},
     "output_type": "execute_result"
    },
    {
     "data": {
      "image/png": "[encoded data removed]",
      "text/plain": [
       "<Figure size 432x288 with 1 Axes>"
      ]
     },
     "metadata": {
      "needs_background": "light"
     },
     "output_type": "display_data"
    }
   ],
   "source": [
    "# 如果使用pandas绘图\n",
    "tips = pd.read_csv('data/tips.csv')\n",
    "party_counts = pd.crosstab(tips['day'], tips['size'])       # crosstab()\n",
    "party_pcts = party_counts.div(party_counts.sum(1), axis=0)  # 标准化至和为1，即进行标准化以确保每一行值的和为1\n",
    "\n",
    "party_pcts.plot.bar()"
   ]
  },
  {
   "cell_type": "code",
   "execution_count": null,
   "id": "691dda37",
   "metadata": {},
   "outputs": [],
   "source": [
    "# 使用seaborn绘图\n",
    "tips = pd.read_csv('data/tips.csv')"
   ]
  }
 ],
 "metadata": {
  "kernelspec": {
   "display_name": "Python 3",
   "language": "python",
   "name": "python3"
  },
  "language_info": {
   "codemirror_mode": {
    "name": "ipython",
    "version": 3
   },
   "file_extension": ".py",
   "mimetype": "text/x-python",
   "name": "python",
   "nbconvert_exporter": "python",
   "pygments_lexer": "ipython3",
   "version": "3.7.3"
  }
 },
 "nbformat": 4,
 "nbformat_minor": 5
}
