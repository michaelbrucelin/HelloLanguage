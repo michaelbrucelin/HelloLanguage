{
 "cells": [
  {
   "cell_type": "code",
   "execution_count": 1,
   "id": "e0ab6639",
   "metadata": {},
   "outputs": [],
   "source": [
    "from sympy import Symbol, symbols, factor, expand\n",
    "import sympy"
   ]
  },
  {
   "cell_type": "code",
   "execution_count": 2,
   "id": "59bef259",
   "metadata": {},
   "outputs": [
    {
     "data": {
      "text/latex": [
       "$\\displaystyle 9$"
      ],
      "text/plain": [
       "9"
      ]
     },
     "execution_count": 2,
     "metadata": {},
     "output_type": "execute_result"
    }
   ],
   "source": [
    "x = Symbol('x')\n",
    "y = Symbol('y')\n",
    "expr = x*x + 2*x*y + y*y\n",
    "expr.subs({x:1, y:2})  # 把值代入表达式并求解"
   ]
  },
  {
   "cell_type": "code",
   "execution_count": 3,
   "id": "a8dfcdfb",
   "metadata": {},
   "outputs": [
    {
     "data": {
      "text/latex": [
       "$\\displaystyle y^{2} + 2 y \\left(1 - y\\right) + \\left(1 - y\\right)^{2}$"
      ],
      "text/plain": [
       "y**2 + 2*y*(1 - y) + (1 - y)**2"
      ]
     },
     "execution_count": 3,
     "metadata": {},
     "output_type": "execute_result"
    }
   ],
   "source": [
    "expr.subs({x:1-y})  # 把一个表达式代入"
   ]
  },
  {
   "cell_type": "code",
   "execution_count": 4,
   "id": "cb1f22b9",
   "metadata": {},
   "outputs": [
    {
     "data": {
      "text/latex": [
       "$\\displaystyle 1$"
      ],
      "text/plain": [
       "1"
      ]
     },
     "execution_count": 4,
     "metadata": {},
     "output_type": "execute_result"
    }
   ],
   "source": [
    "expr_subs = expr.subs({x:1-y})\n",
    "sympy.simplify(expr_subs)  # <==> expand(expr_subs) 简化表达式"
   ]
  },
  {
   "cell_type": "code",
   "execution_count": 5,
   "id": "65d59897",
   "metadata": {},
   "outputs": [
    {
     "name": "stdout",
     "output_type": "stream",
     "text": [
      "Enter the number of terms you want in the series: 5\n",
      "Enter the value of x at which you want to evaluate the series: 1.2\n",
      "     2    3    4    5\n",
      "    x    x    x    x \n",
      "x + ── + ── + ── + ──\n",
      "    2    3    4    5 \n",
      "Value of the series at 1.2: 3.51206400000000\n"
     ]
    }
   ],
   "source": [
    "# 计算之前的级数\n",
    "from sympy import Symbol, pprint, init_printing\n",
    "\n",
    "def print_series(n, x_value):\n",
    "    init_printing(order='rev-lex')\n",
    "    \n",
    "    x = Symbol('x')\n",
    "    series = x\n",
    "    for i in range(2, n+1):\n",
    "        series = series + (x**i)/i\n",
    "    \n",
    "    pprint(series)\n",
    "    \n",
    "    series_value = series.subs({x:x_value})\n",
    "    print('Value of the series at {0}: {1}'.format(x_value, series_value))\n",
    "    \n",
    "if __name__ == '__main__':\n",
    "    n = input('Enter the number of terms you want in the series: ')\n",
    "    x_value = input('Enter the value of x at which you want to evaluate the series: ')\n",
    "    print_series(int(n), float(x_value))"
   ]
  },
  {
   "cell_type": "code",
   "execution_count": null,
   "id": "d20301d6",
   "metadata": {},
   "outputs": [],
   "source": []
  }
 ],
 "metadata": {
  "kernelspec": {
   "display_name": "Python 3",
   "language": "python",
   "name": "python3"
  },
  "language_info": {
   "codemirror_mode": {
    "name": "ipython",
    "version": 3
   },
   "file_extension": ".py",
   "mimetype": "text/x-python",
   "name": "python",
   "nbconvert_exporter": "python",
   "pygments_lexer": "ipython3",
   "version": "3.7.3"
  }
 },
 "nbformat": 4,
 "nbformat_minor": 5
}
