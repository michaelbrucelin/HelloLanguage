{
 "cells": [
  {
   "cell_type": "code",
   "execution_count": 2,
   "id": "6b722802",
   "metadata": {},
   "outputs": [],
   "source": [
    "import numpy as np\n",
    "import pandas as pd\n",
    "import matplotlib.pyplot as plt"
   ]
  },
  {
   "cell_type": "code",
   "execution_count": 8,
   "id": "b2d64ebd",
   "metadata": {},
   "outputs": [
    {
     "data": {
      "text/plain": [
       "array([[0.36046169, 0.34437225, 0.30614335, 0.19754558, 0.75735393],\n",
       "       [0.28931543, 0.09745315, 0.49072527, 0.55016548, 0.47838412]])"
      ]
     },
     "execution_count": 8,
     "metadata": {},
     "output_type": "execute_result"
    }
   ],
   "source": [
    "np.random.rand(2, 5)"
   ]
  },
  {
   "cell_type": "code",
   "execution_count": 12,
   "id": "e93938d3",
   "metadata": {},
   "outputs": [
    {
     "data": {
      "text/plain": [
       "5.681217194499819"
      ]
     },
     "execution_count": 12,
     "metadata": {},
     "output_type": "execute_result"
    }
   ],
   "source": [
    "np.random.normal(10, 20)"
   ]
  },
  {
   "cell_type": "code",
   "execution_count": 8,
   "id": "5e933aa3",
   "metadata": {},
   "outputs": [
    {
     "data": {
      "text/plain": [
       "array([4, 9, 7, 1, 3, 2, 9, 1, 1, 6, 4, 7, 7, 6, 6, 2, 6, 8, 2, 9, 2, 1,\n",
       "       2, 2, 4, 9, 9, 9, 9, 2, 3, 6, 3, 6, 2, 2, 0, 2, 3, 1, 1, 3, 1, 5,\n",
       "       0, 9, 9, 0, 7, 8, 3, 0, 8, 8, 4, 9, 2, 9, 8, 3, 0, 6, 6, 7, 0, 6,\n",
       "       4, 4, 2, 6, 6, 7, 0, 9, 4, 0, 1, 8, 7, 5, 1, 2, 3, 4, 3, 9, 9, 8,\n",
       "       3, 0, 7, 0, 3, 3, 9, 7, 0, 2, 9, 5])"
      ]
     },
     "execution_count": 8,
     "metadata": {},
     "output_type": "execute_result"
    }
   ],
   "source": [
    "np.random.randint(0, 10, 100)"
   ]
  },
  {
   "cell_type": "code",
   "execution_count": null,
   "id": "382df80f",
   "metadata": {},
   "outputs": [],
   "source": []
  }
 ],
 "metadata": {
  "kernelspec": {
   "display_name": "Python 3",
   "language": "python",
   "name": "python3"
  },
  "language_info": {
   "codemirror_mode": {
    "name": "ipython",
    "version": 3
   },
   "file_extension": ".py",
   "mimetype": "text/x-python",
   "name": "python",
   "nbconvert_exporter": "python",
   "pygments_lexer": "ipython3",
   "version": "3.7.3"
  }
 },
 "nbformat": 4,
 "nbformat_minor": 5
}
