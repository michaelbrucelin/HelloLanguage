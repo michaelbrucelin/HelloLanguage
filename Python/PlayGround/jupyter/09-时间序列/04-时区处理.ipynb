{
 "cells": [
  {
   "cell_type": "code",
   "execution_count": 1,
   "id": "97801c17",
   "metadata": {},
   "outputs": [],
   "source": [
    "import numpy as np\n",
    "import pandas as pd\n",
    "import matplotlib.pyplot as plt\n",
    "\n",
    "from datetime import datetime\n",
    "\n",
    "# 在Python中，时区信息来自第三方库pytz，它使Python可以使用Olson数据库（汇编了世界时区信息）。\n",
    "import pytz  # pytz是三方库，已经被封装到了pandas中"
   ]
  },
  {
   "cell_type": "code",
   "execution_count": 2,
   "id": "ad4081d6",
   "metadata": {},
   "outputs": [
    {
     "data": {
      "text/plain": [
       "['UTC', 'Universal', 'W-SU', 'WET', 'Zulu']"
      ]
     },
     "execution_count": 2,
     "metadata": {},
     "output_type": "execute_result"
    }
   ],
   "source": [
    "pytz.all_timezones[-5:]  # 查看时区名称"
   ]
  },
  {
   "cell_type": "code",
   "execution_count": 3,
   "id": "a6f44c08",
   "metadata": {},
   "outputs": [
    {
     "data": {
      "text/plain": [
       "['US/Eastern', 'US/Hawaii', 'US/Mountain', 'US/Pacific', 'UTC']"
      ]
     },
     "execution_count": 3,
     "metadata": {},
     "output_type": "execute_result"
    }
   ],
   "source": [
    "pytz.common_timezones[-5:]  # 查看时区名称"
   ]
  },
  {
   "cell_type": "code",
   "execution_count": 4,
   "id": "8b027ae3",
   "metadata": {},
   "outputs": [
    {
     "data": {
      "text/plain": [
       "['Asia/Shanghai', 'Asia/Urumqi']"
      ]
     },
     "execution_count": 4,
     "metadata": {},
     "output_type": "execute_result"
    }
   ],
   "source": [
    "pytz.country_timezones['cn']  # 查看时区名称"
   ]
  },
  {
   "cell_type": "code",
   "execution_count": 5,
   "id": "ee7345fb",
   "metadata": {},
   "outputs": [
    {
     "data": {
      "text/plain": [
       "<DstTzInfo 'America/New_York' LMT-1 day, 19:04:00 STD>"
      ]
     },
     "execution_count": 5,
     "metadata": {},
     "output_type": "execute_result"
    }
   ],
   "source": [
    "tz = pytz.timezone('America/New_York')\n",
    "tz"
   ]
  },
  {
   "cell_type": "markdown",
   "id": "5d18075f",
   "metadata": {},
   "source": [
    "### 时区的本地化和转换"
   ]
  },
  {
   "cell_type": "code",
   "execution_count": 6,
   "id": "c8828f5f",
   "metadata": {},
   "outputs": [
    {
     "data": {
      "text/plain": [
       "2012-03-09 09:30:00   -0.562849\n",
       "2012-03-10 09:30:00    0.614060\n",
       "2012-03-11 09:30:00    0.507922\n",
       "2012-03-12 09:30:00    2.574126\n",
       "2012-03-13 09:30:00    0.946553\n",
       "2012-03-14 09:30:00   -0.431115\n",
       "Freq: D, dtype: float64"
      ]
     },
     "execution_count": 6,
     "metadata": {},
     "output_type": "execute_result"
    }
   ],
   "source": [
    "rng = pd.date_range('3/9/2012 9:30', periods=6, freq='D')\n",
    "ts = pd.Series(np.random.randn(len(rng)), index=rng)\n",
    "ts"
   ]
  },
  {
   "cell_type": "code",
   "execution_count": 7,
   "id": "d77e07e4",
   "metadata": {},
   "outputs": [
    {
     "name": "stdout",
     "output_type": "stream",
     "text": [
      "None\n"
     ]
    }
   ],
   "source": [
    "print(ts.index.tz)"
   ]
  },
  {
   "cell_type": "code",
   "execution_count": 8,
   "id": "d247bb78",
   "metadata": {},
   "outputs": [
    {
     "data": {
      "text/plain": [
       "DatetimeIndex(['2012-03-09 09:30:00+00:00', '2012-03-10 09:30:00+00:00',\n",
       "               '2012-03-11 09:30:00+00:00', '2012-03-12 09:30:00+00:00',\n",
       "               '2012-03-13 09:30:00+00:00', '2012-03-14 09:30:00+00:00',\n",
       "               '2012-03-15 09:30:00+00:00', '2012-03-16 09:30:00+00:00',\n",
       "               '2012-03-17 09:30:00+00:00', '2012-03-18 09:30:00+00:00'],\n",
       "              dtype='datetime64[ns, UTC]', freq='D')"
      ]
     },
     "execution_count": 8,
     "metadata": {},
     "output_type": "execute_result"
    }
   ],
   "source": [
    "pd.date_range('3/9/2012 9:30', periods=10, freq='D', tz='UTC')  # 通过时区集合来生成日期范围"
   ]
  },
  {
   "cell_type": "code",
   "execution_count": 9,
   "id": "e5f12315",
   "metadata": {},
   "outputs": [
    {
     "data": {
      "text/plain": [
       "2012-03-09 09:30:00+00:00   -0.562849\n",
       "2012-03-10 09:30:00+00:00    0.614060\n",
       "2012-03-11 09:30:00+00:00    0.507922\n",
       "2012-03-12 09:30:00+00:00    2.574126\n",
       "2012-03-13 09:30:00+00:00    0.946553\n",
       "2012-03-14 09:30:00+00:00   -0.431115\n",
       "Freq: D, dtype: float64"
      ]
     },
     "execution_count": 9,
     "metadata": {},
     "output_type": "execute_result"
    }
   ],
   "source": [
    "ts_utc = ts.tz_localize('UTC')  # 初始化为UTC时间\n",
    "ts_utc"
   ]
  },
  {
   "cell_type": "code",
   "execution_count": 10,
   "id": "194d248d",
   "metadata": {},
   "outputs": [
    {
     "data": {
      "text/plain": [
       "DatetimeIndex(['2012-03-09 09:30:00+00:00', '2012-03-10 09:30:00+00:00',\n",
       "               '2012-03-11 09:30:00+00:00', '2012-03-12 09:30:00+00:00',\n",
       "               '2012-03-13 09:30:00+00:00', '2012-03-14 09:30:00+00:00'],\n",
       "              dtype='datetime64[ns, UTC]', freq='D')"
      ]
     },
     "execution_count": 10,
     "metadata": {},
     "output_type": "execute_result"
    }
   ],
   "source": [
    "ts_utc.index"
   ]
  },
  {
   "cell_type": "code",
   "execution_count": 11,
   "id": "c8cef7b2",
   "metadata": {},
   "outputs": [
    {
     "data": {
      "text/plain": [
       "2012-03-09 04:30:00-05:00   -0.562849\n",
       "2012-03-10 04:30:00-05:00    0.614060\n",
       "2012-03-11 05:30:00-04:00    0.507922\n",
       "2012-03-12 05:30:00-04:00    2.574126\n",
       "2012-03-13 05:30:00-04:00    0.946553\n",
       "2012-03-14 05:30:00-04:00   -0.431115\n",
       "Freq: D, dtype: float64"
      ]
     },
     "execution_count": 11,
     "metadata": {},
     "output_type": "execute_result"
    }
   ],
   "source": [
    "ts_utc.tz_convert('America/New_York')  # 从UTC转换为纽约所在的时区"
   ]
  },
  {
   "cell_type": "code",
   "execution_count": 12,
   "id": "d64d90fd",
   "metadata": {},
   "outputs": [
    {
     "data": {
      "text/plain": [
       "2012-03-09 14:30:00+00:00   -0.562849\n",
       "2012-03-10 14:30:00+00:00    0.614060\n",
       "2012-03-11 13:30:00+00:00    0.507922\n",
       "2012-03-12 13:30:00+00:00    2.574126\n",
       "2012-03-13 13:30:00+00:00    0.946553\n",
       "2012-03-14 13:30:00+00:00   -0.431115\n",
       "dtype: float64"
      ]
     },
     "execution_count": 12,
     "metadata": {},
     "output_type": "execute_result"
    }
   ],
   "source": [
    "ts_eastern = ts.tz_localize('America/New_York')  # 初始化为纽约所在的时区\n",
    "ts_eastern.tz_convert('UTC')  # 将纽约时间转换为UTC时间"
   ]
  },
  {
   "cell_type": "code",
   "execution_count": 13,
   "id": "2b85b2a6",
   "metadata": {},
   "outputs": [
    {
     "data": {
      "text/plain": [
       "2012-03-09 15:30:00+01:00   -0.562849\n",
       "2012-03-10 15:30:00+01:00    0.614060\n",
       "2012-03-11 14:30:00+01:00    0.507922\n",
       "2012-03-12 14:30:00+01:00    2.574126\n",
       "2012-03-13 14:30:00+01:00    0.946553\n",
       "2012-03-14 14:30:00+01:00   -0.431115\n",
       "dtype: float64"
      ]
     },
     "execution_count": 13,
     "metadata": {},
     "output_type": "execute_result"
    }
   ],
   "source": [
    "ts_eastern.tz_convert('Europe/Berlin')  # 将纽约时间转换为柏林时间"
   ]
  },
  {
   "cell_type": "code",
   "execution_count": 14,
   "id": "96d7c2cc",
   "metadata": {},
   "outputs": [
    {
     "data": {
      "text/plain": [
       "DatetimeIndex(['2012-03-09 09:30:00+08:00', '2012-03-10 09:30:00+08:00',\n",
       "               '2012-03-11 09:30:00+08:00', '2012-03-12 09:30:00+08:00',\n",
       "               '2012-03-13 09:30:00+08:00', '2012-03-14 09:30:00+08:00'],\n",
       "              dtype='datetime64[ns, Asia/Shanghai]', freq=None)"
      ]
     },
     "execution_count": 14,
     "metadata": {},
     "output_type": "execute_result"
    }
   ],
   "source": [
    "ts.index.tz_localize('Asia/Shanghai')  # tz_localize和tz_convert也是DatetimeIndex的实例方法"
   ]
  },
  {
   "cell_type": "code",
   "execution_count": null,
   "id": "31ac4736",
   "metadata": {},
   "outputs": [],
   "source": []
  }
 ],
 "metadata": {
  "kernelspec": {
   "display_name": "Python 3",
   "language": "python",
   "name": "python3"
  },
  "language_info": {
   "codemirror_mode": {
    "name": "ipython",
    "version": 3
   },
   "file_extension": ".py",
   "mimetype": "text/x-python",
   "name": "python",
   "nbconvert_exporter": "python",
   "pygments_lexer": "ipython3",
   "version": "3.7.3"
  }
 },
 "nbformat": 4,
 "nbformat_minor": 5
}
