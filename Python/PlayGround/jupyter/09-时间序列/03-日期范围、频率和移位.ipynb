{
 "cells": [
  {
   "cell_type": "code",
   "execution_count": 1,
   "id": "b6eba77f",
   "metadata": {},
   "outputs": [],
   "source": [
    "import numpy as np\n",
    "import pandas as pd\n",
    "import matplotlib.pyplot as plt\n",
    "\n",
    "from datetime import datetime"
   ]
  },
  {
   "cell_type": "code",
   "execution_count": 2,
   "id": "45d10b70",
   "metadata": {},
   "outputs": [],
   "source": [
    "dates = [datetime(2011, 1, 2), datetime(2011, 1, 5), datetime(2011, 1, 7),\n",
    "         datetime(2011, 1, 8), datetime(2011, 1, 10), datetime(2011, 1, 12)]\n",
    "ts = pd.Series(np.random.randn(6), index=dates)\n",
    "\n",
    "resampler = ts.resample('D')  # resample()方法可以将时间序列进行频率转换，也叫做重新采样"
   ]
  },
  {
   "cell_type": "markdown",
   "id": "1f10f63d",
   "metadata": {},
   "source": [
    "### 生成日期范围\n",
    "\n",
    "pandas.date_range可用于根据指定的频率生成指定长度的DatetimeIndex"
   ]
  },
  {
   "cell_type": "code",
   "execution_count": 3,
   "id": "b2e15af2",
   "metadata": {},
   "outputs": [
    {
     "data": {
      "text/plain": [
       "DatetimeIndex(['2012-04-01', '2012-04-02', '2012-04-03', '2012-04-04',\n",
       "               '2012-04-05', '2012-04-06', '2012-04-07', '2012-04-08',\n",
       "               '2012-04-09', '2012-04-10', '2012-04-11', '2012-04-12',\n",
       "               '2012-04-13', '2012-04-14', '2012-04-15', '2012-04-16',\n",
       "               '2012-04-17', '2012-04-18', '2012-04-19', '2012-04-20'],\n",
       "              dtype='datetime64[ns]', freq='D')"
      ]
     },
     "execution_count": 3,
     "metadata": {},
     "output_type": "execute_result"
    }
   ],
   "source": [
    "pd.date_range('2012-04-01', '2012-04-20')  # date_range默认生成的是每日时间戳"
   ]
  },
  {
   "cell_type": "code",
   "execution_count": 4,
   "id": "671df9a0",
   "metadata": {},
   "outputs": [
    {
     "data": {
      "text/plain": [
       "DatetimeIndex(['2012-04-01', '2012-04-02', '2012-04-03', '2012-04-04',\n",
       "               '2012-04-05', '2012-04-06', '2012-04-07', '2012-04-08',\n",
       "               '2012-04-09', '2012-04-10', '2012-04-11', '2012-04-12',\n",
       "               '2012-04-13', '2012-04-14', '2012-04-15', '2012-04-16',\n",
       "               '2012-04-17', '2012-04-18', '2012-04-19', '2012-04-20'],\n",
       "              dtype='datetime64[ns]', freq='D')"
      ]
     },
     "execution_count": 4,
     "metadata": {},
     "output_type": "execute_result"
    }
   ],
   "source": [
    "pd.date_range(start='2012-04-01', periods=20)"
   ]
  },
  {
   "cell_type": "code",
   "execution_count": 5,
   "id": "45c431aa",
   "metadata": {},
   "outputs": [
    {
     "data": {
      "text/plain": [
       "DatetimeIndex(['2012-04-01', '2012-04-02', '2012-04-03', '2012-04-04',\n",
       "               '2012-04-05', '2012-04-06', '2012-04-07', '2012-04-08',\n",
       "               '2012-04-09', '2012-04-10', '2012-04-11', '2012-04-12',\n",
       "               '2012-04-13', '2012-04-14', '2012-04-15', '2012-04-16',\n",
       "               '2012-04-17', '2012-04-18', '2012-04-19', '2012-04-20'],\n",
       "              dtype='datetime64[ns]', freq='D')"
      ]
     },
     "execution_count": 5,
     "metadata": {},
     "output_type": "execute_result"
    }
   ],
   "source": [
    "pd.date_range(end='2012-04-20', periods=20)"
   ]
  },
  {
   "cell_type": "code",
   "execution_count": 6,
   "id": "1650f103",
   "metadata": {},
   "outputs": [
    {
     "data": {
      "text/plain": [
       "DatetimeIndex(['2000-01-31', '2000-02-29', '2000-03-31', '2000-04-28',\n",
       "               '2000-05-31', '2000-06-30', '2000-07-31', '2000-08-31',\n",
       "               '2000-09-29', '2000-10-31', '2000-11-30'],\n",
       "              dtype='datetime64[ns]', freq='BM')"
      ]
     },
     "execution_count": 6,
     "metadata": {},
     "output_type": "execute_result"
    }
   ],
   "source": [
    "pd.date_range('2000-01-01', '2000-12-01', freq='BM')  # 指定频率，BM是每月月底，business end of month"
   ]
  },
  {
   "cell_type": "code",
   "execution_count": 7,
   "id": "b1758989",
   "metadata": {},
   "outputs": [
    {
     "data": {
      "text/plain": [
       "DatetimeIndex(['2012-05-02 12:56:31', '2012-05-03 12:56:31',\n",
       "               '2012-05-04 12:56:31', '2012-05-05 12:56:31',\n",
       "               '2012-05-06 12:56:31'],\n",
       "              dtype='datetime64[ns]', freq='D')"
      ]
     },
     "execution_count": 7,
     "metadata": {},
     "output_type": "execute_result"
    }
   ],
   "source": [
    "pd.date_range('2012-05-02 12:56:31', periods=5)  # 默认情况下，date_range保留开始或结束时间戳的时间（如果有的话）"
   ]
  },
  {
   "cell_type": "code",
   "execution_count": 8,
   "id": "db9d5de9",
   "metadata": {},
   "outputs": [
    {
     "data": {
      "text/plain": [
       "DatetimeIndex(['2012-05-02', '2012-05-03', '2012-05-04', '2012-05-05',\n",
       "               '2012-05-06'],\n",
       "              dtype='datetime64[ns]', freq='D')"
      ]
     },
     "execution_count": 8,
     "metadata": {},
     "output_type": "execute_result"
    }
   ],
   "source": [
    "pd.date_range('2012-05-02 12:56:31', periods=5, normalize=True)  # 将时间戳标准化为0点的时间"
   ]
  },
  {
   "cell_type": "raw",
   "id": "1212e301",
   "metadata": {},
   "source": [
    "一些基本的时间序列频率\n",
    "别名                     偏移量类型              说明\n",
    "D                        Day                     每日历日\n",
    "B                        BusinessDay             每工作日\n",
    "H                        Hour                    每小时\n",
    "T|min                    Minute                  每分\n",
    "S                        Second                  每秒\n",
    "L|ms                     Milli                   每毫秒（即每千分之一秒）\n",
    "U                        Micro                   每微秒（即每百万分之一秒）\n",
    "M                        MonthEnd                每月最后一个日历日\n",
    "BM                       BusinessMonthEnd        每月最后一个工作日\n",
    "MS                       MonthBegin              每月第一个日历日\n",
    "BMS                      BusinessMonthBegin      每月第一个工作日\n",
    "W-MON, W-TUE...          Week                    从指定的星期几(MON,TUE,WED,THU,FRI,SAT,SUN)开始算起，每周\n",
    "WOM-1MON, WOM-2MON...    WeekOfMonth             产生每月第一、第二、第三或第四周的星期几。例如WOM-3FRI表示每月第3个星期五\n",
    "Q-JAN, Q-FEB...          QuarterEnd              对于以指定月份(JAN,FEB,MAR,APR,MAY,JUN,JUL,AUG,SEP,OCT,NOV,DEC)结束的年度，每季度最后一月的最后一个日历日\n",
    "BQ-JAN, BQ-FEB...        BusinessQuarterEnd      对于以指定月份结束的年度，每季度最后一月的最后一个工作日\n",
    "QS-JAN, QS-FEB...        QuarterBegin            对于以指定月份结束的年度，每季度最后一月的第一个日历日\n",
    "BOS-JAN, BOS-FEB...      BusinessQuarterBegin    对于以指定月份结束的年度，每季度最后一月的第一个工作日\n",
    "A-JAN, A-FEB...          YearEnd                 每年指定月份(JAN,FEB,MAR,APR,MAY,JUN,JUL,AUG,SEP,OCT,NOV,DEC)的最后一个日历日\n",
    "BA-JAN, BA-FEB...        BusinessYearEnd         每年指定月份的最后一个工作日\n",
    "AS-JAN, AS-FEB...        YearBegin               每年指定月份的第一个日历日\n",
    "BAS-JAN, BAS-FEB...      BusinessYearBegin       每年指定月份的第一个工作日"
   ]
  },
  {
   "cell_type": "code",
   "execution_count": null,
   "id": "c895e357",
   "metadata": {},
   "outputs": [],
   "source": []
  }
 ],
 "metadata": {
  "kernelspec": {
   "display_name": "Python 3",
   "language": "python",
   "name": "python3"
  },
  "language_info": {
   "codemirror_mode": {
    "name": "ipython",
    "version": 3
   },
   "file_extension": ".py",
   "mimetype": "text/x-python",
   "name": "python",
   "nbconvert_exporter": "python",
   "pygments_lexer": "ipython3",
   "version": "3.7.3"
  }
 },
 "nbformat": 4,
 "nbformat_minor": 5
}
