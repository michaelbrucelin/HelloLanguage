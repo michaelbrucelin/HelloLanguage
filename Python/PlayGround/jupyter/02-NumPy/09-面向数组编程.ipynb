{
 "cells": [
  {
   "cell_type": "code",
   "execution_count": 1,
   "id": "378addd7",
   "metadata": {},
   "outputs": [],
   "source": [
    "import numpy as np\n",
    "# 面向数组编程，这里指的是在numpy中利用简单的数组表达式替代显示的循环，也称作向量化，类似于关系型数据库中的面向集合编程。"
   ]
  },
  {
   "cell_type": "code",
   "execution_count": 2,
   "id": "be213dd0",
   "metadata": {},
   "outputs": [
    {
     "data": {
      "text/plain": [
       "array([[7.07106781, 7.06400028, 7.05693985, ..., 7.04988652, 7.05693985,\n",
       "        7.06400028],\n",
       "       [7.06400028, 7.05692568, 7.04985815, ..., 7.04279774, 7.04985815,\n",
       "        7.05692568],\n",
       "       [7.05693985, 7.04985815, 7.04278354, ..., 7.03571603, 7.04278354,\n",
       "        7.04985815],\n",
       "       ...,\n",
       "       [7.04988652, 7.04279774, 7.03571603, ..., 7.0286414 , 7.03571603,\n",
       "        7.04279774],\n",
       "       [7.05693985, 7.04985815, 7.04278354, ..., 7.03571603, 7.04278354,\n",
       "        7.04985815],\n",
       "       [7.06400028, 7.05692568, 7.04985815, ..., 7.04279774, 7.04985815,\n",
       "        7.05692568]])"
      ]
     },
     "execution_count": 2,
     "metadata": {},
     "output_type": "execute_result"
    }
   ],
   "source": [
    "points = np.arange(-5, 5, 0.01)  # 1000个等间距的点\n",
    "xs, ys = np.meshgrid(points, points)  # np.meshgrid()接收两个一维数组，根据两个数组的所有(x,y)对生成一个二维矩阵\n",
    "xs\n",
    "\"\"\"\n",
    "array([[-5.  , -4.99, -4.98, ...,  4.97,  4.98,  4.99],\n",
    "       [-5.  , -4.99, -4.98, ...,  4.97,  4.98,  4.99],\n",
    "       [-5.  , -4.99, -4.98, ...,  4.97,  4.98,  4.99],\n",
    "       ...,\n",
    "       [-5.  , -4.99, -4.98, ...,  4.97,  4.98,  4.99],\n",
    "       [-5.  , -4.99, -4.98, ...,  4.97,  4.98,  4.99],\n",
    "       [-5.  , -4.99, -4.98, ...,  4.97,  4.98,  4.99]])\n",
    "\"\"\"\n",
    "ys\n",
    "\"\"\"\n",
    "array([[-5.  , -5.  , -5.  , ..., -5.  , -5.  , -5.  ],\n",
    "       [-4.99, -4.99, -4.99, ..., -4.99, -4.99, -4.99],\n",
    "       [-4.98, -4.98, -4.98, ..., -4.98, -4.98, -4.98],\n",
    "       ...,\n",
    "       [ 4.97,  4.97,  4.97, ...,  4.97,  4.97,  4.97],\n",
    "       [ 4.98,  4.98,  4.98, ...,  4.98,  4.98,  4.98],\n",
    "       [ 4.99,  4.99,  4.99, ...,  4.99,  4.99,  4.99]])\n",
    "\"\"\"\n",
    "\n",
    "z = np.sqrt(xs**2 + ys**2)\n",
    "z"
   ]
  },
  {
   "cell_type": "code",
   "execution_count": 3,
   "id": "33375a04",
   "metadata": {},
   "outputs": [
    {
     "data": {
      "text/plain": [
       "Text(0.5, 1.0, 'Image plot of $\\\\sqrt{x^2 + y^2}$ for a grid of values')"
      ]
     },
     "execution_count": 3,
     "metadata": {},
     "output_type": "execute_result"
    },
    {
     "data": {
      "image/png": "[encoded data removed]",
      "text/plain": [
       "<Figure size 432x288 with 2 Axes>"
      ]
     },
     "metadata": {
      "needs_background": "light"
     },
     "output_type": "display_data"
    }
   ],
   "source": [
    "# 对上面的二维数组进行可视化\n",
    "import matplotlib.pyplot as plt\n",
    "plt.imshow(z, cmap=plt.cm.gray); plt.colorbar()\n",
    "plt.title(\"Image plot of $\\sqrt{x^2 + y^2}$ for a grid of values\")"
   ]
  },
  {
   "cell_type": "code",
   "execution_count": 4,
   "id": "8b4d611a",
   "metadata": {},
   "outputs": [
    {
     "data": {
      "text/plain": [
       "<Figure size 432x288 with 0 Axes>"
      ]
     },
     "metadata": {},
     "output_type": "display_data"
    }
   ],
   "source": [
    "plt.draw()"
   ]
  },
  {
   "cell_type": "code",
   "execution_count": 5,
   "id": "1e8f3532",
   "metadata": {},
   "outputs": [],
   "source": [
    "plt.close('all')"
   ]
  },
  {
   "cell_type": "code",
   "execution_count": 6,
   "id": "e39be9a9",
   "metadata": {},
   "outputs": [
    {
     "data": {
      "text/plain": [
       "array([1.1, 2.2, 1.3, 1.4, 2.5])"
      ]
     },
     "execution_count": 6,
     "metadata": {},
     "output_type": "execute_result"
    }
   ],
   "source": [
    "# 将条件逻辑作为数组操作\n",
    "# numpy.where函数是python内建的 x if condition else y 的向量化版本\n",
    "xarr = np.array([1.1, 1.2, 1.3, 1.4, 1.5])\n",
    "yarr = np.array([2.1, 2.2, 2.3, 2.4, 2.5])\n",
    "cond = np.array([True, False, True, True, False])\n",
    "\n",
    "result = np.where(cond, xarr, yarr)\n",
    "result\n",
    "\n",
    "# 等价于 result = [(x if c else y) for x, y, c in zip(xarr, yarr, cond)]"
   ]
  },
  {
   "cell_type": "code",
   "execution_count": 7,
   "id": "1ab0eb3d",
   "metadata": {},
   "outputs": [
    {
     "data": {
      "text/plain": [
       "array([[ 2, -2,  2,  2],\n",
       "       [ 2, -2, -2, -2],\n",
       "       [ 2,  2, -2,  2],\n",
       "       [ 2, -2, -2, -2]])"
      ]
     },
     "execution_count": 7,
     "metadata": {},
     "output_type": "execute_result"
    }
   ],
   "source": [
    "# where在数据分析中的一个典型用法是根据一个数组来生成一个新的数组\n",
    "arr = np.random.randn(4, 4)\n",
    "np.where(arr>0, 2, -2)  # 将正值替换为2， 负值替换为-2"
   ]
  },
  {
   "cell_type": "code",
   "execution_count": 8,
   "id": "1d2bb174",
   "metadata": {},
   "outputs": [
    {
     "data": {
      "text/plain": [
       "array([[ 2.        , -0.41823659,  2.        ,  2.        ],\n",
       "       [ 2.        , -1.25512058, -0.42804933, -1.71654256],\n",
       "       [ 2.        ,  2.        , -2.70228214,  2.        ],\n",
       "       [ 2.        , -1.39791921, -2.87770829, -0.65608907]])"
      ]
     },
     "execution_count": 8,
     "metadata": {},
     "output_type": "execute_result"
    }
   ],
   "source": [
    "np.where(arr>0, 2, arr)  # 将正值替换为2，负值保持不变"
   ]
  },
  {
   "cell_type": "code",
   "execution_count": null,
   "id": "ccde98a2",
   "metadata": {},
   "outputs": [],
   "source": []
  }
 ],
 "metadata": {
  "kernelspec": {
   "display_name": "Python 3",
   "language": "python",
   "name": "python3"
  },
  "language_info": {
   "codemirror_mode": {
    "name": "ipython",
    "version": 3
   },
   "file_extension": ".py",
   "mimetype": "text/x-python",
   "name": "python",
   "nbconvert_exporter": "python",
   "pygments_lexer": "ipython3",
   "version": "3.7.3"
  }
 },
 "nbformat": 4,
 "nbformat_minor": 5
}
