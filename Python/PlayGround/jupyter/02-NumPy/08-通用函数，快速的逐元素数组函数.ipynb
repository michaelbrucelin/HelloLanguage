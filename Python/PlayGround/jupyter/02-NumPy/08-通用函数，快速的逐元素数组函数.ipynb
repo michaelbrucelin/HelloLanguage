{
 "cells": [
  {
   "cell_type": "code",
   "execution_count": 1,
   "id": "f5c03a8e",
   "metadata": {},
   "outputs": [],
   "source": [
    "import numpy as np\n",
    "# 通用函数，可称作ufunc，是一种在ndarray数据中进行逐元素操作的函数，通用函数通常就是鉴定单函数的向量化封装。"
   ]
  },
  {
   "cell_type": "code",
   "execution_count": 2,
   "id": "8bc3eb91",
   "metadata": {},
   "outputs": [
    {
     "data": {
      "text/plain": [
       "array([0.        , 1.        , 1.41421356, 1.73205081, 2.        ,\n",
       "       2.23606798, 2.44948974, 2.64575131, 2.82842712, 3.        ])"
      ]
     },
     "execution_count": 2,
     "metadata": {},
     "output_type": "execute_result"
    }
   ],
   "source": [
    "arr = np.arange(10)\n",
    "np.sqrt(arr)  # 平方根"
   ]
  },
  {
   "cell_type": "code",
   "execution_count": 3,
   "id": "5bb2e34b",
   "metadata": {},
   "outputs": [
    {
     "data": {
      "text/plain": [
       "array([1.00000000e+00, 2.71828183e+00, 7.38905610e+00, 2.00855369e+01,\n",
       "       5.45981500e+01, 1.48413159e+02, 4.03428793e+02, 1.09663316e+03,\n",
       "       2.98095799e+03, 8.10308393e+03])"
      ]
     },
     "execution_count": 3,
     "metadata": {},
     "output_type": "execute_result"
    }
   ],
   "source": [
    "np.exp(arr)  # 以e为底的幂运算"
   ]
  },
  {
   "cell_type": "code",
   "execution_count": 4,
   "id": "56644cb6",
   "metadata": {},
   "outputs": [
    {
     "data": {
      "text/plain": [
       "array([-0.48,  1.43,  0.18, -0.48,  0.2 ,  1.15,  0.86,  0.08])"
      ]
     },
     "execution_count": 4,
     "metadata": {},
     "output_type": "execute_result"
    }
   ],
   "source": [
    "x = np.array([-0.48, -1.43,  0.18, -0.48, -0.17, 1.15, -1.46, -0.07])  # x = np.random.randn(8)\n",
    "y = np.array([-1.18,  1.43, -0.65, -1.44,  0.20, 0.68,  0.86,  0.08])  # y = np.random.randn(8)\n",
    "np.maximum(x, y)"
   ]
  },
  {
   "cell_type": "code",
   "execution_count": 5,
   "id": "d66559b5",
   "metadata": {},
   "outputs": [
    {
     "data": {
      "text/plain": [
       "array([-1.66,  0.  , -0.47, -1.92,  0.03,  1.83, -0.6 ,  0.01])"
      ]
     },
     "execution_count": 5,
     "metadata": {},
     "output_type": "execute_result"
    }
   ],
   "source": [
    "np.add(x, y)"
   ]
  },
  {
   "cell_type": "code",
   "execution_count": 6,
   "id": "2efd1e7a",
   "metadata": {},
   "outputs": [],
   "source": [
    "arr = np.array([-10.85, -1.80, -0.37, -6.58, 8.89, 5.83, 3.21])  # arr = np.random.randn(7) * 5"
   ]
  },
  {
   "cell_type": "code",
   "execution_count": 7,
   "id": "a270f6f8",
   "metadata": {},
   "outputs": [
    {
     "data": {
      "text/plain": [
       "array([-0.85, -0.8 , -0.37, -0.58,  0.89,  0.83,  0.21])"
      ]
     },
     "execution_count": 7,
     "metadata": {},
     "output_type": "execute_result"
    }
   ],
   "source": [
    "remainder, whole_part = np.modf(arr)  # python内建的divmod()的向量版\n",
    "remainder"
   ]
  },
  {
   "cell_type": "code",
   "execution_count": 8,
   "id": "16c4b712",
   "metadata": {},
   "outputs": [
    {
     "data": {
      "text/plain": [
       "array([-10.,  -1.,  -0.,  -6.,   8.,   5.,   3.])"
      ]
     },
     "execution_count": 8,
     "metadata": {},
     "output_type": "execute_result"
    }
   ],
   "source": [
    "whole_part"
   ]
  },
  {
   "cell_type": "code",
   "execution_count": 9,
   "id": "ddb0d29f",
   "metadata": {},
   "outputs": [
    {
     "data": {
      "text/plain": [
       "array([ 4,  1,  0,  1,  4,  9, 16, 25, 36])"
      ]
     },
     "execution_count": 9,
     "metadata": {},
     "output_type": "execute_result"
    }
   ],
   "source": [
    "arr = np.arange(-2, 7)\n",
    "np.square(arr, arr)  # 通用函数并没有更改原有数组的值，如果需要更改原有数组的值，可以这样做\n",
    "arr"
   ]
  },
  {
   "cell_type": "code",
   "execution_count": null,
   "id": "b85f6361",
   "metadata": {},
   "outputs": [],
   "source": []
  }
 ],
 "metadata": {
  "kernelspec": {
   "display_name": "Python 3",
   "language": "python",
   "name": "python3"
  },
  "language_info": {
   "codemirror_mode": {
    "name": "ipython",
    "version": 3
   },
   "file_extension": ".py",
   "mimetype": "text/x-python",
   "name": "python",
   "nbconvert_exporter": "python",
   "pygments_lexer": "ipython3",
   "version": "3.7.3"
  }
 },
 "nbformat": 4,
 "nbformat_minor": 5
}
