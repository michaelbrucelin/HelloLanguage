{
 "cells": [
  {
   "cell_type": "code",
   "execution_count": 2,
   "id": "7f76a25e",
   "metadata": {},
   "outputs": [],
   "source": [
    "import numpy as np\n",
    "# 布尔索引与切片不同，返回的结果总是数据的拷贝（一个新的数组），而不是原数组的视图"
   ]
  },
  {
   "cell_type": "code",
   "execution_count": 5,
   "id": "e4b715d6",
   "metadata": {},
   "outputs": [
    {
     "data": {
      "text/plain": [
       "array([ True, False, False,  True, False, False, False])"
      ]
     },
     "execution_count": 5,
     "metadata": {},
     "output_type": "execute_result"
    }
   ],
   "source": [
    "names = np.array(['Bob', 'Joe', 'Will', 'Bob', 'Will', 'Joe', 'Joe'])\n",
    "names == 'Bob'  # == 也是可以向量化的，所以结果是一个数组"
   ]
  },
  {
   "cell_type": "code",
   "execution_count": 9,
   "id": "63f08c00",
   "metadata": {},
   "outputs": [
    {
     "data": {
      "text/plain": [
       "array([False,  True,  True, False,  True,  True,  True])"
      ]
     },
     "execution_count": 9,
     "metadata": {},
     "output_type": "execute_result"
    }
   ],
   "source": [
    "names != 'Bob'"
   ]
  },
  {
   "cell_type": "code",
   "execution_count": 6,
   "id": "15f2fcdb",
   "metadata": {},
   "outputs": [
    {
     "data": {
      "text/plain": [
       "array([[ 1.84972868, -0.85585618,  0.50448047, -0.4572456 ],\n",
       "       [-0.00923119,  0.27228254, -1.91686161, -0.92598438]])"
      ]
     },
     "execution_count": 6,
     "metadata": {},
     "output_type": "execute_result"
    }
   ],
   "source": [
    "data = np.random.randn(7, 4)  # 生成一个 7*4 的数组，假设names的每个人名都和data中的一行相对应\n",
    "data[names=='Bob']  # 结果就是对应的行"
   ]
  },
  {
   "cell_type": "code",
   "execution_count": 7,
   "id": "e968ed1e",
   "metadata": {},
   "outputs": [
    {
     "data": {
      "text/plain": [
       "array([[ 0.50448047, -0.4572456 ],\n",
       "       [-1.91686161, -0.92598438]])"
      ]
     },
     "execution_count": 7,
     "metadata": {},
     "output_type": "execute_result"
    }
   ],
   "source": [
    "data[names=='Bob', 2:]"
   ]
  },
  {
   "cell_type": "code",
   "execution_count": 8,
   "id": "b386a422",
   "metadata": {},
   "outputs": [
    {
     "data": {
      "text/plain": [
       "array([-0.4572456 , -0.92598438])"
      ]
     },
     "execution_count": 8,
     "metadata": {},
     "output_type": "execute_result"
    }
   ],
   "source": [
    "data[names=='Bob', 3]"
   ]
  },
  {
   "cell_type": "code",
   "execution_count": 10,
   "id": "858a1ab7",
   "metadata": {},
   "outputs": [
    {
     "data": {
      "text/plain": [
       "array([[-1.47730047,  0.14549192, -1.46203688,  0.55377789],\n",
       "       [ 0.65693158, -0.02083748, -1.49239285, -0.75485228],\n",
       "       [-0.47788109,  0.10138644,  0.42193838, -0.3339573 ],\n",
       "       [-0.16311116, -1.46782665,  1.6184682 , -0.26415843],\n",
       "       [-0.86385921,  0.48971784, -1.12547939,  0.12480623]])"
      ]
     },
     "execution_count": 10,
     "metadata": {},
     "output_type": "execute_result"
    }
   ],
   "source": [
    "data[names != 'Bob']"
   ]
  },
  {
   "cell_type": "code",
   "execution_count": 11,
   "id": "3b328ed1",
   "metadata": {},
   "outputs": [
    {
     "data": {
      "text/plain": [
       "array([[-1.47730047,  0.14549192, -1.46203688,  0.55377789],\n",
       "       [ 0.65693158, -0.02083748, -1.49239285, -0.75485228],\n",
       "       [-0.47788109,  0.10138644,  0.42193838, -0.3339573 ],\n",
       "       [-0.16311116, -1.46782665,  1.6184682 , -0.26415843],\n",
       "       [-0.86385921,  0.48971784, -1.12547939,  0.12480623]])"
      ]
     },
     "execution_count": 11,
     "metadata": {},
     "output_type": "execute_result"
    }
   ],
   "source": [
    "data[~(names == 'Bob')]"
   ]
  },
  {
   "cell_type": "code",
   "execution_count": 12,
   "id": "da6ee291",
   "metadata": {},
   "outputs": [
    {
     "data": {
      "text/plain": [
       "array([[-1.47730047,  0.14549192, -1.46203688,  0.55377789],\n",
       "       [ 0.65693158, -0.02083748, -1.49239285, -0.75485228],\n",
       "       [-0.47788109,  0.10138644,  0.42193838, -0.3339573 ],\n",
       "       [-0.16311116, -1.46782665,  1.6184682 , -0.26415843],\n",
       "       [-0.86385921,  0.48971784, -1.12547939,  0.12480623]])"
      ]
     },
     "execution_count": 12,
     "metadata": {},
     "output_type": "execute_result"
    }
   ],
   "source": [
    "cond = names == 'Bob'\n",
    "data[~cond]"
   ]
  },
  {
   "cell_type": "code",
   "execution_count": 13,
   "id": "82a1d39f",
   "metadata": {},
   "outputs": [
    {
     "data": {
      "text/plain": [
       "array([ True, False,  True,  True,  True, False, False])"
      ]
     },
     "execution_count": 13,
     "metadata": {},
     "output_type": "execute_result"
    }
   ],
   "source": [
    "mask = (names == 'Bob') | (names == 'Will')\n",
    "mask"
   ]
  },
  {
   "cell_type": "code",
   "execution_count": 14,
   "id": "af36a79a",
   "metadata": {},
   "outputs": [
    {
     "data": {
      "text/plain": [
       "array([[ 1.84972868, -0.85585618,  0.50448047, -0.4572456 ],\n",
       "       [ 0.65693158, -0.02083748, -1.49239285, -0.75485228],\n",
       "       [-0.00923119,  0.27228254, -1.91686161, -0.92598438],\n",
       "       [-0.47788109,  0.10138644,  0.42193838, -0.3339573 ]])"
      ]
     },
     "execution_count": 14,
     "metadata": {},
     "output_type": "execute_result"
    }
   ],
   "source": [
    "data[mask]"
   ]
  },
  {
   "cell_type": "code",
   "execution_count": 15,
   "id": "bb99f248",
   "metadata": {},
   "outputs": [
    {
     "data": {
      "text/plain": [
       "array([[1.84972868, 0.        , 0.50448047, 0.        ],\n",
       "       [0.        , 0.14549192, 0.        , 0.55377789],\n",
       "       [0.65693158, 0.        , 0.        , 0.        ],\n",
       "       [0.        , 0.27228254, 0.        , 0.        ],\n",
       "       [0.        , 0.10138644, 0.42193838, 0.        ],\n",
       "       [0.        , 0.        , 1.6184682 , 0.        ],\n",
       "       [0.        , 0.48971784, 0.        , 0.12480623]])"
      ]
     },
     "execution_count": 15,
     "metadata": {},
     "output_type": "execute_result"
    }
   ],
   "source": [
    "# 将data中所有的负值设置为0\n",
    "data[data<0] = 0\n",
    "data"
   ]
  },
  {
   "cell_type": "code",
   "execution_count": 16,
   "id": "f8cf0fa2",
   "metadata": {},
   "outputs": [
    {
     "data": {
      "text/plain": [
       "array([[7.        , 7.        , 7.        , 7.        ],\n",
       "       [0.        , 0.14549192, 0.        , 0.55377789],\n",
       "       [7.        , 7.        , 7.        , 7.        ],\n",
       "       [7.        , 7.        , 7.        , 7.        ],\n",
       "       [7.        , 7.        , 7.        , 7.        ],\n",
       "       [0.        , 0.        , 1.6184682 , 0.        ],\n",
       "       [0.        , 0.48971784, 0.        , 0.12480623]])"
      ]
     },
     "execution_count": 16,
     "metadata": {},
     "output_type": "execute_result"
    }
   ],
   "source": [
    "data[names != 'Joe'] = 7\n",
    "data"
   ]
  }
 ],
 "metadata": {
  "kernelspec": {
   "display_name": "Python 3",
   "language": "python",
   "name": "python3"
  },
  "language_info": {
   "codemirror_mode": {
    "name": "ipython",
    "version": 3
   },
   "file_extension": ".py",
   "mimetype": "text/x-python",
   "name": "python",
   "nbconvert_exporter": "python",
   "pygments_lexer": "ipython3",
   "version": "3.7.3"
  }
 },
 "nbformat": 4,
 "nbformat_minor": 5
}
