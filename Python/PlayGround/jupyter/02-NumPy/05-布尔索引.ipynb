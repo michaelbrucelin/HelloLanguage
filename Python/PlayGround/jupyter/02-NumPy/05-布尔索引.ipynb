{
 "cells": [
  {
   "cell_type": "code",
   "execution_count": 1,
   "id": "7f76a25e",
   "metadata": {},
   "outputs": [],
   "source": [
    "import numpy as np\n",
    "# 布尔索引与切片不同，返回的结果总是数据的拷贝（一个新的数组），而不是原数组的视图"
   ]
  },
  {
   "cell_type": "code",
   "execution_count": 2,
   "id": "e4b715d6",
   "metadata": {},
   "outputs": [
    {
     "data": {
      "text/plain": [
       "array([ True, False, False,  True, False, False, False])"
      ]
     },
     "execution_count": 2,
     "metadata": {},
     "output_type": "execute_result"
    }
   ],
   "source": [
    "names = np.array(['Bob', 'Joe', 'Will', 'Bob', 'Will', 'Joe', 'Joe'])\n",
    "names == 'Bob'  # == 也是可以向量化的，所以结果是一个数组"
   ]
  },
  {
   "cell_type": "code",
   "execution_count": 3,
   "id": "63f08c00",
   "metadata": {},
   "outputs": [
    {
     "data": {
      "text/plain": [
       "array([False,  True,  True, False,  True,  True,  True])"
      ]
     },
     "execution_count": 3,
     "metadata": {},
     "output_type": "execute_result"
    }
   ],
   "source": [
    "names != 'Bob'"
   ]
  },
  {
   "cell_type": "code",
   "execution_count": 4,
   "id": "15f2fcdb",
   "metadata": {},
   "outputs": [
    {
     "data": {
      "text/plain": [
       "array([[ 1.23305382, -1.14225616, -0.77872389, -0.71998641],\n",
       "       [ 0.59435921, -2.09856187, -0.21881508,  0.80519745]])"
      ]
     },
     "execution_count": 4,
     "metadata": {},
     "output_type": "execute_result"
    }
   ],
   "source": [
    "data = np.random.randn(7, 4)  # 生成一个 7*4 的数组，假设names的每个人名都和data中的一行相对应\n",
    "data[names=='Bob']  # 结果就是对应的行"
   ]
  },
  {
   "cell_type": "code",
   "execution_count": 5,
   "id": "e968ed1e",
   "metadata": {},
   "outputs": [
    {
     "data": {
      "text/plain": [
       "array([[-0.77872389, -0.71998641],\n",
       "       [-0.21881508,  0.80519745]])"
      ]
     },
     "execution_count": 5,
     "metadata": {},
     "output_type": "execute_result"
    }
   ],
   "source": [
    "data[names=='Bob', 2:]"
   ]
  },
  {
   "cell_type": "code",
   "execution_count": 6,
   "id": "b386a422",
   "metadata": {},
   "outputs": [
    {
     "data": {
      "text/plain": [
       "array([-0.71998641,  0.80519745])"
      ]
     },
     "execution_count": 6,
     "metadata": {},
     "output_type": "execute_result"
    }
   ],
   "source": [
    "data[names=='Bob', 3]"
   ]
  },
  {
   "cell_type": "code",
   "execution_count": 7,
   "id": "858a1ab7",
   "metadata": {},
   "outputs": [
    {
     "data": {
      "text/plain": [
       "array([[-0.61815629, -0.49173547, -1.60530324,  0.76720814],\n",
       "       [ 0.1808953 , -0.72225032, -1.53012066, -0.24985851],\n",
       "       [ 1.31524326,  0.70751654,  0.48863911,  1.11010761],\n",
       "       [-0.35787644,  0.79271724, -1.22031861,  0.58500956],\n",
       "       [ 0.50562878,  1.13105251, -0.5685474 ,  1.11971173]])"
      ]
     },
     "execution_count": 7,
     "metadata": {},
     "output_type": "execute_result"
    }
   ],
   "source": [
    "data[names != 'Bob']"
   ]
  },
  {
   "cell_type": "code",
   "execution_count": 8,
   "id": "3b328ed1",
   "metadata": {},
   "outputs": [
    {
     "data": {
      "text/plain": [
       "array([[-0.61815629, -0.49173547, -1.60530324,  0.76720814],\n",
       "       [ 0.1808953 , -0.72225032, -1.53012066, -0.24985851],\n",
       "       [ 1.31524326,  0.70751654,  0.48863911,  1.11010761],\n",
       "       [-0.35787644,  0.79271724, -1.22031861,  0.58500956],\n",
       "       [ 0.50562878,  1.13105251, -0.5685474 ,  1.11971173]])"
      ]
     },
     "execution_count": 8,
     "metadata": {},
     "output_type": "execute_result"
    }
   ],
   "source": [
    "data[~(names == 'Bob')]"
   ]
  },
  {
   "cell_type": "code",
   "execution_count": 9,
   "id": "da6ee291",
   "metadata": {},
   "outputs": [
    {
     "data": {
      "text/plain": [
       "array([[-0.61815629, -0.49173547, -1.60530324,  0.76720814],\n",
       "       [ 0.1808953 , -0.72225032, -1.53012066, -0.24985851],\n",
       "       [ 1.31524326,  0.70751654,  0.48863911,  1.11010761],\n",
       "       [-0.35787644,  0.79271724, -1.22031861,  0.58500956],\n",
       "       [ 0.50562878,  1.13105251, -0.5685474 ,  1.11971173]])"
      ]
     },
     "execution_count": 9,
     "metadata": {},
     "output_type": "execute_result"
    }
   ],
   "source": [
    "cond = names == 'Bob'\n",
    "data[~cond]"
   ]
  },
  {
   "cell_type": "code",
   "execution_count": 10,
   "id": "82a1d39f",
   "metadata": {},
   "outputs": [
    {
     "data": {
      "text/plain": [
       "array([ True, False,  True,  True,  True, False, False])"
      ]
     },
     "execution_count": 10,
     "metadata": {},
     "output_type": "execute_result"
    }
   ],
   "source": [
    "mask = (names == 'Bob') | (names == 'Will')\n",
    "mask"
   ]
  },
  {
   "cell_type": "code",
   "execution_count": 11,
   "id": "af36a79a",
   "metadata": {},
   "outputs": [
    {
     "data": {
      "text/plain": [
       "array([[ 1.23305382, -1.14225616, -0.77872389, -0.71998641],\n",
       "       [ 0.1808953 , -0.72225032, -1.53012066, -0.24985851],\n",
       "       [ 0.59435921, -2.09856187, -0.21881508,  0.80519745],\n",
       "       [ 1.31524326,  0.70751654,  0.48863911,  1.11010761]])"
      ]
     },
     "execution_count": 11,
     "metadata": {},
     "output_type": "execute_result"
    }
   ],
   "source": [
    "data[mask]"
   ]
  },
  {
   "cell_type": "code",
   "execution_count": 12,
   "id": "bb99f248",
   "metadata": {},
   "outputs": [
    {
     "data": {
      "text/plain": [
       "array([[1.23305382, 0.        , 0.        , 0.        ],\n",
       "       [0.        , 0.        , 0.        , 0.76720814],\n",
       "       [0.1808953 , 0.        , 0.        , 0.        ],\n",
       "       [0.59435921, 0.        , 0.        , 0.80519745],\n",
       "       [1.31524326, 0.70751654, 0.48863911, 1.11010761],\n",
       "       [0.        , 0.79271724, 0.        , 0.58500956],\n",
       "       [0.50562878, 1.13105251, 0.        , 1.11971173]])"
      ]
     },
     "execution_count": 12,
     "metadata": {},
     "output_type": "execute_result"
    }
   ],
   "source": [
    "# 将data中所有的负值设置为0\n",
    "data[data<0] = 0\n",
    "data"
   ]
  },
  {
   "cell_type": "code",
   "execution_count": 13,
   "id": "f8cf0fa2",
   "metadata": {},
   "outputs": [
    {
     "data": {
      "text/plain": [
       "array([[7.        , 7.        , 7.        , 7.        ],\n",
       "       [0.        , 0.        , 0.        , 0.76720814],\n",
       "       [7.        , 7.        , 7.        , 7.        ],\n",
       "       [7.        , 7.        , 7.        , 7.        ],\n",
       "       [7.        , 7.        , 7.        , 7.        ],\n",
       "       [0.        , 0.79271724, 0.        , 0.58500956],\n",
       "       [0.50562878, 1.13105251, 0.        , 1.11971173]])"
      ]
     },
     "execution_count": 13,
     "metadata": {},
     "output_type": "execute_result"
    }
   ],
   "source": [
    "data[names != 'Joe'] = 7\n",
    "data"
   ]
  },
  {
   "cell_type": "code",
   "execution_count": null,
   "id": "246809fd",
   "metadata": {},
   "outputs": [],
   "source": []
  }
 ],
 "metadata": {
  "kernelspec": {
   "display_name": "Python 3",
   "language": "python",
   "name": "python3"
  },
  "language_info": {
   "codemirror_mode": {
    "name": "ipython",
    "version": 3
   },
   "file_extension": ".py",
   "mimetype": "text/x-python",
   "name": "python",
   "nbconvert_exporter": "python",
   "pygments_lexer": "ipython3",
   "version": "3.7.3"
  }
 },
 "nbformat": 4,
 "nbformat_minor": 5
}
