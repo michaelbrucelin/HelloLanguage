{
 "cells": [
  {
   "cell_type": "code",
   "execution_count": 1,
   "id": "44b4c5c4",
   "metadata": {},
   "outputs": [],
   "source": [
    "import numpy as np\n",
    "import pandas as pd\n",
    "import matplotlib.pyplot as plt"
   ]
  },
  {
   "cell_type": "markdown",
   "id": "20a25105",
   "metadata": {},
   "source": [
    "### 1. numpy.random.rand()\n",
    "\n",
    "numpy.random.rand(d0, d1, …, dn)\n",
    "- rand函数根据给定维度生成[0, 1)之间的数据\n",
    "- dn表示每个维度\n",
    "- 返回值为指定维度的array"
   ]
  },
  {
   "cell_type": "code",
   "execution_count": 2,
   "id": "f72a060f",
   "metadata": {},
   "outputs": [
    {
     "data": {
      "text/plain": [
       "array([[0.64187127, 0.16879489, 0.05896359, 0.65001722],\n",
       "       [0.70103247, 0.84932578, 0.38105484, 0.85075995],\n",
       "       [0.40843969, 0.42196029, 0.04349731, 0.56695265]])"
      ]
     },
     "execution_count": 2,
     "metadata": {},
     "output_type": "execute_result"
    }
   ],
   "source": [
    "np.random.rand(3, 4)"
   ]
  },
  {
   "cell_type": "code",
   "execution_count": 3,
   "id": "a8b6ec50",
   "metadata": {},
   "outputs": [
    {
     "data": {
      "text/plain": [
       "array([[[0.84871906, 0.54129695, 0.95852663, 0.45277871],\n",
       "        [0.63560563, 0.16464007, 0.10891437, 0.95528538],\n",
       "        [0.41333255, 0.31241563, 0.19829334, 0.15629672]],\n",
       "\n",
       "       [[0.05924775, 0.16667177, 0.84008856, 0.4214843 ],\n",
       "        [0.44009858, 0.11253956, 0.16589744, 0.92665323],\n",
       "        [0.85952062, 0.98849685, 0.79010356, 0.9214918 ]]])"
      ]
     },
     "execution_count": 3,
     "metadata": {},
     "output_type": "execute_result"
    }
   ],
   "source": [
    "np.random.rand(2, 3, 4)"
   ]
  },
  {
   "cell_type": "markdown",
   "id": "103cf9c2",
   "metadata": {},
   "source": [
    "### 2. numpy.random.randn()\n",
    "\n",
    "numpy.random.randn(d0, d1, …, dn)\n",
    "- randn函数返回一个或一组样本，具有标准正态分布。\n",
    "- dn表示每个维度\n",
    "- 返回值为指定维度的array\n",
    "\n",
    "标准正态分布介绍\n",
    "- 标准正态分布——standard normal distribution\n",
    "- 标准正态分布又称为u分布，是以0为均值、以1为标准差的正态分布，记为N(0, 1)。"
   ]
  },
  {
   "cell_type": "code",
   "execution_count": 4,
   "id": "ebf44cc2",
   "metadata": {},
   "outputs": [
    {
     "data": {
      "text/plain": [
       "array([[-0.06142066,  0.871221  ,  1.76568362, -0.53816431],\n",
       "       [ 1.69668154,  1.41519296,  0.01175847,  0.31070946],\n",
       "       [-0.59932108,  2.02763487,  0.33461646,  0.61706808]])"
      ]
     },
     "execution_count": 4,
     "metadata": {},
     "output_type": "execute_result"
    }
   ],
   "source": [
    "np.random.randn(3, 4)"
   ]
  },
  {
   "cell_type": "code",
   "execution_count": 5,
   "id": "bf37a45f",
   "metadata": {},
   "outputs": [
    {
     "data": {
      "text/plain": [
       "array([[[ 0.60529116, -0.24637723, -1.05593973,  1.32571108],\n",
       "        [-0.71297982,  1.07925064, -0.07031819, -0.6927889 ],\n",
       "        [-3.05256708,  1.04331259, -1.1679736 , -0.97527986]],\n",
       "\n",
       "       [[ 0.57841124, -2.36483328,  0.38286465,  0.05272806],\n",
       "        [ 0.32764239, -0.6630138 , -2.7211279 ,  0.24494184],\n",
       "        [ 0.896817  ,  0.55442119, -0.38139751, -0.19086462]]])"
      ]
     },
     "execution_count": 5,
     "metadata": {},
     "output_type": "execute_result"
    }
   ],
   "source": [
    "np.random.randn(2, 3, 4)"
   ]
  },
  {
   "cell_type": "markdown",
   "id": "7a39a4c7",
   "metadata": {},
   "source": [
    "### 3. numpy.random.randint()\n",
    "\n",
    "#### 3.1 numpy.random.randint()\n",
    "\n",
    "numpy.random.randint(low, high=None, size=None, dtype=’l’)\n",
    "\n",
    "- 返回随机整数，范围区间为[low, high)\n",
    "- 参数：low为最小值，high为最大值，size为数组维度大小，dtype为数据类型，默认的数据类型是np.int\n",
    "- high没有填写时，默认生成随机数的范围是[0, low)"
   ]
  },
  {
   "cell_type": "code",
   "execution_count": 6,
   "id": "dd8ee264",
   "metadata": {},
   "outputs": [
    {
     "data": {
      "text/plain": [
       "array([0, 0, 0, 0, 0])"
      ]
     },
     "execution_count": 6,
     "metadata": {},
     "output_type": "execute_result"
    }
   ],
   "source": [
    "np.random.randint(1, size=5)  # 返回[0, 1)之间的整数，所以只有0"
   ]
  },
  {
   "cell_type": "code",
   "execution_count": 7,
   "id": "28ffde70",
   "metadata": {},
   "outputs": [
    {
     "data": {
      "text/plain": [
       "3"
      ]
     },
     "execution_count": 7,
     "metadata": {},
     "output_type": "execute_result"
    }
   ],
   "source": [
    "np.random.randint(1, 5)       # 返回1个[1, 5)之间的随机整数"
   ]
  },
  {
   "cell_type": "code",
   "execution_count": 8,
   "id": "f93a5f72",
   "metadata": {},
   "outputs": [
    {
     "data": {
      "text/plain": [
       "array([[-5, -2],\n",
       "       [-2, -5]])"
      ]
     },
     "execution_count": 8,
     "metadata": {},
     "output_type": "execute_result"
    }
   ],
   "source": [
    "np.random.randint(-5, 5, size=(2,2))"
   ]
  },
  {
   "cell_type": "markdown",
   "id": "f53af18f",
   "metadata": {},
   "source": [
    "#### 3.2 numpy.random.random_integers\n",
    "\n",
    "numpy.random.random_integers(low, high=None, size=None)\n",
    "- 返回随机整数，范围区间为[low, high]\n",
    "- 参数：low为最小值，high为最大值，size为数组维度大小\n",
    "- high没有填写时，默认生成随机数的范围是[1, low]\n",
    "\n",
    "该函数在最新的numpy版本中已被替代，建议使用randint函数"
   ]
  },
  {
   "cell_type": "code",
   "execution_count": 9,
   "id": "375ce350",
   "metadata": {},
   "outputs": [
    {
     "name": "stderr",
     "output_type": "stream",
     "text": [
      "/usr/local/lib/python3.7/dist-packages/ipykernel_launcher.py:1: DeprecationWarning: This function is deprecated. Please call randint(1, 1 + 1) instead\n",
      "  \"\"\"Entry point for launching an IPython kernel.\n"
     ]
    },
    {
     "data": {
      "text/plain": [
       "array([1, 1, 1, 1, 1])"
      ]
     },
     "execution_count": 9,
     "metadata": {},
     "output_type": "execute_result"
    }
   ],
   "source": [
    "np.random.random_integers(1, size=5)"
   ]
  },
  {
   "cell_type": "markdown",
   "id": "e09cc40e",
   "metadata": {},
   "source": [
    "### 4. 生成[0, 1)之间的浮点数\n",
    "\n",
    "- numpy.random.random_sample(size=None)\n",
    "- numpy.random.random(size=None)\n",
    "- numpy.random.ranf(size=None)\n",
    "- numpy.random.sample(size=None)"
   ]
  },
  {
   "cell_type": "code",
   "execution_count": 10,
   "id": "5fe5aed3",
   "metadata": {},
   "outputs": [
    {
     "name": "stdout",
     "output_type": "stream",
     "text": [
      "---------- random_sample ----------\n",
      "[[0.26294807 0.6344386 ]\n",
      " [0.90584778 0.61906136]]\n",
      "----------    random     ----------\n",
      "[[0.57885931 0.93922072]\n",
      " [0.56413863 0.38910148]]\n",
      "----------     ranf      ----------\n",
      "[[0.48218566 0.44484948]\n",
      " [0.04890879 0.72096341]]\n",
      "----------    sample     ----------\n",
      "[[0.84167044 0.78361446]\n",
      " [0.08046437 0.49651845]]\n"
     ]
    }
   ],
   "source": [
    "print('---------- random_sample ----------')\n",
    "print(np.random.random_sample(size=(2,2)))\n",
    "print('----------    random     ----------')\n",
    "print(np.random.random(size=(2,2)))\n",
    "print('----------     ranf      ----------')\n",
    "print(np.random.ranf(size=(2,2)))\n",
    "print('----------    sample     ----------')\n",
    "print(np.random.sample(size=(2,2)))"
   ]
  },
  {
   "cell_type": "markdown",
   "id": "99a4ade0",
   "metadata": {},
   "source": [
    "### 5. numpy.random.choice()\n",
    "\n",
    "numpy.random.choice(a, size=None, replace=True, p=None)\n",
    "- 从给定的一维数组中生成随机数\n",
    "- 参数：a为一维数组类似数据或整数；size为数组维度；p为数组中的数据出现的概率\n",
    "- a为整数时，对应的一维数组为np.arange(a)"
   ]
  },
  {
   "cell_type": "code",
   "execution_count": 11,
   "id": "05c0edbd",
   "metadata": {},
   "outputs": [
    {
     "data": {
      "text/plain": [
       "array([2, 1, 4])"
      ]
     },
     "execution_count": 11,
     "metadata": {},
     "output_type": "execute_result"
    }
   ],
   "source": [
    "np.random.choice(5, 3)"
   ]
  },
  {
   "cell_type": "code",
   "execution_count": 12,
   "id": "acac3681",
   "metadata": {},
   "outputs": [
    {
     "data": {
      "text/plain": [
       "array([2, 3, 0])"
      ]
     },
     "execution_count": 12,
     "metadata": {},
     "output_type": "execute_result"
    }
   ],
   "source": [
    "np.random.choice(5, 3, replace=False)  # 当replace为False时，生成的随机数不能有重复的数值"
   ]
  },
  {
   "cell_type": "code",
   "execution_count": 13,
   "id": "9d37dc1a",
   "metadata": {},
   "outputs": [
    {
     "data": {
      "text/plain": [
       "array([[1, 4, 0, 0],\n",
       "       [2, 1, 3, 0],\n",
       "       [4, 2, 1, 4]])"
      ]
     },
     "execution_count": 13,
     "metadata": {},
     "output_type": "execute_result"
    }
   ],
   "source": [
    "np.random.choice(5, size=(3, 4))"
   ]
  },
  {
   "cell_type": "code",
   "execution_count": 14,
   "id": "4dc8f43d",
   "metadata": {},
   "outputs": [
    {
     "data": {
      "text/plain": [
       "array([['oppo', 'nokia', 'oppo'],\n",
       "       ['huawei', 'moto', 'huawei'],\n",
       "       ['huawei', 'vivo', 'moto']], dtype='<U6')"
      ]
     },
     "execution_count": 14,
     "metadata": {},
     "output_type": "execute_result"
    }
   ],
   "source": [
    "demo_list = ['huawei', 'xiaomi', 'oppo', 'vivo', 'nokia', 'moto']\n",
    "np.random.choice(demo_list, size=(3,3))"
   ]
  },
  {
   "cell_type": "markdown",
   "id": "91c6e4ae",
   "metadata": {},
   "source": [
    "- 参数p的长度与参数a的长度需要一致\n",
    "- 参数p为概率，p里的数据之和应为1"
   ]
  },
  {
   "cell_type": "code",
   "execution_count": 15,
   "id": "a5ae27a6",
   "metadata": {},
   "outputs": [
    {
     "data": {
      "text/plain": [
       "array([['oppo', 'vivo', 'oppo'],\n",
       "       ['vivo', 'xiaomi', 'huawei'],\n",
       "       ['xiaomi', 'vivo', 'moto']], dtype='<U6')"
      ]
     },
     "execution_count": 15,
     "metadata": {},
     "output_type": "execute_result"
    }
   ],
   "source": [
    "demo_list = ['huawei', 'xiaomi', 'oppo', 'vivo', 'nokia', 'moto']\n",
    "p_list = [0.1, 0.5, 0.1, 0.1, 0.1, 0.1]\n",
    "np.random.choice(demo_list, size=(3,3), p=p_list)"
   ]
  },
  {
   "cell_type": "markdown",
   "id": "005896ec",
   "metadata": {},
   "source": [
    "### 6. numpy.random.seed()\n",
    "- np.random.seed()的作用：使得随机数据可预测。\n",
    "- 当我们设置相同的seed，每次生成的随机数相同。如果不设置seed，则每次会生成不同的随机数"
   ]
  },
  {
   "cell_type": "code",
   "execution_count": 16,
   "id": "d29fee92",
   "metadata": {},
   "outputs": [
    {
     "data": {
      "text/plain": [
       "array([0.39983389, 0.29426895, 0.89541728, 0.71807369, 0.3531823 ])"
      ]
     },
     "execution_count": 16,
     "metadata": {},
     "output_type": "execute_result"
    }
   ],
   "source": [
    "np.random.seed(1676)\n",
    "np.random.rand(5)"
   ]
  },
  {
   "cell_type": "code",
   "execution_count": 17,
   "id": "a53cd9af",
   "metadata": {},
   "outputs": [
    {
     "data": {
      "text/plain": [
       "array([0.5488135 , 0.71518937, 0.60276338, 0.54488318, 0.4236548 ])"
      ]
     },
     "execution_count": 17,
     "metadata": {},
     "output_type": "execute_result"
    }
   ],
   "source": [
    "np.random.seed(0)\n",
    "np.random.rand(5)"
   ]
  },
  {
   "cell_type": "code",
   "execution_count": 18,
   "id": "0da5407a",
   "metadata": {},
   "outputs": [
    {
     "data": {
      "text/plain": [
       "array([0.39983389, 0.29426895, 0.89541728, 0.71807369, 0.3531823 ])"
      ]
     },
     "execution_count": 18,
     "metadata": {},
     "output_type": "execute_result"
    }
   ],
   "source": [
    "np.random.seed(1676)\n",
    "np.random.rand(5)"
   ]
  },
  {
   "cell_type": "code",
   "execution_count": null,
   "id": "09402929",
   "metadata": {},
   "outputs": [],
   "source": []
  }
 ],
 "metadata": {
  "kernelspec": {
   "display_name": "Python 3",
   "language": "python",
   "name": "python3"
  },
  "language_info": {
   "codemirror_mode": {
    "name": "ipython",
    "version": 3
   },
   "file_extension": ".py",
   "mimetype": "text/x-python",
   "name": "python",
   "nbconvert_exporter": "python",
   "pygments_lexer": "ipython3",
   "version": "3.7.3"
  }
 },
 "nbformat": 4,
 "nbformat_minor": 5
}
