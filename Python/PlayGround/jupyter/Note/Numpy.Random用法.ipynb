{
 "cells": [
  {
   "cell_type": "code",
   "execution_count": 1,
   "id": "44b4c5c4",
   "metadata": {},
   "outputs": [],
   "source": [
    "import numpy as np\n",
    "import pandas as pd\n",
    "import matplotlib.pyplot as plt"
   ]
  },
  {
   "cell_type": "markdown",
   "id": "20a25105",
   "metadata": {},
   "source": [
    "### 1. numpy.random.rand()\n",
    "\n",
    "numpy.random.rand(d0, d1, …, dn)\n",
    "- rand函数根据给定维度生成[0,1)之间的数据，包含0，不包含1\n",
    "- dn表格每个维度\n",
    "- 返回值为指定维度的array"
   ]
  },
  {
   "cell_type": "code",
   "execution_count": null,
   "id": "f72a060f",
   "metadata": {},
   "outputs": [],
   "source": []
  },
  {
   "cell_type": "markdown",
   "id": "103cf9c2",
   "metadata": {},
   "source": [
    "### 2. numpy.random.randn()\n",
    "\n",
    "numpy.random.randn(d0, d1, …, dn)\n",
    "- randn函数返回一个或一组样本，具有标准正态分布。\n",
    "- dn表格每个维度\n",
    "- 返回值为指定维度的array\n",
    "- np.random.randn()  # 当没有参数时，返回单个数据\n",
    "\n",
    "标准正态分布介绍\n",
    "- 标准正态分布—-standard normal distribution\n",
    "- 标准正态分布又称为u分布，是以0为均值、以1为标准差的正态分布，记为N（0，1）。"
   ]
  },
  {
   "cell_type": "code",
   "execution_count": null,
   "id": "ebf44cc2",
   "metadata": {},
   "outputs": [],
   "source": []
  },
  {
   "cell_type": "markdown",
   "id": "7a39a4c7",
   "metadata": {},
   "source": [
    "### 3. numpy.random.randint()\n",
    "\n",
    "#### 3.1 numpy.random.randint()\n",
    "\n",
    "numpy.random.randint(low, high=None, size=None, dtype=’l’)\n",
    "\n",
    "- 返回随机整数，范围区间为[low,high），包含low，不包含high\n",
    "- 参数：low为最小值，high为最大值，size为数组维度大小，dtype为数据类型，默认的数据类型是http://np.int\n",
    "- high没有填写时，默认生成随机数的范围是[0，low)"
   ]
  },
  {
   "cell_type": "code",
   "execution_count": 2,
   "id": "dd8ee264",
   "metadata": {},
   "outputs": [
    {
     "data": {
      "text/plain": [
       "array([0, 0, 0, 0, 0])"
      ]
     },
     "execution_count": 2,
     "metadata": {},
     "output_type": "execute_result"
    }
   ],
   "source": [
    "np.random.randint(1,size=5)  # 返回[0,1)之间的整数，所以只有0"
   ]
  },
  {
   "cell_type": "markdown",
   "id": "f53af18f",
   "metadata": {},
   "source": [
    "#### 3.2 numpy.random.random_integers\n",
    "\n",
    "numpy.random.random_integers(low, high=None, size=None)\n",
    "- 返回随机整数，范围区间为[low,high]，包含low和high\n",
    "- 参数：low为最小值，high为最大值，size为数组维度大小\n",
    "- high没有填写时，默认生成随机数的范围是[1，low]\n",
    "\n",
    "该函数在最新的numpy版本中已被替代，建议使用randint函数"
   ]
  },
  {
   "cell_type": "code",
   "execution_count": 3,
   "id": "375ce350",
   "metadata": {},
   "outputs": [
    {
     "name": "stderr",
     "output_type": "stream",
     "text": [
      "/usr/local/lib/python3.7/dist-packages/ipykernel_launcher.py:1: DeprecationWarning: This function is deprecated. Please call randint(1, 1 + 1) instead\n",
      "  \"\"\"Entry point for launching an IPython kernel.\n"
     ]
    },
    {
     "data": {
      "text/plain": [
       "array([1, 1, 1, 1, 1])"
      ]
     },
     "execution_count": 3,
     "metadata": {},
     "output_type": "execute_result"
    }
   ],
   "source": [
    "np.random.random_integers(1, size=5)"
   ]
  },
  {
   "cell_type": "markdown",
   "id": "e09cc40e",
   "metadata": {},
   "source": [
    "### 4. 生成[0,1)之间的浮点数\n",
    "\n",
    "- numpy.random.random_sample(size=None)\n",
    "- numpy.random.random(size=None)\n",
    "- numpy.random.ranf(size=None)\n",
    "- numpy.random.sample(size=None)"
   ]
  },
  {
   "cell_type": "code",
   "execution_count": null,
   "id": "5fe5aed3",
   "metadata": {},
   "outputs": [],
   "source": []
  },
  {
   "cell_type": "markdown",
   "id": "99a4ade0",
   "metadata": {},
   "source": [
    "### 5. numpy.random.choice()\n",
    "\n",
    "numpy.random.choice(a, size=None, replace=True, p=None)\n",
    "- 从给定的一维数组中生成随机数\n",
    "- 参数：a为一维数组类似数据或整数；size为数组维度；p为数组中的数据出现的概率\n",
    "- a为整数时，对应的一维数组为np.arange(a)"
   ]
  },
  {
   "cell_type": "code",
   "execution_count": null,
   "id": "05c0edbd",
   "metadata": {},
   "outputs": [],
   "source": []
  },
  {
   "cell_type": "markdown",
   "id": "005896ec",
   "metadata": {},
   "source": [
    "### 6. numpy.random.seed()\n",
    "- np.random.seed()的作用：使得随机数据可预测。\n",
    "- 当我们设置相同的seed，每次生成的随机数相同。如果不设置seed，则每次会生成不同的随机数"
   ]
  },
  {
   "cell_type": "code",
   "execution_count": null,
   "id": "d29fee92",
   "metadata": {},
   "outputs": [],
   "source": []
  }
 ],
 "metadata": {
  "kernelspec": {
   "display_name": "Python 3",
   "language": "python",
   "name": "python3"
  },
  "language_info": {
   "codemirror_mode": {
    "name": "ipython",
    "version": 3
   },
   "file_extension": ".py",
   "mimetype": "text/x-python",
   "name": "python",
   "nbconvert_exporter": "python",
   "pygments_lexer": "ipython3",
   "version": "3.7.3"
  }
 },
 "nbformat": 4,
 "nbformat_minor": 5
}
